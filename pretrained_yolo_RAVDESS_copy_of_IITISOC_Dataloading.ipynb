{
  "cells": [
    {
      "cell_type": "markdown",
      "metadata": {
        "id": "view-in-github",
        "colab_type": "text"
      },
      "source": [
        "<a href=\"https://colab.research.google.com/github/arnavjain2710/IITISoC24-ML-36/blob/main/pretrained_yolo_RAVDESS_copy_of_IITISOC_Dataloading.ipynb\" target=\"_parent\"><img src=\"https://colab.research.google.com/assets/colab-badge.svg\" alt=\"Open In Colab\"/></a>"
      ]
    },
    {
      "cell_type": "markdown",
      "metadata": {
        "id": "zOhwl38bKA7h"
      },
      "source": [
        "To load: if the files section isn't empty\n",
        "First rename tess toronto---- ko underscore se seperate karke rename kardo\n",
        "TESS Toronto wale ko bhi underscore se seperate karke rename karna hai after u run the first cell, jo upload hoga usme underscore nhi hoga because\n",
        "create a folder called 'ravdess' in the content section"
      ]
    },
    {
      "cell_type": "markdown",
      "metadata": {
        "id": "-RjcRikhSELK"
      },
      "source": [
        "Firstly loading the datasets from kaggle, as these are too huge to be stored on computer"
      ]
    },
    {
      "cell_type": "code",
      "execution_count": null,
      "metadata": {
        "id": "nDVI6cm1CTyJ"
      },
      "outputs": [],
      "source": [
        "! rm -rf ALL\n",
        "! rm -rf AudioWAV\n",
        "! rm -rf ravdess\n",
        "! rm -rf audio_speech_actors_01-24\n",
        "! rm -rf TESS_Toronto_emotional_speech_set_data\n",
        "! rm -rf tess_toronto_emotional_speech_set_data\n",
        "# name all folders as it has to be run before each iteration"
      ]
    },
    {
      "cell_type": "code",
      "execution_count": null,
      "metadata": {
        "colab": {
          "base_uri": "https://localhost:8080/",
          "height": 90
        },
        "id": "Jm4Bk4gY-PhU",
        "outputId": "1812d060-4f0b-41d7-d456-355e6652d7b8"
      },
      "outputs": [
        {
          "output_type": "display_data",
          "data": {
            "text/plain": [
              "<IPython.core.display.HTML object>"
            ],
            "text/html": [
              "\n",
              "     <input type=\"file\" id=\"files-28f504a6-7b2e-4359-a3e8-32fd71981e28\" name=\"files[]\" multiple disabled\n",
              "        style=\"border:none\" />\n",
              "     <output id=\"result-28f504a6-7b2e-4359-a3e8-32fd71981e28\">\n",
              "      Upload widget is only available when the cell has been executed in the\n",
              "      current browser session. Please rerun this cell to enable.\n",
              "      </output>\n",
              "      <script>// Copyright 2017 Google LLC\n",
              "//\n",
              "// Licensed under the Apache License, Version 2.0 (the \"License\");\n",
              "// you may not use this file except in compliance with the License.\n",
              "// You may obtain a copy of the License at\n",
              "//\n",
              "//      http://www.apache.org/licenses/LICENSE-2.0\n",
              "//\n",
              "// Unless required by applicable law or agreed to in writing, software\n",
              "// distributed under the License is distributed on an \"AS IS\" BASIS,\n",
              "// WITHOUT WARRANTIES OR CONDITIONS OF ANY KIND, either express or implied.\n",
              "// See the License for the specific language governing permissions and\n",
              "// limitations under the License.\n",
              "\n",
              "/**\n",
              " * @fileoverview Helpers for google.colab Python module.\n",
              " */\n",
              "(function(scope) {\n",
              "function span(text, styleAttributes = {}) {\n",
              "  const element = document.createElement('span');\n",
              "  element.textContent = text;\n",
              "  for (const key of Object.keys(styleAttributes)) {\n",
              "    element.style[key] = styleAttributes[key];\n",
              "  }\n",
              "  return element;\n",
              "}\n",
              "\n",
              "// Max number of bytes which will be uploaded at a time.\n",
              "const MAX_PAYLOAD_SIZE = 100 * 1024;\n",
              "\n",
              "function _uploadFiles(inputId, outputId) {\n",
              "  const steps = uploadFilesStep(inputId, outputId);\n",
              "  const outputElement = document.getElementById(outputId);\n",
              "  // Cache steps on the outputElement to make it available for the next call\n",
              "  // to uploadFilesContinue from Python.\n",
              "  outputElement.steps = steps;\n",
              "\n",
              "  return _uploadFilesContinue(outputId);\n",
              "}\n",
              "\n",
              "// This is roughly an async generator (not supported in the browser yet),\n",
              "// where there are multiple asynchronous steps and the Python side is going\n",
              "// to poll for completion of each step.\n",
              "// This uses a Promise to block the python side on completion of each step,\n",
              "// then passes the result of the previous step as the input to the next step.\n",
              "function _uploadFilesContinue(outputId) {\n",
              "  const outputElement = document.getElementById(outputId);\n",
              "  const steps = outputElement.steps;\n",
              "\n",
              "  const next = steps.next(outputElement.lastPromiseValue);\n",
              "  return Promise.resolve(next.value.promise).then((value) => {\n",
              "    // Cache the last promise value to make it available to the next\n",
              "    // step of the generator.\n",
              "    outputElement.lastPromiseValue = value;\n",
              "    return next.value.response;\n",
              "  });\n",
              "}\n",
              "\n",
              "/**\n",
              " * Generator function which is called between each async step of the upload\n",
              " * process.\n",
              " * @param {string} inputId Element ID of the input file picker element.\n",
              " * @param {string} outputId Element ID of the output display.\n",
              " * @return {!Iterable<!Object>} Iterable of next steps.\n",
              " */\n",
              "function* uploadFilesStep(inputId, outputId) {\n",
              "  const inputElement = document.getElementById(inputId);\n",
              "  inputElement.disabled = false;\n",
              "\n",
              "  const outputElement = document.getElementById(outputId);\n",
              "  outputElement.innerHTML = '';\n",
              "\n",
              "  const pickedPromise = new Promise((resolve) => {\n",
              "    inputElement.addEventListener('change', (e) => {\n",
              "      resolve(e.target.files);\n",
              "    });\n",
              "  });\n",
              "\n",
              "  const cancel = document.createElement('button');\n",
              "  inputElement.parentElement.appendChild(cancel);\n",
              "  cancel.textContent = 'Cancel upload';\n",
              "  const cancelPromise = new Promise((resolve) => {\n",
              "    cancel.onclick = () => {\n",
              "      resolve(null);\n",
              "    };\n",
              "  });\n",
              "\n",
              "  // Wait for the user to pick the files.\n",
              "  const files = yield {\n",
              "    promise: Promise.race([pickedPromise, cancelPromise]),\n",
              "    response: {\n",
              "      action: 'starting',\n",
              "    }\n",
              "  };\n",
              "\n",
              "  cancel.remove();\n",
              "\n",
              "  // Disable the input element since further picks are not allowed.\n",
              "  inputElement.disabled = true;\n",
              "\n",
              "  if (!files) {\n",
              "    return {\n",
              "      response: {\n",
              "        action: 'complete',\n",
              "      }\n",
              "    };\n",
              "  }\n",
              "\n",
              "  for (const file of files) {\n",
              "    const li = document.createElement('li');\n",
              "    li.append(span(file.name, {fontWeight: 'bold'}));\n",
              "    li.append(span(\n",
              "        `(${file.type || 'n/a'}) - ${file.size} bytes, ` +\n",
              "        `last modified: ${\n",
              "            file.lastModifiedDate ? file.lastModifiedDate.toLocaleDateString() :\n",
              "                                    'n/a'} - `));\n",
              "    const percent = span('0% done');\n",
              "    li.appendChild(percent);\n",
              "\n",
              "    outputElement.appendChild(li);\n",
              "\n",
              "    const fileDataPromise = new Promise((resolve) => {\n",
              "      const reader = new FileReader();\n",
              "      reader.onload = (e) => {\n",
              "        resolve(e.target.result);\n",
              "      };\n",
              "      reader.readAsArrayBuffer(file);\n",
              "    });\n",
              "    // Wait for the data to be ready.\n",
              "    let fileData = yield {\n",
              "      promise: fileDataPromise,\n",
              "      response: {\n",
              "        action: 'continue',\n",
              "      }\n",
              "    };\n",
              "\n",
              "    // Use a chunked sending to avoid message size limits. See b/62115660.\n",
              "    let position = 0;\n",
              "    do {\n",
              "      const length = Math.min(fileData.byteLength - position, MAX_PAYLOAD_SIZE);\n",
              "      const chunk = new Uint8Array(fileData, position, length);\n",
              "      position += length;\n",
              "\n",
              "      const base64 = btoa(String.fromCharCode.apply(null, chunk));\n",
              "      yield {\n",
              "        response: {\n",
              "          action: 'append',\n",
              "          file: file.name,\n",
              "          data: base64,\n",
              "        },\n",
              "      };\n",
              "\n",
              "      let percentDone = fileData.byteLength === 0 ?\n",
              "          100 :\n",
              "          Math.round((position / fileData.byteLength) * 100);\n",
              "      percent.textContent = `${percentDone}% done`;\n",
              "\n",
              "    } while (position < fileData.byteLength);\n",
              "  }\n",
              "\n",
              "  // All done.\n",
              "  yield {\n",
              "    response: {\n",
              "      action: 'complete',\n",
              "    }\n",
              "  };\n",
              "}\n",
              "\n",
              "scope.google = scope.google || {};\n",
              "scope.google.colab = scope.google.colab || {};\n",
              "scope.google.colab._files = {\n",
              "  _uploadFiles,\n",
              "  _uploadFilesContinue,\n",
              "};\n",
              "})(self);\n",
              "</script> "
            ]
          },
          "metadata": {}
        },
        {
          "output_type": "stream",
          "name": "stdout",
          "text": [
            "Saving kaggle.json to kaggle.json\n"
          ]
        },
        {
          "output_type": "execute_result",
          "data": {
            "text/plain": [
              "{'kaggle.json': b'{\"username\":\"vaidehibhat\",\"key\":\"21ccd7dc13a7f52c2ecc8b29ff2e7dd3\"}'}"
            ]
          },
          "metadata": {},
          "execution_count": 1
        }
      ],
      "source": [
        "from google.colab import files\n",
        "\n",
        "files.upload()"
      ]
    },
    {
      "cell_type": "code",
      "execution_count": null,
      "metadata": {
        "id": "2f56P8CPQ8Bz"
      },
      "outputs": [],
      "source": [
        "!mkdir -p ~/.kaggle"
      ]
    },
    {
      "cell_type": "code",
      "execution_count": null,
      "metadata": {
        "id": "DXK-tQHHQ_xi"
      },
      "outputs": [],
      "source": [
        "!mv kaggle.json ~/.kaggle/"
      ]
    },
    {
      "cell_type": "code",
      "execution_count": null,
      "metadata": {
        "id": "PxezcN-MREzk"
      },
      "outputs": [],
      "source": [
        "! chmod 600 ~/.kaggle/kaggle.json"
      ]
    },
    {
      "cell_type": "code",
      "execution_count": null,
      "metadata": {
        "id": "bCsayVTzRFe7"
      },
      "outputs": [],
      "source": [
        "! pip install -q kaggle"
      ]
    },
    {
      "cell_type": "code",
      "execution_count": null,
      "metadata": {
        "colab": {
          "base_uri": "https://localhost:8080/"
        },
        "id": "kHvi9iQ6RLNL",
        "outputId": "f990904e-a63f-451e-f39e-3910af0e37d4"
      },
      "outputs": [
        {
          "name": "stdout",
          "output_type": "stream",
          "text": [
            "ref                                                                  title                                             size  lastUpdated          downloadCount  voteCount  usabilityRating  \n",
            "-------------------------------------------------------------------  -----------------------------------------------  -----  -------------------  -------------  ---------  ---------------  \n",
            "shreyanshverma27/online-sales-dataset-popular-marketplace-data       Online Sales Dataset - Popular Marketplace Data    7KB  2024-05-25 23:55:26           7373        137  1.0              \n",
            "teocalvo/teomewhy-loyalty-system                                     TeoMeWhy Loyalty System                           22MB  2024-06-14 19:10:56            108        348  1.0              \n",
            "damirdizdarevic/uefa-euro-2024-players                               UEFA EURO 2024 - Players                          15KB  2024-06-08 18:07:29           1317         27  1.0              \n",
            "rashadrmammadov/heart-disease-prediction                             Heart Disease prediction                          16KB  2024-06-12 07:29:56            857         24  1.0              \n",
            "monisamir/global-salary-analysis                                     Global Salary Analysis                             7MB  2024-06-07 22:21:03           1060         24  0.9375           \n",
            "informrohit1/smartphones-dataset                                     Smartphones_Dataset                               23KB  2024-06-09 10:24:51           1941         40  1.0              \n",
            "rabieelkharoua/cancer-prediction-dataset                             🩺📊 Cancer Prediction Dataset 🌟🔬                   47KB  2024-06-10 03:54:18           1652         40  1.0              \n",
            "muhammadroshaanriaz/e-commerce-trends-a-guide-to-leveraging-dataset  Exploring E-commerce Trends⭐️⭐️⭐️                 25KB  2024-06-12 18:07:11           1337         35  1.0              \n",
            "rubenmukherjee/india-2024-election-dataset-all-candidates            India 2024 Election Dataset - All Candidates     881KB  2024-06-09 19:21:14           1103         26  1.0              \n",
            "rabieelkharoua/diabetes-health-dataset-analysis                      🩸Diabetes Health Dataset Analysis🩸               342KB  2024-06-11 14:10:07            933         29  1.0              \n",
            "shreyaskeote23/india-population-data                                 India population data                             10KB  2024-06-13 06:37:26            677         21  1.0              \n",
            "mexwell/pizza-sales                                                  🍕 Pizza Sales                                    586KB  2024-06-06 07:18:22           1780         31  1.0              \n",
            "programmerrdai/homicides                                             Global Homicide Rates Dataset                    240KB  2024-06-12 01:19:21            507         21  1.0              \n",
            "mayankanand2701/tesla-stock-price-dataset                            Tesla Stock Price Dataset 🚘🧑‍💻⚙️🔥                 71KB  2024-06-08 14:42:34           1029         22  1.0              \n",
            "darrylljk/worlds-best-universities-qs-rankings-2025                  QS University Rankings 2025                       50KB  2024-06-09 10:13:00            427         87  1.0              \n",
            "emirhanai/social-media-usage-and-emotional-well-being                Social Media Usage and Emotional Well-Being        8KB  2024-05-19 18:25:52           4981         77  1.0              \n",
            "waleedejaz/predict-students-dropout-and-academic-success             Predict Students' Dropout and Academic Success   105KB  2024-06-01 03:10:11           1067         29  0.8235294        \n",
            "nuhmanpk/india-lok-sabha-election-results-2024                       Lok Sabha Election Results 2024 India             20KB  2024-06-05 05:49:01           1913         38  1.0              \n",
            "shreyaskeote23/national-olympic-committee-2022-medals-csv            National Olympic Committee 2022 medals.csv         4KB  2024-06-09 04:22:40            628         30  1.0              \n",
            "darrylljk/better-life-index-2024-life-satisfaction                   Better Life Index 2024                             3KB  2024-06-07 01:24:25            411         99  1.0              \n"
          ]
        }
      ],
      "source": [
        "!kaggle datasets list"
      ]
    },
    {
      "cell_type": "markdown",
      "metadata": {
        "id": "JH-bEWpbSQ0t"
      },
      "source": [
        "Loading Crema-D from kaggle, already only audio files are there in the dataset"
      ]
    },
    {
      "cell_type": "code",
      "execution_count": null,
      "metadata": {
        "colab": {
          "base_uri": "https://localhost:8080/"
        },
        "id": "zbcepR_DRPWw",
        "outputId": "806330d1-6b6c-4415-c28c-049bd4abde51"
      },
      "outputs": [
        {
          "output_type": "stream",
          "name": "stdout",
          "text": [
            "Dataset URL: https://www.kaggle.com/datasets/ejlok1/cremad\n",
            "License(s): ODC Attribution License (ODC-By)\n",
            "Downloading cremad.zip to /content\n",
            " 99% 445M/451M [00:07<00:00, 82.3MB/s]\n",
            "100% 451M/451M [00:07<00:00, 62.5MB/s]\n"
          ]
        }
      ],
      "source": [
        "! kaggle datasets download -d ejlok1/cremad"
      ]
    },
    {
      "cell_type": "markdown",
      "metadata": {
        "id": "1sXJtXcnSfeZ"
      },
      "source": [
        "Loading TESS dataset"
      ]
    },
    {
      "cell_type": "code",
      "execution_count": null,
      "metadata": {
        "colab": {
          "base_uri": "https://localhost:8080/"
        },
        "id": "Y-CzY25aRa5k",
        "outputId": "c6cf95dc-acde-4140-f9cd-1194a84f3cbb"
      },
      "outputs": [
        {
          "output_type": "stream",
          "name": "stdout",
          "text": [
            "Dataset URL: https://www.kaggle.com/datasets/ejlok1/toronto-emotional-speech-set-tess\n",
            "License(s): Attribution-NonCommercial-NoDerivatives 4.0 International (CC BY-NC-ND 4.0)\n",
            "Downloading toronto-emotional-speech-set-tess.zip to /content\n",
            " 99% 425M/428M [00:06<00:00, 32.7MB/s]\n",
            "100% 428M/428M [00:07<00:00, 64.0MB/s]\n"
          ]
        }
      ],
      "source": [
        "! kaggle datasets download -d ejlok1/toronto-emotional-speech-set-tess"
      ]
    },
    {
      "cell_type": "markdown",
      "metadata": {
        "id": "EXkwNT0-Si0G"
      },
      "source": [
        "Loading SAVEE dataset, has only audio files in it"
      ]
    },
    {
      "cell_type": "code",
      "execution_count": null,
      "metadata": {
        "colab": {
          "base_uri": "https://localhost:8080/"
        },
        "id": "n8-2wKJfRuim",
        "outputId": "0ab70c65-bf24-46a3-9ccb-a986eeb16913"
      },
      "outputs": [
        {
          "output_type": "stream",
          "name": "stdout",
          "text": [
            "Dataset URL: https://www.kaggle.com/datasets/ejlok1/surrey-audiovisual-expressed-emotion-savee\n",
            "License(s): copyright-authors\n",
            "Downloading surrey-audiovisual-expressed-emotion-savee.zip to /content\n",
            " 98% 105M/107M [00:03<00:00, 32.6MB/s]\n",
            "100% 107M/107M [00:03<00:00, 29.2MB/s]\n"
          ]
        }
      ],
      "source": [
        "! kaggle datasets download -d ejlok1/surrey-audiovisual-expressed-emotion-savee"
      ]
    },
    {
      "cell_type": "markdown",
      "metadata": {
        "id": "oH6vKNFuSmr5"
      },
      "source": [
        "Loading RAVDESS dataset, has only audio files in it"
      ]
    },
    {
      "cell_type": "code",
      "execution_count": null,
      "metadata": {
        "colab": {
          "base_uri": "https://localhost:8080/"
        },
        "id": "cx6N6l4SR4ou",
        "outputId": "de2e5592-8c28-45ad-ccf9-98ccc4418092"
      },
      "outputs": [
        {
          "output_type": "stream",
          "name": "stdout",
          "text": [
            "Dataset URL: https://www.kaggle.com/datasets/uwrfkaggler/ravdess-emotional-speech-audio\n",
            "License(s): CC-BY-NC-SA-4.0\n",
            "Downloading ravdess-emotional-speech-audio.zip to /content\n",
            "100% 428M/429M [00:04<00:00, 85.8MB/s]\n",
            "100% 429M/429M [00:04<00:00, 106MB/s] \n"
          ]
        }
      ],
      "source": [
        "! kaggle datasets download -d uwrfkaggler/ravdess-emotional-speech-audio"
      ]
    },
    {
      "cell_type": "markdown",
      "metadata": {
        "id": "9CtVJMb1SrDq"
      },
      "source": [
        "Unzipping the content"
      ]
    },
    {
      "cell_type": "code",
      "execution_count": null,
      "metadata": {
        "colab": {
          "base_uri": "https://localhost:8080/"
        },
        "id": "YDpoTlS0Ss1A",
        "outputId": "239ee618-cb62-42e5-b98d-42f58a148416"
      },
      "outputs": [
        {
          "output_type": "stream",
          "name": "stdout",
          "text": [
            "Archive:  /content/ravdess-emotional-speech-audio.zip\n",
            "  inflating: Actor_01/03-01-01-01-01-01-01.wav  \n",
            "  inflating: Actor_01/03-01-01-01-01-02-01.wav  \n",
            "  inflating: Actor_01/03-01-01-01-02-01-01.wav  \n",
            "  inflating: Actor_01/03-01-01-01-02-02-01.wav  \n",
            "  inflating: Actor_01/03-01-02-01-01-01-01.wav  \n",
            "  inflating: Actor_01/03-01-02-01-01-02-01.wav  \n",
            "  inflating: Actor_01/03-01-02-01-02-01-01.wav  \n",
            "  inflating: Actor_01/03-01-02-01-02-02-01.wav  \n",
            "  inflating: Actor_01/03-01-02-02-01-01-01.wav  \n",
            "  inflating: Actor_01/03-01-02-02-01-02-01.wav  \n",
            "  inflating: Actor_01/03-01-02-02-02-01-01.wav  \n",
            "  inflating: Actor_01/03-01-02-02-02-02-01.wav  \n",
            "  inflating: Actor_01/03-01-03-01-01-01-01.wav  \n",
            "  inflating: Actor_01/03-01-03-01-01-02-01.wav  \n",
            "  inflating: Actor_01/03-01-03-01-02-01-01.wav  \n",
            "  inflating: Actor_01/03-01-03-01-02-02-01.wav  \n",
            "  inflating: Actor_01/03-01-03-02-01-01-01.wav  \n",
            "  inflating: Actor_01/03-01-03-02-01-02-01.wav  \n",
            "  inflating: Actor_01/03-01-03-02-02-01-01.wav  \n",
            "  inflating: Actor_01/03-01-03-02-02-02-01.wav  \n",
            "  inflating: Actor_01/03-01-04-01-01-01-01.wav  \n",
            "  inflating: Actor_01/03-01-04-01-01-02-01.wav  \n",
            "  inflating: Actor_01/03-01-04-01-02-01-01.wav  \n",
            "  inflating: Actor_01/03-01-04-01-02-02-01.wav  \n",
            "  inflating: Actor_01/03-01-04-02-01-01-01.wav  \n",
            "  inflating: Actor_01/03-01-04-02-01-02-01.wav  \n",
            "  inflating: Actor_01/03-01-04-02-02-01-01.wav  \n",
            "  inflating: Actor_01/03-01-04-02-02-02-01.wav  \n",
            "  inflating: Actor_01/03-01-05-01-01-01-01.wav  \n",
            "  inflating: Actor_01/03-01-05-01-01-02-01.wav  \n",
            "  inflating: Actor_01/03-01-05-01-02-01-01.wav  \n",
            "  inflating: Actor_01/03-01-05-01-02-02-01.wav  \n",
            "  inflating: Actor_01/03-01-05-02-01-01-01.wav  \n",
            "  inflating: Actor_01/03-01-05-02-01-02-01.wav  \n",
            "  inflating: Actor_01/03-01-05-02-02-01-01.wav  \n",
            "  inflating: Actor_01/03-01-05-02-02-02-01.wav  \n",
            "  inflating: Actor_01/03-01-06-01-01-01-01.wav  \n",
            "  inflating: Actor_01/03-01-06-01-01-02-01.wav  \n",
            "  inflating: Actor_01/03-01-06-01-02-01-01.wav  \n",
            "  inflating: Actor_01/03-01-06-01-02-02-01.wav  \n",
            "  inflating: Actor_01/03-01-06-02-01-01-01.wav  \n",
            "  inflating: Actor_01/03-01-06-02-01-02-01.wav  \n",
            "  inflating: Actor_01/03-01-06-02-02-01-01.wav  \n",
            "  inflating: Actor_01/03-01-06-02-02-02-01.wav  \n",
            "  inflating: Actor_01/03-01-07-01-01-01-01.wav  \n",
            "  inflating: Actor_01/03-01-07-01-01-02-01.wav  \n",
            "  inflating: Actor_01/03-01-07-01-02-01-01.wav  \n",
            "  inflating: Actor_01/03-01-07-01-02-02-01.wav  \n",
            "  inflating: Actor_01/03-01-07-02-01-01-01.wav  \n",
            "  inflating: Actor_01/03-01-07-02-01-02-01.wav  \n",
            "  inflating: Actor_01/03-01-07-02-02-01-01.wav  \n",
            "  inflating: Actor_01/03-01-07-02-02-02-01.wav  \n",
            "  inflating: Actor_01/03-01-08-01-01-01-01.wav  \n",
            "  inflating: Actor_01/03-01-08-01-01-02-01.wav  \n",
            "  inflating: Actor_01/03-01-08-01-02-01-01.wav  \n",
            "  inflating: Actor_01/03-01-08-01-02-02-01.wav  \n",
            "  inflating: Actor_01/03-01-08-02-01-01-01.wav  \n",
            "  inflating: Actor_01/03-01-08-02-01-02-01.wav  \n",
            "  inflating: Actor_01/03-01-08-02-02-01-01.wav  \n",
            "  inflating: Actor_01/03-01-08-02-02-02-01.wav  \n",
            "  inflating: Actor_02/03-01-01-01-01-01-02.wav  \n",
            "  inflating: Actor_02/03-01-01-01-01-02-02.wav  \n",
            "  inflating: Actor_02/03-01-01-01-02-01-02.wav  \n",
            "  inflating: Actor_02/03-01-01-01-02-02-02.wav  \n",
            "  inflating: Actor_02/03-01-02-01-01-01-02.wav  \n",
            "  inflating: Actor_02/03-01-02-01-01-02-02.wav  \n",
            "  inflating: Actor_02/03-01-02-01-02-01-02.wav  \n",
            "  inflating: Actor_02/03-01-02-01-02-02-02.wav  \n",
            "  inflating: Actor_02/03-01-02-02-01-01-02.wav  \n",
            "  inflating: Actor_02/03-01-02-02-01-02-02.wav  \n",
            "  inflating: Actor_02/03-01-02-02-02-01-02.wav  \n",
            "  inflating: Actor_02/03-01-02-02-02-02-02.wav  \n",
            "  inflating: Actor_02/03-01-03-01-01-01-02.wav  \n",
            "  inflating: Actor_02/03-01-03-01-01-02-02.wav  \n",
            "  inflating: Actor_02/03-01-03-01-02-01-02.wav  \n",
            "  inflating: Actor_02/03-01-03-01-02-02-02.wav  \n",
            "  inflating: Actor_02/03-01-03-02-01-01-02.wav  \n",
            "  inflating: Actor_02/03-01-03-02-01-02-02.wav  \n",
            "  inflating: Actor_02/03-01-03-02-02-01-02.wav  \n",
            "  inflating: Actor_02/03-01-03-02-02-02-02.wav  \n",
            "  inflating: Actor_02/03-01-04-01-01-01-02.wav  \n",
            "  inflating: Actor_02/03-01-04-01-01-02-02.wav  \n",
            "  inflating: Actor_02/03-01-04-01-02-01-02.wav  \n",
            "  inflating: Actor_02/03-01-04-01-02-02-02.wav  \n",
            "  inflating: Actor_02/03-01-04-02-01-01-02.wav  \n",
            "  inflating: Actor_02/03-01-04-02-01-02-02.wav  \n",
            "  inflating: Actor_02/03-01-04-02-02-01-02.wav  \n",
            "  inflating: Actor_02/03-01-04-02-02-02-02.wav  \n",
            "  inflating: Actor_02/03-01-05-01-01-01-02.wav  \n",
            "  inflating: Actor_02/03-01-05-01-01-02-02.wav  \n",
            "  inflating: Actor_02/03-01-05-01-02-01-02.wav  \n",
            "  inflating: Actor_02/03-01-05-01-02-02-02.wav  \n",
            "  inflating: Actor_02/03-01-05-02-01-01-02.wav  \n",
            "  inflating: Actor_02/03-01-05-02-01-02-02.wav  \n",
            "  inflating: Actor_02/03-01-05-02-02-01-02.wav  \n",
            "  inflating: Actor_02/03-01-05-02-02-02-02.wav  \n",
            "  inflating: Actor_02/03-01-06-01-01-01-02.wav  \n",
            "  inflating: Actor_02/03-01-06-01-01-02-02.wav  \n",
            "  inflating: Actor_02/03-01-06-01-02-01-02.wav  \n",
            "  inflating: Actor_02/03-01-06-01-02-02-02.wav  \n",
            "  inflating: Actor_02/03-01-06-02-01-01-02.wav  \n",
            "  inflating: Actor_02/03-01-06-02-01-02-02.wav  \n",
            "  inflating: Actor_02/03-01-06-02-02-01-02.wav  \n",
            "  inflating: Actor_02/03-01-06-02-02-02-02.wav  \n",
            "  inflating: Actor_02/03-01-07-01-01-01-02.wav  \n",
            "  inflating: Actor_02/03-01-07-01-01-02-02.wav  \n",
            "  inflating: Actor_02/03-01-07-01-02-01-02.wav  \n",
            "  inflating: Actor_02/03-01-07-01-02-02-02.wav  \n",
            "  inflating: Actor_02/03-01-07-02-01-01-02.wav  \n",
            "  inflating: Actor_02/03-01-07-02-01-02-02.wav  \n",
            "  inflating: Actor_02/03-01-07-02-02-01-02.wav  \n",
            "  inflating: Actor_02/03-01-07-02-02-02-02.wav  \n",
            "  inflating: Actor_02/03-01-08-01-01-01-02.wav  \n",
            "  inflating: Actor_02/03-01-08-01-01-02-02.wav  \n",
            "  inflating: Actor_02/03-01-08-01-02-01-02.wav  \n",
            "  inflating: Actor_02/03-01-08-01-02-02-02.wav  \n",
            "  inflating: Actor_02/03-01-08-02-01-01-02.wav  \n",
            "  inflating: Actor_02/03-01-08-02-01-02-02.wav  \n",
            "  inflating: Actor_02/03-01-08-02-02-01-02.wav  \n",
            "  inflating: Actor_02/03-01-08-02-02-02-02.wav  \n",
            "  inflating: Actor_03/03-01-01-01-01-01-03.wav  \n",
            "  inflating: Actor_03/03-01-01-01-01-02-03.wav  \n",
            "  inflating: Actor_03/03-01-01-01-02-01-03.wav  \n",
            "  inflating: Actor_03/03-01-01-01-02-02-03.wav  \n",
            "  inflating: Actor_03/03-01-02-01-01-01-03.wav  \n",
            "  inflating: Actor_03/03-01-02-01-01-02-03.wav  \n",
            "  inflating: Actor_03/03-01-02-01-02-01-03.wav  \n",
            "  inflating: Actor_03/03-01-02-01-02-02-03.wav  \n",
            "  inflating: Actor_03/03-01-02-02-01-01-03.wav  \n",
            "  inflating: Actor_03/03-01-02-02-01-02-03.wav  \n",
            "  inflating: Actor_03/03-01-02-02-02-01-03.wav  \n",
            "  inflating: Actor_03/03-01-02-02-02-02-03.wav  \n",
            "  inflating: Actor_03/03-01-03-01-01-01-03.wav  \n",
            "  inflating: Actor_03/03-01-03-01-01-02-03.wav  \n",
            "  inflating: Actor_03/03-01-03-01-02-01-03.wav  \n",
            "  inflating: Actor_03/03-01-03-01-02-02-03.wav  \n",
            "  inflating: Actor_03/03-01-03-02-01-01-03.wav  \n",
            "  inflating: Actor_03/03-01-03-02-01-02-03.wav  \n",
            "  inflating: Actor_03/03-01-03-02-02-01-03.wav  \n",
            "  inflating: Actor_03/03-01-03-02-02-02-03.wav  \n",
            "  inflating: Actor_03/03-01-04-01-01-01-03.wav  \n",
            "  inflating: Actor_03/03-01-04-01-01-02-03.wav  \n",
            "  inflating: Actor_03/03-01-04-01-02-01-03.wav  \n",
            "  inflating: Actor_03/03-01-04-01-02-02-03.wav  \n",
            "  inflating: Actor_03/03-01-04-02-01-01-03.wav  \n",
            "  inflating: Actor_03/03-01-04-02-01-02-03.wav  \n",
            "  inflating: Actor_03/03-01-04-02-02-01-03.wav  \n",
            "  inflating: Actor_03/03-01-04-02-02-02-03.wav  \n",
            "  inflating: Actor_03/03-01-05-01-01-01-03.wav  \n",
            "  inflating: Actor_03/03-01-05-01-01-02-03.wav  \n",
            "  inflating: Actor_03/03-01-05-01-02-01-03.wav  \n",
            "  inflating: Actor_03/03-01-05-01-02-02-03.wav  \n",
            "  inflating: Actor_03/03-01-05-02-01-01-03.wav  \n",
            "  inflating: Actor_03/03-01-05-02-01-02-03.wav  \n",
            "  inflating: Actor_03/03-01-05-02-02-01-03.wav  \n",
            "  inflating: Actor_03/03-01-05-02-02-02-03.wav  \n",
            "  inflating: Actor_03/03-01-06-01-01-01-03.wav  \n",
            "  inflating: Actor_03/03-01-06-01-01-02-03.wav  \n",
            "  inflating: Actor_03/03-01-06-01-02-01-03.wav  \n",
            "  inflating: Actor_03/03-01-06-01-02-02-03.wav  \n",
            "  inflating: Actor_03/03-01-06-02-01-01-03.wav  \n",
            "  inflating: Actor_03/03-01-06-02-01-02-03.wav  \n",
            "  inflating: Actor_03/03-01-06-02-02-01-03.wav  \n",
            "  inflating: Actor_03/03-01-06-02-02-02-03.wav  \n",
            "  inflating: Actor_03/03-01-07-01-01-01-03.wav  \n",
            "  inflating: Actor_03/03-01-07-01-01-02-03.wav  \n",
            "  inflating: Actor_03/03-01-07-01-02-01-03.wav  \n",
            "  inflating: Actor_03/03-01-07-01-02-02-03.wav  \n",
            "  inflating: Actor_03/03-01-07-02-01-01-03.wav  \n",
            "  inflating: Actor_03/03-01-07-02-01-02-03.wav  \n",
            "  inflating: Actor_03/03-01-07-02-02-01-03.wav  \n",
            "  inflating: Actor_03/03-01-07-02-02-02-03.wav  \n",
            "  inflating: Actor_03/03-01-08-01-01-01-03.wav  \n",
            "  inflating: Actor_03/03-01-08-01-01-02-03.wav  \n",
            "  inflating: Actor_03/03-01-08-01-02-01-03.wav  \n",
            "  inflating: Actor_03/03-01-08-01-02-02-03.wav  \n",
            "  inflating: Actor_03/03-01-08-02-01-01-03.wav  \n",
            "  inflating: Actor_03/03-01-08-02-01-02-03.wav  \n",
            "  inflating: Actor_03/03-01-08-02-02-01-03.wav  \n",
            "  inflating: Actor_03/03-01-08-02-02-02-03.wav  \n",
            "  inflating: Actor_04/03-01-01-01-01-01-04.wav  \n",
            "  inflating: Actor_04/03-01-01-01-01-02-04.wav  \n",
            "  inflating: Actor_04/03-01-01-01-02-01-04.wav  \n",
            "  inflating: Actor_04/03-01-01-01-02-02-04.wav  \n",
            "  inflating: Actor_04/03-01-02-01-01-01-04.wav  \n",
            "  inflating: Actor_04/03-01-02-01-01-02-04.wav  \n",
            "  inflating: Actor_04/03-01-02-01-02-01-04.wav  \n",
            "  inflating: Actor_04/03-01-02-01-02-02-04.wav  \n",
            "  inflating: Actor_04/03-01-02-02-01-01-04.wav  \n",
            "  inflating: Actor_04/03-01-02-02-01-02-04.wav  \n",
            "  inflating: Actor_04/03-01-02-02-02-01-04.wav  \n",
            "  inflating: Actor_04/03-01-02-02-02-02-04.wav  \n",
            "  inflating: Actor_04/03-01-03-01-01-01-04.wav  \n",
            "  inflating: Actor_04/03-01-03-01-01-02-04.wav  \n",
            "  inflating: Actor_04/03-01-03-01-02-01-04.wav  \n",
            "  inflating: Actor_04/03-01-03-01-02-02-04.wav  \n",
            "  inflating: Actor_04/03-01-03-02-01-01-04.wav  \n",
            "  inflating: Actor_04/03-01-03-02-01-02-04.wav  \n",
            "  inflating: Actor_04/03-01-03-02-02-01-04.wav  \n",
            "  inflating: Actor_04/03-01-03-02-02-02-04.wav  \n",
            "  inflating: Actor_04/03-01-04-01-01-01-04.wav  \n",
            "  inflating: Actor_04/03-01-04-01-01-02-04.wav  \n",
            "  inflating: Actor_04/03-01-04-01-02-01-04.wav  \n",
            "  inflating: Actor_04/03-01-04-01-02-02-04.wav  \n",
            "  inflating: Actor_04/03-01-04-02-01-01-04.wav  \n",
            "  inflating: Actor_04/03-01-04-02-01-02-04.wav  \n",
            "  inflating: Actor_04/03-01-04-02-02-01-04.wav  \n",
            "  inflating: Actor_04/03-01-04-02-02-02-04.wav  \n",
            "  inflating: Actor_04/03-01-05-01-01-01-04.wav  \n",
            "  inflating: Actor_04/03-01-05-01-01-02-04.wav  \n",
            "  inflating: Actor_04/03-01-05-01-02-01-04.wav  \n",
            "  inflating: Actor_04/03-01-05-01-02-02-04.wav  \n",
            "  inflating: Actor_04/03-01-05-02-01-01-04.wav  \n",
            "  inflating: Actor_04/03-01-05-02-01-02-04.wav  \n",
            "  inflating: Actor_04/03-01-05-02-02-01-04.wav  \n",
            "  inflating: Actor_04/03-01-05-02-02-02-04.wav  \n",
            "  inflating: Actor_04/03-01-06-01-01-01-04.wav  \n",
            "  inflating: Actor_04/03-01-06-01-01-02-04.wav  \n",
            "  inflating: Actor_04/03-01-06-01-02-01-04.wav  \n",
            "  inflating: Actor_04/03-01-06-01-02-02-04.wav  \n",
            "  inflating: Actor_04/03-01-06-02-01-01-04.wav  \n",
            "  inflating: Actor_04/03-01-06-02-01-02-04.wav  \n",
            "  inflating: Actor_04/03-01-06-02-02-01-04.wav  \n",
            "  inflating: Actor_04/03-01-06-02-02-02-04.wav  \n",
            "  inflating: Actor_04/03-01-07-01-01-01-04.wav  \n",
            "  inflating: Actor_04/03-01-07-01-01-02-04.wav  \n",
            "  inflating: Actor_04/03-01-07-01-02-01-04.wav  \n",
            "  inflating: Actor_04/03-01-07-01-02-02-04.wav  \n",
            "  inflating: Actor_04/03-01-07-02-01-01-04.wav  \n",
            "  inflating: Actor_04/03-01-07-02-01-02-04.wav  \n",
            "  inflating: Actor_04/03-01-07-02-02-01-04.wav  \n",
            "  inflating: Actor_04/03-01-07-02-02-02-04.wav  \n",
            "  inflating: Actor_04/03-01-08-01-01-01-04.wav  \n",
            "  inflating: Actor_04/03-01-08-01-01-02-04.wav  \n",
            "  inflating: Actor_04/03-01-08-01-02-01-04.wav  \n",
            "  inflating: Actor_04/03-01-08-01-02-02-04.wav  \n",
            "  inflating: Actor_04/03-01-08-02-01-01-04.wav  \n",
            "  inflating: Actor_04/03-01-08-02-01-02-04.wav  \n",
            "  inflating: Actor_04/03-01-08-02-02-01-04.wav  \n",
            "  inflating: Actor_04/03-01-08-02-02-02-04.wav  \n",
            "  inflating: Actor_05/03-01-01-01-01-01-05.wav  \n",
            "  inflating: Actor_05/03-01-01-01-01-02-05.wav  \n",
            "  inflating: Actor_05/03-01-01-01-02-01-05.wav  \n",
            "  inflating: Actor_05/03-01-01-01-02-02-05.wav  \n",
            "  inflating: Actor_05/03-01-02-01-01-01-05.wav  \n",
            "  inflating: Actor_05/03-01-02-01-01-02-05.wav  \n",
            "  inflating: Actor_05/03-01-02-01-02-01-05.wav  \n",
            "  inflating: Actor_05/03-01-02-01-02-02-05.wav  \n",
            "  inflating: Actor_05/03-01-02-02-01-01-05.wav  \n",
            "  inflating: Actor_05/03-01-02-02-01-02-05.wav  \n",
            "  inflating: Actor_05/03-01-02-02-02-01-05.wav  \n",
            "  inflating: Actor_05/03-01-02-02-02-02-05.wav  \n",
            "  inflating: Actor_05/03-01-03-01-01-01-05.wav  \n",
            "  inflating: Actor_05/03-01-03-01-01-02-05.wav  \n",
            "  inflating: Actor_05/03-01-03-01-02-01-05.wav  \n",
            "  inflating: Actor_05/03-01-03-01-02-02-05.wav  \n",
            "  inflating: Actor_05/03-01-03-02-01-01-05.wav  \n",
            "  inflating: Actor_05/03-01-03-02-01-02-05.wav  \n",
            "  inflating: Actor_05/03-01-03-02-02-01-05.wav  \n",
            "  inflating: Actor_05/03-01-03-02-02-02-05.wav  \n",
            "  inflating: Actor_05/03-01-04-01-01-01-05.wav  \n",
            "  inflating: Actor_05/03-01-04-01-01-02-05.wav  \n",
            "  inflating: Actor_05/03-01-04-01-02-01-05.wav  \n",
            "  inflating: Actor_05/03-01-04-01-02-02-05.wav  \n",
            "  inflating: Actor_05/03-01-04-02-01-01-05.wav  \n",
            "  inflating: Actor_05/03-01-04-02-01-02-05.wav  \n",
            "  inflating: Actor_05/03-01-04-02-02-01-05.wav  \n",
            "  inflating: Actor_05/03-01-04-02-02-02-05.wav  \n",
            "  inflating: Actor_05/03-01-05-01-01-01-05.wav  \n",
            "  inflating: Actor_05/03-01-05-01-01-02-05.wav  \n",
            "  inflating: Actor_05/03-01-05-01-02-01-05.wav  \n",
            "  inflating: Actor_05/03-01-05-01-02-02-05.wav  \n",
            "  inflating: Actor_05/03-01-05-02-01-01-05.wav  \n",
            "  inflating: Actor_05/03-01-05-02-01-02-05.wav  \n",
            "  inflating: Actor_05/03-01-05-02-02-01-05.wav  \n",
            "  inflating: Actor_05/03-01-05-02-02-02-05.wav  \n",
            "  inflating: Actor_05/03-01-06-01-01-01-05.wav  \n",
            "  inflating: Actor_05/03-01-06-01-01-02-05.wav  \n",
            "  inflating: Actor_05/03-01-06-01-02-01-05.wav  \n",
            "  inflating: Actor_05/03-01-06-01-02-02-05.wav  \n",
            "  inflating: Actor_05/03-01-06-02-01-01-05.wav  \n",
            "  inflating: Actor_05/03-01-06-02-01-02-05.wav  \n",
            "  inflating: Actor_05/03-01-06-02-02-01-05.wav  \n",
            "  inflating: Actor_05/03-01-06-02-02-02-05.wav  \n",
            "  inflating: Actor_05/03-01-07-01-01-01-05.wav  \n",
            "  inflating: Actor_05/03-01-07-01-01-02-05.wav  \n",
            "  inflating: Actor_05/03-01-07-01-02-01-05.wav  \n",
            "  inflating: Actor_05/03-01-07-01-02-02-05.wav  \n",
            "  inflating: Actor_05/03-01-07-02-01-01-05.wav  \n",
            "  inflating: Actor_05/03-01-07-02-01-02-05.wav  \n",
            "  inflating: Actor_05/03-01-07-02-02-01-05.wav  \n",
            "  inflating: Actor_05/03-01-07-02-02-02-05.wav  \n",
            "  inflating: Actor_05/03-01-08-01-01-01-05.wav  \n",
            "  inflating: Actor_05/03-01-08-01-01-02-05.wav  \n",
            "  inflating: Actor_05/03-01-08-01-02-01-05.wav  \n",
            "  inflating: Actor_05/03-01-08-01-02-02-05.wav  \n",
            "  inflating: Actor_05/03-01-08-02-01-01-05.wav  \n",
            "  inflating: Actor_05/03-01-08-02-01-02-05.wav  \n",
            "  inflating: Actor_05/03-01-08-02-02-01-05.wav  \n",
            "  inflating: Actor_05/03-01-08-02-02-02-05.wav  \n",
            "  inflating: Actor_06/03-01-01-01-01-01-06.wav  \n",
            "  inflating: Actor_06/03-01-01-01-01-02-06.wav  \n",
            "  inflating: Actor_06/03-01-01-01-02-01-06.wav  \n",
            "  inflating: Actor_06/03-01-01-01-02-02-06.wav  \n",
            "  inflating: Actor_06/03-01-02-01-01-01-06.wav  \n",
            "  inflating: Actor_06/03-01-02-01-01-02-06.wav  \n",
            "  inflating: Actor_06/03-01-02-01-02-01-06.wav  \n",
            "  inflating: Actor_06/03-01-02-01-02-02-06.wav  \n",
            "  inflating: Actor_06/03-01-02-02-01-01-06.wav  \n",
            "  inflating: Actor_06/03-01-02-02-01-02-06.wav  \n",
            "  inflating: Actor_06/03-01-02-02-02-01-06.wav  \n",
            "  inflating: Actor_06/03-01-02-02-02-02-06.wav  \n",
            "  inflating: Actor_06/03-01-03-01-01-01-06.wav  \n",
            "  inflating: Actor_06/03-01-03-01-01-02-06.wav  \n",
            "  inflating: Actor_06/03-01-03-01-02-01-06.wav  \n",
            "  inflating: Actor_06/03-01-03-01-02-02-06.wav  \n",
            "  inflating: Actor_06/03-01-03-02-01-01-06.wav  \n",
            "  inflating: Actor_06/03-01-03-02-01-02-06.wav  \n",
            "  inflating: Actor_06/03-01-03-02-02-01-06.wav  \n",
            "  inflating: Actor_06/03-01-03-02-02-02-06.wav  \n",
            "  inflating: Actor_06/03-01-04-01-01-01-06.wav  \n",
            "  inflating: Actor_06/03-01-04-01-01-02-06.wav  \n",
            "  inflating: Actor_06/03-01-04-01-02-01-06.wav  \n",
            "  inflating: Actor_06/03-01-04-01-02-02-06.wav  \n",
            "  inflating: Actor_06/03-01-04-02-01-01-06.wav  \n",
            "  inflating: Actor_06/03-01-04-02-01-02-06.wav  \n",
            "  inflating: Actor_06/03-01-04-02-02-01-06.wav  \n",
            "  inflating: Actor_06/03-01-04-02-02-02-06.wav  \n",
            "  inflating: Actor_06/03-01-05-01-01-01-06.wav  \n",
            "  inflating: Actor_06/03-01-05-01-01-02-06.wav  \n",
            "  inflating: Actor_06/03-01-05-01-02-01-06.wav  \n",
            "  inflating: Actor_06/03-01-05-01-02-02-06.wav  \n",
            "  inflating: Actor_06/03-01-05-02-01-01-06.wav  \n",
            "  inflating: Actor_06/03-01-05-02-01-02-06.wav  \n",
            "  inflating: Actor_06/03-01-05-02-02-01-06.wav  \n",
            "  inflating: Actor_06/03-01-05-02-02-02-06.wav  \n",
            "  inflating: Actor_06/03-01-06-01-01-01-06.wav  \n",
            "  inflating: Actor_06/03-01-06-01-01-02-06.wav  \n",
            "  inflating: Actor_06/03-01-06-01-02-01-06.wav  \n",
            "  inflating: Actor_06/03-01-06-01-02-02-06.wav  \n",
            "  inflating: Actor_06/03-01-06-02-01-01-06.wav  \n",
            "  inflating: Actor_06/03-01-06-02-01-02-06.wav  \n",
            "  inflating: Actor_06/03-01-06-02-02-01-06.wav  \n",
            "  inflating: Actor_06/03-01-06-02-02-02-06.wav  \n",
            "  inflating: Actor_06/03-01-07-01-01-01-06.wav  \n",
            "  inflating: Actor_06/03-01-07-01-01-02-06.wav  \n",
            "  inflating: Actor_06/03-01-07-01-02-01-06.wav  \n",
            "  inflating: Actor_06/03-01-07-01-02-02-06.wav  \n",
            "  inflating: Actor_06/03-01-07-02-01-01-06.wav  \n",
            "  inflating: Actor_06/03-01-07-02-01-02-06.wav  \n",
            "  inflating: Actor_06/03-01-07-02-02-01-06.wav  \n",
            "  inflating: Actor_06/03-01-07-02-02-02-06.wav  \n",
            "  inflating: Actor_06/03-01-08-01-01-01-06.wav  \n",
            "  inflating: Actor_06/03-01-08-01-01-02-06.wav  \n",
            "  inflating: Actor_06/03-01-08-01-02-01-06.wav  \n",
            "  inflating: Actor_06/03-01-08-01-02-02-06.wav  \n",
            "  inflating: Actor_06/03-01-08-02-01-01-06.wav  \n",
            "  inflating: Actor_06/03-01-08-02-01-02-06.wav  \n",
            "  inflating: Actor_06/03-01-08-02-02-01-06.wav  \n",
            "  inflating: Actor_06/03-01-08-02-02-02-06.wav  \n",
            "  inflating: Actor_07/03-01-01-01-01-01-07.wav  \n",
            "  inflating: Actor_07/03-01-01-01-01-02-07.wav  \n",
            "  inflating: Actor_07/03-01-01-01-02-01-07.wav  \n",
            "  inflating: Actor_07/03-01-01-01-02-02-07.wav  \n",
            "  inflating: Actor_07/03-01-02-01-01-01-07.wav  \n",
            "  inflating: Actor_07/03-01-02-01-01-02-07.wav  \n",
            "  inflating: Actor_07/03-01-02-01-02-01-07.wav  \n",
            "  inflating: Actor_07/03-01-02-01-02-02-07.wav  \n",
            "  inflating: Actor_07/03-01-02-02-01-01-07.wav  \n",
            "  inflating: Actor_07/03-01-02-02-01-02-07.wav  \n",
            "  inflating: Actor_07/03-01-02-02-02-01-07.wav  \n",
            "  inflating: Actor_07/03-01-02-02-02-02-07.wav  \n",
            "  inflating: Actor_07/03-01-03-01-01-01-07.wav  \n",
            "  inflating: Actor_07/03-01-03-01-01-02-07.wav  \n",
            "  inflating: Actor_07/03-01-03-01-02-01-07.wav  \n",
            "  inflating: Actor_07/03-01-03-01-02-02-07.wav  \n",
            "  inflating: Actor_07/03-01-03-02-01-01-07.wav  \n",
            "  inflating: Actor_07/03-01-03-02-01-02-07.wav  \n",
            "  inflating: Actor_07/03-01-03-02-02-01-07.wav  \n",
            "  inflating: Actor_07/03-01-03-02-02-02-07.wav  \n",
            "  inflating: Actor_07/03-01-04-01-01-01-07.wav  \n",
            "  inflating: Actor_07/03-01-04-01-01-02-07.wav  \n",
            "  inflating: Actor_07/03-01-04-01-02-01-07.wav  \n",
            "  inflating: Actor_07/03-01-04-01-02-02-07.wav  \n",
            "  inflating: Actor_07/03-01-04-02-01-01-07.wav  \n",
            "  inflating: Actor_07/03-01-04-02-01-02-07.wav  \n",
            "  inflating: Actor_07/03-01-04-02-02-01-07.wav  \n",
            "  inflating: Actor_07/03-01-04-02-02-02-07.wav  \n",
            "  inflating: Actor_07/03-01-05-01-01-01-07.wav  \n",
            "  inflating: Actor_07/03-01-05-01-01-02-07.wav  \n",
            "  inflating: Actor_07/03-01-05-01-02-01-07.wav  \n",
            "  inflating: Actor_07/03-01-05-01-02-02-07.wav  \n",
            "  inflating: Actor_07/03-01-05-02-01-01-07.wav  \n",
            "  inflating: Actor_07/03-01-05-02-01-02-07.wav  \n",
            "  inflating: Actor_07/03-01-05-02-02-01-07.wav  \n",
            "  inflating: Actor_07/03-01-05-02-02-02-07.wav  \n",
            "  inflating: Actor_07/03-01-06-01-01-01-07.wav  \n",
            "  inflating: Actor_07/03-01-06-01-01-02-07.wav  \n",
            "  inflating: Actor_07/03-01-06-01-02-01-07.wav  \n",
            "  inflating: Actor_07/03-01-06-01-02-02-07.wav  \n",
            "  inflating: Actor_07/03-01-06-02-01-01-07.wav  \n",
            "  inflating: Actor_07/03-01-06-02-01-02-07.wav  \n",
            "  inflating: Actor_07/03-01-06-02-02-01-07.wav  \n",
            "  inflating: Actor_07/03-01-06-02-02-02-07.wav  \n",
            "  inflating: Actor_07/03-01-07-01-01-01-07.wav  \n",
            "  inflating: Actor_07/03-01-07-01-01-02-07.wav  \n",
            "  inflating: Actor_07/03-01-07-01-02-01-07.wav  \n",
            "  inflating: Actor_07/03-01-07-01-02-02-07.wav  \n",
            "  inflating: Actor_07/03-01-07-02-01-01-07.wav  \n",
            "  inflating: Actor_07/03-01-07-02-01-02-07.wav  \n",
            "  inflating: Actor_07/03-01-07-02-02-01-07.wav  \n",
            "  inflating: Actor_07/03-01-07-02-02-02-07.wav  \n",
            "  inflating: Actor_07/03-01-08-01-01-01-07.wav  \n",
            "  inflating: Actor_07/03-01-08-01-01-02-07.wav  \n",
            "  inflating: Actor_07/03-01-08-01-02-01-07.wav  \n",
            "  inflating: Actor_07/03-01-08-01-02-02-07.wav  \n",
            "  inflating: Actor_07/03-01-08-02-01-01-07.wav  \n",
            "  inflating: Actor_07/03-01-08-02-01-02-07.wav  \n",
            "  inflating: Actor_07/03-01-08-02-02-01-07.wav  \n",
            "  inflating: Actor_07/03-01-08-02-02-02-07.wav  \n",
            "  inflating: Actor_08/03-01-01-01-01-01-08.wav  \n",
            "  inflating: Actor_08/03-01-01-01-01-02-08.wav  \n",
            "  inflating: Actor_08/03-01-01-01-02-01-08.wav  \n",
            "  inflating: Actor_08/03-01-01-01-02-02-08.wav  \n",
            "  inflating: Actor_08/03-01-02-01-01-01-08.wav  \n",
            "  inflating: Actor_08/03-01-02-01-01-02-08.wav  \n",
            "  inflating: Actor_08/03-01-02-01-02-01-08.wav  \n",
            "  inflating: Actor_08/03-01-02-01-02-02-08.wav  \n",
            "  inflating: Actor_08/03-01-02-02-01-01-08.wav  \n",
            "  inflating: Actor_08/03-01-02-02-01-02-08.wav  \n",
            "  inflating: Actor_08/03-01-02-02-02-01-08.wav  \n",
            "  inflating: Actor_08/03-01-02-02-02-02-08.wav  \n",
            "  inflating: Actor_08/03-01-03-01-01-01-08.wav  \n",
            "  inflating: Actor_08/03-01-03-01-01-02-08.wav  \n",
            "  inflating: Actor_08/03-01-03-01-02-01-08.wav  \n",
            "  inflating: Actor_08/03-01-03-01-02-02-08.wav  \n",
            "  inflating: Actor_08/03-01-03-02-01-01-08.wav  \n",
            "  inflating: Actor_08/03-01-03-02-01-02-08.wav  \n",
            "  inflating: Actor_08/03-01-03-02-02-01-08.wav  \n",
            "  inflating: Actor_08/03-01-03-02-02-02-08.wav  \n",
            "  inflating: Actor_08/03-01-04-01-01-01-08.wav  \n",
            "  inflating: Actor_08/03-01-04-01-01-02-08.wav  \n",
            "  inflating: Actor_08/03-01-04-01-02-01-08.wav  \n",
            "  inflating: Actor_08/03-01-04-01-02-02-08.wav  \n",
            "  inflating: Actor_08/03-01-04-02-01-01-08.wav  \n",
            "  inflating: Actor_08/03-01-04-02-01-02-08.wav  \n",
            "  inflating: Actor_08/03-01-04-02-02-01-08.wav  \n",
            "  inflating: Actor_08/03-01-04-02-02-02-08.wav  \n",
            "  inflating: Actor_08/03-01-05-01-01-01-08.wav  \n",
            "  inflating: Actor_08/03-01-05-01-01-02-08.wav  \n",
            "  inflating: Actor_08/03-01-05-01-02-01-08.wav  \n",
            "  inflating: Actor_08/03-01-05-01-02-02-08.wav  \n",
            "  inflating: Actor_08/03-01-05-02-01-01-08.wav  \n",
            "  inflating: Actor_08/03-01-05-02-01-02-08.wav  \n",
            "  inflating: Actor_08/03-01-05-02-02-01-08.wav  \n",
            "  inflating: Actor_08/03-01-05-02-02-02-08.wav  \n",
            "  inflating: Actor_08/03-01-06-01-01-01-08.wav  \n",
            "  inflating: Actor_08/03-01-06-01-01-02-08.wav  \n",
            "  inflating: Actor_08/03-01-06-01-02-01-08.wav  \n",
            "  inflating: Actor_08/03-01-06-01-02-02-08.wav  \n",
            "  inflating: Actor_08/03-01-06-02-01-01-08.wav  \n",
            "  inflating: Actor_08/03-01-06-02-01-02-08.wav  \n",
            "  inflating: Actor_08/03-01-06-02-02-01-08.wav  \n",
            "  inflating: Actor_08/03-01-06-02-02-02-08.wav  \n",
            "  inflating: Actor_08/03-01-07-01-01-01-08.wav  \n",
            "  inflating: Actor_08/03-01-07-01-01-02-08.wav  \n",
            "  inflating: Actor_08/03-01-07-01-02-01-08.wav  \n",
            "  inflating: Actor_08/03-01-07-01-02-02-08.wav  \n",
            "  inflating: Actor_08/03-01-07-02-01-01-08.wav  \n",
            "  inflating: Actor_08/03-01-07-02-01-02-08.wav  \n",
            "  inflating: Actor_08/03-01-07-02-02-01-08.wav  \n",
            "  inflating: Actor_08/03-01-07-02-02-02-08.wav  \n",
            "  inflating: Actor_08/03-01-08-01-01-01-08.wav  \n",
            "  inflating: Actor_08/03-01-08-01-01-02-08.wav  \n",
            "  inflating: Actor_08/03-01-08-01-02-01-08.wav  \n",
            "  inflating: Actor_08/03-01-08-01-02-02-08.wav  \n",
            "  inflating: Actor_08/03-01-08-02-01-01-08.wav  \n",
            "  inflating: Actor_08/03-01-08-02-01-02-08.wav  \n",
            "  inflating: Actor_08/03-01-08-02-02-01-08.wav  \n",
            "  inflating: Actor_08/03-01-08-02-02-02-08.wav  \n",
            "  inflating: Actor_09/03-01-01-01-01-01-09.wav  \n",
            "  inflating: Actor_09/03-01-01-01-01-02-09.wav  \n",
            "  inflating: Actor_09/03-01-01-01-02-01-09.wav  \n",
            "  inflating: Actor_09/03-01-01-01-02-02-09.wav  \n",
            "  inflating: Actor_09/03-01-02-01-01-01-09.wav  \n",
            "  inflating: Actor_09/03-01-02-01-01-02-09.wav  \n",
            "  inflating: Actor_09/03-01-02-01-02-01-09.wav  \n",
            "  inflating: Actor_09/03-01-02-01-02-02-09.wav  \n",
            "  inflating: Actor_09/03-01-02-02-01-01-09.wav  \n",
            "  inflating: Actor_09/03-01-02-02-01-02-09.wav  \n",
            "  inflating: Actor_09/03-01-02-02-02-01-09.wav  \n",
            "  inflating: Actor_09/03-01-02-02-02-02-09.wav  \n",
            "  inflating: Actor_09/03-01-03-01-01-01-09.wav  \n",
            "  inflating: Actor_09/03-01-03-01-01-02-09.wav  \n",
            "  inflating: Actor_09/03-01-03-01-02-01-09.wav  \n",
            "  inflating: Actor_09/03-01-03-01-02-02-09.wav  \n",
            "  inflating: Actor_09/03-01-03-02-01-01-09.wav  \n",
            "  inflating: Actor_09/03-01-03-02-01-02-09.wav  \n",
            "  inflating: Actor_09/03-01-03-02-02-01-09.wav  \n",
            "  inflating: Actor_09/03-01-03-02-02-02-09.wav  \n",
            "  inflating: Actor_09/03-01-04-01-01-01-09.wav  \n",
            "  inflating: Actor_09/03-01-04-01-01-02-09.wav  \n",
            "  inflating: Actor_09/03-01-04-01-02-01-09.wav  \n",
            "  inflating: Actor_09/03-01-04-01-02-02-09.wav  \n",
            "  inflating: Actor_09/03-01-04-02-01-01-09.wav  \n",
            "  inflating: Actor_09/03-01-04-02-01-02-09.wav  \n",
            "  inflating: Actor_09/03-01-04-02-02-01-09.wav  \n",
            "  inflating: Actor_09/03-01-04-02-02-02-09.wav  \n",
            "  inflating: Actor_09/03-01-05-01-01-01-09.wav  \n",
            "  inflating: Actor_09/03-01-05-01-01-02-09.wav  \n",
            "  inflating: Actor_09/03-01-05-01-02-01-09.wav  \n",
            "  inflating: Actor_09/03-01-05-01-02-02-09.wav  \n",
            "  inflating: Actor_09/03-01-05-02-01-01-09.wav  \n",
            "  inflating: Actor_09/03-01-05-02-01-02-09.wav  \n",
            "  inflating: Actor_09/03-01-05-02-02-01-09.wav  \n",
            "  inflating: Actor_09/03-01-05-02-02-02-09.wav  \n",
            "  inflating: Actor_09/03-01-06-01-01-01-09.wav  \n",
            "  inflating: Actor_09/03-01-06-01-01-02-09.wav  \n",
            "  inflating: Actor_09/03-01-06-01-02-01-09.wav  \n",
            "  inflating: Actor_09/03-01-06-01-02-02-09.wav  \n",
            "  inflating: Actor_09/03-01-06-02-01-01-09.wav  \n",
            "  inflating: Actor_09/03-01-06-02-01-02-09.wav  \n",
            "  inflating: Actor_09/03-01-06-02-02-01-09.wav  \n",
            "  inflating: Actor_09/03-01-06-02-02-02-09.wav  \n",
            "  inflating: Actor_09/03-01-07-01-01-01-09.wav  \n",
            "  inflating: Actor_09/03-01-07-01-01-02-09.wav  \n",
            "  inflating: Actor_09/03-01-07-01-02-01-09.wav  \n",
            "  inflating: Actor_09/03-01-07-01-02-02-09.wav  \n",
            "  inflating: Actor_09/03-01-07-02-01-01-09.wav  \n",
            "  inflating: Actor_09/03-01-07-02-01-02-09.wav  \n",
            "  inflating: Actor_09/03-01-07-02-02-01-09.wav  \n",
            "  inflating: Actor_09/03-01-07-02-02-02-09.wav  \n",
            "  inflating: Actor_09/03-01-08-01-01-01-09.wav  \n",
            "  inflating: Actor_09/03-01-08-01-01-02-09.wav  \n",
            "  inflating: Actor_09/03-01-08-01-02-01-09.wav  \n",
            "  inflating: Actor_09/03-01-08-01-02-02-09.wav  \n",
            "  inflating: Actor_09/03-01-08-02-01-01-09.wav  \n",
            "  inflating: Actor_09/03-01-08-02-01-02-09.wav  \n",
            "  inflating: Actor_09/03-01-08-02-02-01-09.wav  \n",
            "  inflating: Actor_09/03-01-08-02-02-02-09.wav  \n",
            "  inflating: Actor_10/03-01-01-01-01-01-10.wav  \n",
            "  inflating: Actor_10/03-01-01-01-01-02-10.wav  \n",
            "  inflating: Actor_10/03-01-01-01-02-01-10.wav  \n",
            "  inflating: Actor_10/03-01-01-01-02-02-10.wav  \n",
            "  inflating: Actor_10/03-01-02-01-01-01-10.wav  \n",
            "  inflating: Actor_10/03-01-02-01-01-02-10.wav  \n",
            "  inflating: Actor_10/03-01-02-01-02-01-10.wav  \n",
            "  inflating: Actor_10/03-01-02-01-02-02-10.wav  \n",
            "  inflating: Actor_10/03-01-02-02-01-01-10.wav  \n",
            "  inflating: Actor_10/03-01-02-02-01-02-10.wav  \n",
            "  inflating: Actor_10/03-01-02-02-02-01-10.wav  \n",
            "  inflating: Actor_10/03-01-02-02-02-02-10.wav  \n",
            "  inflating: Actor_10/03-01-03-01-01-01-10.wav  \n",
            "  inflating: Actor_10/03-01-03-01-01-02-10.wav  \n",
            "  inflating: Actor_10/03-01-03-01-02-01-10.wav  \n",
            "  inflating: Actor_10/03-01-03-01-02-02-10.wav  \n",
            "  inflating: Actor_10/03-01-03-02-01-01-10.wav  \n",
            "  inflating: Actor_10/03-01-03-02-01-02-10.wav  \n",
            "  inflating: Actor_10/03-01-03-02-02-01-10.wav  \n",
            "  inflating: Actor_10/03-01-03-02-02-02-10.wav  \n",
            "  inflating: Actor_10/03-01-04-01-01-01-10.wav  \n",
            "  inflating: Actor_10/03-01-04-01-01-02-10.wav  \n",
            "  inflating: Actor_10/03-01-04-01-02-01-10.wav  \n",
            "  inflating: Actor_10/03-01-04-01-02-02-10.wav  \n",
            "  inflating: Actor_10/03-01-04-02-01-01-10.wav  \n",
            "  inflating: Actor_10/03-01-04-02-01-02-10.wav  \n",
            "  inflating: Actor_10/03-01-04-02-02-01-10.wav  \n",
            "  inflating: Actor_10/03-01-04-02-02-02-10.wav  \n",
            "  inflating: Actor_10/03-01-05-01-01-01-10.wav  \n",
            "  inflating: Actor_10/03-01-05-01-01-02-10.wav  \n",
            "  inflating: Actor_10/03-01-05-01-02-01-10.wav  \n",
            "  inflating: Actor_10/03-01-05-01-02-02-10.wav  \n",
            "  inflating: Actor_10/03-01-05-02-01-01-10.wav  \n",
            "  inflating: Actor_10/03-01-05-02-01-02-10.wav  \n",
            "  inflating: Actor_10/03-01-05-02-02-01-10.wav  \n",
            "  inflating: Actor_10/03-01-05-02-02-02-10.wav  \n",
            "  inflating: Actor_10/03-01-06-01-01-01-10.wav  \n",
            "  inflating: Actor_10/03-01-06-01-01-02-10.wav  \n",
            "  inflating: Actor_10/03-01-06-01-02-01-10.wav  \n",
            "  inflating: Actor_10/03-01-06-01-02-02-10.wav  \n",
            "  inflating: Actor_10/03-01-06-02-01-01-10.wav  \n",
            "  inflating: Actor_10/03-01-06-02-01-02-10.wav  \n",
            "  inflating: Actor_10/03-01-06-02-02-01-10.wav  \n",
            "  inflating: Actor_10/03-01-06-02-02-02-10.wav  \n",
            "  inflating: Actor_10/03-01-07-01-01-01-10.wav  \n",
            "  inflating: Actor_10/03-01-07-01-01-02-10.wav  \n",
            "  inflating: Actor_10/03-01-07-01-02-01-10.wav  \n",
            "  inflating: Actor_10/03-01-07-01-02-02-10.wav  \n",
            "  inflating: Actor_10/03-01-07-02-01-01-10.wav  \n",
            "  inflating: Actor_10/03-01-07-02-01-02-10.wav  \n",
            "  inflating: Actor_10/03-01-07-02-02-01-10.wav  \n",
            "  inflating: Actor_10/03-01-07-02-02-02-10.wav  \n",
            "  inflating: Actor_10/03-01-08-01-01-01-10.wav  \n",
            "  inflating: Actor_10/03-01-08-01-01-02-10.wav  \n",
            "  inflating: Actor_10/03-01-08-01-02-01-10.wav  \n",
            "  inflating: Actor_10/03-01-08-01-02-02-10.wav  \n",
            "  inflating: Actor_10/03-01-08-02-01-01-10.wav  \n",
            "  inflating: Actor_10/03-01-08-02-01-02-10.wav  \n",
            "  inflating: Actor_10/03-01-08-02-02-01-10.wav  \n",
            "  inflating: Actor_10/03-01-08-02-02-02-10.wav  \n",
            "  inflating: Actor_11/03-01-01-01-01-01-11.wav  \n",
            "  inflating: Actor_11/03-01-01-01-01-02-11.wav  \n",
            "  inflating: Actor_11/03-01-01-01-02-01-11.wav  \n",
            "  inflating: Actor_11/03-01-01-01-02-02-11.wav  \n",
            "  inflating: Actor_11/03-01-02-01-01-01-11.wav  \n",
            "  inflating: Actor_11/03-01-02-01-01-02-11.wav  \n",
            "  inflating: Actor_11/03-01-02-01-02-01-11.wav  \n",
            "  inflating: Actor_11/03-01-02-01-02-02-11.wav  \n",
            "  inflating: Actor_11/03-01-02-02-01-01-11.wav  \n",
            "  inflating: Actor_11/03-01-02-02-01-02-11.wav  \n",
            "  inflating: Actor_11/03-01-02-02-02-01-11.wav  \n",
            "  inflating: Actor_11/03-01-02-02-02-02-11.wav  \n",
            "  inflating: Actor_11/03-01-03-01-01-01-11.wav  \n",
            "  inflating: Actor_11/03-01-03-01-01-02-11.wav  \n",
            "  inflating: Actor_11/03-01-03-01-02-01-11.wav  \n",
            "  inflating: Actor_11/03-01-03-01-02-02-11.wav  \n",
            "  inflating: Actor_11/03-01-03-02-01-01-11.wav  \n",
            "  inflating: Actor_11/03-01-03-02-01-02-11.wav  \n",
            "  inflating: Actor_11/03-01-03-02-02-01-11.wav  \n",
            "  inflating: Actor_11/03-01-03-02-02-02-11.wav  \n",
            "  inflating: Actor_11/03-01-04-01-01-01-11.wav  \n",
            "  inflating: Actor_11/03-01-04-01-01-02-11.wav  \n",
            "  inflating: Actor_11/03-01-04-01-02-01-11.wav  \n",
            "  inflating: Actor_11/03-01-04-01-02-02-11.wav  \n",
            "  inflating: Actor_11/03-01-04-02-01-01-11.wav  \n",
            "  inflating: Actor_11/03-01-04-02-01-02-11.wav  \n",
            "  inflating: Actor_11/03-01-04-02-02-01-11.wav  \n",
            "  inflating: Actor_11/03-01-04-02-02-02-11.wav  \n",
            "  inflating: Actor_11/03-01-05-01-01-01-11.wav  \n",
            "  inflating: Actor_11/03-01-05-01-01-02-11.wav  \n",
            "  inflating: Actor_11/03-01-05-01-02-01-11.wav  \n",
            "  inflating: Actor_11/03-01-05-01-02-02-11.wav  \n",
            "  inflating: Actor_11/03-01-05-02-01-01-11.wav  \n",
            "  inflating: Actor_11/03-01-05-02-01-02-11.wav  \n",
            "  inflating: Actor_11/03-01-05-02-02-01-11.wav  \n",
            "  inflating: Actor_11/03-01-05-02-02-02-11.wav  \n",
            "  inflating: Actor_11/03-01-06-01-01-01-11.wav  \n",
            "  inflating: Actor_11/03-01-06-01-01-02-11.wav  \n",
            "  inflating: Actor_11/03-01-06-01-02-01-11.wav  \n",
            "  inflating: Actor_11/03-01-06-01-02-02-11.wav  \n",
            "  inflating: Actor_11/03-01-06-02-01-01-11.wav  \n",
            "  inflating: Actor_11/03-01-06-02-01-02-11.wav  \n",
            "  inflating: Actor_11/03-01-06-02-02-01-11.wav  \n",
            "  inflating: Actor_11/03-01-06-02-02-02-11.wav  \n",
            "  inflating: Actor_11/03-01-07-01-01-01-11.wav  \n",
            "  inflating: Actor_11/03-01-07-01-01-02-11.wav  \n",
            "  inflating: Actor_11/03-01-07-01-02-01-11.wav  \n",
            "  inflating: Actor_11/03-01-07-01-02-02-11.wav  \n",
            "  inflating: Actor_11/03-01-07-02-01-01-11.wav  \n",
            "  inflating: Actor_11/03-01-07-02-01-02-11.wav  \n",
            "  inflating: Actor_11/03-01-07-02-02-01-11.wav  \n",
            "  inflating: Actor_11/03-01-07-02-02-02-11.wav  \n",
            "  inflating: Actor_11/03-01-08-01-01-01-11.wav  \n",
            "  inflating: Actor_11/03-01-08-01-01-02-11.wav  \n",
            "  inflating: Actor_11/03-01-08-01-02-01-11.wav  \n",
            "  inflating: Actor_11/03-01-08-01-02-02-11.wav  \n",
            "  inflating: Actor_11/03-01-08-02-01-01-11.wav  \n",
            "  inflating: Actor_11/03-01-08-02-01-02-11.wav  \n",
            "  inflating: Actor_11/03-01-08-02-02-01-11.wav  \n",
            "  inflating: Actor_11/03-01-08-02-02-02-11.wav  \n",
            "  inflating: Actor_12/03-01-01-01-01-01-12.wav  \n",
            "  inflating: Actor_12/03-01-01-01-01-02-12.wav  \n",
            "  inflating: Actor_12/03-01-01-01-02-01-12.wav  \n",
            "  inflating: Actor_12/03-01-01-01-02-02-12.wav  \n",
            "  inflating: Actor_12/03-01-02-01-01-01-12.wav  \n",
            "  inflating: Actor_12/03-01-02-01-01-02-12.wav  \n",
            "  inflating: Actor_12/03-01-02-01-02-01-12.wav  \n",
            "  inflating: Actor_12/03-01-02-01-02-02-12.wav  \n",
            "  inflating: Actor_12/03-01-02-02-01-01-12.wav  \n",
            "  inflating: Actor_12/03-01-02-02-01-02-12.wav  \n",
            "  inflating: Actor_12/03-01-02-02-02-01-12.wav  \n",
            "  inflating: Actor_12/03-01-02-02-02-02-12.wav  \n",
            "  inflating: Actor_12/03-01-03-01-01-01-12.wav  \n",
            "  inflating: Actor_12/03-01-03-01-01-02-12.wav  \n",
            "  inflating: Actor_12/03-01-03-01-02-01-12.wav  \n",
            "  inflating: Actor_12/03-01-03-01-02-02-12.wav  \n",
            "  inflating: Actor_12/03-01-03-02-01-01-12.wav  \n",
            "  inflating: Actor_12/03-01-03-02-01-02-12.wav  \n",
            "  inflating: Actor_12/03-01-03-02-02-01-12.wav  \n",
            "  inflating: Actor_12/03-01-03-02-02-02-12.wav  \n",
            "  inflating: Actor_12/03-01-04-01-01-01-12.wav  \n",
            "  inflating: Actor_12/03-01-04-01-01-02-12.wav  \n",
            "  inflating: Actor_12/03-01-04-01-02-01-12.wav  \n",
            "  inflating: Actor_12/03-01-04-01-02-02-12.wav  \n",
            "  inflating: Actor_12/03-01-04-02-01-01-12.wav  \n",
            "  inflating: Actor_12/03-01-04-02-01-02-12.wav  \n",
            "  inflating: Actor_12/03-01-04-02-02-01-12.wav  \n",
            "  inflating: Actor_12/03-01-04-02-02-02-12.wav  \n",
            "  inflating: Actor_12/03-01-05-01-01-01-12.wav  \n",
            "  inflating: Actor_12/03-01-05-01-01-02-12.wav  \n",
            "  inflating: Actor_12/03-01-05-01-02-01-12.wav  \n",
            "  inflating: Actor_12/03-01-05-01-02-02-12.wav  \n",
            "  inflating: Actor_12/03-01-05-02-01-01-12.wav  \n",
            "  inflating: Actor_12/03-01-05-02-01-02-12.wav  \n",
            "  inflating: Actor_12/03-01-05-02-02-01-12.wav  \n",
            "  inflating: Actor_12/03-01-05-02-02-02-12.wav  \n",
            "  inflating: Actor_12/03-01-06-01-01-01-12.wav  \n",
            "  inflating: Actor_12/03-01-06-01-01-02-12.wav  \n",
            "  inflating: Actor_12/03-01-06-01-02-01-12.wav  \n",
            "  inflating: Actor_12/03-01-06-01-02-02-12.wav  \n",
            "  inflating: Actor_12/03-01-06-02-01-01-12.wav  \n",
            "  inflating: Actor_12/03-01-06-02-01-02-12.wav  \n",
            "  inflating: Actor_12/03-01-06-02-02-01-12.wav  \n",
            "  inflating: Actor_12/03-01-06-02-02-02-12.wav  \n",
            "  inflating: Actor_12/03-01-07-01-01-01-12.wav  \n",
            "  inflating: Actor_12/03-01-07-01-01-02-12.wav  \n",
            "  inflating: Actor_12/03-01-07-01-02-01-12.wav  \n",
            "  inflating: Actor_12/03-01-07-01-02-02-12.wav  \n",
            "  inflating: Actor_12/03-01-07-02-01-01-12.wav  \n",
            "  inflating: Actor_12/03-01-07-02-01-02-12.wav  \n",
            "  inflating: Actor_12/03-01-07-02-02-01-12.wav  \n",
            "  inflating: Actor_12/03-01-07-02-02-02-12.wav  \n",
            "  inflating: Actor_12/03-01-08-01-01-01-12.wav  \n",
            "  inflating: Actor_12/03-01-08-01-01-02-12.wav  \n",
            "  inflating: Actor_12/03-01-08-01-02-01-12.wav  \n",
            "  inflating: Actor_12/03-01-08-01-02-02-12.wav  \n",
            "  inflating: Actor_12/03-01-08-02-01-01-12.wav  \n",
            "  inflating: Actor_12/03-01-08-02-01-02-12.wav  \n",
            "  inflating: Actor_12/03-01-08-02-02-01-12.wav  \n",
            "  inflating: Actor_12/03-01-08-02-02-02-12.wav  \n",
            "  inflating: Actor_13/03-01-01-01-01-01-13.wav  \n",
            "  inflating: Actor_13/03-01-01-01-01-02-13.wav  \n",
            "  inflating: Actor_13/03-01-01-01-02-01-13.wav  \n",
            "  inflating: Actor_13/03-01-01-01-02-02-13.wav  \n",
            "  inflating: Actor_13/03-01-02-01-01-01-13.wav  \n",
            "  inflating: Actor_13/03-01-02-01-01-02-13.wav  \n",
            "  inflating: Actor_13/03-01-02-01-02-01-13.wav  \n",
            "  inflating: Actor_13/03-01-02-01-02-02-13.wav  \n",
            "  inflating: Actor_13/03-01-02-02-01-01-13.wav  \n",
            "  inflating: Actor_13/03-01-02-02-01-02-13.wav  \n",
            "  inflating: Actor_13/03-01-02-02-02-01-13.wav  \n",
            "  inflating: Actor_13/03-01-02-02-02-02-13.wav  \n",
            "  inflating: Actor_13/03-01-03-01-01-01-13.wav  \n",
            "  inflating: Actor_13/03-01-03-01-01-02-13.wav  \n",
            "  inflating: Actor_13/03-01-03-01-02-01-13.wav  \n",
            "  inflating: Actor_13/03-01-03-01-02-02-13.wav  \n",
            "  inflating: Actor_13/03-01-03-02-01-01-13.wav  \n",
            "  inflating: Actor_13/03-01-03-02-01-02-13.wav  \n",
            "  inflating: Actor_13/03-01-03-02-02-01-13.wav  \n",
            "  inflating: Actor_13/03-01-03-02-02-02-13.wav  \n",
            "  inflating: Actor_13/03-01-04-01-01-01-13.wav  \n",
            "  inflating: Actor_13/03-01-04-01-01-02-13.wav  \n",
            "  inflating: Actor_13/03-01-04-01-02-01-13.wav  \n",
            "  inflating: Actor_13/03-01-04-01-02-02-13.wav  \n",
            "  inflating: Actor_13/03-01-04-02-01-01-13.wav  \n",
            "  inflating: Actor_13/03-01-04-02-01-02-13.wav  \n",
            "  inflating: Actor_13/03-01-04-02-02-01-13.wav  \n",
            "  inflating: Actor_13/03-01-04-02-02-02-13.wav  \n",
            "  inflating: Actor_13/03-01-05-01-01-01-13.wav  \n",
            "  inflating: Actor_13/03-01-05-01-01-02-13.wav  \n",
            "  inflating: Actor_13/03-01-05-01-02-01-13.wav  \n",
            "  inflating: Actor_13/03-01-05-01-02-02-13.wav  \n",
            "  inflating: Actor_13/03-01-05-02-01-01-13.wav  \n",
            "  inflating: Actor_13/03-01-05-02-01-02-13.wav  \n",
            "  inflating: Actor_13/03-01-05-02-02-01-13.wav  \n",
            "  inflating: Actor_13/03-01-05-02-02-02-13.wav  \n",
            "  inflating: Actor_13/03-01-06-01-01-01-13.wav  \n",
            "  inflating: Actor_13/03-01-06-01-01-02-13.wav  \n",
            "  inflating: Actor_13/03-01-06-01-02-01-13.wav  \n",
            "  inflating: Actor_13/03-01-06-01-02-02-13.wav  \n",
            "  inflating: Actor_13/03-01-06-02-01-01-13.wav  \n",
            "  inflating: Actor_13/03-01-06-02-01-02-13.wav  \n",
            "  inflating: Actor_13/03-01-06-02-02-01-13.wav  \n",
            "  inflating: Actor_13/03-01-06-02-02-02-13.wav  \n",
            "  inflating: Actor_13/03-01-07-01-01-01-13.wav  \n",
            "  inflating: Actor_13/03-01-07-01-01-02-13.wav  \n",
            "  inflating: Actor_13/03-01-07-01-02-01-13.wav  \n",
            "  inflating: Actor_13/03-01-07-01-02-02-13.wav  \n",
            "  inflating: Actor_13/03-01-07-02-01-01-13.wav  \n",
            "  inflating: Actor_13/03-01-07-02-01-02-13.wav  \n",
            "  inflating: Actor_13/03-01-07-02-02-01-13.wav  \n",
            "  inflating: Actor_13/03-01-07-02-02-02-13.wav  \n",
            "  inflating: Actor_13/03-01-08-01-01-01-13.wav  \n",
            "  inflating: Actor_13/03-01-08-01-01-02-13.wav  \n",
            "  inflating: Actor_13/03-01-08-01-02-01-13.wav  \n",
            "  inflating: Actor_13/03-01-08-01-02-02-13.wav  \n",
            "  inflating: Actor_13/03-01-08-02-01-01-13.wav  \n",
            "  inflating: Actor_13/03-01-08-02-01-02-13.wav  \n",
            "  inflating: Actor_13/03-01-08-02-02-01-13.wav  \n",
            "  inflating: Actor_13/03-01-08-02-02-02-13.wav  \n",
            "  inflating: Actor_14/03-01-01-01-01-01-14.wav  \n",
            "  inflating: Actor_14/03-01-01-01-01-02-14.wav  \n",
            "  inflating: Actor_14/03-01-01-01-02-01-14.wav  \n",
            "  inflating: Actor_14/03-01-01-01-02-02-14.wav  \n",
            "  inflating: Actor_14/03-01-02-01-01-01-14.wav  \n",
            "  inflating: Actor_14/03-01-02-01-01-02-14.wav  \n",
            "  inflating: Actor_14/03-01-02-01-02-01-14.wav  \n",
            "  inflating: Actor_14/03-01-02-01-02-02-14.wav  \n",
            "  inflating: Actor_14/03-01-02-02-01-01-14.wav  \n",
            "  inflating: Actor_14/03-01-02-02-01-02-14.wav  \n",
            "  inflating: Actor_14/03-01-02-02-02-01-14.wav  \n",
            "  inflating: Actor_14/03-01-02-02-02-02-14.wav  \n",
            "  inflating: Actor_14/03-01-03-01-01-01-14.wav  \n",
            "  inflating: Actor_14/03-01-03-01-01-02-14.wav  \n",
            "  inflating: Actor_14/03-01-03-01-02-01-14.wav  \n",
            "  inflating: Actor_14/03-01-03-01-02-02-14.wav  \n",
            "  inflating: Actor_14/03-01-03-02-01-01-14.wav  \n",
            "  inflating: Actor_14/03-01-03-02-01-02-14.wav  \n",
            "  inflating: Actor_14/03-01-03-02-02-01-14.wav  \n",
            "  inflating: Actor_14/03-01-03-02-02-02-14.wav  \n",
            "  inflating: Actor_14/03-01-04-01-01-01-14.wav  \n",
            "  inflating: Actor_14/03-01-04-01-01-02-14.wav  \n",
            "  inflating: Actor_14/03-01-04-01-02-01-14.wav  \n",
            "  inflating: Actor_14/03-01-04-01-02-02-14.wav  \n",
            "  inflating: Actor_14/03-01-04-02-01-01-14.wav  \n",
            "  inflating: Actor_14/03-01-04-02-01-02-14.wav  \n",
            "  inflating: Actor_14/03-01-04-02-02-01-14.wav  \n",
            "  inflating: Actor_14/03-01-04-02-02-02-14.wav  \n",
            "  inflating: Actor_14/03-01-05-01-01-01-14.wav  \n",
            "  inflating: Actor_14/03-01-05-01-01-02-14.wav  \n",
            "  inflating: Actor_14/03-01-05-01-02-01-14.wav  \n",
            "  inflating: Actor_14/03-01-05-01-02-02-14.wav  \n",
            "  inflating: Actor_14/03-01-05-02-01-01-14.wav  \n",
            "  inflating: Actor_14/03-01-05-02-01-02-14.wav  \n",
            "  inflating: Actor_14/03-01-05-02-02-01-14.wav  \n",
            "  inflating: Actor_14/03-01-05-02-02-02-14.wav  \n",
            "  inflating: Actor_14/03-01-06-01-01-01-14.wav  \n",
            "  inflating: Actor_14/03-01-06-01-01-02-14.wav  \n",
            "  inflating: Actor_14/03-01-06-01-02-01-14.wav  \n",
            "  inflating: Actor_14/03-01-06-01-02-02-14.wav  \n",
            "  inflating: Actor_14/03-01-06-02-01-01-14.wav  \n",
            "  inflating: Actor_14/03-01-06-02-01-02-14.wav  \n",
            "  inflating: Actor_14/03-01-06-02-02-01-14.wav  \n",
            "  inflating: Actor_14/03-01-06-02-02-02-14.wav  \n",
            "  inflating: Actor_14/03-01-07-01-01-01-14.wav  \n",
            "  inflating: Actor_14/03-01-07-01-01-02-14.wav  \n",
            "  inflating: Actor_14/03-01-07-01-02-01-14.wav  \n",
            "  inflating: Actor_14/03-01-07-01-02-02-14.wav  \n",
            "  inflating: Actor_14/03-01-07-02-01-01-14.wav  \n",
            "  inflating: Actor_14/03-01-07-02-01-02-14.wav  \n",
            "  inflating: Actor_14/03-01-07-02-02-01-14.wav  \n",
            "  inflating: Actor_14/03-01-07-02-02-02-14.wav  \n",
            "  inflating: Actor_14/03-01-08-01-01-01-14.wav  \n",
            "  inflating: Actor_14/03-01-08-01-01-02-14.wav  \n",
            "  inflating: Actor_14/03-01-08-01-02-01-14.wav  \n",
            "  inflating: Actor_14/03-01-08-01-02-02-14.wav  \n",
            "  inflating: Actor_14/03-01-08-02-01-01-14.wav  \n",
            "  inflating: Actor_14/03-01-08-02-01-02-14.wav  \n",
            "  inflating: Actor_14/03-01-08-02-02-01-14.wav  \n",
            "  inflating: Actor_14/03-01-08-02-02-02-14.wav  \n",
            "  inflating: Actor_15/03-01-01-01-01-01-15.wav  \n",
            "  inflating: Actor_15/03-01-01-01-01-02-15.wav  \n",
            "  inflating: Actor_15/03-01-01-01-02-01-15.wav  \n",
            "  inflating: Actor_15/03-01-01-01-02-02-15.wav  \n",
            "  inflating: Actor_15/03-01-02-01-01-01-15.wav  \n",
            "  inflating: Actor_15/03-01-02-01-01-02-15.wav  \n",
            "  inflating: Actor_15/03-01-02-01-02-01-15.wav  \n",
            "  inflating: Actor_15/03-01-02-01-02-02-15.wav  \n",
            "  inflating: Actor_15/03-01-02-02-01-01-15.wav  \n",
            "  inflating: Actor_15/03-01-02-02-01-02-15.wav  \n",
            "  inflating: Actor_15/03-01-02-02-02-01-15.wav  \n",
            "  inflating: Actor_15/03-01-02-02-02-02-15.wav  \n",
            "  inflating: Actor_15/03-01-03-01-01-01-15.wav  \n",
            "  inflating: Actor_15/03-01-03-01-01-02-15.wav  \n",
            "  inflating: Actor_15/03-01-03-01-02-01-15.wav  \n",
            "  inflating: Actor_15/03-01-03-01-02-02-15.wav  \n",
            "  inflating: Actor_15/03-01-03-02-01-01-15.wav  \n",
            "  inflating: Actor_15/03-01-03-02-01-02-15.wav  \n",
            "  inflating: Actor_15/03-01-03-02-02-01-15.wav  \n",
            "  inflating: Actor_15/03-01-03-02-02-02-15.wav  \n",
            "  inflating: Actor_15/03-01-04-01-01-01-15.wav  \n",
            "  inflating: Actor_15/03-01-04-01-01-02-15.wav  \n",
            "  inflating: Actor_15/03-01-04-01-02-01-15.wav  \n",
            "  inflating: Actor_15/03-01-04-01-02-02-15.wav  \n",
            "  inflating: Actor_15/03-01-04-02-01-01-15.wav  \n",
            "  inflating: Actor_15/03-01-04-02-01-02-15.wav  \n",
            "  inflating: Actor_15/03-01-04-02-02-01-15.wav  \n",
            "  inflating: Actor_15/03-01-04-02-02-02-15.wav  \n",
            "  inflating: Actor_15/03-01-05-01-01-01-15.wav  \n",
            "  inflating: Actor_15/03-01-05-01-01-02-15.wav  \n",
            "  inflating: Actor_15/03-01-05-01-02-01-15.wav  \n",
            "  inflating: Actor_15/03-01-05-01-02-02-15.wav  \n",
            "  inflating: Actor_15/03-01-05-02-01-01-15.wav  \n",
            "  inflating: Actor_15/03-01-05-02-01-02-15.wav  \n",
            "  inflating: Actor_15/03-01-05-02-02-01-15.wav  \n",
            "  inflating: Actor_15/03-01-05-02-02-02-15.wav  \n",
            "  inflating: Actor_15/03-01-06-01-01-01-15.wav  \n",
            "  inflating: Actor_15/03-01-06-01-01-02-15.wav  \n",
            "  inflating: Actor_15/03-01-06-01-02-01-15.wav  \n",
            "  inflating: Actor_15/03-01-06-01-02-02-15.wav  \n",
            "  inflating: Actor_15/03-01-06-02-01-01-15.wav  \n",
            "  inflating: Actor_15/03-01-06-02-01-02-15.wav  \n",
            "  inflating: Actor_15/03-01-06-02-02-01-15.wav  \n",
            "  inflating: Actor_15/03-01-06-02-02-02-15.wav  \n",
            "  inflating: Actor_15/03-01-07-01-01-01-15.wav  \n",
            "  inflating: Actor_15/03-01-07-01-01-02-15.wav  \n",
            "  inflating: Actor_15/03-01-07-01-02-01-15.wav  \n",
            "  inflating: Actor_15/03-01-07-01-02-02-15.wav  \n",
            "  inflating: Actor_15/03-01-07-02-01-01-15.wav  \n",
            "  inflating: Actor_15/03-01-07-02-01-02-15.wav  \n",
            "  inflating: Actor_15/03-01-07-02-02-01-15.wav  \n",
            "  inflating: Actor_15/03-01-07-02-02-02-15.wav  \n",
            "  inflating: Actor_15/03-01-08-01-01-01-15.wav  \n",
            "  inflating: Actor_15/03-01-08-01-01-02-15.wav  \n",
            "  inflating: Actor_15/03-01-08-01-02-01-15.wav  \n",
            "  inflating: Actor_15/03-01-08-01-02-02-15.wav  \n",
            "  inflating: Actor_15/03-01-08-02-01-01-15.wav  \n",
            "  inflating: Actor_15/03-01-08-02-01-02-15.wav  \n",
            "  inflating: Actor_15/03-01-08-02-02-01-15.wav  \n",
            "  inflating: Actor_15/03-01-08-02-02-02-15.wav  \n",
            "  inflating: Actor_16/03-01-01-01-01-01-16.wav  \n",
            "  inflating: Actor_16/03-01-01-01-01-02-16.wav  \n",
            "  inflating: Actor_16/03-01-01-01-02-01-16.wav  \n",
            "  inflating: Actor_16/03-01-01-01-02-02-16.wav  \n",
            "  inflating: Actor_16/03-01-02-01-01-01-16.wav  \n",
            "  inflating: Actor_16/03-01-02-01-01-02-16.wav  \n",
            "  inflating: Actor_16/03-01-02-01-02-01-16.wav  \n",
            "  inflating: Actor_16/03-01-02-01-02-02-16.wav  \n",
            "  inflating: Actor_16/03-01-02-02-01-01-16.wav  \n",
            "  inflating: Actor_16/03-01-02-02-01-02-16.wav  \n",
            "  inflating: Actor_16/03-01-02-02-02-01-16.wav  \n",
            "  inflating: Actor_16/03-01-02-02-02-02-16.wav  \n",
            "  inflating: Actor_16/03-01-03-01-01-01-16.wav  \n",
            "  inflating: Actor_16/03-01-03-01-01-02-16.wav  \n",
            "  inflating: Actor_16/03-01-03-01-02-01-16.wav  \n",
            "  inflating: Actor_16/03-01-03-01-02-02-16.wav  \n",
            "  inflating: Actor_16/03-01-03-02-01-01-16.wav  \n",
            "  inflating: Actor_16/03-01-03-02-01-02-16.wav  \n",
            "  inflating: Actor_16/03-01-03-02-02-01-16.wav  \n",
            "  inflating: Actor_16/03-01-03-02-02-02-16.wav  \n",
            "  inflating: Actor_16/03-01-04-01-01-01-16.wav  \n",
            "  inflating: Actor_16/03-01-04-01-01-02-16.wav  \n",
            "  inflating: Actor_16/03-01-04-01-02-01-16.wav  \n",
            "  inflating: Actor_16/03-01-04-01-02-02-16.wav  \n",
            "  inflating: Actor_16/03-01-04-02-01-01-16.wav  \n",
            "  inflating: Actor_16/03-01-04-02-01-02-16.wav  \n",
            "  inflating: Actor_16/03-01-04-02-02-01-16.wav  \n",
            "  inflating: Actor_16/03-01-04-02-02-02-16.wav  \n",
            "  inflating: Actor_16/03-01-05-01-01-01-16.wav  \n",
            "  inflating: Actor_16/03-01-05-01-01-02-16.wav  \n",
            "  inflating: Actor_16/03-01-05-01-02-01-16.wav  \n",
            "  inflating: Actor_16/03-01-05-01-02-02-16.wav  \n",
            "  inflating: Actor_16/03-01-05-02-01-01-16.wav  \n",
            "  inflating: Actor_16/03-01-05-02-01-02-16.wav  \n",
            "  inflating: Actor_16/03-01-05-02-02-01-16.wav  \n",
            "  inflating: Actor_16/03-01-05-02-02-02-16.wav  \n",
            "  inflating: Actor_16/03-01-06-01-01-01-16.wav  \n",
            "  inflating: Actor_16/03-01-06-01-01-02-16.wav  \n",
            "  inflating: Actor_16/03-01-06-01-02-01-16.wav  \n",
            "  inflating: Actor_16/03-01-06-01-02-02-16.wav  \n",
            "  inflating: Actor_16/03-01-06-02-01-01-16.wav  \n",
            "  inflating: Actor_16/03-01-06-02-01-02-16.wav  \n",
            "  inflating: Actor_16/03-01-06-02-02-01-16.wav  \n",
            "  inflating: Actor_16/03-01-06-02-02-02-16.wav  \n",
            "  inflating: Actor_16/03-01-07-01-01-01-16.wav  \n",
            "  inflating: Actor_16/03-01-07-01-01-02-16.wav  \n",
            "  inflating: Actor_16/03-01-07-01-02-01-16.wav  \n",
            "  inflating: Actor_16/03-01-07-01-02-02-16.wav  \n",
            "  inflating: Actor_16/03-01-07-02-01-01-16.wav  \n",
            "  inflating: Actor_16/03-01-07-02-01-02-16.wav  \n",
            "  inflating: Actor_16/03-01-07-02-02-01-16.wav  \n",
            "  inflating: Actor_16/03-01-07-02-02-02-16.wav  \n",
            "  inflating: Actor_16/03-01-08-01-01-01-16.wav  \n",
            "  inflating: Actor_16/03-01-08-01-01-02-16.wav  \n",
            "  inflating: Actor_16/03-01-08-01-02-01-16.wav  \n",
            "  inflating: Actor_16/03-01-08-01-02-02-16.wav  \n",
            "  inflating: Actor_16/03-01-08-02-01-01-16.wav  \n",
            "  inflating: Actor_16/03-01-08-02-01-02-16.wav  \n",
            "  inflating: Actor_16/03-01-08-02-02-01-16.wav  \n",
            "  inflating: Actor_16/03-01-08-02-02-02-16.wav  \n",
            "  inflating: Actor_17/03-01-01-01-01-01-17.wav  \n",
            "  inflating: Actor_17/03-01-01-01-01-02-17.wav  \n",
            "  inflating: Actor_17/03-01-01-01-02-01-17.wav  \n",
            "  inflating: Actor_17/03-01-01-01-02-02-17.wav  \n",
            "  inflating: Actor_17/03-01-02-01-01-01-17.wav  \n",
            "  inflating: Actor_17/03-01-02-01-01-02-17.wav  \n",
            "  inflating: Actor_17/03-01-02-01-02-01-17.wav  \n",
            "  inflating: Actor_17/03-01-02-01-02-02-17.wav  \n",
            "  inflating: Actor_17/03-01-02-02-01-01-17.wav  \n",
            "  inflating: Actor_17/03-01-02-02-01-02-17.wav  \n",
            "  inflating: Actor_17/03-01-02-02-02-01-17.wav  \n",
            "  inflating: Actor_17/03-01-02-02-02-02-17.wav  \n",
            "  inflating: Actor_17/03-01-03-01-01-01-17.wav  \n",
            "  inflating: Actor_17/03-01-03-01-01-02-17.wav  \n",
            "  inflating: Actor_17/03-01-03-01-02-01-17.wav  \n",
            "  inflating: Actor_17/03-01-03-01-02-02-17.wav  \n",
            "  inflating: Actor_17/03-01-03-02-01-01-17.wav  \n",
            "  inflating: Actor_17/03-01-03-02-01-02-17.wav  \n",
            "  inflating: Actor_17/03-01-03-02-02-01-17.wav  \n",
            "  inflating: Actor_17/03-01-03-02-02-02-17.wav  \n",
            "  inflating: Actor_17/03-01-04-01-01-01-17.wav  \n",
            "  inflating: Actor_17/03-01-04-01-01-02-17.wav  \n",
            "  inflating: Actor_17/03-01-04-01-02-01-17.wav  \n",
            "  inflating: Actor_17/03-01-04-01-02-02-17.wav  \n",
            "  inflating: Actor_17/03-01-04-02-01-01-17.wav  \n",
            "  inflating: Actor_17/03-01-04-02-01-02-17.wav  \n",
            "  inflating: Actor_17/03-01-04-02-02-01-17.wav  \n",
            "  inflating: Actor_17/03-01-04-02-02-02-17.wav  \n",
            "  inflating: Actor_17/03-01-05-01-01-01-17.wav  \n",
            "  inflating: Actor_17/03-01-05-01-01-02-17.wav  \n",
            "  inflating: Actor_17/03-01-05-01-02-01-17.wav  \n",
            "  inflating: Actor_17/03-01-05-01-02-02-17.wav  \n",
            "  inflating: Actor_17/03-01-05-02-01-01-17.wav  \n",
            "  inflating: Actor_17/03-01-05-02-01-02-17.wav  \n",
            "  inflating: Actor_17/03-01-05-02-02-01-17.wav  \n",
            "  inflating: Actor_17/03-01-05-02-02-02-17.wav  \n",
            "  inflating: Actor_17/03-01-06-01-01-01-17.wav  \n",
            "  inflating: Actor_17/03-01-06-01-01-02-17.wav  \n",
            "  inflating: Actor_17/03-01-06-01-02-01-17.wav  \n",
            "  inflating: Actor_17/03-01-06-01-02-02-17.wav  \n",
            "  inflating: Actor_17/03-01-06-02-01-01-17.wav  \n",
            "  inflating: Actor_17/03-01-06-02-01-02-17.wav  \n",
            "  inflating: Actor_17/03-01-06-02-02-01-17.wav  \n",
            "  inflating: Actor_17/03-01-06-02-02-02-17.wav  \n",
            "  inflating: Actor_17/03-01-07-01-01-01-17.wav  \n",
            "  inflating: Actor_17/03-01-07-01-01-02-17.wav  \n",
            "  inflating: Actor_17/03-01-07-01-02-01-17.wav  \n",
            "  inflating: Actor_17/03-01-07-01-02-02-17.wav  \n",
            "  inflating: Actor_17/03-01-07-02-01-01-17.wav  \n",
            "  inflating: Actor_17/03-01-07-02-01-02-17.wav  \n",
            "  inflating: Actor_17/03-01-07-02-02-01-17.wav  \n",
            "  inflating: Actor_17/03-01-07-02-02-02-17.wav  \n",
            "  inflating: Actor_17/03-01-08-01-01-01-17.wav  \n",
            "  inflating: Actor_17/03-01-08-01-01-02-17.wav  \n",
            "  inflating: Actor_17/03-01-08-01-02-01-17.wav  \n",
            "  inflating: Actor_17/03-01-08-01-02-02-17.wav  \n",
            "  inflating: Actor_17/03-01-08-02-01-01-17.wav  \n",
            "  inflating: Actor_17/03-01-08-02-01-02-17.wav  \n",
            "  inflating: Actor_17/03-01-08-02-02-01-17.wav  \n",
            "  inflating: Actor_17/03-01-08-02-02-02-17.wav  \n",
            "  inflating: Actor_18/03-01-01-01-01-01-18.wav  \n",
            "  inflating: Actor_18/03-01-01-01-01-02-18.wav  \n",
            "  inflating: Actor_18/03-01-01-01-02-01-18.wav  \n",
            "  inflating: Actor_18/03-01-01-01-02-02-18.wav  \n",
            "  inflating: Actor_18/03-01-02-01-01-01-18.wav  \n",
            "  inflating: Actor_18/03-01-02-01-01-02-18.wav  \n",
            "  inflating: Actor_18/03-01-02-01-02-01-18.wav  \n",
            "  inflating: Actor_18/03-01-02-01-02-02-18.wav  \n",
            "  inflating: Actor_18/03-01-02-02-01-01-18.wav  \n",
            "  inflating: Actor_18/03-01-02-02-01-02-18.wav  \n",
            "  inflating: Actor_18/03-01-02-02-02-01-18.wav  \n",
            "  inflating: Actor_18/03-01-02-02-02-02-18.wav  \n",
            "  inflating: Actor_18/03-01-03-01-01-01-18.wav  \n",
            "  inflating: Actor_18/03-01-03-01-01-02-18.wav  \n",
            "  inflating: Actor_18/03-01-03-01-02-01-18.wav  \n",
            "  inflating: Actor_18/03-01-03-01-02-02-18.wav  \n",
            "  inflating: Actor_18/03-01-03-02-01-01-18.wav  \n",
            "  inflating: Actor_18/03-01-03-02-01-02-18.wav  \n",
            "  inflating: Actor_18/03-01-03-02-02-01-18.wav  \n",
            "  inflating: Actor_18/03-01-03-02-02-02-18.wav  \n",
            "  inflating: Actor_18/03-01-04-01-01-01-18.wav  \n",
            "  inflating: Actor_18/03-01-04-01-01-02-18.wav  \n",
            "  inflating: Actor_18/03-01-04-01-02-01-18.wav  \n",
            "  inflating: Actor_18/03-01-04-01-02-02-18.wav  \n",
            "  inflating: Actor_18/03-01-04-02-01-01-18.wav  \n",
            "  inflating: Actor_18/03-01-04-02-01-02-18.wav  \n",
            "  inflating: Actor_18/03-01-04-02-02-01-18.wav  \n",
            "  inflating: Actor_18/03-01-04-02-02-02-18.wav  \n",
            "  inflating: Actor_18/03-01-05-01-01-01-18.wav  \n",
            "  inflating: Actor_18/03-01-05-01-01-02-18.wav  \n",
            "  inflating: Actor_18/03-01-05-01-02-01-18.wav  \n",
            "  inflating: Actor_18/03-01-05-01-02-02-18.wav  \n",
            "  inflating: Actor_18/03-01-05-02-01-01-18.wav  \n",
            "  inflating: Actor_18/03-01-05-02-01-02-18.wav  \n",
            "  inflating: Actor_18/03-01-05-02-02-01-18.wav  \n",
            "  inflating: Actor_18/03-01-05-02-02-02-18.wav  \n",
            "  inflating: Actor_18/03-01-06-01-01-01-18.wav  \n",
            "  inflating: Actor_18/03-01-06-01-01-02-18.wav  \n",
            "  inflating: Actor_18/03-01-06-01-02-01-18.wav  \n",
            "  inflating: Actor_18/03-01-06-01-02-02-18.wav  \n",
            "  inflating: Actor_18/03-01-06-02-01-01-18.wav  \n",
            "  inflating: Actor_18/03-01-06-02-01-02-18.wav  \n",
            "  inflating: Actor_18/03-01-06-02-02-01-18.wav  \n",
            "  inflating: Actor_18/03-01-06-02-02-02-18.wav  \n",
            "  inflating: Actor_18/03-01-07-01-01-01-18.wav  \n",
            "  inflating: Actor_18/03-01-07-01-01-02-18.wav  \n",
            "  inflating: Actor_18/03-01-07-01-02-01-18.wav  \n",
            "  inflating: Actor_18/03-01-07-01-02-02-18.wav  \n",
            "  inflating: Actor_18/03-01-07-02-01-01-18.wav  \n",
            "  inflating: Actor_18/03-01-07-02-01-02-18.wav  \n",
            "  inflating: Actor_18/03-01-07-02-02-01-18.wav  \n",
            "  inflating: Actor_18/03-01-07-02-02-02-18.wav  \n",
            "  inflating: Actor_18/03-01-08-01-01-01-18.wav  \n",
            "  inflating: Actor_18/03-01-08-01-01-02-18.wav  \n",
            "  inflating: Actor_18/03-01-08-01-02-01-18.wav  \n",
            "  inflating: Actor_18/03-01-08-01-02-02-18.wav  \n",
            "  inflating: Actor_18/03-01-08-02-01-01-18.wav  \n",
            "  inflating: Actor_18/03-01-08-02-01-02-18.wav  \n",
            "  inflating: Actor_18/03-01-08-02-02-01-18.wav  \n",
            "  inflating: Actor_18/03-01-08-02-02-02-18.wav  \n",
            "  inflating: Actor_19/03-01-01-01-01-01-19.wav  \n",
            "  inflating: Actor_19/03-01-01-01-01-02-19.wav  \n",
            "  inflating: Actor_19/03-01-01-01-02-01-19.wav  \n",
            "  inflating: Actor_19/03-01-01-01-02-02-19.wav  \n",
            "  inflating: Actor_19/03-01-02-01-01-01-19.wav  \n",
            "  inflating: Actor_19/03-01-02-01-01-02-19.wav  \n",
            "  inflating: Actor_19/03-01-02-01-02-01-19.wav  \n",
            "  inflating: Actor_19/03-01-02-01-02-02-19.wav  \n",
            "  inflating: Actor_19/03-01-02-02-01-01-19.wav  \n",
            "  inflating: Actor_19/03-01-02-02-01-02-19.wav  \n",
            "  inflating: Actor_19/03-01-02-02-02-01-19.wav  \n",
            "  inflating: Actor_19/03-01-02-02-02-02-19.wav  \n",
            "  inflating: Actor_19/03-01-03-01-01-01-19.wav  \n",
            "  inflating: Actor_19/03-01-03-01-01-02-19.wav  \n",
            "  inflating: Actor_19/03-01-03-01-02-01-19.wav  \n",
            "  inflating: Actor_19/03-01-03-01-02-02-19.wav  \n",
            "  inflating: Actor_19/03-01-03-02-01-01-19.wav  \n",
            "  inflating: Actor_19/03-01-03-02-01-02-19.wav  \n",
            "  inflating: Actor_19/03-01-03-02-02-01-19.wav  \n",
            "  inflating: Actor_19/03-01-03-02-02-02-19.wav  \n",
            "  inflating: Actor_19/03-01-04-01-01-01-19.wav  \n",
            "  inflating: Actor_19/03-01-04-01-01-02-19.wav  \n",
            "  inflating: Actor_19/03-01-04-01-02-01-19.wav  \n",
            "  inflating: Actor_19/03-01-04-01-02-02-19.wav  \n",
            "  inflating: Actor_19/03-01-04-02-01-01-19.wav  \n",
            "  inflating: Actor_19/03-01-04-02-01-02-19.wav  \n",
            "  inflating: Actor_19/03-01-04-02-02-01-19.wav  \n",
            "  inflating: Actor_19/03-01-04-02-02-02-19.wav  \n",
            "  inflating: Actor_19/03-01-05-01-01-01-19.wav  \n",
            "  inflating: Actor_19/03-01-05-01-01-02-19.wav  \n",
            "  inflating: Actor_19/03-01-05-01-02-01-19.wav  \n",
            "  inflating: Actor_19/03-01-05-01-02-02-19.wav  \n",
            "  inflating: Actor_19/03-01-05-02-01-01-19.wav  \n",
            "  inflating: Actor_19/03-01-05-02-01-02-19.wav  \n",
            "  inflating: Actor_19/03-01-05-02-02-01-19.wav  \n",
            "  inflating: Actor_19/03-01-05-02-02-02-19.wav  \n",
            "  inflating: Actor_19/03-01-06-01-01-01-19.wav  \n",
            "  inflating: Actor_19/03-01-06-01-01-02-19.wav  \n",
            "  inflating: Actor_19/03-01-06-01-02-01-19.wav  \n",
            "  inflating: Actor_19/03-01-06-01-02-02-19.wav  \n",
            "  inflating: Actor_19/03-01-06-02-01-01-19.wav  \n",
            "  inflating: Actor_19/03-01-06-02-01-02-19.wav  \n",
            "  inflating: Actor_19/03-01-06-02-02-01-19.wav  \n",
            "  inflating: Actor_19/03-01-06-02-02-02-19.wav  \n",
            "  inflating: Actor_19/03-01-07-01-01-01-19.wav  \n",
            "  inflating: Actor_19/03-01-07-01-01-02-19.wav  \n",
            "  inflating: Actor_19/03-01-07-01-02-01-19.wav  \n",
            "  inflating: Actor_19/03-01-07-01-02-02-19.wav  \n",
            "  inflating: Actor_19/03-01-07-02-01-01-19.wav  \n",
            "  inflating: Actor_19/03-01-07-02-01-02-19.wav  \n",
            "  inflating: Actor_19/03-01-07-02-02-01-19.wav  \n",
            "  inflating: Actor_19/03-01-07-02-02-02-19.wav  \n",
            "  inflating: Actor_19/03-01-08-01-01-01-19.wav  \n",
            "  inflating: Actor_19/03-01-08-01-01-02-19.wav  \n",
            "  inflating: Actor_19/03-01-08-01-02-01-19.wav  \n",
            "  inflating: Actor_19/03-01-08-01-02-02-19.wav  \n",
            "  inflating: Actor_19/03-01-08-02-01-01-19.wav  \n",
            "  inflating: Actor_19/03-01-08-02-01-02-19.wav  \n",
            "  inflating: Actor_19/03-01-08-02-02-01-19.wav  \n",
            "  inflating: Actor_19/03-01-08-02-02-02-19.wav  \n",
            "  inflating: Actor_20/03-01-01-01-01-01-20.wav  \n",
            "  inflating: Actor_20/03-01-01-01-01-02-20.wav  \n",
            "  inflating: Actor_20/03-01-01-01-02-01-20.wav  \n",
            "  inflating: Actor_20/03-01-01-01-02-02-20.wav  \n",
            "  inflating: Actor_20/03-01-02-01-01-01-20.wav  \n",
            "  inflating: Actor_20/03-01-02-01-01-02-20.wav  \n",
            "  inflating: Actor_20/03-01-02-01-02-01-20.wav  \n",
            "  inflating: Actor_20/03-01-02-01-02-02-20.wav  \n",
            "  inflating: Actor_20/03-01-02-02-01-01-20.wav  \n",
            "  inflating: Actor_20/03-01-02-02-01-02-20.wav  \n",
            "  inflating: Actor_20/03-01-02-02-02-01-20.wav  \n",
            "  inflating: Actor_20/03-01-02-02-02-02-20.wav  \n",
            "  inflating: Actor_20/03-01-03-01-01-01-20.wav  \n",
            "  inflating: Actor_20/03-01-03-01-01-02-20.wav  \n",
            "  inflating: Actor_20/03-01-03-01-02-01-20.wav  \n",
            "  inflating: Actor_20/03-01-03-01-02-02-20.wav  \n",
            "  inflating: Actor_20/03-01-03-02-01-01-20.wav  \n",
            "  inflating: Actor_20/03-01-03-02-01-02-20.wav  \n",
            "  inflating: Actor_20/03-01-03-02-02-01-20.wav  \n",
            "  inflating: Actor_20/03-01-03-02-02-02-20.wav  \n",
            "  inflating: Actor_20/03-01-04-01-01-01-20.wav  \n",
            "  inflating: Actor_20/03-01-04-01-01-02-20.wav  \n",
            "  inflating: Actor_20/03-01-04-01-02-01-20.wav  \n",
            "  inflating: Actor_20/03-01-04-01-02-02-20.wav  \n",
            "  inflating: Actor_20/03-01-04-02-01-01-20.wav  \n",
            "  inflating: Actor_20/03-01-04-02-01-02-20.wav  \n",
            "  inflating: Actor_20/03-01-04-02-02-01-20.wav  \n",
            "  inflating: Actor_20/03-01-04-02-02-02-20.wav  \n",
            "  inflating: Actor_20/03-01-05-01-01-01-20.wav  \n",
            "  inflating: Actor_20/03-01-05-01-01-02-20.wav  \n",
            "  inflating: Actor_20/03-01-05-01-02-01-20.wav  \n",
            "  inflating: Actor_20/03-01-05-01-02-02-20.wav  \n",
            "  inflating: Actor_20/03-01-05-02-01-01-20.wav  \n",
            "  inflating: Actor_20/03-01-05-02-01-02-20.wav  \n",
            "  inflating: Actor_20/03-01-05-02-02-01-20.wav  \n",
            "  inflating: Actor_20/03-01-05-02-02-02-20.wav  \n",
            "  inflating: Actor_20/03-01-06-01-01-01-20.wav  \n",
            "  inflating: Actor_20/03-01-06-01-01-02-20.wav  \n",
            "  inflating: Actor_20/03-01-06-01-02-01-20.wav  \n",
            "  inflating: Actor_20/03-01-06-01-02-02-20.wav  \n",
            "  inflating: Actor_20/03-01-06-02-01-01-20.wav  \n",
            "  inflating: Actor_20/03-01-06-02-01-02-20.wav  \n",
            "  inflating: Actor_20/03-01-06-02-02-01-20.wav  \n",
            "  inflating: Actor_20/03-01-06-02-02-02-20.wav  \n",
            "  inflating: Actor_20/03-01-07-01-01-01-20.wav  \n",
            "  inflating: Actor_20/03-01-07-01-01-02-20.wav  \n",
            "  inflating: Actor_20/03-01-07-01-02-01-20.wav  \n",
            "  inflating: Actor_20/03-01-07-01-02-02-20.wav  \n",
            "  inflating: Actor_20/03-01-07-02-01-01-20.wav  \n",
            "  inflating: Actor_20/03-01-07-02-01-02-20.wav  \n",
            "  inflating: Actor_20/03-01-07-02-02-01-20.wav  \n",
            "  inflating: Actor_20/03-01-07-02-02-02-20.wav  \n",
            "  inflating: Actor_20/03-01-08-01-01-01-20.wav  \n",
            "  inflating: Actor_20/03-01-08-01-01-02-20.wav  \n",
            "  inflating: Actor_20/03-01-08-01-02-01-20.wav  \n",
            "  inflating: Actor_20/03-01-08-01-02-02-20.wav  \n",
            "  inflating: Actor_20/03-01-08-02-01-01-20.wav  \n",
            "  inflating: Actor_20/03-01-08-02-01-02-20.wav  \n",
            "  inflating: Actor_20/03-01-08-02-02-01-20.wav  \n",
            "  inflating: Actor_20/03-01-08-02-02-02-20.wav  \n",
            "  inflating: Actor_21/03-01-01-01-01-01-21.wav  \n",
            "  inflating: Actor_21/03-01-01-01-01-02-21.wav  \n",
            "  inflating: Actor_21/03-01-01-01-02-01-21.wav  \n",
            "  inflating: Actor_21/03-01-01-01-02-02-21.wav  \n",
            "  inflating: Actor_21/03-01-02-01-01-01-21.wav  \n",
            "  inflating: Actor_21/03-01-02-01-01-02-21.wav  \n",
            "  inflating: Actor_21/03-01-02-01-02-01-21.wav  \n",
            "  inflating: Actor_21/03-01-02-01-02-02-21.wav  \n",
            "  inflating: Actor_21/03-01-02-02-01-01-21.wav  \n",
            "  inflating: Actor_21/03-01-02-02-01-02-21.wav  \n",
            "  inflating: Actor_21/03-01-02-02-02-01-21.wav  \n",
            "  inflating: Actor_21/03-01-02-02-02-02-21.wav  \n",
            "  inflating: Actor_21/03-01-03-01-01-01-21.wav  \n",
            "  inflating: Actor_21/03-01-03-01-01-02-21.wav  \n",
            "  inflating: Actor_21/03-01-03-01-02-01-21.wav  \n",
            "  inflating: Actor_21/03-01-03-01-02-02-21.wav  \n",
            "  inflating: Actor_21/03-01-03-02-01-01-21.wav  \n",
            "  inflating: Actor_21/03-01-03-02-01-02-21.wav  \n",
            "  inflating: Actor_21/03-01-03-02-02-01-21.wav  \n",
            "  inflating: Actor_21/03-01-03-02-02-02-21.wav  \n",
            "  inflating: Actor_21/03-01-04-01-01-01-21.wav  \n",
            "  inflating: Actor_21/03-01-04-01-01-02-21.wav  \n",
            "  inflating: Actor_21/03-01-04-01-02-01-21.wav  \n",
            "  inflating: Actor_21/03-01-04-01-02-02-21.wav  \n",
            "  inflating: Actor_21/03-01-04-02-01-01-21.wav  \n",
            "  inflating: Actor_21/03-01-04-02-01-02-21.wav  \n",
            "  inflating: Actor_21/03-01-04-02-02-01-21.wav  \n",
            "  inflating: Actor_21/03-01-04-02-02-02-21.wav  \n",
            "  inflating: Actor_21/03-01-05-01-01-01-21.wav  \n",
            "  inflating: Actor_21/03-01-05-01-01-02-21.wav  \n",
            "  inflating: Actor_21/03-01-05-01-02-01-21.wav  \n",
            "  inflating: Actor_21/03-01-05-01-02-02-21.wav  \n",
            "  inflating: Actor_21/03-01-05-02-01-01-21.wav  \n",
            "  inflating: Actor_21/03-01-05-02-01-02-21.wav  \n",
            "  inflating: Actor_21/03-01-05-02-02-01-21.wav  \n",
            "  inflating: Actor_21/03-01-05-02-02-02-21.wav  \n",
            "  inflating: Actor_21/03-01-06-01-01-01-21.wav  \n",
            "  inflating: Actor_21/03-01-06-01-01-02-21.wav  \n",
            "  inflating: Actor_21/03-01-06-01-02-01-21.wav  \n",
            "  inflating: Actor_21/03-01-06-01-02-02-21.wav  \n",
            "  inflating: Actor_21/03-01-06-02-01-01-21.wav  \n",
            "  inflating: Actor_21/03-01-06-02-01-02-21.wav  \n",
            "  inflating: Actor_21/03-01-06-02-02-01-21.wav  \n",
            "  inflating: Actor_21/03-01-06-02-02-02-21.wav  \n",
            "  inflating: Actor_21/03-01-07-01-01-01-21.wav  \n",
            "  inflating: Actor_21/03-01-07-01-01-02-21.wav  \n",
            "  inflating: Actor_21/03-01-07-01-02-01-21.wav  \n",
            "  inflating: Actor_21/03-01-07-01-02-02-21.wav  \n",
            "  inflating: Actor_21/03-01-07-02-01-01-21.wav  \n",
            "  inflating: Actor_21/03-01-07-02-01-02-21.wav  \n",
            "  inflating: Actor_21/03-01-07-02-02-01-21.wav  \n",
            "  inflating: Actor_21/03-01-07-02-02-02-21.wav  \n",
            "  inflating: Actor_21/03-01-08-01-01-01-21.wav  \n",
            "  inflating: Actor_21/03-01-08-01-01-02-21.wav  \n",
            "  inflating: Actor_21/03-01-08-01-02-01-21.wav  \n",
            "  inflating: Actor_21/03-01-08-01-02-02-21.wav  \n",
            "  inflating: Actor_21/03-01-08-02-01-01-21.wav  \n",
            "  inflating: Actor_21/03-01-08-02-01-02-21.wav  \n",
            "  inflating: Actor_21/03-01-08-02-02-01-21.wav  \n",
            "  inflating: Actor_21/03-01-08-02-02-02-21.wav  \n",
            "  inflating: Actor_22/03-01-01-01-01-01-22.wav  \n",
            "  inflating: Actor_22/03-01-01-01-01-02-22.wav  \n",
            "  inflating: Actor_22/03-01-01-01-02-01-22.wav  \n",
            "  inflating: Actor_22/03-01-01-01-02-02-22.wav  \n",
            "  inflating: Actor_22/03-01-02-01-01-01-22.wav  \n",
            "  inflating: Actor_22/03-01-02-01-01-02-22.wav  \n",
            "  inflating: Actor_22/03-01-02-01-02-01-22.wav  \n",
            "  inflating: Actor_22/03-01-02-01-02-02-22.wav  \n",
            "  inflating: Actor_22/03-01-02-02-01-01-22.wav  \n",
            "  inflating: Actor_22/03-01-02-02-01-02-22.wav  \n",
            "  inflating: Actor_22/03-01-02-02-02-01-22.wav  \n",
            "  inflating: Actor_22/03-01-02-02-02-02-22.wav  \n",
            "  inflating: Actor_22/03-01-03-01-01-01-22.wav  \n",
            "  inflating: Actor_22/03-01-03-01-01-02-22.wav  \n",
            "  inflating: Actor_22/03-01-03-01-02-01-22.wav  \n",
            "  inflating: Actor_22/03-01-03-01-02-02-22.wav  \n",
            "  inflating: Actor_22/03-01-03-02-01-01-22.wav  \n",
            "  inflating: Actor_22/03-01-03-02-01-02-22.wav  \n",
            "  inflating: Actor_22/03-01-03-02-02-01-22.wav  \n",
            "  inflating: Actor_22/03-01-03-02-02-02-22.wav  \n",
            "  inflating: Actor_22/03-01-04-01-01-01-22.wav  \n",
            "  inflating: Actor_22/03-01-04-01-01-02-22.wav  \n",
            "  inflating: Actor_22/03-01-04-01-02-01-22.wav  \n",
            "  inflating: Actor_22/03-01-04-01-02-02-22.wav  \n",
            "  inflating: Actor_22/03-01-04-02-01-01-22.wav  \n",
            "  inflating: Actor_22/03-01-04-02-01-02-22.wav  \n",
            "  inflating: Actor_22/03-01-04-02-02-01-22.wav  \n",
            "  inflating: Actor_22/03-01-04-02-02-02-22.wav  \n",
            "  inflating: Actor_22/03-01-05-01-01-01-22.wav  \n",
            "  inflating: Actor_22/03-01-05-01-01-02-22.wav  \n",
            "  inflating: Actor_22/03-01-05-01-02-01-22.wav  \n",
            "  inflating: Actor_22/03-01-05-01-02-02-22.wav  \n",
            "  inflating: Actor_22/03-01-05-02-01-01-22.wav  \n",
            "  inflating: Actor_22/03-01-05-02-01-02-22.wav  \n",
            "  inflating: Actor_22/03-01-05-02-02-01-22.wav  \n",
            "  inflating: Actor_22/03-01-05-02-02-02-22.wav  \n",
            "  inflating: Actor_22/03-01-06-01-01-01-22.wav  \n",
            "  inflating: Actor_22/03-01-06-01-01-02-22.wav  \n",
            "  inflating: Actor_22/03-01-06-01-02-01-22.wav  \n",
            "  inflating: Actor_22/03-01-06-01-02-02-22.wav  \n",
            "  inflating: Actor_22/03-01-06-02-01-01-22.wav  \n",
            "  inflating: Actor_22/03-01-06-02-01-02-22.wav  \n",
            "  inflating: Actor_22/03-01-06-02-02-01-22.wav  \n",
            "  inflating: Actor_22/03-01-06-02-02-02-22.wav  \n",
            "  inflating: Actor_22/03-01-07-01-01-01-22.wav  \n",
            "  inflating: Actor_22/03-01-07-01-01-02-22.wav  \n",
            "  inflating: Actor_22/03-01-07-01-02-01-22.wav  \n",
            "  inflating: Actor_22/03-01-07-01-02-02-22.wav  \n",
            "  inflating: Actor_22/03-01-07-02-01-01-22.wav  \n",
            "  inflating: Actor_22/03-01-07-02-01-02-22.wav  \n",
            "  inflating: Actor_22/03-01-07-02-02-01-22.wav  \n",
            "  inflating: Actor_22/03-01-07-02-02-02-22.wav  \n",
            "  inflating: Actor_22/03-01-08-01-01-01-22.wav  \n",
            "  inflating: Actor_22/03-01-08-01-01-02-22.wav  \n",
            "  inflating: Actor_22/03-01-08-01-02-01-22.wav  \n",
            "  inflating: Actor_22/03-01-08-01-02-02-22.wav  \n",
            "  inflating: Actor_22/03-01-08-02-01-01-22.wav  \n",
            "  inflating: Actor_22/03-01-08-02-01-02-22.wav  \n",
            "  inflating: Actor_22/03-01-08-02-02-01-22.wav  \n",
            "  inflating: Actor_22/03-01-08-02-02-02-22.wav  \n",
            "  inflating: Actor_23/03-01-01-01-01-01-23.wav  \n",
            "  inflating: Actor_23/03-01-01-01-01-02-23.wav  \n",
            "  inflating: Actor_23/03-01-01-01-02-01-23.wav  \n",
            "  inflating: Actor_23/03-01-01-01-02-02-23.wav  \n",
            "  inflating: Actor_23/03-01-02-01-01-01-23.wav  \n",
            "  inflating: Actor_23/03-01-02-01-01-02-23.wav  \n",
            "  inflating: Actor_23/03-01-02-01-02-01-23.wav  \n",
            "  inflating: Actor_23/03-01-02-01-02-02-23.wav  \n",
            "  inflating: Actor_23/03-01-02-02-01-01-23.wav  \n",
            "  inflating: Actor_23/03-01-02-02-01-02-23.wav  \n",
            "  inflating: Actor_23/03-01-02-02-02-01-23.wav  \n",
            "  inflating: Actor_23/03-01-02-02-02-02-23.wav  \n",
            "  inflating: Actor_23/03-01-03-01-01-01-23.wav  \n",
            "  inflating: Actor_23/03-01-03-01-01-02-23.wav  \n",
            "  inflating: Actor_23/03-01-03-01-02-01-23.wav  \n",
            "  inflating: Actor_23/03-01-03-01-02-02-23.wav  \n",
            "  inflating: Actor_23/03-01-03-02-01-01-23.wav  \n",
            "  inflating: Actor_23/03-01-03-02-01-02-23.wav  \n",
            "  inflating: Actor_23/03-01-03-02-02-01-23.wav  \n",
            "  inflating: Actor_23/03-01-03-02-02-02-23.wav  \n",
            "  inflating: Actor_23/03-01-04-01-01-01-23.wav  \n",
            "  inflating: Actor_23/03-01-04-01-01-02-23.wav  \n",
            "  inflating: Actor_23/03-01-04-01-02-01-23.wav  \n",
            "  inflating: Actor_23/03-01-04-01-02-02-23.wav  \n",
            "  inflating: Actor_23/03-01-04-02-01-01-23.wav  \n",
            "  inflating: Actor_23/03-01-04-02-01-02-23.wav  \n",
            "  inflating: Actor_23/03-01-04-02-02-01-23.wav  \n",
            "  inflating: Actor_23/03-01-04-02-02-02-23.wav  \n",
            "  inflating: Actor_23/03-01-05-01-01-01-23.wav  \n",
            "  inflating: Actor_23/03-01-05-01-01-02-23.wav  \n",
            "  inflating: Actor_23/03-01-05-01-02-01-23.wav  \n",
            "  inflating: Actor_23/03-01-05-01-02-02-23.wav  \n",
            "  inflating: Actor_23/03-01-05-02-01-01-23.wav  \n",
            "  inflating: Actor_23/03-01-05-02-01-02-23.wav  \n",
            "  inflating: Actor_23/03-01-05-02-02-01-23.wav  \n",
            "  inflating: Actor_23/03-01-05-02-02-02-23.wav  \n",
            "  inflating: Actor_23/03-01-06-01-01-01-23.wav  \n",
            "  inflating: Actor_23/03-01-06-01-01-02-23.wav  \n",
            "  inflating: Actor_23/03-01-06-01-02-01-23.wav  \n",
            "  inflating: Actor_23/03-01-06-01-02-02-23.wav  \n",
            "  inflating: Actor_23/03-01-06-02-01-01-23.wav  \n",
            "  inflating: Actor_23/03-01-06-02-01-02-23.wav  \n",
            "  inflating: Actor_23/03-01-06-02-02-01-23.wav  \n",
            "  inflating: Actor_23/03-01-06-02-02-02-23.wav  \n",
            "  inflating: Actor_23/03-01-07-01-01-01-23.wav  \n",
            "  inflating: Actor_23/03-01-07-01-01-02-23.wav  \n",
            "  inflating: Actor_23/03-01-07-01-02-01-23.wav  \n",
            "  inflating: Actor_23/03-01-07-01-02-02-23.wav  \n",
            "  inflating: Actor_23/03-01-07-02-01-01-23.wav  \n",
            "  inflating: Actor_23/03-01-07-02-01-02-23.wav  \n",
            "  inflating: Actor_23/03-01-07-02-02-01-23.wav  \n",
            "  inflating: Actor_23/03-01-07-02-02-02-23.wav  \n",
            "  inflating: Actor_23/03-01-08-01-01-01-23.wav  \n",
            "  inflating: Actor_23/03-01-08-01-01-02-23.wav  \n",
            "  inflating: Actor_23/03-01-08-01-02-01-23.wav  \n",
            "  inflating: Actor_23/03-01-08-01-02-02-23.wav  \n",
            "  inflating: Actor_23/03-01-08-02-01-01-23.wav  \n",
            "  inflating: Actor_23/03-01-08-02-01-02-23.wav  \n",
            "  inflating: Actor_23/03-01-08-02-02-01-23.wav  \n",
            "  inflating: Actor_23/03-01-08-02-02-02-23.wav  \n",
            "  inflating: Actor_24/03-01-01-01-01-01-24.wav  \n",
            "  inflating: Actor_24/03-01-01-01-01-02-24.wav  \n",
            "  inflating: Actor_24/03-01-01-01-02-01-24.wav  \n",
            "  inflating: Actor_24/03-01-01-01-02-02-24.wav  \n",
            "  inflating: Actor_24/03-01-02-01-01-01-24.wav  \n",
            "  inflating: Actor_24/03-01-02-01-01-02-24.wav  \n",
            "  inflating: Actor_24/03-01-02-01-02-01-24.wav  \n",
            "  inflating: Actor_24/03-01-02-01-02-02-24.wav  \n",
            "  inflating: Actor_24/03-01-02-02-01-01-24.wav  \n",
            "  inflating: Actor_24/03-01-02-02-01-02-24.wav  \n",
            "  inflating: Actor_24/03-01-02-02-02-01-24.wav  \n",
            "  inflating: Actor_24/03-01-02-02-02-02-24.wav  \n",
            "  inflating: Actor_24/03-01-03-01-01-01-24.wav  \n",
            "  inflating: Actor_24/03-01-03-01-01-02-24.wav  \n",
            "  inflating: Actor_24/03-01-03-01-02-01-24.wav  \n",
            "  inflating: Actor_24/03-01-03-01-02-02-24.wav  \n",
            "  inflating: Actor_24/03-01-03-02-01-01-24.wav  \n",
            "  inflating: Actor_24/03-01-03-02-01-02-24.wav  \n",
            "  inflating: Actor_24/03-01-03-02-02-01-24.wav  \n",
            "  inflating: Actor_24/03-01-03-02-02-02-24.wav  \n",
            "  inflating: Actor_24/03-01-04-01-01-01-24.wav  \n",
            "  inflating: Actor_24/03-01-04-01-01-02-24.wav  \n",
            "  inflating: Actor_24/03-01-04-01-02-01-24.wav  \n",
            "  inflating: Actor_24/03-01-04-01-02-02-24.wav  \n",
            "  inflating: Actor_24/03-01-04-02-01-01-24.wav  \n",
            "  inflating: Actor_24/03-01-04-02-01-02-24.wav  \n",
            "  inflating: Actor_24/03-01-04-02-02-01-24.wav  \n",
            "  inflating: Actor_24/03-01-04-02-02-02-24.wav  \n",
            "  inflating: Actor_24/03-01-05-01-01-01-24.wav  \n",
            "  inflating: Actor_24/03-01-05-01-01-02-24.wav  \n",
            "  inflating: Actor_24/03-01-05-01-02-01-24.wav  \n",
            "  inflating: Actor_24/03-01-05-01-02-02-24.wav  \n",
            "  inflating: Actor_24/03-01-05-02-01-01-24.wav  \n",
            "  inflating: Actor_24/03-01-05-02-01-02-24.wav  \n",
            "  inflating: Actor_24/03-01-05-02-02-01-24.wav  \n",
            "  inflating: Actor_24/03-01-05-02-02-02-24.wav  \n",
            "  inflating: Actor_24/03-01-06-01-01-01-24.wav  \n",
            "  inflating: Actor_24/03-01-06-01-01-02-24.wav  \n",
            "  inflating: Actor_24/03-01-06-01-02-01-24.wav  \n",
            "  inflating: Actor_24/03-01-06-01-02-02-24.wav  \n",
            "  inflating: Actor_24/03-01-06-02-01-01-24.wav  \n",
            "  inflating: Actor_24/03-01-06-02-01-02-24.wav  \n",
            "  inflating: Actor_24/03-01-06-02-02-01-24.wav  \n",
            "  inflating: Actor_24/03-01-06-02-02-02-24.wav  \n",
            "  inflating: Actor_24/03-01-07-01-01-01-24.wav  \n",
            "  inflating: Actor_24/03-01-07-01-01-02-24.wav  \n",
            "  inflating: Actor_24/03-01-07-01-02-01-24.wav  \n",
            "  inflating: Actor_24/03-01-07-01-02-02-24.wav  \n",
            "  inflating: Actor_24/03-01-07-02-01-01-24.wav  \n",
            "  inflating: Actor_24/03-01-07-02-01-02-24.wav  \n",
            "  inflating: Actor_24/03-01-07-02-02-01-24.wav  \n",
            "  inflating: Actor_24/03-01-07-02-02-02-24.wav  \n",
            "  inflating: Actor_24/03-01-08-01-01-01-24.wav  \n",
            "  inflating: Actor_24/03-01-08-01-01-02-24.wav  \n",
            "  inflating: Actor_24/03-01-08-01-02-01-24.wav  \n",
            "  inflating: Actor_24/03-01-08-01-02-02-24.wav  \n",
            "  inflating: Actor_24/03-01-08-02-01-01-24.wav  \n",
            "  inflating: Actor_24/03-01-08-02-01-02-24.wav  \n",
            "  inflating: Actor_24/03-01-08-02-02-01-24.wav  \n",
            "  inflating: Actor_24/03-01-08-02-02-02-24.wav  \n",
            "  inflating: audio_speech_actors_01-24/Actor_01/03-01-01-01-01-01-01.wav  \n",
            "  inflating: audio_speech_actors_01-24/Actor_01/03-01-01-01-01-02-01.wav  \n",
            "  inflating: audio_speech_actors_01-24/Actor_01/03-01-01-01-02-01-01.wav  \n",
            "  inflating: audio_speech_actors_01-24/Actor_01/03-01-01-01-02-02-01.wav  \n",
            "  inflating: audio_speech_actors_01-24/Actor_01/03-01-02-01-01-01-01.wav  \n",
            "  inflating: audio_speech_actors_01-24/Actor_01/03-01-02-01-01-02-01.wav  \n",
            "  inflating: audio_speech_actors_01-24/Actor_01/03-01-02-01-02-01-01.wav  \n",
            "  inflating: audio_speech_actors_01-24/Actor_01/03-01-02-01-02-02-01.wav  \n",
            "  inflating: audio_speech_actors_01-24/Actor_01/03-01-02-02-01-01-01.wav  \n",
            "  inflating: audio_speech_actors_01-24/Actor_01/03-01-02-02-01-02-01.wav  \n",
            "  inflating: audio_speech_actors_01-24/Actor_01/03-01-02-02-02-01-01.wav  \n",
            "  inflating: audio_speech_actors_01-24/Actor_01/03-01-02-02-02-02-01.wav  \n",
            "  inflating: audio_speech_actors_01-24/Actor_01/03-01-03-01-01-01-01.wav  \n",
            "  inflating: audio_speech_actors_01-24/Actor_01/03-01-03-01-01-02-01.wav  \n",
            "  inflating: audio_speech_actors_01-24/Actor_01/03-01-03-01-02-01-01.wav  \n",
            "  inflating: audio_speech_actors_01-24/Actor_01/03-01-03-01-02-02-01.wav  \n",
            "  inflating: audio_speech_actors_01-24/Actor_01/03-01-03-02-01-01-01.wav  \n",
            "  inflating: audio_speech_actors_01-24/Actor_01/03-01-03-02-01-02-01.wav  \n",
            "  inflating: audio_speech_actors_01-24/Actor_01/03-01-03-02-02-01-01.wav  \n",
            "  inflating: audio_speech_actors_01-24/Actor_01/03-01-03-02-02-02-01.wav  \n",
            "  inflating: audio_speech_actors_01-24/Actor_01/03-01-04-01-01-01-01.wav  \n",
            "  inflating: audio_speech_actors_01-24/Actor_01/03-01-04-01-01-02-01.wav  \n",
            "  inflating: audio_speech_actors_01-24/Actor_01/03-01-04-01-02-01-01.wav  \n",
            "  inflating: audio_speech_actors_01-24/Actor_01/03-01-04-01-02-02-01.wav  \n",
            "  inflating: audio_speech_actors_01-24/Actor_01/03-01-04-02-01-01-01.wav  \n",
            "  inflating: audio_speech_actors_01-24/Actor_01/03-01-04-02-01-02-01.wav  \n",
            "  inflating: audio_speech_actors_01-24/Actor_01/03-01-04-02-02-01-01.wav  \n",
            "  inflating: audio_speech_actors_01-24/Actor_01/03-01-04-02-02-02-01.wav  \n",
            "  inflating: audio_speech_actors_01-24/Actor_01/03-01-05-01-01-01-01.wav  \n",
            "  inflating: audio_speech_actors_01-24/Actor_01/03-01-05-01-01-02-01.wav  \n",
            "  inflating: audio_speech_actors_01-24/Actor_01/03-01-05-01-02-01-01.wav  \n",
            "  inflating: audio_speech_actors_01-24/Actor_01/03-01-05-01-02-02-01.wav  \n",
            "  inflating: audio_speech_actors_01-24/Actor_01/03-01-05-02-01-01-01.wav  \n",
            "  inflating: audio_speech_actors_01-24/Actor_01/03-01-05-02-01-02-01.wav  \n",
            "  inflating: audio_speech_actors_01-24/Actor_01/03-01-05-02-02-01-01.wav  \n",
            "  inflating: audio_speech_actors_01-24/Actor_01/03-01-05-02-02-02-01.wav  \n",
            "  inflating: audio_speech_actors_01-24/Actor_01/03-01-06-01-01-01-01.wav  \n",
            "  inflating: audio_speech_actors_01-24/Actor_01/03-01-06-01-01-02-01.wav  \n",
            "  inflating: audio_speech_actors_01-24/Actor_01/03-01-06-01-02-01-01.wav  \n",
            "  inflating: audio_speech_actors_01-24/Actor_01/03-01-06-01-02-02-01.wav  \n",
            "  inflating: audio_speech_actors_01-24/Actor_01/03-01-06-02-01-01-01.wav  \n",
            "  inflating: audio_speech_actors_01-24/Actor_01/03-01-06-02-01-02-01.wav  \n",
            "  inflating: audio_speech_actors_01-24/Actor_01/03-01-06-02-02-01-01.wav  \n",
            "  inflating: audio_speech_actors_01-24/Actor_01/03-01-06-02-02-02-01.wav  \n",
            "  inflating: audio_speech_actors_01-24/Actor_01/03-01-07-01-01-01-01.wav  \n",
            "  inflating: audio_speech_actors_01-24/Actor_01/03-01-07-01-01-02-01.wav  \n",
            "  inflating: audio_speech_actors_01-24/Actor_01/03-01-07-01-02-01-01.wav  \n",
            "  inflating: audio_speech_actors_01-24/Actor_01/03-01-07-01-02-02-01.wav  \n",
            "  inflating: audio_speech_actors_01-24/Actor_01/03-01-07-02-01-01-01.wav  \n",
            "  inflating: audio_speech_actors_01-24/Actor_01/03-01-07-02-01-02-01.wav  \n",
            "  inflating: audio_speech_actors_01-24/Actor_01/03-01-07-02-02-01-01.wav  \n",
            "  inflating: audio_speech_actors_01-24/Actor_01/03-01-07-02-02-02-01.wav  \n",
            "  inflating: audio_speech_actors_01-24/Actor_01/03-01-08-01-01-01-01.wav  \n",
            "  inflating: audio_speech_actors_01-24/Actor_01/03-01-08-01-01-02-01.wav  \n",
            "  inflating: audio_speech_actors_01-24/Actor_01/03-01-08-01-02-01-01.wav  \n",
            "  inflating: audio_speech_actors_01-24/Actor_01/03-01-08-01-02-02-01.wav  \n",
            "  inflating: audio_speech_actors_01-24/Actor_01/03-01-08-02-01-01-01.wav  \n",
            "  inflating: audio_speech_actors_01-24/Actor_01/03-01-08-02-01-02-01.wav  \n",
            "  inflating: audio_speech_actors_01-24/Actor_01/03-01-08-02-02-01-01.wav  \n",
            "  inflating: audio_speech_actors_01-24/Actor_01/03-01-08-02-02-02-01.wav  \n",
            "  inflating: audio_speech_actors_01-24/Actor_02/03-01-01-01-01-01-02.wav  \n",
            "  inflating: audio_speech_actors_01-24/Actor_02/03-01-01-01-01-02-02.wav  \n",
            "  inflating: audio_speech_actors_01-24/Actor_02/03-01-01-01-02-01-02.wav  \n",
            "  inflating: audio_speech_actors_01-24/Actor_02/03-01-01-01-02-02-02.wav  \n",
            "  inflating: audio_speech_actors_01-24/Actor_02/03-01-02-01-01-01-02.wav  \n",
            "  inflating: audio_speech_actors_01-24/Actor_02/03-01-02-01-01-02-02.wav  \n",
            "  inflating: audio_speech_actors_01-24/Actor_02/03-01-02-01-02-01-02.wav  \n",
            "  inflating: audio_speech_actors_01-24/Actor_02/03-01-02-01-02-02-02.wav  \n",
            "  inflating: audio_speech_actors_01-24/Actor_02/03-01-02-02-01-01-02.wav  \n",
            "  inflating: audio_speech_actors_01-24/Actor_02/03-01-02-02-01-02-02.wav  \n",
            "  inflating: audio_speech_actors_01-24/Actor_02/03-01-02-02-02-01-02.wav  \n",
            "  inflating: audio_speech_actors_01-24/Actor_02/03-01-02-02-02-02-02.wav  \n",
            "  inflating: audio_speech_actors_01-24/Actor_02/03-01-03-01-01-01-02.wav  \n",
            "  inflating: audio_speech_actors_01-24/Actor_02/03-01-03-01-01-02-02.wav  \n",
            "  inflating: audio_speech_actors_01-24/Actor_02/03-01-03-01-02-01-02.wav  \n",
            "  inflating: audio_speech_actors_01-24/Actor_02/03-01-03-01-02-02-02.wav  \n",
            "  inflating: audio_speech_actors_01-24/Actor_02/03-01-03-02-01-01-02.wav  \n",
            "  inflating: audio_speech_actors_01-24/Actor_02/03-01-03-02-01-02-02.wav  \n",
            "  inflating: audio_speech_actors_01-24/Actor_02/03-01-03-02-02-01-02.wav  \n",
            "  inflating: audio_speech_actors_01-24/Actor_02/03-01-03-02-02-02-02.wav  \n",
            "  inflating: audio_speech_actors_01-24/Actor_02/03-01-04-01-01-01-02.wav  \n",
            "  inflating: audio_speech_actors_01-24/Actor_02/03-01-04-01-01-02-02.wav  \n",
            "  inflating: audio_speech_actors_01-24/Actor_02/03-01-04-01-02-01-02.wav  \n",
            "  inflating: audio_speech_actors_01-24/Actor_02/03-01-04-01-02-02-02.wav  \n",
            "  inflating: audio_speech_actors_01-24/Actor_02/03-01-04-02-01-01-02.wav  \n",
            "  inflating: audio_speech_actors_01-24/Actor_02/03-01-04-02-01-02-02.wav  \n",
            "  inflating: audio_speech_actors_01-24/Actor_02/03-01-04-02-02-01-02.wav  \n",
            "  inflating: audio_speech_actors_01-24/Actor_02/03-01-04-02-02-02-02.wav  \n",
            "  inflating: audio_speech_actors_01-24/Actor_02/03-01-05-01-01-01-02.wav  \n",
            "  inflating: audio_speech_actors_01-24/Actor_02/03-01-05-01-01-02-02.wav  \n",
            "  inflating: audio_speech_actors_01-24/Actor_02/03-01-05-01-02-01-02.wav  \n",
            "  inflating: audio_speech_actors_01-24/Actor_02/03-01-05-01-02-02-02.wav  \n",
            "  inflating: audio_speech_actors_01-24/Actor_02/03-01-05-02-01-01-02.wav  \n",
            "  inflating: audio_speech_actors_01-24/Actor_02/03-01-05-02-01-02-02.wav  \n",
            "  inflating: audio_speech_actors_01-24/Actor_02/03-01-05-02-02-01-02.wav  \n",
            "  inflating: audio_speech_actors_01-24/Actor_02/03-01-05-02-02-02-02.wav  \n",
            "  inflating: audio_speech_actors_01-24/Actor_02/03-01-06-01-01-01-02.wav  \n",
            "  inflating: audio_speech_actors_01-24/Actor_02/03-01-06-01-01-02-02.wav  \n",
            "  inflating: audio_speech_actors_01-24/Actor_02/03-01-06-01-02-01-02.wav  \n",
            "  inflating: audio_speech_actors_01-24/Actor_02/03-01-06-01-02-02-02.wav  \n",
            "  inflating: audio_speech_actors_01-24/Actor_02/03-01-06-02-01-01-02.wav  \n",
            "  inflating: audio_speech_actors_01-24/Actor_02/03-01-06-02-01-02-02.wav  \n",
            "  inflating: audio_speech_actors_01-24/Actor_02/03-01-06-02-02-01-02.wav  \n",
            "  inflating: audio_speech_actors_01-24/Actor_02/03-01-06-02-02-02-02.wav  \n",
            "  inflating: audio_speech_actors_01-24/Actor_02/03-01-07-01-01-01-02.wav  \n",
            "  inflating: audio_speech_actors_01-24/Actor_02/03-01-07-01-01-02-02.wav  \n",
            "  inflating: audio_speech_actors_01-24/Actor_02/03-01-07-01-02-01-02.wav  \n",
            "  inflating: audio_speech_actors_01-24/Actor_02/03-01-07-01-02-02-02.wav  \n",
            "  inflating: audio_speech_actors_01-24/Actor_02/03-01-07-02-01-01-02.wav  \n",
            "  inflating: audio_speech_actors_01-24/Actor_02/03-01-07-02-01-02-02.wav  \n",
            "  inflating: audio_speech_actors_01-24/Actor_02/03-01-07-02-02-01-02.wav  \n",
            "  inflating: audio_speech_actors_01-24/Actor_02/03-01-07-02-02-02-02.wav  \n",
            "  inflating: audio_speech_actors_01-24/Actor_02/03-01-08-01-01-01-02.wav  \n",
            "  inflating: audio_speech_actors_01-24/Actor_02/03-01-08-01-01-02-02.wav  \n",
            "  inflating: audio_speech_actors_01-24/Actor_02/03-01-08-01-02-01-02.wav  \n",
            "  inflating: audio_speech_actors_01-24/Actor_02/03-01-08-01-02-02-02.wav  \n",
            "  inflating: audio_speech_actors_01-24/Actor_02/03-01-08-02-01-01-02.wav  \n",
            "  inflating: audio_speech_actors_01-24/Actor_02/03-01-08-02-01-02-02.wav  \n",
            "  inflating: audio_speech_actors_01-24/Actor_02/03-01-08-02-02-01-02.wav  \n",
            "  inflating: audio_speech_actors_01-24/Actor_02/03-01-08-02-02-02-02.wav  \n",
            "  inflating: audio_speech_actors_01-24/Actor_03/03-01-01-01-01-01-03.wav  \n",
            "  inflating: audio_speech_actors_01-24/Actor_03/03-01-01-01-01-02-03.wav  \n",
            "  inflating: audio_speech_actors_01-24/Actor_03/03-01-01-01-02-01-03.wav  \n",
            "  inflating: audio_speech_actors_01-24/Actor_03/03-01-01-01-02-02-03.wav  \n",
            "  inflating: audio_speech_actors_01-24/Actor_03/03-01-02-01-01-01-03.wav  \n",
            "  inflating: audio_speech_actors_01-24/Actor_03/03-01-02-01-01-02-03.wav  \n",
            "  inflating: audio_speech_actors_01-24/Actor_03/03-01-02-01-02-01-03.wav  \n",
            "  inflating: audio_speech_actors_01-24/Actor_03/03-01-02-01-02-02-03.wav  \n",
            "  inflating: audio_speech_actors_01-24/Actor_03/03-01-02-02-01-01-03.wav  \n",
            "  inflating: audio_speech_actors_01-24/Actor_03/03-01-02-02-01-02-03.wav  \n",
            "  inflating: audio_speech_actors_01-24/Actor_03/03-01-02-02-02-01-03.wav  \n",
            "  inflating: audio_speech_actors_01-24/Actor_03/03-01-02-02-02-02-03.wav  \n",
            "  inflating: audio_speech_actors_01-24/Actor_03/03-01-03-01-01-01-03.wav  \n",
            "  inflating: audio_speech_actors_01-24/Actor_03/03-01-03-01-01-02-03.wav  \n",
            "  inflating: audio_speech_actors_01-24/Actor_03/03-01-03-01-02-01-03.wav  \n",
            "  inflating: audio_speech_actors_01-24/Actor_03/03-01-03-01-02-02-03.wav  \n",
            "  inflating: audio_speech_actors_01-24/Actor_03/03-01-03-02-01-01-03.wav  \n",
            "  inflating: audio_speech_actors_01-24/Actor_03/03-01-03-02-01-02-03.wav  \n",
            "  inflating: audio_speech_actors_01-24/Actor_03/03-01-03-02-02-01-03.wav  \n",
            "  inflating: audio_speech_actors_01-24/Actor_03/03-01-03-02-02-02-03.wav  \n",
            "  inflating: audio_speech_actors_01-24/Actor_03/03-01-04-01-01-01-03.wav  \n",
            "  inflating: audio_speech_actors_01-24/Actor_03/03-01-04-01-01-02-03.wav  \n",
            "  inflating: audio_speech_actors_01-24/Actor_03/03-01-04-01-02-01-03.wav  \n",
            "  inflating: audio_speech_actors_01-24/Actor_03/03-01-04-01-02-02-03.wav  \n",
            "  inflating: audio_speech_actors_01-24/Actor_03/03-01-04-02-01-01-03.wav  \n",
            "  inflating: audio_speech_actors_01-24/Actor_03/03-01-04-02-01-02-03.wav  \n",
            "  inflating: audio_speech_actors_01-24/Actor_03/03-01-04-02-02-01-03.wav  \n",
            "  inflating: audio_speech_actors_01-24/Actor_03/03-01-04-02-02-02-03.wav  \n",
            "  inflating: audio_speech_actors_01-24/Actor_03/03-01-05-01-01-01-03.wav  \n",
            "  inflating: audio_speech_actors_01-24/Actor_03/03-01-05-01-01-02-03.wav  \n",
            "  inflating: audio_speech_actors_01-24/Actor_03/03-01-05-01-02-01-03.wav  \n",
            "  inflating: audio_speech_actors_01-24/Actor_03/03-01-05-01-02-02-03.wav  \n",
            "  inflating: audio_speech_actors_01-24/Actor_03/03-01-05-02-01-01-03.wav  \n",
            "  inflating: audio_speech_actors_01-24/Actor_03/03-01-05-02-01-02-03.wav  \n",
            "  inflating: audio_speech_actors_01-24/Actor_03/03-01-05-02-02-01-03.wav  \n",
            "  inflating: audio_speech_actors_01-24/Actor_03/03-01-05-02-02-02-03.wav  \n",
            "  inflating: audio_speech_actors_01-24/Actor_03/03-01-06-01-01-01-03.wav  \n",
            "  inflating: audio_speech_actors_01-24/Actor_03/03-01-06-01-01-02-03.wav  \n",
            "  inflating: audio_speech_actors_01-24/Actor_03/03-01-06-01-02-01-03.wav  \n",
            "  inflating: audio_speech_actors_01-24/Actor_03/03-01-06-01-02-02-03.wav  \n",
            "  inflating: audio_speech_actors_01-24/Actor_03/03-01-06-02-01-01-03.wav  \n",
            "  inflating: audio_speech_actors_01-24/Actor_03/03-01-06-02-01-02-03.wav  \n",
            "  inflating: audio_speech_actors_01-24/Actor_03/03-01-06-02-02-01-03.wav  \n",
            "  inflating: audio_speech_actors_01-24/Actor_03/03-01-06-02-02-02-03.wav  \n",
            "  inflating: audio_speech_actors_01-24/Actor_03/03-01-07-01-01-01-03.wav  \n",
            "  inflating: audio_speech_actors_01-24/Actor_03/03-01-07-01-01-02-03.wav  \n",
            "  inflating: audio_speech_actors_01-24/Actor_03/03-01-07-01-02-01-03.wav  \n",
            "  inflating: audio_speech_actors_01-24/Actor_03/03-01-07-01-02-02-03.wav  \n",
            "  inflating: audio_speech_actors_01-24/Actor_03/03-01-07-02-01-01-03.wav  \n",
            "  inflating: audio_speech_actors_01-24/Actor_03/03-01-07-02-01-02-03.wav  \n",
            "  inflating: audio_speech_actors_01-24/Actor_03/03-01-07-02-02-01-03.wav  \n",
            "  inflating: audio_speech_actors_01-24/Actor_03/03-01-07-02-02-02-03.wav  \n",
            "  inflating: audio_speech_actors_01-24/Actor_03/03-01-08-01-01-01-03.wav  \n",
            "  inflating: audio_speech_actors_01-24/Actor_03/03-01-08-01-01-02-03.wav  \n",
            "  inflating: audio_speech_actors_01-24/Actor_03/03-01-08-01-02-01-03.wav  \n",
            "  inflating: audio_speech_actors_01-24/Actor_03/03-01-08-01-02-02-03.wav  \n",
            "  inflating: audio_speech_actors_01-24/Actor_03/03-01-08-02-01-01-03.wav  \n",
            "  inflating: audio_speech_actors_01-24/Actor_03/03-01-08-02-01-02-03.wav  \n",
            "  inflating: audio_speech_actors_01-24/Actor_03/03-01-08-02-02-01-03.wav  \n",
            "  inflating: audio_speech_actors_01-24/Actor_03/03-01-08-02-02-02-03.wav  \n",
            "  inflating: audio_speech_actors_01-24/Actor_04/03-01-01-01-01-01-04.wav  \n",
            "  inflating: audio_speech_actors_01-24/Actor_04/03-01-01-01-01-02-04.wav  \n",
            "  inflating: audio_speech_actors_01-24/Actor_04/03-01-01-01-02-01-04.wav  \n",
            "  inflating: audio_speech_actors_01-24/Actor_04/03-01-01-01-02-02-04.wav  \n",
            "  inflating: audio_speech_actors_01-24/Actor_04/03-01-02-01-01-01-04.wav  \n",
            "  inflating: audio_speech_actors_01-24/Actor_04/03-01-02-01-01-02-04.wav  \n",
            "  inflating: audio_speech_actors_01-24/Actor_04/03-01-02-01-02-01-04.wav  \n",
            "  inflating: audio_speech_actors_01-24/Actor_04/03-01-02-01-02-02-04.wav  \n",
            "  inflating: audio_speech_actors_01-24/Actor_04/03-01-02-02-01-01-04.wav  \n",
            "  inflating: audio_speech_actors_01-24/Actor_04/03-01-02-02-01-02-04.wav  \n",
            "  inflating: audio_speech_actors_01-24/Actor_04/03-01-02-02-02-01-04.wav  \n",
            "  inflating: audio_speech_actors_01-24/Actor_04/03-01-02-02-02-02-04.wav  \n",
            "  inflating: audio_speech_actors_01-24/Actor_04/03-01-03-01-01-01-04.wav  \n",
            "  inflating: audio_speech_actors_01-24/Actor_04/03-01-03-01-01-02-04.wav  \n",
            "  inflating: audio_speech_actors_01-24/Actor_04/03-01-03-01-02-01-04.wav  \n",
            "  inflating: audio_speech_actors_01-24/Actor_04/03-01-03-01-02-02-04.wav  \n",
            "  inflating: audio_speech_actors_01-24/Actor_04/03-01-03-02-01-01-04.wav  \n",
            "  inflating: audio_speech_actors_01-24/Actor_04/03-01-03-02-01-02-04.wav  \n",
            "  inflating: audio_speech_actors_01-24/Actor_04/03-01-03-02-02-01-04.wav  \n",
            "  inflating: audio_speech_actors_01-24/Actor_04/03-01-03-02-02-02-04.wav  \n",
            "  inflating: audio_speech_actors_01-24/Actor_04/03-01-04-01-01-01-04.wav  \n",
            "  inflating: audio_speech_actors_01-24/Actor_04/03-01-04-01-01-02-04.wav  \n",
            "  inflating: audio_speech_actors_01-24/Actor_04/03-01-04-01-02-01-04.wav  \n",
            "  inflating: audio_speech_actors_01-24/Actor_04/03-01-04-01-02-02-04.wav  \n",
            "  inflating: audio_speech_actors_01-24/Actor_04/03-01-04-02-01-01-04.wav  \n",
            "  inflating: audio_speech_actors_01-24/Actor_04/03-01-04-02-01-02-04.wav  \n",
            "  inflating: audio_speech_actors_01-24/Actor_04/03-01-04-02-02-01-04.wav  \n",
            "  inflating: audio_speech_actors_01-24/Actor_04/03-01-04-02-02-02-04.wav  \n",
            "  inflating: audio_speech_actors_01-24/Actor_04/03-01-05-01-01-01-04.wav  \n",
            "  inflating: audio_speech_actors_01-24/Actor_04/03-01-05-01-01-02-04.wav  \n",
            "  inflating: audio_speech_actors_01-24/Actor_04/03-01-05-01-02-01-04.wav  \n",
            "  inflating: audio_speech_actors_01-24/Actor_04/03-01-05-01-02-02-04.wav  \n",
            "  inflating: audio_speech_actors_01-24/Actor_04/03-01-05-02-01-01-04.wav  \n",
            "  inflating: audio_speech_actors_01-24/Actor_04/03-01-05-02-01-02-04.wav  \n",
            "  inflating: audio_speech_actors_01-24/Actor_04/03-01-05-02-02-01-04.wav  \n",
            "  inflating: audio_speech_actors_01-24/Actor_04/03-01-05-02-02-02-04.wav  \n",
            "  inflating: audio_speech_actors_01-24/Actor_04/03-01-06-01-01-01-04.wav  \n",
            "  inflating: audio_speech_actors_01-24/Actor_04/03-01-06-01-01-02-04.wav  \n",
            "  inflating: audio_speech_actors_01-24/Actor_04/03-01-06-01-02-01-04.wav  \n",
            "  inflating: audio_speech_actors_01-24/Actor_04/03-01-06-01-02-02-04.wav  \n",
            "  inflating: audio_speech_actors_01-24/Actor_04/03-01-06-02-01-01-04.wav  \n",
            "  inflating: audio_speech_actors_01-24/Actor_04/03-01-06-02-01-02-04.wav  \n",
            "  inflating: audio_speech_actors_01-24/Actor_04/03-01-06-02-02-01-04.wav  \n",
            "  inflating: audio_speech_actors_01-24/Actor_04/03-01-06-02-02-02-04.wav  \n",
            "  inflating: audio_speech_actors_01-24/Actor_04/03-01-07-01-01-01-04.wav  \n",
            "  inflating: audio_speech_actors_01-24/Actor_04/03-01-07-01-01-02-04.wav  \n",
            "  inflating: audio_speech_actors_01-24/Actor_04/03-01-07-01-02-01-04.wav  \n",
            "  inflating: audio_speech_actors_01-24/Actor_04/03-01-07-01-02-02-04.wav  \n",
            "  inflating: audio_speech_actors_01-24/Actor_04/03-01-07-02-01-01-04.wav  \n",
            "  inflating: audio_speech_actors_01-24/Actor_04/03-01-07-02-01-02-04.wav  \n",
            "  inflating: audio_speech_actors_01-24/Actor_04/03-01-07-02-02-01-04.wav  \n",
            "  inflating: audio_speech_actors_01-24/Actor_04/03-01-07-02-02-02-04.wav  \n",
            "  inflating: audio_speech_actors_01-24/Actor_04/03-01-08-01-01-01-04.wav  \n",
            "  inflating: audio_speech_actors_01-24/Actor_04/03-01-08-01-01-02-04.wav  \n",
            "  inflating: audio_speech_actors_01-24/Actor_04/03-01-08-01-02-01-04.wav  \n",
            "  inflating: audio_speech_actors_01-24/Actor_04/03-01-08-01-02-02-04.wav  \n",
            "  inflating: audio_speech_actors_01-24/Actor_04/03-01-08-02-01-01-04.wav  \n",
            "  inflating: audio_speech_actors_01-24/Actor_04/03-01-08-02-01-02-04.wav  \n",
            "  inflating: audio_speech_actors_01-24/Actor_04/03-01-08-02-02-01-04.wav  \n",
            "  inflating: audio_speech_actors_01-24/Actor_04/03-01-08-02-02-02-04.wav  \n",
            "  inflating: audio_speech_actors_01-24/Actor_05/03-01-01-01-01-01-05.wav  \n",
            "  inflating: audio_speech_actors_01-24/Actor_05/03-01-01-01-01-02-05.wav  \n",
            "  inflating: audio_speech_actors_01-24/Actor_05/03-01-01-01-02-01-05.wav  \n",
            "  inflating: audio_speech_actors_01-24/Actor_05/03-01-01-01-02-02-05.wav  \n",
            "  inflating: audio_speech_actors_01-24/Actor_05/03-01-02-01-01-01-05.wav  \n",
            "  inflating: audio_speech_actors_01-24/Actor_05/03-01-02-01-01-02-05.wav  \n",
            "  inflating: audio_speech_actors_01-24/Actor_05/03-01-02-01-02-01-05.wav  \n",
            "  inflating: audio_speech_actors_01-24/Actor_05/03-01-02-01-02-02-05.wav  \n",
            "  inflating: audio_speech_actors_01-24/Actor_05/03-01-02-02-01-01-05.wav  \n",
            "  inflating: audio_speech_actors_01-24/Actor_05/03-01-02-02-01-02-05.wav  \n",
            "  inflating: audio_speech_actors_01-24/Actor_05/03-01-02-02-02-01-05.wav  \n",
            "  inflating: audio_speech_actors_01-24/Actor_05/03-01-02-02-02-02-05.wav  \n",
            "  inflating: audio_speech_actors_01-24/Actor_05/03-01-03-01-01-01-05.wav  \n",
            "  inflating: audio_speech_actors_01-24/Actor_05/03-01-03-01-01-02-05.wav  \n",
            "  inflating: audio_speech_actors_01-24/Actor_05/03-01-03-01-02-01-05.wav  \n",
            "  inflating: audio_speech_actors_01-24/Actor_05/03-01-03-01-02-02-05.wav  \n",
            "  inflating: audio_speech_actors_01-24/Actor_05/03-01-03-02-01-01-05.wav  \n",
            "  inflating: audio_speech_actors_01-24/Actor_05/03-01-03-02-01-02-05.wav  \n",
            "  inflating: audio_speech_actors_01-24/Actor_05/03-01-03-02-02-01-05.wav  \n",
            "  inflating: audio_speech_actors_01-24/Actor_05/03-01-03-02-02-02-05.wav  \n",
            "  inflating: audio_speech_actors_01-24/Actor_05/03-01-04-01-01-01-05.wav  \n",
            "  inflating: audio_speech_actors_01-24/Actor_05/03-01-04-01-01-02-05.wav  \n",
            "  inflating: audio_speech_actors_01-24/Actor_05/03-01-04-01-02-01-05.wav  \n",
            "  inflating: audio_speech_actors_01-24/Actor_05/03-01-04-01-02-02-05.wav  \n",
            "  inflating: audio_speech_actors_01-24/Actor_05/03-01-04-02-01-01-05.wav  \n",
            "  inflating: audio_speech_actors_01-24/Actor_05/03-01-04-02-01-02-05.wav  \n",
            "  inflating: audio_speech_actors_01-24/Actor_05/03-01-04-02-02-01-05.wav  \n",
            "  inflating: audio_speech_actors_01-24/Actor_05/03-01-04-02-02-02-05.wav  \n",
            "  inflating: audio_speech_actors_01-24/Actor_05/03-01-05-01-01-01-05.wav  \n",
            "  inflating: audio_speech_actors_01-24/Actor_05/03-01-05-01-01-02-05.wav  \n",
            "  inflating: audio_speech_actors_01-24/Actor_05/03-01-05-01-02-01-05.wav  \n",
            "  inflating: audio_speech_actors_01-24/Actor_05/03-01-05-01-02-02-05.wav  \n",
            "  inflating: audio_speech_actors_01-24/Actor_05/03-01-05-02-01-01-05.wav  \n",
            "  inflating: audio_speech_actors_01-24/Actor_05/03-01-05-02-01-02-05.wav  \n",
            "  inflating: audio_speech_actors_01-24/Actor_05/03-01-05-02-02-01-05.wav  \n",
            "  inflating: audio_speech_actors_01-24/Actor_05/03-01-05-02-02-02-05.wav  \n",
            "  inflating: audio_speech_actors_01-24/Actor_05/03-01-06-01-01-01-05.wav  \n",
            "  inflating: audio_speech_actors_01-24/Actor_05/03-01-06-01-01-02-05.wav  \n",
            "  inflating: audio_speech_actors_01-24/Actor_05/03-01-06-01-02-01-05.wav  \n",
            "  inflating: audio_speech_actors_01-24/Actor_05/03-01-06-01-02-02-05.wav  \n",
            "  inflating: audio_speech_actors_01-24/Actor_05/03-01-06-02-01-01-05.wav  \n",
            "  inflating: audio_speech_actors_01-24/Actor_05/03-01-06-02-01-02-05.wav  \n",
            "  inflating: audio_speech_actors_01-24/Actor_05/03-01-06-02-02-01-05.wav  \n",
            "  inflating: audio_speech_actors_01-24/Actor_05/03-01-06-02-02-02-05.wav  \n",
            "  inflating: audio_speech_actors_01-24/Actor_05/03-01-07-01-01-01-05.wav  \n",
            "  inflating: audio_speech_actors_01-24/Actor_05/03-01-07-01-01-02-05.wav  \n",
            "  inflating: audio_speech_actors_01-24/Actor_05/03-01-07-01-02-01-05.wav  \n",
            "  inflating: audio_speech_actors_01-24/Actor_05/03-01-07-01-02-02-05.wav  \n",
            "  inflating: audio_speech_actors_01-24/Actor_05/03-01-07-02-01-01-05.wav  \n",
            "  inflating: audio_speech_actors_01-24/Actor_05/03-01-07-02-01-02-05.wav  \n",
            "  inflating: audio_speech_actors_01-24/Actor_05/03-01-07-02-02-01-05.wav  \n",
            "  inflating: audio_speech_actors_01-24/Actor_05/03-01-07-02-02-02-05.wav  \n",
            "  inflating: audio_speech_actors_01-24/Actor_05/03-01-08-01-01-01-05.wav  \n",
            "  inflating: audio_speech_actors_01-24/Actor_05/03-01-08-01-01-02-05.wav  \n",
            "  inflating: audio_speech_actors_01-24/Actor_05/03-01-08-01-02-01-05.wav  \n",
            "  inflating: audio_speech_actors_01-24/Actor_05/03-01-08-01-02-02-05.wav  \n",
            "  inflating: audio_speech_actors_01-24/Actor_05/03-01-08-02-01-01-05.wav  \n",
            "  inflating: audio_speech_actors_01-24/Actor_05/03-01-08-02-01-02-05.wav  \n",
            "  inflating: audio_speech_actors_01-24/Actor_05/03-01-08-02-02-01-05.wav  \n",
            "  inflating: audio_speech_actors_01-24/Actor_05/03-01-08-02-02-02-05.wav  \n",
            "  inflating: audio_speech_actors_01-24/Actor_06/03-01-01-01-01-01-06.wav  \n",
            "  inflating: audio_speech_actors_01-24/Actor_06/03-01-01-01-01-02-06.wav  \n",
            "  inflating: audio_speech_actors_01-24/Actor_06/03-01-01-01-02-01-06.wav  \n",
            "  inflating: audio_speech_actors_01-24/Actor_06/03-01-01-01-02-02-06.wav  \n",
            "  inflating: audio_speech_actors_01-24/Actor_06/03-01-02-01-01-01-06.wav  \n",
            "  inflating: audio_speech_actors_01-24/Actor_06/03-01-02-01-01-02-06.wav  \n",
            "  inflating: audio_speech_actors_01-24/Actor_06/03-01-02-01-02-01-06.wav  \n",
            "  inflating: audio_speech_actors_01-24/Actor_06/03-01-02-01-02-02-06.wav  \n",
            "  inflating: audio_speech_actors_01-24/Actor_06/03-01-02-02-01-01-06.wav  \n",
            "  inflating: audio_speech_actors_01-24/Actor_06/03-01-02-02-01-02-06.wav  \n",
            "  inflating: audio_speech_actors_01-24/Actor_06/03-01-02-02-02-01-06.wav  \n",
            "  inflating: audio_speech_actors_01-24/Actor_06/03-01-02-02-02-02-06.wav  \n",
            "  inflating: audio_speech_actors_01-24/Actor_06/03-01-03-01-01-01-06.wav  \n",
            "  inflating: audio_speech_actors_01-24/Actor_06/03-01-03-01-01-02-06.wav  \n",
            "  inflating: audio_speech_actors_01-24/Actor_06/03-01-03-01-02-01-06.wav  \n",
            "  inflating: audio_speech_actors_01-24/Actor_06/03-01-03-01-02-02-06.wav  \n",
            "  inflating: audio_speech_actors_01-24/Actor_06/03-01-03-02-01-01-06.wav  \n",
            "  inflating: audio_speech_actors_01-24/Actor_06/03-01-03-02-01-02-06.wav  \n",
            "  inflating: audio_speech_actors_01-24/Actor_06/03-01-03-02-02-01-06.wav  \n",
            "  inflating: audio_speech_actors_01-24/Actor_06/03-01-03-02-02-02-06.wav  \n",
            "  inflating: audio_speech_actors_01-24/Actor_06/03-01-04-01-01-01-06.wav  \n",
            "  inflating: audio_speech_actors_01-24/Actor_06/03-01-04-01-01-02-06.wav  \n",
            "  inflating: audio_speech_actors_01-24/Actor_06/03-01-04-01-02-01-06.wav  \n",
            "  inflating: audio_speech_actors_01-24/Actor_06/03-01-04-01-02-02-06.wav  \n",
            "  inflating: audio_speech_actors_01-24/Actor_06/03-01-04-02-01-01-06.wav  \n",
            "  inflating: audio_speech_actors_01-24/Actor_06/03-01-04-02-01-02-06.wav  \n",
            "  inflating: audio_speech_actors_01-24/Actor_06/03-01-04-02-02-01-06.wav  \n",
            "  inflating: audio_speech_actors_01-24/Actor_06/03-01-04-02-02-02-06.wav  \n",
            "  inflating: audio_speech_actors_01-24/Actor_06/03-01-05-01-01-01-06.wav  \n",
            "  inflating: audio_speech_actors_01-24/Actor_06/03-01-05-01-01-02-06.wav  \n",
            "  inflating: audio_speech_actors_01-24/Actor_06/03-01-05-01-02-01-06.wav  \n",
            "  inflating: audio_speech_actors_01-24/Actor_06/03-01-05-01-02-02-06.wav  \n",
            "  inflating: audio_speech_actors_01-24/Actor_06/03-01-05-02-01-01-06.wav  \n",
            "  inflating: audio_speech_actors_01-24/Actor_06/03-01-05-02-01-02-06.wav  \n",
            "  inflating: audio_speech_actors_01-24/Actor_06/03-01-05-02-02-01-06.wav  \n",
            "  inflating: audio_speech_actors_01-24/Actor_06/03-01-05-02-02-02-06.wav  \n",
            "  inflating: audio_speech_actors_01-24/Actor_06/03-01-06-01-01-01-06.wav  \n",
            "  inflating: audio_speech_actors_01-24/Actor_06/03-01-06-01-01-02-06.wav  \n",
            "  inflating: audio_speech_actors_01-24/Actor_06/03-01-06-01-02-01-06.wav  \n",
            "  inflating: audio_speech_actors_01-24/Actor_06/03-01-06-01-02-02-06.wav  \n",
            "  inflating: audio_speech_actors_01-24/Actor_06/03-01-06-02-01-01-06.wav  \n",
            "  inflating: audio_speech_actors_01-24/Actor_06/03-01-06-02-01-02-06.wav  \n",
            "  inflating: audio_speech_actors_01-24/Actor_06/03-01-06-02-02-01-06.wav  \n",
            "  inflating: audio_speech_actors_01-24/Actor_06/03-01-06-02-02-02-06.wav  \n",
            "  inflating: audio_speech_actors_01-24/Actor_06/03-01-07-01-01-01-06.wav  \n",
            "  inflating: audio_speech_actors_01-24/Actor_06/03-01-07-01-01-02-06.wav  \n",
            "  inflating: audio_speech_actors_01-24/Actor_06/03-01-07-01-02-01-06.wav  \n",
            "  inflating: audio_speech_actors_01-24/Actor_06/03-01-07-01-02-02-06.wav  \n",
            "  inflating: audio_speech_actors_01-24/Actor_06/03-01-07-02-01-01-06.wav  \n",
            "  inflating: audio_speech_actors_01-24/Actor_06/03-01-07-02-01-02-06.wav  \n",
            "  inflating: audio_speech_actors_01-24/Actor_06/03-01-07-02-02-01-06.wav  \n",
            "  inflating: audio_speech_actors_01-24/Actor_06/03-01-07-02-02-02-06.wav  \n",
            "  inflating: audio_speech_actors_01-24/Actor_06/03-01-08-01-01-01-06.wav  \n",
            "  inflating: audio_speech_actors_01-24/Actor_06/03-01-08-01-01-02-06.wav  \n",
            "  inflating: audio_speech_actors_01-24/Actor_06/03-01-08-01-02-01-06.wav  \n",
            "  inflating: audio_speech_actors_01-24/Actor_06/03-01-08-01-02-02-06.wav  \n",
            "  inflating: audio_speech_actors_01-24/Actor_06/03-01-08-02-01-01-06.wav  \n",
            "  inflating: audio_speech_actors_01-24/Actor_06/03-01-08-02-01-02-06.wav  \n",
            "  inflating: audio_speech_actors_01-24/Actor_06/03-01-08-02-02-01-06.wav  \n",
            "  inflating: audio_speech_actors_01-24/Actor_06/03-01-08-02-02-02-06.wav  \n",
            "  inflating: audio_speech_actors_01-24/Actor_07/03-01-01-01-01-01-07.wav  \n",
            "  inflating: audio_speech_actors_01-24/Actor_07/03-01-01-01-01-02-07.wav  \n",
            "  inflating: audio_speech_actors_01-24/Actor_07/03-01-01-01-02-01-07.wav  \n",
            "  inflating: audio_speech_actors_01-24/Actor_07/03-01-01-01-02-02-07.wav  \n",
            "  inflating: audio_speech_actors_01-24/Actor_07/03-01-02-01-01-01-07.wav  \n",
            "  inflating: audio_speech_actors_01-24/Actor_07/03-01-02-01-01-02-07.wav  \n",
            "  inflating: audio_speech_actors_01-24/Actor_07/03-01-02-01-02-01-07.wav  \n",
            "  inflating: audio_speech_actors_01-24/Actor_07/03-01-02-01-02-02-07.wav  \n",
            "  inflating: audio_speech_actors_01-24/Actor_07/03-01-02-02-01-01-07.wav  \n",
            "  inflating: audio_speech_actors_01-24/Actor_07/03-01-02-02-01-02-07.wav  \n",
            "  inflating: audio_speech_actors_01-24/Actor_07/03-01-02-02-02-01-07.wav  \n",
            "  inflating: audio_speech_actors_01-24/Actor_07/03-01-02-02-02-02-07.wav  \n",
            "  inflating: audio_speech_actors_01-24/Actor_07/03-01-03-01-01-01-07.wav  \n",
            "  inflating: audio_speech_actors_01-24/Actor_07/03-01-03-01-01-02-07.wav  \n",
            "  inflating: audio_speech_actors_01-24/Actor_07/03-01-03-01-02-01-07.wav  \n",
            "  inflating: audio_speech_actors_01-24/Actor_07/03-01-03-01-02-02-07.wav  \n",
            "  inflating: audio_speech_actors_01-24/Actor_07/03-01-03-02-01-01-07.wav  \n",
            "  inflating: audio_speech_actors_01-24/Actor_07/03-01-03-02-01-02-07.wav  \n",
            "  inflating: audio_speech_actors_01-24/Actor_07/03-01-03-02-02-01-07.wav  \n",
            "  inflating: audio_speech_actors_01-24/Actor_07/03-01-03-02-02-02-07.wav  \n",
            "  inflating: audio_speech_actors_01-24/Actor_07/03-01-04-01-01-01-07.wav  \n",
            "  inflating: audio_speech_actors_01-24/Actor_07/03-01-04-01-01-02-07.wav  \n",
            "  inflating: audio_speech_actors_01-24/Actor_07/03-01-04-01-02-01-07.wav  \n",
            "  inflating: audio_speech_actors_01-24/Actor_07/03-01-04-01-02-02-07.wav  \n",
            "  inflating: audio_speech_actors_01-24/Actor_07/03-01-04-02-01-01-07.wav  \n",
            "  inflating: audio_speech_actors_01-24/Actor_07/03-01-04-02-01-02-07.wav  \n",
            "  inflating: audio_speech_actors_01-24/Actor_07/03-01-04-02-02-01-07.wav  \n",
            "  inflating: audio_speech_actors_01-24/Actor_07/03-01-04-02-02-02-07.wav  \n",
            "  inflating: audio_speech_actors_01-24/Actor_07/03-01-05-01-01-01-07.wav  \n",
            "  inflating: audio_speech_actors_01-24/Actor_07/03-01-05-01-01-02-07.wav  \n",
            "  inflating: audio_speech_actors_01-24/Actor_07/03-01-05-01-02-01-07.wav  \n",
            "  inflating: audio_speech_actors_01-24/Actor_07/03-01-05-01-02-02-07.wav  \n",
            "  inflating: audio_speech_actors_01-24/Actor_07/03-01-05-02-01-01-07.wav  \n",
            "  inflating: audio_speech_actors_01-24/Actor_07/03-01-05-02-01-02-07.wav  \n",
            "  inflating: audio_speech_actors_01-24/Actor_07/03-01-05-02-02-01-07.wav  \n",
            "  inflating: audio_speech_actors_01-24/Actor_07/03-01-05-02-02-02-07.wav  \n",
            "  inflating: audio_speech_actors_01-24/Actor_07/03-01-06-01-01-01-07.wav  \n",
            "  inflating: audio_speech_actors_01-24/Actor_07/03-01-06-01-01-02-07.wav  \n",
            "  inflating: audio_speech_actors_01-24/Actor_07/03-01-06-01-02-01-07.wav  \n",
            "  inflating: audio_speech_actors_01-24/Actor_07/03-01-06-01-02-02-07.wav  \n",
            "  inflating: audio_speech_actors_01-24/Actor_07/03-01-06-02-01-01-07.wav  \n",
            "  inflating: audio_speech_actors_01-24/Actor_07/03-01-06-02-01-02-07.wav  \n",
            "  inflating: audio_speech_actors_01-24/Actor_07/03-01-06-02-02-01-07.wav  \n",
            "  inflating: audio_speech_actors_01-24/Actor_07/03-01-06-02-02-02-07.wav  \n",
            "  inflating: audio_speech_actors_01-24/Actor_07/03-01-07-01-01-01-07.wav  \n",
            "  inflating: audio_speech_actors_01-24/Actor_07/03-01-07-01-01-02-07.wav  \n",
            "  inflating: audio_speech_actors_01-24/Actor_07/03-01-07-01-02-01-07.wav  \n",
            "  inflating: audio_speech_actors_01-24/Actor_07/03-01-07-01-02-02-07.wav  \n",
            "  inflating: audio_speech_actors_01-24/Actor_07/03-01-07-02-01-01-07.wav  \n",
            "  inflating: audio_speech_actors_01-24/Actor_07/03-01-07-02-01-02-07.wav  \n",
            "  inflating: audio_speech_actors_01-24/Actor_07/03-01-07-02-02-01-07.wav  \n",
            "  inflating: audio_speech_actors_01-24/Actor_07/03-01-07-02-02-02-07.wav  \n",
            "  inflating: audio_speech_actors_01-24/Actor_07/03-01-08-01-01-01-07.wav  \n",
            "  inflating: audio_speech_actors_01-24/Actor_07/03-01-08-01-01-02-07.wav  \n",
            "  inflating: audio_speech_actors_01-24/Actor_07/03-01-08-01-02-01-07.wav  \n",
            "  inflating: audio_speech_actors_01-24/Actor_07/03-01-08-01-02-02-07.wav  \n",
            "  inflating: audio_speech_actors_01-24/Actor_07/03-01-08-02-01-01-07.wav  \n",
            "  inflating: audio_speech_actors_01-24/Actor_07/03-01-08-02-01-02-07.wav  \n",
            "  inflating: audio_speech_actors_01-24/Actor_07/03-01-08-02-02-01-07.wav  \n",
            "  inflating: audio_speech_actors_01-24/Actor_07/03-01-08-02-02-02-07.wav  \n",
            "  inflating: audio_speech_actors_01-24/Actor_08/03-01-01-01-01-01-08.wav  \n",
            "  inflating: audio_speech_actors_01-24/Actor_08/03-01-01-01-01-02-08.wav  \n",
            "  inflating: audio_speech_actors_01-24/Actor_08/03-01-01-01-02-01-08.wav  \n",
            "  inflating: audio_speech_actors_01-24/Actor_08/03-01-01-01-02-02-08.wav  \n",
            "  inflating: audio_speech_actors_01-24/Actor_08/03-01-02-01-01-01-08.wav  \n",
            "  inflating: audio_speech_actors_01-24/Actor_08/03-01-02-01-01-02-08.wav  \n",
            "  inflating: audio_speech_actors_01-24/Actor_08/03-01-02-01-02-01-08.wav  \n",
            "  inflating: audio_speech_actors_01-24/Actor_08/03-01-02-01-02-02-08.wav  \n",
            "  inflating: audio_speech_actors_01-24/Actor_08/03-01-02-02-01-01-08.wav  \n",
            "  inflating: audio_speech_actors_01-24/Actor_08/03-01-02-02-01-02-08.wav  \n",
            "  inflating: audio_speech_actors_01-24/Actor_08/03-01-02-02-02-01-08.wav  \n",
            "  inflating: audio_speech_actors_01-24/Actor_08/03-01-02-02-02-02-08.wav  \n",
            "  inflating: audio_speech_actors_01-24/Actor_08/03-01-03-01-01-01-08.wav  \n",
            "  inflating: audio_speech_actors_01-24/Actor_08/03-01-03-01-01-02-08.wav  \n",
            "  inflating: audio_speech_actors_01-24/Actor_08/03-01-03-01-02-01-08.wav  \n",
            "  inflating: audio_speech_actors_01-24/Actor_08/03-01-03-01-02-02-08.wav  \n",
            "  inflating: audio_speech_actors_01-24/Actor_08/03-01-03-02-01-01-08.wav  \n",
            "  inflating: audio_speech_actors_01-24/Actor_08/03-01-03-02-01-02-08.wav  \n",
            "  inflating: audio_speech_actors_01-24/Actor_08/03-01-03-02-02-01-08.wav  \n",
            "  inflating: audio_speech_actors_01-24/Actor_08/03-01-03-02-02-02-08.wav  \n",
            "  inflating: audio_speech_actors_01-24/Actor_08/03-01-04-01-01-01-08.wav  \n",
            "  inflating: audio_speech_actors_01-24/Actor_08/03-01-04-01-01-02-08.wav  \n",
            "  inflating: audio_speech_actors_01-24/Actor_08/03-01-04-01-02-01-08.wav  \n",
            "  inflating: audio_speech_actors_01-24/Actor_08/03-01-04-01-02-02-08.wav  \n",
            "  inflating: audio_speech_actors_01-24/Actor_08/03-01-04-02-01-01-08.wav  \n",
            "  inflating: audio_speech_actors_01-24/Actor_08/03-01-04-02-01-02-08.wav  \n",
            "  inflating: audio_speech_actors_01-24/Actor_08/03-01-04-02-02-01-08.wav  \n",
            "  inflating: audio_speech_actors_01-24/Actor_08/03-01-04-02-02-02-08.wav  \n",
            "  inflating: audio_speech_actors_01-24/Actor_08/03-01-05-01-01-01-08.wav  \n",
            "  inflating: audio_speech_actors_01-24/Actor_08/03-01-05-01-01-02-08.wav  \n",
            "  inflating: audio_speech_actors_01-24/Actor_08/03-01-05-01-02-01-08.wav  \n",
            "  inflating: audio_speech_actors_01-24/Actor_08/03-01-05-01-02-02-08.wav  \n",
            "  inflating: audio_speech_actors_01-24/Actor_08/03-01-05-02-01-01-08.wav  \n",
            "  inflating: audio_speech_actors_01-24/Actor_08/03-01-05-02-01-02-08.wav  \n",
            "  inflating: audio_speech_actors_01-24/Actor_08/03-01-05-02-02-01-08.wav  \n",
            "  inflating: audio_speech_actors_01-24/Actor_08/03-01-05-02-02-02-08.wav  \n",
            "  inflating: audio_speech_actors_01-24/Actor_08/03-01-06-01-01-01-08.wav  \n",
            "  inflating: audio_speech_actors_01-24/Actor_08/03-01-06-01-01-02-08.wav  \n",
            "  inflating: audio_speech_actors_01-24/Actor_08/03-01-06-01-02-01-08.wav  \n",
            "  inflating: audio_speech_actors_01-24/Actor_08/03-01-06-01-02-02-08.wav  \n",
            "  inflating: audio_speech_actors_01-24/Actor_08/03-01-06-02-01-01-08.wav  \n",
            "  inflating: audio_speech_actors_01-24/Actor_08/03-01-06-02-01-02-08.wav  \n",
            "  inflating: audio_speech_actors_01-24/Actor_08/03-01-06-02-02-01-08.wav  \n",
            "  inflating: audio_speech_actors_01-24/Actor_08/03-01-06-02-02-02-08.wav  \n",
            "  inflating: audio_speech_actors_01-24/Actor_08/03-01-07-01-01-01-08.wav  \n",
            "  inflating: audio_speech_actors_01-24/Actor_08/03-01-07-01-01-02-08.wav  \n",
            "  inflating: audio_speech_actors_01-24/Actor_08/03-01-07-01-02-01-08.wav  \n",
            "  inflating: audio_speech_actors_01-24/Actor_08/03-01-07-01-02-02-08.wav  \n",
            "  inflating: audio_speech_actors_01-24/Actor_08/03-01-07-02-01-01-08.wav  \n",
            "  inflating: audio_speech_actors_01-24/Actor_08/03-01-07-02-01-02-08.wav  \n",
            "  inflating: audio_speech_actors_01-24/Actor_08/03-01-07-02-02-01-08.wav  \n",
            "  inflating: audio_speech_actors_01-24/Actor_08/03-01-07-02-02-02-08.wav  \n",
            "  inflating: audio_speech_actors_01-24/Actor_08/03-01-08-01-01-01-08.wav  \n",
            "  inflating: audio_speech_actors_01-24/Actor_08/03-01-08-01-01-02-08.wav  \n",
            "  inflating: audio_speech_actors_01-24/Actor_08/03-01-08-01-02-01-08.wav  \n",
            "  inflating: audio_speech_actors_01-24/Actor_08/03-01-08-01-02-02-08.wav  \n",
            "  inflating: audio_speech_actors_01-24/Actor_08/03-01-08-02-01-01-08.wav  \n",
            "  inflating: audio_speech_actors_01-24/Actor_08/03-01-08-02-01-02-08.wav  \n",
            "  inflating: audio_speech_actors_01-24/Actor_08/03-01-08-02-02-01-08.wav  \n",
            "  inflating: audio_speech_actors_01-24/Actor_08/03-01-08-02-02-02-08.wav  \n",
            "  inflating: audio_speech_actors_01-24/Actor_09/03-01-01-01-01-01-09.wav  \n",
            "  inflating: audio_speech_actors_01-24/Actor_09/03-01-01-01-01-02-09.wav  \n",
            "  inflating: audio_speech_actors_01-24/Actor_09/03-01-01-01-02-01-09.wav  \n",
            "  inflating: audio_speech_actors_01-24/Actor_09/03-01-01-01-02-02-09.wav  \n",
            "  inflating: audio_speech_actors_01-24/Actor_09/03-01-02-01-01-01-09.wav  \n",
            "  inflating: audio_speech_actors_01-24/Actor_09/03-01-02-01-01-02-09.wav  \n",
            "  inflating: audio_speech_actors_01-24/Actor_09/03-01-02-01-02-01-09.wav  \n",
            "  inflating: audio_speech_actors_01-24/Actor_09/03-01-02-01-02-02-09.wav  \n",
            "  inflating: audio_speech_actors_01-24/Actor_09/03-01-02-02-01-01-09.wav  \n",
            "  inflating: audio_speech_actors_01-24/Actor_09/03-01-02-02-01-02-09.wav  \n",
            "  inflating: audio_speech_actors_01-24/Actor_09/03-01-02-02-02-01-09.wav  \n",
            "  inflating: audio_speech_actors_01-24/Actor_09/03-01-02-02-02-02-09.wav  \n",
            "  inflating: audio_speech_actors_01-24/Actor_09/03-01-03-01-01-01-09.wav  \n",
            "  inflating: audio_speech_actors_01-24/Actor_09/03-01-03-01-01-02-09.wav  \n",
            "  inflating: audio_speech_actors_01-24/Actor_09/03-01-03-01-02-01-09.wav  \n",
            "  inflating: audio_speech_actors_01-24/Actor_09/03-01-03-01-02-02-09.wav  \n",
            "  inflating: audio_speech_actors_01-24/Actor_09/03-01-03-02-01-01-09.wav  \n",
            "  inflating: audio_speech_actors_01-24/Actor_09/03-01-03-02-01-02-09.wav  \n",
            "  inflating: audio_speech_actors_01-24/Actor_09/03-01-03-02-02-01-09.wav  \n",
            "  inflating: audio_speech_actors_01-24/Actor_09/03-01-03-02-02-02-09.wav  \n",
            "  inflating: audio_speech_actors_01-24/Actor_09/03-01-04-01-01-01-09.wav  \n",
            "  inflating: audio_speech_actors_01-24/Actor_09/03-01-04-01-01-02-09.wav  \n",
            "  inflating: audio_speech_actors_01-24/Actor_09/03-01-04-01-02-01-09.wav  \n",
            "  inflating: audio_speech_actors_01-24/Actor_09/03-01-04-01-02-02-09.wav  \n",
            "  inflating: audio_speech_actors_01-24/Actor_09/03-01-04-02-01-01-09.wav  \n",
            "  inflating: audio_speech_actors_01-24/Actor_09/03-01-04-02-01-02-09.wav  \n",
            "  inflating: audio_speech_actors_01-24/Actor_09/03-01-04-02-02-01-09.wav  \n",
            "  inflating: audio_speech_actors_01-24/Actor_09/03-01-04-02-02-02-09.wav  \n",
            "  inflating: audio_speech_actors_01-24/Actor_09/03-01-05-01-01-01-09.wav  \n",
            "  inflating: audio_speech_actors_01-24/Actor_09/03-01-05-01-01-02-09.wav  \n",
            "  inflating: audio_speech_actors_01-24/Actor_09/03-01-05-01-02-01-09.wav  \n",
            "  inflating: audio_speech_actors_01-24/Actor_09/03-01-05-01-02-02-09.wav  \n",
            "  inflating: audio_speech_actors_01-24/Actor_09/03-01-05-02-01-01-09.wav  \n",
            "  inflating: audio_speech_actors_01-24/Actor_09/03-01-05-02-01-02-09.wav  \n",
            "  inflating: audio_speech_actors_01-24/Actor_09/03-01-05-02-02-01-09.wav  \n",
            "  inflating: audio_speech_actors_01-24/Actor_09/03-01-05-02-02-02-09.wav  \n",
            "  inflating: audio_speech_actors_01-24/Actor_09/03-01-06-01-01-01-09.wav  \n",
            "  inflating: audio_speech_actors_01-24/Actor_09/03-01-06-01-01-02-09.wav  \n",
            "  inflating: audio_speech_actors_01-24/Actor_09/03-01-06-01-02-01-09.wav  \n",
            "  inflating: audio_speech_actors_01-24/Actor_09/03-01-06-01-02-02-09.wav  \n",
            "  inflating: audio_speech_actors_01-24/Actor_09/03-01-06-02-01-01-09.wav  \n",
            "  inflating: audio_speech_actors_01-24/Actor_09/03-01-06-02-01-02-09.wav  \n",
            "  inflating: audio_speech_actors_01-24/Actor_09/03-01-06-02-02-01-09.wav  \n",
            "  inflating: audio_speech_actors_01-24/Actor_09/03-01-06-02-02-02-09.wav  \n",
            "  inflating: audio_speech_actors_01-24/Actor_09/03-01-07-01-01-01-09.wav  \n",
            "  inflating: audio_speech_actors_01-24/Actor_09/03-01-07-01-01-02-09.wav  \n",
            "  inflating: audio_speech_actors_01-24/Actor_09/03-01-07-01-02-01-09.wav  \n",
            "  inflating: audio_speech_actors_01-24/Actor_09/03-01-07-01-02-02-09.wav  \n",
            "  inflating: audio_speech_actors_01-24/Actor_09/03-01-07-02-01-01-09.wav  \n",
            "  inflating: audio_speech_actors_01-24/Actor_09/03-01-07-02-01-02-09.wav  \n",
            "  inflating: audio_speech_actors_01-24/Actor_09/03-01-07-02-02-01-09.wav  \n",
            "  inflating: audio_speech_actors_01-24/Actor_09/03-01-07-02-02-02-09.wav  \n",
            "  inflating: audio_speech_actors_01-24/Actor_09/03-01-08-01-01-01-09.wav  \n",
            "  inflating: audio_speech_actors_01-24/Actor_09/03-01-08-01-01-02-09.wav  \n",
            "  inflating: audio_speech_actors_01-24/Actor_09/03-01-08-01-02-01-09.wav  \n",
            "  inflating: audio_speech_actors_01-24/Actor_09/03-01-08-01-02-02-09.wav  \n",
            "  inflating: audio_speech_actors_01-24/Actor_09/03-01-08-02-01-01-09.wav  \n",
            "  inflating: audio_speech_actors_01-24/Actor_09/03-01-08-02-01-02-09.wav  \n",
            "  inflating: audio_speech_actors_01-24/Actor_09/03-01-08-02-02-01-09.wav  \n",
            "  inflating: audio_speech_actors_01-24/Actor_09/03-01-08-02-02-02-09.wav  \n",
            "  inflating: audio_speech_actors_01-24/Actor_10/03-01-01-01-01-01-10.wav  \n",
            "  inflating: audio_speech_actors_01-24/Actor_10/03-01-01-01-01-02-10.wav  \n",
            "  inflating: audio_speech_actors_01-24/Actor_10/03-01-01-01-02-01-10.wav  \n",
            "  inflating: audio_speech_actors_01-24/Actor_10/03-01-01-01-02-02-10.wav  \n",
            "  inflating: audio_speech_actors_01-24/Actor_10/03-01-02-01-01-01-10.wav  \n",
            "  inflating: audio_speech_actors_01-24/Actor_10/03-01-02-01-01-02-10.wav  \n",
            "  inflating: audio_speech_actors_01-24/Actor_10/03-01-02-01-02-01-10.wav  \n",
            "  inflating: audio_speech_actors_01-24/Actor_10/03-01-02-01-02-02-10.wav  \n",
            "  inflating: audio_speech_actors_01-24/Actor_10/03-01-02-02-01-01-10.wav  \n",
            "  inflating: audio_speech_actors_01-24/Actor_10/03-01-02-02-01-02-10.wav  \n",
            "  inflating: audio_speech_actors_01-24/Actor_10/03-01-02-02-02-01-10.wav  \n",
            "  inflating: audio_speech_actors_01-24/Actor_10/03-01-02-02-02-02-10.wav  \n",
            "  inflating: audio_speech_actors_01-24/Actor_10/03-01-03-01-01-01-10.wav  \n",
            "  inflating: audio_speech_actors_01-24/Actor_10/03-01-03-01-01-02-10.wav  \n",
            "  inflating: audio_speech_actors_01-24/Actor_10/03-01-03-01-02-01-10.wav  \n",
            "  inflating: audio_speech_actors_01-24/Actor_10/03-01-03-01-02-02-10.wav  \n",
            "  inflating: audio_speech_actors_01-24/Actor_10/03-01-03-02-01-01-10.wav  \n",
            "  inflating: audio_speech_actors_01-24/Actor_10/03-01-03-02-01-02-10.wav  \n",
            "  inflating: audio_speech_actors_01-24/Actor_10/03-01-03-02-02-01-10.wav  \n",
            "  inflating: audio_speech_actors_01-24/Actor_10/03-01-03-02-02-02-10.wav  \n",
            "  inflating: audio_speech_actors_01-24/Actor_10/03-01-04-01-01-01-10.wav  \n",
            "  inflating: audio_speech_actors_01-24/Actor_10/03-01-04-01-01-02-10.wav  \n",
            "  inflating: audio_speech_actors_01-24/Actor_10/03-01-04-01-02-01-10.wav  \n",
            "  inflating: audio_speech_actors_01-24/Actor_10/03-01-04-01-02-02-10.wav  \n",
            "  inflating: audio_speech_actors_01-24/Actor_10/03-01-04-02-01-01-10.wav  \n",
            "  inflating: audio_speech_actors_01-24/Actor_10/03-01-04-02-01-02-10.wav  \n",
            "  inflating: audio_speech_actors_01-24/Actor_10/03-01-04-02-02-01-10.wav  \n",
            "  inflating: audio_speech_actors_01-24/Actor_10/03-01-04-02-02-02-10.wav  \n",
            "  inflating: audio_speech_actors_01-24/Actor_10/03-01-05-01-01-01-10.wav  \n",
            "  inflating: audio_speech_actors_01-24/Actor_10/03-01-05-01-01-02-10.wav  \n",
            "  inflating: audio_speech_actors_01-24/Actor_10/03-01-05-01-02-01-10.wav  \n",
            "  inflating: audio_speech_actors_01-24/Actor_10/03-01-05-01-02-02-10.wav  \n",
            "  inflating: audio_speech_actors_01-24/Actor_10/03-01-05-02-01-01-10.wav  \n",
            "  inflating: audio_speech_actors_01-24/Actor_10/03-01-05-02-01-02-10.wav  \n",
            "  inflating: audio_speech_actors_01-24/Actor_10/03-01-05-02-02-01-10.wav  \n",
            "  inflating: audio_speech_actors_01-24/Actor_10/03-01-05-02-02-02-10.wav  \n",
            "  inflating: audio_speech_actors_01-24/Actor_10/03-01-06-01-01-01-10.wav  \n",
            "  inflating: audio_speech_actors_01-24/Actor_10/03-01-06-01-01-02-10.wav  \n",
            "  inflating: audio_speech_actors_01-24/Actor_10/03-01-06-01-02-01-10.wav  \n",
            "  inflating: audio_speech_actors_01-24/Actor_10/03-01-06-01-02-02-10.wav  \n",
            "  inflating: audio_speech_actors_01-24/Actor_10/03-01-06-02-01-01-10.wav  \n",
            "  inflating: audio_speech_actors_01-24/Actor_10/03-01-06-02-01-02-10.wav  \n",
            "  inflating: audio_speech_actors_01-24/Actor_10/03-01-06-02-02-01-10.wav  \n",
            "  inflating: audio_speech_actors_01-24/Actor_10/03-01-06-02-02-02-10.wav  \n",
            "  inflating: audio_speech_actors_01-24/Actor_10/03-01-07-01-01-01-10.wav  \n",
            "  inflating: audio_speech_actors_01-24/Actor_10/03-01-07-01-01-02-10.wav  \n",
            "  inflating: audio_speech_actors_01-24/Actor_10/03-01-07-01-02-01-10.wav  \n",
            "  inflating: audio_speech_actors_01-24/Actor_10/03-01-07-01-02-02-10.wav  \n",
            "  inflating: audio_speech_actors_01-24/Actor_10/03-01-07-02-01-01-10.wav  \n",
            "  inflating: audio_speech_actors_01-24/Actor_10/03-01-07-02-01-02-10.wav  \n",
            "  inflating: audio_speech_actors_01-24/Actor_10/03-01-07-02-02-01-10.wav  \n",
            "  inflating: audio_speech_actors_01-24/Actor_10/03-01-07-02-02-02-10.wav  \n",
            "  inflating: audio_speech_actors_01-24/Actor_10/03-01-08-01-01-01-10.wav  \n",
            "  inflating: audio_speech_actors_01-24/Actor_10/03-01-08-01-01-02-10.wav  \n",
            "  inflating: audio_speech_actors_01-24/Actor_10/03-01-08-01-02-01-10.wav  \n",
            "  inflating: audio_speech_actors_01-24/Actor_10/03-01-08-01-02-02-10.wav  \n",
            "  inflating: audio_speech_actors_01-24/Actor_10/03-01-08-02-01-01-10.wav  \n",
            "  inflating: audio_speech_actors_01-24/Actor_10/03-01-08-02-01-02-10.wav  \n",
            "  inflating: audio_speech_actors_01-24/Actor_10/03-01-08-02-02-01-10.wav  \n",
            "  inflating: audio_speech_actors_01-24/Actor_10/03-01-08-02-02-02-10.wav  \n",
            "  inflating: audio_speech_actors_01-24/Actor_11/03-01-01-01-01-01-11.wav  \n",
            "  inflating: audio_speech_actors_01-24/Actor_11/03-01-01-01-01-02-11.wav  \n",
            "  inflating: audio_speech_actors_01-24/Actor_11/03-01-01-01-02-01-11.wav  \n",
            "  inflating: audio_speech_actors_01-24/Actor_11/03-01-01-01-02-02-11.wav  \n",
            "  inflating: audio_speech_actors_01-24/Actor_11/03-01-02-01-01-01-11.wav  \n",
            "  inflating: audio_speech_actors_01-24/Actor_11/03-01-02-01-01-02-11.wav  \n",
            "  inflating: audio_speech_actors_01-24/Actor_11/03-01-02-01-02-01-11.wav  \n",
            "  inflating: audio_speech_actors_01-24/Actor_11/03-01-02-01-02-02-11.wav  \n",
            "  inflating: audio_speech_actors_01-24/Actor_11/03-01-02-02-01-01-11.wav  \n",
            "  inflating: audio_speech_actors_01-24/Actor_11/03-01-02-02-01-02-11.wav  \n",
            "  inflating: audio_speech_actors_01-24/Actor_11/03-01-02-02-02-01-11.wav  \n",
            "  inflating: audio_speech_actors_01-24/Actor_11/03-01-02-02-02-02-11.wav  \n",
            "  inflating: audio_speech_actors_01-24/Actor_11/03-01-03-01-01-01-11.wav  \n",
            "  inflating: audio_speech_actors_01-24/Actor_11/03-01-03-01-01-02-11.wav  \n",
            "  inflating: audio_speech_actors_01-24/Actor_11/03-01-03-01-02-01-11.wav  \n",
            "  inflating: audio_speech_actors_01-24/Actor_11/03-01-03-01-02-02-11.wav  \n",
            "  inflating: audio_speech_actors_01-24/Actor_11/03-01-03-02-01-01-11.wav  \n",
            "  inflating: audio_speech_actors_01-24/Actor_11/03-01-03-02-01-02-11.wav  \n",
            "  inflating: audio_speech_actors_01-24/Actor_11/03-01-03-02-02-01-11.wav  \n",
            "  inflating: audio_speech_actors_01-24/Actor_11/03-01-03-02-02-02-11.wav  \n",
            "  inflating: audio_speech_actors_01-24/Actor_11/03-01-04-01-01-01-11.wav  \n",
            "  inflating: audio_speech_actors_01-24/Actor_11/03-01-04-01-01-02-11.wav  \n",
            "  inflating: audio_speech_actors_01-24/Actor_11/03-01-04-01-02-01-11.wav  \n",
            "  inflating: audio_speech_actors_01-24/Actor_11/03-01-04-01-02-02-11.wav  \n",
            "  inflating: audio_speech_actors_01-24/Actor_11/03-01-04-02-01-01-11.wav  \n",
            "  inflating: audio_speech_actors_01-24/Actor_11/03-01-04-02-01-02-11.wav  \n",
            "  inflating: audio_speech_actors_01-24/Actor_11/03-01-04-02-02-01-11.wav  \n",
            "  inflating: audio_speech_actors_01-24/Actor_11/03-01-04-02-02-02-11.wav  \n",
            "  inflating: audio_speech_actors_01-24/Actor_11/03-01-05-01-01-01-11.wav  \n",
            "  inflating: audio_speech_actors_01-24/Actor_11/03-01-05-01-01-02-11.wav  \n",
            "  inflating: audio_speech_actors_01-24/Actor_11/03-01-05-01-02-01-11.wav  \n",
            "  inflating: audio_speech_actors_01-24/Actor_11/03-01-05-01-02-02-11.wav  \n",
            "  inflating: audio_speech_actors_01-24/Actor_11/03-01-05-02-01-01-11.wav  \n",
            "  inflating: audio_speech_actors_01-24/Actor_11/03-01-05-02-01-02-11.wav  \n",
            "  inflating: audio_speech_actors_01-24/Actor_11/03-01-05-02-02-01-11.wav  \n",
            "  inflating: audio_speech_actors_01-24/Actor_11/03-01-05-02-02-02-11.wav  \n",
            "  inflating: audio_speech_actors_01-24/Actor_11/03-01-06-01-01-01-11.wav  \n",
            "  inflating: audio_speech_actors_01-24/Actor_11/03-01-06-01-01-02-11.wav  \n",
            "  inflating: audio_speech_actors_01-24/Actor_11/03-01-06-01-02-01-11.wav  \n",
            "  inflating: audio_speech_actors_01-24/Actor_11/03-01-06-01-02-02-11.wav  \n",
            "  inflating: audio_speech_actors_01-24/Actor_11/03-01-06-02-01-01-11.wav  \n",
            "  inflating: audio_speech_actors_01-24/Actor_11/03-01-06-02-01-02-11.wav  \n",
            "  inflating: audio_speech_actors_01-24/Actor_11/03-01-06-02-02-01-11.wav  \n",
            "  inflating: audio_speech_actors_01-24/Actor_11/03-01-06-02-02-02-11.wav  \n",
            "  inflating: audio_speech_actors_01-24/Actor_11/03-01-07-01-01-01-11.wav  \n",
            "  inflating: audio_speech_actors_01-24/Actor_11/03-01-07-01-01-02-11.wav  \n",
            "  inflating: audio_speech_actors_01-24/Actor_11/03-01-07-01-02-01-11.wav  \n",
            "  inflating: audio_speech_actors_01-24/Actor_11/03-01-07-01-02-02-11.wav  \n",
            "  inflating: audio_speech_actors_01-24/Actor_11/03-01-07-02-01-01-11.wav  \n",
            "  inflating: audio_speech_actors_01-24/Actor_11/03-01-07-02-01-02-11.wav  \n",
            "  inflating: audio_speech_actors_01-24/Actor_11/03-01-07-02-02-01-11.wav  \n",
            "  inflating: audio_speech_actors_01-24/Actor_11/03-01-07-02-02-02-11.wav  \n",
            "  inflating: audio_speech_actors_01-24/Actor_11/03-01-08-01-01-01-11.wav  \n",
            "  inflating: audio_speech_actors_01-24/Actor_11/03-01-08-01-01-02-11.wav  \n",
            "  inflating: audio_speech_actors_01-24/Actor_11/03-01-08-01-02-01-11.wav  \n",
            "  inflating: audio_speech_actors_01-24/Actor_11/03-01-08-01-02-02-11.wav  \n",
            "  inflating: audio_speech_actors_01-24/Actor_11/03-01-08-02-01-01-11.wav  \n",
            "  inflating: audio_speech_actors_01-24/Actor_11/03-01-08-02-01-02-11.wav  \n",
            "  inflating: audio_speech_actors_01-24/Actor_11/03-01-08-02-02-01-11.wav  \n",
            "  inflating: audio_speech_actors_01-24/Actor_11/03-01-08-02-02-02-11.wav  \n",
            "  inflating: audio_speech_actors_01-24/Actor_12/03-01-01-01-01-01-12.wav  \n",
            "  inflating: audio_speech_actors_01-24/Actor_12/03-01-01-01-01-02-12.wav  \n",
            "  inflating: audio_speech_actors_01-24/Actor_12/03-01-01-01-02-01-12.wav  \n",
            "  inflating: audio_speech_actors_01-24/Actor_12/03-01-01-01-02-02-12.wav  \n",
            "  inflating: audio_speech_actors_01-24/Actor_12/03-01-02-01-01-01-12.wav  \n",
            "  inflating: audio_speech_actors_01-24/Actor_12/03-01-02-01-01-02-12.wav  \n",
            "  inflating: audio_speech_actors_01-24/Actor_12/03-01-02-01-02-01-12.wav  \n",
            "  inflating: audio_speech_actors_01-24/Actor_12/03-01-02-01-02-02-12.wav  \n",
            "  inflating: audio_speech_actors_01-24/Actor_12/03-01-02-02-01-01-12.wav  \n",
            "  inflating: audio_speech_actors_01-24/Actor_12/03-01-02-02-01-02-12.wav  \n",
            "  inflating: audio_speech_actors_01-24/Actor_12/03-01-02-02-02-01-12.wav  \n",
            "  inflating: audio_speech_actors_01-24/Actor_12/03-01-02-02-02-02-12.wav  \n",
            "  inflating: audio_speech_actors_01-24/Actor_12/03-01-03-01-01-01-12.wav  \n",
            "  inflating: audio_speech_actors_01-24/Actor_12/03-01-03-01-01-02-12.wav  \n",
            "  inflating: audio_speech_actors_01-24/Actor_12/03-01-03-01-02-01-12.wav  \n",
            "  inflating: audio_speech_actors_01-24/Actor_12/03-01-03-01-02-02-12.wav  \n",
            "  inflating: audio_speech_actors_01-24/Actor_12/03-01-03-02-01-01-12.wav  \n",
            "  inflating: audio_speech_actors_01-24/Actor_12/03-01-03-02-01-02-12.wav  \n",
            "  inflating: audio_speech_actors_01-24/Actor_12/03-01-03-02-02-01-12.wav  \n",
            "  inflating: audio_speech_actors_01-24/Actor_12/03-01-03-02-02-02-12.wav  \n",
            "  inflating: audio_speech_actors_01-24/Actor_12/03-01-04-01-01-01-12.wav  \n",
            "  inflating: audio_speech_actors_01-24/Actor_12/03-01-04-01-01-02-12.wav  \n",
            "  inflating: audio_speech_actors_01-24/Actor_12/03-01-04-01-02-01-12.wav  \n",
            "  inflating: audio_speech_actors_01-24/Actor_12/03-01-04-01-02-02-12.wav  \n",
            "  inflating: audio_speech_actors_01-24/Actor_12/03-01-04-02-01-01-12.wav  \n",
            "  inflating: audio_speech_actors_01-24/Actor_12/03-01-04-02-01-02-12.wav  \n",
            "  inflating: audio_speech_actors_01-24/Actor_12/03-01-04-02-02-01-12.wav  \n",
            "  inflating: audio_speech_actors_01-24/Actor_12/03-01-04-02-02-02-12.wav  \n",
            "  inflating: audio_speech_actors_01-24/Actor_12/03-01-05-01-01-01-12.wav  \n",
            "  inflating: audio_speech_actors_01-24/Actor_12/03-01-05-01-01-02-12.wav  \n",
            "  inflating: audio_speech_actors_01-24/Actor_12/03-01-05-01-02-01-12.wav  \n",
            "  inflating: audio_speech_actors_01-24/Actor_12/03-01-05-01-02-02-12.wav  \n",
            "  inflating: audio_speech_actors_01-24/Actor_12/03-01-05-02-01-01-12.wav  \n",
            "  inflating: audio_speech_actors_01-24/Actor_12/03-01-05-02-01-02-12.wav  \n",
            "  inflating: audio_speech_actors_01-24/Actor_12/03-01-05-02-02-01-12.wav  \n",
            "  inflating: audio_speech_actors_01-24/Actor_12/03-01-05-02-02-02-12.wav  \n",
            "  inflating: audio_speech_actors_01-24/Actor_12/03-01-06-01-01-01-12.wav  \n",
            "  inflating: audio_speech_actors_01-24/Actor_12/03-01-06-01-01-02-12.wav  \n",
            "  inflating: audio_speech_actors_01-24/Actor_12/03-01-06-01-02-01-12.wav  \n",
            "  inflating: audio_speech_actors_01-24/Actor_12/03-01-06-01-02-02-12.wav  \n",
            "  inflating: audio_speech_actors_01-24/Actor_12/03-01-06-02-01-01-12.wav  \n",
            "  inflating: audio_speech_actors_01-24/Actor_12/03-01-06-02-01-02-12.wav  \n",
            "  inflating: audio_speech_actors_01-24/Actor_12/03-01-06-02-02-01-12.wav  \n",
            "  inflating: audio_speech_actors_01-24/Actor_12/03-01-06-02-02-02-12.wav  \n",
            "  inflating: audio_speech_actors_01-24/Actor_12/03-01-07-01-01-01-12.wav  \n",
            "  inflating: audio_speech_actors_01-24/Actor_12/03-01-07-01-01-02-12.wav  \n",
            "  inflating: audio_speech_actors_01-24/Actor_12/03-01-07-01-02-01-12.wav  \n",
            "  inflating: audio_speech_actors_01-24/Actor_12/03-01-07-01-02-02-12.wav  \n",
            "  inflating: audio_speech_actors_01-24/Actor_12/03-01-07-02-01-01-12.wav  \n",
            "  inflating: audio_speech_actors_01-24/Actor_12/03-01-07-02-01-02-12.wav  \n",
            "  inflating: audio_speech_actors_01-24/Actor_12/03-01-07-02-02-01-12.wav  \n",
            "  inflating: audio_speech_actors_01-24/Actor_12/03-01-07-02-02-02-12.wav  \n",
            "  inflating: audio_speech_actors_01-24/Actor_12/03-01-08-01-01-01-12.wav  \n",
            "  inflating: audio_speech_actors_01-24/Actor_12/03-01-08-01-01-02-12.wav  \n",
            "  inflating: audio_speech_actors_01-24/Actor_12/03-01-08-01-02-01-12.wav  \n",
            "  inflating: audio_speech_actors_01-24/Actor_12/03-01-08-01-02-02-12.wav  \n",
            "  inflating: audio_speech_actors_01-24/Actor_12/03-01-08-02-01-01-12.wav  \n",
            "  inflating: audio_speech_actors_01-24/Actor_12/03-01-08-02-01-02-12.wav  \n",
            "  inflating: audio_speech_actors_01-24/Actor_12/03-01-08-02-02-01-12.wav  \n",
            "  inflating: audio_speech_actors_01-24/Actor_12/03-01-08-02-02-02-12.wav  \n",
            "  inflating: audio_speech_actors_01-24/Actor_13/03-01-01-01-01-01-13.wav  \n",
            "  inflating: audio_speech_actors_01-24/Actor_13/03-01-01-01-01-02-13.wav  \n",
            "  inflating: audio_speech_actors_01-24/Actor_13/03-01-01-01-02-01-13.wav  \n",
            "  inflating: audio_speech_actors_01-24/Actor_13/03-01-01-01-02-02-13.wav  \n",
            "  inflating: audio_speech_actors_01-24/Actor_13/03-01-02-01-01-01-13.wav  \n",
            "  inflating: audio_speech_actors_01-24/Actor_13/03-01-02-01-01-02-13.wav  \n",
            "  inflating: audio_speech_actors_01-24/Actor_13/03-01-02-01-02-01-13.wav  \n",
            "  inflating: audio_speech_actors_01-24/Actor_13/03-01-02-01-02-02-13.wav  \n",
            "  inflating: audio_speech_actors_01-24/Actor_13/03-01-02-02-01-01-13.wav  \n",
            "  inflating: audio_speech_actors_01-24/Actor_13/03-01-02-02-01-02-13.wav  \n",
            "  inflating: audio_speech_actors_01-24/Actor_13/03-01-02-02-02-01-13.wav  \n",
            "  inflating: audio_speech_actors_01-24/Actor_13/03-01-02-02-02-02-13.wav  \n",
            "  inflating: audio_speech_actors_01-24/Actor_13/03-01-03-01-01-01-13.wav  \n",
            "  inflating: audio_speech_actors_01-24/Actor_13/03-01-03-01-01-02-13.wav  \n",
            "  inflating: audio_speech_actors_01-24/Actor_13/03-01-03-01-02-01-13.wav  \n",
            "  inflating: audio_speech_actors_01-24/Actor_13/03-01-03-01-02-02-13.wav  \n",
            "  inflating: audio_speech_actors_01-24/Actor_13/03-01-03-02-01-01-13.wav  \n",
            "  inflating: audio_speech_actors_01-24/Actor_13/03-01-03-02-01-02-13.wav  \n",
            "  inflating: audio_speech_actors_01-24/Actor_13/03-01-03-02-02-01-13.wav  \n",
            "  inflating: audio_speech_actors_01-24/Actor_13/03-01-03-02-02-02-13.wav  \n",
            "  inflating: audio_speech_actors_01-24/Actor_13/03-01-04-01-01-01-13.wav  \n",
            "  inflating: audio_speech_actors_01-24/Actor_13/03-01-04-01-01-02-13.wav  \n",
            "  inflating: audio_speech_actors_01-24/Actor_13/03-01-04-01-02-01-13.wav  \n",
            "  inflating: audio_speech_actors_01-24/Actor_13/03-01-04-01-02-02-13.wav  \n",
            "  inflating: audio_speech_actors_01-24/Actor_13/03-01-04-02-01-01-13.wav  \n",
            "  inflating: audio_speech_actors_01-24/Actor_13/03-01-04-02-01-02-13.wav  \n",
            "  inflating: audio_speech_actors_01-24/Actor_13/03-01-04-02-02-01-13.wav  \n",
            "  inflating: audio_speech_actors_01-24/Actor_13/03-01-04-02-02-02-13.wav  \n",
            "  inflating: audio_speech_actors_01-24/Actor_13/03-01-05-01-01-01-13.wav  \n",
            "  inflating: audio_speech_actors_01-24/Actor_13/03-01-05-01-01-02-13.wav  \n",
            "  inflating: audio_speech_actors_01-24/Actor_13/03-01-05-01-02-01-13.wav  \n",
            "  inflating: audio_speech_actors_01-24/Actor_13/03-01-05-01-02-02-13.wav  \n",
            "  inflating: audio_speech_actors_01-24/Actor_13/03-01-05-02-01-01-13.wav  \n",
            "  inflating: audio_speech_actors_01-24/Actor_13/03-01-05-02-01-02-13.wav  \n",
            "  inflating: audio_speech_actors_01-24/Actor_13/03-01-05-02-02-01-13.wav  \n",
            "  inflating: audio_speech_actors_01-24/Actor_13/03-01-05-02-02-02-13.wav  \n",
            "  inflating: audio_speech_actors_01-24/Actor_13/03-01-06-01-01-01-13.wav  \n",
            "  inflating: audio_speech_actors_01-24/Actor_13/03-01-06-01-01-02-13.wav  \n",
            "  inflating: audio_speech_actors_01-24/Actor_13/03-01-06-01-02-01-13.wav  \n",
            "  inflating: audio_speech_actors_01-24/Actor_13/03-01-06-01-02-02-13.wav  \n",
            "  inflating: audio_speech_actors_01-24/Actor_13/03-01-06-02-01-01-13.wav  \n",
            "  inflating: audio_speech_actors_01-24/Actor_13/03-01-06-02-01-02-13.wav  \n",
            "  inflating: audio_speech_actors_01-24/Actor_13/03-01-06-02-02-01-13.wav  \n",
            "  inflating: audio_speech_actors_01-24/Actor_13/03-01-06-02-02-02-13.wav  \n",
            "  inflating: audio_speech_actors_01-24/Actor_13/03-01-07-01-01-01-13.wav  \n",
            "  inflating: audio_speech_actors_01-24/Actor_13/03-01-07-01-01-02-13.wav  \n",
            "  inflating: audio_speech_actors_01-24/Actor_13/03-01-07-01-02-01-13.wav  \n",
            "  inflating: audio_speech_actors_01-24/Actor_13/03-01-07-01-02-02-13.wav  \n",
            "  inflating: audio_speech_actors_01-24/Actor_13/03-01-07-02-01-01-13.wav  \n",
            "  inflating: audio_speech_actors_01-24/Actor_13/03-01-07-02-01-02-13.wav  \n",
            "  inflating: audio_speech_actors_01-24/Actor_13/03-01-07-02-02-01-13.wav  \n",
            "  inflating: audio_speech_actors_01-24/Actor_13/03-01-07-02-02-02-13.wav  \n",
            "  inflating: audio_speech_actors_01-24/Actor_13/03-01-08-01-01-01-13.wav  \n",
            "  inflating: audio_speech_actors_01-24/Actor_13/03-01-08-01-01-02-13.wav  \n",
            "  inflating: audio_speech_actors_01-24/Actor_13/03-01-08-01-02-01-13.wav  \n",
            "  inflating: audio_speech_actors_01-24/Actor_13/03-01-08-01-02-02-13.wav  \n",
            "  inflating: audio_speech_actors_01-24/Actor_13/03-01-08-02-01-01-13.wav  \n",
            "  inflating: audio_speech_actors_01-24/Actor_13/03-01-08-02-01-02-13.wav  \n",
            "  inflating: audio_speech_actors_01-24/Actor_13/03-01-08-02-02-01-13.wav  \n",
            "  inflating: audio_speech_actors_01-24/Actor_13/03-01-08-02-02-02-13.wav  \n",
            "  inflating: audio_speech_actors_01-24/Actor_14/03-01-01-01-01-01-14.wav  \n",
            "  inflating: audio_speech_actors_01-24/Actor_14/03-01-01-01-01-02-14.wav  \n",
            "  inflating: audio_speech_actors_01-24/Actor_14/03-01-01-01-02-01-14.wav  \n",
            "  inflating: audio_speech_actors_01-24/Actor_14/03-01-01-01-02-02-14.wav  \n",
            "  inflating: audio_speech_actors_01-24/Actor_14/03-01-02-01-01-01-14.wav  \n",
            "  inflating: audio_speech_actors_01-24/Actor_14/03-01-02-01-01-02-14.wav  \n",
            "  inflating: audio_speech_actors_01-24/Actor_14/03-01-02-01-02-01-14.wav  \n",
            "  inflating: audio_speech_actors_01-24/Actor_14/03-01-02-01-02-02-14.wav  \n",
            "  inflating: audio_speech_actors_01-24/Actor_14/03-01-02-02-01-01-14.wav  \n",
            "  inflating: audio_speech_actors_01-24/Actor_14/03-01-02-02-01-02-14.wav  \n",
            "  inflating: audio_speech_actors_01-24/Actor_14/03-01-02-02-02-01-14.wav  \n",
            "  inflating: audio_speech_actors_01-24/Actor_14/03-01-02-02-02-02-14.wav  \n",
            "  inflating: audio_speech_actors_01-24/Actor_14/03-01-03-01-01-01-14.wav  \n",
            "  inflating: audio_speech_actors_01-24/Actor_14/03-01-03-01-01-02-14.wav  \n",
            "  inflating: audio_speech_actors_01-24/Actor_14/03-01-03-01-02-01-14.wav  \n",
            "  inflating: audio_speech_actors_01-24/Actor_14/03-01-03-01-02-02-14.wav  \n",
            "  inflating: audio_speech_actors_01-24/Actor_14/03-01-03-02-01-01-14.wav  \n",
            "  inflating: audio_speech_actors_01-24/Actor_14/03-01-03-02-01-02-14.wav  \n",
            "  inflating: audio_speech_actors_01-24/Actor_14/03-01-03-02-02-01-14.wav  \n",
            "  inflating: audio_speech_actors_01-24/Actor_14/03-01-03-02-02-02-14.wav  \n",
            "  inflating: audio_speech_actors_01-24/Actor_14/03-01-04-01-01-01-14.wav  \n",
            "  inflating: audio_speech_actors_01-24/Actor_14/03-01-04-01-01-02-14.wav  \n",
            "  inflating: audio_speech_actors_01-24/Actor_14/03-01-04-01-02-01-14.wav  \n",
            "  inflating: audio_speech_actors_01-24/Actor_14/03-01-04-01-02-02-14.wav  \n",
            "  inflating: audio_speech_actors_01-24/Actor_14/03-01-04-02-01-01-14.wav  \n",
            "  inflating: audio_speech_actors_01-24/Actor_14/03-01-04-02-01-02-14.wav  \n",
            "  inflating: audio_speech_actors_01-24/Actor_14/03-01-04-02-02-01-14.wav  \n",
            "  inflating: audio_speech_actors_01-24/Actor_14/03-01-04-02-02-02-14.wav  \n",
            "  inflating: audio_speech_actors_01-24/Actor_14/03-01-05-01-01-01-14.wav  \n",
            "  inflating: audio_speech_actors_01-24/Actor_14/03-01-05-01-01-02-14.wav  \n",
            "  inflating: audio_speech_actors_01-24/Actor_14/03-01-05-01-02-01-14.wav  \n",
            "  inflating: audio_speech_actors_01-24/Actor_14/03-01-05-01-02-02-14.wav  \n",
            "  inflating: audio_speech_actors_01-24/Actor_14/03-01-05-02-01-01-14.wav  \n",
            "  inflating: audio_speech_actors_01-24/Actor_14/03-01-05-02-01-02-14.wav  \n",
            "  inflating: audio_speech_actors_01-24/Actor_14/03-01-05-02-02-01-14.wav  \n",
            "  inflating: audio_speech_actors_01-24/Actor_14/03-01-05-02-02-02-14.wav  \n",
            "  inflating: audio_speech_actors_01-24/Actor_14/03-01-06-01-01-01-14.wav  \n",
            "  inflating: audio_speech_actors_01-24/Actor_14/03-01-06-01-01-02-14.wav  \n",
            "  inflating: audio_speech_actors_01-24/Actor_14/03-01-06-01-02-01-14.wav  \n",
            "  inflating: audio_speech_actors_01-24/Actor_14/03-01-06-01-02-02-14.wav  \n",
            "  inflating: audio_speech_actors_01-24/Actor_14/03-01-06-02-01-01-14.wav  \n",
            "  inflating: audio_speech_actors_01-24/Actor_14/03-01-06-02-01-02-14.wav  \n",
            "  inflating: audio_speech_actors_01-24/Actor_14/03-01-06-02-02-01-14.wav  \n",
            "  inflating: audio_speech_actors_01-24/Actor_14/03-01-06-02-02-02-14.wav  \n",
            "  inflating: audio_speech_actors_01-24/Actor_14/03-01-07-01-01-01-14.wav  \n",
            "  inflating: audio_speech_actors_01-24/Actor_14/03-01-07-01-01-02-14.wav  \n",
            "  inflating: audio_speech_actors_01-24/Actor_14/03-01-07-01-02-01-14.wav  \n",
            "  inflating: audio_speech_actors_01-24/Actor_14/03-01-07-01-02-02-14.wav  \n",
            "  inflating: audio_speech_actors_01-24/Actor_14/03-01-07-02-01-01-14.wav  \n",
            "  inflating: audio_speech_actors_01-24/Actor_14/03-01-07-02-01-02-14.wav  \n",
            "  inflating: audio_speech_actors_01-24/Actor_14/03-01-07-02-02-01-14.wav  \n",
            "  inflating: audio_speech_actors_01-24/Actor_14/03-01-07-02-02-02-14.wav  \n",
            "  inflating: audio_speech_actors_01-24/Actor_14/03-01-08-01-01-01-14.wav  \n",
            "  inflating: audio_speech_actors_01-24/Actor_14/03-01-08-01-01-02-14.wav  \n",
            "  inflating: audio_speech_actors_01-24/Actor_14/03-01-08-01-02-01-14.wav  \n",
            "  inflating: audio_speech_actors_01-24/Actor_14/03-01-08-01-02-02-14.wav  \n",
            "  inflating: audio_speech_actors_01-24/Actor_14/03-01-08-02-01-01-14.wav  \n",
            "  inflating: audio_speech_actors_01-24/Actor_14/03-01-08-02-01-02-14.wav  \n",
            "  inflating: audio_speech_actors_01-24/Actor_14/03-01-08-02-02-01-14.wav  \n",
            "  inflating: audio_speech_actors_01-24/Actor_14/03-01-08-02-02-02-14.wav  \n",
            "  inflating: audio_speech_actors_01-24/Actor_15/03-01-01-01-01-01-15.wav  \n",
            "  inflating: audio_speech_actors_01-24/Actor_15/03-01-01-01-01-02-15.wav  \n",
            "  inflating: audio_speech_actors_01-24/Actor_15/03-01-01-01-02-01-15.wav  \n",
            "  inflating: audio_speech_actors_01-24/Actor_15/03-01-01-01-02-02-15.wav  \n",
            "  inflating: audio_speech_actors_01-24/Actor_15/03-01-02-01-01-01-15.wav  \n",
            "  inflating: audio_speech_actors_01-24/Actor_15/03-01-02-01-01-02-15.wav  \n",
            "  inflating: audio_speech_actors_01-24/Actor_15/03-01-02-01-02-01-15.wav  \n",
            "  inflating: audio_speech_actors_01-24/Actor_15/03-01-02-01-02-02-15.wav  \n",
            "  inflating: audio_speech_actors_01-24/Actor_15/03-01-02-02-01-01-15.wav  \n",
            "  inflating: audio_speech_actors_01-24/Actor_15/03-01-02-02-01-02-15.wav  \n",
            "  inflating: audio_speech_actors_01-24/Actor_15/03-01-02-02-02-01-15.wav  \n",
            "  inflating: audio_speech_actors_01-24/Actor_15/03-01-02-02-02-02-15.wav  \n",
            "  inflating: audio_speech_actors_01-24/Actor_15/03-01-03-01-01-01-15.wav  \n",
            "  inflating: audio_speech_actors_01-24/Actor_15/03-01-03-01-01-02-15.wav  \n",
            "  inflating: audio_speech_actors_01-24/Actor_15/03-01-03-01-02-01-15.wav  \n",
            "  inflating: audio_speech_actors_01-24/Actor_15/03-01-03-01-02-02-15.wav  \n",
            "  inflating: audio_speech_actors_01-24/Actor_15/03-01-03-02-01-01-15.wav  \n",
            "  inflating: audio_speech_actors_01-24/Actor_15/03-01-03-02-01-02-15.wav  \n",
            "  inflating: audio_speech_actors_01-24/Actor_15/03-01-03-02-02-01-15.wav  \n",
            "  inflating: audio_speech_actors_01-24/Actor_15/03-01-03-02-02-02-15.wav  \n",
            "  inflating: audio_speech_actors_01-24/Actor_15/03-01-04-01-01-01-15.wav  \n",
            "  inflating: audio_speech_actors_01-24/Actor_15/03-01-04-01-01-02-15.wav  \n",
            "  inflating: audio_speech_actors_01-24/Actor_15/03-01-04-01-02-01-15.wav  \n",
            "  inflating: audio_speech_actors_01-24/Actor_15/03-01-04-01-02-02-15.wav  \n",
            "  inflating: audio_speech_actors_01-24/Actor_15/03-01-04-02-01-01-15.wav  \n",
            "  inflating: audio_speech_actors_01-24/Actor_15/03-01-04-02-01-02-15.wav  \n",
            "  inflating: audio_speech_actors_01-24/Actor_15/03-01-04-02-02-01-15.wav  \n",
            "  inflating: audio_speech_actors_01-24/Actor_15/03-01-04-02-02-02-15.wav  \n",
            "  inflating: audio_speech_actors_01-24/Actor_15/03-01-05-01-01-01-15.wav  \n",
            "  inflating: audio_speech_actors_01-24/Actor_15/03-01-05-01-01-02-15.wav  \n",
            "  inflating: audio_speech_actors_01-24/Actor_15/03-01-05-01-02-01-15.wav  \n",
            "  inflating: audio_speech_actors_01-24/Actor_15/03-01-05-01-02-02-15.wav  \n",
            "  inflating: audio_speech_actors_01-24/Actor_15/03-01-05-02-01-01-15.wav  \n",
            "  inflating: audio_speech_actors_01-24/Actor_15/03-01-05-02-01-02-15.wav  \n",
            "  inflating: audio_speech_actors_01-24/Actor_15/03-01-05-02-02-01-15.wav  \n",
            "  inflating: audio_speech_actors_01-24/Actor_15/03-01-05-02-02-02-15.wav  \n",
            "  inflating: audio_speech_actors_01-24/Actor_15/03-01-06-01-01-01-15.wav  \n",
            "  inflating: audio_speech_actors_01-24/Actor_15/03-01-06-01-01-02-15.wav  \n",
            "  inflating: audio_speech_actors_01-24/Actor_15/03-01-06-01-02-01-15.wav  \n",
            "  inflating: audio_speech_actors_01-24/Actor_15/03-01-06-01-02-02-15.wav  \n",
            "  inflating: audio_speech_actors_01-24/Actor_15/03-01-06-02-01-01-15.wav  \n",
            "  inflating: audio_speech_actors_01-24/Actor_15/03-01-06-02-01-02-15.wav  \n",
            "  inflating: audio_speech_actors_01-24/Actor_15/03-01-06-02-02-01-15.wav  \n",
            "  inflating: audio_speech_actors_01-24/Actor_15/03-01-06-02-02-02-15.wav  \n",
            "  inflating: audio_speech_actors_01-24/Actor_15/03-01-07-01-01-01-15.wav  \n",
            "  inflating: audio_speech_actors_01-24/Actor_15/03-01-07-01-01-02-15.wav  \n",
            "  inflating: audio_speech_actors_01-24/Actor_15/03-01-07-01-02-01-15.wav  \n",
            "  inflating: audio_speech_actors_01-24/Actor_15/03-01-07-01-02-02-15.wav  \n",
            "  inflating: audio_speech_actors_01-24/Actor_15/03-01-07-02-01-01-15.wav  \n",
            "  inflating: audio_speech_actors_01-24/Actor_15/03-01-07-02-01-02-15.wav  \n",
            "  inflating: audio_speech_actors_01-24/Actor_15/03-01-07-02-02-01-15.wav  \n",
            "  inflating: audio_speech_actors_01-24/Actor_15/03-01-07-02-02-02-15.wav  \n",
            "  inflating: audio_speech_actors_01-24/Actor_15/03-01-08-01-01-01-15.wav  \n",
            "  inflating: audio_speech_actors_01-24/Actor_15/03-01-08-01-01-02-15.wav  \n",
            "  inflating: audio_speech_actors_01-24/Actor_15/03-01-08-01-02-01-15.wav  \n",
            "  inflating: audio_speech_actors_01-24/Actor_15/03-01-08-01-02-02-15.wav  \n",
            "  inflating: audio_speech_actors_01-24/Actor_15/03-01-08-02-01-01-15.wav  \n",
            "  inflating: audio_speech_actors_01-24/Actor_15/03-01-08-02-01-02-15.wav  \n",
            "  inflating: audio_speech_actors_01-24/Actor_15/03-01-08-02-02-01-15.wav  \n",
            "  inflating: audio_speech_actors_01-24/Actor_15/03-01-08-02-02-02-15.wav  \n",
            "  inflating: audio_speech_actors_01-24/Actor_16/03-01-01-01-01-01-16.wav  \n",
            "  inflating: audio_speech_actors_01-24/Actor_16/03-01-01-01-01-02-16.wav  \n",
            "  inflating: audio_speech_actors_01-24/Actor_16/03-01-01-01-02-01-16.wav  \n",
            "  inflating: audio_speech_actors_01-24/Actor_16/03-01-01-01-02-02-16.wav  \n",
            "  inflating: audio_speech_actors_01-24/Actor_16/03-01-02-01-01-01-16.wav  \n",
            "  inflating: audio_speech_actors_01-24/Actor_16/03-01-02-01-01-02-16.wav  \n",
            "  inflating: audio_speech_actors_01-24/Actor_16/03-01-02-01-02-01-16.wav  \n",
            "  inflating: audio_speech_actors_01-24/Actor_16/03-01-02-01-02-02-16.wav  \n",
            "  inflating: audio_speech_actors_01-24/Actor_16/03-01-02-02-01-01-16.wav  \n",
            "  inflating: audio_speech_actors_01-24/Actor_16/03-01-02-02-01-02-16.wav  \n",
            "  inflating: audio_speech_actors_01-24/Actor_16/03-01-02-02-02-01-16.wav  \n",
            "  inflating: audio_speech_actors_01-24/Actor_16/03-01-02-02-02-02-16.wav  \n",
            "  inflating: audio_speech_actors_01-24/Actor_16/03-01-03-01-01-01-16.wav  \n",
            "  inflating: audio_speech_actors_01-24/Actor_16/03-01-03-01-01-02-16.wav  \n",
            "  inflating: audio_speech_actors_01-24/Actor_16/03-01-03-01-02-01-16.wav  \n",
            "  inflating: audio_speech_actors_01-24/Actor_16/03-01-03-01-02-02-16.wav  \n",
            "  inflating: audio_speech_actors_01-24/Actor_16/03-01-03-02-01-01-16.wav  \n",
            "  inflating: audio_speech_actors_01-24/Actor_16/03-01-03-02-01-02-16.wav  \n",
            "  inflating: audio_speech_actors_01-24/Actor_16/03-01-03-02-02-01-16.wav  \n",
            "  inflating: audio_speech_actors_01-24/Actor_16/03-01-03-02-02-02-16.wav  \n",
            "  inflating: audio_speech_actors_01-24/Actor_16/03-01-04-01-01-01-16.wav  \n",
            "  inflating: audio_speech_actors_01-24/Actor_16/03-01-04-01-01-02-16.wav  \n",
            "  inflating: audio_speech_actors_01-24/Actor_16/03-01-04-01-02-01-16.wav  \n",
            "  inflating: audio_speech_actors_01-24/Actor_16/03-01-04-01-02-02-16.wav  \n",
            "  inflating: audio_speech_actors_01-24/Actor_16/03-01-04-02-01-01-16.wav  \n",
            "  inflating: audio_speech_actors_01-24/Actor_16/03-01-04-02-01-02-16.wav  \n",
            "  inflating: audio_speech_actors_01-24/Actor_16/03-01-04-02-02-01-16.wav  \n",
            "  inflating: audio_speech_actors_01-24/Actor_16/03-01-04-02-02-02-16.wav  \n",
            "  inflating: audio_speech_actors_01-24/Actor_16/03-01-05-01-01-01-16.wav  \n",
            "  inflating: audio_speech_actors_01-24/Actor_16/03-01-05-01-01-02-16.wav  \n",
            "  inflating: audio_speech_actors_01-24/Actor_16/03-01-05-01-02-01-16.wav  \n",
            "  inflating: audio_speech_actors_01-24/Actor_16/03-01-05-01-02-02-16.wav  \n",
            "  inflating: audio_speech_actors_01-24/Actor_16/03-01-05-02-01-01-16.wav  \n",
            "  inflating: audio_speech_actors_01-24/Actor_16/03-01-05-02-01-02-16.wav  \n",
            "  inflating: audio_speech_actors_01-24/Actor_16/03-01-05-02-02-01-16.wav  \n",
            "  inflating: audio_speech_actors_01-24/Actor_16/03-01-05-02-02-02-16.wav  \n",
            "  inflating: audio_speech_actors_01-24/Actor_16/03-01-06-01-01-01-16.wav  \n",
            "  inflating: audio_speech_actors_01-24/Actor_16/03-01-06-01-01-02-16.wav  \n",
            "  inflating: audio_speech_actors_01-24/Actor_16/03-01-06-01-02-01-16.wav  \n",
            "  inflating: audio_speech_actors_01-24/Actor_16/03-01-06-01-02-02-16.wav  \n",
            "  inflating: audio_speech_actors_01-24/Actor_16/03-01-06-02-01-01-16.wav  \n",
            "  inflating: audio_speech_actors_01-24/Actor_16/03-01-06-02-01-02-16.wav  \n",
            "  inflating: audio_speech_actors_01-24/Actor_16/03-01-06-02-02-01-16.wav  \n",
            "  inflating: audio_speech_actors_01-24/Actor_16/03-01-06-02-02-02-16.wav  \n",
            "  inflating: audio_speech_actors_01-24/Actor_16/03-01-07-01-01-01-16.wav  \n",
            "  inflating: audio_speech_actors_01-24/Actor_16/03-01-07-01-01-02-16.wav  \n",
            "  inflating: audio_speech_actors_01-24/Actor_16/03-01-07-01-02-01-16.wav  \n",
            "  inflating: audio_speech_actors_01-24/Actor_16/03-01-07-01-02-02-16.wav  \n",
            "  inflating: audio_speech_actors_01-24/Actor_16/03-01-07-02-01-01-16.wav  \n",
            "  inflating: audio_speech_actors_01-24/Actor_16/03-01-07-02-01-02-16.wav  \n",
            "  inflating: audio_speech_actors_01-24/Actor_16/03-01-07-02-02-01-16.wav  \n",
            "  inflating: audio_speech_actors_01-24/Actor_16/03-01-07-02-02-02-16.wav  \n",
            "  inflating: audio_speech_actors_01-24/Actor_16/03-01-08-01-01-01-16.wav  \n",
            "  inflating: audio_speech_actors_01-24/Actor_16/03-01-08-01-01-02-16.wav  \n",
            "  inflating: audio_speech_actors_01-24/Actor_16/03-01-08-01-02-01-16.wav  \n",
            "  inflating: audio_speech_actors_01-24/Actor_16/03-01-08-01-02-02-16.wav  \n",
            "  inflating: audio_speech_actors_01-24/Actor_16/03-01-08-02-01-01-16.wav  \n",
            "  inflating: audio_speech_actors_01-24/Actor_16/03-01-08-02-01-02-16.wav  \n",
            "  inflating: audio_speech_actors_01-24/Actor_16/03-01-08-02-02-01-16.wav  \n",
            "  inflating: audio_speech_actors_01-24/Actor_16/03-01-08-02-02-02-16.wav  \n",
            "  inflating: audio_speech_actors_01-24/Actor_17/03-01-01-01-01-01-17.wav  \n",
            "  inflating: audio_speech_actors_01-24/Actor_17/03-01-01-01-01-02-17.wav  \n",
            "  inflating: audio_speech_actors_01-24/Actor_17/03-01-01-01-02-01-17.wav  \n",
            "  inflating: audio_speech_actors_01-24/Actor_17/03-01-01-01-02-02-17.wav  \n",
            "  inflating: audio_speech_actors_01-24/Actor_17/03-01-02-01-01-01-17.wav  \n",
            "  inflating: audio_speech_actors_01-24/Actor_17/03-01-02-01-01-02-17.wav  \n",
            "  inflating: audio_speech_actors_01-24/Actor_17/03-01-02-01-02-01-17.wav  \n",
            "  inflating: audio_speech_actors_01-24/Actor_17/03-01-02-01-02-02-17.wav  \n",
            "  inflating: audio_speech_actors_01-24/Actor_17/03-01-02-02-01-01-17.wav  \n",
            "  inflating: audio_speech_actors_01-24/Actor_17/03-01-02-02-01-02-17.wav  \n",
            "  inflating: audio_speech_actors_01-24/Actor_17/03-01-02-02-02-01-17.wav  \n",
            "  inflating: audio_speech_actors_01-24/Actor_17/03-01-02-02-02-02-17.wav  \n",
            "  inflating: audio_speech_actors_01-24/Actor_17/03-01-03-01-01-01-17.wav  \n",
            "  inflating: audio_speech_actors_01-24/Actor_17/03-01-03-01-01-02-17.wav  \n",
            "  inflating: audio_speech_actors_01-24/Actor_17/03-01-03-01-02-01-17.wav  \n",
            "  inflating: audio_speech_actors_01-24/Actor_17/03-01-03-01-02-02-17.wav  \n",
            "  inflating: audio_speech_actors_01-24/Actor_17/03-01-03-02-01-01-17.wav  \n",
            "  inflating: audio_speech_actors_01-24/Actor_17/03-01-03-02-01-02-17.wav  \n",
            "  inflating: audio_speech_actors_01-24/Actor_17/03-01-03-02-02-01-17.wav  \n",
            "  inflating: audio_speech_actors_01-24/Actor_17/03-01-03-02-02-02-17.wav  \n",
            "  inflating: audio_speech_actors_01-24/Actor_17/03-01-04-01-01-01-17.wav  \n",
            "  inflating: audio_speech_actors_01-24/Actor_17/03-01-04-01-01-02-17.wav  \n",
            "  inflating: audio_speech_actors_01-24/Actor_17/03-01-04-01-02-01-17.wav  \n",
            "  inflating: audio_speech_actors_01-24/Actor_17/03-01-04-01-02-02-17.wav  \n",
            "  inflating: audio_speech_actors_01-24/Actor_17/03-01-04-02-01-01-17.wav  \n",
            "  inflating: audio_speech_actors_01-24/Actor_17/03-01-04-02-01-02-17.wav  \n",
            "  inflating: audio_speech_actors_01-24/Actor_17/03-01-04-02-02-01-17.wav  \n",
            "  inflating: audio_speech_actors_01-24/Actor_17/03-01-04-02-02-02-17.wav  \n",
            "  inflating: audio_speech_actors_01-24/Actor_17/03-01-05-01-01-01-17.wav  \n",
            "  inflating: audio_speech_actors_01-24/Actor_17/03-01-05-01-01-02-17.wav  \n",
            "  inflating: audio_speech_actors_01-24/Actor_17/03-01-05-01-02-01-17.wav  \n",
            "  inflating: audio_speech_actors_01-24/Actor_17/03-01-05-01-02-02-17.wav  \n",
            "  inflating: audio_speech_actors_01-24/Actor_17/03-01-05-02-01-01-17.wav  \n",
            "  inflating: audio_speech_actors_01-24/Actor_17/03-01-05-02-01-02-17.wav  \n",
            "  inflating: audio_speech_actors_01-24/Actor_17/03-01-05-02-02-01-17.wav  \n",
            "  inflating: audio_speech_actors_01-24/Actor_17/03-01-05-02-02-02-17.wav  \n",
            "  inflating: audio_speech_actors_01-24/Actor_17/03-01-06-01-01-01-17.wav  \n",
            "  inflating: audio_speech_actors_01-24/Actor_17/03-01-06-01-01-02-17.wav  \n",
            "  inflating: audio_speech_actors_01-24/Actor_17/03-01-06-01-02-01-17.wav  \n",
            "  inflating: audio_speech_actors_01-24/Actor_17/03-01-06-01-02-02-17.wav  \n",
            "  inflating: audio_speech_actors_01-24/Actor_17/03-01-06-02-01-01-17.wav  \n",
            "  inflating: audio_speech_actors_01-24/Actor_17/03-01-06-02-01-02-17.wav  \n",
            "  inflating: audio_speech_actors_01-24/Actor_17/03-01-06-02-02-01-17.wav  \n",
            "  inflating: audio_speech_actors_01-24/Actor_17/03-01-06-02-02-02-17.wav  \n",
            "  inflating: audio_speech_actors_01-24/Actor_17/03-01-07-01-01-01-17.wav  \n",
            "  inflating: audio_speech_actors_01-24/Actor_17/03-01-07-01-01-02-17.wav  \n",
            "  inflating: audio_speech_actors_01-24/Actor_17/03-01-07-01-02-01-17.wav  \n",
            "  inflating: audio_speech_actors_01-24/Actor_17/03-01-07-01-02-02-17.wav  \n",
            "  inflating: audio_speech_actors_01-24/Actor_17/03-01-07-02-01-01-17.wav  \n",
            "  inflating: audio_speech_actors_01-24/Actor_17/03-01-07-02-01-02-17.wav  \n",
            "  inflating: audio_speech_actors_01-24/Actor_17/03-01-07-02-02-01-17.wav  \n",
            "  inflating: audio_speech_actors_01-24/Actor_17/03-01-07-02-02-02-17.wav  \n",
            "  inflating: audio_speech_actors_01-24/Actor_17/03-01-08-01-01-01-17.wav  \n",
            "  inflating: audio_speech_actors_01-24/Actor_17/03-01-08-01-01-02-17.wav  \n",
            "  inflating: audio_speech_actors_01-24/Actor_17/03-01-08-01-02-01-17.wav  \n",
            "  inflating: audio_speech_actors_01-24/Actor_17/03-01-08-01-02-02-17.wav  \n",
            "  inflating: audio_speech_actors_01-24/Actor_17/03-01-08-02-01-01-17.wav  \n",
            "  inflating: audio_speech_actors_01-24/Actor_17/03-01-08-02-01-02-17.wav  \n",
            "  inflating: audio_speech_actors_01-24/Actor_17/03-01-08-02-02-01-17.wav  \n",
            "  inflating: audio_speech_actors_01-24/Actor_17/03-01-08-02-02-02-17.wav  \n",
            "  inflating: audio_speech_actors_01-24/Actor_18/03-01-01-01-01-01-18.wav  \n",
            "  inflating: audio_speech_actors_01-24/Actor_18/03-01-01-01-01-02-18.wav  \n",
            "  inflating: audio_speech_actors_01-24/Actor_18/03-01-01-01-02-01-18.wav  \n",
            "  inflating: audio_speech_actors_01-24/Actor_18/03-01-01-01-02-02-18.wav  \n",
            "  inflating: audio_speech_actors_01-24/Actor_18/03-01-02-01-01-01-18.wav  \n",
            "  inflating: audio_speech_actors_01-24/Actor_18/03-01-02-01-01-02-18.wav  \n",
            "  inflating: audio_speech_actors_01-24/Actor_18/03-01-02-01-02-01-18.wav  \n",
            "  inflating: audio_speech_actors_01-24/Actor_18/03-01-02-01-02-02-18.wav  \n",
            "  inflating: audio_speech_actors_01-24/Actor_18/03-01-02-02-01-01-18.wav  \n",
            "  inflating: audio_speech_actors_01-24/Actor_18/03-01-02-02-01-02-18.wav  \n",
            "  inflating: audio_speech_actors_01-24/Actor_18/03-01-02-02-02-01-18.wav  \n",
            "  inflating: audio_speech_actors_01-24/Actor_18/03-01-02-02-02-02-18.wav  \n",
            "  inflating: audio_speech_actors_01-24/Actor_18/03-01-03-01-01-01-18.wav  \n",
            "  inflating: audio_speech_actors_01-24/Actor_18/03-01-03-01-01-02-18.wav  \n",
            "  inflating: audio_speech_actors_01-24/Actor_18/03-01-03-01-02-01-18.wav  \n",
            "  inflating: audio_speech_actors_01-24/Actor_18/03-01-03-01-02-02-18.wav  \n",
            "  inflating: audio_speech_actors_01-24/Actor_18/03-01-03-02-01-01-18.wav  \n",
            "  inflating: audio_speech_actors_01-24/Actor_18/03-01-03-02-01-02-18.wav  \n",
            "  inflating: audio_speech_actors_01-24/Actor_18/03-01-03-02-02-01-18.wav  \n",
            "  inflating: audio_speech_actors_01-24/Actor_18/03-01-03-02-02-02-18.wav  \n",
            "  inflating: audio_speech_actors_01-24/Actor_18/03-01-04-01-01-01-18.wav  \n",
            "  inflating: audio_speech_actors_01-24/Actor_18/03-01-04-01-01-02-18.wav  \n",
            "  inflating: audio_speech_actors_01-24/Actor_18/03-01-04-01-02-01-18.wav  \n",
            "  inflating: audio_speech_actors_01-24/Actor_18/03-01-04-01-02-02-18.wav  \n",
            "  inflating: audio_speech_actors_01-24/Actor_18/03-01-04-02-01-01-18.wav  \n",
            "  inflating: audio_speech_actors_01-24/Actor_18/03-01-04-02-01-02-18.wav  \n",
            "  inflating: audio_speech_actors_01-24/Actor_18/03-01-04-02-02-01-18.wav  \n",
            "  inflating: audio_speech_actors_01-24/Actor_18/03-01-04-02-02-02-18.wav  \n",
            "  inflating: audio_speech_actors_01-24/Actor_18/03-01-05-01-01-01-18.wav  \n",
            "  inflating: audio_speech_actors_01-24/Actor_18/03-01-05-01-01-02-18.wav  \n",
            "  inflating: audio_speech_actors_01-24/Actor_18/03-01-05-01-02-01-18.wav  \n",
            "  inflating: audio_speech_actors_01-24/Actor_18/03-01-05-01-02-02-18.wav  \n",
            "  inflating: audio_speech_actors_01-24/Actor_18/03-01-05-02-01-01-18.wav  \n",
            "  inflating: audio_speech_actors_01-24/Actor_18/03-01-05-02-01-02-18.wav  \n",
            "  inflating: audio_speech_actors_01-24/Actor_18/03-01-05-02-02-01-18.wav  \n",
            "  inflating: audio_speech_actors_01-24/Actor_18/03-01-05-02-02-02-18.wav  \n",
            "  inflating: audio_speech_actors_01-24/Actor_18/03-01-06-01-01-01-18.wav  \n",
            "  inflating: audio_speech_actors_01-24/Actor_18/03-01-06-01-01-02-18.wav  \n",
            "  inflating: audio_speech_actors_01-24/Actor_18/03-01-06-01-02-01-18.wav  \n",
            "  inflating: audio_speech_actors_01-24/Actor_18/03-01-06-01-02-02-18.wav  \n",
            "  inflating: audio_speech_actors_01-24/Actor_18/03-01-06-02-01-01-18.wav  \n",
            "  inflating: audio_speech_actors_01-24/Actor_18/03-01-06-02-01-02-18.wav  \n",
            "  inflating: audio_speech_actors_01-24/Actor_18/03-01-06-02-02-01-18.wav  \n",
            "  inflating: audio_speech_actors_01-24/Actor_18/03-01-06-02-02-02-18.wav  \n",
            "  inflating: audio_speech_actors_01-24/Actor_18/03-01-07-01-01-01-18.wav  \n",
            "  inflating: audio_speech_actors_01-24/Actor_18/03-01-07-01-01-02-18.wav  \n",
            "  inflating: audio_speech_actors_01-24/Actor_18/03-01-07-01-02-01-18.wav  \n",
            "  inflating: audio_speech_actors_01-24/Actor_18/03-01-07-01-02-02-18.wav  \n",
            "  inflating: audio_speech_actors_01-24/Actor_18/03-01-07-02-01-01-18.wav  \n",
            "  inflating: audio_speech_actors_01-24/Actor_18/03-01-07-02-01-02-18.wav  \n",
            "  inflating: audio_speech_actors_01-24/Actor_18/03-01-07-02-02-01-18.wav  \n",
            "  inflating: audio_speech_actors_01-24/Actor_18/03-01-07-02-02-02-18.wav  \n",
            "  inflating: audio_speech_actors_01-24/Actor_18/03-01-08-01-01-01-18.wav  \n",
            "  inflating: audio_speech_actors_01-24/Actor_18/03-01-08-01-01-02-18.wav  \n",
            "  inflating: audio_speech_actors_01-24/Actor_18/03-01-08-01-02-01-18.wav  \n",
            "  inflating: audio_speech_actors_01-24/Actor_18/03-01-08-01-02-02-18.wav  \n",
            "  inflating: audio_speech_actors_01-24/Actor_18/03-01-08-02-01-01-18.wav  \n",
            "  inflating: audio_speech_actors_01-24/Actor_18/03-01-08-02-01-02-18.wav  \n",
            "  inflating: audio_speech_actors_01-24/Actor_18/03-01-08-02-02-01-18.wav  \n",
            "  inflating: audio_speech_actors_01-24/Actor_18/03-01-08-02-02-02-18.wav  \n",
            "  inflating: audio_speech_actors_01-24/Actor_19/03-01-01-01-01-01-19.wav  \n",
            "  inflating: audio_speech_actors_01-24/Actor_19/03-01-01-01-01-02-19.wav  \n",
            "  inflating: audio_speech_actors_01-24/Actor_19/03-01-01-01-02-01-19.wav  \n",
            "  inflating: audio_speech_actors_01-24/Actor_19/03-01-01-01-02-02-19.wav  \n",
            "  inflating: audio_speech_actors_01-24/Actor_19/03-01-02-01-01-01-19.wav  \n",
            "  inflating: audio_speech_actors_01-24/Actor_19/03-01-02-01-01-02-19.wav  \n",
            "  inflating: audio_speech_actors_01-24/Actor_19/03-01-02-01-02-01-19.wav  \n",
            "  inflating: audio_speech_actors_01-24/Actor_19/03-01-02-01-02-02-19.wav  \n",
            "  inflating: audio_speech_actors_01-24/Actor_19/03-01-02-02-01-01-19.wav  \n",
            "  inflating: audio_speech_actors_01-24/Actor_19/03-01-02-02-01-02-19.wav  \n",
            "  inflating: audio_speech_actors_01-24/Actor_19/03-01-02-02-02-01-19.wav  \n",
            "  inflating: audio_speech_actors_01-24/Actor_19/03-01-02-02-02-02-19.wav  \n",
            "  inflating: audio_speech_actors_01-24/Actor_19/03-01-03-01-01-01-19.wav  \n",
            "  inflating: audio_speech_actors_01-24/Actor_19/03-01-03-01-01-02-19.wav  \n",
            "  inflating: audio_speech_actors_01-24/Actor_19/03-01-03-01-02-01-19.wav  \n",
            "  inflating: audio_speech_actors_01-24/Actor_19/03-01-03-01-02-02-19.wav  \n",
            "  inflating: audio_speech_actors_01-24/Actor_19/03-01-03-02-01-01-19.wav  \n",
            "  inflating: audio_speech_actors_01-24/Actor_19/03-01-03-02-01-02-19.wav  \n",
            "  inflating: audio_speech_actors_01-24/Actor_19/03-01-03-02-02-01-19.wav  \n",
            "  inflating: audio_speech_actors_01-24/Actor_19/03-01-03-02-02-02-19.wav  \n",
            "  inflating: audio_speech_actors_01-24/Actor_19/03-01-04-01-01-01-19.wav  \n",
            "  inflating: audio_speech_actors_01-24/Actor_19/03-01-04-01-01-02-19.wav  \n",
            "  inflating: audio_speech_actors_01-24/Actor_19/03-01-04-01-02-01-19.wav  \n",
            "  inflating: audio_speech_actors_01-24/Actor_19/03-01-04-01-02-02-19.wav  \n",
            "  inflating: audio_speech_actors_01-24/Actor_19/03-01-04-02-01-01-19.wav  \n",
            "  inflating: audio_speech_actors_01-24/Actor_19/03-01-04-02-01-02-19.wav  \n",
            "  inflating: audio_speech_actors_01-24/Actor_19/03-01-04-02-02-01-19.wav  \n",
            "  inflating: audio_speech_actors_01-24/Actor_19/03-01-04-02-02-02-19.wav  \n",
            "  inflating: audio_speech_actors_01-24/Actor_19/03-01-05-01-01-01-19.wav  \n",
            "  inflating: audio_speech_actors_01-24/Actor_19/03-01-05-01-01-02-19.wav  \n",
            "  inflating: audio_speech_actors_01-24/Actor_19/03-01-05-01-02-01-19.wav  \n",
            "  inflating: audio_speech_actors_01-24/Actor_19/03-01-05-01-02-02-19.wav  \n",
            "  inflating: audio_speech_actors_01-24/Actor_19/03-01-05-02-01-01-19.wav  \n",
            "  inflating: audio_speech_actors_01-24/Actor_19/03-01-05-02-01-02-19.wav  \n",
            "  inflating: audio_speech_actors_01-24/Actor_19/03-01-05-02-02-01-19.wav  \n",
            "  inflating: audio_speech_actors_01-24/Actor_19/03-01-05-02-02-02-19.wav  \n",
            "  inflating: audio_speech_actors_01-24/Actor_19/03-01-06-01-01-01-19.wav  \n",
            "  inflating: audio_speech_actors_01-24/Actor_19/03-01-06-01-01-02-19.wav  \n",
            "  inflating: audio_speech_actors_01-24/Actor_19/03-01-06-01-02-01-19.wav  \n",
            "  inflating: audio_speech_actors_01-24/Actor_19/03-01-06-01-02-02-19.wav  \n",
            "  inflating: audio_speech_actors_01-24/Actor_19/03-01-06-02-01-01-19.wav  \n",
            "  inflating: audio_speech_actors_01-24/Actor_19/03-01-06-02-01-02-19.wav  \n",
            "  inflating: audio_speech_actors_01-24/Actor_19/03-01-06-02-02-01-19.wav  \n",
            "  inflating: audio_speech_actors_01-24/Actor_19/03-01-06-02-02-02-19.wav  \n",
            "  inflating: audio_speech_actors_01-24/Actor_19/03-01-07-01-01-01-19.wav  \n",
            "  inflating: audio_speech_actors_01-24/Actor_19/03-01-07-01-01-02-19.wav  \n",
            "  inflating: audio_speech_actors_01-24/Actor_19/03-01-07-01-02-01-19.wav  \n",
            "  inflating: audio_speech_actors_01-24/Actor_19/03-01-07-01-02-02-19.wav  \n",
            "  inflating: audio_speech_actors_01-24/Actor_19/03-01-07-02-01-01-19.wav  \n",
            "  inflating: audio_speech_actors_01-24/Actor_19/03-01-07-02-01-02-19.wav  \n",
            "  inflating: audio_speech_actors_01-24/Actor_19/03-01-07-02-02-01-19.wav  \n",
            "  inflating: audio_speech_actors_01-24/Actor_19/03-01-07-02-02-02-19.wav  \n",
            "  inflating: audio_speech_actors_01-24/Actor_19/03-01-08-01-01-01-19.wav  \n",
            "  inflating: audio_speech_actors_01-24/Actor_19/03-01-08-01-01-02-19.wav  \n",
            "  inflating: audio_speech_actors_01-24/Actor_19/03-01-08-01-02-01-19.wav  \n",
            "  inflating: audio_speech_actors_01-24/Actor_19/03-01-08-01-02-02-19.wav  \n",
            "  inflating: audio_speech_actors_01-24/Actor_19/03-01-08-02-01-01-19.wav  \n",
            "  inflating: audio_speech_actors_01-24/Actor_19/03-01-08-02-01-02-19.wav  \n",
            "  inflating: audio_speech_actors_01-24/Actor_19/03-01-08-02-02-01-19.wav  \n",
            "  inflating: audio_speech_actors_01-24/Actor_19/03-01-08-02-02-02-19.wav  \n",
            "  inflating: audio_speech_actors_01-24/Actor_20/03-01-01-01-01-01-20.wav  \n",
            "  inflating: audio_speech_actors_01-24/Actor_20/03-01-01-01-01-02-20.wav  \n",
            "  inflating: audio_speech_actors_01-24/Actor_20/03-01-01-01-02-01-20.wav  \n",
            "  inflating: audio_speech_actors_01-24/Actor_20/03-01-01-01-02-02-20.wav  \n",
            "  inflating: audio_speech_actors_01-24/Actor_20/03-01-02-01-01-01-20.wav  \n",
            "  inflating: audio_speech_actors_01-24/Actor_20/03-01-02-01-01-02-20.wav  \n",
            "  inflating: audio_speech_actors_01-24/Actor_20/03-01-02-01-02-01-20.wav  \n",
            "  inflating: audio_speech_actors_01-24/Actor_20/03-01-02-01-02-02-20.wav  \n",
            "  inflating: audio_speech_actors_01-24/Actor_20/03-01-02-02-01-01-20.wav  \n",
            "  inflating: audio_speech_actors_01-24/Actor_20/03-01-02-02-01-02-20.wav  \n",
            "  inflating: audio_speech_actors_01-24/Actor_20/03-01-02-02-02-01-20.wav  \n",
            "  inflating: audio_speech_actors_01-24/Actor_20/03-01-02-02-02-02-20.wav  \n",
            "  inflating: audio_speech_actors_01-24/Actor_20/03-01-03-01-01-01-20.wav  \n",
            "  inflating: audio_speech_actors_01-24/Actor_20/03-01-03-01-01-02-20.wav  \n",
            "  inflating: audio_speech_actors_01-24/Actor_20/03-01-03-01-02-01-20.wav  \n",
            "  inflating: audio_speech_actors_01-24/Actor_20/03-01-03-01-02-02-20.wav  \n",
            "  inflating: audio_speech_actors_01-24/Actor_20/03-01-03-02-01-01-20.wav  \n",
            "  inflating: audio_speech_actors_01-24/Actor_20/03-01-03-02-01-02-20.wav  \n",
            "  inflating: audio_speech_actors_01-24/Actor_20/03-01-03-02-02-01-20.wav  \n",
            "  inflating: audio_speech_actors_01-24/Actor_20/03-01-03-02-02-02-20.wav  \n",
            "  inflating: audio_speech_actors_01-24/Actor_20/03-01-04-01-01-01-20.wav  \n",
            "  inflating: audio_speech_actors_01-24/Actor_20/03-01-04-01-01-02-20.wav  \n",
            "  inflating: audio_speech_actors_01-24/Actor_20/03-01-04-01-02-01-20.wav  \n",
            "  inflating: audio_speech_actors_01-24/Actor_20/03-01-04-01-02-02-20.wav  \n",
            "  inflating: audio_speech_actors_01-24/Actor_20/03-01-04-02-01-01-20.wav  \n",
            "  inflating: audio_speech_actors_01-24/Actor_20/03-01-04-02-01-02-20.wav  \n",
            "  inflating: audio_speech_actors_01-24/Actor_20/03-01-04-02-02-01-20.wav  \n",
            "  inflating: audio_speech_actors_01-24/Actor_20/03-01-04-02-02-02-20.wav  \n",
            "  inflating: audio_speech_actors_01-24/Actor_20/03-01-05-01-01-01-20.wav  \n",
            "  inflating: audio_speech_actors_01-24/Actor_20/03-01-05-01-01-02-20.wav  \n",
            "  inflating: audio_speech_actors_01-24/Actor_20/03-01-05-01-02-01-20.wav  \n",
            "  inflating: audio_speech_actors_01-24/Actor_20/03-01-05-01-02-02-20.wav  \n",
            "  inflating: audio_speech_actors_01-24/Actor_20/03-01-05-02-01-01-20.wav  \n",
            "  inflating: audio_speech_actors_01-24/Actor_20/03-01-05-02-01-02-20.wav  \n",
            "  inflating: audio_speech_actors_01-24/Actor_20/03-01-05-02-02-01-20.wav  \n",
            "  inflating: audio_speech_actors_01-24/Actor_20/03-01-05-02-02-02-20.wav  \n",
            "  inflating: audio_speech_actors_01-24/Actor_20/03-01-06-01-01-01-20.wav  \n",
            "  inflating: audio_speech_actors_01-24/Actor_20/03-01-06-01-01-02-20.wav  \n",
            "  inflating: audio_speech_actors_01-24/Actor_20/03-01-06-01-02-01-20.wav  \n",
            "  inflating: audio_speech_actors_01-24/Actor_20/03-01-06-01-02-02-20.wav  \n",
            "  inflating: audio_speech_actors_01-24/Actor_20/03-01-06-02-01-01-20.wav  \n",
            "  inflating: audio_speech_actors_01-24/Actor_20/03-01-06-02-01-02-20.wav  \n",
            "  inflating: audio_speech_actors_01-24/Actor_20/03-01-06-02-02-01-20.wav  \n",
            "  inflating: audio_speech_actors_01-24/Actor_20/03-01-06-02-02-02-20.wav  \n",
            "  inflating: audio_speech_actors_01-24/Actor_20/03-01-07-01-01-01-20.wav  \n",
            "  inflating: audio_speech_actors_01-24/Actor_20/03-01-07-01-01-02-20.wav  \n",
            "  inflating: audio_speech_actors_01-24/Actor_20/03-01-07-01-02-01-20.wav  \n",
            "  inflating: audio_speech_actors_01-24/Actor_20/03-01-07-01-02-02-20.wav  \n",
            "  inflating: audio_speech_actors_01-24/Actor_20/03-01-07-02-01-01-20.wav  \n",
            "  inflating: audio_speech_actors_01-24/Actor_20/03-01-07-02-01-02-20.wav  \n",
            "  inflating: audio_speech_actors_01-24/Actor_20/03-01-07-02-02-01-20.wav  \n",
            "  inflating: audio_speech_actors_01-24/Actor_20/03-01-07-02-02-02-20.wav  \n",
            "  inflating: audio_speech_actors_01-24/Actor_20/03-01-08-01-01-01-20.wav  \n",
            "  inflating: audio_speech_actors_01-24/Actor_20/03-01-08-01-01-02-20.wav  \n",
            "  inflating: audio_speech_actors_01-24/Actor_20/03-01-08-01-02-01-20.wav  \n",
            "  inflating: audio_speech_actors_01-24/Actor_20/03-01-08-01-02-02-20.wav  \n",
            "  inflating: audio_speech_actors_01-24/Actor_20/03-01-08-02-01-01-20.wav  \n",
            "  inflating: audio_speech_actors_01-24/Actor_20/03-01-08-02-01-02-20.wav  \n",
            "  inflating: audio_speech_actors_01-24/Actor_20/03-01-08-02-02-01-20.wav  \n",
            "  inflating: audio_speech_actors_01-24/Actor_20/03-01-08-02-02-02-20.wav  \n",
            "  inflating: audio_speech_actors_01-24/Actor_21/03-01-01-01-01-01-21.wav  \n",
            "  inflating: audio_speech_actors_01-24/Actor_21/03-01-01-01-01-02-21.wav  \n",
            "  inflating: audio_speech_actors_01-24/Actor_21/03-01-01-01-02-01-21.wav  \n",
            "  inflating: audio_speech_actors_01-24/Actor_21/03-01-01-01-02-02-21.wav  \n",
            "  inflating: audio_speech_actors_01-24/Actor_21/03-01-02-01-01-01-21.wav  \n",
            "  inflating: audio_speech_actors_01-24/Actor_21/03-01-02-01-01-02-21.wav  \n",
            "  inflating: audio_speech_actors_01-24/Actor_21/03-01-02-01-02-01-21.wav  \n",
            "  inflating: audio_speech_actors_01-24/Actor_21/03-01-02-01-02-02-21.wav  \n",
            "  inflating: audio_speech_actors_01-24/Actor_21/03-01-02-02-01-01-21.wav  \n",
            "  inflating: audio_speech_actors_01-24/Actor_21/03-01-02-02-01-02-21.wav  \n",
            "  inflating: audio_speech_actors_01-24/Actor_21/03-01-02-02-02-01-21.wav  \n",
            "  inflating: audio_speech_actors_01-24/Actor_21/03-01-02-02-02-02-21.wav  \n",
            "  inflating: audio_speech_actors_01-24/Actor_21/03-01-03-01-01-01-21.wav  \n",
            "  inflating: audio_speech_actors_01-24/Actor_21/03-01-03-01-01-02-21.wav  \n",
            "  inflating: audio_speech_actors_01-24/Actor_21/03-01-03-01-02-01-21.wav  \n",
            "  inflating: audio_speech_actors_01-24/Actor_21/03-01-03-01-02-02-21.wav  \n",
            "  inflating: audio_speech_actors_01-24/Actor_21/03-01-03-02-01-01-21.wav  \n",
            "  inflating: audio_speech_actors_01-24/Actor_21/03-01-03-02-01-02-21.wav  \n",
            "  inflating: audio_speech_actors_01-24/Actor_21/03-01-03-02-02-01-21.wav  \n",
            "  inflating: audio_speech_actors_01-24/Actor_21/03-01-03-02-02-02-21.wav  \n",
            "  inflating: audio_speech_actors_01-24/Actor_21/03-01-04-01-01-01-21.wav  \n",
            "  inflating: audio_speech_actors_01-24/Actor_21/03-01-04-01-01-02-21.wav  \n",
            "  inflating: audio_speech_actors_01-24/Actor_21/03-01-04-01-02-01-21.wav  \n",
            "  inflating: audio_speech_actors_01-24/Actor_21/03-01-04-01-02-02-21.wav  \n",
            "  inflating: audio_speech_actors_01-24/Actor_21/03-01-04-02-01-01-21.wav  \n",
            "  inflating: audio_speech_actors_01-24/Actor_21/03-01-04-02-01-02-21.wav  \n",
            "  inflating: audio_speech_actors_01-24/Actor_21/03-01-04-02-02-01-21.wav  \n",
            "  inflating: audio_speech_actors_01-24/Actor_21/03-01-04-02-02-02-21.wav  \n",
            "  inflating: audio_speech_actors_01-24/Actor_21/03-01-05-01-01-01-21.wav  \n",
            "  inflating: audio_speech_actors_01-24/Actor_21/03-01-05-01-01-02-21.wav  \n",
            "  inflating: audio_speech_actors_01-24/Actor_21/03-01-05-01-02-01-21.wav  \n",
            "  inflating: audio_speech_actors_01-24/Actor_21/03-01-05-01-02-02-21.wav  \n",
            "  inflating: audio_speech_actors_01-24/Actor_21/03-01-05-02-01-01-21.wav  \n",
            "  inflating: audio_speech_actors_01-24/Actor_21/03-01-05-02-01-02-21.wav  \n",
            "  inflating: audio_speech_actors_01-24/Actor_21/03-01-05-02-02-01-21.wav  \n",
            "  inflating: audio_speech_actors_01-24/Actor_21/03-01-05-02-02-02-21.wav  \n",
            "  inflating: audio_speech_actors_01-24/Actor_21/03-01-06-01-01-01-21.wav  \n",
            "  inflating: audio_speech_actors_01-24/Actor_21/03-01-06-01-01-02-21.wav  \n",
            "  inflating: audio_speech_actors_01-24/Actor_21/03-01-06-01-02-01-21.wav  \n",
            "  inflating: audio_speech_actors_01-24/Actor_21/03-01-06-01-02-02-21.wav  \n",
            "  inflating: audio_speech_actors_01-24/Actor_21/03-01-06-02-01-01-21.wav  \n",
            "  inflating: audio_speech_actors_01-24/Actor_21/03-01-06-02-01-02-21.wav  \n",
            "  inflating: audio_speech_actors_01-24/Actor_21/03-01-06-02-02-01-21.wav  \n",
            "  inflating: audio_speech_actors_01-24/Actor_21/03-01-06-02-02-02-21.wav  \n",
            "  inflating: audio_speech_actors_01-24/Actor_21/03-01-07-01-01-01-21.wav  \n",
            "  inflating: audio_speech_actors_01-24/Actor_21/03-01-07-01-01-02-21.wav  \n",
            "  inflating: audio_speech_actors_01-24/Actor_21/03-01-07-01-02-01-21.wav  \n",
            "  inflating: audio_speech_actors_01-24/Actor_21/03-01-07-01-02-02-21.wav  \n",
            "  inflating: audio_speech_actors_01-24/Actor_21/03-01-07-02-01-01-21.wav  \n",
            "  inflating: audio_speech_actors_01-24/Actor_21/03-01-07-02-01-02-21.wav  \n",
            "  inflating: audio_speech_actors_01-24/Actor_21/03-01-07-02-02-01-21.wav  \n",
            "  inflating: audio_speech_actors_01-24/Actor_21/03-01-07-02-02-02-21.wav  \n",
            "  inflating: audio_speech_actors_01-24/Actor_21/03-01-08-01-01-01-21.wav  \n",
            "  inflating: audio_speech_actors_01-24/Actor_21/03-01-08-01-01-02-21.wav  \n",
            "  inflating: audio_speech_actors_01-24/Actor_21/03-01-08-01-02-01-21.wav  \n",
            "  inflating: audio_speech_actors_01-24/Actor_21/03-01-08-01-02-02-21.wav  \n",
            "  inflating: audio_speech_actors_01-24/Actor_21/03-01-08-02-01-01-21.wav  \n",
            "  inflating: audio_speech_actors_01-24/Actor_21/03-01-08-02-01-02-21.wav  \n",
            "  inflating: audio_speech_actors_01-24/Actor_21/03-01-08-02-02-01-21.wav  \n",
            "  inflating: audio_speech_actors_01-24/Actor_21/03-01-08-02-02-02-21.wav  \n",
            "  inflating: audio_speech_actors_01-24/Actor_22/03-01-01-01-01-01-22.wav  \n",
            "  inflating: audio_speech_actors_01-24/Actor_22/03-01-01-01-01-02-22.wav  \n",
            "  inflating: audio_speech_actors_01-24/Actor_22/03-01-01-01-02-01-22.wav  \n",
            "  inflating: audio_speech_actors_01-24/Actor_22/03-01-01-01-02-02-22.wav  \n",
            "  inflating: audio_speech_actors_01-24/Actor_22/03-01-02-01-01-01-22.wav  \n",
            "  inflating: audio_speech_actors_01-24/Actor_22/03-01-02-01-01-02-22.wav  \n",
            "  inflating: audio_speech_actors_01-24/Actor_22/03-01-02-01-02-01-22.wav  \n",
            "  inflating: audio_speech_actors_01-24/Actor_22/03-01-02-01-02-02-22.wav  \n",
            "  inflating: audio_speech_actors_01-24/Actor_22/03-01-02-02-01-01-22.wav  \n",
            "  inflating: audio_speech_actors_01-24/Actor_22/03-01-02-02-01-02-22.wav  \n",
            "  inflating: audio_speech_actors_01-24/Actor_22/03-01-02-02-02-01-22.wav  \n",
            "  inflating: audio_speech_actors_01-24/Actor_22/03-01-02-02-02-02-22.wav  \n",
            "  inflating: audio_speech_actors_01-24/Actor_22/03-01-03-01-01-01-22.wav  \n",
            "  inflating: audio_speech_actors_01-24/Actor_22/03-01-03-01-01-02-22.wav  \n",
            "  inflating: audio_speech_actors_01-24/Actor_22/03-01-03-01-02-01-22.wav  \n",
            "  inflating: audio_speech_actors_01-24/Actor_22/03-01-03-01-02-02-22.wav  \n",
            "  inflating: audio_speech_actors_01-24/Actor_22/03-01-03-02-01-01-22.wav  \n",
            "  inflating: audio_speech_actors_01-24/Actor_22/03-01-03-02-01-02-22.wav  \n",
            "  inflating: audio_speech_actors_01-24/Actor_22/03-01-03-02-02-01-22.wav  \n",
            "  inflating: audio_speech_actors_01-24/Actor_22/03-01-03-02-02-02-22.wav  \n",
            "  inflating: audio_speech_actors_01-24/Actor_22/03-01-04-01-01-01-22.wav  \n",
            "  inflating: audio_speech_actors_01-24/Actor_22/03-01-04-01-01-02-22.wav  \n",
            "  inflating: audio_speech_actors_01-24/Actor_22/03-01-04-01-02-01-22.wav  \n",
            "  inflating: audio_speech_actors_01-24/Actor_22/03-01-04-01-02-02-22.wav  \n",
            "  inflating: audio_speech_actors_01-24/Actor_22/03-01-04-02-01-01-22.wav  \n",
            "  inflating: audio_speech_actors_01-24/Actor_22/03-01-04-02-01-02-22.wav  \n",
            "  inflating: audio_speech_actors_01-24/Actor_22/03-01-04-02-02-01-22.wav  \n",
            "  inflating: audio_speech_actors_01-24/Actor_22/03-01-04-02-02-02-22.wav  \n",
            "  inflating: audio_speech_actors_01-24/Actor_22/03-01-05-01-01-01-22.wav  \n",
            "  inflating: audio_speech_actors_01-24/Actor_22/03-01-05-01-01-02-22.wav  \n",
            "  inflating: audio_speech_actors_01-24/Actor_22/03-01-05-01-02-01-22.wav  \n",
            "  inflating: audio_speech_actors_01-24/Actor_22/03-01-05-01-02-02-22.wav  \n",
            "  inflating: audio_speech_actors_01-24/Actor_22/03-01-05-02-01-01-22.wav  \n",
            "  inflating: audio_speech_actors_01-24/Actor_22/03-01-05-02-01-02-22.wav  \n",
            "  inflating: audio_speech_actors_01-24/Actor_22/03-01-05-02-02-01-22.wav  \n",
            "  inflating: audio_speech_actors_01-24/Actor_22/03-01-05-02-02-02-22.wav  \n",
            "  inflating: audio_speech_actors_01-24/Actor_22/03-01-06-01-01-01-22.wav  \n",
            "  inflating: audio_speech_actors_01-24/Actor_22/03-01-06-01-01-02-22.wav  \n",
            "  inflating: audio_speech_actors_01-24/Actor_22/03-01-06-01-02-01-22.wav  \n",
            "  inflating: audio_speech_actors_01-24/Actor_22/03-01-06-01-02-02-22.wav  \n",
            "  inflating: audio_speech_actors_01-24/Actor_22/03-01-06-02-01-01-22.wav  \n",
            "  inflating: audio_speech_actors_01-24/Actor_22/03-01-06-02-01-02-22.wav  \n",
            "  inflating: audio_speech_actors_01-24/Actor_22/03-01-06-02-02-01-22.wav  \n",
            "  inflating: audio_speech_actors_01-24/Actor_22/03-01-06-02-02-02-22.wav  \n",
            "  inflating: audio_speech_actors_01-24/Actor_22/03-01-07-01-01-01-22.wav  \n",
            "  inflating: audio_speech_actors_01-24/Actor_22/03-01-07-01-01-02-22.wav  \n",
            "  inflating: audio_speech_actors_01-24/Actor_22/03-01-07-01-02-01-22.wav  \n",
            "  inflating: audio_speech_actors_01-24/Actor_22/03-01-07-01-02-02-22.wav  \n",
            "  inflating: audio_speech_actors_01-24/Actor_22/03-01-07-02-01-01-22.wav  \n",
            "  inflating: audio_speech_actors_01-24/Actor_22/03-01-07-02-01-02-22.wav  \n",
            "  inflating: audio_speech_actors_01-24/Actor_22/03-01-07-02-02-01-22.wav  \n",
            "  inflating: audio_speech_actors_01-24/Actor_22/03-01-07-02-02-02-22.wav  \n",
            "  inflating: audio_speech_actors_01-24/Actor_22/03-01-08-01-01-01-22.wav  \n",
            "  inflating: audio_speech_actors_01-24/Actor_22/03-01-08-01-01-02-22.wav  \n",
            "  inflating: audio_speech_actors_01-24/Actor_22/03-01-08-01-02-01-22.wav  \n",
            "  inflating: audio_speech_actors_01-24/Actor_22/03-01-08-01-02-02-22.wav  \n",
            "  inflating: audio_speech_actors_01-24/Actor_22/03-01-08-02-01-01-22.wav  \n",
            "  inflating: audio_speech_actors_01-24/Actor_22/03-01-08-02-01-02-22.wav  \n",
            "  inflating: audio_speech_actors_01-24/Actor_22/03-01-08-02-02-01-22.wav  \n",
            "  inflating: audio_speech_actors_01-24/Actor_22/03-01-08-02-02-02-22.wav  \n",
            "  inflating: audio_speech_actors_01-24/Actor_23/03-01-01-01-01-01-23.wav  \n",
            "  inflating: audio_speech_actors_01-24/Actor_23/03-01-01-01-01-02-23.wav  \n",
            "  inflating: audio_speech_actors_01-24/Actor_23/03-01-01-01-02-01-23.wav  \n",
            "  inflating: audio_speech_actors_01-24/Actor_23/03-01-01-01-02-02-23.wav  \n",
            "  inflating: audio_speech_actors_01-24/Actor_23/03-01-02-01-01-01-23.wav  \n",
            "  inflating: audio_speech_actors_01-24/Actor_23/03-01-02-01-01-02-23.wav  \n",
            "  inflating: audio_speech_actors_01-24/Actor_23/03-01-02-01-02-01-23.wav  \n",
            "  inflating: audio_speech_actors_01-24/Actor_23/03-01-02-01-02-02-23.wav  \n",
            "  inflating: audio_speech_actors_01-24/Actor_23/03-01-02-02-01-01-23.wav  \n",
            "  inflating: audio_speech_actors_01-24/Actor_23/03-01-02-02-01-02-23.wav  \n",
            "  inflating: audio_speech_actors_01-24/Actor_23/03-01-02-02-02-01-23.wav  \n",
            "  inflating: audio_speech_actors_01-24/Actor_23/03-01-02-02-02-02-23.wav  \n",
            "  inflating: audio_speech_actors_01-24/Actor_23/03-01-03-01-01-01-23.wav  \n",
            "  inflating: audio_speech_actors_01-24/Actor_23/03-01-03-01-01-02-23.wav  \n",
            "  inflating: audio_speech_actors_01-24/Actor_23/03-01-03-01-02-01-23.wav  \n",
            "  inflating: audio_speech_actors_01-24/Actor_23/03-01-03-01-02-02-23.wav  \n",
            "  inflating: audio_speech_actors_01-24/Actor_23/03-01-03-02-01-01-23.wav  \n",
            "  inflating: audio_speech_actors_01-24/Actor_23/03-01-03-02-01-02-23.wav  \n",
            "  inflating: audio_speech_actors_01-24/Actor_23/03-01-03-02-02-01-23.wav  \n",
            "  inflating: audio_speech_actors_01-24/Actor_23/03-01-03-02-02-02-23.wav  \n",
            "  inflating: audio_speech_actors_01-24/Actor_23/03-01-04-01-01-01-23.wav  \n",
            "  inflating: audio_speech_actors_01-24/Actor_23/03-01-04-01-01-02-23.wav  \n",
            "  inflating: audio_speech_actors_01-24/Actor_23/03-01-04-01-02-01-23.wav  \n",
            "  inflating: audio_speech_actors_01-24/Actor_23/03-01-04-01-02-02-23.wav  \n",
            "  inflating: audio_speech_actors_01-24/Actor_23/03-01-04-02-01-01-23.wav  \n",
            "  inflating: audio_speech_actors_01-24/Actor_23/03-01-04-02-01-02-23.wav  \n",
            "  inflating: audio_speech_actors_01-24/Actor_23/03-01-04-02-02-01-23.wav  \n",
            "  inflating: audio_speech_actors_01-24/Actor_23/03-01-04-02-02-02-23.wav  \n",
            "  inflating: audio_speech_actors_01-24/Actor_23/03-01-05-01-01-01-23.wav  \n",
            "  inflating: audio_speech_actors_01-24/Actor_23/03-01-05-01-01-02-23.wav  \n",
            "  inflating: audio_speech_actors_01-24/Actor_23/03-01-05-01-02-01-23.wav  \n",
            "  inflating: audio_speech_actors_01-24/Actor_23/03-01-05-01-02-02-23.wav  \n",
            "  inflating: audio_speech_actors_01-24/Actor_23/03-01-05-02-01-01-23.wav  \n",
            "  inflating: audio_speech_actors_01-24/Actor_23/03-01-05-02-01-02-23.wav  \n",
            "  inflating: audio_speech_actors_01-24/Actor_23/03-01-05-02-02-01-23.wav  \n",
            "  inflating: audio_speech_actors_01-24/Actor_23/03-01-05-02-02-02-23.wav  \n",
            "  inflating: audio_speech_actors_01-24/Actor_23/03-01-06-01-01-01-23.wav  \n",
            "  inflating: audio_speech_actors_01-24/Actor_23/03-01-06-01-01-02-23.wav  \n",
            "  inflating: audio_speech_actors_01-24/Actor_23/03-01-06-01-02-01-23.wav  \n",
            "  inflating: audio_speech_actors_01-24/Actor_23/03-01-06-01-02-02-23.wav  \n",
            "  inflating: audio_speech_actors_01-24/Actor_23/03-01-06-02-01-01-23.wav  \n",
            "  inflating: audio_speech_actors_01-24/Actor_23/03-01-06-02-01-02-23.wav  \n",
            "  inflating: audio_speech_actors_01-24/Actor_23/03-01-06-02-02-01-23.wav  \n",
            "  inflating: audio_speech_actors_01-24/Actor_23/03-01-06-02-02-02-23.wav  \n",
            "  inflating: audio_speech_actors_01-24/Actor_23/03-01-07-01-01-01-23.wav  \n",
            "  inflating: audio_speech_actors_01-24/Actor_23/03-01-07-01-01-02-23.wav  \n",
            "  inflating: audio_speech_actors_01-24/Actor_23/03-01-07-01-02-01-23.wav  \n",
            "  inflating: audio_speech_actors_01-24/Actor_23/03-01-07-01-02-02-23.wav  \n",
            "  inflating: audio_speech_actors_01-24/Actor_23/03-01-07-02-01-01-23.wav  \n",
            "  inflating: audio_speech_actors_01-24/Actor_23/03-01-07-02-01-02-23.wav  \n",
            "  inflating: audio_speech_actors_01-24/Actor_23/03-01-07-02-02-01-23.wav  \n",
            "  inflating: audio_speech_actors_01-24/Actor_23/03-01-07-02-02-02-23.wav  \n",
            "  inflating: audio_speech_actors_01-24/Actor_23/03-01-08-01-01-01-23.wav  \n",
            "  inflating: audio_speech_actors_01-24/Actor_23/03-01-08-01-01-02-23.wav  \n",
            "  inflating: audio_speech_actors_01-24/Actor_23/03-01-08-01-02-01-23.wav  \n",
            "  inflating: audio_speech_actors_01-24/Actor_23/03-01-08-01-02-02-23.wav  \n",
            "  inflating: audio_speech_actors_01-24/Actor_23/03-01-08-02-01-01-23.wav  \n",
            "  inflating: audio_speech_actors_01-24/Actor_23/03-01-08-02-01-02-23.wav  \n",
            "  inflating: audio_speech_actors_01-24/Actor_23/03-01-08-02-02-01-23.wav  \n",
            "  inflating: audio_speech_actors_01-24/Actor_23/03-01-08-02-02-02-23.wav  \n",
            "  inflating: audio_speech_actors_01-24/Actor_24/03-01-01-01-01-01-24.wav  \n",
            "  inflating: audio_speech_actors_01-24/Actor_24/03-01-01-01-01-02-24.wav  \n",
            "  inflating: audio_speech_actors_01-24/Actor_24/03-01-01-01-02-01-24.wav  \n",
            "  inflating: audio_speech_actors_01-24/Actor_24/03-01-01-01-02-02-24.wav  \n",
            "  inflating: audio_speech_actors_01-24/Actor_24/03-01-02-01-01-01-24.wav  \n",
            "  inflating: audio_speech_actors_01-24/Actor_24/03-01-02-01-01-02-24.wav  \n",
            "  inflating: audio_speech_actors_01-24/Actor_24/03-01-02-01-02-01-24.wav  \n",
            "  inflating: audio_speech_actors_01-24/Actor_24/03-01-02-01-02-02-24.wav  \n",
            "  inflating: audio_speech_actors_01-24/Actor_24/03-01-02-02-01-01-24.wav  \n",
            "  inflating: audio_speech_actors_01-24/Actor_24/03-01-02-02-01-02-24.wav  \n",
            "  inflating: audio_speech_actors_01-24/Actor_24/03-01-02-02-02-01-24.wav  \n",
            "  inflating: audio_speech_actors_01-24/Actor_24/03-01-02-02-02-02-24.wav  \n",
            "  inflating: audio_speech_actors_01-24/Actor_24/03-01-03-01-01-01-24.wav  \n",
            "  inflating: audio_speech_actors_01-24/Actor_24/03-01-03-01-01-02-24.wav  \n",
            "  inflating: audio_speech_actors_01-24/Actor_24/03-01-03-01-02-01-24.wav  \n",
            "  inflating: audio_speech_actors_01-24/Actor_24/03-01-03-01-02-02-24.wav  \n",
            "  inflating: audio_speech_actors_01-24/Actor_24/03-01-03-02-01-01-24.wav  \n",
            "  inflating: audio_speech_actors_01-24/Actor_24/03-01-03-02-01-02-24.wav  \n",
            "  inflating: audio_speech_actors_01-24/Actor_24/03-01-03-02-02-01-24.wav  \n",
            "  inflating: audio_speech_actors_01-24/Actor_24/03-01-03-02-02-02-24.wav  \n",
            "  inflating: audio_speech_actors_01-24/Actor_24/03-01-04-01-01-01-24.wav  \n",
            "  inflating: audio_speech_actors_01-24/Actor_24/03-01-04-01-01-02-24.wav  \n",
            "  inflating: audio_speech_actors_01-24/Actor_24/03-01-04-01-02-01-24.wav  \n",
            "  inflating: audio_speech_actors_01-24/Actor_24/03-01-04-01-02-02-24.wav  \n",
            "  inflating: audio_speech_actors_01-24/Actor_24/03-01-04-02-01-01-24.wav  \n",
            "  inflating: audio_speech_actors_01-24/Actor_24/03-01-04-02-01-02-24.wav  \n",
            "  inflating: audio_speech_actors_01-24/Actor_24/03-01-04-02-02-01-24.wav  \n",
            "  inflating: audio_speech_actors_01-24/Actor_24/03-01-04-02-02-02-24.wav  \n",
            "  inflating: audio_speech_actors_01-24/Actor_24/03-01-05-01-01-01-24.wav  \n",
            "  inflating: audio_speech_actors_01-24/Actor_24/03-01-05-01-01-02-24.wav  \n",
            "  inflating: audio_speech_actors_01-24/Actor_24/03-01-05-01-02-01-24.wav  \n",
            "  inflating: audio_speech_actors_01-24/Actor_24/03-01-05-01-02-02-24.wav  \n",
            "  inflating: audio_speech_actors_01-24/Actor_24/03-01-05-02-01-01-24.wav  \n",
            "  inflating: audio_speech_actors_01-24/Actor_24/03-01-05-02-01-02-24.wav  \n",
            "  inflating: audio_speech_actors_01-24/Actor_24/03-01-05-02-02-01-24.wav  \n",
            "  inflating: audio_speech_actors_01-24/Actor_24/03-01-05-02-02-02-24.wav  \n",
            "  inflating: audio_speech_actors_01-24/Actor_24/03-01-06-01-01-01-24.wav  \n",
            "  inflating: audio_speech_actors_01-24/Actor_24/03-01-06-01-01-02-24.wav  \n",
            "  inflating: audio_speech_actors_01-24/Actor_24/03-01-06-01-02-01-24.wav  \n",
            "  inflating: audio_speech_actors_01-24/Actor_24/03-01-06-01-02-02-24.wav  \n",
            "  inflating: audio_speech_actors_01-24/Actor_24/03-01-06-02-01-01-24.wav  \n",
            "  inflating: audio_speech_actors_01-24/Actor_24/03-01-06-02-01-02-24.wav  \n",
            "  inflating: audio_speech_actors_01-24/Actor_24/03-01-06-02-02-01-24.wav  \n",
            "  inflating: audio_speech_actors_01-24/Actor_24/03-01-06-02-02-02-24.wav  \n",
            "  inflating: audio_speech_actors_01-24/Actor_24/03-01-07-01-01-01-24.wav  \n",
            "  inflating: audio_speech_actors_01-24/Actor_24/03-01-07-01-01-02-24.wav  \n",
            "  inflating: audio_speech_actors_01-24/Actor_24/03-01-07-01-02-01-24.wav  \n",
            "  inflating: audio_speech_actors_01-24/Actor_24/03-01-07-01-02-02-24.wav  \n",
            "  inflating: audio_speech_actors_01-24/Actor_24/03-01-07-02-01-01-24.wav  \n",
            "  inflating: audio_speech_actors_01-24/Actor_24/03-01-07-02-01-02-24.wav  \n",
            "  inflating: audio_speech_actors_01-24/Actor_24/03-01-07-02-02-01-24.wav  \n",
            "  inflating: audio_speech_actors_01-24/Actor_24/03-01-07-02-02-02-24.wav  \n",
            "  inflating: audio_speech_actors_01-24/Actor_24/03-01-08-01-01-01-24.wav  \n",
            "  inflating: audio_speech_actors_01-24/Actor_24/03-01-08-01-01-02-24.wav  \n",
            "  inflating: audio_speech_actors_01-24/Actor_24/03-01-08-01-02-01-24.wav  \n",
            "  inflating: audio_speech_actors_01-24/Actor_24/03-01-08-01-02-02-24.wav  \n",
            "  inflating: audio_speech_actors_01-24/Actor_24/03-01-08-02-01-01-24.wav  \n",
            "  inflating: audio_speech_actors_01-24/Actor_24/03-01-08-02-01-02-24.wav  \n",
            "  inflating: audio_speech_actors_01-24/Actor_24/03-01-08-02-02-01-24.wav  \n",
            "  inflating: audio_speech_actors_01-24/Actor_24/03-01-08-02-02-02-24.wav  \n"
          ]
        }
      ],
      "source": [
        "#! unzip /content/cremad.zip\n",
        "! unzip /content/ravdess-emotional-speech-audio.zip\n",
        "#! unzip /content/surrey-audiovisual-expressed-emotion-savee.zip\n",
        "#! unzip /content/toronto-emotional-speech-set-tess.zip"
      ]
    },
    {
      "cell_type": "markdown",
      "metadata": {
        "id": "AIVdbzySTPsK"
      },
      "source": [
        "Making sense of data, all the datasets have these emotions in common:\n",
        "1) Anger\n",
        "2) Disgust\n",
        "3) Happy\n",
        "4) Neutral\n",
        "5) Sad\n",
        "6) Fear"
      ]
    },
    {
      "cell_type": "markdown",
      "metadata": {
        "id": "mrZW_8_RVlZV"
      },
      "source": [
        "Tip: remember that RAVDESS labels neutral as calm"
      ]
    },
    {
      "cell_type": "markdown",
      "metadata": {
        "id": "qNLWeapOWL2E"
      },
      "source": [
        "Only Crema-D doesn't have surprise hence not including right now, later we can include that too, also when we get access to LSSED database we can start working with that"
      ]
    },
    {
      "cell_type": "markdown",
      "metadata": {
        "id": "ozaegbmgWYwk"
      },
      "source": [
        "Work Plan: Create a double numpy array, with indexes as given above (-1 ofc) we will store the file paths in it."
      ]
    },
    {
      "cell_type": "code",
      "execution_count": null,
      "metadata": {
        "id": "IHam1NCSToQa"
      },
      "outputs": [],
      "source": [
        "dataset_array = [[] for _ in range(6)]\n",
        "#this will contain five arrays on indexes:  0: anger, 1:disgust, 2: Happy, 3: neutral/calm , 4:sad, 5: fear\n",
        "#further each will contain subarrays containing file paths\n",
        "#have to create directories of each dataset for it\n"
      ]
    },
    {
      "cell_type": "code",
      "execution_count": null,
      "metadata": {
        "id": "dmw_lSDcXqsz"
      },
      "outputs": [],
      "source": [
        "! mkdir ravdess"
      ]
    },
    {
      "cell_type": "code",
      "execution_count": null,
      "metadata": {
        "id": "g8n5duz0TiZu"
      },
      "outputs": [],
      "source": [
        "import pandas as pd\n",
        "import numpy as np\n",
        "import os\n",
        "import sys"
      ]
    },
    {
      "cell_type": "code",
      "execution_count": null,
      "metadata": {
        "id": "-olyRPhDYNyz"
      },
      "outputs": [],
      "source": [
        "tess_path= '/content/TESS Toronto emotional speech set data'\n",
        "savee_path='/content/ALL'\n",
        "cremad_path='/content/AudioWAV'\n",
        "# have to work exrtra for ravdess\n"
      ]
    },
    {
      "cell_type": "code",
      "execution_count": null,
      "metadata": {
        "colab": {
          "base_uri": "https://localhost:8080/"
        },
        "id": "wOsBofVYanzu",
        "outputId": "ba67a591-10cd-4e65-fe22-fab0bebc34a7"
      },
      "outputs": [
        {
          "output_type": "stream",
          "name": "stdout",
          "text": [
            "/content/Actor_01\n",
            "/content/Actor_02\n",
            "/content/Actor_03\n",
            "/content/Actor_04\n",
            "/content/Actor_05\n",
            "/content/Actor_06\n",
            "/content/Actor_07\n",
            "/content/Actor_08\n",
            "/content/Actor_09\n",
            "/content/Actor_10\n",
            "/content/Actor_11\n",
            "/content/Actor_12\n",
            "/content/Actor_13\n",
            "/content/Actor_14\n",
            "/content/Actor_15\n",
            "/content/Actor_16\n",
            "/content/Actor_17\n",
            "/content/Actor_18\n",
            "/content/Actor_19\n",
            "/content/Actor_20\n",
            "/content/Actor_21\n",
            "/content/Actor_22\n",
            "/content/Actor_23\n",
            "/content/Actor_24\n"
          ]
        }
      ],
      "source": [
        "for i in range(1,25):\n",
        "  if i<10:\n",
        "    file_path= f'/content/Actor_0{i}'\n",
        "    print(file_path)\n",
        "    !mv {file_path} /content/ravdess\n",
        "\n",
        "\n",
        "  else:\n",
        "    file_path= f'/content/Actor_{i}'\n",
        "    print(file_path)\n",
        "    !mv {file_path} /content/ravdess\n",
        "\n",
        "\n",
        "\n"
      ]
    },
    {
      "cell_type": "code",
      "execution_count": null,
      "metadata": {
        "id": "sqqI35VkoZf2"
      },
      "outputs": [],
      "source": [
        "ravdess_path='/content/ravdess'"
      ]
    },
    {
      "cell_type": "code",
      "execution_count": null,
      "metadata": {
        "id": "3fchm50Mof0u"
      },
      "outputs": [],
      "source": [
        "#creating directories\n",
        "ravdess_dirlist=os.listdir(ravdess_path)\n",
        "#savee_dirlist=os.listdir(savee_path)\n",
        "#cremad_dirlist=os.listdir(cremad_path)\n",
        "#tess_dirlist=os.listdir(tess_path)\n"
      ]
    },
    {
      "cell_type": "markdown",
      "metadata": {
        "id": "TMBibN4ixTR7"
      },
      "source": [
        "Converting and labelling the data for RAVDESS"
      ]
    },
    {
      "cell_type": "code",
      "execution_count": null,
      "metadata": {
        "id": "8axt-0F4phpp"
      },
      "outputs": [],
      "source": [
        "for dir in ravdess_dirlist:\n",
        "  actor=os.listdir(ravdess_path+'/' + dir)\n",
        "  for file in actor:\n",
        "    split1=file.split('.')[0]\n",
        "    split2=split1.split('-')\n",
        "    if split2[2]=='01': #neutral\n",
        "      dataset_array[3].append(ravdess_path +'/'+ dir + '/' + file)\n",
        "    elif split2[2]=='02': #calm\n",
        "      dataset_array[3].append(ravdess_path +'/'+ dir + '/' + file)\n",
        "    elif split2[2]=='03' : #happy\n",
        "      dataset_array[2].append(ravdess_path +'/'+ dir + '/' + file)\n",
        "    elif split2[2]=='04': #sad\n",
        "      dataset_array[4].append(ravdess_path +'/'+ dir + '/' + file)\n",
        "    elif split2[2]=='05' : #angry\n",
        "      dataset_array[0].append(ravdess_path +'/'+ dir + '/' + file)\n",
        "    elif split2[2]=='06': #fear\n",
        "      dataset_array[5].append(ravdess_path +'/'+ dir + '/' + file)\n",
        "    elif split2[2]=='07': #disgust\n",
        "      dataset_array[1].append(ravdess_path +'/'+ dir + '/' + file)\n",
        "    elif split2[2]=='08': #suprise, not considered rn\n",
        "      continue\n",
        "    else:\n",
        "      print(\"Error\")"
      ]
    },
    {
      "cell_type": "markdown",
      "metadata": {
        "id": "oN-6M25TxakR"
      },
      "source": [
        "Converting and Labelling data for TESS"
      ]
    },
    {
      "cell_type": "code",
      "execution_count": null,
      "metadata": {
        "id": "kHGWF-txxdBT"
      },
      "outputs": [],
      "source": [
        "for dir in tess_dirlist:\n",
        "  folder=os.listdir(tess_path+'/' + dir)\n",
        "  split=dir.split('_')[1]\n",
        "  for file in folder:\n",
        "    if split== 'neutral' or split=='Neutral': #neutral\n",
        "      dataset_array[3].append(tess_path +'/'+ dir + '/' + file)\n",
        "\n",
        "    elif split=='happy' or split=='Happy' : #happy\n",
        "      dataset_array[2].append(tess_path +'/'+ dir + '/' + file)\n",
        "    elif split=='sad' or split=='Sad': #sad\n",
        "      dataset_array[4].append(tess_path +'/'+ dir + '/' + file)\n",
        "    elif split=='angry' or split=='Angry': #angry\n",
        "      dataset_array[0].append(tess_path +'/'+ dir + '/' + file)\n",
        "    elif split=='fear'or split=='Fear': #fear\n",
        "      dataset_array[5].append(tess_path +'/'+ dir + '/' + file)\n",
        "    elif split=='disgust' or split=='Disgust': #disgust\n",
        "      dataset_array[1].append(tess_path +'/'+ dir + '/' + file)\n",
        "    elif split=='pleasant' or split=='Pleasant': #suprise, not considered rn\n",
        "      continue\n",
        "    else:\n",
        "      print(\"Error\")\n",
        "\n",
        "\n"
      ]
    },
    {
      "cell_type": "markdown",
      "metadata": {
        "id": "wNnglaGx2s1e"
      },
      "source": [
        "Converting and Labelling data for SAVEE"
      ]
    },
    {
      "cell_type": "code",
      "execution_count": null,
      "metadata": {
        "id": "FZDD1rYm2n_r"
      },
      "outputs": [],
      "source": [
        "for file in savee_dirlist:\n",
        "  splits1=file.split('.')[0]\n",
        "  splits2=splits1.split('_')[1]\n",
        "  char_array=list(splits2)\n",
        "  if char_array[0]== 'n': #neutral\n",
        "    dataset_array[3].append(savee_path + '/' + file)\n",
        "\n",
        "  elif char_array[0]=='h' : #happy\n",
        "    dataset_array[2].append(savee_path + '/' + file)\n",
        "  elif char_array[0]=='s':\n",
        "    if char_array[1]=='a':\n",
        "      dataset_array[4].append(savee_path + '/' + file) #sad\n",
        "\n",
        "    else:\n",
        "      continue\n",
        "  elif char_array[0]=='a': #angry\n",
        "    dataset_array[0].append(savee_path +  '/' + file)\n",
        "  elif char_array[0]=='f': #fear\n",
        "    dataset_array[5].append(savee_path +  '/' + file)\n",
        "  elif char_array[0]=='d' : #disgust\n",
        "    dataset_array[1].append(savee_path +  '/' + file)\n",
        "\n",
        "  else:\n",
        "    print(\"Error\")"
      ]
    },
    {
      "cell_type": "markdown",
      "metadata": {
        "id": "pvcBqRNL6RlQ"
      },
      "source": [
        "Converting and labelling data for Crema-D"
      ]
    },
    {
      "cell_type": "code",
      "execution_count": null,
      "metadata": {
        "id": "GM6F6QBW6Ooh"
      },
      "outputs": [],
      "source": [
        "for file in cremad_dirlist:\n",
        "  splitsee1=file.split('.')[0]\n",
        "  splitsee2=splitsee1.split('_')[2]\n",
        "  if splitsee2== 'NEU': #neutral\n",
        "    dataset_array[3].append(cremad_path + '/' + file)\n",
        "\n",
        "  elif splitsee2=='HAP' : #happy\n",
        "    dataset_array[2].append(cremad_path +  '/' + file)\n",
        "  elif splitsee2=='SAD' : #sad\n",
        "    dataset_array[4].append(cremad_path +  '/' + file)\n",
        "  elif splitsee2=='ANG': #angry\n",
        "    dataset_array[0].append(cremad_path + '/' + file)\n",
        "  elif splitsee2=='FEA': #fear\n",
        "    dataset_array[5].append(cremad_path +  '/' + file)\n",
        "  elif splitsee2=='DIS': #disgust\n",
        "    dataset_array[1].append(cremad_path + '/' + file)\n",
        "  else:\n",
        "    print(\"Error\")"
      ]
    },
    {
      "cell_type": "code",
      "execution_count": null,
      "metadata": {
        "colab": {
          "base_uri": "https://localhost:8080/"
        },
        "id": "oMbNO8p2-VFz",
        "outputId": "0347084c-5669-430d-c313-0373279ec1ef"
      },
      "outputs": [
        {
          "output_type": "stream",
          "name": "stdout",
          "text": [
            "['/content/ravdess/Actor_13/03-01-05-01-02-01-13.wav', '/content/ravdess/Actor_13/03-01-05-01-01-02-13.wav', '/content/ravdess/Actor_13/03-01-05-02-02-02-13.wav', '/content/ravdess/Actor_13/03-01-05-02-02-01-13.wav', '/content/ravdess/Actor_13/03-01-05-02-01-01-13.wav', '/content/ravdess/Actor_13/03-01-05-01-02-02-13.wav', '/content/ravdess/Actor_13/03-01-05-02-01-02-13.wav', '/content/ravdess/Actor_13/03-01-05-01-01-01-13.wav', '/content/ravdess/Actor_10/03-01-05-02-02-02-10.wav', '/content/ravdess/Actor_10/03-01-05-02-02-01-10.wav', '/content/ravdess/Actor_10/03-01-05-01-01-02-10.wav', '/content/ravdess/Actor_10/03-01-05-01-02-02-10.wav', '/content/ravdess/Actor_10/03-01-05-01-02-01-10.wav', '/content/ravdess/Actor_10/03-01-05-02-01-01-10.wav', '/content/ravdess/Actor_10/03-01-05-02-01-02-10.wav', '/content/ravdess/Actor_10/03-01-05-01-01-01-10.wav', '/content/ravdess/Actor_11/03-01-05-01-02-02-11.wav', '/content/ravdess/Actor_11/03-01-05-01-02-01-11.wav', '/content/ravdess/Actor_11/03-01-05-02-01-02-11.wav', '/content/ravdess/Actor_11/03-01-05-02-02-02-11.wav', '/content/ravdess/Actor_11/03-01-05-02-01-01-11.wav', '/content/ravdess/Actor_11/03-01-05-01-01-02-11.wav', '/content/ravdess/Actor_11/03-01-05-02-02-01-11.wav', '/content/ravdess/Actor_11/03-01-05-01-01-01-11.wav', '/content/ravdess/Actor_15/03-01-05-01-01-02-15.wav', '/content/ravdess/Actor_15/03-01-05-01-02-01-15.wav', '/content/ravdess/Actor_15/03-01-05-01-01-01-15.wav', '/content/ravdess/Actor_15/03-01-05-01-02-02-15.wav', '/content/ravdess/Actor_15/03-01-05-02-02-01-15.wav', '/content/ravdess/Actor_15/03-01-05-02-01-01-15.wav', '/content/ravdess/Actor_15/03-01-05-02-02-02-15.wav', '/content/ravdess/Actor_15/03-01-05-02-01-02-15.wav', '/content/ravdess/Actor_24/03-01-05-01-01-01-24.wav', '/content/ravdess/Actor_24/03-01-05-01-02-02-24.wav', '/content/ravdess/Actor_24/03-01-05-01-02-01-24.wav', '/content/ravdess/Actor_24/03-01-05-02-01-01-24.wav', '/content/ravdess/Actor_24/03-01-05-02-02-02-24.wav', '/content/ravdess/Actor_24/03-01-05-02-02-01-24.wav', '/content/ravdess/Actor_24/03-01-05-02-01-02-24.wav', '/content/ravdess/Actor_24/03-01-05-01-01-02-24.wav', '/content/ravdess/Actor_03/03-01-05-02-01-02-03.wav', '/content/ravdess/Actor_03/03-01-05-02-02-02-03.wav', '/content/ravdess/Actor_03/03-01-05-01-01-01-03.wav', '/content/ravdess/Actor_03/03-01-05-01-01-02-03.wav', '/content/ravdess/Actor_03/03-01-05-01-02-02-03.wav', '/content/ravdess/Actor_03/03-01-05-01-02-01-03.wav', '/content/ravdess/Actor_03/03-01-05-02-01-01-03.wav', '/content/ravdess/Actor_03/03-01-05-02-02-01-03.wav', '/content/ravdess/Actor_12/03-01-05-02-02-01-12.wav', '/content/ravdess/Actor_12/03-01-05-01-02-01-12.wav', '/content/ravdess/Actor_12/03-01-05-01-01-02-12.wav', '/content/ravdess/Actor_12/03-01-05-02-02-02-12.wav', '/content/ravdess/Actor_12/03-01-05-01-02-02-12.wav', '/content/ravdess/Actor_12/03-01-05-02-01-02-12.wav', '/content/ravdess/Actor_12/03-01-05-01-01-01-12.wav', '/content/ravdess/Actor_12/03-01-05-02-01-01-12.wav', '/content/ravdess/Actor_22/03-01-05-01-01-01-22.wav', '/content/ravdess/Actor_22/03-01-05-01-02-01-22.wav', '/content/ravdess/Actor_22/03-01-05-01-02-02-22.wav', '/content/ravdess/Actor_22/03-01-05-01-01-02-22.wav', '/content/ravdess/Actor_22/03-01-05-02-01-02-22.wav', '/content/ravdess/Actor_22/03-01-05-02-01-01-22.wav', '/content/ravdess/Actor_22/03-01-05-02-02-02-22.wav', '/content/ravdess/Actor_22/03-01-05-02-02-01-22.wav', '/content/ravdess/Actor_16/03-01-05-01-01-02-16.wav', '/content/ravdess/Actor_16/03-01-05-02-02-01-16.wav', '/content/ravdess/Actor_16/03-01-05-01-01-01-16.wav', '/content/ravdess/Actor_16/03-01-05-02-01-01-16.wav', '/content/ravdess/Actor_16/03-01-05-02-01-02-16.wav', '/content/ravdess/Actor_16/03-01-05-01-02-01-16.wav', '/content/ravdess/Actor_16/03-01-05-02-02-02-16.wav', '/content/ravdess/Actor_16/03-01-05-01-02-02-16.wav', '/content/ravdess/Actor_07/03-01-05-01-01-02-07.wav', '/content/ravdess/Actor_07/03-01-05-01-02-01-07.wav', '/content/ravdess/Actor_07/03-01-05-01-02-02-07.wav', '/content/ravdess/Actor_07/03-01-05-02-01-01-07.wav', '/content/ravdess/Actor_07/03-01-05-01-01-01-07.wav', '/content/ravdess/Actor_07/03-01-05-02-01-02-07.wav', '/content/ravdess/Actor_07/03-01-05-02-02-01-07.wav', '/content/ravdess/Actor_07/03-01-05-02-02-02-07.wav', '/content/ravdess/Actor_02/03-01-05-01-01-01-02.wav', '/content/ravdess/Actor_02/03-01-05-01-02-02-02.wav', '/content/ravdess/Actor_02/03-01-05-02-02-01-02.wav', '/content/ravdess/Actor_02/03-01-05-02-02-02-02.wav', '/content/ravdess/Actor_02/03-01-05-01-01-02-02.wav', '/content/ravdess/Actor_02/03-01-05-02-01-02-02.wav', '/content/ravdess/Actor_02/03-01-05-02-01-01-02.wav', '/content/ravdess/Actor_02/03-01-05-01-02-01-02.wav', '/content/ravdess/Actor_05/03-01-05-02-02-01-05.wav', '/content/ravdess/Actor_05/03-01-05-02-01-01-05.wav', '/content/ravdess/Actor_05/03-01-05-01-01-02-05.wav', '/content/ravdess/Actor_05/03-01-05-01-01-01-05.wav', '/content/ravdess/Actor_05/03-01-05-01-02-02-05.wav', '/content/ravdess/Actor_05/03-01-05-01-02-01-05.wav', '/content/ravdess/Actor_05/03-01-05-02-01-02-05.wav', '/content/ravdess/Actor_05/03-01-05-02-02-02-05.wav', '/content/ravdess/Actor_04/03-01-05-02-01-01-04.wav', '/content/ravdess/Actor_04/03-01-05-02-02-02-04.wav', '/content/ravdess/Actor_04/03-01-05-02-02-01-04.wav', '/content/ravdess/Actor_04/03-01-05-02-01-02-04.wav', '/content/ravdess/Actor_04/03-01-05-01-02-01-04.wav', '/content/ravdess/Actor_04/03-01-05-01-02-02-04.wav', '/content/ravdess/Actor_04/03-01-05-01-01-02-04.wav', '/content/ravdess/Actor_04/03-01-05-01-01-01-04.wav', '/content/ravdess/Actor_19/03-01-05-02-02-02-19.wav', '/content/ravdess/Actor_19/03-01-05-02-01-01-19.wav', '/content/ravdess/Actor_19/03-01-05-01-01-02-19.wav', '/content/ravdess/Actor_19/03-01-05-01-02-01-19.wav', '/content/ravdess/Actor_19/03-01-05-02-01-02-19.wav', '/content/ravdess/Actor_19/03-01-05-02-02-01-19.wav', '/content/ravdess/Actor_19/03-01-05-01-02-02-19.wav', '/content/ravdess/Actor_19/03-01-05-01-01-01-19.wav', '/content/ravdess/Actor_18/03-01-05-02-01-01-18.wav', '/content/ravdess/Actor_18/03-01-05-01-02-02-18.wav', '/content/ravdess/Actor_18/03-01-05-02-02-02-18.wav', '/content/ravdess/Actor_18/03-01-05-01-02-01-18.wav', '/content/ravdess/Actor_18/03-01-05-01-01-02-18.wav', '/content/ravdess/Actor_18/03-01-05-01-01-01-18.wav', '/content/ravdess/Actor_18/03-01-05-02-01-02-18.wav', '/content/ravdess/Actor_18/03-01-05-02-02-01-18.wav', '/content/ravdess/Actor_09/03-01-05-02-02-01-09.wav', '/content/ravdess/Actor_09/03-01-05-01-02-01-09.wav', '/content/ravdess/Actor_09/03-01-05-01-01-01-09.wav', '/content/ravdess/Actor_09/03-01-05-02-01-01-09.wav', '/content/ravdess/Actor_09/03-01-05-01-02-02-09.wav', '/content/ravdess/Actor_09/03-01-05-02-01-02-09.wav', '/content/ravdess/Actor_09/03-01-05-02-02-02-09.wav', '/content/ravdess/Actor_09/03-01-05-01-01-02-09.wav', '/content/ravdess/Actor_20/03-01-05-02-02-02-20.wav', '/content/ravdess/Actor_20/03-01-05-02-02-01-20.wav', '/content/ravdess/Actor_20/03-01-05-01-02-01-20.wav', '/content/ravdess/Actor_20/03-01-05-01-02-02-20.wav', '/content/ravdess/Actor_20/03-01-05-01-01-01-20.wav', '/content/ravdess/Actor_20/03-01-05-01-01-02-20.wav', '/content/ravdess/Actor_20/03-01-05-02-01-01-20.wav', '/content/ravdess/Actor_20/03-01-05-02-01-02-20.wav', '/content/ravdess/Actor_21/03-01-05-01-01-02-21.wav', '/content/ravdess/Actor_21/03-01-05-01-01-01-21.wav', '/content/ravdess/Actor_21/03-01-05-01-02-02-21.wav', '/content/ravdess/Actor_21/03-01-05-01-02-01-21.wav', '/content/ravdess/Actor_21/03-01-05-02-01-01-21.wav', '/content/ravdess/Actor_21/03-01-05-02-02-01-21.wav', '/content/ravdess/Actor_21/03-01-05-02-02-02-21.wav', '/content/ravdess/Actor_21/03-01-05-02-01-02-21.wav', '/content/ravdess/Actor_14/03-01-05-02-02-02-14.wav', '/content/ravdess/Actor_14/03-01-05-01-02-01-14.wav', '/content/ravdess/Actor_14/03-01-05-01-01-01-14.wav', '/content/ravdess/Actor_14/03-01-05-02-01-01-14.wav', '/content/ravdess/Actor_14/03-01-05-02-02-01-14.wav', '/content/ravdess/Actor_14/03-01-05-02-01-02-14.wav', '/content/ravdess/Actor_14/03-01-05-01-02-02-14.wav', '/content/ravdess/Actor_14/03-01-05-01-01-02-14.wav', '/content/ravdess/Actor_23/03-01-05-01-02-02-23.wav', '/content/ravdess/Actor_23/03-01-05-01-01-02-23.wav', '/content/ravdess/Actor_23/03-01-05-02-02-02-23.wav', '/content/ravdess/Actor_23/03-01-05-02-01-02-23.wav', '/content/ravdess/Actor_23/03-01-05-02-01-01-23.wav', '/content/ravdess/Actor_23/03-01-05-01-01-01-23.wav', '/content/ravdess/Actor_23/03-01-05-02-02-01-23.wav', '/content/ravdess/Actor_23/03-01-05-01-02-01-23.wav', '/content/ravdess/Actor_06/03-01-05-01-01-01-06.wav', '/content/ravdess/Actor_06/03-01-05-01-02-01-06.wav', '/content/ravdess/Actor_06/03-01-05-02-02-01-06.wav', '/content/ravdess/Actor_06/03-01-05-02-02-02-06.wav', '/content/ravdess/Actor_06/03-01-05-01-02-02-06.wav', '/content/ravdess/Actor_06/03-01-05-01-01-02-06.wav', '/content/ravdess/Actor_06/03-01-05-02-01-01-06.wav', '/content/ravdess/Actor_06/03-01-05-02-01-02-06.wav', '/content/ravdess/Actor_01/03-01-05-01-01-01-01.wav', '/content/ravdess/Actor_01/03-01-05-01-01-02-01.wav', '/content/ravdess/Actor_01/03-01-05-02-01-01-01.wav', '/content/ravdess/Actor_01/03-01-05-02-02-02-01.wav', '/content/ravdess/Actor_01/03-01-05-01-02-02-01.wav', '/content/ravdess/Actor_01/03-01-05-02-02-01-01.wav', '/content/ravdess/Actor_01/03-01-05-01-02-01-01.wav', '/content/ravdess/Actor_01/03-01-05-02-01-02-01.wav', '/content/ravdess/Actor_17/03-01-05-02-01-01-17.wav', '/content/ravdess/Actor_17/03-01-05-01-02-02-17.wav', '/content/ravdess/Actor_17/03-01-05-02-02-01-17.wav', '/content/ravdess/Actor_17/03-01-05-01-01-02-17.wav', '/content/ravdess/Actor_17/03-01-05-02-01-02-17.wav', '/content/ravdess/Actor_17/03-01-05-01-01-01-17.wav', '/content/ravdess/Actor_17/03-01-05-01-02-01-17.wav', '/content/ravdess/Actor_17/03-01-05-02-02-02-17.wav', '/content/ravdess/Actor_08/03-01-05-01-01-02-08.wav', '/content/ravdess/Actor_08/03-01-05-02-02-02-08.wav', '/content/ravdess/Actor_08/03-01-05-02-01-01-08.wav', '/content/ravdess/Actor_08/03-01-05-02-01-02-08.wav', '/content/ravdess/Actor_08/03-01-05-01-02-01-08.wav', '/content/ravdess/Actor_08/03-01-05-01-01-01-08.wav', '/content/ravdess/Actor_08/03-01-05-01-02-02-08.wav', '/content/ravdess/Actor_08/03-01-05-02-02-01-08.wav']\n"
          ]
        }
      ],
      "source": [
        "print(dataset_array[0])"
      ]
    },
    {
      "cell_type": "code",
      "execution_count": null,
      "metadata": {
        "colab": {
          "base_uri": "https://localhost:8080/"
        },
        "id": "JkyRqJI7tfsl",
        "outputId": "80096084-801f-4b93-fcd7-fef23bcd5c29"
      },
      "outputs": [
        {
          "name": "stdout",
          "output_type": "stream",
          "text": [
            "['/content/ravdess/Actor_08/03-01-07-02-01-01-08.wav', '/content/ravdess/Actor_08/03-01-07-02-02-02-08.wav', '/content/ravdess/Actor_08/03-01-07-02-02-01-08.wav', '/content/ravdess/Actor_08/03-01-07-01-01-02-08.wav', '/content/ravdess/Actor_08/03-01-07-01-01-01-08.wav', '/content/ravdess/Actor_08/03-01-07-01-02-01-08.wav', '/content/ravdess/Actor_08/03-01-07-02-01-02-08.wav', '/content/ravdess/Actor_08/03-01-07-01-02-02-08.wav', '/content/ravdess/Actor_12/03-01-07-02-02-02-12.wav', '/content/ravdess/Actor_12/03-01-07-02-02-01-12.wav', '/content/ravdess/Actor_12/03-01-07-02-01-02-12.wav', '/content/ravdess/Actor_12/03-01-07-01-01-01-12.wav', '/content/ravdess/Actor_12/03-01-07-01-02-01-12.wav', '/content/ravdess/Actor_12/03-01-07-01-01-02-12.wav', '/content/ravdess/Actor_12/03-01-07-01-02-02-12.wav', '/content/ravdess/Actor_12/03-01-07-02-01-01-12.wav', '/content/ravdess/Actor_18/03-01-07-02-02-01-18.wav', '/content/ravdess/Actor_18/03-01-07-02-01-01-18.wav', '/content/ravdess/Actor_18/03-01-07-02-01-02-18.wav', '/content/ravdess/Actor_18/03-01-07-01-02-01-18.wav', '/content/ravdess/Actor_18/03-01-07-01-01-01-18.wav', '/content/ravdess/Actor_18/03-01-07-01-01-02-18.wav', '/content/ravdess/Actor_18/03-01-07-02-02-02-18.wav', '/content/ravdess/Actor_18/03-01-07-01-02-02-18.wav', '/content/ravdess/Actor_01/03-01-07-02-02-01-01.wav', '/content/ravdess/Actor_01/03-01-07-01-02-02-01.wav', '/content/ravdess/Actor_01/03-01-07-02-01-02-01.wav', '/content/ravdess/Actor_01/03-01-07-01-01-01-01.wav', '/content/ravdess/Actor_01/03-01-07-01-01-02-01.wav', '/content/ravdess/Actor_01/03-01-07-01-02-01-01.wav', '/content/ravdess/Actor_01/03-01-07-02-01-01-01.wav', '/content/ravdess/Actor_01/03-01-07-02-02-02-01.wav', '/content/ravdess/Actor_21/03-01-07-01-01-02-21.wav', '/content/ravdess/Actor_21/03-01-07-02-02-02-21.wav', '/content/ravdess/Actor_21/03-01-07-02-01-01-21.wav', '/content/ravdess/Actor_21/03-01-07-02-01-02-21.wav', '/content/ravdess/Actor_21/03-01-07-02-02-01-21.wav', '/content/ravdess/Actor_21/03-01-07-01-02-02-21.wav', '/content/ravdess/Actor_21/03-01-07-01-02-01-21.wav', '/content/ravdess/Actor_21/03-01-07-01-01-01-21.wav', '/content/ravdess/Actor_23/03-01-07-02-02-02-23.wav', '/content/ravdess/Actor_23/03-01-07-02-02-01-23.wav', '/content/ravdess/Actor_23/03-01-07-01-01-01-23.wav', '/content/ravdess/Actor_23/03-01-07-01-02-02-23.wav', '/content/ravdess/Actor_23/03-01-07-02-01-01-23.wav', '/content/ravdess/Actor_23/03-01-07-02-01-02-23.wav', '/content/ravdess/Actor_23/03-01-07-01-01-02-23.wav', '/content/ravdess/Actor_23/03-01-07-01-02-01-23.wav', '/content/ravdess/Actor_10/03-01-07-01-02-01-10.wav', '/content/ravdess/Actor_10/03-01-07-02-01-01-10.wav', '/content/ravdess/Actor_10/03-01-07-01-01-01-10.wav', '/content/ravdess/Actor_10/03-01-07-01-02-02-10.wav', '/content/ravdess/Actor_10/03-01-07-02-01-02-10.wav', '/content/ravdess/Actor_10/03-01-07-01-01-02-10.wav', '/content/ravdess/Actor_10/03-01-07-02-02-02-10.wav', '/content/ravdess/Actor_10/03-01-07-02-02-01-10.wav', '/content/ravdess/Actor_03/03-01-07-01-01-02-03.wav', '/content/ravdess/Actor_03/03-01-07-02-02-02-03.wav', '/content/ravdess/Actor_03/03-01-07-01-02-01-03.wav', '/content/ravdess/Actor_03/03-01-07-01-01-01-03.wav', '/content/ravdess/Actor_03/03-01-07-02-02-01-03.wav', '/content/ravdess/Actor_03/03-01-07-02-01-02-03.wav', '/content/ravdess/Actor_03/03-01-07-01-02-02-03.wav', '/content/ravdess/Actor_03/03-01-07-02-01-01-03.wav', '/content/ravdess/Actor_11/03-01-07-01-01-01-11.wav', '/content/ravdess/Actor_11/03-01-07-02-01-01-11.wav', '/content/ravdess/Actor_11/03-01-07-02-02-01-11.wav', '/content/ravdess/Actor_11/03-01-07-01-01-02-11.wav', '/content/ravdess/Actor_11/03-01-07-01-02-02-11.wav', '/content/ravdess/Actor_11/03-01-07-02-01-02-11.wav', '/content/ravdess/Actor_11/03-01-07-02-02-02-11.wav', '/content/ravdess/Actor_11/03-01-07-01-02-01-11.wav', '/content/ravdess/Actor_15/03-01-07-01-02-01-15.wav', '/content/ravdess/Actor_15/03-01-07-02-01-02-15.wav', '/content/ravdess/Actor_15/03-01-07-01-02-02-15.wav', '/content/ravdess/Actor_15/03-01-07-02-02-01-15.wav', '/content/ravdess/Actor_15/03-01-07-01-01-01-15.wav', '/content/ravdess/Actor_15/03-01-07-02-01-01-15.wav', '/content/ravdess/Actor_15/03-01-07-01-01-02-15.wav', '/content/ravdess/Actor_15/03-01-07-02-02-02-15.wav', '/content/ravdess/Actor_14/03-01-07-01-01-01-14.wav', '/content/ravdess/Actor_14/03-01-07-02-01-01-14.wav', '/content/ravdess/Actor_14/03-01-07-01-02-01-14.wav', '/content/ravdess/Actor_14/03-01-07-02-02-01-14.wav', '/content/ravdess/Actor_14/03-01-07-01-02-02-14.wav', '/content/ravdess/Actor_14/03-01-07-02-02-02-14.wav', '/content/ravdess/Actor_14/03-01-07-01-01-02-14.wav', '/content/ravdess/Actor_14/03-01-07-02-01-02-14.wav', '/content/ravdess/Actor_02/03-01-07-01-01-02-02.wav', '/content/ravdess/Actor_02/03-01-07-01-02-02-02.wav', '/content/ravdess/Actor_02/03-01-07-01-01-01-02.wav', '/content/ravdess/Actor_02/03-01-07-01-02-01-02.wav', '/content/ravdess/Actor_02/03-01-07-02-01-01-02.wav', '/content/ravdess/Actor_02/03-01-07-02-01-02-02.wav', '/content/ravdess/Actor_02/03-01-07-02-02-01-02.wav', '/content/ravdess/Actor_02/03-01-07-02-02-02-02.wav', '/content/ravdess/Actor_13/03-01-07-01-01-01-13.wav', '/content/ravdess/Actor_13/03-01-07-01-01-02-13.wav', '/content/ravdess/Actor_13/03-01-07-02-01-01-13.wav', '/content/ravdess/Actor_13/03-01-07-02-01-02-13.wav', '/content/ravdess/Actor_13/03-01-07-02-02-02-13.wav', '/content/ravdess/Actor_13/03-01-07-02-02-01-13.wav', '/content/ravdess/Actor_13/03-01-07-01-02-01-13.wav', '/content/ravdess/Actor_13/03-01-07-01-02-02-13.wav', '/content/ravdess/Actor_19/03-01-07-01-02-01-19.wav', '/content/ravdess/Actor_19/03-01-07-01-02-02-19.wav', '/content/ravdess/Actor_19/03-01-07-02-02-01-19.wav', '/content/ravdess/Actor_19/03-01-07-01-01-01-19.wav', '/content/ravdess/Actor_19/03-01-07-01-01-02-19.wav', '/content/ravdess/Actor_19/03-01-07-02-02-02-19.wav', '/content/ravdess/Actor_19/03-01-07-02-01-02-19.wav', '/content/ravdess/Actor_19/03-01-07-02-01-01-19.wav', '/content/ravdess/Actor_06/03-01-07-01-01-01-06.wav', '/content/ravdess/Actor_06/03-01-07-02-02-01-06.wav', '/content/ravdess/Actor_06/03-01-07-02-01-02-06.wav', '/content/ravdess/Actor_06/03-01-07-01-01-02-06.wav', '/content/ravdess/Actor_06/03-01-07-01-02-02-06.wav', '/content/ravdess/Actor_06/03-01-07-02-01-01-06.wav', '/content/ravdess/Actor_06/03-01-07-01-02-01-06.wav', '/content/ravdess/Actor_06/03-01-07-02-02-02-06.wav', '/content/ravdess/Actor_04/03-01-07-01-02-02-04.wav', '/content/ravdess/Actor_04/03-01-07-02-02-02-04.wav', '/content/ravdess/Actor_04/03-01-07-01-02-01-04.wav', '/content/ravdess/Actor_04/03-01-07-01-01-01-04.wav', '/content/ravdess/Actor_04/03-01-07-02-01-02-04.wav', '/content/ravdess/Actor_04/03-01-07-02-01-01-04.wav', '/content/ravdess/Actor_04/03-01-07-02-02-01-04.wav', '/content/ravdess/Actor_04/03-01-07-01-01-02-04.wav', '/content/ravdess/Actor_16/03-01-07-02-01-01-16.wav', '/content/ravdess/Actor_16/03-01-07-01-02-01-16.wav', '/content/ravdess/Actor_16/03-01-07-01-01-02-16.wav', '/content/ravdess/Actor_16/03-01-07-01-02-02-16.wav', '/content/ravdess/Actor_16/03-01-07-02-02-02-16.wav', '/content/ravdess/Actor_16/03-01-07-02-02-01-16.wav', '/content/ravdess/Actor_16/03-01-07-02-01-02-16.wav', '/content/ravdess/Actor_16/03-01-07-01-01-01-16.wav', '/content/ravdess/Actor_09/03-01-07-02-02-02-09.wav', '/content/ravdess/Actor_09/03-01-07-02-02-01-09.wav', '/content/ravdess/Actor_09/03-01-07-01-02-01-09.wav', '/content/ravdess/Actor_09/03-01-07-01-01-02-09.wav', '/content/ravdess/Actor_09/03-01-07-02-01-01-09.wav', '/content/ravdess/Actor_09/03-01-07-01-02-02-09.wav', '/content/ravdess/Actor_09/03-01-07-01-01-01-09.wav', '/content/ravdess/Actor_09/03-01-07-02-01-02-09.wav', '/content/ravdess/Actor_20/03-01-07-02-01-01-20.wav', '/content/ravdess/Actor_20/03-01-07-02-02-02-20.wav', '/content/ravdess/Actor_20/03-01-07-02-01-02-20.wav', '/content/ravdess/Actor_20/03-01-07-01-01-01-20.wav', '/content/ravdess/Actor_20/03-01-07-01-02-01-20.wav', '/content/ravdess/Actor_20/03-01-07-01-02-02-20.wav', '/content/ravdess/Actor_20/03-01-07-02-02-01-20.wav', '/content/ravdess/Actor_20/03-01-07-01-01-02-20.wav', '/content/ravdess/Actor_07/03-01-07-01-01-02-07.wav', '/content/ravdess/Actor_07/03-01-07-01-01-01-07.wav', '/content/ravdess/Actor_07/03-01-07-02-02-02-07.wav', '/content/ravdess/Actor_07/03-01-07-02-01-01-07.wav', '/content/ravdess/Actor_07/03-01-07-01-02-02-07.wav', '/content/ravdess/Actor_07/03-01-07-02-02-01-07.wav', '/content/ravdess/Actor_07/03-01-07-01-02-01-07.wav', '/content/ravdess/Actor_07/03-01-07-02-01-02-07.wav', '/content/ravdess/Actor_24/03-01-07-01-02-02-24.wav', '/content/ravdess/Actor_24/03-01-07-02-02-02-24.wav', '/content/ravdess/Actor_24/03-01-07-02-02-01-24.wav', '/content/ravdess/Actor_24/03-01-07-02-01-01-24.wav', '/content/ravdess/Actor_24/03-01-07-01-02-01-24.wav', '/content/ravdess/Actor_24/03-01-07-01-01-02-24.wav', '/content/ravdess/Actor_24/03-01-07-02-01-02-24.wav', '/content/ravdess/Actor_24/03-01-07-01-01-01-24.wav', '/content/ravdess/Actor_17/03-01-07-01-01-02-17.wav', '/content/ravdess/Actor_17/03-01-07-02-01-02-17.wav', '/content/ravdess/Actor_17/03-01-07-01-01-01-17.wav', '/content/ravdess/Actor_17/03-01-07-01-02-02-17.wav', '/content/ravdess/Actor_17/03-01-07-02-02-01-17.wav', '/content/ravdess/Actor_17/03-01-07-02-02-02-17.wav', '/content/ravdess/Actor_17/03-01-07-01-02-01-17.wav', '/content/ravdess/Actor_17/03-01-07-02-01-01-17.wav', '/content/ravdess/Actor_22/03-01-07-01-01-01-22.wav', '/content/ravdess/Actor_22/03-01-07-02-01-02-22.wav', '/content/ravdess/Actor_22/03-01-07-01-01-02-22.wav', '/content/ravdess/Actor_22/03-01-07-02-02-01-22.wav', '/content/ravdess/Actor_22/03-01-07-02-01-01-22.wav', '/content/ravdess/Actor_22/03-01-07-01-02-01-22.wav', '/content/ravdess/Actor_22/03-01-07-01-02-02-22.wav', '/content/ravdess/Actor_22/03-01-07-02-02-02-22.wav', '/content/ravdess/Actor_05/03-01-07-02-01-02-05.wav', '/content/ravdess/Actor_05/03-01-07-01-02-01-05.wav', '/content/ravdess/Actor_05/03-01-07-01-01-01-05.wav', '/content/ravdess/Actor_05/03-01-07-02-02-01-05.wav', '/content/ravdess/Actor_05/03-01-07-02-02-02-05.wav', '/content/ravdess/Actor_05/03-01-07-01-02-02-05.wav', '/content/ravdess/Actor_05/03-01-07-02-01-01-05.wav', '/content/ravdess/Actor_05/03-01-07-01-01-02-05.wav', '/content/TESS_Toronto_emotional_speech_set_data/YAF_disgust/YAF_tip_disgust.wav', '/content/TESS_Toronto_emotional_speech_set_data/YAF_disgust/YAF_pass_disgust.wav', '/content/TESS_Toronto_emotional_speech_set_data/YAF_disgust/YAF_sure_disgust.wav', '/content/TESS_Toronto_emotional_speech_set_data/YAF_disgust/YAF_check_disgust.wav', '/content/TESS_Toronto_emotional_speech_set_data/YAF_disgust/YAF_tape_disgust.wav', '/content/TESS_Toronto_emotional_speech_set_data/YAF_disgust/YAF_rush_disgust.wav', '/content/TESS_Toronto_emotional_speech_set_data/YAF_disgust/YAF_met_disgust.wav', '/content/TESS_Toronto_emotional_speech_set_data/YAF_disgust/YAF_food_disgust.wav', '/content/TESS_Toronto_emotional_speech_set_data/YAF_disgust/YAF_long_disgust.wav', '/content/TESS_Toronto_emotional_speech_set_data/YAF_disgust/YAF_keep_disgust.wav', '/content/TESS_Toronto_emotional_speech_set_data/YAF_disgust/YAF_fit_disgust.wav', '/content/TESS_Toronto_emotional_speech_set_data/YAF_disgust/YAF_pole_disgust.wav', '/content/TESS_Toronto_emotional_speech_set_data/YAF_disgust/YAF_get_disgust.wav', '/content/TESS_Toronto_emotional_speech_set_data/YAF_disgust/YAF_rose_disgust.wav', '/content/TESS_Toronto_emotional_speech_set_data/YAF_disgust/YAF_tough_disgust.wav', '/content/TESS_Toronto_emotional_speech_set_data/YAF_disgust/YAF_whip_disgust.wav', '/content/TESS_Toronto_emotional_speech_set_data/YAF_disgust/YAF_wire_disgust.wav', '/content/TESS_Toronto_emotional_speech_set_data/YAF_disgust/YAF_room_disgust.wav', '/content/TESS_Toronto_emotional_speech_set_data/YAF_disgust/YAF_fail_disgust.wav', '/content/TESS_Toronto_emotional_speech_set_data/YAF_disgust/YAF_when_disgust.wav', '/content/TESS_Toronto_emotional_speech_set_data/YAF_disgust/YAF_laud_disgust.wav', '/content/TESS_Toronto_emotional_speech_set_data/YAF_disgust/YAF_wag_disgust.wav', '/content/TESS_Toronto_emotional_speech_set_data/YAF_disgust/YAF_cheek_disgust.wav', '/content/TESS_Toronto_emotional_speech_set_data/YAF_disgust/YAF_hall_disgust.wav', '/content/TESS_Toronto_emotional_speech_set_data/YAF_disgust/YAF_bone_disgust.wav', '/content/TESS_Toronto_emotional_speech_set_data/YAF_disgust/YAF_hire_disgust.wav', '/content/TESS_Toronto_emotional_speech_set_data/YAF_disgust/YAF_life_disgust.wav', '/content/TESS_Toronto_emotional_speech_set_data/YAF_disgust/YAF_wife_disgust.wav', '/content/TESS_Toronto_emotional_speech_set_data/YAF_disgust/YAF_gaze_disgust.wav', '/content/TESS_Toronto_emotional_speech_set_data/YAF_disgust/YAF_lot_disgust.wav', '/content/TESS_Toronto_emotional_speech_set_data/YAF_disgust/YAF_white_disgust.wav', '/content/TESS_Toronto_emotional_speech_set_data/YAF_disgust/YAF_moon_disgust.wav', '/content/TESS_Toronto_emotional_speech_set_data/YAF_disgust/YAF_lid_disgust.wav', '/content/TESS_Toronto_emotional_speech_set_data/YAF_disgust/YAF_germ_disgust.wav', '/content/TESS_Toronto_emotional_speech_set_data/YAF_disgust/YAF_keg_disgust.wav', '/content/TESS_Toronto_emotional_speech_set_data/YAF_disgust/YAF_size_disgust.wav', '/content/TESS_Toronto_emotional_speech_set_data/YAF_disgust/YAF_walk_disgust.wav', '/content/TESS_Toronto_emotional_speech_set_data/YAF_disgust/YAF_nag_disgust.wav', '/content/TESS_Toronto_emotional_speech_set_data/YAF_disgust/YAF_dab_disgust.wav', '/content/TESS_Toronto_emotional_speech_set_data/YAF_disgust/YAF_wash_disgust.wav', '/content/TESS_Toronto_emotional_speech_set_data/YAF_disgust/YAF_match_disgust.wav', '/content/TESS_Toronto_emotional_speech_set_data/YAF_disgust/YAF_seize_disgust.wav', '/content/TESS_Toronto_emotional_speech_set_data/YAF_disgust/YAF_gin_disgust.wav', '/content/TESS_Toronto_emotional_speech_set_data/YAF_disgust/YAF_such_disgust.wav', '/content/TESS_Toronto_emotional_speech_set_data/YAF_disgust/YAF_chat_disgust.wav', '/content/TESS_Toronto_emotional_speech_set_data/YAF_disgust/YAF_hush_disgust.wav', '/content/TESS_Toronto_emotional_speech_set_data/YAF_disgust/YAF_youth_disgust.wav', '/content/TESS_Toronto_emotional_speech_set_data/YAF_disgust/YAF_dip_disgust.wav', '/content/TESS_Toronto_emotional_speech_set_data/YAF_disgust/YAF_rough_disgust.wav', '/content/TESS_Toronto_emotional_speech_set_data/YAF_disgust/YAF_note_disgust.wav', '/content/TESS_Toronto_emotional_speech_set_data/YAF_disgust/YAF_loaf_disgust.wav', '/content/TESS_Toronto_emotional_speech_set_data/YAF_disgust/YAF_voice_disgust.wav', '/content/TESS_Toronto_emotional_speech_set_data/YAF_disgust/YAF_vote_disgust.wav', '/content/TESS_Toronto_emotional_speech_set_data/YAF_disgust/YAF_shall_disgust.wav', '/content/TESS_Toronto_emotional_speech_set_data/YAF_disgust/YAF_judge_disgust.wav', '/content/TESS_Toronto_emotional_speech_set_data/YAF_disgust/YAF_page_disgust.wav', '/content/TESS_Toronto_emotional_speech_set_data/YAF_disgust/YAF_neat_disgust.wav', '/content/TESS_Toronto_emotional_speech_set_data/YAF_disgust/YAF_have_disgust.wav', '/content/TESS_Toronto_emotional_speech_set_data/YAF_disgust/YAF_fall_disgust.wav', '/content/TESS_Toronto_emotional_speech_set_data/YAF_disgust/YAF_witch_disgust.wav', '/content/TESS_Toronto_emotional_speech_set_data/YAF_disgust/YAF_turn_disgust.wav', '/content/TESS_Toronto_emotional_speech_set_data/YAF_disgust/YAF_knock_disgust.wav', '/content/TESS_Toronto_emotional_speech_set_data/YAF_disgust/YAF_live_disgust.wav', '/content/TESS_Toronto_emotional_speech_set_data/YAF_disgust/YAF_hole_disgust.wav', '/content/TESS_Toronto_emotional_speech_set_data/YAF_disgust/YAF_peg_disgust.wav', '/content/TESS_Toronto_emotional_speech_set_data/YAF_disgust/YAF_shirt_disgust.wav', '/content/TESS_Toronto_emotional_speech_set_data/YAF_disgust/YAF_lose_disgust.wav', '/content/TESS_Toronto_emotional_speech_set_data/YAF_disgust/YAF_goal_disgust.wav', '/content/TESS_Toronto_emotional_speech_set_data/YAF_disgust/YAF_shout_disgust.wav', '/content/TESS_Toronto_emotional_speech_set_data/YAF_disgust/YAF_thin_disgust.wav', '/content/TESS_Toronto_emotional_speech_set_data/YAF_disgust/YAF_jail_disgust.wav', '/content/TESS_Toronto_emotional_speech_set_data/YAF_disgust/YAF_yes_disgust.wav', '/content/TESS_Toronto_emotional_speech_set_data/YAF_disgust/YAF_ring_disgust.wav', '/content/TESS_Toronto_emotional_speech_set_data/YAF_disgust/YAF_lore_disgust.wav', '/content/TESS_Toronto_emotional_speech_set_data/YAF_disgust/YAF_hit_disgust.wav', '/content/TESS_Toronto_emotional_speech_set_data/YAF_disgust/YAF_mood_disgust.wav', '/content/TESS_Toronto_emotional_speech_set_data/YAF_disgust/YAF_calm_disgust.wav', '/content/TESS_Toronto_emotional_speech_set_data/YAF_disgust/YAF_death_disgust.wav', '/content/TESS_Toronto_emotional_speech_set_data/YAF_disgust/YAF_pain_disgust.wav', '/content/TESS_Toronto_emotional_speech_set_data/YAF_disgust/YAF_sour_disgust.wav', '/content/TESS_Toronto_emotional_speech_set_data/YAF_disgust/YAF_red_disgust.wav', '/content/TESS_Toronto_emotional_speech_set_data/YAF_disgust/YAF_yearn_disgust.wav', '/content/TESS_Toronto_emotional_speech_set_data/YAF_disgust/YAF_mill_disgust.wav', '/content/TESS_Toronto_emotional_speech_set_data/YAF_disgust/YAF_beg_disgust.wav', '/content/TESS_Toronto_emotional_speech_set_data/YAF_disgust/YAF_home_disgust.wav', '/content/TESS_Toronto_emotional_speech_set_data/YAF_disgust/YAF_team_disgust.wav', '/content/TESS_Toronto_emotional_speech_set_data/YAF_disgust/YAF_back_disgust.wav', '/content/TESS_Toronto_emotional_speech_set_data/YAF_disgust/YAF_five_disgust.wav', '/content/TESS_Toronto_emotional_speech_set_data/YAF_disgust/YAF_phone_disgust.wav', '/content/TESS_Toronto_emotional_speech_set_data/YAF_disgust/YAF_puff_disgust.wav', '/content/TESS_Toronto_emotional_speech_set_data/YAF_disgust/YAF_rot_disgust.wav', '/content/TESS_Toronto_emotional_speech_set_data/YAF_disgust/YAF_date_disgust.wav', '/content/TESS_Toronto_emotional_speech_set_data/YAF_disgust/YAF_far_disgust.wav', '/content/TESS_Toronto_emotional_speech_set_data/YAF_disgust/YAF_learn_disgust.wav', '/content/TESS_Toronto_emotional_speech_set_data/YAF_disgust/YAF_void_disgust.wav', '/content/TESS_Toronto_emotional_speech_set_data/YAF_disgust/YAF_dead_disgust.wav', '/content/TESS_Toronto_emotional_speech_set_data/YAF_disgust/YAF_rat_disgust.wav', '/content/TESS_Toronto_emotional_speech_set_data/YAF_disgust/YAF_pearl_disgust.wav', '/content/TESS_Toronto_emotional_speech_set_data/YAF_disgust/YAF_cab_disgust.wav', '/content/TESS_Toronto_emotional_speech_set_data/YAF_disgust/YAF_mob_disgust.wav', '/content/TESS_Toronto_emotional_speech_set_data/YAF_disgust/YAF_raid_disgust.wav', '/content/TESS_Toronto_emotional_speech_set_data/YAF_disgust/YAF_came_disgust.wav', '/content/TESS_Toronto_emotional_speech_set_data/YAF_disgust/YAF_raise_disgust.wav', '/content/TESS_Toronto_emotional_speech_set_data/YAF_disgust/YAF_lease_disgust.wav', '/content/TESS_Toronto_emotional_speech_set_data/YAF_disgust/YAF_burn_disgust.wav', '/content/TESS_Toronto_emotional_speech_set_data/YAF_disgust/YAF_goose_disgust.wav', '/content/TESS_Toronto_emotional_speech_set_data/YAF_disgust/YAF_sail_disgust.wav', '/content/TESS_Toronto_emotional_speech_set_data/YAF_disgust/YAF_juice_disgust.wav', '/content/TESS_Toronto_emotional_speech_set_data/YAF_disgust/YAF_sheep_disgust.wav', '/content/TESS_Toronto_emotional_speech_set_data/YAF_disgust/YAF_young_disgust.wav', '/content/TESS_Toronto_emotional_speech_set_data/YAF_disgust/YAF_rag_disgust.wav', '/content/TESS_Toronto_emotional_speech_set_data/YAF_disgust/YAF_mouse_disgust.wav', '/content/TESS_Toronto_emotional_speech_set_data/YAF_disgust/YAF_thought_disgust.wav', '/content/TESS_Toronto_emotional_speech_set_data/YAF_disgust/YAF_tell_disgust.wav', '/content/TESS_Toronto_emotional_speech_set_data/YAF_disgust/YAF_kick_disgust.wav', '/content/TESS_Toronto_emotional_speech_set_data/YAF_disgust/YAF_gas_disgust.wav', '/content/TESS_Toronto_emotional_speech_set_data/YAF_disgust/YAF_good_disgust.wav', '/content/TESS_Toronto_emotional_speech_set_data/YAF_disgust/YAF_sell_disgust.wav', '/content/TESS_Toronto_emotional_speech_set_data/YAF_disgust/YAF_bath_disgust.wav', '/content/TESS_Toronto_emotional_speech_set_data/YAF_disgust/YAF_should_disgust.wav', '/content/TESS_Toronto_emotional_speech_set_data/YAF_disgust/YAF_book_disgust.wav', '/content/TESS_Toronto_emotional_speech_set_data/YAF_disgust/YAF_search_disgust.wav', '/content/TESS_Toronto_emotional_speech_set_data/YAF_disgust/YAF_pool_disgust.wav', '/content/TESS_Toronto_emotional_speech_set_data/YAF_disgust/YAF_read_disgust.wav', '/content/TESS_Toronto_emotional_speech_set_data/YAF_disgust/YAF_door_disgust.wav', '/content/TESS_Toronto_emotional_speech_set_data/YAF_disgust/YAF_time_disgust.wav', '/content/TESS_Toronto_emotional_speech_set_data/YAF_disgust/YAF_nice_disgust.wav', '/content/TESS_Toronto_emotional_speech_set_data/YAF_disgust/YAF_base_disgust.wav', '/content/TESS_Toronto_emotional_speech_set_data/YAF_disgust/YAF_luck_disgust.wav', '/content/TESS_Toronto_emotional_speech_set_data/YAF_disgust/YAF_soap_disgust.wav', '/content/TESS_Toronto_emotional_speech_set_data/YAF_disgust/YAF_kill_disgust.wav', '/content/TESS_Toronto_emotional_speech_set_data/YAF_disgust/YAF_hurl_disgust.wav', '/content/TESS_Toronto_emotional_speech_set_data/YAF_disgust/YAF_road_disgust.wav', '/content/TESS_Toronto_emotional_speech_set_data/YAF_disgust/YAF_wheat_disgust.wav', '/content/TESS_Toronto_emotional_speech_set_data/YAF_disgust/YAF_jar_disgust.wav', '/content/TESS_Toronto_emotional_speech_set_data/YAF_disgust/YAF_said_disgust.wav', '/content/TESS_Toronto_emotional_speech_set_data/YAF_disgust/YAF_keen_disgust.wav', '/content/TESS_Toronto_emotional_speech_set_data/YAF_disgust/YAF_bean_disgust.wav', '/content/TESS_Toronto_emotional_speech_set_data/YAF_disgust/YAF_perch_disgust.wav', '/content/TESS_Toronto_emotional_speech_set_data/YAF_disgust/YAF_chair_disgust.wav', '/content/TESS_Toronto_emotional_speech_set_data/YAF_disgust/YAF_gap_disgust.wav', '/content/TESS_Toronto_emotional_speech_set_data/YAF_disgust/YAF_mess_disgust.wav', '/content/TESS_Toronto_emotional_speech_set_data/YAF_disgust/YAF_hate_disgust.wav', '/content/TESS_Toronto_emotional_speech_set_data/YAF_disgust/YAF_love_disgust.wav', '/content/TESS_Toronto_emotional_speech_set_data/YAF_disgust/YAF_dime_disgust.wav', '/content/TESS_Toronto_emotional_speech_set_data/YAF_disgust/YAF_soup_disgust.wav', '/content/TESS_Toronto_emotional_speech_set_data/YAF_disgust/YAF_merge_disgust.wav', '/content/TESS_Toronto_emotional_speech_set_data/YAF_disgust/YAF_bite_disgust.wav', '/content/TESS_Toronto_emotional_speech_set_data/YAF_disgust/YAF_name_disgust.wav', '/content/TESS_Toronto_emotional_speech_set_data/YAF_disgust/YAF_take_disgust.wav', '/content/TESS_Toronto_emotional_speech_set_data/YAF_disgust/YAF_reach_disgust.wav', '/content/TESS_Toronto_emotional_speech_set_data/YAF_disgust/YAF_deep_disgust.wav', '/content/TESS_Toronto_emotional_speech_set_data/YAF_disgust/YAF_bar_disgust.wav', '/content/TESS_Toronto_emotional_speech_set_data/YAF_disgust/YAF_jug_disgust.wav', '/content/TESS_Toronto_emotional_speech_set_data/YAF_disgust/YAF_thumb_disgust.wav', '/content/TESS_Toronto_emotional_speech_set_data/YAF_disgust/YAF_limb_disgust.wav', '/content/TESS_Toronto_emotional_speech_set_data/YAF_disgust/YAF_haze_disgust.wav', '/content/TESS_Toronto_emotional_speech_set_data/YAF_disgust/YAF_sub_disgust.wav', '/content/TESS_Toronto_emotional_speech_set_data/YAF_disgust/YAF_tire_disgust.wav', '/content/TESS_Toronto_emotional_speech_set_data/YAF_disgust/YAF_south_disgust.wav', '/content/TESS_Toronto_emotional_speech_set_data/YAF_disgust/YAF_chief_disgust.wav', '/content/TESS_Toronto_emotional_speech_set_data/YAF_disgust/YAF_dog_disgust.wav', '/content/TESS_Toronto_emotional_speech_set_data/YAF_disgust/YAF_vine_disgust.wav', '/content/TESS_Toronto_emotional_speech_set_data/YAF_disgust/YAF_gun_disgust.wav', '/content/TESS_Toronto_emotional_speech_set_data/YAF_disgust/YAF_cause_disgust.wav', '/content/TESS_Toronto_emotional_speech_set_data/YAF_disgust/YAF_talk_disgust.wav', '/content/TESS_Toronto_emotional_speech_set_data/YAF_disgust/YAF_dodge_disgust.wav', '/content/TESS_Toronto_emotional_speech_set_data/YAF_disgust/YAF_shack_disgust.wav', '/content/TESS_Toronto_emotional_speech_set_data/YAF_disgust/YAF_cool_disgust.wav', '/content/TESS_Toronto_emotional_speech_set_data/YAF_disgust/YAF_bought_disgust.wav', '/content/TESS_Toronto_emotional_speech_set_data/YAF_disgust/YAF_numb_disgust.wav', '/content/TESS_Toronto_emotional_speech_set_data/YAF_disgust/YAF_mode_disgust.wav', '/content/TESS_Toronto_emotional_speech_set_data/YAF_disgust/YAF_week_disgust.wav', '/content/TESS_Toronto_emotional_speech_set_data/YAF_disgust/YAF_chalk_disgust.wav', '/content/TESS_Toronto_emotional_speech_set_data/YAF_disgust/YAF_ditch_disgust.wav', '/content/TESS_Toronto_emotional_speech_set_data/YAF_disgust/YAF_mop_disgust.wav', '/content/TESS_Toronto_emotional_speech_set_data/YAF_disgust/YAF_which_disgust.wav', '/content/TESS_Toronto_emotional_speech_set_data/YAF_disgust/YAF_ripe_disgust.wav', '/content/TESS_Toronto_emotional_speech_set_data/YAF_disgust/YAF_pick_disgust.wav', '/content/TESS_Toronto_emotional_speech_set_data/YAF_disgust/YAF_boat_disgust.wav', '/content/TESS_Toronto_emotional_speech_set_data/YAF_disgust/YAF_pike_disgust.wav', '/content/TESS_Toronto_emotional_speech_set_data/YAF_disgust/YAF_ton_disgust.wav', '/content/TESS_Toronto_emotional_speech_set_data/YAF_disgust/YAF_near_disgust.wav', '/content/TESS_Toronto_emotional_speech_set_data/YAF_disgust/YAF_fat_disgust.wav', '/content/TESS_Toronto_emotional_speech_set_data/YAF_disgust/YAF_rain_disgust.wav', '/content/TESS_Toronto_emotional_speech_set_data/YAF_disgust/YAF_doll_disgust.wav', '/content/TESS_Toronto_emotional_speech_set_data/YAF_disgust/YAF_tool_disgust.wav', '/content/TESS_Toronto_emotional_speech_set_data/YAF_disgust/YAF_chain_disgust.wav', '/content/TESS_Toronto_emotional_speech_set_data/YAF_disgust/YAF_choice_disgust.wav', '/content/TESS_Toronto_emotional_speech_set_data/YAF_disgust/YAF_late_disgust.wav', '/content/TESS_Toronto_emotional_speech_set_data/YAF_disgust/YAF_hash_disgust.wav', '/content/TESS_Toronto_emotional_speech_set_data/YAF_disgust/YAF_pad_disgust.wav', '/content/TESS_Toronto_emotional_speech_set_data/YAF_disgust/YAF_kite_disgust.wav', '/content/TESS_Toronto_emotional_speech_set_data/YAF_disgust/YAF_king_disgust.wav', '/content/TESS_Toronto_emotional_speech_set_data/YAF_disgust/YAF_join_disgust.wav', '/content/TESS_Toronto_emotional_speech_set_data/YAF_disgust/YAF_lean_disgust.wav', '/content/TESS_Toronto_emotional_speech_set_data/YAF_disgust/YAF_make_disgust.wav', '/content/TESS_Toronto_emotional_speech_set_data/YAF_disgust/YAF_half_disgust.wav', '/content/TESS_Toronto_emotional_speech_set_data/YAF_disgust/YAF_third_disgust.wav', '/content/TESS_Toronto_emotional_speech_set_data/YAF_disgust/YAF_shawl_disgust.wav', '/content/TESS_Toronto_emotional_speech_set_data/OAF_disgust/OAF_voice_disgust.wav', '/content/TESS_Toronto_emotional_speech_set_data/OAF_disgust/OAF_neat_disgust.wav', '/content/TESS_Toronto_emotional_speech_set_data/OAF_disgust/OAF_chat_disgust.wav', '/content/TESS_Toronto_emotional_speech_set_data/OAF_disgust/OAF_said_disgust.wav', '/content/TESS_Toronto_emotional_speech_set_data/OAF_disgust/OAF_team_disgust.wav', '/content/TESS_Toronto_emotional_speech_set_data/OAF_disgust/OAF_sheep_disgust.wav', '/content/TESS_Toronto_emotional_speech_set_data/OAF_disgust/OAF_mill_disgust.wav', '/content/TESS_Toronto_emotional_speech_set_data/OAF_disgust/OAF_jug_disgust.wav', '/content/TESS_Toronto_emotional_speech_set_data/OAF_disgust/OAF_name_disgust.wav', '/content/TESS_Toronto_emotional_speech_set_data/OAF_disgust/OAF_third_disgust.wav', '/content/TESS_Toronto_emotional_speech_set_data/OAF_disgust/OAF_beg_disgust.wav', '/content/TESS_Toronto_emotional_speech_set_data/OAF_disgust/OAF_tire_disgust.wav', '/content/TESS_Toronto_emotional_speech_set_data/OAF_disgust/OAF_gas_disgust.wav', '/content/TESS_Toronto_emotional_speech_set_data/OAF_disgust/OAF_gin_disgust.wav', '/content/TESS_Toronto_emotional_speech_set_data/OAF_disgust/OAF_hire_disgust.wav', '/content/TESS_Toronto_emotional_speech_set_data/OAF_disgust/OAF_thumb_disgust.wav', '/content/TESS_Toronto_emotional_speech_set_data/OAF_disgust/OAF_young_disgust.wav', '/content/TESS_Toronto_emotional_speech_set_data/OAF_disgust/OAF_mob_disgust.wav', '/content/TESS_Toronto_emotional_speech_set_data/OAF_disgust/OAF_tool_disgust.wav', '/content/TESS_Toronto_emotional_speech_set_data/OAF_disgust/OAF_puff_disgust.wav', '/content/TESS_Toronto_emotional_speech_set_data/OAF_disgust/OAF_walk_disgust.wav', '/content/TESS_Toronto_emotional_speech_set_data/OAF_disgust/OAF_wire_disgust.wav', '/content/TESS_Toronto_emotional_speech_set_data/OAF_disgust/OAF_cheek_disgust.wav', '/content/TESS_Toronto_emotional_speech_set_data/OAF_disgust/OAF_shawl_disgust.wav', '/content/TESS_Toronto_emotional_speech_set_data/OAF_disgust/OAF_pick_disgust.wav', '/content/TESS_Toronto_emotional_speech_set_data/OAF_disgust/OAF_ton_disgust.wav', '/content/TESS_Toronto_emotional_speech_set_data/OAF_disgust/OAF_goal_disgust.wav', '/content/TESS_Toronto_emotional_speech_set_data/OAF_disgust/OAF_void_disgust.wav', '/content/TESS_Toronto_emotional_speech_set_data/OAF_disgust/OAF_mess_disgust.wav', '/content/TESS_Toronto_emotional_speech_set_data/OAF_disgust/OAF_burn_disgust.wav', '/content/TESS_Toronto_emotional_speech_set_data/OAF_disgust/OAF_take_disgust.wav', '/content/TESS_Toronto_emotional_speech_set_data/OAF_disgust/OAF_shirt_disgust.wav', '/content/TESS_Toronto_emotional_speech_set_data/OAF_disgust/OAF_soap_disgust.wav', '/content/TESS_Toronto_emotional_speech_set_data/OAF_disgust/OAF_numb_disgust.wav', '/content/TESS_Toronto_emotional_speech_set_data/OAF_disgust/OAF_dog_disgust.wav', '/content/TESS_Toronto_emotional_speech_set_data/OAF_disgust/OAF_pole_disgust.wav', '/content/TESS_Toronto_emotional_speech_set_data/OAF_disgust/OAF_sour_disgust.wav', '/content/TESS_Toronto_emotional_speech_set_data/OAF_disgust/OAF_room_disgust.wav', '/content/TESS_Toronto_emotional_speech_set_data/OAF_disgust/OAF_road_disgust.wav', '/content/TESS_Toronto_emotional_speech_set_data/OAF_disgust/OAF_pain_disgust.wav', '/content/TESS_Toronto_emotional_speech_set_data/OAF_disgust/OAF_pool_disgust.wav', '/content/TESS_Toronto_emotional_speech_set_data/OAF_disgust/OAF_laud_disgust.wav', '/content/TESS_Toronto_emotional_speech_set_data/OAF_disgust/OAF_bath_disgust.wav', '/content/TESS_Toronto_emotional_speech_set_data/OAF_disgust/OAF_raid_disgust.wav', '/content/TESS_Toronto_emotional_speech_set_data/OAF_disgust/OAF_rag_disgust.wav', '/content/TESS_Toronto_emotional_speech_set_data/OAF_disgust/OAF_dip_disgust.wav', '/content/TESS_Toronto_emotional_speech_set_data/OAF_disgust/OAF_tape_disgust.wav', '/content/TESS_Toronto_emotional_speech_set_data/OAF_disgust/OAF_half_disgust.wav', '/content/TESS_Toronto_emotional_speech_set_data/OAF_disgust/OAF_rough_disgust.wav', '/content/TESS_Toronto_emotional_speech_set_data/OAF_disgust/OAF_week_disgust.wav', '/content/TESS_Toronto_emotional_speech_set_data/OAF_disgust/OAF_base_disgust.wav', '/content/TESS_Toronto_emotional_speech_set_data/OAF_disgust/OAF_doll_disgust.wav', '/content/TESS_Toronto_emotional_speech_set_data/OAF_disgust/OAF_hate_disgust.wav', '/content/TESS_Toronto_emotional_speech_set_data/OAF_disgust/OAF_lose_disgust.wav', '/content/TESS_Toronto_emotional_speech_set_data/OAF_disgust/OAF_good_disgust.wav', '/content/TESS_Toronto_emotional_speech_set_data/OAF_disgust/OAF_sub_disgust.wav', '/content/TESS_Toronto_emotional_speech_set_data/OAF_disgust/OAF_love_disgust.wav', '/content/TESS_Toronto_emotional_speech_set_data/OAF_disgust/OAF_limb_disgust.wav', '/content/TESS_Toronto_emotional_speech_set_data/OAF_disgust/OAF_nag_disgust.wav', '/content/TESS_Toronto_emotional_speech_set_data/OAF_disgust/OAF_book_disgust.wav', '/content/TESS_Toronto_emotional_speech_set_data/OAF_disgust/OAF_tip_disgust.wav', '/content/TESS_Toronto_emotional_speech_set_data/OAF_disgust/OAF_vine_disgust.wav', '/content/TESS_Toronto_emotional_speech_set_data/OAF_disgust/OAF_have_disgust.wav', '/content/TESS_Toronto_emotional_speech_set_data/OAF_disgust/OAF_red_disgust.wav', '/content/TESS_Toronto_emotional_speech_set_data/OAF_disgust/OAF_merge_disgust.wav', '/content/TESS_Toronto_emotional_speech_set_data/OAF_disgust/OAF_thin_disgust.wav', '/content/TESS_Toronto_emotional_speech_set_data/OAF_disgust/OAF_fat_disgust.wav', '/content/TESS_Toronto_emotional_speech_set_data/OAF_disgust/OAF_when_disgust.wav', '/content/TESS_Toronto_emotional_speech_set_data/OAF_disgust/OAF_peg_disgust.wav', '/content/TESS_Toronto_emotional_speech_set_data/OAF_disgust/OAF_vote_disgust.wav', '/content/TESS_Toronto_emotional_speech_set_data/OAF_disgust/OAF_hash_disgust.wav', '/content/TESS_Toronto_emotional_speech_set_data/OAF_disgust/OAF_ring_disgust.wav', '/content/TESS_Toronto_emotional_speech_set_data/OAF_disgust/OAF_pearl_disgust.wav', '/content/TESS_Toronto_emotional_speech_set_data/OAF_disgust/OAF_sure_disgust.wav', '/content/TESS_Toronto_emotional_speech_set_data/OAF_disgust/OAF_white_disgust.wav', '/content/TESS_Toronto_emotional_speech_set_data/OAF_disgust/OAF_yes_disgust.wav', '/content/TESS_Toronto_emotional_speech_set_data/OAF_disgust/OAF_lid_disgust.wav', '/content/TESS_Toronto_emotional_speech_set_data/OAF_disgust/OAF_soup_disgust.wav', '/content/TESS_Toronto_emotional_speech_set_data/OAF_disgust/OAF_gaze_disgust.wav', '/content/TESS_Toronto_emotional_speech_set_data/OAF_disgust/OAF_fail_disgust.wav', '/content/TESS_Toronto_emotional_speech_set_data/OAF_disgust/OAF_page_disgust.wav', '/content/TESS_Toronto_emotional_speech_set_data/OAF_disgust/OAF_ditch_disgust.wav', '/content/TESS_Toronto_emotional_speech_set_data/OAF_disgust/OAF_rush_disgust.wav', '/content/TESS_Toronto_emotional_speech_set_data/OAF_disgust/OAF_fit_disgust.wav', '/content/TESS_Toronto_emotional_speech_set_data/OAF_disgust/OAF_time_disgust.wav', '/content/TESS_Toronto_emotional_speech_set_data/OAF_disgust/OAF_tough_disgust.wav', '/content/TESS_Toronto_emotional_speech_set_data/OAF_disgust/OAF_yearn_disgust.wav', '/content/TESS_Toronto_emotional_speech_set_data/OAF_disgust/OAF_lore_disgust.wav', '/content/TESS_Toronto_emotional_speech_set_data/OAF_disgust/OAF_check_disgust.wav', '/content/TESS_Toronto_emotional_speech_set_data/OAF_disgust/OAF_hole_disgust.wav', '/content/TESS_Toronto_emotional_speech_set_data/OAF_disgust/OAF_dead_disgust.wav', '/content/TESS_Toronto_emotional_speech_set_data/OAF_disgust/OAF_mop_disgust.wav', '/content/TESS_Toronto_emotional_speech_set_data/OAF_disgust/OAF_five_disgust.wav', '/content/TESS_Toronto_emotional_speech_set_data/OAF_disgust/OAF_search_disgust.wav', '/content/TESS_Toronto_emotional_speech_set_data/OAF_disgust/OAF_luck_disgust.wav', '/content/TESS_Toronto_emotional_speech_set_data/OAF_disgust/OAF_dodge_disgust.wav', '/content/TESS_Toronto_emotional_speech_set_data/OAF_disgust/OAF_knock_disgust.wav', '/content/TESS_Toronto_emotional_speech_set_data/OAF_disgust/OAF_mood_disgust.wav', '/content/TESS_Toronto_emotional_speech_set_data/OAF_disgust/OAF_tell_disgust.wav', '/content/TESS_Toronto_emotional_speech_set_data/OAF_disgust/OAF_bar_disgust.wav', '/content/TESS_Toronto_emotional_speech_set_data/OAF_disgust/OAF_judge_disgust.wav', '/content/TESS_Toronto_emotional_speech_set_data/OAF_disgust/OAF_make_disgust.wav', '/content/TESS_Toronto_emotional_speech_set_data/OAF_disgust/OAF_chain_disgust.wav', '/content/TESS_Toronto_emotional_speech_set_data/OAF_disgust/OAF_came_disgust.wav', '/content/TESS_Toronto_emotional_speech_set_data/OAF_disgust/OAF_lease_disgust.wav', '/content/TESS_Toronto_emotional_speech_set_data/OAF_disgust/OAF_learn_disgust.wav', '/content/TESS_Toronto_emotional_speech_set_data/OAF_disgust/OAF_home_disgust.wav', '/content/TESS_Toronto_emotional_speech_set_data/OAF_disgust/OAF_phone_disgust.wav', '/content/TESS_Toronto_emotional_speech_set_data/OAF_disgust/OAF_lot_disgust.wav', '/content/TESS_Toronto_emotional_speech_set_data/OAF_disgust/OAF_keen_disgust.wav', '/content/TESS_Toronto_emotional_speech_set_data/OAF_disgust/OAF_boat_disgust.wav', '/content/TESS_Toronto_emotional_speech_set_data/OAF_disgust/OAF_life_disgust.wav', '/content/TESS_Toronto_emotional_speech_set_data/OAF_disgust/OAF_hall_disgust.wav', '/content/TESS_Toronto_emotional_speech_set_data/OAF_disgust/OAF_sell_disgust.wav', '/content/TESS_Toronto_emotional_speech_set_data/OAF_disgust/OAF_kill_disgust.wav', '/content/TESS_Toronto_emotional_speech_set_data/OAF_disgust/OAF_death_disgust.wav', '/content/TESS_Toronto_emotional_speech_set_data/OAF_disgust/OAF_note_disgust.wav', '/content/TESS_Toronto_emotional_speech_set_data/OAF_disgust/OAF_nice_disgust.wav', '/content/TESS_Toronto_emotional_speech_set_data/OAF_disgust/OAF_hit_disgust.wav', '/content/TESS_Toronto_emotional_speech_set_data/OAF_disgust/OAF_youth_disgust.wav', '/content/TESS_Toronto_emotional_speech_set_data/OAF_disgust/OAF_shack_disgust.wav', '/content/TESS_Toronto_emotional_speech_set_data/OAF_disgust/OAF_keep_disgust.wav', '/content/TESS_Toronto_emotional_speech_set_data/OAF_disgust/OAF_wheat_disgust.wav', '/content/TESS_Toronto_emotional_speech_set_data/OAF_disgust/OAF_get_disgust.wav', '/content/TESS_Toronto_emotional_speech_set_data/OAF_disgust/OAF_south_disgust.wav', '/content/TESS_Toronto_emotional_speech_set_data/OAF_disgust/OAF_rat_disgust.wav', '/content/TESS_Toronto_emotional_speech_set_data/OAF_disgust/OAF_perch_disgust.wav', '/content/TESS_Toronto_emotional_speech_set_data/OAF_disgust/OAF_date_disgust.wav', '/content/TESS_Toronto_emotional_speech_set_data/OAF_disgust/OAF_shall_disgust.wav', '/content/TESS_Toronto_emotional_speech_set_data/OAF_disgust/OAF_hurl_disgust.wav', '/content/TESS_Toronto_emotional_speech_set_data/OAF_disgust/OAF_rot_disgust.wav', '/content/TESS_Toronto_emotional_speech_set_data/OAF_disgust/OAF_chair_disgust.wav', '/content/TESS_Toronto_emotional_speech_set_data/OAF_disgust/OAF_seize_disgust.wav', '/content/TESS_Toronto_emotional_speech_set_data/OAF_disgust/OAF_dime_disgust.wav', '/content/TESS_Toronto_emotional_speech_set_data/OAF_disgust/OAF_choice_disgust.wav', '/content/TESS_Toronto_emotional_speech_set_data/OAF_disgust/OAF_join_disgust.wav', '/content/TESS_Toronto_emotional_speech_set_data/OAF_disgust/OAF_fall_disgust.wav', '/content/TESS_Toronto_emotional_speech_set_data/OAF_disgust/OAF_witch_disgust.wav', '/content/TESS_Toronto_emotional_speech_set_data/OAF_disgust/OAF_read_disgust.wav', '/content/TESS_Toronto_emotional_speech_set_data/OAF_disgust/OAF_such_disgust.wav', '/content/TESS_Toronto_emotional_speech_set_data/OAF_disgust/OAF_germ_disgust.wav', '/content/TESS_Toronto_emotional_speech_set_data/OAF_disgust/OAF_raise_disgust.wav', '/content/TESS_Toronto_emotional_speech_set_data/OAF_disgust/OAF_chalk_disgust.wav', '/content/TESS_Toronto_emotional_speech_set_data/OAF_disgust/OAF_wag_disgust.wav', '/content/TESS_Toronto_emotional_speech_set_data/OAF_disgust/OAF_jar_disgust.wav', '/content/TESS_Toronto_emotional_speech_set_data/OAF_disgust/OAF_mouse_disgust.wav', '/content/TESS_Toronto_emotional_speech_set_data/OAF_disgust/OAF_rain_disgust.wav', '/content/TESS_Toronto_emotional_speech_set_data/OAF_disgust/OAF_food_disgust.wav', '/content/TESS_Toronto_emotional_speech_set_data/OAF_disgust/OAF_calm_disgust.wav', '/content/TESS_Toronto_emotional_speech_set_data/OAF_disgust/OAF_kick_disgust.wav', '/content/TESS_Toronto_emotional_speech_set_data/OAF_disgust/OAF_far_disgust.wav', '/content/TESS_Toronto_emotional_speech_set_data/OAF_disgust/OAF_met_disgust.wav', '/content/TESS_Toronto_emotional_speech_set_data/OAF_disgust/OAF_near_disgust.wav', '/content/TESS_Toronto_emotional_speech_set_data/OAF_disgust/OAF_wife_disgust.wav', '/content/TESS_Toronto_emotional_speech_set_data/OAF_disgust/OAF_chief_disgust.wav', '/content/TESS_Toronto_emotional_speech_set_data/OAF_disgust/OAF_thought_disgust.wav', '/content/TESS_Toronto_emotional_speech_set_data/OAF_disgust/OAF_turn_disgust.wav', '/content/TESS_Toronto_emotional_speech_set_data/OAF_disgust/OAF_talk_disgust.wav', '/content/TESS_Toronto_emotional_speech_set_data/OAF_disgust/OAF_whip_disgust.wav', '/content/TESS_Toronto_emotional_speech_set_data/OAF_disgust/OAF_cause_disgust.wav', '/content/TESS_Toronto_emotional_speech_set_data/OAF_disgust/OAF_bought_disgust.wav', '/content/TESS_Toronto_emotional_speech_set_data/OAF_disgust/OAF_jail_disgust.wav', '/content/TESS_Toronto_emotional_speech_set_data/OAF_disgust/OAF_moon_disgust.wav', '/content/TESS_Toronto_emotional_speech_set_data/OAF_disgust/OAF_back_disgust.wav', '/content/TESS_Toronto_emotional_speech_set_data/OAF_disgust/OAF_cab_disgust.wav', '/content/TESS_Toronto_emotional_speech_set_data/OAF_disgust/OAF_cool_disgust.wav', '/content/TESS_Toronto_emotional_speech_set_data/OAF_disgust/OAF_door_disgust.wav', '/content/TESS_Toronto_emotional_speech_set_data/OAF_disgust/OAF_haze_disgust.wav', '/content/TESS_Toronto_emotional_speech_set_data/OAF_disgust/OAF_should_disgust.wav', '/content/TESS_Toronto_emotional_speech_set_data/OAF_disgust/OAF_long_disgust.wav', '/content/TESS_Toronto_emotional_speech_set_data/OAF_disgust/OAF_mode_disgust.wav', '/content/TESS_Toronto_emotional_speech_set_data/OAF_disgust/OAF_shout_disgust.wav', '/content/TESS_Toronto_emotional_speech_set_data/OAF_disgust/OAF_reach_disgust.wav', '/content/TESS_Toronto_emotional_speech_set_data/OAF_disgust/OAF_live_disgust.wav', '/content/TESS_Toronto_emotional_speech_set_data/OAF_disgust/OAF_late_disgust.wav', '/content/TESS_Toronto_emotional_speech_set_data/OAF_disgust/OAF_gun_disgust.wav', '/content/TESS_Toronto_emotional_speech_set_data/OAF_disgust/OAF_gap_disgust.wav', '/content/TESS_Toronto_emotional_speech_set_data/OAF_disgust/OAF_bean_disgust.wav', '/content/TESS_Toronto_emotional_speech_set_data/OAF_disgust/OAF_hush_disgust.wav', '/content/TESS_Toronto_emotional_speech_set_data/OAF_disgust/OAF_pad_disgust.wav', '/content/TESS_Toronto_emotional_speech_set_data/OAF_disgust/OAF_which_disgust.wav', '/content/TESS_Toronto_emotional_speech_set_data/OAF_disgust/OAF_pass_disgust.wav', '/content/TESS_Toronto_emotional_speech_set_data/OAF_disgust/OAF_bone_disgust.wav', '/content/TESS_Toronto_emotional_speech_set_data/OAF_disgust/OAF_match_disgust.wav', '/content/TESS_Toronto_emotional_speech_set_data/OAF_disgust/OAF_goose_disgust.wav', '/content/TESS_Toronto_emotional_speech_set_data/OAF_disgust/OAF_sail_disgust.wav', '/content/TESS_Toronto_emotional_speech_set_data/OAF_disgust/OAF_ripe_disgust.wav', '/content/TESS_Toronto_emotional_speech_set_data/OAF_disgust/OAF_rose_disgust.wav', '/content/TESS_Toronto_emotional_speech_set_data/OAF_disgust/OAF_lean_disgust.wav', '/content/TESS_Toronto_emotional_speech_set_data/OAF_disgust/OAF_king_disgust.wav', '/content/TESS_Toronto_emotional_speech_set_data/OAF_disgust/OAF_wash_disgust.wav', '/content/TESS_Toronto_emotional_speech_set_data/OAF_disgust/OAF_deep_disgust.wav', '/content/TESS_Toronto_emotional_speech_set_data/OAF_disgust/OAF_pike_disgust.wav', '/content/TESS_Toronto_emotional_speech_set_data/OAF_disgust/OAF_dab_disgust.wav', '/content/TESS_Toronto_emotional_speech_set_data/OAF_disgust/OAF_bite_disgust.wav', '/content/TESS_Toronto_emotional_speech_set_data/OAF_disgust/OAF_keg_disgust.wav', '/content/TESS_Toronto_emotional_speech_set_data/OAF_disgust/OAF_size_disgust.wav', '/content/TESS_Toronto_emotional_speech_set_data/OAF_disgust/OAF_kite_disgust.wav', '/content/TESS_Toronto_emotional_speech_set_data/OAF_disgust/OAF_juice_disgust.wav', '/content/TESS_Toronto_emotional_speech_set_data/OAF_disgust/OAF_loaf_disgust.wav', '/content/ALL/JK_d15.wav', '/content/ALL/KL_d13.wav', '/content/ALL/DC_d06.wav', '/content/ALL/DC_d02.wav', '/content/ALL/KL_d06.wav', '/content/ALL/DC_d12.wav', '/content/ALL/JK_d05.wav', '/content/ALL/KL_d02.wav', '/content/ALL/KL_d12.wav', '/content/ALL/KL_d07.wav', '/content/ALL/KL_d01.wav', '/content/ALL/DC_d07.wav', '/content/ALL/JK_d06.wav', '/content/ALL/DC_d05.wav', '/content/ALL/JE_d09.wav', '/content/ALL/JE_d05.wav', '/content/ALL/JE_d03.wav', '/content/ALL/JE_d06.wav', '/content/ALL/KL_d10.wav', '/content/ALL/KL_d08.wav', '/content/ALL/JE_d15.wav', '/content/ALL/JK_d12.wav', '/content/ALL/JE_d01.wav', '/content/ALL/DC_d03.wav', '/content/ALL/DC_d04.wav', '/content/ALL/KL_d11.wav', '/content/ALL/JK_d13.wav', '/content/ALL/JK_d07.wav', '/content/ALL/DC_d14.wav', '/content/ALL/JE_d08.wav', '/content/ALL/JK_d09.wav', '/content/ALL/JE_d13.wav', '/content/ALL/DC_d01.wav', '/content/ALL/JK_d01.wav', '/content/ALL/JK_d04.wav', '/content/ALL/JK_d02.wav', '/content/ALL/JE_d11.wav', '/content/ALL/DC_d11.wav', '/content/ALL/JK_d11.wav', '/content/ALL/DC_d09.wav', '/content/ALL/KL_d09.wav', '/content/ALL/DC_d13.wav', '/content/ALL/JK_d08.wav', '/content/ALL/KL_d03.wav', '/content/ALL/JK_d03.wav', '/content/ALL/JE_d12.wav', '/content/ALL/KL_d14.wav', '/content/ALL/JE_d02.wav', '/content/ALL/JE_d14.wav', '/content/ALL/DC_d08.wav', '/content/ALL/DC_d15.wav', '/content/ALL/JE_d04.wav', '/content/ALL/JE_d10.wav', '/content/ALL/JE_d07.wav', '/content/ALL/JK_d10.wav', '/content/ALL/DC_d10.wav', '/content/ALL/KL_d05.wav', '/content/ALL/KL_d04.wav', '/content/ALL/JK_d14.wav', '/content/ALL/KL_d15.wav', '/content/AudioWAV/1084_ITH_DIS_XX.wav', '/content/AudioWAV/1002_IWL_DIS_XX.wav', '/content/AudioWAV/1043_TIE_DIS_XX.wav', '/content/AudioWAV/1038_IOM_DIS_XX.wav', '/content/AudioWAV/1066_TAI_DIS_XX.wav', '/content/AudioWAV/1019_TSI_DIS_XX.wav', '/content/AudioWAV/1026_WSI_DIS_XX.wav', '/content/AudioWAV/1033_ITH_DIS_XX.wav', '/content/AudioWAV/1043_IOM_DIS_XX.wav', '/content/AudioWAV/1060_IEO_DIS_HI.wav', '/content/AudioWAV/1022_ITH_DIS_XX.wav', '/content/AudioWAV/1088_IWW_DIS_XX.wav', '/content/AudioWAV/1082_ITS_DIS_XX.wav', '/content/AudioWAV/1064_DFA_DIS_XX.wav', '/content/AudioWAV/1008_IWW_DIS_XX.wav', '/content/AudioWAV/1038_IEO_DIS_HI.wav', '/content/AudioWAV/1019_WSI_DIS_XX.wav', '/content/AudioWAV/1082_IWL_DIS_XX.wav', '/content/AudioWAV/1024_IEO_DIS_LO.wav', '/content/AudioWAV/1020_ITH_DIS_XX.wav', '/content/AudioWAV/1053_TIE_DIS_XX.wav', '/content/AudioWAV/1039_IEO_DIS_LO.wav', '/content/AudioWAV/1026_IWL_DIS_XX.wav', '/content/AudioWAV/1045_IOM_DIS_XX.wav', '/content/AudioWAV/1028_IWL_DIS_XX.wav', '/content/AudioWAV/1081_IOM_DIS_XX.wav', '/content/AudioWAV/1080_ITH_DIS_XX.wav', '/content/AudioWAV/1063_IOM_DIS_XX.wav', '/content/AudioWAV/1075_IEO_DIS_HI.wav', '/content/AudioWAV/1047_MTI_DIS_XX.wav', '/content/AudioWAV/1064_ITH_DIS_XX.wav', '/content/AudioWAV/1031_IOM_DIS_XX.wav', '/content/AudioWAV/1087_MTI_DIS_XX.wav', '/content/AudioWAV/1045_IWL_DIS_XX.wav', '/content/AudioWAV/1060_IWL_DIS_XX.wav', '/content/AudioWAV/1014_IWW_DIS_XX.wav', '/content/AudioWAV/1050_IEO_DIS_MD.wav', '/content/AudioWAV/1058_IEO_DIS_HI.wav', '/content/AudioWAV/1075_ITS_DIS_XX.wav', '/content/AudioWAV/1064_WSI_DIS_XX.wav', '/content/AudioWAV/1073_IWW_DIS_XX.wav', '/content/AudioWAV/1063_MTI_DIS_XX.wav', '/content/AudioWAV/1059_IWW_DIS_XX.wav', '/content/AudioWAV/1002_IEO_DIS_HI.wav', '/content/AudioWAV/1068_MTI_DIS_XX.wav', '/content/AudioWAV/1002_TIE_DIS_XX.wav', '/content/AudioWAV/1073_WSI_DIS_XX.wav', '/content/AudioWAV/1032_TSI_DIS_XX.wav', '/content/AudioWAV/1068_IEO_DIS_HI.wav', '/content/AudioWAV/1085_ITS_DIS_XX.wav', '/content/AudioWAV/1018_TIE_DIS_XX.wav', '/content/AudioWAV/1088_IWL_DIS_XX.wav', '/content/AudioWAV/1039_IOM_DIS_XX.wav', '/content/AudioWAV/1016_TAI_DIS_XX.wav', '/content/AudioWAV/1081_IEO_DIS_MD.wav', '/content/AudioWAV/1085_TIE_DIS_XX.wav', '/content/AudioWAV/1077_IEO_DIS_MD.wav', '/content/AudioWAV/1035_DFA_DIS_XX.wav', '/content/AudioWAV/1052_IEO_DIS_HI.wav', '/content/AudioWAV/1028_TIE_DIS_XX.wav', '/content/AudioWAV/1005_IEO_DIS_MD.wav', '/content/AudioWAV/1036_WSI_DIS_XX.wav', '/content/AudioWAV/1001_TIE_DIS_XX.wav', '/content/AudioWAV/1069_IEO_DIS_HI.wav', '/content/AudioWAV/1061_IOM_DIS_XX.wav', '/content/AudioWAV/1074_TSI_DIS_XX.wav', '/content/AudioWAV/1015_IEO_DIS_MD.wav', '/content/AudioWAV/1014_IEO_DIS_MD.wav', '/content/AudioWAV/1031_TIE_DIS_XX.wav', '/content/AudioWAV/1046_IEO_DIS_HI.wav', '/content/AudioWAV/1073_DFA_DIS_XX.wav', '/content/AudioWAV/1082_WSI_DIS_XX.wav', '/content/AudioWAV/1048_TSI_DIS_XX.wav', '/content/AudioWAV/1032_WSI_DIS_XX.wav', '/content/AudioWAV/1043_IWW_DIS_XX.wav', '/content/AudioWAV/1043_ITH_DIS_XX.wav', '/content/AudioWAV/1085_IWW_DIS_XX.wav', '/content/AudioWAV/1072_IOM_DIS_XX.wav', '/content/AudioWAV/1061_TIE_DIS_XX.wav', '/content/AudioWAV/1049_IOM_DIS_XX.wav', '/content/AudioWAV/1006_IWL_DIS_XX.wav', '/content/AudioWAV/1072_IWL_DIS_XX.wav', '/content/AudioWAV/1082_IEO_DIS_HI.wav', '/content/AudioWAV/1002_IWW_DIS_XX.wav', '/content/AudioWAV/1016_MTI_DIS_XX.wav', '/content/AudioWAV/1010_ITS_DIS_XX.wav', '/content/AudioWAV/1084_IEO_DIS_LO.wav', '/content/AudioWAV/1089_IOM_DIS_XX.wav', '/content/AudioWAV/1011_TSI_DIS_XX.wav', '/content/AudioWAV/1007_TSI_DIS_XX.wav', '/content/AudioWAV/1024_IWL_DIS_XX.wav', '/content/AudioWAV/1014_DFA_DIS_XX.wav', '/content/AudioWAV/1034_TAI_DIS_XX.wav', '/content/AudioWAV/1020_ITS_DIS_XX.wav', '/content/AudioWAV/1044_TAI_DIS_XX.wav', '/content/AudioWAV/1087_IWL_DIS_XX.wav', '/content/AudioWAV/1068_TIE_DIS_XX.wav', '/content/AudioWAV/1034_WSI_DIS_XX.wav', '/content/AudioWAV/1076_IEO_DIS_HI.wav', '/content/AudioWAV/1078_IEO_DIS_HI.wav', '/content/AudioWAV/1045_IWW_DIS_XX.wav', '/content/AudioWAV/1047_DFA_DIS_XX.wav', '/content/AudioWAV/1021_IEO_DIS_HI.wav', '/content/AudioWAV/1065_WSI_DIS_XX.wav', '/content/AudioWAV/1065_ITH_DIS_XX.wav', '/content/AudioWAV/1041_TIE_DIS_XX.wav', '/content/AudioWAV/1001_IEO_DIS_LO.wav', '/content/AudioWAV/1080_IEO_DIS_MD.wav', '/content/AudioWAV/1002_IOM_DIS_XX.wav', '/content/AudioWAV/1035_TIE_DIS_XX.wav', '/content/AudioWAV/1015_IWL_DIS_XX.wav', '/content/AudioWAV/1053_WSI_DIS_XX.wav', '/content/AudioWAV/1043_ITS_DIS_XX.wav', '/content/AudioWAV/1058_TIE_DIS_XX.wav', '/content/AudioWAV/1085_IEO_DIS_LO.wav', '/content/AudioWAV/1083_IWW_DIS_XX.wav', '/content/AudioWAV/1033_MTI_DIS_XX.wav', '/content/AudioWAV/1025_MTI_DIS_XX.wav', '/content/AudioWAV/1062_TAI_DIS_XX.wav', '/content/AudioWAV/1091_TSI_DIS_XX.wav', '/content/AudioWAV/1076_TIE_DIS_XX.wav', '/content/AudioWAV/1060_MTI_DIS_XX.wav', '/content/AudioWAV/1026_IEO_DIS_HI.wav', '/content/AudioWAV/1059_IEO_DIS_MD.wav', '/content/AudioWAV/1083_IOM_DIS_XX.wav', '/content/AudioWAV/1052_WSI_DIS_XX.wav', '/content/AudioWAV/1024_TAI_DIS_XX.wav', '/content/AudioWAV/1063_IEO_DIS_MD.wav', '/content/AudioWAV/1075_IWL_DIS_XX.wav', '/content/AudioWAV/1083_TSI_DIS_XX.wav', '/content/AudioWAV/1053_TAI_DIS_XX.wav', '/content/AudioWAV/1016_WSI_DIS_XX.wav', '/content/AudioWAV/1001_ITH_DIS_XX.wav', '/content/AudioWAV/1068_DFA_DIS_XX.wav', '/content/AudioWAV/1009_TIE_DIS_XX.wav', '/content/AudioWAV/1030_IWW_DIS_XX.wav', '/content/AudioWAV/1090_IOM_DIS_XX.wav', '/content/AudioWAV/1072_IEO_DIS_LO.wav', '/content/AudioWAV/1046_TSI_DIS_XX.wav', '/content/AudioWAV/1015_TAI_DIS_XX.wav', '/content/AudioWAV/1090_TAI_DIS_XX.wav', '/content/AudioWAV/1063_ITS_DIS_XX.wav', '/content/AudioWAV/1049_WSI_DIS_XX.wav', '/content/AudioWAV/1045_ITS_DIS_XX.wav', '/content/AudioWAV/1013_TSI_DIS_XX.wav', '/content/AudioWAV/1084_MTI_DIS_XX.wav', '/content/AudioWAV/1006_DFA_DIS_XX.wav', '/content/AudioWAV/1091_TAI_DIS_XX.wav', '/content/AudioWAV/1002_TAI_DIS_XX.wav', '/content/AudioWAV/1039_IEO_DIS_MD.wav', '/content/AudioWAV/1058_IWW_DIS_XX.wav', '/content/AudioWAV/1048_DFA_DIS_XX.wav', '/content/AudioWAV/1026_MTI_DIS_XX.wav', '/content/AudioWAV/1075_TAI_DIS_XX.wav', '/content/AudioWAV/1007_MTI_DIS_XX.wav', '/content/AudioWAV/1003_TSI_DIS_XX.wav', '/content/AudioWAV/1066_IWL_DIS_XX.wav', '/content/AudioWAV/1054_TIE_DIS_XX.wav', '/content/AudioWAV/1057_TAI_DIS_XX.wav', '/content/AudioWAV/1077_DFA_DIS_XX.wav', '/content/AudioWAV/1056_IWW_DIS_XX.wav', '/content/AudioWAV/1075_ITH_DIS_XX.wav', '/content/AudioWAV/1072_DFA_DIS_XX.wav', '/content/AudioWAV/1051_IWL_DIS_XX.wav', '/content/AudioWAV/1071_DFA_DIS_XX.wav', '/content/AudioWAV/1016_ITS_DIS_XX.wav', '/content/AudioWAV/1018_MTI_DIS_XX.wav', '/content/AudioWAV/1019_IEO_DIS_HI.wav', '/content/AudioWAV/1067_IEO_DIS_MD.wav', '/content/AudioWAV/1069_IOM_DIS_XX.wav', '/content/AudioWAV/1002_WSI_DIS_XX.wav', '/content/AudioWAV/1079_ITS_DIS_XX.wav', '/content/AudioWAV/1044_IEO_DIS_LO.wav', '/content/AudioWAV/1050_DFA_DIS_XX.wav', '/content/AudioWAV/1008_DFA_DIS_XX.wav', '/content/AudioWAV/1072_WSI_DIS_XX.wav', '/content/AudioWAV/1043_IEO_DIS_HI.wav', '/content/AudioWAV/1071_IEO_DIS_MD.wav', '/content/AudioWAV/1087_ITS_DIS_XX.wav', '/content/AudioWAV/1053_MTI_DIS_XX.wav', '/content/AudioWAV/1068_ITS_DIS_XX.wav', '/content/AudioWAV/1012_DFA_DIS_XX.wav', '/content/AudioWAV/1048_ITH_DIS_XX.wav', '/content/AudioWAV/1052_DFA_DIS_XX.wav', '/content/AudioWAV/1023_IEO_DIS_LO.wav', '/content/AudioWAV/1086_TAI_DIS_XX.wav', '/content/AudioWAV/1023_IWL_DIS_XX.wav', '/content/AudioWAV/1035_TAI_DIS_XX.wav', '/content/AudioWAV/1085_DFA_DIS_XX.wav', '/content/AudioWAV/1082_TIE_DIS_XX.wav', '/content/AudioWAV/1010_IEO_DIS_HI.wav', '/content/AudioWAV/1089_IEO_DIS_HI.wav', '/content/AudioWAV/1008_IEO_DIS_LO.wav', '/content/AudioWAV/1090_IEO_DIS_HI.wav', '/content/AudioWAV/1042_IWW_DIS_XX.wav', '/content/AudioWAV/1051_IEO_DIS_MD.wav', '/content/AudioWAV/1088_TAI_DIS_XX.wav', '/content/AudioWAV/1043_IEO_DIS_MD.wav', '/content/AudioWAV/1036_TAI_DIS_XX.wav', '/content/AudioWAV/1086_IEO_DIS_MD.wav', '/content/AudioWAV/1086_IWL_DIS_XX.wav', '/content/AudioWAV/1054_IEO_DIS_LO.wav', '/content/AudioWAV/1014_MTI_DIS_XX.wav', '/content/AudioWAV/1054_IWL_DIS_XX.wav', '/content/AudioWAV/1077_ITS_DIS_XX.wav', '/content/AudioWAV/1021_IEO_DIS_LO.wav', '/content/AudioWAV/1025_DFA_DIS_XX.wav', '/content/AudioWAV/1004_TSI_DIS_XX.wav', '/content/AudioWAV/1047_IEO_DIS_HI.wav', '/content/AudioWAV/1052_ITH_DIS_XX.wav', '/content/AudioWAV/1071_MTI_DIS_XX.wav', '/content/AudioWAV/1010_IEO_DIS_LO.wav', '/content/AudioWAV/1041_IOM_DIS_XX.wav', '/content/AudioWAV/1066_IEO_DIS_MD.wav', '/content/AudioWAV/1029_ITH_DIS_XX.wav', '/content/AudioWAV/1075_MTI_DIS_XX.wav', '/content/AudioWAV/1044_ITH_DIS_XX.wav', '/content/AudioWAV/1031_IEO_DIS_HI.wav', '/content/AudioWAV/1008_MTI_DIS_XX.wav', '/content/AudioWAV/1078_IWL_DIS_XX.wav', '/content/AudioWAV/1058_IWL_DIS_XX.wav', '/content/AudioWAV/1059_DFA_DIS_XX.wav', '/content/AudioWAV/1025_TAI_DIS_XX.wav', '/content/AudioWAV/1032_IWW_DIS_XX.wav', '/content/AudioWAV/1075_IEO_DIS_MD.wav', '/content/AudioWAV/1070_WSI_DIS_XX.wav', '/content/AudioWAV/1084_ITS_DIS_XX.wav', '/content/AudioWAV/1068_WSI_DIS_XX.wav', '/content/AudioWAV/1077_TSI_DIS_XX.wav', '/content/AudioWAV/1014_IWL_DIS_XX.wav', '/content/AudioWAV/1024_WSI_DIS_XX.wav', '/content/AudioWAV/1060_WSI_DIS_XX.wav', '/content/AudioWAV/1006_MTI_DIS_XX.wav', '/content/AudioWAV/1013_TAI_DIS_XX.wav', '/content/AudioWAV/1080_IEO_DIS_LO.wav', '/content/AudioWAV/1045_ITH_DIS_XX.wav', '/content/AudioWAV/1043_MTI_DIS_XX.wav', '/content/AudioWAV/1022_IEO_DIS_LO.wav', '/content/AudioWAV/1050_MTI_DIS_XX.wav', '/content/AudioWAV/1004_TAI_DIS_XX.wav', '/content/AudioWAV/1078_MTI_DIS_XX.wav', '/content/AudioWAV/1080_TIE_DIS_XX.wav', '/content/AudioWAV/1091_MTI_DIS_XX.wav', '/content/AudioWAV/1076_IWL_DIS_XX.wav', '/content/AudioWAV/1018_ITS_DIS_XX.wav', '/content/AudioWAV/1025_IWL_DIS_XX.wav', '/content/AudioWAV/1040_ITH_DIS_XX.wav', '/content/AudioWAV/1014_TIE_DIS_XX.wav', '/content/AudioWAV/1046_IEO_DIS_MD.wav', '/content/AudioWAV/1041_IEO_DIS_HI.wav', '/content/AudioWAV/1020_DFA_DIS_XX.wav', '/content/AudioWAV/1082_MTI_DIS_XX.wav', '/content/AudioWAV/1078_IEO_DIS_LO.wav', '/content/AudioWAV/1001_TSI_DIS_XX.wav', '/content/AudioWAV/1047_TAI_DIS_XX.wav', '/content/AudioWAV/1050_WSI_DIS_XX.wav', '/content/AudioWAV/1057_IEO_DIS_HI.wav', '/content/AudioWAV/1035_IEO_DIS_LO.wav', '/content/AudioWAV/1026_IEO_DIS_MD.wav', '/content/AudioWAV/1012_IEO_DIS_LO.wav', '/content/AudioWAV/1036_IEO_DIS_LO.wav', '/content/AudioWAV/1024_TSI_DIS_XX.wav', '/content/AudioWAV/1055_DFA_DIS_XX.wav', '/content/AudioWAV/1023_TAI_DIS_XX.wav', '/content/AudioWAV/1049_TSI_DIS_XX.wav', '/content/AudioWAV/1022_TAI_DIS_XX.wav', '/content/AudioWAV/1010_TIE_DIS_XX.wav', '/content/AudioWAV/1034_IWW_DIS_XX.wav', '/content/AudioWAV/1056_IEO_DIS_LO.wav', '/content/AudioWAV/1071_TSI_DIS_XX.wav', '/content/AudioWAV/1029_WSI_DIS_XX.wav', '/content/AudioWAV/1051_TSI_DIS_XX.wav', '/content/AudioWAV/1082_IEO_DIS_MD.wav', '/content/AudioWAV/1045_WSI_DIS_XX.wav', '/content/AudioWAV/1091_IEO_DIS_LO.wav', '/content/AudioWAV/1057_DFA_DIS_XX.wav', '/content/AudioWAV/1040_WSI_DIS_XX.wav', '/content/AudioWAV/1063_WSI_DIS_XX.wav', '/content/AudioWAV/1073_ITH_DIS_XX.wav', '/content/AudioWAV/1012_TAI_DIS_XX.wav', '/content/AudioWAV/1076_DFA_DIS_XX.wav', '/content/AudioWAV/1031_DFA_DIS_XX.wav', '/content/AudioWAV/1025_ITS_DIS_XX.wav', '/content/AudioWAV/1041_TSI_DIS_XX.wav', '/content/AudioWAV/1035_IWL_DIS_XX.wav', '/content/AudioWAV/1043_TSI_DIS_XX.wav', '/content/AudioWAV/1025_TIE_DIS_XX.wav', '/content/AudioWAV/1071_IWW_DIS_XX.wav', '/content/AudioWAV/1056_WSI_DIS_XX.wav', '/content/AudioWAV/1019_IOM_DIS_XX.wav', '/content/AudioWAV/1070_DFA_DIS_XX.wav', '/content/AudioWAV/1005_IEO_DIS_HI.wav', '/content/AudioWAV/1087_IWW_DIS_XX.wav', '/content/AudioWAV/1067_WSI_DIS_XX.wav', '/content/AudioWAV/1021_IWW_DIS_XX.wav', '/content/AudioWAV/1032_ITS_DIS_XX.wav', '/content/AudioWAV/1081_IWW_DIS_XX.wav', '/content/AudioWAV/1020_IEO_DIS_MD.wav', '/content/AudioWAV/1011_MTI_DIS_XX.wav', '/content/AudioWAV/1077_IWL_DIS_XX.wav', '/content/AudioWAV/1018_DFA_DIS_XX.wav', '/content/AudioWAV/1062_IEO_DIS_HI.wav', '/content/AudioWAV/1070_TSI_DIS_XX.wav', '/content/AudioWAV/1056_IOM_DIS_XX.wav', '/content/AudioWAV/1014_IEO_DIS_HI.wav', '/content/AudioWAV/1081_TSI_DIS_XX.wav', '/content/AudioWAV/1007_TIE_DIS_XX.wav', '/content/AudioWAV/1078_WSI_DIS_XX.wav', '/content/AudioWAV/1006_IWW_DIS_XX.wav', '/content/AudioWAV/1070_ITS_DIS_XX.wav', '/content/AudioWAV/1011_IEO_DIS_MD.wav', '/content/AudioWAV/1065_IOM_DIS_XX.wav', '/content/AudioWAV/1064_IEO_DIS_MD.wav', '/content/AudioWAV/1044_TIE_DIS_XX.wav', '/content/AudioWAV/1085_IEO_DIS_MD.wav', '/content/AudioWAV/1055_IEO_DIS_HI.wav', '/content/AudioWAV/1083_MTI_DIS_XX.wav', '/content/AudioWAV/1052_IOM_DIS_XX.wav', '/content/AudioWAV/1052_IWW_DIS_XX.wav', '/content/AudioWAV/1044_ITS_DIS_XX.wav', '/content/AudioWAV/1067_TSI_DIS_XX.wav', '/content/AudioWAV/1010_IEO_DIS_MD.wav', '/content/AudioWAV/1018_TSI_DIS_XX.wav', '/content/AudioWAV/1037_MTI_DIS_XX.wav', '/content/AudioWAV/1036_IEO_DIS_HI.wav', '/content/AudioWAV/1072_IWW_DIS_XX.wav', '/content/AudioWAV/1064_IWW_DIS_XX.wav', '/content/AudioWAV/1080_MTI_DIS_XX.wav', '/content/AudioWAV/1045_IEO_DIS_MD.wav', '/content/AudioWAV/1033_IEO_DIS_LO.wav', '/content/AudioWAV/1040_MTI_DIS_XX.wav', '/content/AudioWAV/1030_IOM_DIS_XX.wav', '/content/AudioWAV/1042_IEO_DIS_LO.wav', '/content/AudioWAV/1048_IWW_DIS_XX.wav', '/content/AudioWAV/1076_IOM_DIS_XX.wav', '/content/AudioWAV/1051_IWW_DIS_XX.wav', '/content/AudioWAV/1013_WSI_DIS_XX.wav', '/content/AudioWAV/1025_IOM_DIS_XX.wav', '/content/AudioWAV/1078_ITS_DIS_XX.wav', '/content/AudioWAV/1066_IEO_DIS_LO.wav', '/content/AudioWAV/1003_IEO_DIS_HI.wav', '/content/AudioWAV/1021_TIE_DIS_XX.wav', '/content/AudioWAV/1090_DFA_DIS_XX.wav', '/content/AudioWAV/1065_TIE_DIS_XX.wav', '/content/AudioWAV/1067_DFA_DIS_XX.wav', '/content/AudioWAV/1062_DFA_DIS_XX.wav', '/content/AudioWAV/1030_DFA_DIS_XX.wav', '/content/AudioWAV/1052_IEO_DIS_MD.wav', '/content/AudioWAV/1003_TAI_DIS_XX.wav', '/content/AudioWAV/1014_ITH_DIS_XX.wav', '/content/AudioWAV/1069_TAI_DIS_XX.wav', '/content/AudioWAV/1020_TSI_DIS_XX.wav', '/content/AudioWAV/1003_WSI_DIS_XX.wav', '/content/AudioWAV/1022_MTI_DIS_XX.wav', '/content/AudioWAV/1001_IEO_DIS_HI.wav', '/content/AudioWAV/1049_IWW_DIS_XX.wav', '/content/AudioWAV/1027_IWW_DIS_XX.wav', '/content/AudioWAV/1065_TAI_DIS_XX.wav', '/content/AudioWAV/1077_IWW_DIS_XX.wav', '/content/AudioWAV/1055_IWL_DIS_XX.wav', '/content/AudioWAV/1050_IOM_DIS_XX.wav', '/content/AudioWAV/1029_IWL_DIS_XX.wav', '/content/AudioWAV/1039_TSI_DIS_XX.wav', '/content/AudioWAV/1052_ITS_DIS_XX.wav', '/content/AudioWAV/1014_ITS_DIS_XX.wav', '/content/AudioWAV/1008_TAI_DIS_XX.wav', '/content/AudioWAV/1002_ITH_DIS_XX.wav', '/content/AudioWAV/1037_IWL_DIS_XX.wav', '/content/AudioWAV/1052_IWL_DIS_XX.wav', '/content/AudioWAV/1071_IWL_DIS_XX.wav', '/content/AudioWAV/1004_IEO_DIS_LO.wav', '/content/AudioWAV/1039_IWL_DIS_XX.wav', '/content/AudioWAV/1087_TSI_DIS_XX.wav', '/content/AudioWAV/1001_TAI_DIS_XX.wav', '/content/AudioWAV/1044_MTI_DIS_XX.wav', '/content/AudioWAV/1047_TSI_DIS_XX.wav', '/content/AudioWAV/1061_ITH_DIS_XX.wav', '/content/AudioWAV/1037_TIE_DIS_XX.wav', '/content/AudioWAV/1042_MTI_DIS_XX.wav', '/content/AudioWAV/1089_IWW_DIS_XX.wav', '/content/AudioWAV/1038_IEO_DIS_MD.wav', '/content/AudioWAV/1074_IWL_DIS_XX.wav', '/content/AudioWAV/1033_IEO_DIS_HI.wav', '/content/AudioWAV/1090_WSI_DIS_XX.wav', '/content/AudioWAV/1045_MTI_DIS_XX.wav', '/content/AudioWAV/1063_ITH_DIS_XX.wav', '/content/AudioWAV/1023_DFA_DIS_XX.wav', '/content/AudioWAV/1046_TAI_DIS_XX.wav', '/content/AudioWAV/1008_IEO_DIS_MD.wav', '/content/AudioWAV/1011_IEO_DIS_HI.wav', '/content/AudioWAV/1042_IWL_DIS_XX.wav', '/content/AudioWAV/1050_IWL_DIS_XX.wav', '/content/AudioWAV/1007_IOM_DIS_XX.wav', '/content/AudioWAV/1032_TAI_DIS_XX.wav', '/content/AudioWAV/1047_IWL_DIS_XX.wav', '/content/AudioWAV/1019_MTI_DIS_XX.wav', '/content/AudioWAV/1042_IOM_DIS_XX.wav', '/content/AudioWAV/1069_DFA_DIS_XX.wav', '/content/AudioWAV/1089_IEO_DIS_MD.wav', '/content/AudioWAV/1021_DFA_DIS_XX.wav', '/content/AudioWAV/1035_ITH_DIS_XX.wav', '/content/AudioWAV/1075_IWW_DIS_XX.wav', '/content/AudioWAV/1020_TIE_DIS_XX.wav', '/content/AudioWAV/1059_TAI_DIS_XX.wav', '/content/AudioWAV/1012_IWL_DIS_XX.wav', '/content/AudioWAV/1006_IEO_DIS_MD.wav', '/content/AudioWAV/1020_IEO_DIS_LO.wav', '/content/AudioWAV/1069_MTI_DIS_XX.wav', '/content/AudioWAV/1055_MTI_DIS_XX.wav', '/content/AudioWAV/1057_WSI_DIS_XX.wav', '/content/AudioWAV/1049_MTI_DIS_XX.wav', '/content/AudioWAV/1054_TAI_DIS_XX.wav', '/content/AudioWAV/1079_ITH_DIS_XX.wav', '/content/AudioWAV/1027_TIE_DIS_XX.wav', '/content/AudioWAV/1003_DFA_DIS_XX.wav', '/content/AudioWAV/1074_IOM_DIS_XX.wav', '/content/AudioWAV/1070_IOM_DIS_XX.wav', '/content/AudioWAV/1054_IOM_DIS_XX.wav', '/content/AudioWAV/1045_TSI_DIS_XX.wav', '/content/AudioWAV/1005_TAI_DIS_XX.wav', '/content/AudioWAV/1081_IEO_DIS_LO.wav', '/content/AudioWAV/1010_MTI_DIS_XX.wav', '/content/AudioWAV/1086_IWW_DIS_XX.wav', '/content/AudioWAV/1070_IWW_DIS_XX.wav', '/content/AudioWAV/1017_IEO_DIS_MD.wav', '/content/AudioWAV/1050_IWW_DIS_XX.wav', '/content/AudioWAV/1031_TSI_DIS_XX.wav', '/content/AudioWAV/1036_IWL_DIS_XX.wav', '/content/AudioWAV/1049_ITS_DIS_XX.wav', '/content/AudioWAV/1091_IEO_DIS_HI.wav', '/content/AudioWAV/1091_TIE_DIS_XX.wav', '/content/AudioWAV/1015_WSI_DIS_XX.wav', '/content/AudioWAV/1028_IEO_DIS_LO.wav', '/content/AudioWAV/1077_IOM_DIS_XX.wav', '/content/AudioWAV/1028_DFA_DIS_XX.wav', '/content/AudioWAV/1016_IOM_DIS_XX.wav', '/content/AudioWAV/1057_ITH_DIS_XX.wav', '/content/AudioWAV/1085_TAI_DIS_XX.wav', '/content/AudioWAV/1063_IWL_DIS_XX.wav', '/content/AudioWAV/1031_IEO_DIS_LO.wav', '/content/AudioWAV/1023_ITS_DIS_XX.wav', '/content/AudioWAV/1074_IEO_DIS_HI.wav', '/content/AudioWAV/1058_TSI_DIS_XX.wav', '/content/AudioWAV/1088_MTI_DIS_XX.wav', '/content/AudioWAV/1088_IOM_DIS_XX.wav', '/content/AudioWAV/1040_TIE_DIS_XX.wav', '/content/AudioWAV/1031_WSI_DIS_XX.wav', '/content/AudioWAV/1037_DFA_DIS_XX.wav', '/content/AudioWAV/1015_TSI_DIS_XX.wav', '/content/AudioWAV/1009_IEO_DIS_LO.wav', '/content/AudioWAV/1018_IWW_DIS_XX.wav', '/content/AudioWAV/1041_IEO_DIS_LO.wav', '/content/AudioWAV/1086_DFA_DIS_XX.wav', '/content/AudioWAV/1009_TAI_DIS_XX.wav', '/content/AudioWAV/1062_IEO_DIS_LO.wav', '/content/AudioWAV/1024_IEO_DIS_MD.wav', '/content/AudioWAV/1027_IEO_DIS_LO.wav', '/content/AudioWAV/1042_IEO_DIS_MD.wav', '/content/AudioWAV/1091_IOM_DIS_XX.wav', '/content/AudioWAV/1056_IEO_DIS_MD.wav', '/content/AudioWAV/1090_IEO_DIS_LO.wav', '/content/AudioWAV/1028_ITH_DIS_XX.wav', '/content/AudioWAV/1055_TSI_DIS_XX.wav', '/content/AudioWAV/1059_IOM_DIS_XX.wav', '/content/AudioWAV/1026_TSI_DIS_XX.wav', '/content/AudioWAV/1058_ITS_DIS_XX.wav', '/content/AudioWAV/1070_TAI_DIS_XX.wav', '/content/AudioWAV/1005_MTI_DIS_XX.wav', '/content/AudioWAV/1024_ITH_DIS_XX.wav', '/content/AudioWAV/1068_TSI_DIS_XX.wav', '/content/AudioWAV/1080_WSI_DIS_XX.wav', '/content/AudioWAV/1062_ITH_DIS_XX.wav', '/content/AudioWAV/1014_WSI_DIS_XX.wav', '/content/AudioWAV/1091_IEO_DIS_MD.wav', '/content/AudioWAV/1060_IEO_DIS_MD.wav', '/content/AudioWAV/1090_ITH_DIS_XX.wav', '/content/AudioWAV/1070_IEO_DIS_HI.wav', '/content/AudioWAV/1086_ITS_DIS_XX.wav', '/content/AudioWAV/1072_IEO_DIS_MD.wav', '/content/AudioWAV/1074_IEO_DIS_MD.wav', '/content/AudioWAV/1064_MTI_DIS_XX.wav', '/content/AudioWAV/1010_IWW_DIS_XX.wav', '/content/AudioWAV/1075_TSI_DIS_XX.wav', '/content/AudioWAV/1030_IEO_DIS_MD.wav', '/content/AudioWAV/1074_ITS_DIS_XX.wav', '/content/AudioWAV/1021_IOM_DIS_XX.wav', '/content/AudioWAV/1009_IWL_DIS_XX.wav', '/content/AudioWAV/1086_IOM_DIS_XX.wav', '/content/AudioWAV/1070_TIE_DIS_XX.wav', '/content/AudioWAV/1017_IEO_DIS_LO.wav', '/content/AudioWAV/1023_TIE_DIS_XX.wav', '/content/AudioWAV/1009_IEO_DIS_HI.wav', '/content/AudioWAV/1025_IEO_DIS_LO.wav', '/content/AudioWAV/1010_IOM_DIS_XX.wav', '/content/AudioWAV/1015_MTI_DIS_XX.wav', '/content/AudioWAV/1089_ITS_DIS_XX.wav', '/content/AudioWAV/1066_DFA_DIS_XX.wav', '/content/AudioWAV/1044_IEO_DIS_MD.wav', '/content/AudioWAV/1040_IEO_DIS_MD.wav', '/content/AudioWAV/1069_IEO_DIS_LO.wav', '/content/AudioWAV/1029_DFA_DIS_XX.wav', '/content/AudioWAV/1066_TIE_DIS_XX.wav', '/content/AudioWAV/1072_ITS_DIS_XX.wav', '/content/AudioWAV/1047_IOM_DIS_XX.wav', '/content/AudioWAV/1017_IWW_DIS_XX.wav', '/content/AudioWAV/1077_MTI_DIS_XX.wav', '/content/AudioWAV/1089_DFA_DIS_XX.wav', '/content/AudioWAV/1037_TAI_DIS_XX.wav', '/content/AudioWAV/1046_DFA_DIS_XX.wav', '/content/AudioWAV/1089_ITH_DIS_XX.wav', '/content/AudioWAV/1054_IEO_DIS_HI.wav', '/content/AudioWAV/1012_TSI_DIS_XX.wav', '/content/AudioWAV/1042_TSI_DIS_XX.wav', '/content/AudioWAV/1055_IEO_DIS_LO.wav', '/content/AudioWAV/1079_IEO_DIS_MD.wav', '/content/AudioWAV/1006_ITS_DIS_XX.wav', '/content/AudioWAV/1055_IWW_DIS_XX.wav', '/content/AudioWAV/1004_ITS_DIS_XX.wav', '/content/AudioWAV/1009_IEO_DIS_MD.wav', '/content/AudioWAV/1062_IEO_DIS_MD.wav', '/content/AudioWAV/1034_IEO_DIS_HI.wav', '/content/AudioWAV/1071_IEO_DIS_LO.wav', '/content/AudioWAV/1032_IEO_DIS_LO.wav', '/content/AudioWAV/1066_TSI_DIS_XX.wav', '/content/AudioWAV/1046_IWW_DIS_XX.wav', '/content/AudioWAV/1027_TSI_DIS_XX.wav', '/content/AudioWAV/1079_WSI_DIS_XX.wav', '/content/AudioWAV/1066_WSI_DIS_XX.wav', '/content/AudioWAV/1002_MTI_DIS_XX.wav', '/content/AudioWAV/1078_IOM_DIS_XX.wav', '/content/AudioWAV/1013_MTI_DIS_XX.wav', '/content/AudioWAV/1087_ITH_DIS_XX.wav', '/content/AudioWAV/1007_ITS_DIS_XX.wav', '/content/AudioWAV/1015_ITS_DIS_XX.wav', '/content/AudioWAV/1048_ITS_DIS_XX.wav', '/content/AudioWAV/1025_IEO_DIS_MD.wav', '/content/AudioWAV/1016_TIE_DIS_XX.wav', '/content/AudioWAV/1063_TAI_DIS_XX.wav', '/content/AudioWAV/1053_IWW_DIS_XX.wav', '/content/AudioWAV/1029_IEO_DIS_LO.wav', '/content/AudioWAV/1078_TSI_DIS_XX.wav', '/content/AudioWAV/1026_IWW_DIS_XX.wav', '/content/AudioWAV/1014_TAI_DIS_XX.wav', '/content/AudioWAV/1057_ITS_DIS_XX.wav', '/content/AudioWAV/1024_TIE_DIS_XX.wav', '/content/AudioWAV/1030_ITH_DIS_XX.wav', '/content/AudioWAV/1009_DFA_DIS_XX.wav', '/content/AudioWAV/1005_IWW_DIS_XX.wav', '/content/AudioWAV/1027_IEO_DIS_MD.wav', '/content/AudioWAV/1033_TSI_DIS_XX.wav', '/content/AudioWAV/1088_IEO_DIS_HI.wav', '/content/AudioWAV/1063_TSI_DIS_XX.wav', '/content/AudioWAV/1039_ITH_DIS_XX.wav', '/content/AudioWAV/1017_TIE_DIS_XX.wav', '/content/AudioWAV/1022_IOM_DIS_XX.wav', '/content/AudioWAV/1053_TSI_DIS_XX.wav', '/content/AudioWAV/1031_IEO_DIS_MD.wav', '/content/AudioWAV/1083_DFA_DIS_XX.wav', '/content/AudioWAV/1011_IWL_DIS_XX.wav', '/content/AudioWAV/1078_IEO_DIS_MD.wav', '/content/AudioWAV/1070_ITH_DIS_XX.wav', '/content/AudioWAV/1026_TIE_DIS_XX.wav', '/content/AudioWAV/1030_IWL_DIS_XX.wav', '/content/AudioWAV/1029_ITS_DIS_XX.wav', '/content/AudioWAV/1012_ITH_DIS_XX.wav', '/content/AudioWAV/1003_IOM_DIS_XX.wav', '/content/AudioWAV/1019_IEO_DIS_MD.wav', '/content/AudioWAV/1012_IEO_DIS_HI.wav', '/content/AudioWAV/1007_IEO_DIS_LO.wav', '/content/AudioWAV/1023_IWW_DIS_XX.wav', '/content/AudioWAV/1077_IEO_DIS_HI.wav', '/content/AudioWAV/1040_TSI_DIS_XX.wav', '/content/AudioWAV/1011_ITS_DIS_XX.wav', '/content/AudioWAV/1078_ITH_DIS_XX.wav', '/content/AudioWAV/1065_IEO_DIS_LO.wav', '/content/AudioWAV/1041_IWL_DIS_XX.wav', '/content/AudioWAV/1046_ITS_DIS_XX.wav', '/content/AudioWAV/1043_TAI_DIS_XX.wav', '/content/AudioWAV/1048_WSI_DIS_XX.wav', '/content/AudioWAV/1045_IEO_DIS_LO.wav', '/content/AudioWAV/1030_IEO_DIS_HI.wav', '/content/AudioWAV/1017_IWL_DIS_XX.wav', '/content/AudioWAV/1017_DFA_DIS_XX.wav', '/content/AudioWAV/1070_IEO_DIS_MD.wav', '/content/AudioWAV/1028_MTI_DIS_XX.wav', '/content/AudioWAV/1085_IOM_DIS_XX.wav', '/content/AudioWAV/1083_IEO_DIS_MD.wav', '/content/AudioWAV/1081_IWL_DIS_XX.wav', '/content/AudioWAV/1091_DFA_DIS_XX.wav', '/content/AudioWAV/1065_ITS_DIS_XX.wav', '/content/AudioWAV/1045_IEO_DIS_HI.wav', '/content/AudioWAV/1088_DFA_DIS_XX.wav', '/content/AudioWAV/1085_IWL_DIS_XX.wav', '/content/AudioWAV/1077_WSI_DIS_XX.wav', '/content/AudioWAV/1021_WSI_DIS_XX.wav', '/content/AudioWAV/1017_IOM_DIS_XX.wav', '/content/AudioWAV/1023_ITH_DIS_XX.wav', '/content/AudioWAV/1088_IEO_DIS_MD.wav', '/content/AudioWAV/1003_IWW_DIS_XX.wav', '/content/AudioWAV/1002_IEO_DIS_LO.wav', '/content/AudioWAV/1015_TIE_DIS_XX.wav', '/content/AudioWAV/1049_ITH_DIS_XX.wav', '/content/AudioWAV/1057_MTI_DIS_XX.wav', '/content/AudioWAV/1090_TSI_DIS_XX.wav', '/content/AudioWAV/1025_ITH_DIS_XX.wav', '/content/AudioWAV/1020_IWL_DIS_XX.wav', '/content/AudioWAV/1053_IEO_DIS_LO.wav', '/content/AudioWAV/1062_IOM_DIS_XX.wav', '/content/AudioWAV/1061_DFA_DIS_XX.wav', '/content/AudioWAV/1011_IWW_DIS_XX.wav', '/content/AudioWAV/1013_TIE_DIS_XX.wav', '/content/AudioWAV/1081_ITH_DIS_XX.wav', '/content/AudioWAV/1053_DFA_DIS_XX.wav', '/content/AudioWAV/1060_IOM_DIS_XX.wav', '/content/AudioWAV/1082_TSI_DIS_XX.wav', '/content/AudioWAV/1033_IWL_DIS_XX.wav', '/content/AudioWAV/1079_IOM_DIS_XX.wav', '/content/AudioWAV/1056_TAI_DIS_XX.wav', '/content/AudioWAV/1005_ITH_DIS_XX.wav', '/content/AudioWAV/1084_IWW_DIS_XX.wav', '/content/AudioWAV/1060_TSI_DIS_XX.wav', '/content/AudioWAV/1083_IEO_DIS_LO.wav', '/content/AudioWAV/1023_WSI_DIS_XX.wav', '/content/AudioWAV/1085_WSI_DIS_XX.wav', '/content/AudioWAV/1007_IWW_DIS_XX.wav', '/content/AudioWAV/1080_TSI_DIS_XX.wav', '/content/AudioWAV/1081_TIE_DIS_XX.wav', '/content/AudioWAV/1069_IEO_DIS_MD.wav', '/content/AudioWAV/1059_TSI_DIS_XX.wav', '/content/AudioWAV/1035_IWW_DIS_XX.wav', '/content/AudioWAV/1021_ITS_DIS_XX.wav', '/content/AudioWAV/1066_IEO_DIS_HI.wav', '/content/AudioWAV/1020_IOM_DIS_XX.wav', '/content/AudioWAV/1021_MTI_DIS_XX.wav', '/content/AudioWAV/1087_DFA_DIS_XX.wav', '/content/AudioWAV/1062_IWW_DIS_XX.wav', '/content/AudioWAV/1058_MTI_DIS_XX.wav', '/content/AudioWAV/1083_TIE_DIS_XX.wav', '/content/AudioWAV/1081_ITS_DIS_XX.wav', '/content/AudioWAV/1022_DFA_DIS_XX.wav', '/content/AudioWAV/1067_IEO_DIS_LO.wav', '/content/AudioWAV/1065_TSI_DIS_XX.wav', '/content/AudioWAV/1091_IWL_DIS_XX.wav', '/content/AudioWAV/1041_DFA_DIS_XX.wav', '/content/AudioWAV/1026_DFA_DIS_XX.wav', '/content/AudioWAV/1077_IEO_DIS_LO.wav', '/content/AudioWAV/1008_TIE_DIS_XX.wav', '/content/AudioWAV/1067_IEO_DIS_HI.wav', '/content/AudioWAV/1084_WSI_DIS_XX.wav', '/content/AudioWAV/1023_IEO_DIS_MD.wav', '/content/AudioWAV/1023_IOM_DIS_XX.wav', '/content/AudioWAV/1072_ITH_DIS_XX.wav', '/content/AudioWAV/1016_IWL_DIS_XX.wav', '/content/AudioWAV/1019_IEO_DIS_LO.wav', '/content/AudioWAV/1027_ITS_DIS_XX.wav', '/content/AudioWAV/1010_IWL_DIS_XX.wav', '/content/AudioWAV/1086_WSI_DIS_XX.wav', '/content/AudioWAV/1022_ITS_DIS_XX.wav', '/content/AudioWAV/1053_ITH_DIS_XX.wav', '/content/AudioWAV/1055_ITS_DIS_XX.wav', '/content/AudioWAV/1083_TAI_DIS_XX.wav', '/content/AudioWAV/1007_WSI_DIS_XX.wav', '/content/AudioWAV/1002_ITS_DIS_XX.wav', '/content/AudioWAV/1008_IWL_DIS_XX.wav', '/content/AudioWAV/1053_IEO_DIS_HI.wav', '/content/AudioWAV/1082_IEO_DIS_LO.wav', '/content/AudioWAV/1064_IWL_DIS_XX.wav', '/content/AudioWAV/1002_TSI_DIS_XX.wav', '/content/AudioWAV/1038_ITS_DIS_XX.wav', '/content/AudioWAV/1079_TIE_DIS_XX.wav', '/content/AudioWAV/1024_ITS_DIS_XX.wav', '/content/AudioWAV/1059_MTI_DIS_XX.wav', '/content/AudioWAV/1089_IWL_DIS_XX.wav', '/content/AudioWAV/1011_WSI_DIS_XX.wav', '/content/AudioWAV/1060_TIE_DIS_XX.wav', '/content/AudioWAV/1067_IOM_DIS_XX.wav', '/content/AudioWAV/1090_TIE_DIS_XX.wav', '/content/AudioWAV/1048_TIE_DIS_XX.wav', '/content/AudioWAV/1056_IWL_DIS_XX.wav', '/content/AudioWAV/1080_ITS_DIS_XX.wav', '/content/AudioWAV/1030_IEO_DIS_LO.wav', '/content/AudioWAV/1065_IEO_DIS_MD.wav', '/content/AudioWAV/1074_MTI_DIS_XX.wav', '/content/AudioWAV/1028_TAI_DIS_XX.wav', '/content/AudioWAV/1062_WSI_DIS_XX.wav', '/content/AudioWAV/1056_ITH_DIS_XX.wav', '/content/AudioWAV/1033_TIE_DIS_XX.wav', '/content/AudioWAV/1090_MTI_DIS_XX.wav', '/content/AudioWAV/1004_WSI_DIS_XX.wav', '/content/AudioWAV/1033_IWW_DIS_XX.wav', '/content/AudioWAV/1031_IWL_DIS_XX.wav', '/content/AudioWAV/1033_IOM_DIS_XX.wav', '/content/AudioWAV/1038_DFA_DIS_XX.wav', '/content/AudioWAV/1041_WSI_DIS_XX.wav', '/content/AudioWAV/1046_IWL_DIS_XX.wav', '/content/AudioWAV/1070_IWL_DIS_XX.wav', '/content/AudioWAV/1009_WSI_DIS_XX.wav', '/content/AudioWAV/1075_IEO_DIS_LO.wav', '/content/AudioWAV/1073_TSI_DIS_XX.wav', '/content/AudioWAV/1059_ITS_DIS_XX.wav', '/content/AudioWAV/1004_TIE_DIS_XX.wav', '/content/AudioWAV/1076_IWW_DIS_XX.wav', '/content/AudioWAV/1076_TSI_DIS_XX.wav', '/content/AudioWAV/1087_IOM_DIS_XX.wav', '/content/AudioWAV/1045_TAI_DIS_XX.wav', '/content/AudioWAV/1024_IWW_DIS_XX.wav', '/content/AudioWAV/1013_DFA_DIS_XX.wav', '/content/AudioWAV/1006_TIE_DIS_XX.wav', '/content/AudioWAV/1001_IOM_DIS_XX.wav', '/content/AudioWAV/1069_WSI_DIS_XX.wav', '/content/AudioWAV/1040_ITS_DIS_XX.wav', '/content/AudioWAV/1046_TIE_DIS_XX.wav', '/content/AudioWAV/1079_MTI_DIS_XX.wav', '/content/AudioWAV/1074_ITH_DIS_XX.wav', '/content/AudioWAV/1003_IEO_DIS_LO.wav', '/content/AudioWAV/1080_IWL_DIS_XX.wav', '/content/AudioWAV/1072_TIE_DIS_XX.wav', '/content/AudioWAV/1077_TIE_DIS_XX.wav', '/content/AudioWAV/1030_TIE_DIS_XX.wav', '/content/AudioWAV/1042_ITH_DIS_XX.wav', '/content/AudioWAV/1014_TSI_DIS_XX.wav', '/content/AudioWAV/1037_IOM_DIS_XX.wav', '/content/AudioWAV/1034_IWL_DIS_XX.wav', '/content/AudioWAV/1008_IOM_DIS_XX.wav', '/content/AudioWAV/1011_IEO_DIS_LO.wav', '/content/AudioWAV/1027_MTI_DIS_XX.wav', '/content/AudioWAV/1028_ITS_DIS_XX.wav', '/content/AudioWAV/1051_IEO_DIS_LO.wav', '/content/AudioWAV/1009_IWW_DIS_XX.wav', '/content/AudioWAV/1049_IWL_DIS_XX.wav', '/content/AudioWAV/1027_TAI_DIS_XX.wav', '/content/AudioWAV/1016_TSI_DIS_XX.wav', '/content/AudioWAV/1076_ITH_DIS_XX.wav', '/content/AudioWAV/1080_IWW_DIS_XX.wav', '/content/AudioWAV/1083_ITS_DIS_XX.wav', '/content/AudioWAV/1071_IOM_DIS_XX.wav', '/content/AudioWAV/1087_TAI_DIS_XX.wav', '/content/AudioWAV/1054_IEO_DIS_MD.wav', '/content/AudioWAV/1023_TSI_DIS_XX.wav', '/content/AudioWAV/1051_IEO_DIS_HI.wav', '/content/AudioWAV/1084_TIE_DIS_XX.wav', '/content/AudioWAV/1011_TIE_DIS_XX.wav', '/content/AudioWAV/1052_IEO_DIS_LO.wav', '/content/AudioWAV/1029_IOM_DIS_XX.wav', '/content/AudioWAV/1028_TSI_DIS_XX.wav', '/content/AudioWAV/1049_IEO_DIS_HI.wav', '/content/AudioWAV/1051_WSI_DIS_XX.wav', '/content/AudioWAV/1039_MTI_DIS_XX.wav', '/content/AudioWAV/1008_ITH_DIS_XX.wav', '/content/AudioWAV/1068_IWL_DIS_XX.wav', '/content/AudioWAV/1048_MTI_DIS_XX.wav', '/content/AudioWAV/1012_IEO_DIS_MD.wav', '/content/AudioWAV/1026_IEO_DIS_LO.wav', '/content/AudioWAV/1016_ITH_DIS_XX.wav', '/content/AudioWAV/1065_IWW_DIS_XX.wav', '/content/AudioWAV/1050_ITH_DIS_XX.wav', '/content/AudioWAV/1056_DFA_DIS_XX.wav', '/content/AudioWAV/1055_IEO_DIS_MD.wav', '/content/AudioWAV/1010_ITH_DIS_XX.wav', '/content/AudioWAV/1078_DFA_DIS_XX.wav', '/content/AudioWAV/1085_TSI_DIS_XX.wav', '/content/AudioWAV/1078_TAI_DIS_XX.wav', '/content/AudioWAV/1085_ITH_DIS_XX.wav', '/content/AudioWAV/1037_IEO_DIS_MD.wav', '/content/AudioWAV/1012_WSI_DIS_XX.wav', '/content/AudioWAV/1091_ITH_DIS_XX.wav', '/content/AudioWAV/1033_TAI_DIS_XX.wav', '/content/AudioWAV/1086_MTI_DIS_XX.wav', '/content/AudioWAV/1075_DFA_DIS_XX.wav', '/content/AudioWAV/1074_DFA_DIS_XX.wav', '/content/AudioWAV/1047_TIE_DIS_XX.wav', '/content/AudioWAV/1010_TSI_DIS_XX.wav', '/content/AudioWAV/1051_MTI_DIS_XX.wav', '/content/AudioWAV/1022_TSI_DIS_XX.wav', '/content/AudioWAV/1031_IWW_DIS_XX.wav', '/content/AudioWAV/1084_TAI_DIS_XX.wav', '/content/AudioWAV/1037_WSI_DIS_XX.wav', '/content/AudioWAV/1054_ITH_DIS_XX.wav', '/content/AudioWAV/1076_WSI_DIS_XX.wav', '/content/AudioWAV/1072_IEO_DIS_HI.wav', '/content/AudioWAV/1006_ITH_DIS_XX.wav', '/content/AudioWAV/1069_IWW_DIS_XX.wav', '/content/AudioWAV/1029_IWW_DIS_XX.wav', '/content/AudioWAV/1050_TIE_DIS_XX.wav', '/content/AudioWAV/1059_ITH_DIS_XX.wav', '/content/AudioWAV/1004_IEO_DIS_HI.wav', '/content/AudioWAV/1032_MTI_DIS_XX.wav', '/content/AudioWAV/1072_TAI_DIS_XX.wav', '/content/AudioWAV/1018_ITH_DIS_XX.wav', '/content/AudioWAV/1005_TSI_DIS_XX.wav', '/content/AudioWAV/1013_IEO_DIS_LO.wav', '/content/AudioWAV/1056_IEO_DIS_HI.wav', '/content/AudioWAV/1054_IWW_DIS_XX.wav', '/content/AudioWAV/1065_DFA_DIS_XX.wav', '/content/AudioWAV/1034_DFA_DIS_XX.wav', '/content/AudioWAV/1073_IEO_DIS_LO.wav', '/content/AudioWAV/1069_TSI_DIS_XX.wav', '/content/AudioWAV/1035_WSI_DIS_XX.wav', '/content/AudioWAV/1057_TIE_DIS_XX.wav', '/content/AudioWAV/1006_IOM_DIS_XX.wav', '/content/AudioWAV/1039_IWW_DIS_XX.wav', '/content/AudioWAV/1078_IWW_DIS_XX.wav', '/content/AudioWAV/1037_IEO_DIS_LO.wav', '/content/AudioWAV/1003_MTI_DIS_XX.wav', '/content/AudioWAV/1044_IEO_DIS_HI.wav', '/content/AudioWAV/1020_MTI_DIS_XX.wav', '/content/AudioWAV/1064_IEO_DIS_HI.wav', '/content/AudioWAV/1054_ITS_DIS_XX.wav', '/content/AudioWAV/1061_TSI_DIS_XX.wav', '/content/AudioWAV/1045_DFA_DIS_XX.wav', '/content/AudioWAV/1025_TSI_DIS_XX.wav', '/content/AudioWAV/1084_IOM_DIS_XX.wav', '/content/AudioWAV/1050_IEO_DIS_HI.wav', '/content/AudioWAV/1041_IEO_DIS_MD.wav', '/content/AudioWAV/1070_IEO_DIS_LO.wav', '/content/AudioWAV/1076_TAI_DIS_XX.wav', '/content/AudioWAV/1065_IEO_DIS_HI.wav', '/content/AudioWAV/1018_IEO_DIS_HI.wav', '/content/AudioWAV/1043_DFA_DIS_XX.wav', '/content/AudioWAV/1058_IEO_DIS_MD.wav', '/content/AudioWAV/1039_ITS_DIS_XX.wav', '/content/AudioWAV/1091_IWW_DIS_XX.wav', '/content/AudioWAV/1067_TIE_DIS_XX.wav', '/content/AudioWAV/1031_ITS_DIS_XX.wav', '/content/AudioWAV/1088_ITH_DIS_XX.wav', '/content/AudioWAV/1057_IWW_DIS_XX.wav', '/content/AudioWAV/1058_IEO_DIS_LO.wav', '/content/AudioWAV/1066_MTI_DIS_XX.wav', '/content/AudioWAV/1013_IEO_DIS_HI.wav', '/content/AudioWAV/1060_IEO_DIS_LO.wav', '/content/AudioWAV/1074_IEO_DIS_LO.wav', '/content/AudioWAV/1008_TSI_DIS_XX.wav', '/content/AudioWAV/1032_ITH_DIS_XX.wav', '/content/AudioWAV/1040_IOM_DIS_XX.wav', '/content/AudioWAV/1063_IEO_DIS_HI.wav', '/content/AudioWAV/1001_WSI_DIS_XX.wav', '/content/AudioWAV/1051_TAI_DIS_XX.wav', '/content/AudioWAV/1042_WSI_DIS_XX.wav', '/content/AudioWAV/1006_WSI_DIS_XX.wav', '/content/AudioWAV/1047_ITH_DIS_XX.wav', '/content/AudioWAV/1075_TIE_DIS_XX.wav', '/content/AudioWAV/1041_TAI_DIS_XX.wav', '/content/AudioWAV/1070_MTI_DIS_XX.wav', '/content/AudioWAV/1060_TAI_DIS_XX.wav', '/content/AudioWAV/1084_TSI_DIS_XX.wav', '/content/AudioWAV/1082_TAI_DIS_XX.wav', '/content/AudioWAV/1019_DFA_DIS_XX.wav', '/content/AudioWAV/1005_ITS_DIS_XX.wav', '/content/AudioWAV/1061_WSI_DIS_XX.wav', '/content/AudioWAV/1083_IWL_DIS_XX.wav', '/content/AudioWAV/1046_WSI_DIS_XX.wav', '/content/AudioWAV/1060_DFA_DIS_XX.wav', '/content/AudioWAV/1068_IOM_DIS_XX.wav', '/content/AudioWAV/1065_MTI_DIS_XX.wav', '/content/AudioWAV/1001_ITS_DIS_XX.wav', '/content/AudioWAV/1085_IEO_DIS_HI.wav', '/content/AudioWAV/1081_IEO_DIS_HI.wav', '/content/AudioWAV/1039_DFA_DIS_XX.wav', '/content/AudioWAV/1074_IWW_DIS_XX.wav', '/content/AudioWAV/1084_IEO_DIS_HI.wav', '/content/AudioWAV/1066_ITS_DIS_XX.wav', '/content/AudioWAV/1051_DFA_DIS_XX.wav', '/content/AudioWAV/1071_ITS_DIS_XX.wav', '/content/AudioWAV/1012_IOM_DIS_XX.wav', '/content/AudioWAV/1043_IEO_DIS_LO.wav', '/content/AudioWAV/1076_ITS_DIS_XX.wav', '/content/AudioWAV/1064_IEO_DIS_LO.wav', '/content/AudioWAV/1029_TIE_DIS_XX.wav', '/content/AudioWAV/1073_MTI_DIS_XX.wav', '/content/AudioWAV/1062_TIE_DIS_XX.wav', '/content/AudioWAV/1052_TAI_DIS_XX.wav', '/content/AudioWAV/1008_IEO_DIS_HI.wav', '/content/AudioWAV/1079_IWL_DIS_XX.wav', '/content/AudioWAV/1077_ITH_DIS_XX.wav', '/content/AudioWAV/1040_IEO_DIS_LO.wav', '/content/AudioWAV/1016_IEO_DIS_HI.wav', '/content/AudioWAV/1047_IWW_DIS_XX.wav', '/content/AudioWAV/1031_ITH_DIS_XX.wav', '/content/AudioWAV/1066_IOM_DIS_XX.wav', '/content/AudioWAV/1079_IEO_DIS_LO.wav', '/content/AudioWAV/1083_ITH_DIS_XX.wav', '/content/AudioWAV/1082_IOM_DIS_XX.wav', '/content/AudioWAV/1084_IEO_DIS_MD.wav', '/content/AudioWAV/1017_MTI_DIS_XX.wav', '/content/AudioWAV/1035_IEO_DIS_MD.wav', '/content/AudioWAV/1071_TAI_DIS_XX.wav', '/content/AudioWAV/1044_DFA_DIS_XX.wav', '/content/AudioWAV/1026_IOM_DIS_XX.wav', '/content/AudioWAV/1051_ITS_DIS_XX.wav', '/content/AudioWAV/1014_IOM_DIS_XX.wav', '/content/AudioWAV/1073_IEO_DIS_HI.wav', '/content/AudioWAV/1003_IWL_DIS_XX.wav', '/content/AudioWAV/1018_IEO_DIS_LO.wav', '/content/AudioWAV/1060_ITH_DIS_XX.wav', '/content/AudioWAV/1009_ITS_DIS_XX.wav', '/content/AudioWAV/1061_IEO_DIS_HI.wav', '/content/AudioWAV/1056_TIE_DIS_XX.wav', '/content/AudioWAV/1032_IEO_DIS_HI.wav', '/content/AudioWAV/1019_ITS_DIS_XX.wav', '/content/AudioWAV/1067_IWL_DIS_XX.wav', '/content/AudioWAV/1028_IEO_DIS_MD.wav', '/content/AudioWAV/1003_IEO_DIS_MD.wav', '/content/AudioWAV/1087_IEO_DIS_LO.wav', '/content/AudioWAV/1024_IOM_DIS_XX.wav', '/content/AudioWAV/1036_TSI_DIS_XX.wav', '/content/AudioWAV/1087_IEO_DIS_HI.wav', '/content/AudioWAV/1055_TIE_DIS_XX.wav', '/content/AudioWAV/1061_TAI_DIS_XX.wav', '/content/AudioWAV/1004_ITH_DIS_XX.wav', '/content/AudioWAV/1039_TAI_DIS_XX.wav', '/content/AudioWAV/1056_TSI_DIS_XX.wav', '/content/AudioWAV/1044_IWL_DIS_XX.wav', '/content/AudioWAV/1031_MTI_DIS_XX.wav', '/content/AudioWAV/1011_IOM_DIS_XX.wav', '/content/AudioWAV/1035_IEO_DIS_HI.wav', '/content/AudioWAV/1030_WSI_DIS_XX.wav', '/content/AudioWAV/1005_DFA_DIS_XX.wav', '/content/AudioWAV/1001_DFA_DIS_XX.wav', '/content/AudioWAV/1032_TIE_DIS_XX.wav', '/content/AudioWAV/1068_IEO_DIS_LO.wav', '/content/AudioWAV/1043_WSI_DIS_XX.wav', '/content/AudioWAV/1078_TIE_DIS_XX.wav', '/content/AudioWAV/1026_ITH_DIS_XX.wav', '/content/AudioWAV/1049_TIE_DIS_XX.wav', '/content/AudioWAV/1023_MTI_DIS_XX.wav', '/content/AudioWAV/1023_IEO_DIS_HI.wav', '/content/AudioWAV/1063_TIE_DIS_XX.wav', '/content/AudioWAV/1068_TAI_DIS_XX.wav', '/content/AudioWAV/1006_TSI_DIS_XX.wav', '/content/AudioWAV/1073_IEO_DIS_MD.wav', '/content/AudioWAV/1009_IOM_DIS_XX.wav', '/content/AudioWAV/1050_TAI_DIS_XX.wav', '/content/AudioWAV/1018_IEO_DIS_MD.wav', '/content/AudioWAV/1090_IEO_DIS_MD.wav', '/content/AudioWAV/1074_TIE_DIS_XX.wav', '/content/AudioWAV/1024_DFA_DIS_XX.wav', '/content/AudioWAV/1045_TIE_DIS_XX.wav', '/content/AudioWAV/1038_TIE_DIS_XX.wav', '/content/AudioWAV/1004_IOM_DIS_XX.wav', '/content/AudioWAV/1079_TSI_DIS_XX.wav', '/content/AudioWAV/1053_ITS_DIS_XX.wav', '/content/AudioWAV/1015_IEO_DIS_LO.wav', '/content/AudioWAV/1003_ITH_DIS_XX.wav', '/content/AudioWAV/1080_TAI_DIS_XX.wav', '/content/AudioWAV/1025_IWW_DIS_XX.wav', '/content/AudioWAV/1089_IEO_DIS_LO.wav', '/content/AudioWAV/1086_IEO_DIS_LO.wav', '/content/AudioWAV/1062_MTI_DIS_XX.wav', '/content/AudioWAV/1059_TIE_DIS_XX.wav', '/content/AudioWAV/1013_IOM_DIS_XX.wav', '/content/AudioWAV/1082_DFA_DIS_XX.wav', '/content/AudioWAV/1022_IWL_DIS_XX.wav', '/content/AudioWAV/1061_ITS_DIS_XX.wav', '/content/AudioWAV/1042_DFA_DIS_XX.wav', '/content/AudioWAV/1086_IEO_DIS_HI.wav', '/content/AudioWAV/1057_IOM_DIS_XX.wav', '/content/AudioWAV/1054_MTI_DIS_XX.wav', '/content/AudioWAV/1058_IOM_DIS_XX.wav', '/content/AudioWAV/1071_TIE_DIS_XX.wav', '/content/AudioWAV/1007_TAI_DIS_XX.wav', '/content/AudioWAV/1062_TSI_DIS_XX.wav', '/content/AudioWAV/1029_TAI_DIS_XX.wav', '/content/AudioWAV/1036_TIE_DIS_XX.wav', '/content/AudioWAV/1062_ITS_DIS_XX.wav', '/content/AudioWAV/1027_IWL_DIS_XX.wav', '/content/AudioWAV/1034_IOM_DIS_XX.wav', '/content/AudioWAV/1051_TIE_DIS_XX.wav', '/content/AudioWAV/1073_ITS_DIS_XX.wav', '/content/AudioWAV/1011_ITH_DIS_XX.wav', '/content/AudioWAV/1029_IEO_DIS_MD.wav', '/content/AudioWAV/1004_IWL_DIS_XX.wav', '/content/AudioWAV/1054_WSI_DIS_XX.wav', '/content/AudioWAV/1008_ITS_DIS_XX.wav', '/content/AudioWAV/1029_MTI_DIS_XX.wav', '/content/AudioWAV/1046_IEO_DIS_LO.wav', '/content/AudioWAV/1043_IWL_DIS_XX.wav', '/content/AudioWAV/1021_IWL_DIS_XX.wav', '/content/AudioWAV/1066_ITH_DIS_XX.wav', '/content/AudioWAV/1021_IEO_DIS_MD.wav', '/content/AudioWAV/1052_MTI_DIS_XX.wav', '/content/AudioWAV/1068_IEO_DIS_MD.wav', '/content/AudioWAV/1032_IWL_DIS_XX.wav', '/content/AudioWAV/1026_ITS_DIS_XX.wav', '/content/AudioWAV/1089_WSI_DIS_XX.wav', '/content/AudioWAV/1019_IWW_DIS_XX.wav', '/content/AudioWAV/1007_IEO_DIS_HI.wav', '/content/AudioWAV/1067_ITH_DIS_XX.wav', '/content/AudioWAV/1022_IWW_DIS_XX.wav', '/content/AudioWAV/1025_IEO_DIS_HI.wav', '/content/AudioWAV/1004_DFA_DIS_XX.wav', '/content/AudioWAV/1030_TSI_DIS_XX.wav', '/content/AudioWAV/1022_WSI_DIS_XX.wav', '/content/AudioWAV/1059_WSI_DIS_XX.wav', '/content/AudioWAV/1001_IEO_DIS_MD.wav', '/content/AudioWAV/1040_IWL_DIS_XX.wav', '/content/AudioWAV/1003_TIE_DIS_XX.wav', '/content/AudioWAV/1036_DFA_DIS_XX.wav', '/content/AudioWAV/1065_IWL_DIS_XX.wav', '/content/AudioWAV/1059_IEO_DIS_LO.wav', '/content/AudioWAV/1069_ITS_DIS_XX.wav', '/content/AudioWAV/1036_IOM_DIS_XX.wav', '/content/AudioWAV/1027_IOM_DIS_XX.wav', '/content/AudioWAV/1012_IWW_DIS_XX.wav', '/content/AudioWAV/1064_TAI_DIS_XX.wav', '/content/AudioWAV/1015_DFA_DIS_XX.wav', '/content/AudioWAV/1083_IEO_DIS_HI.wav', '/content/AudioWAV/1055_IOM_DIS_XX.wav', '/content/AudioWAV/1034_MTI_DIS_XX.wav', '/content/AudioWAV/1072_TSI_DIS_XX.wav', '/content/AudioWAV/1058_DFA_DIS_XX.wav', '/content/AudioWAV/1090_ITS_DIS_XX.wav', '/content/AudioWAV/1073_IWL_DIS_XX.wav', '/content/AudioWAV/1073_TIE_DIS_XX.wav', '/content/AudioWAV/1081_WSI_DIS_XX.wav', '/content/AudioWAV/1002_IEO_DIS_MD.wav', '/content/AudioWAV/1048_IWL_DIS_XX.wav', '/content/AudioWAV/1034_IEO_DIS_MD.wav', '/content/AudioWAV/1083_WSI_DIS_XX.wav', '/content/AudioWAV/1044_WSI_DIS_XX.wav', '/content/AudioWAV/1021_ITH_DIS_XX.wav', '/content/AudioWAV/1028_IWW_DIS_XX.wav', '/content/AudioWAV/1036_IEO_DIS_MD.wav', '/content/AudioWAV/1059_IEO_DIS_HI.wav', '/content/AudioWAV/1067_ITS_DIS_XX.wav', '/content/AudioWAV/1036_ITH_DIS_XX.wav', '/content/AudioWAV/1073_TAI_DIS_XX.wav', '/content/AudioWAV/1081_TAI_DIS_XX.wav', '/content/AudioWAV/1071_WSI_DIS_XX.wav', '/content/AudioWAV/1017_WSI_DIS_XX.wav', '/content/AudioWAV/1013_IWW_DIS_XX.wav', '/content/AudioWAV/1084_DFA_DIS_XX.wav', '/content/AudioWAV/1079_DFA_DIS_XX.wav', '/content/AudioWAV/1028_IEO_DIS_HI.wav', '/content/AudioWAV/1015_IEO_DIS_HI.wav', '/content/AudioWAV/1035_TSI_DIS_XX.wav', '/content/AudioWAV/1048_IEO_DIS_MD.wav', '/content/AudioWAV/1017_ITS_DIS_XX.wav', '/content/AudioWAV/1027_IEO_DIS_HI.wav', '/content/AudioWAV/1061_IEO_DIS_LO.wav', '/content/AudioWAV/1034_ITS_DIS_XX.wav', '/content/AudioWAV/1055_WSI_DIS_XX.wav', '/content/AudioWAV/1047_IEO_DIS_LO.wav', '/content/AudioWAV/1016_IEO_DIS_LO.wav', '/content/AudioWAV/1011_DFA_DIS_XX.wav', '/content/AudioWAV/1040_IEO_DIS_HI.wav', '/content/AudioWAV/1006_TAI_DIS_XX.wav', '/content/AudioWAV/1009_ITH_DIS_XX.wav', '/content/AudioWAV/1055_ITH_DIS_XX.wav', '/content/AudioWAV/1022_IEO_DIS_MD.wav', '/content/AudioWAV/1038_ITH_DIS_XX.wav', '/content/AudioWAV/1049_TAI_DIS_XX.wav', '/content/AudioWAV/1029_IEO_DIS_HI.wav', '/content/AudioWAV/1017_TAI_DIS_XX.wav', '/content/AudioWAV/1051_IOM_DIS_XX.wav', '/content/AudioWAV/1079_TAI_DIS_XX.wav', '/content/AudioWAV/1030_ITS_DIS_XX.wav', '/content/AudioWAV/1071_IEO_DIS_HI.wav', '/content/AudioWAV/1010_DFA_DIS_XX.wav', '/content/AudioWAV/1088_TSI_DIS_XX.wav', '/content/AudioWAV/1038_WSI_DIS_XX.wav', '/content/AudioWAV/1087_WSI_DIS_XX.wav', '/content/AudioWAV/1068_ITH_DIS_XX.wav', '/content/AudioWAV/1033_WSI_DIS_XX.wav', '/content/AudioWAV/1067_MTI_DIS_XX.wav', '/content/AudioWAV/1059_IWL_DIS_XX.wav', '/content/AudioWAV/1014_IEO_DIS_LO.wav', '/content/AudioWAV/1054_TSI_DIS_XX.wav', '/content/AudioWAV/1037_TSI_DIS_XX.wav', '/content/AudioWAV/1017_TSI_DIS_XX.wav', '/content/AudioWAV/1019_TAI_DIS_XX.wav', '/content/AudioWAV/1064_IOM_DIS_XX.wav', '/content/AudioWAV/1037_ITH_DIS_XX.wav', '/content/AudioWAV/1015_IOM_DIS_XX.wav', '/content/AudioWAV/1074_TAI_DIS_XX.wav', '/content/AudioWAV/1007_DFA_DIS_XX.wav', '/content/AudioWAV/1029_TSI_DIS_XX.wav', '/content/AudioWAV/1067_TAI_DIS_XX.wav', '/content/AudioWAV/1047_IEO_DIS_MD.wav', '/content/AudioWAV/1055_TAI_DIS_XX.wav', '/content/AudioWAV/1007_IEO_DIS_MD.wav', '/content/AudioWAV/1038_TAI_DIS_XX.wav', '/content/AudioWAV/1087_IEO_DIS_MD.wav', '/content/AudioWAV/1036_MTI_DIS_XX.wav', '/content/AudioWAV/1064_TSI_DIS_XX.wav', '/content/AudioWAV/1018_IWL_DIS_XX.wav', '/content/AudioWAV/1024_MTI_DIS_XX.wav', '/content/AudioWAV/1082_IWW_DIS_XX.wav', '/content/AudioWAV/1046_IOM_DIS_XX.wav', '/content/AudioWAV/1066_IWW_DIS_XX.wav', '/content/AudioWAV/1071_ITH_DIS_XX.wav', '/content/AudioWAV/1073_IOM_DIS_XX.wav', '/content/AudioWAV/1086_TIE_DIS_XX.wav', '/content/AudioWAV/1041_IWW_DIS_XX.wav', '/content/AudioWAV/1049_IEO_DIS_MD.wav', '/content/AudioWAV/1021_TAI_DIS_XX.wav', '/content/AudioWAV/1061_MTI_DIS_XX.wav', '/content/AudioWAV/1080_IOM_DIS_XX.wav', '/content/AudioWAV/1060_ITS_DIS_XX.wav', '/content/AudioWAV/1041_MTI_DIS_XX.wav', '/content/AudioWAV/1004_MTI_DIS_XX.wav', '/content/AudioWAV/1001_MTI_DIS_XX.wav', '/content/AudioWAV/1089_TAI_DIS_XX.wav', '/content/AudioWAV/1063_DFA_DIS_XX.wav', '/content/AudioWAV/1084_IWL_DIS_XX.wav', '/content/AudioWAV/1060_IWW_DIS_XX.wav', '/content/AudioWAV/1057_IWL_DIS_XX.wav', '/content/AudioWAV/1079_IWW_DIS_XX.wav', '/content/AudioWAV/1052_TIE_DIS_XX.wav', '/content/AudioWAV/1044_TSI_DIS_XX.wav', '/content/AudioWAV/1009_TSI_DIS_XX.wav', '/content/AudioWAV/1037_IEO_DIS_HI.wav', '/content/AudioWAV/1077_TAI_DIS_XX.wav', '/content/AudioWAV/1076_IEO_DIS_MD.wav', '/content/AudioWAV/1005_IOM_DIS_XX.wav', '/content/AudioWAV/1088_IEO_DIS_LO.wav', '/content/AudioWAV/1054_DFA_DIS_XX.wav', '/content/AudioWAV/1016_DFA_DIS_XX.wav', '/content/AudioWAV/1016_IEO_DIS_MD.wav', '/content/AudioWAV/1005_IEO_DIS_LO.wav', '/content/AudioWAV/1033_DFA_DIS_XX.wav', '/content/AudioWAV/1057_IEO_DIS_MD.wav', '/content/AudioWAV/1035_IOM_DIS_XX.wav', '/content/AudioWAV/1034_ITH_DIS_XX.wav', '/content/AudioWAV/1061_IEO_DIS_MD.wav', '/content/AudioWAV/1007_ITH_DIS_XX.wav', '/content/AudioWAV/1085_MTI_DIS_XX.wav', '/content/AudioWAV/1018_TAI_DIS_XX.wav', '/content/AudioWAV/1019_IWL_DIS_XX.wav', '/content/AudioWAV/1069_IWL_DIS_XX.wav', '/content/AudioWAV/1088_WSI_DIS_XX.wav', '/content/AudioWAV/1034_TSI_DIS_XX.wav', '/content/AudioWAV/1042_TIE_DIS_XX.wav', '/content/AudioWAV/1080_DFA_DIS_XX.wav', '/content/AudioWAV/1040_IWW_DIS_XX.wav', '/content/AudioWAV/1061_IWL_DIS_XX.wav', '/content/AudioWAV/1005_TIE_DIS_XX.wav', '/content/AudioWAV/1046_ITH_DIS_XX.wav', '/content/AudioWAV/1080_IEO_DIS_HI.wav', '/content/AudioWAV/1012_TIE_DIS_XX.wav', '/content/AudioWAV/1087_TIE_DIS_XX.wav', '/content/AudioWAV/1012_ITS_DIS_XX.wav', '/content/AudioWAV/1050_TSI_DIS_XX.wav', '/content/AudioWAV/1056_ITS_DIS_XX.wav', '/content/AudioWAV/1026_TAI_DIS_XX.wav', '/content/AudioWAV/1036_ITS_DIS_XX.wav', '/content/AudioWAV/1050_IEO_DIS_LO.wav', '/content/AudioWAV/1033_IEO_DIS_MD.wav', '/content/AudioWAV/1025_WSI_DIS_XX.wav', '/content/AudioWAV/1079_IEO_DIS_HI.wav', '/content/AudioWAV/1017_IEO_DIS_HI.wav', '/content/AudioWAV/1072_MTI_DIS_XX.wav', '/content/AudioWAV/1039_WSI_DIS_XX.wav', '/content/AudioWAV/1027_DFA_DIS_XX.wav', '/content/AudioWAV/1032_DFA_DIS_XX.wav', '/content/AudioWAV/1001_IWW_DIS_XX.wav', '/content/AudioWAV/1088_ITS_DIS_XX.wav', '/content/AudioWAV/1020_WSI_DIS_XX.wav', '/content/AudioWAV/1027_WSI_DIS_XX.wav', '/content/AudioWAV/1041_ITH_DIS_XX.wav', '/content/AudioWAV/1042_ITS_DIS_XX.wav', '/content/AudioWAV/1017_ITH_DIS_XX.wav', '/content/AudioWAV/1038_IWL_DIS_XX.wav', '/content/AudioWAV/1069_ITH_DIS_XX.wav', '/content/AudioWAV/1057_IEO_DIS_LO.wav', '/content/AudioWAV/1082_ITH_DIS_XX.wav', '/content/AudioWAV/1012_MTI_DIS_XX.wav', '/content/AudioWAV/1001_IWL_DIS_XX.wav', '/content/AudioWAV/1064_ITS_DIS_XX.wav', '/content/AudioWAV/1020_IWW_DIS_XX.wav', '/content/AudioWAV/1075_IOM_DIS_XX.wav', '/content/AudioWAV/1051_ITH_DIS_XX.wav', '/content/AudioWAV/1089_MTI_DIS_XX.wav', '/content/AudioWAV/1074_WSI_DIS_XX.wav', '/content/AudioWAV/1034_TIE_DIS_XX.wav', '/content/AudioWAV/1016_IWW_DIS_XX.wav', '/content/AudioWAV/1015_IWW_DIS_XX.wav', '/content/AudioWAV/1058_WSI_DIS_XX.wav', '/content/AudioWAV/1053_IOM_DIS_XX.wav', '/content/AudioWAV/1046_MTI_DIS_XX.wav', '/content/AudioWAV/1076_IEO_DIS_LO.wav', '/content/AudioWAV/1018_WSI_DIS_XX.wav', '/content/AudioWAV/1056_MTI_DIS_XX.wav', '/content/AudioWAV/1068_IWW_DIS_XX.wav', '/content/AudioWAV/1031_TAI_DIS_XX.wav', '/content/AudioWAV/1002_DFA_DIS_XX.wav', '/content/AudioWAV/1052_TSI_DIS_XX.wav', '/content/AudioWAV/1048_IEO_DIS_HI.wav', '/content/AudioWAV/1053_IWL_DIS_XX.wav', '/content/AudioWAV/1006_IEO_DIS_LO.wav', '/content/AudioWAV/1042_IEO_DIS_HI.wav', '/content/AudioWAV/1058_TAI_DIS_XX.wav', '/content/AudioWAV/1040_TAI_DIS_XX.wav', '/content/AudioWAV/1091_WSI_DIS_XX.wav', '/content/AudioWAV/1003_ITS_DIS_XX.wav', '/content/AudioWAV/1088_TIE_DIS_XX.wav', '/content/AudioWAV/1040_DFA_DIS_XX.wav', '/content/AudioWAV/1049_DFA_DIS_XX.wav', '/content/AudioWAV/1032_IEO_DIS_MD.wav', '/content/AudioWAV/1037_IWW_DIS_XX.wav', '/content/AudioWAV/1091_ITS_DIS_XX.wav', '/content/AudioWAV/1022_TIE_DIS_XX.wav', '/content/AudioWAV/1063_IEO_DIS_LO.wav', '/content/AudioWAV/1057_TSI_DIS_XX.wav', '/content/AudioWAV/1036_IWW_DIS_XX.wav', '/content/AudioWAV/1050_ITS_DIS_XX.wav', '/content/AudioWAV/1028_IOM_DIS_XX.wav', '/content/AudioWAV/1022_IEO_DIS_HI.wav', '/content/AudioWAV/1007_IWL_DIS_XX.wav', '/content/AudioWAV/1090_IWL_DIS_XX.wav', '/content/AudioWAV/1069_TIE_DIS_XX.wav', '/content/AudioWAV/1047_WSI_DIS_XX.wav', '/content/AudioWAV/1081_DFA_DIS_XX.wav', '/content/AudioWAV/1038_IEO_DIS_LO.wav', '/content/AudioWAV/1018_IOM_DIS_XX.wav', '/content/AudioWAV/1038_TSI_DIS_XX.wav', '/content/AudioWAV/1024_IEO_DIS_HI.wav', '/content/AudioWAV/1034_IEO_DIS_LO.wav', '/content/AudioWAV/1061_IWW_DIS_XX.wav', '/content/AudioWAV/1062_IWL_DIS_XX.wav', '/content/AudioWAV/1042_TAI_DIS_XX.wav', '/content/AudioWAV/1048_IOM_DIS_XX.wav', '/content/AudioWAV/1021_TSI_DIS_XX.wav', '/content/AudioWAV/1028_WSI_DIS_XX.wav', '/content/AudioWAV/1064_TIE_DIS_XX.wav', '/content/AudioWAV/1027_ITH_DIS_XX.wav', '/content/AudioWAV/1004_IWW_DIS_XX.wav', '/content/AudioWAV/1044_IWW_DIS_XX.wav', '/content/AudioWAV/1048_IEO_DIS_LO.wav', '/content/AudioWAV/1010_WSI_DIS_XX.wav', '/content/AudioWAV/1013_ITS_DIS_XX.wav', '/content/AudioWAV/1039_IEO_DIS_HI.wav', '/content/AudioWAV/1086_ITH_DIS_XX.wav', '/content/AudioWAV/1033_ITS_DIS_XX.wav', '/content/AudioWAV/1063_IWW_DIS_XX.wav', '/content/AudioWAV/1004_IEO_DIS_MD.wav', '/content/AudioWAV/1005_IWL_DIS_XX.wav', '/content/AudioWAV/1013_IWL_DIS_XX.wav', '/content/AudioWAV/1035_ITS_DIS_XX.wav', '/content/AudioWAV/1015_ITH_DIS_XX.wav', '/content/AudioWAV/1089_TSI_DIS_XX.wav', '/content/AudioWAV/1044_IOM_DIS_XX.wav', '/content/AudioWAV/1005_WSI_DIS_XX.wav', '/content/AudioWAV/1076_MTI_DIS_XX.wav', '/content/AudioWAV/1020_TAI_DIS_XX.wav', '/content/AudioWAV/1013_ITH_DIS_XX.wav', '/content/AudioWAV/1038_IWW_DIS_XX.wav', '/content/AudioWAV/1081_MTI_DIS_XX.wav', '/content/AudioWAV/1086_TSI_DIS_XX.wav', '/content/AudioWAV/1041_ITS_DIS_XX.wav', '/content/AudioWAV/1089_TIE_DIS_XX.wav', '/content/AudioWAV/1053_IEO_DIS_MD.wav', '/content/AudioWAV/1035_MTI_DIS_XX.wav', '/content/AudioWAV/1038_MTI_DIS_XX.wav', '/content/AudioWAV/1006_IEO_DIS_HI.wav', '/content/AudioWAV/1032_IOM_DIS_XX.wav', '/content/AudioWAV/1013_IEO_DIS_MD.wav', '/content/AudioWAV/1039_TIE_DIS_XX.wav', '/content/AudioWAV/1030_MTI_DIS_XX.wav', '/content/AudioWAV/1010_TAI_DIS_XX.wav', '/content/AudioWAV/1048_TAI_DIS_XX.wav', '/content/AudioWAV/1058_ITH_DIS_XX.wav', '/content/AudioWAV/1049_IEO_DIS_LO.wav', '/content/AudioWAV/1011_TAI_DIS_XX.wav', '/content/AudioWAV/1075_WSI_DIS_XX.wav', '/content/AudioWAV/1067_IWW_DIS_XX.wav', '/content/AudioWAV/1037_ITS_DIS_XX.wav', '/content/AudioWAV/1019_TIE_DIS_XX.wav', '/content/AudioWAV/1020_IEO_DIS_HI.wav', '/content/AudioWAV/1030_TAI_DIS_XX.wav', '/content/AudioWAV/1047_ITS_DIS_XX.wav', '/content/AudioWAV/1090_IWW_DIS_XX.wav']\n"
          ]
        }
      ],
      "source": [
        "print(dataset_array[1])"
      ]
    },
    {
      "cell_type": "code",
      "execution_count": null,
      "metadata": {
        "id": "RHINnsMTrdCU"
      },
      "outputs": [],
      "source": [
        "import librosa\n",
        "import librosa.display\n",
        "import matplotlib.pyplot as plt\n"
      ]
    },
    {
      "cell_type": "code",
      "execution_count": null,
      "metadata": {
        "id": "Mca_sf7BtoP4"
      },
      "outputs": [],
      "source": [
        "#dataset_array=np.array(dataset_array)\n",
        "sr=16000 # standardly used in audio preprocessing, CDs have audio 44050 and using Nyquist frequency it should be more than half\n",
        "signal_store_array = [[] for _ in range(6)] #we'll load files into this"
      ]
    },
    {
      "cell_type": "code",
      "execution_count": null,
      "metadata": {
        "colab": {
          "base_uri": "https://localhost:8080/"
        },
        "id": "XZiY7ekSvvcZ",
        "outputId": "58c0d8bf-8d06-4073-98fe-741c5cfa7c6d"
      },
      "outputs": [
        {
          "output_type": "stream",
          "name": "stdout",
          "text": [
            "anger: 192\n",
            "disgust: 192\n",
            "happy: 192\n",
            "neutral: 288\n",
            "sad: 192\n",
            "fear: 192\n"
          ]
        }
      ],
      "source": [
        "print(\"anger:\" , len(dataset_array[0]))\n",
        "print(\"disgust:\" , len(dataset_array[1]))\n",
        "print(\"happy:\" , len(dataset_array[2]))\n",
        "print(\"neutral:\" , len(dataset_array[3]))\n",
        "print(\"sad:\" , len(dataset_array[4]))\n",
        "print(\"fear:\" , len(dataset_array[5]))\n",
        "\n"
      ]
    },
    {
      "cell_type": "code",
      "execution_count": null,
      "metadata": {
        "colab": {
          "base_uri": "https://localhost:8080/"
        },
        "id": "KCtB5MjpyxoC",
        "outputId": "c6000783-ddd6-4c31-c663-eeefc309272d"
      },
      "outputs": [
        {
          "data": {
            "text/plain": [
              "6"
            ]
          },
          "execution_count": 30,
          "metadata": {},
          "output_type": "execute_result"
        }
      ],
      "source": [
        "len(dataset_array)"
      ]
    },
    {
      "cell_type": "code",
      "execution_count": null,
      "metadata": {
        "id": "Mz_ynAqWxETx"
      },
      "outputs": [],
      "source": [
        "#array is not homogenous hence I can't convert it into numpy array, neutral has less number of samples\n",
        "#we won't delete these samples unless and until its absolutely needed\n",
        "for i in range(6):\n",
        "  if i==3:\n",
        "    for j in range(288):\n",
        "      signal_store_array[i].append(librosa.load(dataset_array[i][j] , sr=sr ))\n",
        "  else:\n",
        "    for j in range(192):\n",
        "      signal_store_array[i].append(librosa.load(dataset_array[i][j] , sr=sr ))\n"
      ]
    },
    {
      "cell_type": "code",
      "execution_count": null,
      "metadata": {
        "colab": {
          "base_uri": "https://localhost:8080/"
        },
        "id": "lTqKG-Jr0Uz1",
        "outputId": "d9f05ea4-b0cd-49e9-edb2-c9d87918da6f"
      },
      "outputs": [
        {
          "output_type": "stream",
          "name": "stdout",
          "text": [
            "anger: 192\n",
            "disgust: 192\n",
            "happy: 192\n",
            "neutral: 288\n",
            "sad: 192\n",
            "fear: 192\n",
            "6\n",
            "(array([ 0.0000000e+00,  0.0000000e+00,  0.0000000e+00, ...,\n",
            "        1.1491687e-07, -4.8160473e-08, -9.7654720e-09], dtype=float32), 16000)\n"
          ]
        }
      ],
      "source": [
        "#will be verifying if everything got loaded correctly\n",
        "print(\"anger:\" , len(signal_store_array[0]))\n",
        "print(\"disgust:\" , len(signal_store_array[1]))\n",
        "print(\"happy:\" , len(signal_store_array[2]))\n",
        "print(\"neutral:\" , len(signal_store_array[3]))\n",
        "print(\"sad:\" , len(signal_store_array[4]))\n",
        "print(\"fear:\" , len(signal_store_array[5]))\n",
        "print(len(signal_store_array))\n",
        "print(signal_store_array[0][100])"
      ]
    },
    {
      "cell_type": "markdown",
      "metadata": {
        "id": "EZ-wH7xq0sRi"
      },
      "source": [
        "Cool! now we'll see one or two waveforms and listen to them to ensure sab sahi hai"
      ]
    },
    {
      "cell_type": "code",
      "execution_count": null,
      "metadata": {
        "id": "j3MbbAb02Ct9"
      },
      "outputs": [],
      "source": [
        "#we have to create individual numpy arrays to visualize through waveshow"
      ]
    },
    {
      "cell_type": "code",
      "execution_count": null,
      "metadata": {
        "id": "qNeY-Uih7iz9"
      },
      "outputs": [],
      "source": [
        "s=np.array(signal_store_array[0][100][0])"
      ]
    },
    {
      "cell_type": "code",
      "execution_count": null,
      "metadata": {
        "colab": {
          "base_uri": "https://localhost:8080/",
          "height": 484
        },
        "id": "eqaMLtRx0wW0",
        "outputId": "e1535a68-e4f3-4ab4-a165-025e42255f77"
      },
      "outputs": [
        {
          "data": {
            "application/vnd.google.colaboratory.intrinsic+json": {
              "type": "string"
            },
            "text/plain": [
              "'librosa.display.waveplot(signal_store_array[3][300] , sr=sr)\\nlibrosa.display.waveplot(signal_store_array[4][400] , sr=sr)\\nlibrosa.display.waveplot(signal_store_array[5][500] , sr=sr)\\n'"
            ]
          },
          "execution_count": 34,
          "metadata": {},
          "output_type": "execute_result"
        },
        {
          "data": {
            "image/png": "[encoded data removed]",
            "text/plain": [
              "<Figure size 640x480 with 1 Axes>"
            ]
          },
          "metadata": {},
          "output_type": "display_data"
        }
      ],
      "source": [
        "\n",
        "librosa.display.waveshow(s , sr=sr)\n",
        "librosa.display.waveshow(signal_store_array[1][200][0] , sr=sr)\n",
        "'''librosa.display.waveplot(signal_store_array[3][300] , sr=sr)\n",
        "librosa.display.waveplot(signal_store_array[4][400] , sr=sr)\n",
        "librosa.display.waveplot(signal_store_array[5][500] , sr=sr)\n",
        "'''"
      ]
    },
    {
      "cell_type": "markdown",
      "metadata": {
        "id": "ksrR-Z3Q8y2P"
      },
      "source": [
        "note that at this point the signal_store_array is a 3d list, and its [i][j][0]th element has an array that consists of all signal points:"
      ]
    },
    {
      "cell_type": "markdown",
      "metadata": {
        "id": "dIhqFL-i-EpR"
      },
      "source": [
        "The length of each is variable"
      ]
    },
    {
      "cell_type": "markdown",
      "metadata": {
        "id": "GUnDTdN29m2q"
      },
      "source": [
        "This shouldn't be a problem once I extract the features, I guess, unless the looping I use requires same time period, whoch shouldn't be the case, I guess only sr will be needed, if that happens I need to do something - maybe look at each dataset and truncate off the rest portions"
      ]
    },
    {
      "cell_type": "code",
      "execution_count": null,
      "metadata": {
        "id": "6V_4jRVrq0WK"
      },
      "outputs": [],
      "source": [
        "max_length = 0\n",
        "for i in range(len(signal_store_array)):\n",
        "    for j in range(len(signal_store_array[i])):\n",
        "        current_length = len(signal_store_array[i][j][0])\n",
        "        if current_length > max_length:\n",
        "            max_length = current_length"
      ]
    },
    {
      "cell_type": "code",
      "execution_count": null,
      "metadata": {
        "colab": {
          "base_uri": "https://localhost:8080/",
          "height": 75
        },
        "id": "ltTzK9_Z88vB",
        "outputId": "0cefbcd8-6f29-4811-e874-d1e1f626f393"
      },
      "outputs": [
        {
          "data": {
            "text/html": [
              "\n",
              "                <audio  controls=\"controls\" >\n",
              "                    <source src=\"data:audio/x-wav;base64,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\" type=\"audio/x-wav\" />\n",
              "                    Your browser does not support the audio element.\n",
              "                </audio>\n",
              "              "
            ],
            "text/plain": [
              "<IPython.lib.display.Audio object>"
            ]
          },
          "execution_count": 29,
          "metadata": {},
          "output_type": "execute_result"
        }
      ],
      "source": [
        "import IPython.display as ipd\n",
        "ipd.Audio(dataset_array[0][400])"
      ]
    },
    {
      "cell_type": "code",
      "execution_count": null,
      "metadata": {
        "id": "KNa7BnD7sIV-"
      },
      "outputs": [],
      "source": [
        "def pad_array(array, max_length):\n",
        "    return np.pad(array, (0, max_length - len(array)), 'constant')"
      ]
    },
    {
      "cell_type": "code",
      "execution_count": null,
      "metadata": {
        "id": "PXN_FeMWsKSq"
      },
      "outputs": [],
      "source": [
        "padded_arrays_signal = [[] for _ in range(6)]\n",
        "for i in range(len(signal_store_array)):\n",
        "    for j in range(len(signal_store_array[i])):\n",
        "        padded_array = pad_array(signal_store_array[i][j][0], max_length)\n",
        "        padded_arrays_signal[i].append(padded_array)"
      ]
    },
    {
      "cell_type": "code",
      "execution_count": null,
      "metadata": {
        "colab": {
          "base_uri": "https://localhost:8080/"
        },
        "id": "Yv_SBwjswVfh",
        "outputId": "408caf6e-e211-45cc-ec03-1a9be56fc224"
      },
      "outputs": [
        {
          "output_type": "stream",
          "name": "stdout",
          "text": [
            "192\n"
          ]
        }
      ],
      "source": [
        "print(len(padded_arrays_signal[0]))"
      ]
    },
    {
      "cell_type": "code",
      "source": [
        "print(dataset_array[0])"
      ],
      "metadata": {
        "colab": {
          "base_uri": "https://localhost:8080/"
        },
        "id": "wfRGyfw5LJb4",
        "outputId": "997a475b-3259-4636-be7b-7e96781704d3"
      },
      "execution_count": null,
      "outputs": [
        {
          "output_type": "stream",
          "name": "stdout",
          "text": [
            "['/content/ravdess/Actor_07/03-01-05-01-02-01-07.wav', '/content/ravdess/Actor_07/03-01-05-02-02-01-07.wav', '/content/ravdess/Actor_07/03-01-05-01-01-02-07.wav', '/content/ravdess/Actor_07/03-01-05-01-01-01-07.wav', '/content/ravdess/Actor_07/03-01-05-02-02-02-07.wav', '/content/ravdess/Actor_07/03-01-05-02-01-02-07.wav', '/content/ravdess/Actor_07/03-01-05-01-02-02-07.wav', '/content/ravdess/Actor_07/03-01-05-02-01-01-07.wav', '/content/ravdess/Actor_04/03-01-05-01-01-01-04.wav', '/content/ravdess/Actor_04/03-01-05-01-02-01-04.wav', '/content/ravdess/Actor_04/03-01-05-02-02-01-04.wav', '/content/ravdess/Actor_04/03-01-05-01-01-02-04.wav', '/content/ravdess/Actor_04/03-01-05-02-01-01-04.wav', '/content/ravdess/Actor_04/03-01-05-02-02-02-04.wav', '/content/ravdess/Actor_04/03-01-05-01-02-02-04.wav', '/content/ravdess/Actor_04/03-01-05-02-01-02-04.wav', '/content/ravdess/Actor_08/03-01-05-02-02-01-08.wav', '/content/ravdess/Actor_08/03-01-05-02-01-01-08.wav', '/content/ravdess/Actor_08/03-01-05-02-01-02-08.wav', '/content/ravdess/Actor_08/03-01-05-01-01-02-08.wav', '/content/ravdess/Actor_08/03-01-05-01-01-01-08.wav', '/content/ravdess/Actor_08/03-01-05-02-02-02-08.wav', '/content/ravdess/Actor_08/03-01-05-01-02-02-08.wav', '/content/ravdess/Actor_08/03-01-05-01-02-01-08.wav', '/content/ravdess/Actor_24/03-01-05-01-02-01-24.wav', '/content/ravdess/Actor_24/03-01-05-01-01-01-24.wav', '/content/ravdess/Actor_24/03-01-05-01-01-02-24.wav', '/content/ravdess/Actor_24/03-01-05-02-02-01-24.wav', '/content/ravdess/Actor_24/03-01-05-02-01-02-24.wav', '/content/ravdess/Actor_24/03-01-05-02-01-01-24.wav', '/content/ravdess/Actor_24/03-01-05-02-02-02-24.wav', '/content/ravdess/Actor_24/03-01-05-01-02-02-24.wav', '/content/ravdess/Actor_01/03-01-05-01-01-02-01.wav', '/content/ravdess/Actor_01/03-01-05-01-01-01-01.wav', '/content/ravdess/Actor_01/03-01-05-02-02-01-01.wav', '/content/ravdess/Actor_01/03-01-05-02-02-02-01.wav', '/content/ravdess/Actor_01/03-01-05-01-02-02-01.wav', '/content/ravdess/Actor_01/03-01-05-02-01-02-01.wav', '/content/ravdess/Actor_01/03-01-05-01-02-01-01.wav', '/content/ravdess/Actor_01/03-01-05-02-01-01-01.wav', '/content/ravdess/Actor_17/03-01-05-02-02-02-17.wav', '/content/ravdess/Actor_17/03-01-05-02-01-02-17.wav', '/content/ravdess/Actor_17/03-01-05-01-01-01-17.wav', '/content/ravdess/Actor_17/03-01-05-01-02-02-17.wav', '/content/ravdess/Actor_17/03-01-05-01-02-01-17.wav', '/content/ravdess/Actor_17/03-01-05-02-02-01-17.wav', '/content/ravdess/Actor_17/03-01-05-02-01-01-17.wav', '/content/ravdess/Actor_17/03-01-05-01-01-02-17.wav', '/content/ravdess/Actor_06/03-01-05-02-01-01-06.wav', '/content/ravdess/Actor_06/03-01-05-01-01-01-06.wav', '/content/ravdess/Actor_06/03-01-05-02-01-02-06.wav', '/content/ravdess/Actor_06/03-01-05-01-02-01-06.wav', '/content/ravdess/Actor_06/03-01-05-02-02-02-06.wav', '/content/ravdess/Actor_06/03-01-05-02-02-01-06.wav', '/content/ravdess/Actor_06/03-01-05-01-02-02-06.wav', '/content/ravdess/Actor_06/03-01-05-01-01-02-06.wav', '/content/ravdess/Actor_23/03-01-05-02-01-02-23.wav', '/content/ravdess/Actor_23/03-01-05-01-02-01-23.wav', '/content/ravdess/Actor_23/03-01-05-02-01-01-23.wav', '/content/ravdess/Actor_23/03-01-05-01-01-02-23.wav', '/content/ravdess/Actor_23/03-01-05-02-02-01-23.wav', '/content/ravdess/Actor_23/03-01-05-01-02-02-23.wav', '/content/ravdess/Actor_23/03-01-05-01-01-01-23.wav', '/content/ravdess/Actor_23/03-01-05-02-02-02-23.wav', '/content/ravdess/Actor_15/03-01-05-02-01-02-15.wav', '/content/ravdess/Actor_15/03-01-05-01-02-02-15.wav', '/content/ravdess/Actor_15/03-01-05-01-01-01-15.wav', '/content/ravdess/Actor_15/03-01-05-02-01-01-15.wav', '/content/ravdess/Actor_15/03-01-05-02-02-02-15.wav', '/content/ravdess/Actor_15/03-01-05-01-02-01-15.wav', '/content/ravdess/Actor_15/03-01-05-01-01-02-15.wav', '/content/ravdess/Actor_15/03-01-05-02-02-01-15.wav', '/content/ravdess/Actor_19/03-01-05-02-02-01-19.wav', '/content/ravdess/Actor_19/03-01-05-01-01-02-19.wav', '/content/ravdess/Actor_19/03-01-05-01-02-02-19.wav', '/content/ravdess/Actor_19/03-01-05-02-01-02-19.wav', '/content/ravdess/Actor_19/03-01-05-01-02-01-19.wav', '/content/ravdess/Actor_19/03-01-05-01-01-01-19.wav', '/content/ravdess/Actor_19/03-01-05-02-02-02-19.wav', '/content/ravdess/Actor_19/03-01-05-02-01-01-19.wav', '/content/ravdess/Actor_20/03-01-05-01-01-02-20.wav', '/content/ravdess/Actor_20/03-01-05-01-01-01-20.wav', '/content/ravdess/Actor_20/03-01-05-02-01-01-20.wav', '/content/ravdess/Actor_20/03-01-05-02-02-01-20.wav', '/content/ravdess/Actor_20/03-01-05-02-01-02-20.wav', '/content/ravdess/Actor_20/03-01-05-02-02-02-20.wav', '/content/ravdess/Actor_20/03-01-05-01-02-01-20.wav', '/content/ravdess/Actor_20/03-01-05-01-02-02-20.wav', '/content/ravdess/Actor_02/03-01-05-01-01-02-02.wav', '/content/ravdess/Actor_02/03-01-05-01-02-02-02.wav', '/content/ravdess/Actor_02/03-01-05-01-01-01-02.wav', '/content/ravdess/Actor_02/03-01-05-02-01-01-02.wav', '/content/ravdess/Actor_02/03-01-05-02-02-01-02.wav', '/content/ravdess/Actor_02/03-01-05-02-02-02-02.wav', '/content/ravdess/Actor_02/03-01-05-02-01-02-02.wav', '/content/ravdess/Actor_02/03-01-05-01-02-01-02.wav', '/content/ravdess/Actor_13/03-01-05-02-01-01-13.wav', '/content/ravdess/Actor_13/03-01-05-02-02-01-13.wav', '/content/ravdess/Actor_13/03-01-05-01-02-01-13.wav', '/content/ravdess/Actor_13/03-01-05-01-01-01-13.wav', '/content/ravdess/Actor_13/03-01-05-01-01-02-13.wav', '/content/ravdess/Actor_13/03-01-05-01-02-02-13.wav', '/content/ravdess/Actor_13/03-01-05-02-02-02-13.wav', '/content/ravdess/Actor_13/03-01-05-02-01-02-13.wav', '/content/ravdess/Actor_11/03-01-05-02-02-01-11.wav', '/content/ravdess/Actor_11/03-01-05-02-01-01-11.wav', '/content/ravdess/Actor_11/03-01-05-01-01-02-11.wav', '/content/ravdess/Actor_11/03-01-05-01-02-02-11.wav', '/content/ravdess/Actor_11/03-01-05-01-02-01-11.wav', '/content/ravdess/Actor_11/03-01-05-02-01-02-11.wav', '/content/ravdess/Actor_11/03-01-05-02-02-02-11.wav', '/content/ravdess/Actor_11/03-01-05-01-01-01-11.wav', '/content/ravdess/Actor_16/03-01-05-02-02-01-16.wav', '/content/ravdess/Actor_16/03-01-05-01-02-01-16.wav', '/content/ravdess/Actor_16/03-01-05-02-01-01-16.wav', '/content/ravdess/Actor_16/03-01-05-02-01-02-16.wav', '/content/ravdess/Actor_16/03-01-05-01-01-02-16.wav', '/content/ravdess/Actor_16/03-01-05-02-02-02-16.wav', '/content/ravdess/Actor_16/03-01-05-01-01-01-16.wav', '/content/ravdess/Actor_16/03-01-05-01-02-02-16.wav', '/content/ravdess/Actor_12/03-01-05-02-01-02-12.wav', '/content/ravdess/Actor_12/03-01-05-01-02-02-12.wav', '/content/ravdess/Actor_12/03-01-05-02-02-02-12.wav', '/content/ravdess/Actor_12/03-01-05-01-02-01-12.wav', '/content/ravdess/Actor_12/03-01-05-01-01-02-12.wav', '/content/ravdess/Actor_12/03-01-05-02-02-01-12.wav', '/content/ravdess/Actor_12/03-01-05-01-01-01-12.wav', '/content/ravdess/Actor_12/03-01-05-02-01-01-12.wav', '/content/ravdess/Actor_10/03-01-05-01-01-02-10.wav', '/content/ravdess/Actor_10/03-01-05-01-02-01-10.wav', '/content/ravdess/Actor_10/03-01-05-02-02-01-10.wav', '/content/ravdess/Actor_10/03-01-05-01-02-02-10.wav', '/content/ravdess/Actor_10/03-01-05-02-01-01-10.wav', '/content/ravdess/Actor_10/03-01-05-02-01-02-10.wav', '/content/ravdess/Actor_10/03-01-05-02-02-02-10.wav', '/content/ravdess/Actor_10/03-01-05-01-01-01-10.wav', '/content/ravdess/Actor_09/03-01-05-01-01-02-09.wav', '/content/ravdess/Actor_09/03-01-05-01-02-01-09.wav', '/content/ravdess/Actor_09/03-01-05-01-02-02-09.wav', '/content/ravdess/Actor_09/03-01-05-02-01-02-09.wav', '/content/ravdess/Actor_09/03-01-05-02-02-02-09.wav', '/content/ravdess/Actor_09/03-01-05-02-02-01-09.wav', '/content/ravdess/Actor_09/03-01-05-01-01-01-09.wav', '/content/ravdess/Actor_09/03-01-05-02-01-01-09.wav', '/content/ravdess/Actor_21/03-01-05-02-01-01-21.wav', '/content/ravdess/Actor_21/03-01-05-01-02-01-21.wav', '/content/ravdess/Actor_21/03-01-05-02-02-02-21.wav', '/content/ravdess/Actor_21/03-01-05-01-01-02-21.wav', '/content/ravdess/Actor_21/03-01-05-02-02-01-21.wav', '/content/ravdess/Actor_21/03-01-05-01-01-01-21.wav', '/content/ravdess/Actor_21/03-01-05-01-02-02-21.wav', '/content/ravdess/Actor_21/03-01-05-02-01-02-21.wav', '/content/ravdess/Actor_18/03-01-05-01-02-01-18.wav', '/content/ravdess/Actor_18/03-01-05-01-02-02-18.wav', '/content/ravdess/Actor_18/03-01-05-01-01-02-18.wav', '/content/ravdess/Actor_18/03-01-05-01-01-01-18.wav', '/content/ravdess/Actor_18/03-01-05-02-01-02-18.wav', '/content/ravdess/Actor_18/03-01-05-02-01-01-18.wav', '/content/ravdess/Actor_18/03-01-05-02-02-01-18.wav', '/content/ravdess/Actor_18/03-01-05-02-02-02-18.wav', '/content/ravdess/Actor_14/03-01-05-01-01-01-14.wav', '/content/ravdess/Actor_14/03-01-05-02-02-02-14.wav', '/content/ravdess/Actor_14/03-01-05-01-02-02-14.wav', '/content/ravdess/Actor_14/03-01-05-02-02-01-14.wav', '/content/ravdess/Actor_14/03-01-05-02-01-02-14.wav', '/content/ravdess/Actor_14/03-01-05-01-01-02-14.wav', '/content/ravdess/Actor_14/03-01-05-02-01-01-14.wav', '/content/ravdess/Actor_14/03-01-05-01-02-01-14.wav', '/content/ravdess/Actor_22/03-01-05-02-01-01-22.wav', '/content/ravdess/Actor_22/03-01-05-01-01-01-22.wav', '/content/ravdess/Actor_22/03-01-05-01-02-02-22.wav', '/content/ravdess/Actor_22/03-01-05-02-01-02-22.wav', '/content/ravdess/Actor_22/03-01-05-01-02-01-22.wav', '/content/ravdess/Actor_22/03-01-05-02-02-01-22.wav', '/content/ravdess/Actor_22/03-01-05-01-01-02-22.wav', '/content/ravdess/Actor_22/03-01-05-02-02-02-22.wav', '/content/ravdess/Actor_03/03-01-05-02-01-02-03.wav', '/content/ravdess/Actor_03/03-01-05-02-02-01-03.wav', '/content/ravdess/Actor_03/03-01-05-02-02-02-03.wav', '/content/ravdess/Actor_03/03-01-05-01-01-01-03.wav', '/content/ravdess/Actor_03/03-01-05-02-01-01-03.wav', '/content/ravdess/Actor_03/03-01-05-01-02-01-03.wav', '/content/ravdess/Actor_03/03-01-05-01-02-02-03.wav', '/content/ravdess/Actor_03/03-01-05-01-01-02-03.wav', '/content/ravdess/Actor_05/03-01-05-02-01-01-05.wav', '/content/ravdess/Actor_05/03-01-05-01-01-02-05.wav', '/content/ravdess/Actor_05/03-01-05-01-01-01-05.wav', '/content/ravdess/Actor_05/03-01-05-02-02-01-05.wav', '/content/ravdess/Actor_05/03-01-05-01-02-02-05.wav', '/content/ravdess/Actor_05/03-01-05-02-02-02-05.wav', '/content/ravdess/Actor_05/03-01-05-01-02-01-05.wav', '/content/ravdess/Actor_05/03-01-05-02-01-02-05.wav']\n"
          ]
        }
      ]
    },
    {
      "cell_type": "markdown",
      "source": [
        "Converting Specs to PNGS\n"
      ],
      "metadata": {
        "id": "mhp5tZb-GHin"
      }
    },
    {
      "cell_type": "code",
      "source": [
        "!rm -rf pngs"
      ],
      "metadata": {
        "id": "OZfefjmONuLa"
      },
      "execution_count": null,
      "outputs": []
    },
    {
      "cell_type": "code",
      "source": [
        "import random\n"
      ],
      "metadata": {
        "id": "tFy50fh6SVbF"
      },
      "execution_count": null,
      "outputs": []
    },
    {
      "cell_type": "code",
      "source": [
        "for i in range(len(dataset_array)):\n",
        "    random.shuffle(dataset_array[i])"
      ],
      "metadata": {
        "id": "oWRuVC-3NNu2"
      },
      "execution_count": null,
      "outputs": []
    },
    {
      "cell_type": "code",
      "source": [
        "import numpy as np\n",
        "import librosa.display, os\n",
        "import matplotlib.pyplot as plt\n",
        "%matplotlib inline\n",
        "def create_spectrogram(audio_file, image_file):\n",
        "    fig = plt.figure()\n",
        "    ax = fig.add_subplot(1, 1, 1)\n",
        "    fig.subplots_adjust(left=0, right=1, bottom=0, top=1)\n",
        "    sr=16000\n",
        "    y, sr = librosa.load(audio_file)\n",
        "    ms = librosa.feature.melspectrogram(y=y, sr=sr)\n",
        "    log_ms = librosa.power_to_db(ms, ref=np.max)\n",
        "    librosa.display.specshow(log_ms, sr=sr)\n",
        "\n",
        "    fig.savefig(image_file)\n",
        "    plt.close(fig)\n",
        "def create_pngs_from_wavs(emo_index , output_path , train_or_test):\n",
        "  if not os.path.exists(output_path):\n",
        "        os.makedirs(output_path)\n",
        "  l=len(dataset_array[emo_index])\n",
        "  if train_or_test=='train':\n",
        "    for i in range (int(0.8 * l)):\n",
        "        input_file = dataset_array[emo_index][i]\n",
        "        output_file = os.path.join(output_path, os.path.basename(input_file).replace('.wav', '.png'))\n",
        "        create_spectrogram(input_file, output_file)\n",
        "  elif train_or_test=='test':\n",
        "    for i in range (int(0.8 * l),l):\n",
        "        input_file = dataset_array[emo_index][i]\n",
        "        output_file = os.path.join(output_path, os.path.basename(input_file).replace('.wav', '.png'))\n",
        "        create_spectrogram(input_file, output_file)\n",
        "  else:\n",
        "    print(\"An error occured, make sure second param has pngs/train_or_test and train_or_test param clearly mentions train/test\")"
      ],
      "metadata": {
        "id": "thcKZTO_GHBQ"
      },
      "execution_count": null,
      "outputs": []
    },
    {
      "cell_type": "code",
      "source": [
        "del str\n",
        "result='x'+str(1)+'y'\n",
        "result=result+str(2)\n",
        "print(result)"
      ],
      "metadata": {
        "colab": {
          "base_uri": "https://localhost:8080/"
        },
        "id": "dSeaFfVzLkXH",
        "outputId": "46a66249-42fa-4f1c-ae2c-97a8f2186fa0"
      },
      "execution_count": null,
      "outputs": [
        {
          "output_type": "stream",
          "name": "stdout",
          "text": [
            "x1y2\n"
          ]
        }
      ]
    },
    {
      "cell_type": "code",
      "source": [
        "create_pngs_from_wavs(0,  'pngs/train/anger', 'train')\n",
        "create_pngs_from_wavs(0,  'pngs/test/anger' , 'test')\n"
      ],
      "metadata": {
        "id": "zcjkKflFGRrt"
      },
      "execution_count": null,
      "outputs": []
    },
    {
      "cell_type": "code",
      "source": [
        "create_pngs_from_wavs(1 , 'pngs/train/disgust' , 'train' )\n",
        "create_pngs_from_wavs(1 , 'pngs/test/disgust' , 'test')"
      ],
      "metadata": {
        "id": "QZPWpEKHH2eJ"
      },
      "execution_count": null,
      "outputs": []
    },
    {
      "cell_type": "code",
      "source": [
        "create_pngs_from_wavs(2, 'pngs/train/happy', 'train')\n",
        "create_pngs_from_wavs(2, 'pngs/test/happy', 'test')"
      ],
      "metadata": {
        "id": "iOMjd7ltH_j0"
      },
      "execution_count": null,
      "outputs": []
    },
    {
      "cell_type": "code",
      "source": [
        "create_pngs_from_wavs(3, 'pngs/train/neutral', 'train')\n",
        "create_pngs_from_wavs(3, 'pngs/test/neutral','test')"
      ],
      "metadata": {
        "id": "soPG2cMbIExI"
      },
      "execution_count": null,
      "outputs": []
    },
    {
      "cell_type": "code",
      "source": [
        "create_pngs_from_wavs(4, 'pngs/train/sad', 'train')\n",
        "create_pngs_from_wavs(4, 'pngs/test/sad', 'test')"
      ],
      "metadata": {
        "id": "TUO6xebLILz1"
      },
      "execution_count": null,
      "outputs": []
    },
    {
      "cell_type": "code",
      "source": [
        "create_pngs_from_wavs(5, 'pngs/train/fear', 'train')\n",
        "create_pngs_from_wavs(5, 'pngs/test/fear', 'test')"
      ],
      "metadata": {
        "id": "3W14EE3KIQnX"
      },
      "execution_count": null,
      "outputs": []
    },
    {
      "cell_type": "code",
      "source": [
        "! pip install ultralytics"
      ],
      "metadata": {
        "colab": {
          "base_uri": "https://localhost:8080/"
        },
        "id": "Te_QB_IWTQbi",
        "outputId": "ca89c760-d863-4677-aa4b-72bcdc515571"
      },
      "execution_count": null,
      "outputs": [
        {
          "output_type": "stream",
          "name": "stdout",
          "text": [
            "Collecting ultralytics\n",
            "  Downloading ultralytics-8.2.46-py3-none-any.whl (793 kB)\n",
            "\u001b[?25l     \u001b[90m━━━━━━━━━━━━━━━━━━━━━━━━━━━━━━━━━━━━━━━━\u001b[0m \u001b[32m0.0/793.7 kB\u001b[0m \u001b[31m?\u001b[0m eta \u001b[36m-:--:--\u001b[0m\r\u001b[2K     \u001b[91m━━━━━━━━━━━━━━━━━━━━━\u001b[0m\u001b[91m╸\u001b[0m\u001b[90m━━━━━━━━━━━━━━━━━━\u001b[0m \u001b[32m430.1/793.7 kB\u001b[0m \u001b[31m12.8 MB/s\u001b[0m eta \u001b[36m0:00:01\u001b[0m\r\u001b[2K     \u001b[90m━━━━━━━━━━━━━━━━━━━━━━━━━━━━━━━━━━━━━━━━\u001b[0m \u001b[32m793.7/793.7 kB\u001b[0m \u001b[31m15.8 MB/s\u001b[0m eta \u001b[36m0:00:00\u001b[0m\n",
            "\u001b[?25hRequirement already satisfied: numpy<2.0.0,>=1.23.0 in /usr/local/lib/python3.10/dist-packages (from ultralytics) (1.25.2)\n",
            "Requirement already satisfied: matplotlib>=3.3.0 in /usr/local/lib/python3.10/dist-packages (from ultralytics) (3.7.1)\n",
            "Requirement already satisfied: opencv-python>=4.6.0 in /usr/local/lib/python3.10/dist-packages (from ultralytics) (4.8.0.76)\n",
            "Requirement already satisfied: pillow>=7.1.2 in /usr/local/lib/python3.10/dist-packages (from ultralytics) (9.4.0)\n",
            "Requirement already satisfied: pyyaml>=5.3.1 in /usr/local/lib/python3.10/dist-packages (from ultralytics) (6.0.1)\n",
            "Requirement already satisfied: requests>=2.23.0 in /usr/local/lib/python3.10/dist-packages (from ultralytics) (2.31.0)\n",
            "Requirement already satisfied: scipy>=1.4.1 in /usr/local/lib/python3.10/dist-packages (from ultralytics) (1.11.4)\n",
            "Requirement already satisfied: torch>=1.8.0 in /usr/local/lib/python3.10/dist-packages (from ultralytics) (2.3.0+cu121)\n",
            "Requirement already satisfied: torchvision>=0.9.0 in /usr/local/lib/python3.10/dist-packages (from ultralytics) (0.18.0+cu121)\n",
            "Requirement already satisfied: tqdm>=4.64.0 in /usr/local/lib/python3.10/dist-packages (from ultralytics) (4.66.4)\n",
            "Requirement already satisfied: psutil in /usr/local/lib/python3.10/dist-packages (from ultralytics) (5.9.5)\n",
            "Requirement already satisfied: py-cpuinfo in /usr/local/lib/python3.10/dist-packages (from ultralytics) (9.0.0)\n",
            "Requirement already satisfied: pandas>=1.1.4 in /usr/local/lib/python3.10/dist-packages (from ultralytics) (2.0.3)\n",
            "Requirement already satisfied: seaborn>=0.11.0 in /usr/local/lib/python3.10/dist-packages (from ultralytics) (0.13.1)\n",
            "Collecting ultralytics-thop>=2.0.0 (from ultralytics)\n",
            "  Downloading ultralytics_thop-2.0.0-py3-none-any.whl (25 kB)\n",
            "Requirement already satisfied: contourpy>=1.0.1 in /usr/local/lib/python3.10/dist-packages (from matplotlib>=3.3.0->ultralytics) (1.2.1)\n",
            "Requirement already satisfied: cycler>=0.10 in /usr/local/lib/python3.10/dist-packages (from matplotlib>=3.3.0->ultralytics) (0.12.1)\n",
            "Requirement already satisfied: fonttools>=4.22.0 in /usr/local/lib/python3.10/dist-packages (from matplotlib>=3.3.0->ultralytics) (4.53.0)\n",
            "Requirement already satisfied: kiwisolver>=1.0.1 in /usr/local/lib/python3.10/dist-packages (from matplotlib>=3.3.0->ultralytics) (1.4.5)\n",
            "Requirement already satisfied: packaging>=20.0 in /usr/local/lib/python3.10/dist-packages (from matplotlib>=3.3.0->ultralytics) (24.1)\n",
            "Requirement already satisfied: pyparsing>=2.3.1 in /usr/local/lib/python3.10/dist-packages (from matplotlib>=3.3.0->ultralytics) (3.1.2)\n",
            "Requirement already satisfied: python-dateutil>=2.7 in /usr/local/lib/python3.10/dist-packages (from matplotlib>=3.3.0->ultralytics) (2.8.2)\n",
            "Requirement already satisfied: pytz>=2020.1 in /usr/local/lib/python3.10/dist-packages (from pandas>=1.1.4->ultralytics) (2023.4)\n",
            "Requirement already satisfied: tzdata>=2022.1 in /usr/local/lib/python3.10/dist-packages (from pandas>=1.1.4->ultralytics) (2024.1)\n",
            "Requirement already satisfied: charset-normalizer<4,>=2 in /usr/local/lib/python3.10/dist-packages (from requests>=2.23.0->ultralytics) (3.3.2)\n",
            "Requirement already satisfied: idna<4,>=2.5 in /usr/local/lib/python3.10/dist-packages (from requests>=2.23.0->ultralytics) (3.7)\n",
            "Requirement already satisfied: urllib3<3,>=1.21.1 in /usr/local/lib/python3.10/dist-packages (from requests>=2.23.0->ultralytics) (2.0.7)\n",
            "Requirement already satisfied: certifi>=2017.4.17 in /usr/local/lib/python3.10/dist-packages (from requests>=2.23.0->ultralytics) (2024.6.2)\n",
            "Requirement already satisfied: filelock in /usr/local/lib/python3.10/dist-packages (from torch>=1.8.0->ultralytics) (3.15.3)\n",
            "Requirement already satisfied: typing-extensions>=4.8.0 in /usr/local/lib/python3.10/dist-packages (from torch>=1.8.0->ultralytics) (4.12.2)\n",
            "Requirement already satisfied: sympy in /usr/local/lib/python3.10/dist-packages (from torch>=1.8.0->ultralytics) (1.12.1)\n",
            "Requirement already satisfied: networkx in /usr/local/lib/python3.10/dist-packages (from torch>=1.8.0->ultralytics) (3.3)\n",
            "Requirement already satisfied: jinja2 in /usr/local/lib/python3.10/dist-packages (from torch>=1.8.0->ultralytics) (3.1.4)\n",
            "Requirement already satisfied: fsspec in /usr/local/lib/python3.10/dist-packages (from torch>=1.8.0->ultralytics) (2023.6.0)\n",
            "Collecting nvidia-cuda-nvrtc-cu12==12.1.105 (from torch>=1.8.0->ultralytics)\n",
            "  Using cached nvidia_cuda_nvrtc_cu12-12.1.105-py3-none-manylinux1_x86_64.whl (23.7 MB)\n",
            "Collecting nvidia-cuda-runtime-cu12==12.1.105 (from torch>=1.8.0->ultralytics)\n",
            "  Using cached nvidia_cuda_runtime_cu12-12.1.105-py3-none-manylinux1_x86_64.whl (823 kB)\n",
            "Collecting nvidia-cuda-cupti-cu12==12.1.105 (from torch>=1.8.0->ultralytics)\n",
            "  Using cached nvidia_cuda_cupti_cu12-12.1.105-py3-none-manylinux1_x86_64.whl (14.1 MB)\n",
            "Collecting nvidia-cudnn-cu12==8.9.2.26 (from torch>=1.8.0->ultralytics)\n",
            "  Using cached nvidia_cudnn_cu12-8.9.2.26-py3-none-manylinux1_x86_64.whl (731.7 MB)\n",
            "Collecting nvidia-cublas-cu12==12.1.3.1 (from torch>=1.8.0->ultralytics)\n",
            "  Using cached nvidia_cublas_cu12-12.1.3.1-py3-none-manylinux1_x86_64.whl (410.6 MB)\n",
            "Collecting nvidia-cufft-cu12==11.0.2.54 (from torch>=1.8.0->ultralytics)\n",
            "  Using cached nvidia_cufft_cu12-11.0.2.54-py3-none-manylinux1_x86_64.whl (121.6 MB)\n",
            "Collecting nvidia-curand-cu12==10.3.2.106 (from torch>=1.8.0->ultralytics)\n",
            "  Using cached nvidia_curand_cu12-10.3.2.106-py3-none-manylinux1_x86_64.whl (56.5 MB)\n",
            "Collecting nvidia-cusolver-cu12==11.4.5.107 (from torch>=1.8.0->ultralytics)\n",
            "  Using cached nvidia_cusolver_cu12-11.4.5.107-py3-none-manylinux1_x86_64.whl (124.2 MB)\n",
            "Collecting nvidia-cusparse-cu12==12.1.0.106 (from torch>=1.8.0->ultralytics)\n",
            "  Using cached nvidia_cusparse_cu12-12.1.0.106-py3-none-manylinux1_x86_64.whl (196.0 MB)\n",
            "Collecting nvidia-nccl-cu12==2.20.5 (from torch>=1.8.0->ultralytics)\n",
            "  Using cached nvidia_nccl_cu12-2.20.5-py3-none-manylinux2014_x86_64.whl (176.2 MB)\n",
            "Collecting nvidia-nvtx-cu12==12.1.105 (from torch>=1.8.0->ultralytics)\n",
            "  Using cached nvidia_nvtx_cu12-12.1.105-py3-none-manylinux1_x86_64.whl (99 kB)\n",
            "Requirement already satisfied: triton==2.3.0 in /usr/local/lib/python3.10/dist-packages (from torch>=1.8.0->ultralytics) (2.3.0)\n",
            "Collecting nvidia-nvjitlink-cu12 (from nvidia-cusolver-cu12==11.4.5.107->torch>=1.8.0->ultralytics)\n",
            "  Downloading nvidia_nvjitlink_cu12-12.5.40-py3-none-manylinux2014_x86_64.whl (21.3 MB)\n",
            "\u001b[2K     \u001b[90m━━━━━━━━━━━━━━━━━━━━━━━━━━━━━━━━━━━━━━━━\u001b[0m \u001b[32m21.3/21.3 MB\u001b[0m \u001b[31m70.2 MB/s\u001b[0m eta \u001b[36m0:00:00\u001b[0m\n",
            "\u001b[?25hRequirement already satisfied: six>=1.5 in /usr/local/lib/python3.10/dist-packages (from python-dateutil>=2.7->matplotlib>=3.3.0->ultralytics) (1.16.0)\n",
            "Requirement already satisfied: MarkupSafe>=2.0 in /usr/local/lib/python3.10/dist-packages (from jinja2->torch>=1.8.0->ultralytics) (2.1.5)\n",
            "Requirement already satisfied: mpmath<1.4.0,>=1.1.0 in /usr/local/lib/python3.10/dist-packages (from sympy->torch>=1.8.0->ultralytics) (1.3.0)\n",
            "Installing collected packages: nvidia-nvtx-cu12, nvidia-nvjitlink-cu12, nvidia-nccl-cu12, nvidia-curand-cu12, nvidia-cufft-cu12, nvidia-cuda-runtime-cu12, nvidia-cuda-nvrtc-cu12, nvidia-cuda-cupti-cu12, nvidia-cublas-cu12, nvidia-cusparse-cu12, nvidia-cudnn-cu12, nvidia-cusolver-cu12, ultralytics-thop, ultralytics\n",
            "Successfully installed nvidia-cublas-cu12-12.1.3.1 nvidia-cuda-cupti-cu12-12.1.105 nvidia-cuda-nvrtc-cu12-12.1.105 nvidia-cuda-runtime-cu12-12.1.105 nvidia-cudnn-cu12-8.9.2.26 nvidia-cufft-cu12-11.0.2.54 nvidia-curand-cu12-10.3.2.106 nvidia-cusolver-cu12-11.4.5.107 nvidia-cusparse-cu12-12.1.0.106 nvidia-nccl-cu12-2.20.5 nvidia-nvjitlink-cu12-12.5.40 nvidia-nvtx-cu12-12.1.105 ultralytics-8.2.46 ultralytics-thop-2.0.0\n"
          ]
        }
      ]
    },
    {
      "cell_type": "code",
      "source": [
        "from ultralytics import YOLO\n",
        "model = YOLO(\"yolov8n-cls.pt\")  # build a new model from YAML\n",
        "results = model.train(data='/content/pngs', epochs=100, imgsz=640)\n",
        "metrics = model.val()  # no arguments needed, dataset and settings remembered\n",
        "metrics.top1  # top1 accuracy\n",
        "metrics.top5  # top5 accuracy\n",
        "\n"
      ],
      "metadata": {
        "colab": {
          "base_uri": "https://localhost:8080/"
        },
        "id": "WBm7HziAVa_C",
        "outputId": "787a5d07-4df6-42f6-8559-1c9c1ff1a66a"
      },
      "execution_count": null,
      "outputs": [
        {
          "output_type": "stream",
          "name": "stdout",
          "text": [
            "Downloading https://github.com/ultralytics/assets/releases/download/v8.2.0/yolov8n-cls.pt to 'yolov8n-cls.pt'...\n"
          ]
        },
        {
          "output_type": "stream",
          "name": "stderr",
          "text": [
            "100%|██████████| 5.30M/5.30M [00:00<00:00, 93.8MB/s]\n"
          ]
        },
        {
          "output_type": "stream",
          "name": "stdout",
          "text": [
            "Ultralytics YOLOv8.2.46 🚀 Python-3.10.12 torch-2.3.0+cu121 CUDA:0 (Tesla T4, 15102MiB)\n",
            "\u001b[34m\u001b[1mengine/trainer: \u001b[0mtask=classify, mode=train, model=yolov8n-cls.pt, data=/content/pngs, epochs=100, time=None, patience=100, batch=16, imgsz=640, save=True, save_period=-1, cache=False, device=None, workers=8, project=None, name=train, exist_ok=False, pretrained=True, optimizer=auto, verbose=True, seed=0, deterministic=True, single_cls=False, rect=False, cos_lr=False, close_mosaic=10, resume=False, amp=True, fraction=1.0, profile=False, freeze=None, multi_scale=False, overlap_mask=True, mask_ratio=4, dropout=0.0, val=True, split=val, save_json=False, save_hybrid=False, conf=None, iou=0.7, max_det=300, half=False, dnn=False, plots=True, source=None, vid_stride=1, stream_buffer=False, visualize=False, augment=False, agnostic_nms=False, classes=None, retina_masks=False, embed=None, show=False, save_frames=False, save_txt=False, save_conf=False, save_crop=False, show_labels=True, show_conf=True, show_boxes=True, line_width=None, format=torchscript, keras=False, optimize=False, int8=False, dynamic=False, simplify=False, opset=None, workspace=4, nms=False, lr0=0.01, lrf=0.01, momentum=0.937, weight_decay=0.0005, warmup_epochs=3.0, warmup_momentum=0.8, warmup_bias_lr=0.1, box=7.5, cls=0.5, dfl=1.5, pose=12.0, kobj=1.0, label_smoothing=0.0, nbs=64, hsv_h=0.015, hsv_s=0.7, hsv_v=0.4, degrees=0.0, translate=0.1, scale=0.5, shear=0.0, perspective=0.0, flipud=0.0, fliplr=0.5, bgr=0.0, mosaic=1.0, mixup=0.0, copy_paste=0.0, auto_augment=randaugment, erasing=0.4, crop_fraction=1.0, cfg=None, tracker=botsort.yaml, save_dir=runs/classify/train\n",
            "\u001b[34m\u001b[1mtrain:\u001b[0m /content/pngs/train... found 995 images in 6 classes ✅ \n",
            "\u001b[34m\u001b[1mval:\u001b[0m /content/pngs/val... found 253 images in 6 classes ✅ \n",
            "\u001b[34m\u001b[1mtest:\u001b[0m None...\n",
            "Overriding model.yaml nc=1000 with nc=6\n",
            "\n",
            "                   from  n    params  module                                       arguments                     \n",
            "  0                  -1  1       464  ultralytics.nn.modules.conv.Conv             [3, 16, 3, 2]                 \n",
            "  1                  -1  1      4672  ultralytics.nn.modules.conv.Conv             [16, 32, 3, 2]                \n",
            "  2                  -1  1      7360  ultralytics.nn.modules.block.C2f             [32, 32, 1, True]             \n",
            "  3                  -1  1     18560  ultralytics.nn.modules.conv.Conv             [32, 64, 3, 2]                \n",
            "  4                  -1  2     49664  ultralytics.nn.modules.block.C2f             [64, 64, 2, True]             \n",
            "  5                  -1  1     73984  ultralytics.nn.modules.conv.Conv             [64, 128, 3, 2]               \n",
            "  6                  -1  2    197632  ultralytics.nn.modules.block.C2f             [128, 128, 2, True]           \n",
            "  7                  -1  1    295424  ultralytics.nn.modules.conv.Conv             [128, 256, 3, 2]              \n",
            "  8                  -1  1    460288  ultralytics.nn.modules.block.C2f             [256, 256, 1, True]           \n",
            "  9                  -1  1    337926  ultralytics.nn.modules.head.Classify         [256, 6]                      \n",
            "YOLOv8n-cls summary: 99 layers, 1445974 parameters, 1445974 gradients, 3.4 GFLOPs\n",
            "Transferred 156/158 items from pretrained weights\n",
            "\u001b[34m\u001b[1mTensorBoard: \u001b[0mStart with 'tensorboard --logdir runs/classify/train', view at http://localhost:6006/\n",
            "\u001b[34m\u001b[1mAMP: \u001b[0mrunning Automatic Mixed Precision (AMP) checks with YOLOv8n...\n",
            "Downloading https://github.com/ultralytics/assets/releases/download/v8.2.0/yolov8n.pt to 'yolov8n.pt'...\n"
          ]
        },
        {
          "output_type": "stream",
          "name": "stderr",
          "text": [
            "100%|██████████| 6.23M/6.23M [00:00<00:00, 105MB/s]\n",
            "/usr/local/lib/python3.10/dist-packages/torch/nn/modules/conv.py:456: UserWarning: Plan failed with a cudnnException: CUDNN_BACKEND_EXECUTION_PLAN_DESCRIPTOR: cudnnFinalize Descriptor Failed cudnn_status: CUDNN_STATUS_NOT_SUPPORTED (Triggered internally at ../aten/src/ATen/native/cudnn/Conv_v8.cpp:919.)\n",
            "  return F.conv2d(input, weight, bias, self.stride,\n"
          ]
        },
        {
          "output_type": "stream",
          "name": "stdout",
          "text": [
            "\u001b[34m\u001b[1mAMP: \u001b[0mchecks passed ✅\n"
          ]
        },
        {
          "output_type": "stream",
          "name": "stderr",
          "text": [
            "\u001b[34m\u001b[1mtrain: \u001b[0mScanning /content/pngs/train... 995 images, 0 corrupt: 100%|██████████| 995/995 [00:00<00:00, 1044.81it/s]"
          ]
        },
        {
          "output_type": "stream",
          "name": "stdout",
          "text": [
            "\u001b[34m\u001b[1mtrain: \u001b[0mNew cache created: /content/pngs/train.cache\n"
          ]
        },
        {
          "output_type": "stream",
          "name": "stderr",
          "text": [
            "\n",
            "/usr/lib/python3.10/multiprocessing/popen_fork.py:66: RuntimeWarning: os.fork() was called. os.fork() is incompatible with multithreaded code, and JAX is multithreaded, so this will likely lead to a deadlock.\n",
            "  self.pid = os.fork()\n",
            "\u001b[34m\u001b[1mval: \u001b[0mScanning /content/pngs/val... 253 images, 0 corrupt: 100%|██████████| 253/253 [00:00<00:00, 894.95it/s]"
          ]
        },
        {
          "output_type": "stream",
          "name": "stdout",
          "text": [
            "\u001b[34m\u001b[1mval: \u001b[0mNew cache created: /content/pngs/val.cache\n"
          ]
        },
        {
          "output_type": "stream",
          "name": "stderr",
          "text": [
            "\n"
          ]
        },
        {
          "output_type": "stream",
          "name": "stdout",
          "text": [
            "\u001b[34m\u001b[1moptimizer:\u001b[0m 'optimizer=auto' found, ignoring 'lr0=0.01' and 'momentum=0.937' and determining best 'optimizer', 'lr0' and 'momentum' automatically... \n",
            "\u001b[34m\u001b[1moptimizer:\u001b[0m AdamW(lr=0.000714, momentum=0.9) with parameter groups 26 weight(decay=0.0), 27 weight(decay=0.0005), 27 bias(decay=0.0)\n",
            "\u001b[34m\u001b[1mTensorBoard: \u001b[0mmodel graph visualization added ✅\n",
            "Image sizes 640 train, 640 val\n",
            "Using 2 dataloader workers\n",
            "Logging results to \u001b[1mruns/classify/train\u001b[0m\n",
            "Starting training for 100 epochs...\n",
            "\n",
            "      Epoch    GPU_mem       loss  Instances       Size\n"
          ]
        },
        {
          "output_type": "stream",
          "name": "stderr",
          "text": [
            "      1/100      1.57G      1.833         16        640:   8%|▊         | 5/63 [00:04<00:34,  1.66it/s]"
          ]
        },
        {
          "output_type": "stream",
          "name": "stdout",
          "text": [
            "Downloading https://ultralytics.com/assets/Arial.ttf to '/root/.config/Ultralytics/Arial.ttf'...\n"
          ]
        },
        {
          "output_type": "stream",
          "name": "stderr",
          "text": [
            "      1/100      1.79G      1.831         16        640:  11%|█         | 7/63 [00:07<00:46,  1.20it/s]\n",
            "100%|██████████| 755k/755k [00:00<00:00, 23.8MB/s]\n",
            "      1/100      1.79G       1.77          3        640: 100%|██████████| 63/63 [00:50<00:00,  1.25it/s]\n",
            "               classes   top1_acc   top5_acc: 100%|██████████| 8/8 [00:05<00:00,  1.58it/s]"
          ]
        },
        {
          "output_type": "stream",
          "name": "stdout",
          "text": [
            "                   all      0.439      0.917\n"
          ]
        },
        {
          "output_type": "stream",
          "name": "stderr",
          "text": [
            "\n"
          ]
        },
        {
          "output_type": "stream",
          "name": "stdout",
          "text": [
            "\n",
            "      Epoch    GPU_mem       loss  Instances       Size\n"
          ]
        },
        {
          "output_type": "stream",
          "name": "stderr",
          "text": [
            "      2/100      1.43G      1.626          3        640: 100%|██████████| 63/63 [00:45<00:00,  1.39it/s]\n",
            "               classes   top1_acc   top5_acc: 100%|██████████| 8/8 [00:04<00:00,  1.71it/s]"
          ]
        },
        {
          "output_type": "stream",
          "name": "stdout",
          "text": [
            "                   all      0.474       0.98\n"
          ]
        },
        {
          "output_type": "stream",
          "name": "stderr",
          "text": [
            "\n"
          ]
        },
        {
          "output_type": "stream",
          "name": "stdout",
          "text": [
            "\n",
            "      Epoch    GPU_mem       loss  Instances       Size\n"
          ]
        },
        {
          "output_type": "stream",
          "name": "stderr",
          "text": [
            "      3/100      1.43G      1.502          3        640: 100%|██████████| 63/63 [00:48<00:00,  1.29it/s]\n",
            "               classes   top1_acc   top5_acc: 100%|██████████| 8/8 [00:04<00:00,  1.81it/s]"
          ]
        },
        {
          "output_type": "stream",
          "name": "stdout",
          "text": [
            "                   all      0.407      0.945\n"
          ]
        },
        {
          "output_type": "stream",
          "name": "stderr",
          "text": [
            "\n"
          ]
        },
        {
          "output_type": "stream",
          "name": "stdout",
          "text": [
            "\n",
            "      Epoch    GPU_mem       loss  Instances       Size\n"
          ]
        },
        {
          "output_type": "stream",
          "name": "stderr",
          "text": [
            "      4/100      1.43G       1.36          3        640: 100%|██████████| 63/63 [00:43<00:00,  1.46it/s]\n",
            "               classes   top1_acc   top5_acc: 100%|██████████| 8/8 [00:06<00:00,  1.29it/s]"
          ]
        },
        {
          "output_type": "stream",
          "name": "stdout",
          "text": [
            "                   all      0.526       0.98\n"
          ]
        },
        {
          "output_type": "stream",
          "name": "stderr",
          "text": [
            "\n"
          ]
        },
        {
          "output_type": "stream",
          "name": "stdout",
          "text": [
            "\n",
            "      Epoch    GPU_mem       loss  Instances       Size\n"
          ]
        },
        {
          "output_type": "stream",
          "name": "stderr",
          "text": [
            "      5/100      1.43G      1.261          3        640: 100%|██████████| 63/63 [00:39<00:00,  1.58it/s]\n",
            "               classes   top1_acc   top5_acc: 100%|██████████| 8/8 [00:07<00:00,  1.00it/s]"
          ]
        },
        {
          "output_type": "stream",
          "name": "stdout",
          "text": [
            "                   all      0.605      0.996\n"
          ]
        },
        {
          "output_type": "stream",
          "name": "stderr",
          "text": [
            "\n"
          ]
        },
        {
          "output_type": "stream",
          "name": "stdout",
          "text": [
            "\n",
            "      Epoch    GPU_mem       loss  Instances       Size\n"
          ]
        },
        {
          "output_type": "stream",
          "name": "stderr",
          "text": [
            "      6/100      1.43G      1.172          3        640: 100%|██████████| 63/63 [00:43<00:00,  1.45it/s]\n",
            "               classes   top1_acc   top5_acc: 100%|██████████| 8/8 [00:05<00:00,  1.58it/s]"
          ]
        },
        {
          "output_type": "stream",
          "name": "stdout",
          "text": [
            "                   all      0.585      0.992\n"
          ]
        },
        {
          "output_type": "stream",
          "name": "stderr",
          "text": [
            "\n"
          ]
        },
        {
          "output_type": "stream",
          "name": "stdout",
          "text": [
            "\n",
            "      Epoch    GPU_mem       loss  Instances       Size\n"
          ]
        },
        {
          "output_type": "stream",
          "name": "stderr",
          "text": [
            "      7/100      1.43G      1.111          3        640: 100%|██████████| 63/63 [00:42<00:00,  1.50it/s]\n",
            "               classes   top1_acc   top5_acc: 100%|██████████| 8/8 [00:04<00:00,  1.66it/s]"
          ]
        },
        {
          "output_type": "stream",
          "name": "stdout",
          "text": [
            "                   all      0.628      0.992\n"
          ]
        },
        {
          "output_type": "stream",
          "name": "stderr",
          "text": [
            "\n"
          ]
        },
        {
          "output_type": "stream",
          "name": "stdout",
          "text": [
            "\n",
            "      Epoch    GPU_mem       loss  Instances       Size\n"
          ]
        },
        {
          "output_type": "stream",
          "name": "stderr",
          "text": [
            "      8/100      1.43G       1.05          3        640: 100%|██████████| 63/63 [00:41<00:00,  1.52it/s]\n",
            "               classes   top1_acc   top5_acc: 100%|██████████| 8/8 [00:08<00:00,  1.08s/it]"
          ]
        },
        {
          "output_type": "stream",
          "name": "stdout",
          "text": [
            "                   all      0.605      0.996\n"
          ]
        },
        {
          "output_type": "stream",
          "name": "stderr",
          "text": [
            "\n"
          ]
        },
        {
          "output_type": "stream",
          "name": "stdout",
          "text": [
            "\n",
            "      Epoch    GPU_mem       loss  Instances       Size\n"
          ]
        },
        {
          "output_type": "stream",
          "name": "stderr",
          "text": [
            "      9/100      1.43G      1.067          3        640: 100%|██████████| 63/63 [00:40<00:00,  1.56it/s]\n",
            "               classes   top1_acc   top5_acc: 100%|██████████| 8/8 [00:04<00:00,  1.75it/s]"
          ]
        },
        {
          "output_type": "stream",
          "name": "stdout",
          "text": [
            "                   all      0.656      0.996\n"
          ]
        },
        {
          "output_type": "stream",
          "name": "stderr",
          "text": [
            "\n"
          ]
        },
        {
          "output_type": "stream",
          "name": "stdout",
          "text": [
            "\n",
            "      Epoch    GPU_mem       loss  Instances       Size\n"
          ]
        },
        {
          "output_type": "stream",
          "name": "stderr",
          "text": [
            "     10/100      1.43G     0.9541          3        640: 100%|██████████| 63/63 [00:43<00:00,  1.45it/s]\n",
            "               classes   top1_acc   top5_acc: 100%|██████████| 8/8 [00:04<00:00,  1.74it/s]"
          ]
        },
        {
          "output_type": "stream",
          "name": "stdout",
          "text": [
            "                   all      0.648      0.988\n"
          ]
        },
        {
          "output_type": "stream",
          "name": "stderr",
          "text": [
            "\n"
          ]
        },
        {
          "output_type": "stream",
          "name": "stdout",
          "text": [
            "\n",
            "      Epoch    GPU_mem       loss  Instances       Size\n"
          ]
        },
        {
          "output_type": "stream",
          "name": "stderr",
          "text": [
            "     11/100      1.43G     0.9538          3        640: 100%|██████████| 63/63 [00:43<00:00,  1.45it/s]\n",
            "               classes   top1_acc   top5_acc: 100%|██████████| 8/8 [00:08<00:00,  1.01s/it]"
          ]
        },
        {
          "output_type": "stream",
          "name": "stdout",
          "text": [
            "                   all      0.664      0.992\n"
          ]
        },
        {
          "output_type": "stream",
          "name": "stderr",
          "text": [
            "\n"
          ]
        },
        {
          "output_type": "stream",
          "name": "stdout",
          "text": [
            "\n",
            "      Epoch    GPU_mem       loss  Instances       Size\n"
          ]
        },
        {
          "output_type": "stream",
          "name": "stderr",
          "text": [
            "     12/100      1.43G     0.9264          3        640: 100%|██████████| 63/63 [00:40<00:00,  1.54it/s]\n",
            "               classes   top1_acc   top5_acc: 100%|██████████| 8/8 [00:05<00:00,  1.53it/s]"
          ]
        },
        {
          "output_type": "stream",
          "name": "stdout",
          "text": [
            "                   all      0.628      0.992\n"
          ]
        },
        {
          "output_type": "stream",
          "name": "stderr",
          "text": [
            "\n"
          ]
        },
        {
          "output_type": "stream",
          "name": "stdout",
          "text": [
            "\n",
            "      Epoch    GPU_mem       loss  Instances       Size\n"
          ]
        },
        {
          "output_type": "stream",
          "name": "stderr",
          "text": [
            "     13/100      1.43G      0.827          3        640: 100%|██████████| 63/63 [00:40<00:00,  1.55it/s]\n",
            "               classes   top1_acc   top5_acc: 100%|██████████| 8/8 [00:04<00:00,  1.77it/s]"
          ]
        },
        {
          "output_type": "stream",
          "name": "stdout",
          "text": [
            "                   all       0.68          1\n"
          ]
        },
        {
          "output_type": "stream",
          "name": "stderr",
          "text": [
            "\n"
          ]
        },
        {
          "output_type": "stream",
          "name": "stdout",
          "text": [
            "\n",
            "      Epoch    GPU_mem       loss  Instances       Size\n"
          ]
        },
        {
          "output_type": "stream",
          "name": "stderr",
          "text": [
            "     14/100      1.43G     0.8339          3        640: 100%|██████████| 63/63 [00:47<00:00,  1.32it/s]\n",
            "               classes   top1_acc   top5_acc: 100%|██████████| 8/8 [00:04<00:00,  1.66it/s]"
          ]
        },
        {
          "output_type": "stream",
          "name": "stdout",
          "text": [
            "                   all      0.668      0.996\n"
          ]
        },
        {
          "output_type": "stream",
          "name": "stderr",
          "text": [
            "\n"
          ]
        },
        {
          "output_type": "stream",
          "name": "stdout",
          "text": [
            "\n",
            "      Epoch    GPU_mem       loss  Instances       Size\n"
          ]
        },
        {
          "output_type": "stream",
          "name": "stderr",
          "text": [
            "     15/100      1.43G      0.758          3        640: 100%|██████████| 63/63 [00:41<00:00,  1.52it/s]\n",
            "               classes   top1_acc   top5_acc: 100%|██████████| 8/8 [00:05<00:00,  1.44it/s]"
          ]
        },
        {
          "output_type": "stream",
          "name": "stdout",
          "text": [
            "                   all        0.7          1\n"
          ]
        },
        {
          "output_type": "stream",
          "name": "stderr",
          "text": [
            "\n"
          ]
        },
        {
          "output_type": "stream",
          "name": "stdout",
          "text": [
            "\n",
            "      Epoch    GPU_mem       loss  Instances       Size\n"
          ]
        },
        {
          "output_type": "stream",
          "name": "stderr",
          "text": [
            "     16/100      1.43G     0.7648          3        640: 100%|██████████| 63/63 [00:40<00:00,  1.57it/s]\n",
            "               classes   top1_acc   top5_acc: 100%|██████████| 8/8 [00:07<00:00,  1.04it/s]"
          ]
        },
        {
          "output_type": "stream",
          "name": "stdout",
          "text": [
            "                   all      0.727          1\n"
          ]
        },
        {
          "output_type": "stream",
          "name": "stderr",
          "text": [
            "\n"
          ]
        },
        {
          "output_type": "stream",
          "name": "stdout",
          "text": [
            "\n",
            "      Epoch    GPU_mem       loss  Instances       Size\n"
          ]
        },
        {
          "output_type": "stream",
          "name": "stderr",
          "text": [
            "     17/100      1.43G     0.6937          3        640: 100%|██████████| 63/63 [00:42<00:00,  1.50it/s]\n",
            "               classes   top1_acc   top5_acc: 100%|██████████| 8/8 [00:04<00:00,  1.65it/s]"
          ]
        },
        {
          "output_type": "stream",
          "name": "stdout",
          "text": [
            "                   all      0.617          1\n"
          ]
        },
        {
          "output_type": "stream",
          "name": "stderr",
          "text": [
            "\n"
          ]
        },
        {
          "output_type": "stream",
          "name": "stdout",
          "text": [
            "\n",
            "      Epoch    GPU_mem       loss  Instances       Size\n"
          ]
        },
        {
          "output_type": "stream",
          "name": "stderr",
          "text": [
            "     18/100      1.43G     0.6779          3        640: 100%|██████████| 63/63 [00:42<00:00,  1.47it/s]\n",
            "               classes   top1_acc   top5_acc: 100%|██████████| 8/8 [00:04<00:00,  1.81it/s]"
          ]
        },
        {
          "output_type": "stream",
          "name": "stdout",
          "text": [
            "                   all       0.68      0.996\n"
          ]
        },
        {
          "output_type": "stream",
          "name": "stderr",
          "text": [
            "\n"
          ]
        },
        {
          "output_type": "stream",
          "name": "stdout",
          "text": [
            "\n",
            "      Epoch    GPU_mem       loss  Instances       Size\n"
          ]
        },
        {
          "output_type": "stream",
          "name": "stderr",
          "text": [
            "     19/100      1.43G     0.6594          3        640: 100%|██████████| 63/63 [00:46<00:00,  1.35it/s]\n",
            "               classes   top1_acc   top5_acc: 100%|██████████| 8/8 [00:04<00:00,  1.69it/s]"
          ]
        },
        {
          "output_type": "stream",
          "name": "stdout",
          "text": [
            "                   all      0.735      0.996\n"
          ]
        },
        {
          "output_type": "stream",
          "name": "stderr",
          "text": [
            "\n"
          ]
        },
        {
          "output_type": "stream",
          "name": "stdout",
          "text": [
            "\n",
            "      Epoch    GPU_mem       loss  Instances       Size\n"
          ]
        },
        {
          "output_type": "stream",
          "name": "stderr",
          "text": [
            "     20/100      1.43G     0.6296          3        640: 100%|██████████| 63/63 [00:42<00:00,  1.47it/s]\n",
            "               classes   top1_acc   top5_acc: 100%|██████████| 8/8 [00:07<00:00,  1.12it/s]"
          ]
        },
        {
          "output_type": "stream",
          "name": "stdout",
          "text": [
            "                   all      0.723          1\n"
          ]
        },
        {
          "output_type": "stream",
          "name": "stderr",
          "text": [
            "\n"
          ]
        },
        {
          "output_type": "stream",
          "name": "stdout",
          "text": [
            "\n",
            "      Epoch    GPU_mem       loss  Instances       Size\n"
          ]
        },
        {
          "output_type": "stream",
          "name": "stderr",
          "text": [
            "     21/100      1.43G     0.6246          3        640: 100%|██████████| 63/63 [00:40<00:00,  1.57it/s]\n",
            "               classes   top1_acc   top5_acc: 100%|██████████| 8/8 [00:05<00:00,  1.34it/s]"
          ]
        },
        {
          "output_type": "stream",
          "name": "stdout",
          "text": [
            "                   all        0.7      0.988\n"
          ]
        },
        {
          "output_type": "stream",
          "name": "stderr",
          "text": [
            "\n"
          ]
        },
        {
          "output_type": "stream",
          "name": "stdout",
          "text": [
            "\n",
            "      Epoch    GPU_mem       loss  Instances       Size\n"
          ]
        },
        {
          "output_type": "stream",
          "name": "stderr",
          "text": [
            "     22/100      1.43G     0.5808          3        640: 100%|██████████| 63/63 [00:45<00:00,  1.40it/s]\n",
            "               classes   top1_acc   top5_acc: 100%|██████████| 8/8 [00:04<00:00,  1.76it/s]"
          ]
        },
        {
          "output_type": "stream",
          "name": "stdout",
          "text": [
            "                   all      0.704      0.992\n"
          ]
        },
        {
          "output_type": "stream",
          "name": "stderr",
          "text": [
            "\n"
          ]
        },
        {
          "output_type": "stream",
          "name": "stdout",
          "text": [
            "\n",
            "      Epoch    GPU_mem       loss  Instances       Size\n"
          ]
        },
        {
          "output_type": "stream",
          "name": "stderr",
          "text": [
            "     23/100      1.43G     0.5999          3        640: 100%|██████████| 63/63 [00:39<00:00,  1.58it/s]\n",
            "               classes   top1_acc   top5_acc: 100%|██████████| 8/8 [00:06<00:00,  1.15it/s]"
          ]
        },
        {
          "output_type": "stream",
          "name": "stdout",
          "text": [
            "                   all      0.739          1\n"
          ]
        },
        {
          "output_type": "stream",
          "name": "stderr",
          "text": [
            "\n"
          ]
        },
        {
          "output_type": "stream",
          "name": "stdout",
          "text": [
            "\n",
            "      Epoch    GPU_mem       loss  Instances       Size\n"
          ]
        },
        {
          "output_type": "stream",
          "name": "stderr",
          "text": [
            "     24/100      1.43G     0.5932          3        640: 100%|██████████| 63/63 [00:39<00:00,  1.58it/s]\n",
            "               classes   top1_acc   top5_acc: 100%|██████████| 8/8 [00:06<00:00,  1.27it/s]"
          ]
        },
        {
          "output_type": "stream",
          "name": "stdout",
          "text": [
            "                   all      0.755          1\n"
          ]
        },
        {
          "output_type": "stream",
          "name": "stderr",
          "text": [
            "\n"
          ]
        },
        {
          "output_type": "stream",
          "name": "stdout",
          "text": [
            "\n",
            "      Epoch    GPU_mem       loss  Instances       Size\n"
          ]
        },
        {
          "output_type": "stream",
          "name": "stderr",
          "text": [
            "     25/100      1.43G     0.5614          3        640: 100%|██████████| 63/63 [00:45<00:00,  1.40it/s]\n",
            "               classes   top1_acc   top5_acc: 100%|██████████| 8/8 [00:05<00:00,  1.60it/s]"
          ]
        },
        {
          "output_type": "stream",
          "name": "stdout",
          "text": [
            "                   all      0.727          1\n"
          ]
        },
        {
          "output_type": "stream",
          "name": "stderr",
          "text": [
            "\n"
          ]
        },
        {
          "output_type": "stream",
          "name": "stdout",
          "text": [
            "\n",
            "      Epoch    GPU_mem       loss  Instances       Size\n"
          ]
        },
        {
          "output_type": "stream",
          "name": "stderr",
          "text": [
            "     26/100      1.43G      0.544          3        640: 100%|██████████| 63/63 [00:42<00:00,  1.50it/s]\n",
            "               classes   top1_acc   top5_acc: 100%|██████████| 8/8 [00:04<00:00,  1.74it/s]"
          ]
        },
        {
          "output_type": "stream",
          "name": "stdout",
          "text": [
            "                   all      0.727      0.996\n"
          ]
        },
        {
          "output_type": "stream",
          "name": "stderr",
          "text": [
            "\n"
          ]
        },
        {
          "output_type": "stream",
          "name": "stdout",
          "text": [
            "\n",
            "      Epoch    GPU_mem       loss  Instances       Size\n"
          ]
        },
        {
          "output_type": "stream",
          "name": "stderr",
          "text": [
            "     27/100      1.43G     0.5431          3        640: 100%|██████████| 63/63 [00:42<00:00,  1.48it/s]\n",
            "               classes   top1_acc   top5_acc: 100%|██████████| 8/8 [00:08<00:00,  1.11s/it]"
          ]
        },
        {
          "output_type": "stream",
          "name": "stdout",
          "text": [
            "                   all      0.751          1\n"
          ]
        },
        {
          "output_type": "stream",
          "name": "stderr",
          "text": [
            "\n"
          ]
        },
        {
          "output_type": "stream",
          "name": "stdout",
          "text": [
            "\n",
            "      Epoch    GPU_mem       loss  Instances       Size\n"
          ]
        },
        {
          "output_type": "stream",
          "name": "stderr",
          "text": [
            "     28/100      1.43G     0.4486          3        640: 100%|██████████| 63/63 [00:40<00:00,  1.54it/s]\n",
            "               classes   top1_acc   top5_acc: 100%|██████████| 8/8 [00:08<00:00,  1.02s/it]"
          ]
        },
        {
          "output_type": "stream",
          "name": "stdout",
          "text": [
            "                   all      0.727          1\n"
          ]
        },
        {
          "output_type": "stream",
          "name": "stderr",
          "text": [
            "\n"
          ]
        },
        {
          "output_type": "stream",
          "name": "stdout",
          "text": [
            "\n",
            "      Epoch    GPU_mem       loss  Instances       Size\n"
          ]
        },
        {
          "output_type": "stream",
          "name": "stderr",
          "text": [
            "     29/100      1.43G     0.4862          3        640: 100%|██████████| 63/63 [00:40<00:00,  1.56it/s]\n",
            "               classes   top1_acc   top5_acc: 100%|██████████| 8/8 [00:04<00:00,  1.80it/s]"
          ]
        },
        {
          "output_type": "stream",
          "name": "stdout",
          "text": [
            "                   all      0.727          1\n"
          ]
        },
        {
          "output_type": "stream",
          "name": "stderr",
          "text": [
            "\n"
          ]
        },
        {
          "output_type": "stream",
          "name": "stdout",
          "text": [
            "\n",
            "      Epoch    GPU_mem       loss  Instances       Size\n"
          ]
        },
        {
          "output_type": "stream",
          "name": "stderr",
          "text": [
            "     30/100      1.43G     0.4321          3        640: 100%|██████████| 63/63 [00:46<00:00,  1.34it/s]\n",
            "               classes   top1_acc   top5_acc: 100%|██████████| 8/8 [00:04<00:00,  1.78it/s]"
          ]
        },
        {
          "output_type": "stream",
          "name": "stdout",
          "text": [
            "                   all      0.791          1\n"
          ]
        },
        {
          "output_type": "stream",
          "name": "stderr",
          "text": [
            "\n"
          ]
        },
        {
          "output_type": "stream",
          "name": "stdout",
          "text": [
            "\n",
            "      Epoch    GPU_mem       loss  Instances       Size\n"
          ]
        },
        {
          "output_type": "stream",
          "name": "stderr",
          "text": [
            "     31/100      1.43G     0.4522          3        640: 100%|██████████| 63/63 [00:44<00:00,  1.42it/s]\n",
            "               classes   top1_acc   top5_acc: 100%|██████████| 8/8 [00:04<00:00,  1.76it/s]"
          ]
        },
        {
          "output_type": "stream",
          "name": "stdout",
          "text": [
            "                   all      0.739          1\n"
          ]
        },
        {
          "output_type": "stream",
          "name": "stderr",
          "text": [
            "\n"
          ]
        },
        {
          "output_type": "stream",
          "name": "stdout",
          "text": [
            "\n",
            "      Epoch    GPU_mem       loss  Instances       Size\n"
          ]
        },
        {
          "output_type": "stream",
          "name": "stderr",
          "text": [
            "     32/100      1.43G      0.406          3        640: 100%|██████████| 63/63 [00:40<00:00,  1.55it/s]\n",
            "               classes   top1_acc   top5_acc: 100%|██████████| 8/8 [00:08<00:00,  1.03s/it]"
          ]
        },
        {
          "output_type": "stream",
          "name": "stdout",
          "text": [
            "                   all      0.739      0.992\n"
          ]
        },
        {
          "output_type": "stream",
          "name": "stderr",
          "text": [
            "\n"
          ]
        },
        {
          "output_type": "stream",
          "name": "stdout",
          "text": [
            "\n",
            "      Epoch    GPU_mem       loss  Instances       Size\n"
          ]
        },
        {
          "output_type": "stream",
          "name": "stderr",
          "text": [
            "     33/100      1.43G     0.4362          3        640: 100%|██████████| 63/63 [00:43<00:00,  1.46it/s]\n",
            "               classes   top1_acc   top5_acc: 100%|██████████| 8/8 [00:04<00:00,  1.65it/s]"
          ]
        },
        {
          "output_type": "stream",
          "name": "stdout",
          "text": [
            "                   all      0.787          1\n"
          ]
        },
        {
          "output_type": "stream",
          "name": "stderr",
          "text": [
            "\n"
          ]
        },
        {
          "output_type": "stream",
          "name": "stdout",
          "text": [
            "\n",
            "      Epoch    GPU_mem       loss  Instances       Size\n"
          ]
        },
        {
          "output_type": "stream",
          "name": "stderr",
          "text": [
            "     34/100      1.43G     0.4214          3        640: 100%|██████████| 63/63 [00:42<00:00,  1.50it/s]\n",
            "               classes   top1_acc   top5_acc: 100%|██████████| 8/8 [00:04<00:00,  1.66it/s]"
          ]
        },
        {
          "output_type": "stream",
          "name": "stdout",
          "text": [
            "                   all      0.739          1\n"
          ]
        },
        {
          "output_type": "stream",
          "name": "stderr",
          "text": [
            "\n"
          ]
        },
        {
          "output_type": "stream",
          "name": "stdout",
          "text": [
            "\n",
            "      Epoch    GPU_mem       loss  Instances       Size\n"
          ]
        },
        {
          "output_type": "stream",
          "name": "stderr",
          "text": [
            "     35/100      1.43G     0.3794          3        640: 100%|██████████| 63/63 [00:40<00:00,  1.56it/s]\n",
            "               classes   top1_acc   top5_acc: 100%|██████████| 8/8 [00:08<00:00,  1.06s/it]"
          ]
        },
        {
          "output_type": "stream",
          "name": "stdout",
          "text": [
            "                   all      0.775          1\n"
          ]
        },
        {
          "output_type": "stream",
          "name": "stderr",
          "text": [
            "\n"
          ]
        },
        {
          "output_type": "stream",
          "name": "stdout",
          "text": [
            "\n",
            "      Epoch    GPU_mem       loss  Instances       Size\n"
          ]
        },
        {
          "output_type": "stream",
          "name": "stderr",
          "text": [
            "     36/100      1.43G     0.3534          3        640: 100%|██████████| 63/63 [00:41<00:00,  1.50it/s]\n",
            "               classes   top1_acc   top5_acc: 100%|██████████| 8/8 [00:06<00:00,  1.15it/s]"
          ]
        },
        {
          "output_type": "stream",
          "name": "stdout",
          "text": [
            "                   all      0.767          1\n"
          ]
        },
        {
          "output_type": "stream",
          "name": "stderr",
          "text": [
            "\n"
          ]
        },
        {
          "output_type": "stream",
          "name": "stdout",
          "text": [
            "\n",
            "      Epoch    GPU_mem       loss  Instances       Size\n"
          ]
        },
        {
          "output_type": "stream",
          "name": "stderr",
          "text": [
            "     37/100      1.43G     0.3809          3        640: 100%|██████████| 63/63 [00:39<00:00,  1.58it/s]\n",
            "               classes   top1_acc   top5_acc: 100%|██████████| 8/8 [00:06<00:00,  1.26it/s]"
          ]
        },
        {
          "output_type": "stream",
          "name": "stdout",
          "text": [
            "                   all      0.779          1\n"
          ]
        },
        {
          "output_type": "stream",
          "name": "stderr",
          "text": [
            "\n"
          ]
        },
        {
          "output_type": "stream",
          "name": "stdout",
          "text": [
            "\n",
            "      Epoch    GPU_mem       loss  Instances       Size\n"
          ]
        },
        {
          "output_type": "stream",
          "name": "stderr",
          "text": [
            "     38/100      1.43G     0.3504          3        640: 100%|██████████| 63/63 [00:43<00:00,  1.45it/s]\n",
            "               classes   top1_acc   top5_acc: 100%|██████████| 8/8 [00:04<00:00,  1.82it/s]"
          ]
        },
        {
          "output_type": "stream",
          "name": "stdout",
          "text": [
            "                   all      0.771          1\n"
          ]
        },
        {
          "output_type": "stream",
          "name": "stderr",
          "text": [
            "\n"
          ]
        },
        {
          "output_type": "stream",
          "name": "stdout",
          "text": [
            "\n",
            "      Epoch    GPU_mem       loss  Instances       Size\n"
          ]
        },
        {
          "output_type": "stream",
          "name": "stderr",
          "text": [
            "     39/100      1.43G     0.3312          3        640: 100%|██████████| 63/63 [00:41<00:00,  1.52it/s]\n",
            "               classes   top1_acc   top5_acc: 100%|██████████| 8/8 [00:05<00:00,  1.45it/s]"
          ]
        },
        {
          "output_type": "stream",
          "name": "stdout",
          "text": [
            "                   all      0.759      0.996\n"
          ]
        },
        {
          "output_type": "stream",
          "name": "stderr",
          "text": [
            "\n"
          ]
        },
        {
          "output_type": "stream",
          "name": "stdout",
          "text": [
            "\n",
            "      Epoch    GPU_mem       loss  Instances       Size\n"
          ]
        },
        {
          "output_type": "stream",
          "name": "stderr",
          "text": [
            "     40/100      1.43G      0.327          3        640: 100%|██████████| 63/63 [00:40<00:00,  1.57it/s]\n",
            "               classes   top1_acc   top5_acc: 100%|██████████| 8/8 [00:06<00:00,  1.27it/s]"
          ]
        },
        {
          "output_type": "stream",
          "name": "stdout",
          "text": [
            "                   all      0.759          1\n"
          ]
        },
        {
          "output_type": "stream",
          "name": "stderr",
          "text": [
            "\n"
          ]
        },
        {
          "output_type": "stream",
          "name": "stdout",
          "text": [
            "\n",
            "      Epoch    GPU_mem       loss  Instances       Size\n"
          ]
        },
        {
          "output_type": "stream",
          "name": "stderr",
          "text": [
            "     41/100      1.43G     0.3048          3        640: 100%|██████████| 63/63 [00:43<00:00,  1.46it/s]\n",
            "               classes   top1_acc   top5_acc: 100%|██████████| 8/8 [00:05<00:00,  1.56it/s]"
          ]
        },
        {
          "output_type": "stream",
          "name": "stdout",
          "text": [
            "                   all      0.783          1\n"
          ]
        },
        {
          "output_type": "stream",
          "name": "stderr",
          "text": [
            "\n"
          ]
        },
        {
          "output_type": "stream",
          "name": "stdout",
          "text": [
            "\n",
            "      Epoch    GPU_mem       loss  Instances       Size\n"
          ]
        },
        {
          "output_type": "stream",
          "name": "stderr",
          "text": [
            "     42/100      1.43G     0.3443          3        640: 100%|██████████| 63/63 [00:41<00:00,  1.52it/s]\n",
            "               classes   top1_acc   top5_acc: 100%|██████████| 8/8 [00:04<00:00,  1.83it/s]"
          ]
        },
        {
          "output_type": "stream",
          "name": "stdout",
          "text": [
            "                   all      0.787          1\n"
          ]
        },
        {
          "output_type": "stream",
          "name": "stderr",
          "text": [
            "\n"
          ]
        },
        {
          "output_type": "stream",
          "name": "stdout",
          "text": [
            "\n",
            "      Epoch    GPU_mem       loss  Instances       Size\n"
          ]
        },
        {
          "output_type": "stream",
          "name": "stderr",
          "text": [
            "     43/100      1.43G     0.3243          3        640: 100%|██████████| 63/63 [00:42<00:00,  1.49it/s]\n",
            "               classes   top1_acc   top5_acc: 100%|██████████| 8/8 [00:05<00:00,  1.53it/s]"
          ]
        },
        {
          "output_type": "stream",
          "name": "stdout",
          "text": [
            "                   all      0.759          1\n"
          ]
        },
        {
          "output_type": "stream",
          "name": "stderr",
          "text": [
            "\n"
          ]
        },
        {
          "output_type": "stream",
          "name": "stdout",
          "text": [
            "\n",
            "      Epoch    GPU_mem       loss  Instances       Size\n"
          ]
        },
        {
          "output_type": "stream",
          "name": "stderr",
          "text": [
            "     44/100      1.43G     0.2863          3        640: 100%|██████████| 63/63 [00:42<00:00,  1.47it/s]\n",
            "               classes   top1_acc   top5_acc: 100%|██████████| 8/8 [00:06<00:00,  1.23it/s]"
          ]
        },
        {
          "output_type": "stream",
          "name": "stdout",
          "text": [
            "                   all      0.767      0.996\n"
          ]
        },
        {
          "output_type": "stream",
          "name": "stderr",
          "text": [
            "\n"
          ]
        },
        {
          "output_type": "stream",
          "name": "stdout",
          "text": [
            "\n",
            "      Epoch    GPU_mem       loss  Instances       Size\n"
          ]
        },
        {
          "output_type": "stream",
          "name": "stderr",
          "text": [
            "     45/100      1.43G     0.2615          3        640: 100%|██████████| 63/63 [00:39<00:00,  1.60it/s]\n",
            "               classes   top1_acc   top5_acc: 100%|██████████| 8/8 [00:04<00:00,  1.70it/s]"
          ]
        },
        {
          "output_type": "stream",
          "name": "stdout",
          "text": [
            "                   all      0.743          1\n"
          ]
        },
        {
          "output_type": "stream",
          "name": "stderr",
          "text": [
            "\n"
          ]
        },
        {
          "output_type": "stream",
          "name": "stdout",
          "text": [
            "\n",
            "      Epoch    GPU_mem       loss  Instances       Size\n"
          ]
        },
        {
          "output_type": "stream",
          "name": "stderr",
          "text": [
            "     46/100      1.43G     0.2603          3        640: 100%|██████████| 63/63 [00:43<00:00,  1.44it/s]\n",
            "               classes   top1_acc   top5_acc: 100%|██████████| 8/8 [00:04<00:00,  1.68it/s]"
          ]
        },
        {
          "output_type": "stream",
          "name": "stdout",
          "text": [
            "                   all      0.775          1\n"
          ]
        },
        {
          "output_type": "stream",
          "name": "stderr",
          "text": [
            "\n"
          ]
        },
        {
          "output_type": "stream",
          "name": "stdout",
          "text": [
            "\n",
            "      Epoch    GPU_mem       loss  Instances       Size\n"
          ]
        },
        {
          "output_type": "stream",
          "name": "stderr",
          "text": [
            "     47/100      1.43G     0.2688          3        640: 100%|██████████| 63/63 [00:43<00:00,  1.46it/s]\n",
            "               classes   top1_acc   top5_acc: 100%|██████████| 8/8 [00:07<00:00,  1.05it/s]"
          ]
        },
        {
          "output_type": "stream",
          "name": "stdout",
          "text": [
            "                   all      0.771          1\n"
          ]
        },
        {
          "output_type": "stream",
          "name": "stderr",
          "text": [
            "\n"
          ]
        },
        {
          "output_type": "stream",
          "name": "stdout",
          "text": [
            "\n",
            "      Epoch    GPU_mem       loss  Instances       Size\n"
          ]
        },
        {
          "output_type": "stream",
          "name": "stderr",
          "text": [
            "     48/100      1.43G      0.305          3        640: 100%|██████████| 63/63 [00:39<00:00,  1.61it/s]\n",
            "               classes   top1_acc   top5_acc: 100%|██████████| 8/8 [00:05<00:00,  1.50it/s]"
          ]
        },
        {
          "output_type": "stream",
          "name": "stdout",
          "text": [
            "                   all      0.763          1\n"
          ]
        },
        {
          "output_type": "stream",
          "name": "stderr",
          "text": [
            "\n"
          ]
        },
        {
          "output_type": "stream",
          "name": "stdout",
          "text": [
            "\n",
            "      Epoch    GPU_mem       loss  Instances       Size\n"
          ]
        },
        {
          "output_type": "stream",
          "name": "stderr",
          "text": [
            "     49/100      1.43G      0.282          3        640: 100%|██████████| 63/63 [00:43<00:00,  1.44it/s]\n",
            "               classes   top1_acc   top5_acc: 100%|██████████| 8/8 [00:06<00:00,  1.26it/s]"
          ]
        },
        {
          "output_type": "stream",
          "name": "stdout",
          "text": [
            "                   all      0.783          1\n"
          ]
        },
        {
          "output_type": "stream",
          "name": "stderr",
          "text": [
            "\n"
          ]
        },
        {
          "output_type": "stream",
          "name": "stdout",
          "text": [
            "\n",
            "      Epoch    GPU_mem       loss  Instances       Size\n"
          ]
        },
        {
          "output_type": "stream",
          "name": "stderr",
          "text": [
            "     50/100      1.43G     0.2488          3        640: 100%|██████████| 63/63 [00:41<00:00,  1.51it/s]\n",
            "               classes   top1_acc   top5_acc: 100%|██████████| 8/8 [00:05<00:00,  1.55it/s]"
          ]
        },
        {
          "output_type": "stream",
          "name": "stdout",
          "text": [
            "                   all      0.783          1\n"
          ]
        },
        {
          "output_type": "stream",
          "name": "stderr",
          "text": [
            "\n"
          ]
        },
        {
          "output_type": "stream",
          "name": "stdout",
          "text": [
            "\n",
            "      Epoch    GPU_mem       loss  Instances       Size\n"
          ]
        },
        {
          "output_type": "stream",
          "name": "stderr",
          "text": [
            "     51/100      1.43G      0.271          3        640: 100%|██████████| 63/63 [00:39<00:00,  1.59it/s]\n",
            "               classes   top1_acc   top5_acc: 100%|██████████| 8/8 [00:07<00:00,  1.14it/s]"
          ]
        },
        {
          "output_type": "stream",
          "name": "stdout",
          "text": [
            "                   all      0.787          1\n"
          ]
        },
        {
          "output_type": "stream",
          "name": "stderr",
          "text": [
            "\n"
          ]
        },
        {
          "output_type": "stream",
          "name": "stdout",
          "text": [
            "\n",
            "      Epoch    GPU_mem       loss  Instances       Size\n"
          ]
        },
        {
          "output_type": "stream",
          "name": "stderr",
          "text": [
            "     52/100      1.43G     0.2403          3        640: 100%|██████████| 63/63 [00:41<00:00,  1.52it/s]\n",
            "               classes   top1_acc   top5_acc: 100%|██████████| 8/8 [00:04<00:00,  1.65it/s]"
          ]
        },
        {
          "output_type": "stream",
          "name": "stdout",
          "text": [
            "                   all      0.767          1\n"
          ]
        },
        {
          "output_type": "stream",
          "name": "stderr",
          "text": [
            "\n"
          ]
        },
        {
          "output_type": "stream",
          "name": "stdout",
          "text": [
            "\n",
            "      Epoch    GPU_mem       loss  Instances       Size\n"
          ]
        },
        {
          "output_type": "stream",
          "name": "stderr",
          "text": [
            "     53/100      1.43G     0.2737          3        640: 100%|██████████| 63/63 [00:42<00:00,  1.49it/s]\n",
            "               classes   top1_acc   top5_acc: 100%|██████████| 8/8 [00:05<00:00,  1.46it/s]"
          ]
        },
        {
          "output_type": "stream",
          "name": "stdout",
          "text": [
            "                   all      0.767          1\n"
          ]
        },
        {
          "output_type": "stream",
          "name": "stderr",
          "text": [
            "\n"
          ]
        },
        {
          "output_type": "stream",
          "name": "stdout",
          "text": [
            "\n",
            "      Epoch    GPU_mem       loss  Instances       Size\n"
          ]
        },
        {
          "output_type": "stream",
          "name": "stderr",
          "text": [
            "     54/100      1.43G      0.229          3        640: 100%|██████████| 63/63 [00:39<00:00,  1.60it/s]\n",
            "               classes   top1_acc   top5_acc: 100%|██████████| 8/8 [00:07<00:00,  1.07it/s]"
          ]
        },
        {
          "output_type": "stream",
          "name": "stdout",
          "text": [
            "                   all      0.802          1\n"
          ]
        },
        {
          "output_type": "stream",
          "name": "stderr",
          "text": [
            "\n"
          ]
        },
        {
          "output_type": "stream",
          "name": "stdout",
          "text": [
            "\n",
            "      Epoch    GPU_mem       loss  Instances       Size\n"
          ]
        },
        {
          "output_type": "stream",
          "name": "stderr",
          "text": [
            "     55/100      1.43G     0.2439          3        640: 100%|██████████| 63/63 [00:42<00:00,  1.48it/s]\n",
            "               classes   top1_acc   top5_acc: 100%|██████████| 8/8 [00:07<00:00,  1.05it/s]"
          ]
        },
        {
          "output_type": "stream",
          "name": "stdout",
          "text": [
            "                   all      0.791          1\n"
          ]
        },
        {
          "output_type": "stream",
          "name": "stderr",
          "text": [
            "\n"
          ]
        },
        {
          "output_type": "stream",
          "name": "stdout",
          "text": [
            "\n",
            "      Epoch    GPU_mem       loss  Instances       Size\n"
          ]
        },
        {
          "output_type": "stream",
          "name": "stderr",
          "text": [
            "     56/100      1.43G     0.1994          3        640: 100%|██████████| 63/63 [00:39<00:00,  1.60it/s]\n",
            "               classes   top1_acc   top5_acc: 100%|██████████| 8/8 [00:06<00:00,  1.28it/s]"
          ]
        },
        {
          "output_type": "stream",
          "name": "stdout",
          "text": [
            "                   all      0.822          1\n"
          ]
        },
        {
          "output_type": "stream",
          "name": "stderr",
          "text": [
            "\n"
          ]
        },
        {
          "output_type": "stream",
          "name": "stdout",
          "text": [
            "\n",
            "      Epoch    GPU_mem       loss  Instances       Size\n"
          ]
        },
        {
          "output_type": "stream",
          "name": "stderr",
          "text": [
            "     57/100      1.43G     0.2378          3        640: 100%|██████████| 63/63 [00:44<00:00,  1.41it/s]\n",
            "               classes   top1_acc   top5_acc: 100%|██████████| 8/8 [00:05<00:00,  1.59it/s]"
          ]
        },
        {
          "output_type": "stream",
          "name": "stdout",
          "text": [
            "                   all      0.783          1\n"
          ]
        },
        {
          "output_type": "stream",
          "name": "stderr",
          "text": [
            "\n"
          ]
        },
        {
          "output_type": "stream",
          "name": "stdout",
          "text": [
            "\n",
            "      Epoch    GPU_mem       loss  Instances       Size\n"
          ]
        },
        {
          "output_type": "stream",
          "name": "stderr",
          "text": [
            "     58/100      1.43G     0.2122          3        640: 100%|██████████| 63/63 [00:49<00:00,  1.28it/s]\n",
            "               classes   top1_acc   top5_acc: 100%|██████████| 8/8 [00:04<00:00,  1.66it/s]"
          ]
        },
        {
          "output_type": "stream",
          "name": "stdout",
          "text": [
            "                   all      0.787          1\n"
          ]
        },
        {
          "output_type": "stream",
          "name": "stderr",
          "text": [
            "\n"
          ]
        },
        {
          "output_type": "stream",
          "name": "stdout",
          "text": [
            "\n",
            "      Epoch    GPU_mem       loss  Instances       Size\n"
          ]
        },
        {
          "output_type": "stream",
          "name": "stderr",
          "text": [
            "     59/100      1.43G     0.1729          3        640: 100%|██████████| 63/63 [00:45<00:00,  1.39it/s]\n",
            "               classes   top1_acc   top5_acc: 100%|██████████| 8/8 [00:05<00:00,  1.56it/s]"
          ]
        },
        {
          "output_type": "stream",
          "name": "stdout",
          "text": [
            "                   all      0.791          1\n"
          ]
        },
        {
          "output_type": "stream",
          "name": "stderr",
          "text": [
            "\n"
          ]
        },
        {
          "output_type": "stream",
          "name": "stdout",
          "text": [
            "\n",
            "      Epoch    GPU_mem       loss  Instances       Size\n"
          ]
        },
        {
          "output_type": "stream",
          "name": "stderr",
          "text": [
            "     60/100      1.43G      0.215          3        640: 100%|██████████| 63/63 [00:49<00:00,  1.28it/s]\n",
            "               classes   top1_acc   top5_acc: 100%|██████████| 8/8 [00:04<00:00,  1.61it/s]"
          ]
        },
        {
          "output_type": "stream",
          "name": "stdout",
          "text": [
            "                   all      0.798          1\n"
          ]
        },
        {
          "output_type": "stream",
          "name": "stderr",
          "text": [
            "\n"
          ]
        },
        {
          "output_type": "stream",
          "name": "stdout",
          "text": [
            "\n",
            "      Epoch    GPU_mem       loss  Instances       Size\n"
          ]
        },
        {
          "output_type": "stream",
          "name": "stderr",
          "text": [
            "     61/100      1.43G     0.2007          3        640: 100%|██████████| 63/63 [00:43<00:00,  1.44it/s]\n",
            "               classes   top1_acc   top5_acc: 100%|██████████| 8/8 [00:06<00:00,  1.21it/s]"
          ]
        },
        {
          "output_type": "stream",
          "name": "stdout",
          "text": [
            "                   all      0.791          1\n"
          ]
        },
        {
          "output_type": "stream",
          "name": "stderr",
          "text": [
            "\n"
          ]
        },
        {
          "output_type": "stream",
          "name": "stdout",
          "text": [
            "\n",
            "      Epoch    GPU_mem       loss  Instances       Size\n"
          ]
        },
        {
          "output_type": "stream",
          "name": "stderr",
          "text": [
            "     62/100      1.43G     0.2094          3        640: 100%|██████████| 63/63 [00:41<00:00,  1.54it/s]\n",
            "               classes   top1_acc   top5_acc: 100%|██████████| 8/8 [00:07<00:00,  1.03it/s]"
          ]
        },
        {
          "output_type": "stream",
          "name": "stdout",
          "text": [
            "                   all      0.798      0.996\n"
          ]
        },
        {
          "output_type": "stream",
          "name": "stderr",
          "text": [
            "\n"
          ]
        },
        {
          "output_type": "stream",
          "name": "stdout",
          "text": [
            "\n",
            "      Epoch    GPU_mem       loss  Instances       Size\n"
          ]
        },
        {
          "output_type": "stream",
          "name": "stderr",
          "text": [
            "     63/100      1.43G     0.1985          3        640: 100%|██████████| 63/63 [00:44<00:00,  1.41it/s]\n",
            "               classes   top1_acc   top5_acc: 100%|██████████| 8/8 [00:06<00:00,  1.21it/s]"
          ]
        },
        {
          "output_type": "stream",
          "name": "stdout",
          "text": [
            "                   all      0.787          1\n"
          ]
        },
        {
          "output_type": "stream",
          "name": "stderr",
          "text": [
            "\n"
          ]
        },
        {
          "output_type": "stream",
          "name": "stdout",
          "text": [
            "\n",
            "      Epoch    GPU_mem       loss  Instances       Size\n"
          ]
        },
        {
          "output_type": "stream",
          "name": "stderr",
          "text": [
            "     64/100      1.43G     0.2052          3        640: 100%|██████████| 63/63 [00:41<00:00,  1.52it/s]\n",
            "               classes   top1_acc   top5_acc: 100%|██████████| 8/8 [00:04<00:00,  1.61it/s]"
          ]
        },
        {
          "output_type": "stream",
          "name": "stdout",
          "text": [
            "                   all      0.806          1\n"
          ]
        },
        {
          "output_type": "stream",
          "name": "stderr",
          "text": [
            "\n"
          ]
        },
        {
          "output_type": "stream",
          "name": "stdout",
          "text": [
            "\n",
            "      Epoch    GPU_mem       loss  Instances       Size\n"
          ]
        },
        {
          "output_type": "stream",
          "name": "stderr",
          "text": [
            "     65/100      1.43G     0.2057          3        640: 100%|██████████| 63/63 [00:42<00:00,  1.48it/s]\n",
            "               classes   top1_acc   top5_acc: 100%|██████████| 8/8 [00:04<00:00,  1.72it/s]"
          ]
        },
        {
          "output_type": "stream",
          "name": "stdout",
          "text": [
            "                   all      0.794          1\n"
          ]
        },
        {
          "output_type": "stream",
          "name": "stderr",
          "text": [
            "\n"
          ]
        },
        {
          "output_type": "stream",
          "name": "stdout",
          "text": [
            "\n",
            "      Epoch    GPU_mem       loss  Instances       Size\n"
          ]
        },
        {
          "output_type": "stream",
          "name": "stderr",
          "text": [
            "     66/100      1.43G      0.179          3        640: 100%|██████████| 63/63 [00:44<00:00,  1.41it/s]\n",
            "               classes   top1_acc   top5_acc: 100%|██████████| 8/8 [00:08<00:00,  1.01s/it]"
          ]
        },
        {
          "output_type": "stream",
          "name": "stdout",
          "text": [
            "                   all      0.798          1\n"
          ]
        },
        {
          "output_type": "stream",
          "name": "stderr",
          "text": [
            "\n"
          ]
        },
        {
          "output_type": "stream",
          "name": "stdout",
          "text": [
            "\n",
            "      Epoch    GPU_mem       loss  Instances       Size\n"
          ]
        },
        {
          "output_type": "stream",
          "name": "stderr",
          "text": [
            "     67/100      1.43G     0.1889          3        640: 100%|██████████| 63/63 [00:40<00:00,  1.54it/s]\n",
            "               classes   top1_acc   top5_acc: 100%|██████████| 8/8 [00:05<00:00,  1.53it/s]"
          ]
        },
        {
          "output_type": "stream",
          "name": "stdout",
          "text": [
            "                   all      0.806          1\n"
          ]
        },
        {
          "output_type": "stream",
          "name": "stderr",
          "text": [
            "\n"
          ]
        },
        {
          "output_type": "stream",
          "name": "stdout",
          "text": [
            "\n",
            "      Epoch    GPU_mem       loss  Instances       Size\n"
          ]
        },
        {
          "output_type": "stream",
          "name": "stderr",
          "text": [
            "     68/100      1.43G     0.1553          3        640: 100%|██████████| 63/63 [00:43<00:00,  1.44it/s]\n",
            "               classes   top1_acc   top5_acc: 100%|██████████| 8/8 [00:07<00:00,  1.12it/s]"
          ]
        },
        {
          "output_type": "stream",
          "name": "stdout",
          "text": [
            "                   all      0.787          1\n"
          ]
        },
        {
          "output_type": "stream",
          "name": "stderr",
          "text": [
            "\n"
          ]
        },
        {
          "output_type": "stream",
          "name": "stdout",
          "text": [
            "\n",
            "      Epoch    GPU_mem       loss  Instances       Size\n"
          ]
        },
        {
          "output_type": "stream",
          "name": "stderr",
          "text": [
            "     69/100      1.43G     0.1672          3        640: 100%|██████████| 63/63 [00:42<00:00,  1.48it/s]\n",
            "               classes   top1_acc   top5_acc: 100%|██████████| 8/8 [00:05<00:00,  1.42it/s]"
          ]
        },
        {
          "output_type": "stream",
          "name": "stdout",
          "text": [
            "                   all      0.794          1\n"
          ]
        },
        {
          "output_type": "stream",
          "name": "stderr",
          "text": [
            "\n"
          ]
        },
        {
          "output_type": "stream",
          "name": "stdout",
          "text": [
            "\n",
            "      Epoch    GPU_mem       loss  Instances       Size\n"
          ]
        },
        {
          "output_type": "stream",
          "name": "stderr",
          "text": [
            "     70/100      1.43G     0.1538          3        640: 100%|██████████| 63/63 [00:39<00:00,  1.61it/s]\n",
            "               classes   top1_acc   top5_acc: 100%|██████████| 8/8 [00:07<00:00,  1.07it/s]"
          ]
        },
        {
          "output_type": "stream",
          "name": "stdout",
          "text": [
            "                   all       0.81          1\n"
          ]
        },
        {
          "output_type": "stream",
          "name": "stderr",
          "text": [
            "\n"
          ]
        },
        {
          "output_type": "stream",
          "name": "stdout",
          "text": [
            "\n",
            "      Epoch    GPU_mem       loss  Instances       Size\n"
          ]
        },
        {
          "output_type": "stream",
          "name": "stderr",
          "text": [
            "     71/100      1.43G     0.1658          3        640: 100%|██████████| 63/63 [00:41<00:00,  1.50it/s]\n",
            "               classes   top1_acc   top5_acc: 100%|██████████| 8/8 [00:05<00:00,  1.58it/s]"
          ]
        },
        {
          "output_type": "stream",
          "name": "stdout",
          "text": [
            "                   all       0.81      0.996\n"
          ]
        },
        {
          "output_type": "stream",
          "name": "stderr",
          "text": [
            "\n"
          ]
        },
        {
          "output_type": "stream",
          "name": "stdout",
          "text": [
            "\n",
            "      Epoch    GPU_mem       loss  Instances       Size\n"
          ]
        },
        {
          "output_type": "stream",
          "name": "stderr",
          "text": [
            "     72/100      1.43G     0.1664          3        640: 100%|██████████| 63/63 [00:41<00:00,  1.51it/s]\n",
            "               classes   top1_acc   top5_acc: 100%|██████████| 8/8 [00:06<00:00,  1.15it/s]"
          ]
        },
        {
          "output_type": "stream",
          "name": "stdout",
          "text": [
            "                   all      0.798      0.996\n"
          ]
        },
        {
          "output_type": "stream",
          "name": "stderr",
          "text": [
            "\n"
          ]
        },
        {
          "output_type": "stream",
          "name": "stdout",
          "text": [
            "\n",
            "      Epoch    GPU_mem       loss  Instances       Size\n"
          ]
        },
        {
          "output_type": "stream",
          "name": "stderr",
          "text": [
            "     73/100      1.43G     0.1487          3        640: 100%|██████████| 63/63 [00:38<00:00,  1.63it/s]\n",
            "               classes   top1_acc   top5_acc: 100%|██████████| 8/8 [00:06<00:00,  1.26it/s]"
          ]
        },
        {
          "output_type": "stream",
          "name": "stdout",
          "text": [
            "                   all      0.791          1\n"
          ]
        },
        {
          "output_type": "stream",
          "name": "stderr",
          "text": [
            "\n"
          ]
        },
        {
          "output_type": "stream",
          "name": "stdout",
          "text": [
            "\n",
            "      Epoch    GPU_mem       loss  Instances       Size\n"
          ]
        },
        {
          "output_type": "stream",
          "name": "stderr",
          "text": [
            "     74/100      1.43G     0.1223          3        640: 100%|██████████| 63/63 [00:44<00:00,  1.42it/s]\n",
            "               classes   top1_acc   top5_acc: 100%|██████████| 8/8 [00:05<00:00,  1.52it/s]"
          ]
        },
        {
          "output_type": "stream",
          "name": "stdout",
          "text": [
            "                   all      0.791          1\n"
          ]
        },
        {
          "output_type": "stream",
          "name": "stderr",
          "text": [
            "\n"
          ]
        },
        {
          "output_type": "stream",
          "name": "stdout",
          "text": [
            "\n",
            "      Epoch    GPU_mem       loss  Instances       Size\n"
          ]
        },
        {
          "output_type": "stream",
          "name": "stderr",
          "text": [
            "     75/100      1.43G     0.1511          3        640: 100%|██████████| 63/63 [00:42<00:00,  1.49it/s]\n",
            "               classes   top1_acc   top5_acc: 100%|██████████| 8/8 [00:04<00:00,  1.78it/s]"
          ]
        },
        {
          "output_type": "stream",
          "name": "stdout",
          "text": [
            "                   all      0.787      0.996\n"
          ]
        },
        {
          "output_type": "stream",
          "name": "stderr",
          "text": [
            "\n"
          ]
        },
        {
          "output_type": "stream",
          "name": "stdout",
          "text": [
            "\n",
            "      Epoch    GPU_mem       loss  Instances       Size\n"
          ]
        },
        {
          "output_type": "stream",
          "name": "stderr",
          "text": [
            "     76/100      1.43G     0.1974          3        640: 100%|██████████| 63/63 [00:40<00:00,  1.57it/s]\n",
            "               classes   top1_acc   top5_acc: 100%|██████████| 8/8 [00:06<00:00,  1.15it/s]"
          ]
        },
        {
          "output_type": "stream",
          "name": "stdout",
          "text": [
            "                   all      0.798      0.996\n"
          ]
        },
        {
          "output_type": "stream",
          "name": "stderr",
          "text": [
            "\n"
          ]
        },
        {
          "output_type": "stream",
          "name": "stdout",
          "text": [
            "\n",
            "      Epoch    GPU_mem       loss  Instances       Size\n"
          ]
        },
        {
          "output_type": "stream",
          "name": "stderr",
          "text": [
            "     77/100      1.43G     0.1687          3        640: 100%|██████████| 63/63 [00:42<00:00,  1.50it/s]\n",
            "               classes   top1_acc   top5_acc: 100%|██████████| 8/8 [00:07<00:00,  1.06it/s]"
          ]
        },
        {
          "output_type": "stream",
          "name": "stdout",
          "text": [
            "                   all      0.802          1\n"
          ]
        },
        {
          "output_type": "stream",
          "name": "stderr",
          "text": [
            "\n"
          ]
        },
        {
          "output_type": "stream",
          "name": "stdout",
          "text": [
            "\n",
            "      Epoch    GPU_mem       loss  Instances       Size\n"
          ]
        },
        {
          "output_type": "stream",
          "name": "stderr",
          "text": [
            "     78/100      1.43G     0.1354          3        640: 100%|██████████| 63/63 [00:39<00:00,  1.58it/s]\n",
            "               classes   top1_acc   top5_acc: 100%|██████████| 8/8 [00:04<00:00,  1.70it/s]"
          ]
        },
        {
          "output_type": "stream",
          "name": "stdout",
          "text": [
            "                   all      0.794          1\n"
          ]
        },
        {
          "output_type": "stream",
          "name": "stderr",
          "text": [
            "\n"
          ]
        },
        {
          "output_type": "stream",
          "name": "stdout",
          "text": [
            "\n",
            "      Epoch    GPU_mem       loss  Instances       Size\n"
          ]
        },
        {
          "output_type": "stream",
          "name": "stderr",
          "text": [
            "     79/100      1.43G     0.1242          3        640: 100%|██████████| 63/63 [00:42<00:00,  1.49it/s]\n",
            "               classes   top1_acc   top5_acc: 100%|██████████| 8/8 [00:04<00:00,  1.78it/s]"
          ]
        },
        {
          "output_type": "stream",
          "name": "stdout",
          "text": [
            "                   all      0.791          1\n"
          ]
        },
        {
          "output_type": "stream",
          "name": "stderr",
          "text": [
            "\n"
          ]
        },
        {
          "output_type": "stream",
          "name": "stdout",
          "text": [
            "\n",
            "      Epoch    GPU_mem       loss  Instances       Size\n"
          ]
        },
        {
          "output_type": "stream",
          "name": "stderr",
          "text": [
            "     80/100      1.43G     0.1693          3        640: 100%|██████████| 63/63 [00:43<00:00,  1.45it/s]\n",
            "               classes   top1_acc   top5_acc: 100%|██████████| 8/8 [00:06<00:00,  1.15it/s]"
          ]
        },
        {
          "output_type": "stream",
          "name": "stdout",
          "text": [
            "                   all      0.806          1\n"
          ]
        },
        {
          "output_type": "stream",
          "name": "stderr",
          "text": [
            "\n"
          ]
        },
        {
          "output_type": "stream",
          "name": "stdout",
          "text": [
            "\n",
            "      Epoch    GPU_mem       loss  Instances       Size\n"
          ]
        },
        {
          "output_type": "stream",
          "name": "stderr",
          "text": [
            "     81/100      1.43G     0.1384          3        640: 100%|██████████| 63/63 [00:39<00:00,  1.58it/s]\n",
            "               classes   top1_acc   top5_acc: 100%|██████████| 8/8 [00:05<00:00,  1.39it/s]"
          ]
        },
        {
          "output_type": "stream",
          "name": "stdout",
          "text": [
            "                   all      0.806      0.996\n"
          ]
        },
        {
          "output_type": "stream",
          "name": "stderr",
          "text": [
            "\n"
          ]
        },
        {
          "output_type": "stream",
          "name": "stdout",
          "text": [
            "\n",
            "      Epoch    GPU_mem       loss  Instances       Size\n"
          ]
        },
        {
          "output_type": "stream",
          "name": "stderr",
          "text": [
            "     82/100      1.43G     0.1264          3        640: 100%|██████████| 63/63 [00:40<00:00,  1.56it/s]\n",
            "               classes   top1_acc   top5_acc: 100%|██████████| 8/8 [00:04<00:00,  1.68it/s]"
          ]
        },
        {
          "output_type": "stream",
          "name": "stdout",
          "text": [
            "                   all      0.802      0.996\n"
          ]
        },
        {
          "output_type": "stream",
          "name": "stderr",
          "text": [
            "\n"
          ]
        },
        {
          "output_type": "stream",
          "name": "stdout",
          "text": [
            "\n",
            "      Epoch    GPU_mem       loss  Instances       Size\n"
          ]
        },
        {
          "output_type": "stream",
          "name": "stderr",
          "text": [
            "     83/100      1.43G     0.1335          3        640: 100%|██████████| 63/63 [00:47<00:00,  1.32it/s]\n",
            "               classes   top1_acc   top5_acc: 100%|██████████| 8/8 [00:04<00:00,  1.75it/s]"
          ]
        },
        {
          "output_type": "stream",
          "name": "stdout",
          "text": [
            "                   all       0.81      0.996\n"
          ]
        },
        {
          "output_type": "stream",
          "name": "stderr",
          "text": [
            "\n"
          ]
        },
        {
          "output_type": "stream",
          "name": "stdout",
          "text": [
            "\n",
            "      Epoch    GPU_mem       loss  Instances       Size\n"
          ]
        },
        {
          "output_type": "stream",
          "name": "stderr",
          "text": [
            "     84/100      1.43G     0.1098          3        640: 100%|██████████| 63/63 [00:40<00:00,  1.57it/s]\n",
            "               classes   top1_acc   top5_acc: 100%|██████████| 8/8 [00:07<00:00,  1.02it/s]"
          ]
        },
        {
          "output_type": "stream",
          "name": "stdout",
          "text": [
            "                   all      0.814          1\n"
          ]
        },
        {
          "output_type": "stream",
          "name": "stderr",
          "text": [
            "\n"
          ]
        },
        {
          "output_type": "stream",
          "name": "stdout",
          "text": [
            "\n",
            "      Epoch    GPU_mem       loss  Instances       Size\n"
          ]
        },
        {
          "output_type": "stream",
          "name": "stderr",
          "text": [
            "     85/100      1.43G     0.1539          3        640: 100%|██████████| 63/63 [00:41<00:00,  1.52it/s]\n",
            "               classes   top1_acc   top5_acc: 100%|██████████| 8/8 [00:08<00:00,  1.02s/it]"
          ]
        },
        {
          "output_type": "stream",
          "name": "stdout",
          "text": [
            "                   all      0.802      0.996\n"
          ]
        },
        {
          "output_type": "stream",
          "name": "stderr",
          "text": [
            "\n"
          ]
        },
        {
          "output_type": "stream",
          "name": "stdout",
          "text": [
            "\n",
            "      Epoch    GPU_mem       loss  Instances       Size\n"
          ]
        },
        {
          "output_type": "stream",
          "name": "stderr",
          "text": [
            "     86/100      1.43G     0.1142          3        640: 100%|██████████| 63/63 [00:43<00:00,  1.45it/s]\n",
            "               classes   top1_acc   top5_acc: 100%|██████████| 8/8 [00:04<00:00,  1.60it/s]"
          ]
        },
        {
          "output_type": "stream",
          "name": "stdout",
          "text": [
            "                   all      0.798      0.996\n"
          ]
        },
        {
          "output_type": "stream",
          "name": "stderr",
          "text": [
            "\n"
          ]
        },
        {
          "output_type": "stream",
          "name": "stdout",
          "text": [
            "\n",
            "      Epoch    GPU_mem       loss  Instances       Size\n"
          ]
        },
        {
          "output_type": "stream",
          "name": "stderr",
          "text": [
            "     87/100      1.43G     0.1203          3        640: 100%|██████████| 63/63 [00:43<00:00,  1.46it/s]\n",
            "               classes   top1_acc   top5_acc: 100%|██████████| 8/8 [00:06<00:00,  1.33it/s]"
          ]
        },
        {
          "output_type": "stream",
          "name": "stdout",
          "text": [
            "                   all      0.787      0.996\n"
          ]
        },
        {
          "output_type": "stream",
          "name": "stderr",
          "text": [
            "\n"
          ]
        },
        {
          "output_type": "stream",
          "name": "stdout",
          "text": [
            "\n",
            "      Epoch    GPU_mem       loss  Instances       Size\n"
          ]
        },
        {
          "output_type": "stream",
          "name": "stderr",
          "text": [
            "     88/100      1.43G     0.1199          3        640: 100%|██████████| 63/63 [00:43<00:00,  1.44it/s]\n",
            "               classes   top1_acc   top5_acc: 100%|██████████| 8/8 [00:07<00:00,  1.03it/s]"
          ]
        },
        {
          "output_type": "stream",
          "name": "stdout",
          "text": [
            "                   all      0.802      0.996\n"
          ]
        },
        {
          "output_type": "stream",
          "name": "stderr",
          "text": [
            "\n"
          ]
        },
        {
          "output_type": "stream",
          "name": "stdout",
          "text": [
            "\n",
            "      Epoch    GPU_mem       loss  Instances       Size\n"
          ]
        },
        {
          "output_type": "stream",
          "name": "stderr",
          "text": [
            "     89/100      1.43G     0.1029          3        640: 100%|██████████| 63/63 [00:39<00:00,  1.59it/s]\n",
            "               classes   top1_acc   top5_acc: 100%|██████████| 8/8 [00:04<00:00,  1.63it/s]"
          ]
        },
        {
          "output_type": "stream",
          "name": "stdout",
          "text": [
            "                   all      0.818      0.996\n"
          ]
        },
        {
          "output_type": "stream",
          "name": "stderr",
          "text": [
            "\n"
          ]
        },
        {
          "output_type": "stream",
          "name": "stdout",
          "text": [
            "\n",
            "      Epoch    GPU_mem       loss  Instances       Size\n"
          ]
        },
        {
          "output_type": "stream",
          "name": "stderr",
          "text": [
            "     90/100      1.43G     0.1207          3        640: 100%|██████████| 63/63 [00:41<00:00,  1.53it/s]\n",
            "               classes   top1_acc   top5_acc: 100%|██████████| 8/8 [00:05<00:00,  1.35it/s]"
          ]
        },
        {
          "output_type": "stream",
          "name": "stdout",
          "text": [
            "                   all      0.798          1\n"
          ]
        },
        {
          "output_type": "stream",
          "name": "stderr",
          "text": [
            "\n",
            "/usr/lib/python3.10/multiprocessing/popen_fork.py:66: RuntimeWarning: os.fork() was called. os.fork() is incompatible with multithreaded code, and JAX is multithreaded, so this will likely lead to a deadlock.\n",
            "  self.pid = os.fork()\n",
            "/usr/lib/python3.10/multiprocessing/popen_fork.py:66: RuntimeWarning: os.fork() was called. os.fork() is incompatible with multithreaded code, and JAX is multithreaded, so this will likely lead to a deadlock.\n",
            "  self.pid = os.fork()\n"
          ]
        },
        {
          "output_type": "stream",
          "name": "stdout",
          "text": [
            "\n",
            "      Epoch    GPU_mem       loss  Instances       Size\n"
          ]
        },
        {
          "output_type": "stream",
          "name": "stderr",
          "text": [
            "     91/100      1.43G     0.1231          3        640: 100%|██████████| 63/63 [00:45<00:00,  1.39it/s]\n",
            "               classes   top1_acc   top5_acc: 100%|██████████| 8/8 [00:07<00:00,  1.06it/s]"
          ]
        },
        {
          "output_type": "stream",
          "name": "stdout",
          "text": [
            "                   all      0.794          1\n"
          ]
        },
        {
          "output_type": "stream",
          "name": "stderr",
          "text": [
            "\n"
          ]
        },
        {
          "output_type": "stream",
          "name": "stdout",
          "text": [
            "\n",
            "      Epoch    GPU_mem       loss  Instances       Size\n"
          ]
        },
        {
          "output_type": "stream",
          "name": "stderr",
          "text": [
            "     92/100      1.43G     0.1054          3        640: 100%|██████████| 63/63 [00:40<00:00,  1.57it/s]\n",
            "               classes   top1_acc   top5_acc: 100%|██████████| 8/8 [00:05<00:00,  1.51it/s]"
          ]
        },
        {
          "output_type": "stream",
          "name": "stdout",
          "text": [
            "                   all      0.787          1\n"
          ]
        },
        {
          "output_type": "stream",
          "name": "stderr",
          "text": [
            "\n"
          ]
        },
        {
          "output_type": "stream",
          "name": "stdout",
          "text": [
            "\n",
            "      Epoch    GPU_mem       loss  Instances       Size\n"
          ]
        },
        {
          "output_type": "stream",
          "name": "stderr",
          "text": [
            "     93/100      1.43G      0.109          3        640: 100%|██████████| 63/63 [00:41<00:00,  1.53it/s]\n",
            "               classes   top1_acc   top5_acc: 100%|██████████| 8/8 [00:04<00:00,  1.63it/s]"
          ]
        },
        {
          "output_type": "stream",
          "name": "stdout",
          "text": [
            "                   all      0.806      0.996\n"
          ]
        },
        {
          "output_type": "stream",
          "name": "stderr",
          "text": [
            "\n"
          ]
        },
        {
          "output_type": "stream",
          "name": "stdout",
          "text": [
            "\n",
            "      Epoch    GPU_mem       loss  Instances       Size\n"
          ]
        },
        {
          "output_type": "stream",
          "name": "stderr",
          "text": [
            "     94/100      1.43G    0.09926          3        640: 100%|██████████| 63/63 [00:44<00:00,  1.43it/s]\n",
            "               classes   top1_acc   top5_acc: 100%|██████████| 8/8 [00:06<00:00,  1.25it/s]"
          ]
        },
        {
          "output_type": "stream",
          "name": "stdout",
          "text": [
            "                   all      0.806          1\n"
          ]
        },
        {
          "output_type": "stream",
          "name": "stderr",
          "text": [
            "\n"
          ]
        },
        {
          "output_type": "stream",
          "name": "stdout",
          "text": [
            "\n",
            "      Epoch    GPU_mem       loss  Instances       Size\n"
          ]
        },
        {
          "output_type": "stream",
          "name": "stderr",
          "text": [
            "     95/100      1.43G     0.1222          3        640: 100%|██████████| 63/63 [00:40<00:00,  1.57it/s]\n",
            "               classes   top1_acc   top5_acc: 100%|██████████| 8/8 [00:05<00:00,  1.38it/s]"
          ]
        },
        {
          "output_type": "stream",
          "name": "stdout",
          "text": [
            "                   all      0.794          1\n"
          ]
        },
        {
          "output_type": "stream",
          "name": "stderr",
          "text": [
            "\n"
          ]
        },
        {
          "output_type": "stream",
          "name": "stdout",
          "text": [
            "\n",
            "      Epoch    GPU_mem       loss  Instances       Size\n"
          ]
        },
        {
          "output_type": "stream",
          "name": "stderr",
          "text": [
            "     96/100      1.43G     0.1013          3        640: 100%|██████████| 63/63 [00:41<00:00,  1.53it/s]\n",
            "               classes   top1_acc   top5_acc: 100%|██████████| 8/8 [00:05<00:00,  1.56it/s]"
          ]
        },
        {
          "output_type": "stream",
          "name": "stdout",
          "text": [
            "                   all      0.798          1\n"
          ]
        },
        {
          "output_type": "stream",
          "name": "stderr",
          "text": [
            "\n"
          ]
        },
        {
          "output_type": "stream",
          "name": "stdout",
          "text": [
            "\n",
            "      Epoch    GPU_mem       loss  Instances       Size\n"
          ]
        },
        {
          "output_type": "stream",
          "name": "stderr",
          "text": [
            "     97/100      1.43G     0.1152          3        640: 100%|██████████| 63/63 [00:41<00:00,  1.51it/s]\n",
            "               classes   top1_acc   top5_acc: 100%|██████████| 8/8 [00:06<00:00,  1.25it/s]"
          ]
        },
        {
          "output_type": "stream",
          "name": "stdout",
          "text": [
            "                   all      0.802      0.996\n"
          ]
        },
        {
          "output_type": "stream",
          "name": "stderr",
          "text": [
            "\n"
          ]
        },
        {
          "output_type": "stream",
          "name": "stdout",
          "text": [
            "\n",
            "      Epoch    GPU_mem       loss  Instances       Size\n"
          ]
        },
        {
          "output_type": "stream",
          "name": "stderr",
          "text": [
            "     98/100      1.43G     0.1355          3        640: 100%|██████████| 63/63 [00:38<00:00,  1.63it/s]\n",
            "               classes   top1_acc   top5_acc: 100%|██████████| 8/8 [00:05<00:00,  1.55it/s]"
          ]
        },
        {
          "output_type": "stream",
          "name": "stdout",
          "text": [
            "                   all      0.802          1\n"
          ]
        },
        {
          "output_type": "stream",
          "name": "stderr",
          "text": [
            "\n"
          ]
        },
        {
          "output_type": "stream",
          "name": "stdout",
          "text": [
            "\n",
            "      Epoch    GPU_mem       loss  Instances       Size\n"
          ]
        },
        {
          "output_type": "stream",
          "name": "stderr",
          "text": [
            "     99/100      1.43G     0.1295          3        640: 100%|██████████| 63/63 [00:41<00:00,  1.53it/s]\n",
            "               classes   top1_acc   top5_acc: 100%|██████████| 8/8 [00:07<00:00,  1.09it/s]"
          ]
        },
        {
          "output_type": "stream",
          "name": "stdout",
          "text": [
            "                   all      0.802          1\n"
          ]
        },
        {
          "output_type": "stream",
          "name": "stderr",
          "text": [
            "\n"
          ]
        },
        {
          "output_type": "stream",
          "name": "stdout",
          "text": [
            "\n",
            "      Epoch    GPU_mem       loss  Instances       Size\n"
          ]
        },
        {
          "output_type": "stream",
          "name": "stderr",
          "text": [
            "    100/100      1.43G     0.1143          3        640: 100%|██████████| 63/63 [00:40<00:00,  1.55it/s]\n",
            "               classes   top1_acc   top5_acc: 100%|██████████| 8/8 [00:06<00:00,  1.30it/s]"
          ]
        },
        {
          "output_type": "stream",
          "name": "stdout",
          "text": [
            "                   all      0.802          1\n"
          ]
        },
        {
          "output_type": "stream",
          "name": "stderr",
          "text": [
            "\n"
          ]
        },
        {
          "output_type": "stream",
          "name": "stdout",
          "text": [
            "\n",
            "100 epochs completed in 1.380 hours.\n",
            "Optimizer stripped from runs/classify/train/weights/last.pt, 3.0MB\n",
            "Optimizer stripped from runs/classify/train/weights/best.pt, 3.0MB\n",
            "\n",
            "Validating runs/classify/train/weights/best.pt...\n",
            "Ultralytics YOLOv8.2.46 🚀 Python-3.10.12 torch-2.3.0+cu121 CUDA:0 (Tesla T4, 15102MiB)\n",
            "YOLOv8n-cls summary (fused): 73 layers, 1442566 parameters, 0 gradients, 3.3 GFLOPs\n",
            "\u001b[34m\u001b[1mtrain:\u001b[0m /content/pngs/train... found 995 images in 6 classes ✅ \n",
            "\u001b[34m\u001b[1mval:\u001b[0m /content/pngs/val... found 253 images in 6 classes ✅ \n",
            "\u001b[34m\u001b[1mtest:\u001b[0m None...\n"
          ]
        },
        {
          "output_type": "stream",
          "name": "stderr",
          "text": [
            "               classes   top1_acc   top5_acc: 100%|██████████| 8/8 [00:07<00:00,  1.07it/s]\n"
          ]
        }
      ]
    },
    {
      "cell_type": "code",
      "source": [],
      "metadata": {
        "id": "nUddNO9YdnnF"
      },
      "execution_count": null,
      "outputs": []
    },
    {
      "cell_type": "code",
      "source": [
        "from tensorflow.keras.models import Sequential\n",
        "from tensorflow.keras.layers import Conv2D, MaxPooling2D, Flatten, Dense\n",
        "from tensorflow.keras.optimizers import Adam\n",
        "from tensorflow.keras.preprocessing.image import ImageDataGenerator\n",
        "\n",
        "# Define the CNN model\n",
        "model = Sequential()\n",
        "model.add(Conv2D(32, (3, 3), activation='relu', input_shape=(224, 224, 3)))\n",
        "model.add(MaxPooling2D(2, 2))\n",
        "model.add(Conv2D(128, (3, 3), activation='relu'))\n",
        "model.add(MaxPooling2D(2, 2))\n",
        "model.add(Conv2D(128, (3, 3), activation='relu'))\n",
        "model.add(MaxPooling2D(2, 2))\n",
        "model.add(Conv2D(128, (3, 3), activation='relu'))\n",
        "model.add(MaxPooling2D(2, 2))\n",
        "model.add(Flatten())\n",
        "model.add(Dense(1024, activation='relu'))\n",
        "model.add(Dense(6, activation='softmax'))  # Adjusted to 6 classes for your 6 categories\n",
        "\n",
        "# Compile the model\n",
        "model.compile(optimizer='adam', loss='categorical_crossentropy', metrics=['accuracy'])\n",
        "\n",
        "# Data augmentation and loading\n",
        "train_datagen = ImageDataGenerator(rescale=1./255, validation_split=0.2)\n",
        "\n",
        "train_generator = train_datagen.flow_from_directory(\n",
        "    '/content/pngs',  # Directory with your images organized into subfolders by class\n",
        "    target_size=(224, 224),  # Resize images to 224x224\n",
        "    batch_size=32,\n",
        "    class_mode='categorical',  # For multi-class classification\n",
        "    subset='training'  # Specify this is the training set\n",
        ")\n",
        "\n",
        "validation_generator = train_datagen.flow_from_directory(\n",
        "    '/content/pngs',\n",
        "    target_size=(224, 224),\n",
        "    batch_size=32,\n",
        "    class_mode='categorical',\n",
        "    subset='validation'  # Specify this is the validation set\n",
        ")\n",
        "\n",
        "# Train the model\n",
        "history = model.fit(\n",
        "    train_generator,\n",
        "    steps_per_epoch=train_generator.samples // 32,\n",
        "    validation_data=validation_generator,\n",
        "    validation_steps=validation_generator.samples // 32,\n",
        "    epochs=10  # Adjust as needed\n",
        ")\n"
      ],
      "metadata": {
        "colab": {
          "base_uri": "https://localhost:8080/"
        },
        "id": "KCHMHQaoWoIo",
        "outputId": "88eb9fa9-4ea9-4d5a-ffc1-871ba2d5cf3f"
      },
      "execution_count": null,
      "outputs": [
        {
          "output_type": "stream",
          "name": "stdout",
          "text": [
            "Found 1001 images belonging to 6 classes.\n",
            "Found 247 images belonging to 6 classes.\n",
            "Epoch 1/10\n",
            "31/31 [==============================] - 19s 362ms/step - loss: 1.7973 - accuracy: 0.2260 - val_loss: 1.7151 - val_accuracy: 0.2946\n",
            "Epoch 2/10\n",
            "31/31 [==============================] - 10s 324ms/step - loss: 1.5671 - accuracy: 0.3715 - val_loss: 1.6736 - val_accuracy: 0.3214\n",
            "Epoch 3/10\n",
            "31/31 [==============================] - 10s 315ms/step - loss: 1.2740 - accuracy: 0.5057 - val_loss: 1.4789 - val_accuracy: 0.4286\n",
            "Epoch 4/10\n",
            "31/31 [==============================] - 10s 312ms/step - loss: 1.0723 - accuracy: 0.6017 - val_loss: 1.4276 - val_accuracy: 0.4554\n",
            "Epoch 5/10\n",
            "31/31 [==============================] - 10s 323ms/step - loss: 0.8823 - accuracy: 0.6409 - val_loss: 1.5038 - val_accuracy: 0.4732\n",
            "Epoch 6/10\n",
            "31/31 [==============================] - 11s 339ms/step - loss: 0.6997 - accuracy: 0.7420 - val_loss: 1.4493 - val_accuracy: 0.4554\n",
            "Epoch 7/10\n",
            "31/31 [==============================] - 10s 314ms/step - loss: 0.5974 - accuracy: 0.7853 - val_loss: 1.3087 - val_accuracy: 0.5714\n",
            "Epoch 8/10\n",
            "31/31 [==============================] - 9s 299ms/step - loss: 0.4154 - accuracy: 0.8617 - val_loss: 1.5170 - val_accuracy: 0.5714\n",
            "Epoch 9/10\n",
            "31/31 [==============================] - 11s 345ms/step - loss: 0.2462 - accuracy: 0.9205 - val_loss: 1.6865 - val_accuracy: 0.5982\n",
            "Epoch 10/10\n",
            "31/31 [==============================] - 11s 343ms/step - loss: 0.1976 - accuracy: 0.9236 - val_loss: 1.8522 - val_accuracy: 0.5446\n"
          ]
        }
      ]
    },
    {
      "cell_type": "markdown",
      "metadata": {
        "id": "96FHQiLNAwxd"
      },
      "source": [
        "now I have to select which features to load, and save them in a dataframe, input will go as the [i][j][0] which is the array containing datapoints, I hope the variable length doesn't cause an issue"
      ]
    },
    {
      "cell_type": "code",
      "execution_count": null,
      "metadata": {
        "colab": {
          "base_uri": "https://localhost:8080/"
        },
        "id": "NOLS3_HBaLjv",
        "outputId": "bc4c95fc-7bbf-4c1d-9005-7ac3022a35e1"
      },
      "outputs": [
        {
          "name": "stdout",
          "output_type": "stream",
          "text": [
            "Collecting pyAudioAnalysis\n",
            "  Downloading pyAudioAnalysis-0.3.14.tar.gz (41.3 MB)\n",
            "\u001b[2K     \u001b[90m━━━━━━━━━━━━━━━━━━━━━━━━━━━━━━━━━━━━━━━━\u001b[0m \u001b[32m41.3/41.3 MB\u001b[0m \u001b[31m21.9 MB/s\u001b[0m eta \u001b[36m0:00:00\u001b[0m\n",
            "\u001b[?25h  Preparing metadata (setup.py) ... \u001b[?25l\u001b[?25hdone\n",
            "Building wheels for collected packages: pyAudioAnalysis\n",
            "  Building wheel for pyAudioAnalysis (setup.py) ... \u001b[?25l\u001b[?25hdone\n",
            "  Created wheel for pyAudioAnalysis: filename=pyAudioAnalysis-0.3.14-py3-none-any.whl size=41264373 sha256=1ef4fc8c93e83eab33b7021e9b9ece2f91e9593045ae4befd8c400afb85c0ffc\n",
            "  Stored in directory: /root/.cache/pip/wheels/a7/54/73/fa830689c2440d2c81ff175c60e374930ad1607a8881e0f43f\n",
            "Successfully built pyAudioAnalysis\n",
            "Installing collected packages: pyAudioAnalysis\n",
            "Successfully installed pyAudioAnalysis-0.3.14\n"
          ]
        }
      ],
      "source": [
        "'''!pip install pyAudioAnalysis'''\n"
      ]
    },
    {
      "cell_type": "code",
      "execution_count": null,
      "metadata": {
        "colab": {
          "base_uri": "https://localhost:8080/"
        },
        "id": "qKhv2ksfgHUZ",
        "outputId": "31b0304b-8aff-41a6-8a29-7f45d437a856"
      },
      "outputs": [
        {
          "name": "stdout",
          "output_type": "stream",
          "text": [
            "Collecting pyaudio\n",
            "  Downloading PyAudio-0.2.14.tar.gz (47 kB)\n",
            "\u001b[?25l     \u001b[90m━━━━━━━━━━━━━━━━━━━━━━━━━━━━━━━━━━━━━━━━\u001b[0m \u001b[32m0.0/47.1 kB\u001b[0m \u001b[31m?\u001b[0m eta \u001b[36m-:--:--\u001b[0m\r\u001b[2K     \u001b[90m━━━━━━━━━━━━━━━━━━━━━━━━━━━━━━━━━━━━━━━━\u001b[0m \u001b[32m47.1/47.1 kB\u001b[0m \u001b[31m2.2 MB/s\u001b[0m eta \u001b[36m0:00:00\u001b[0m\n",
            "\u001b[?25h  Installing build dependencies ... \u001b[?25l\u001b[?25hdone\n",
            "  Getting requirements to build wheel ... \u001b[?25l\u001b[?25hdone\n",
            "  Preparing metadata (pyproject.toml) ... \u001b[?25l\u001b[?25hdone\n",
            "Building wheels for collected packages: pyaudio\n",
            "  \u001b[1;31merror\u001b[0m: \u001b[1msubprocess-exited-with-error\u001b[0m\n",
            "  \n",
            "  \u001b[31m×\u001b[0m \u001b[32mBuilding wheel for pyaudio \u001b[0m\u001b[1;32m(\u001b[0m\u001b[32mpyproject.toml\u001b[0m\u001b[1;32m)\u001b[0m did not run successfully.\n",
            "  \u001b[31m│\u001b[0m exit code: \u001b[1;36m1\u001b[0m\n",
            "  \u001b[31m╰─>\u001b[0m See above for output.\n",
            "  \n",
            "  \u001b[1;35mnote\u001b[0m: This error originates from a subprocess, and is likely not a problem with pip.\n",
            "  Building wheel for pyaudio (pyproject.toml) ... \u001b[?25l\u001b[?25herror\n",
            "\u001b[31m  ERROR: Failed building wheel for pyaudio\u001b[0m\u001b[31m\n",
            "\u001b[0mFailed to build pyaudio\n",
            "\u001b[31mERROR: Could not build wheels for pyaudio, which is required to install pyproject.toml-based projects\u001b[0m\u001b[31m\n",
            "\u001b[0mCollecting eyed3\n",
            "  Downloading eyed3-0.9.7-py3-none-any.whl (246 kB)\n",
            "\u001b[2K     \u001b[90m━━━━━━━━━━━━━━━━━━━━━━━━━━━━━━━━━━━━━━━━\u001b[0m \u001b[32m246.1/246.1 kB\u001b[0m \u001b[31m4.1 MB/s\u001b[0m eta \u001b[36m0:00:00\u001b[0m\n",
            "\u001b[?25hCollecting coverage[toml]<6.0.0,>=5.3.1 (from eyed3)\n",
            "  Downloading coverage-5.5-cp310-cp310-manylinux1_x86_64.whl (238 kB)\n",
            "\u001b[2K     \u001b[90m━━━━━━━━━━━━━━━━━━━━━━━━━━━━━━━━━━━━━━━━\u001b[0m \u001b[32m239.0/239.0 kB\u001b[0m \u001b[31m7.0 MB/s\u001b[0m eta \u001b[36m0:00:00\u001b[0m\n",
            "\u001b[?25hCollecting deprecation<3.0.0,>=2.1.0 (from eyed3)\n",
            "  Downloading deprecation-2.1.0-py2.py3-none-any.whl (11 kB)\n",
            "Collecting filetype<2.0.0,>=1.0.7 (from eyed3)\n",
            "  Downloading filetype-1.2.0-py2.py3-none-any.whl (19 kB)\n",
            "Requirement already satisfied: toml in /usr/local/lib/python3.10/dist-packages (from coverage[toml]<6.0.0,>=5.3.1->eyed3) (0.10.2)\n",
            "Requirement already satisfied: packaging in /usr/local/lib/python3.10/dist-packages (from deprecation<3.0.0,>=2.1.0->eyed3) (24.1)\n",
            "Installing collected packages: filetype, deprecation, coverage, eyed3\n",
            "Successfully installed coverage-5.5 deprecation-2.1.0 eyed3-0.9.7 filetype-1.2.0\n",
            "Collecting simplejson\n",
            "  Downloading simplejson-3.19.2-cp310-cp310-manylinux_2_5_x86_64.manylinux1_x86_64.manylinux_2_17_x86_64.manylinux2014_x86_64.whl (137 kB)\n",
            "\u001b[2K     \u001b[90m━━━━━━━━━━━━━━━━━━━━━━━━━━━━━━━━━━━━━━━━\u001b[0m \u001b[32m137.9/137.9 kB\u001b[0m \u001b[31m3.9 MB/s\u001b[0m eta \u001b[36m0:00:00\u001b[0m\n",
            "\u001b[?25hInstalling collected packages: simplejson\n",
            "Successfully installed simplejson-3.19.2\n",
            "Requirement already satisfied: pyAudioAnalysis in /usr/local/lib/python3.10/dist-packages (0.3.14)\n",
            "Collecting pydub\n",
            "  Downloading pydub-0.25.1-py2.py3-none-any.whl (32 kB)\n",
            "Installing collected packages: pydub\n",
            "Successfully installed pydub-0.25.1\n"
          ]
        }
      ],
      "source": [
        "'''!pip install pyaudio\n",
        "!pip install eyed3\n",
        "!pip install simplejson\n",
        "!pip install pyAudioAnalysis\n",
        "!pip install pydub'''"
      ]
    },
    {
      "cell_type": "code",
      "execution_count": null,
      "metadata": {
        "colab": {
          "base_uri": "https://localhost:8080/"
        },
        "id": "l5B7ssamg6X-",
        "outputId": "9a4a33e8-972c-4030-f550-4250f03e9e83"
      },
      "outputs": [
        {
          "name": "stdout",
          "output_type": "stream",
          "text": [
            "Reading package lists... Done\n",
            "Building dependency tree... Done\n",
            "Reading state information... Done\n",
            "ffmpeg is already the newest version (7:4.4.2-0ubuntu0.22.04.1).\n",
            "0 upgraded, 0 newly installed, 0 to remove and 45 not upgraded.\n",
            "Cloning into 'pyAudioAnalysis'...\n",
            "remote: Enumerating objects: 3041, done.\u001b[K\n",
            "remote: Counting objects: 100% (514/514), done.\u001b[K\n",
            "remote: Compressing objects: 100% (117/117), done.\u001b[K\n",
            "remote: Total 3041 (delta 429), reused 397 (delta 397), pack-reused 2527\u001b[K\n",
            "Receiving objects: 100% (3041/3041), 167.65 MiB | 14.30 MiB/s, done.\n",
            "Resolving deltas: 100% (1817/1817), done.\n",
            "Updating files: 100% (276/276), done.\n",
            "/content/pyAudioAnalysis\n",
            "running install\n",
            "/usr/local/lib/python3.10/dist-packages/setuptools/_distutils/cmd.py:66: SetuptoolsDeprecationWarning: setup.py install is deprecated.\n",
            "!!\n",
            "\n",
            "        ********************************************************************************\n",
            "        Please avoid running ``setup.py`` directly.\n",
            "        Instead, use pypa/build, pypa/installer, pypa/build or\n",
            "        other standards-based tools.\n",
            "\n",
            "        See https://blog.ganssle.io/articles/2021/10/setup-py-deprecated.html for details.\n",
            "        ********************************************************************************\n",
            "\n",
            "!!\n",
            "  self.initialize_options()\n",
            "/usr/local/lib/python3.10/dist-packages/setuptools/_distutils/cmd.py:66: EasyInstallDeprecationWarning: easy_install command is deprecated.\n",
            "!!\n",
            "\n",
            "        ********************************************************************************\n",
            "        Please avoid running ``setup.py`` and ``easy_install``.\n",
            "        Instead, use pypa/build, pypa/installer, pypa/build or\n",
            "        other standards-based tools.\n",
            "\n",
            "        See https://github.com/pypa/setuptools/issues/917 for details.\n",
            "        ********************************************************************************\n",
            "\n",
            "!!\n",
            "  self.initialize_options()\n",
            "running bdist_egg\n",
            "running egg_info\n",
            "creating pyAudioAnalysis.egg-info\n",
            "writing pyAudioAnalysis.egg-info/PKG-INFO\n",
            "writing dependency_links to pyAudioAnalysis.egg-info/dependency_links.txt\n",
            "writing requirements to pyAudioAnalysis.egg-info/requires.txt\n",
            "writing top-level names to pyAudioAnalysis.egg-info/top_level.txt\n",
            "writing manifest file 'pyAudioAnalysis.egg-info/SOURCES.txt'\n",
            "reading manifest file 'pyAudioAnalysis.egg-info/SOURCES.txt'\n",
            "adding license file 'LICENSE.md'\n",
            "writing manifest file 'pyAudioAnalysis.egg-info/SOURCES.txt'\n",
            "installing library code to build/bdist.linux-x86_64/egg\n",
            "running install_lib\n",
            "running build_py\n",
            "creating build\n",
            "creating build/lib\n",
            "creating build/lib/pyAudioAnalysis\n",
            "copying pyAudioAnalysis/audioVisualization.py -> build/lib/pyAudioAnalysis\n",
            "copying pyAudioAnalysis/audioTrainTest.py -> build/lib/pyAudioAnalysis\n",
            "copying pyAudioAnalysis/utilities.py -> build/lib/pyAudioAnalysis\n",
            "copying pyAudioAnalysis/convertToWav.py -> build/lib/pyAudioAnalysis\n",
            "copying pyAudioAnalysis/audioAnalysis.py -> build/lib/pyAudioAnalysis\n",
            "copying pyAudioAnalysis/audioSegmentation.py -> build/lib/pyAudioAnalysis\n",
            "copying pyAudioAnalysis/audioBasicIO.py -> build/lib/pyAudioAnalysis\n",
            "copying pyAudioAnalysis/__init__.py -> build/lib/pyAudioAnalysis\n",
            "copying pyAudioAnalysis/audacityAnnotation2WAVs.py -> build/lib/pyAudioAnalysis\n",
            "copying pyAudioAnalysis/ShortTermFeatures.py -> build/lib/pyAudioAnalysis\n",
            "copying pyAudioAnalysis/MidTermFeatures.py -> build/lib/pyAudioAnalysis\n",
            "creating build/lib/pyAudioAnalysis/data\n",
            "creating build/lib/pyAudioAnalysis/data/models\n",
            "copying pyAudioAnalysis/data/models/knn_speaker_male_female -> build/lib/pyAudioAnalysis/data/models\n",
            "copying pyAudioAnalysis/data/models/svm_rbf_speaker_male_femaleMEANS -> build/lib/pyAudioAnalysis/data/models\n",
            "copying pyAudioAnalysis/data/models/svm_rbf_movie8classMEANS -> build/lib/pyAudioAnalysis/data/models\n",
            "copying pyAudioAnalysis/data/models/svm_rbf_musical_genre_6MEANS -> build/lib/pyAudioAnalysis/data/models\n",
            "copying pyAudioAnalysis/data/models/svm_rbf_smMEANS -> build/lib/pyAudioAnalysis/data/models\n",
            "copying pyAudioAnalysis/data/models/knn_4class -> build/lib/pyAudioAnalysis/data/models\n",
            "copying pyAudioAnalysis/data/models/knn_musical_genre_6 -> build/lib/pyAudioAnalysis/data/models\n",
            "copying pyAudioAnalysis/data/models/svm_rbf_movie8class -> build/lib/pyAudioAnalysis/data/models\n",
            "copying pyAudioAnalysis/data/models/knnMusicGenre6 -> build/lib/pyAudioAnalysis/data/models\n",
            "copying pyAudioAnalysis/data/models/svm_rbf_4classMEANS -> build/lib/pyAudioAnalysis/data/models\n",
            "copying pyAudioAnalysis/data/models/svm_rbf_speaker_10 -> build/lib/pyAudioAnalysis/data/models\n",
            "copying pyAudioAnalysis/data/models/svm_rbf_sm -> build/lib/pyAudioAnalysis/data/models\n",
            "copying pyAudioAnalysis/data/models/knn_sm -> build/lib/pyAudioAnalysis/data/models\n",
            "copying pyAudioAnalysis/data/models/knnSM -> build/lib/pyAudioAnalysis/data/models\n",
            "copying pyAudioAnalysis/data/models/knn_movie8class -> build/lib/pyAudioAnalysis/data/models\n",
            "copying pyAudioAnalysis/data/models/svm_rbf_4class -> build/lib/pyAudioAnalysis/data/models\n",
            "copying pyAudioAnalysis/data/models/svm_rbf_musical_genre_6 -> build/lib/pyAudioAnalysis/data/models\n",
            "copying pyAudioAnalysis/data/models/svm_rbf_speaker_male_female -> build/lib/pyAudioAnalysis/data/models\n",
            "copying pyAudioAnalysis/data/models/svm_rbf_speaker_10MEANS -> build/lib/pyAudioAnalysis/data/models\n",
            "copying pyAudioAnalysis/data/models/knn_speaker_10 -> build/lib/pyAudioAnalysis/data/models\n",
            "creating build/bdist.linux-x86_64\n",
            "creating build/bdist.linux-x86_64/egg\n",
            "creating build/bdist.linux-x86_64/egg/pyAudioAnalysis\n",
            "copying build/lib/pyAudioAnalysis/audioVisualization.py -> build/bdist.linux-x86_64/egg/pyAudioAnalysis\n",
            "copying build/lib/pyAudioAnalysis/audioTrainTest.py -> build/bdist.linux-x86_64/egg/pyAudioAnalysis\n",
            "copying build/lib/pyAudioAnalysis/utilities.py -> build/bdist.linux-x86_64/egg/pyAudioAnalysis\n",
            "copying build/lib/pyAudioAnalysis/convertToWav.py -> build/bdist.linux-x86_64/egg/pyAudioAnalysis\n",
            "copying build/lib/pyAudioAnalysis/audioAnalysis.py -> build/bdist.linux-x86_64/egg/pyAudioAnalysis\n",
            "copying build/lib/pyAudioAnalysis/audioSegmentation.py -> build/bdist.linux-x86_64/egg/pyAudioAnalysis\n",
            "copying build/lib/pyAudioAnalysis/audioBasicIO.py -> build/bdist.linux-x86_64/egg/pyAudioAnalysis\n",
            "copying build/lib/pyAudioAnalysis/__init__.py -> build/bdist.linux-x86_64/egg/pyAudioAnalysis\n",
            "copying build/lib/pyAudioAnalysis/audacityAnnotation2WAVs.py -> build/bdist.linux-x86_64/egg/pyAudioAnalysis\n",
            "copying build/lib/pyAudioAnalysis/ShortTermFeatures.py -> build/bdist.linux-x86_64/egg/pyAudioAnalysis\n",
            "copying build/lib/pyAudioAnalysis/MidTermFeatures.py -> build/bdist.linux-x86_64/egg/pyAudioAnalysis\n",
            "creating build/bdist.linux-x86_64/egg/pyAudioAnalysis/data\n",
            "creating build/bdist.linux-x86_64/egg/pyAudioAnalysis/data/models\n",
            "copying build/lib/pyAudioAnalysis/data/models/knn_speaker_male_female -> build/bdist.linux-x86_64/egg/pyAudioAnalysis/data/models\n",
            "copying build/lib/pyAudioAnalysis/data/models/svm_rbf_speaker_male_femaleMEANS -> build/bdist.linux-x86_64/egg/pyAudioAnalysis/data/models\n",
            "copying build/lib/pyAudioAnalysis/data/models/svm_rbf_movie8classMEANS -> build/bdist.linux-x86_64/egg/pyAudioAnalysis/data/models\n",
            "copying build/lib/pyAudioAnalysis/data/models/svm_rbf_musical_genre_6MEANS -> build/bdist.linux-x86_64/egg/pyAudioAnalysis/data/models\n",
            "copying build/lib/pyAudioAnalysis/data/models/svm_rbf_smMEANS -> build/bdist.linux-x86_64/egg/pyAudioAnalysis/data/models\n",
            "copying build/lib/pyAudioAnalysis/data/models/knn_4class -> build/bdist.linux-x86_64/egg/pyAudioAnalysis/data/models\n",
            "copying build/lib/pyAudioAnalysis/data/models/knn_musical_genre_6 -> build/bdist.linux-x86_64/egg/pyAudioAnalysis/data/models\n",
            "copying build/lib/pyAudioAnalysis/data/models/svm_rbf_movie8class -> build/bdist.linux-x86_64/egg/pyAudioAnalysis/data/models\n",
            "copying build/lib/pyAudioAnalysis/data/models/knnMusicGenre6 -> build/bdist.linux-x86_64/egg/pyAudioAnalysis/data/models\n",
            "copying build/lib/pyAudioAnalysis/data/models/svm_rbf_4classMEANS -> build/bdist.linux-x86_64/egg/pyAudioAnalysis/data/models\n",
            "copying build/lib/pyAudioAnalysis/data/models/svm_rbf_speaker_10 -> build/bdist.linux-x86_64/egg/pyAudioAnalysis/data/models\n",
            "copying build/lib/pyAudioAnalysis/data/models/svm_rbf_sm -> build/bdist.linux-x86_64/egg/pyAudioAnalysis/data/models\n",
            "copying build/lib/pyAudioAnalysis/data/models/knn_sm -> build/bdist.linux-x86_64/egg/pyAudioAnalysis/data/models\n",
            "copying build/lib/pyAudioAnalysis/data/models/knnSM -> build/bdist.linux-x86_64/egg/pyAudioAnalysis/data/models\n",
            "copying build/lib/pyAudioAnalysis/data/models/knn_movie8class -> build/bdist.linux-x86_64/egg/pyAudioAnalysis/data/models\n",
            "copying build/lib/pyAudioAnalysis/data/models/svm_rbf_4class -> build/bdist.linux-x86_64/egg/pyAudioAnalysis/data/models\n",
            "copying build/lib/pyAudioAnalysis/data/models/svm_rbf_musical_genre_6 -> build/bdist.linux-x86_64/egg/pyAudioAnalysis/data/models\n",
            "copying build/lib/pyAudioAnalysis/data/models/svm_rbf_speaker_male_female -> build/bdist.linux-x86_64/egg/pyAudioAnalysis/data/models\n",
            "copying build/lib/pyAudioAnalysis/data/models/svm_rbf_speaker_10MEANS -> build/bdist.linux-x86_64/egg/pyAudioAnalysis/data/models\n",
            "copying build/lib/pyAudioAnalysis/data/models/knn_speaker_10 -> build/bdist.linux-x86_64/egg/pyAudioAnalysis/data/models\n",
            "byte-compiling build/bdist.linux-x86_64/egg/pyAudioAnalysis/audioVisualization.py to audioVisualization.cpython-310.pyc\n",
            "byte-compiling build/bdist.linux-x86_64/egg/pyAudioAnalysis/audioTrainTest.py to audioTrainTest.cpython-310.pyc\n",
            "byte-compiling build/bdist.linux-x86_64/egg/pyAudioAnalysis/utilities.py to utilities.cpython-310.pyc\n",
            "byte-compiling build/bdist.linux-x86_64/egg/pyAudioAnalysis/convertToWav.py to convertToWav.cpython-310.pyc\n",
            "byte-compiling build/bdist.linux-x86_64/egg/pyAudioAnalysis/audioAnalysis.py to audioAnalysis.cpython-310.pyc\n",
            "byte-compiling build/bdist.linux-x86_64/egg/pyAudioAnalysis/audioSegmentation.py to audioSegmentation.cpython-310.pyc\n",
            "byte-compiling build/bdist.linux-x86_64/egg/pyAudioAnalysis/audioBasicIO.py to audioBasicIO.cpython-310.pyc\n",
            "byte-compiling build/bdist.linux-x86_64/egg/pyAudioAnalysis/__init__.py to __init__.cpython-310.pyc\n",
            "byte-compiling build/bdist.linux-x86_64/egg/pyAudioAnalysis/audacityAnnotation2WAVs.py to audacityAnnotation2WAVs.cpython-310.pyc\n",
            "byte-compiling build/bdist.linux-x86_64/egg/pyAudioAnalysis/ShortTermFeatures.py to ShortTermFeatures.cpython-310.pyc\n",
            "byte-compiling build/bdist.linux-x86_64/egg/pyAudioAnalysis/MidTermFeatures.py to MidTermFeatures.cpython-310.pyc\n",
            "creating build/bdist.linux-x86_64/egg/EGG-INFO\n",
            "copying pyAudioAnalysis.egg-info/PKG-INFO -> build/bdist.linux-x86_64/egg/EGG-INFO\n",
            "copying pyAudioAnalysis.egg-info/SOURCES.txt -> build/bdist.linux-x86_64/egg/EGG-INFO\n",
            "copying pyAudioAnalysis.egg-info/dependency_links.txt -> build/bdist.linux-x86_64/egg/EGG-INFO\n",
            "copying pyAudioAnalysis.egg-info/not-zip-safe -> build/bdist.linux-x86_64/egg/EGG-INFO\n",
            "copying pyAudioAnalysis.egg-info/requires.txt -> build/bdist.linux-x86_64/egg/EGG-INFO\n",
            "copying pyAudioAnalysis.egg-info/top_level.txt -> build/bdist.linux-x86_64/egg/EGG-INFO\n",
            "creating dist\n",
            "creating 'dist/pyAudioAnalysis-0.3.14-py3.10.egg' and adding 'build/bdist.linux-x86_64/egg' to it\n",
            "removing 'build/bdist.linux-x86_64/egg' (and everything under it)\n",
            "Processing pyAudioAnalysis-0.3.14-py3.10.egg\n",
            "creating /usr/local/lib/python3.10/dist-packages/pyAudioAnalysis-0.3.14-py3.10.egg\n",
            "Extracting pyAudioAnalysis-0.3.14-py3.10.egg to /usr/local/lib/python3.10/dist-packages\n",
            "Adding pyAudioAnalysis 0.3.14 to easy-install.pth file\n",
            "\n",
            "Installed /usr/local/lib/python3.10/dist-packages/pyAudioAnalysis-0.3.14-py3.10.egg\n",
            "Processing dependencies for pyAudioAnalysis==0.3.14\n",
            "Searching for imblearn\n",
            "Reading https://pypi.org/simple/imblearn/\n",
            "Downloading https://files.pythonhosted.org/packages/81/a7/4179e6ebfd654bd0eac0b9c06125b8b4c96a9d0a8ff9e9507eb2a26d2d7e/imblearn-0.0-py2.py3-none-any.whl#sha256=d42c2d709d22c00d2b9a91e638d57240a8b79b4014122d92181fcd2549a2f79a\n",
            "Best match: imblearn 0.0\n",
            "Processing imblearn-0.0-py2.py3-none-any.whl\n",
            "Installing imblearn-0.0-py2.py3-none-any.whl to /usr/local/lib/python3.10/dist-packages\n",
            "Adding imblearn 0.0 to easy-install.pth file\n",
            "\n",
            "Installed /usr/local/lib/python3.10/dist-packages/imblearn-0.0-py3.10.egg\n",
            "Searching for hmmlearn>=0.2.5\n",
            "Reading https://pypi.org/simple/hmmlearn/\n",
            "Downloading https://files.pythonhosted.org/packages/07/71/fc407f6f9233d73140a51d0688338ee312d991f1a40026a97a8e373c5838/hmmlearn-0.3.2-cp310-cp310-manylinux_2_17_x86_64.manylinux2014_x86_64.whl#sha256=011b1aaa67551151b9442670b58fa692e135ea6fd5dc76022e595964594a3654\n",
            "Best match: hmmlearn 0.3.2\n",
            "Processing hmmlearn-0.3.2-cp310-cp310-manylinux_2_17_x86_64.manylinux2014_x86_64.whl\n",
            "Installing hmmlearn-0.3.2-cp310-cp310-manylinux_2_17_x86_64.manylinux2014_x86_64.whl to /usr/local/lib/python3.10/dist-packages\n",
            "Adding hmmlearn 0.3.2 to easy-install.pth file\n",
            "\n",
            "Installed /usr/local/lib/python3.10/dist-packages/hmmlearn-0.3.2-py3.10-linux-x86_64.egg\n",
            "Searching for pandas==2.0.3\n",
            "Best match: pandas 2.0.3\n",
            "Adding pandas 2.0.3 to easy-install.pth file\n",
            "\n",
            "Using /usr/local/lib/python3.10/dist-packages\n",
            "Searching for plotly==5.15.0\n",
            "Best match: plotly 5.15.0\n",
            "Adding plotly 5.15.0 to easy-install.pth file\n",
            "\n",
            "Using /usr/local/lib/python3.10/dist-packages\n",
            "Searching for tqdm==4.66.4\n",
            "Best match: tqdm 4.66.4\n",
            "Adding tqdm 4.66.4 to easy-install.pth file\n",
            "Installing tqdm script to /usr/local/bin\n",
            "\n",
            "Using /usr/local/lib/python3.10/dist-packages\n",
            "Searching for scikit-learn==1.2.2\n",
            "Best match: scikit-learn 1.2.2\n",
            "Adding scikit-learn 1.2.2 to easy-install.pth file\n",
            "\n",
            "Using /usr/local/lib/python3.10/dist-packages\n",
            "Searching for pydub==0.25.1\n",
            "Best match: pydub 0.25.1\n",
            "Adding pydub 0.25.1 to easy-install.pth file\n",
            "\n",
            "Using /usr/local/lib/python3.10/dist-packages\n",
            "Searching for eyed3==0.9.7\n",
            "Best match: eyed3 0.9.7\n",
            "Adding eyed3 0.9.7 to easy-install.pth file\n",
            "Installing eyeD3 script to /usr/local/bin\n",
            "\n",
            "Using /usr/local/lib/python3.10/dist-packages\n",
            "Searching for numpy==1.25.2\n",
            "Best match: numpy 1.25.2\n",
            "Adding numpy 1.25.2 to easy-install.pth file\n",
            "Installing f2py script to /usr/local/bin\n",
            "Installing f2py3 script to /usr/local/bin\n",
            "Installing f2py3.10 script to /usr/local/bin\n",
            "\n",
            "Using /usr/local/lib/python3.10/dist-packages\n",
            "Searching for scipy==1.11.4\n",
            "Best match: scipy 1.11.4\n",
            "Adding scipy 1.11.4 to easy-install.pth file\n",
            "\n",
            "Using /usr/local/lib/python3.10/dist-packages\n",
            "Searching for simplejson==3.19.2\n",
            "Best match: simplejson 3.19.2\n",
            "Adding simplejson 3.19.2 to easy-install.pth file\n",
            "\n",
            "Using /usr/local/lib/python3.10/dist-packages\n",
            "Searching for matplotlib==3.7.1\n",
            "Best match: matplotlib 3.7.1\n",
            "Adding matplotlib 3.7.1 to easy-install.pth file\n",
            "\n",
            "Using /usr/local/lib/python3.10/dist-packages\n",
            "Searching for imbalanced-learn==0.10.1\n",
            "Best match: imbalanced-learn 0.10.1\n",
            "Adding imbalanced-learn 0.10.1 to easy-install.pth file\n",
            "\n",
            "Using /usr/local/lib/python3.10/dist-packages\n",
            "Searching for tzdata==2024.1\n",
            "Best match: tzdata 2024.1\n",
            "Adding tzdata 2024.1 to easy-install.pth file\n",
            "\n",
            "Using /usr/local/lib/python3.10/dist-packages\n",
            "Searching for pytz==2023.4\n",
            "Best match: pytz 2023.4\n",
            "Adding pytz 2023.4 to easy-install.pth file\n",
            "\n",
            "Using /usr/local/lib/python3.10/dist-packages\n",
            "Searching for python-dateutil==2.8.2\n",
            "Best match: python-dateutil 2.8.2\n",
            "Adding python-dateutil 2.8.2 to easy-install.pth file\n",
            "\n",
            "Using /usr/local/lib/python3.10/dist-packages\n",
            "Searching for packaging==24.1\n",
            "Best match: packaging 24.1\n",
            "Adding packaging 24.1 to easy-install.pth file\n",
            "\n",
            "Using /usr/local/lib/python3.10/dist-packages\n",
            "Searching for tenacity==8.3.0\n",
            "Best match: tenacity 8.3.0\n",
            "Adding tenacity 8.3.0 to easy-install.pth file\n",
            "\n",
            "Using /usr/local/lib/python3.10/dist-packages\n",
            "Searching for threadpoolctl==3.5.0\n",
            "Best match: threadpoolctl 3.5.0\n",
            "Adding threadpoolctl 3.5.0 to easy-install.pth file\n",
            "\n",
            "Using /usr/local/lib/python3.10/dist-packages\n",
            "Searching for joblib==1.4.2\n",
            "Best match: joblib 1.4.2\n",
            "Adding joblib 1.4.2 to easy-install.pth file\n",
            "\n",
            "Using /usr/local/lib/python3.10/dist-packages\n",
            "Searching for filetype==1.2.0\n",
            "Best match: filetype 1.2.0\n",
            "Adding filetype 1.2.0 to easy-install.pth file\n",
            "Installing filetype script to /usr/local/bin\n",
            "\n",
            "Using /usr/local/lib/python3.10/dist-packages\n",
            "Searching for deprecation==2.1.0\n",
            "Best match: deprecation 2.1.0\n",
            "Adding deprecation 2.1.0 to easy-install.pth file\n",
            "\n",
            "Using /usr/local/lib/python3.10/dist-packages\n",
            "Searching for coverage==5.5\n",
            "Best match: coverage 5.5\n",
            "Adding coverage 5.5 to easy-install.pth file\n",
            "Installing coverage script to /usr/local/bin\n",
            "Installing coverage-3.10 script to /usr/local/bin\n",
            "Installing coverage3 script to /usr/local/bin\n",
            "\n",
            "Using /usr/local/lib/python3.10/dist-packages\n",
            "Searching for pyparsing==3.1.2\n",
            "Best match: pyparsing 3.1.2\n",
            "Adding pyparsing 3.1.2 to easy-install.pth file\n",
            "\n",
            "Using /usr/local/lib/python3.10/dist-packages\n",
            "Searching for Pillow==9.4.0\n",
            "Best match: Pillow 9.4.0\n",
            "Adding Pillow 9.4.0 to easy-install.pth file\n",
            "\n",
            "Using /usr/local/lib/python3.10/dist-packages\n",
            "Searching for kiwisolver==1.4.5\n",
            "Best match: kiwisolver 1.4.5\n",
            "Adding kiwisolver 1.4.5 to easy-install.pth file\n",
            "\n",
            "Using /usr/local/lib/python3.10/dist-packages\n",
            "Searching for fonttools==4.53.0\n",
            "Best match: fonttools 4.53.0\n",
            "Adding fonttools 4.53.0 to easy-install.pth file\n",
            "Installing fonttools script to /usr/local/bin\n",
            "Installing pyftmerge script to /usr/local/bin\n",
            "Installing pyftsubset script to /usr/local/bin\n",
            "Installing ttx script to /usr/local/bin\n",
            "\n",
            "Using /usr/local/lib/python3.10/dist-packages\n",
            "Searching for cycler==0.12.1\n",
            "Best match: cycler 0.12.1\n",
            "Adding cycler 0.12.1 to easy-install.pth file\n",
            "\n",
            "Using /usr/local/lib/python3.10/dist-packages\n",
            "Searching for contourpy==1.2.1\n",
            "Best match: contourpy 1.2.1\n",
            "Adding contourpy 1.2.1 to easy-install.pth file\n",
            "\n",
            "Using /usr/local/lib/python3.10/dist-packages\n",
            "Searching for six==1.16.0\n",
            "Best match: six 1.16.0\n",
            "Adding six 1.16.0 to easy-install.pth file\n",
            "\n",
            "Using /usr/local/lib/python3.10/dist-packages\n",
            "Searching for toml==0.10.2\n",
            "Best match: toml 0.10.2\n",
            "Adding toml 0.10.2 to easy-install.pth file\n",
            "\n",
            "Using /usr/local/lib/python3.10/dist-packages\n",
            "Finished processing dependencies for pyAudioAnalysis==0.3.14\n"
          ]
        }
      ],
      "source": [
        "'''!apt-get install -y ffmpeg\n",
        "\n",
        "# Clone pyAudioAnalysis repository\n",
        "!git clone https://github.com/tyiannak/pyAudioAnalysis.git\n",
        "%cd pyAudioAnalysis\n",
        "!python setup.py install\n",
        "'''"
      ]
    },
    {
      "cell_type": "code",
      "execution_count": null,
      "metadata": {
        "id": "cQbMquO7Ytif"
      },
      "outputs": [],
      "source": [
        "'''from pyAudioAnalysis import audioBasicIO #\n",
        "from pyAudioAnalysis import ShortTermFeatures as sF\n",
        "'''"
      ]
    },
    {
      "cell_type": "code",
      "execution_count": null,
      "metadata": {
        "id": "q3nf93iPba-3"
      },
      "outputs": [],
      "source": [
        "Fs=16000"
      ]
    },
    {
      "cell_type": "code",
      "execution_count": null,
      "metadata": {
        "colab": {
          "base_uri": "https://localhost:8080/"
        },
        "id": "SyAjC750cprO",
        "outputId": "db164d88-da8d-4e85-df39-5925a4e6bd50"
      },
      "outputs": [
        {
          "name": "stdout",
          "output_type": "stream",
          "text": [
            "[[ 1.66458073e-01  1.52690864e-01  1.53942428e-01 ...  2.69086358e-01\n",
            "   2.81602003e-01  1.88986233e-01]\n",
            " [ 5.68323876e-11  1.02070302e-10  9.72942362e-11 ...  1.15529538e-10\n",
            "   3.03429878e-10  2.68409246e-10]\n",
            " [ 2.03082260e+00  1.58712875e+00  1.37001299e+00 ...  2.93397075e+00\n",
            "   2.29275179e+00  1.90207638e+00]\n",
            " ...\n",
            " [ 0.00000000e+00  7.77019300e-03  1.93108267e-03 ... -2.22667517e-02\n",
            "   1.59486933e-02  1.06170115e-02]\n",
            " [ 0.00000000e+00 -3.66587096e-03 -3.55440420e-04 ...  8.65512996e-04\n",
            "  -1.71282417e-03  3.84718707e-03]\n",
            " [ 0.00000000e+00  1.37388624e-02 -2.16974417e-03 ... -7.00299066e-03\n",
            "   2.45505678e-02 -5.45916284e-03]]\n",
            "['zcr', 'energy', 'energy_entropy', 'spectral_centroid', 'spectral_spread', 'spectral_entropy', 'spectral_flux', 'spectral_rolloff', 'mfcc_1', 'mfcc_2', 'mfcc_3', 'mfcc_4', 'mfcc_5', 'mfcc_6', 'mfcc_7', 'mfcc_8', 'mfcc_9', 'mfcc_10', 'mfcc_11', 'mfcc_12', 'mfcc_13', 'chroma_1', 'chroma_2', 'chroma_3', 'chroma_4', 'chroma_5', 'chroma_6', 'chroma_7', 'chroma_8', 'chroma_9', 'chroma_10', 'chroma_11', 'chroma_12', 'chroma_std', 'delta zcr', 'delta energy', 'delta energy_entropy', 'delta spectral_centroid', 'delta spectral_spread', 'delta spectral_entropy', 'delta spectral_flux', 'delta spectral_rolloff', 'delta mfcc_1', 'delta mfcc_2', 'delta mfcc_3', 'delta mfcc_4', 'delta mfcc_5', 'delta mfcc_6', 'delta mfcc_7', 'delta mfcc_8', 'delta mfcc_9', 'delta mfcc_10', 'delta mfcc_11', 'delta mfcc_12', 'delta mfcc_13', 'delta chroma_1', 'delta chroma_2', 'delta chroma_3', 'delta chroma_4', 'delta chroma_5', 'delta chroma_6', 'delta chroma_7', 'delta chroma_8', 'delta chroma_9', 'delta chroma_10', 'delta chroma_11', 'delta chroma_12', 'delta chroma_std']\n",
            "(68, 164)\n",
            "68\n",
            "164\n",
            "164\n",
            "164\n",
            "164\n",
            "164\n",
            "164\n",
            "164\n",
            "164\n",
            "164\n",
            "164\n",
            "164\n",
            "164\n",
            "164\n",
            "164\n",
            "164\n",
            "164\n",
            "164\n",
            "164\n",
            "164\n",
            "164\n",
            "164\n",
            "164\n",
            "164\n",
            "164\n",
            "164\n",
            "164\n",
            "164\n",
            "164\n",
            "164\n",
            "164\n",
            "164\n",
            "164\n",
            "164\n",
            "164\n",
            "164\n",
            "164\n",
            "164\n",
            "164\n",
            "164\n",
            "164\n",
            "164\n",
            "164\n",
            "164\n",
            "164\n",
            "164\n",
            "164\n",
            "164\n",
            "164\n",
            "164\n",
            "164\n",
            "164\n",
            "164\n",
            "164\n",
            "164\n",
            "164\n",
            "164\n",
            "164\n",
            "164\n",
            "164\n",
            "164\n",
            "164\n",
            "164\n",
            "164\n",
            "164\n",
            "164\n",
            "164\n",
            "164\n",
            "164\n"
          ]
        }
      ],
      "source": [
        "'''F, f_names = sF.feature_extraction(\n",
        "    signal_store_array[0][100][0],  # The audio signal (mono)\n",
        "    Fs,       # Sampling frequency\n",
        "    0.050*Fs, # Window size (50 ms window), this is random, no reason\n",
        "    0.025*Fs  # Step size (25 ms step), random, no reason\n",
        "    )\n",
        "print(F)\n",
        "print(f_names)\n",
        "print(F.shape)\n",
        "print(len(f_names))\n",
        "for i in range(68):\n",
        "  print(len(F[i]))'''\n",
        "#9 se 9+13=22 matlb index 8 se 21 jaaega, 8 se 22\n",
        "#F[i] is the kaam ka array, 8 se 22, f_names ke bhi 8 se 22 ke index columns rhenge\n"
      ]
    },
    {
      "cell_type": "code",
      "execution_count": null,
      "metadata": {
        "id": "d0ODGMZym8JD"
      },
      "outputs": [],
      "source": [
        "df_feats=pd.DataFrame()"
      ]
    },
    {
      "cell_type": "code",
      "execution_count": null,
      "metadata": {
        "colab": {
          "base_uri": "https://localhost:8080/",
          "height": 373
        },
        "id": "iaE0rBZ7YkGq",
        "outputId": "8b330440-2c10-4573-c254-66e74926a20a"
      },
      "outputs": [
        {
          "ename": "KeyboardInterrupt",
          "evalue": "",
          "output_type": "error",
          "traceback": [
            "\u001b[0;31m---------------------------------------------------------------------------\u001b[0m",
            "\u001b[0;31mKeyboardInterrupt\u001b[0m                         Traceback (most recent call last)",
            "\u001b[0;32m<ipython-input-42-65040a36e234>\u001b[0m in \u001b[0;36m<cell line: 3>\u001b[0;34m()\u001b[0m\n\u001b[1;32m      3\u001b[0m \u001b[0;32mfor\u001b[0m \u001b[0mi\u001b[0m \u001b[0;32min\u001b[0m \u001b[0mrange\u001b[0m\u001b[0;34m(\u001b[0m\u001b[0;36m6\u001b[0m\u001b[0;34m)\u001b[0m\u001b[0;34m:\u001b[0m\u001b[0;34m\u001b[0m\u001b[0;34m\u001b[0m\u001b[0m\n\u001b[1;32m      4\u001b[0m   \u001b[0;32mfor\u001b[0m \u001b[0mj\u001b[0m \u001b[0;32min\u001b[0m \u001b[0mrange\u001b[0m\u001b[0;34m(\u001b[0m\u001b[0mlen\u001b[0m\u001b[0;34m(\u001b[0m\u001b[0mpadded_arrays_signal\u001b[0m\u001b[0;34m[\u001b[0m\u001b[0mi\u001b[0m\u001b[0;34m]\u001b[0m\u001b[0;34m)\u001b[0m\u001b[0;34m)\u001b[0m\u001b[0;34m:\u001b[0m\u001b[0;34m\u001b[0m\u001b[0;34m\u001b[0m\u001b[0m\n\u001b[0;32m----> 5\u001b[0;31m     F, f_names = sF.feature_extraction(\n\u001b[0m\u001b[1;32m      6\u001b[0m     \u001b[0mpadded_arrays_signal\u001b[0m\u001b[0;34m[\u001b[0m\u001b[0mi\u001b[0m\u001b[0;34m]\u001b[0m\u001b[0;34m[\u001b[0m\u001b[0mj\u001b[0m\u001b[0;34m]\u001b[0m\u001b[0;34m,\u001b[0m  \u001b[0;31m# The audio signal (mono)\u001b[0m\u001b[0;34m\u001b[0m\u001b[0;34m\u001b[0m\u001b[0m\n\u001b[1;32m      7\u001b[0m     \u001b[0mFs\u001b[0m\u001b[0;34m,\u001b[0m       \u001b[0;31m# Sampling frequency\u001b[0m\u001b[0;34m\u001b[0m\u001b[0;34m\u001b[0m\u001b[0m\n",
            "\u001b[0;32m/content/pyAudioAnalysis/pyAudioAnalysis/ShortTermFeatures.py\u001b[0m in \u001b[0;36mfeature_extraction\u001b[0;34m(signal, sampling_rate, window, step, deltas)\u001b[0m\n\u001b[1;32m    642\u001b[0m         \u001b[0;31m# spectral entropy\u001b[0m\u001b[0;34m\u001b[0m\u001b[0;34m\u001b[0m\u001b[0m\n\u001b[1;32m    643\u001b[0m         \u001b[0mfeature_vector\u001b[0m\u001b[0;34m[\u001b[0m\u001b[0;36m5\u001b[0m\u001b[0;34m]\u001b[0m \u001b[0;34m=\u001b[0m\u001b[0;31m \u001b[0m\u001b[0;31m\\\u001b[0m\u001b[0;34m\u001b[0m\u001b[0;34m\u001b[0m\u001b[0m\n\u001b[0;32m--> 644\u001b[0;31m             \u001b[0mspectral_entropy\u001b[0m\u001b[0;34m(\u001b[0m\u001b[0mfft_magnitude\u001b[0m\u001b[0;34m)\u001b[0m\u001b[0;34m\u001b[0m\u001b[0;34m\u001b[0m\u001b[0m\n\u001b[0m\u001b[1;32m    645\u001b[0m \u001b[0;34m\u001b[0m\u001b[0m\n\u001b[1;32m    646\u001b[0m         \u001b[0;31m# spectral flux\u001b[0m\u001b[0;34m\u001b[0m\u001b[0;34m\u001b[0m\u001b[0m\n",
            "\u001b[0;32m/content/pyAudioAnalysis/pyAudioAnalysis/ShortTermFeatures.py\u001b[0m in \u001b[0;36mspectral_entropy\u001b[0;34m(signal, n_short_blocks)\u001b[0m\n\u001b[1;32m    100\u001b[0m \u001b[0;34m\u001b[0m\u001b[0m\n\u001b[1;32m    101\u001b[0m     \u001b[0;31m# compute spectral sub-energies\u001b[0m\u001b[0;34m\u001b[0m\u001b[0;34m\u001b[0m\u001b[0m\n\u001b[0;32m--> 102\u001b[0;31m     \u001b[0ms\u001b[0m \u001b[0;34m=\u001b[0m \u001b[0mnp\u001b[0m\u001b[0;34m.\u001b[0m\u001b[0msum\u001b[0m\u001b[0;34m(\u001b[0m\u001b[0msub_wins\u001b[0m \u001b[0;34m**\u001b[0m \u001b[0;36m2\u001b[0m\u001b[0;34m,\u001b[0m \u001b[0maxis\u001b[0m\u001b[0;34m=\u001b[0m\u001b[0;36m0\u001b[0m\u001b[0;34m)\u001b[0m \u001b[0;34m/\u001b[0m \u001b[0;34m(\u001b[0m\u001b[0mtotal_energy\u001b[0m \u001b[0;34m+\u001b[0m \u001b[0meps\u001b[0m\u001b[0;34m)\u001b[0m\u001b[0;34m\u001b[0m\u001b[0;34m\u001b[0m\u001b[0m\n\u001b[0m\u001b[1;32m    103\u001b[0m \u001b[0;34m\u001b[0m\u001b[0m\n\u001b[1;32m    104\u001b[0m     \u001b[0;31m# compute spectral entropy\u001b[0m\u001b[0;34m\u001b[0m\u001b[0;34m\u001b[0m\u001b[0m\n",
            "\u001b[0;32m/usr/local/lib/python3.10/dist-packages/numpy/core/fromnumeric.py\u001b[0m in \u001b[0;36msum\u001b[0;34m(a, axis, dtype, out, keepdims, initial, where)\u001b[0m\n\u001b[1;32m   2311\u001b[0m         \u001b[0;32mreturn\u001b[0m \u001b[0mres\u001b[0m\u001b[0;34m\u001b[0m\u001b[0;34m\u001b[0m\u001b[0m\n\u001b[1;32m   2312\u001b[0m \u001b[0;34m\u001b[0m\u001b[0m\n\u001b[0;32m-> 2313\u001b[0;31m     return _wrapreduction(a, np.add, 'sum', axis, dtype, out, keepdims=keepdims,\n\u001b[0m\u001b[1;32m   2314\u001b[0m                           initial=initial, where=where)\n\u001b[1;32m   2315\u001b[0m \u001b[0;34m\u001b[0m\u001b[0m\n",
            "\u001b[0;32m/usr/local/lib/python3.10/dist-packages/numpy/core/fromnumeric.py\u001b[0m in \u001b[0;36m_wrapreduction\u001b[0;34m(obj, ufunc, method, axis, dtype, out, **kwargs)\u001b[0m\n\u001b[1;32m     69\u001b[0m \u001b[0;34m\u001b[0m\u001b[0m\n\u001b[1;32m     70\u001b[0m \u001b[0;34m\u001b[0m\u001b[0m\n\u001b[0;32m---> 71\u001b[0;31m \u001b[0;32mdef\u001b[0m \u001b[0m_wrapreduction\u001b[0m\u001b[0;34m(\u001b[0m\u001b[0mobj\u001b[0m\u001b[0;34m,\u001b[0m \u001b[0mufunc\u001b[0m\u001b[0;34m,\u001b[0m \u001b[0mmethod\u001b[0m\u001b[0;34m,\u001b[0m \u001b[0maxis\u001b[0m\u001b[0;34m,\u001b[0m \u001b[0mdtype\u001b[0m\u001b[0;34m,\u001b[0m \u001b[0mout\u001b[0m\u001b[0;34m,\u001b[0m \u001b[0;34m**\u001b[0m\u001b[0mkwargs\u001b[0m\u001b[0;34m)\u001b[0m\u001b[0;34m:\u001b[0m\u001b[0;34m\u001b[0m\u001b[0;34m\u001b[0m\u001b[0m\n\u001b[0m\u001b[1;32m     72\u001b[0m     passkwargs = {k: v for k, v in kwargs.items()\n\u001b[1;32m     73\u001b[0m                   if v is not np._NoValue}\n",
            "\u001b[0;31mKeyboardInterrupt\u001b[0m: "
          ]
        }
      ],
      "source": [
        "'''features_array = [[[] for _ in range(1923)] for _ in range(6)]\n",
        "\n",
        "for i in range(6):\n",
        "  for j in range(len(padded_arrays_signal[i])):\n",
        "    F, f_names = sF.feature_extraction(\n",
        "    padded_arrays_signal[i][j],  # The audio signal (mono)\n",
        "    Fs,\n",
        "    0.050*Fs, # Window size (50 ms window), this is random, no reason\n",
        "    0.025*Fs  # Step size (25 ms step), random, no reason\n",
        "    )\n",
        "    for k in range(8,22):\n",
        "      features_array[i][j].append(F[k])\n",
        "print(len(features_array))\n",
        "print(len(features_array[0]))\n",
        "print(len(features_array[0][1]))'''\n",
        "\n",
        "\n"
      ]
    },
    {
      "cell_type": "code",
      "execution_count": null,
      "metadata": {
        "id": "MMQB9QuoZt0A"
      },
      "outputs": [],
      "source": [
        "'''n_mfcc = 13\n",
        "mfccs = librosa.feature.mfcc(y=padded_arrays_signal[0][1], sr=sr, n_mfcc=n_mfcc)\n",
        "\n",
        "mfccs = mfccs.T'''"
      ]
    },
    {
      "cell_type": "code",
      "execution_count": null,
      "metadata": {
        "colab": {
          "base_uri": "https://localhost:8080/"
        },
        "id": "43s7Zi4MZ-aQ",
        "outputId": "928607cc-edfd-410b-878c-492d6647f133"
      },
      "outputs": [
        {
          "name": "stdout",
          "output_type": "stream",
          "text": [
            "[[-751.2031        2.130325      2.1284087  ...    2.0676696\n",
            "     2.054534      2.0402093 ]\n",
            " [-750.7655        2.7489092     2.7459064  ...    2.651062\n",
            "     2.6306415     2.608411  ]\n",
            " [-752.0433        0.94259506    0.9417975  ...    0.9164591\n",
            "     0.9109766     0.9050006 ]\n",
            " ...\n",
            " [-752.70996       0.            0.         ...    0.\n",
            "     0.            0.        ]\n",
            " [-752.70996       0.            0.         ...    0.\n",
            "     0.            0.        ]\n",
            " [-752.70996       0.            0.         ...    0.\n",
            "     0.            0.        ]]\n"
          ]
        }
      ],
      "source": [
        "'''print(mfccs)'''"
      ]
    },
    {
      "cell_type": "code",
      "execution_count": null,
      "metadata": {
        "colab": {
          "base_uri": "https://localhost:8080/"
        },
        "id": "ZUfZqqNWb2Hc",
        "outputId": "07ffda8d-d5fe-447b-8c4a-559ddee6abca"
      },
      "outputs": [
        {
          "name": "stdout",
          "output_type": "stream",
          "text": [
            "13\n"
          ]
        }
      ],
      "source": [
        "print(len(mfccs[0]))"
      ]
    },
    {
      "cell_type": "code",
      "execution_count": null,
      "metadata": {
        "id": "giMb7lHxcXfW"
      },
      "outputs": [],
      "source": [
        "'''mfccs = pd.DataFrame(mfccs)'''\n"
      ]
    },
    {
      "cell_type": "code",
      "execution_count": null,
      "metadata": {
        "id": "_E4YXUoTbe5G"
      },
      "outputs": [],
      "source": [
        "'''df_new=pd.concat([df_feats, mfccs], ignore_index=True)'''"
      ]
    },
    {
      "cell_type": "code",
      "execution_count": null,
      "metadata": {
        "colab": {
          "base_uri": "https://localhost:8080/"
        },
        "id": "tdqag35pceeu",
        "outputId": "0c4785db-26a9-41da-e8ce-e9fbf7dd7338"
      },
      "outputs": [
        {
          "name": "stdout",
          "output_type": "stream",
          "text": [
            "             0          1          2          3          4          5   \\\n",
            "0   -734.443298  14.247645  13.856277  13.228588  12.399449  11.413802   \n",
            "1   -737.857117   9.525621   9.444624   9.311200   9.127670   8.897190   \n",
            "2   -740.284058   6.110037   6.078889   6.027472   5.956530   5.867070   \n",
            "3   -738.930542   8.004944   7.916175   7.770107   7.569514   7.318197   \n",
            "4   -738.304932   8.897408   8.831547   8.722824   8.572781   8.383548   \n",
            "..          ...        ...        ...        ...        ...        ...   \n",
            "219 -744.611938   0.000000   0.000000   0.000000   0.000000   0.000000   \n",
            "220 -744.611938   0.000000   0.000000   0.000000   0.000000   0.000000   \n",
            "221 -744.611938   0.000000   0.000000   0.000000   0.000000   0.000000   \n",
            "222 -744.611938   0.000000   0.000000   0.000000   0.000000   0.000000   \n",
            "223 -744.611938   0.000000   0.000000   0.000000   0.000000   0.000000   \n",
            "\n",
            "            6         7         8         9         10        11        12  \n",
            "0    10.323236  9.182108  8.043598  6.956008  5.959630  5.084436  4.348722  \n",
            "1     8.623684  8.311739  7.966496  7.593502  7.198619  6.787844  6.367189  \n",
            "2     5.760364  5.637894  5.501351  5.352576  5.193537  5.026279  4.852888  \n",
            "3     7.020878  6.683111  6.311152  5.911808  5.492299  5.060081  4.622695  \n",
            "4     8.157782  7.898643  7.609706  7.294971  6.958654  6.605250  6.239381  \n",
            "..         ...       ...       ...       ...       ...       ...       ...  \n",
            "219   0.000000  0.000000  0.000000  0.000000  0.000000  0.000000  0.000000  \n",
            "220   0.000000  0.000000  0.000000  0.000000  0.000000  0.000000  0.000000  \n",
            "221   0.000000  0.000000  0.000000  0.000000  0.000000  0.000000  0.000000  \n",
            "222   0.000000  0.000000  0.000000  0.000000  0.000000  0.000000  0.000000  \n",
            "223   0.000000  0.000000  0.000000  0.000000  0.000000  0.000000  0.000000  \n",
            "\n",
            "[224 rows x 13 columns]\n"
          ]
        }
      ],
      "source": [
        "'''print(df_new)'''"
      ]
    },
    {
      "cell_type": "code",
      "execution_count": null,
      "metadata": {
        "colab": {
          "base_uri": "https://localhost:8080/"
        },
        "id": "WJK38yYldVwA",
        "outputId": "6ce50c71-1b6f-4f33-fe2e-838c9e2b78eb"
      },
      "outputs": [
        {
          "name": "stdout",
          "output_type": "stream",
          "text": [
            "             0          1          2          3          4          5   \\\n",
            "0   -734.443298  14.247645  13.856277  13.228588  12.399449  11.413802   \n",
            "1   -737.857117   9.525621   9.444624   9.311200   9.127670   8.897190   \n",
            "2   -740.284058   6.110037   6.078889   6.027472   5.956530   5.867070   \n",
            "3   -738.930542   8.004944   7.916175   7.770107   7.569514   7.318197   \n",
            "4   -738.304932   8.897408   8.831547   8.722824   8.572781   8.383548   \n",
            "..          ...        ...        ...        ...        ...        ...   \n",
            "443 -776.715271   0.000000   0.000000   0.000000   0.000000   0.000000   \n",
            "444 -776.715271   0.000000   0.000000   0.000000   0.000000   0.000000   \n",
            "445 -776.715271   0.000000   0.000000   0.000000   0.000000   0.000000   \n",
            "446 -776.715271   0.000000   0.000000   0.000000   0.000000   0.000000   \n",
            "447 -776.715271   0.000000   0.000000   0.000000   0.000000   0.000000   \n",
            "\n",
            "            6         7         8         9         10        11        12  \n",
            "0    10.323236  9.182108  8.043598  6.956008  5.959630  5.084436  4.348722  \n",
            "1     8.623684  8.311739  7.966496  7.593502  7.198619  6.787844  6.367189  \n",
            "2     5.760364  5.637894  5.501351  5.352576  5.193537  5.026279  4.852888  \n",
            "3     7.020878  6.683111  6.311152  5.911808  5.492299  5.060081  4.622695  \n",
            "4     8.157782  7.898643  7.609706  7.294971  6.958654  6.605250  6.239381  \n",
            "..         ...       ...       ...       ...       ...       ...       ...  \n",
            "443   0.000000  0.000000  0.000000  0.000000  0.000000  0.000000  0.000000  \n",
            "444   0.000000  0.000000  0.000000  0.000000  0.000000  0.000000  0.000000  \n",
            "445   0.000000  0.000000  0.000000  0.000000  0.000000  0.000000  0.000000  \n",
            "446   0.000000  0.000000  0.000000  0.000000  0.000000  0.000000  0.000000  \n",
            "447   0.000000  0.000000  0.000000  0.000000  0.000000  0.000000  0.000000  \n",
            "\n",
            "[448 rows x 13 columns]\n"
          ]
        }
      ],
      "source": [
        "'''mfccs = librosa.feature.mfcc(y=padded_arrays_signal[1][1], sr=sr, n_mfcc=n_mfcc)\n",
        "\n",
        "# Transpose the MFCCs to have time frames as rows and MFCC coefficients as columns\n",
        "mfccs = mfccs.T\n",
        "mfccs = pd.DataFrame(mfccs)\n",
        "df_new=pd.concat([df_new, mfccs], ignore_index=True)\n",
        "print(df_new)'''"
      ]
    },
    {
      "cell_type": "markdown",
      "source": [
        "# Main Feature extracting function"
      ],
      "metadata": {
        "id": "BtfC9IJw-KA1"
      }
    },
    {
      "cell_type": "code",
      "execution_count": null,
      "metadata": {
        "id": "r24j9wfHzwKs"
      },
      "outputs": [],
      "source": [
        "def extract_feats(audio_array):\n",
        "  frame_length = len(audio_array)\n",
        "  sr=16000\n",
        "  frame_length = 2048\n",
        "  hop_length = 512\n",
        "  #mfccs:\n",
        "  n_mfcc = 40\n",
        "  mfccs = librosa.feature.mfcc(y=audio_array, sr=sr, n_mfcc=n_mfcc, n_fft=frame_length, hop_length=hop_length)\n",
        "  mfccs=mfccs.T\n",
        "  mfccs_arr=[]\n",
        "  for i in range(n_mfcc):\n",
        "    temp_arr=[]\n",
        "    for j in range (len(mfccs)):\n",
        "      temp_arr.append(mfccs[j][i])\n",
        "    temp_arr=np.array(temp_arr)\n",
        "    mfccs_arr.append(np.mean(temp_arr))\n",
        "  mfccs_arr=np.array(mfccs_arr)\n",
        "  #chroma stft:\n",
        "  chroma_stft = librosa.feature.chroma_stft(y=audio_array, sr=sr, n_fft=frame_length, hop_length=hop_length)\n",
        "  chroma_stft=chroma_stft.T\n",
        "  chroma_arr=[]\n",
        "  for i in range(12):\n",
        "    temp_arr=[]\n",
        "    for j in range (len(chroma_stft)):\n",
        "      temp_arr.append(chroma_stft[j][i])\n",
        "    temp_arr=np.array(temp_arr)\n",
        "    chroma_arr.append(np.mean(temp_arr))\n",
        "  chroma_arr=np.array(chroma_arr)\n",
        "  #mel spectrogram:\n",
        "  n_mels = 128\n",
        "  mel_spectrogram = librosa.feature.melspectrogram(y=audio_array, sr=sr, n_mels=n_mels)\n",
        "  mel_spectrogram=mel_spectrogram.T\n",
        "  mel_arr=[]\n",
        "  for i in range(n_mels):\n",
        "    temp_arr=[]\n",
        "    for j in range (len(mel_spectrogram)):\n",
        "      temp_arr.append(mel_spectrogram[j][i])\n",
        "    temp_arr=np.array(temp_arr)\n",
        "    mel_arr.append(np.mean(temp_arr))\n",
        "  mel_arr=np.array(mel_arr)\n",
        "  #zcr:\n",
        "  zero_crossings = np.sum(np.abs(np.diff(np.sign(audio_array)))) / 2\n",
        "\n",
        "  zcr = zero_crossings / len(audio_array)\n",
        "  zcr=np.array(zcr)\n",
        "  #rms:\n",
        "  rms = np.sqrt(np.mean(np.square(audio_array)))\n",
        "  rms=np.array(rms)\n",
        "\n",
        "  row=np.hstack((mfccs_arr, chroma_arr, mel_arr, zcr, rms))\n",
        "\n",
        "  return row\n",
        "\n",
        "\n",
        "\n"
      ]
    },
    {
      "cell_type": "code",
      "execution_count": null,
      "metadata": {
        "colab": {
          "base_uri": "https://localhost:8080/"
        },
        "id": "SYpDWdC_GQNc",
        "outputId": "bb7bd92d-510c-49f8-d9e0-c014b3dcdd8d"
      },
      "outputs": [
        {
          "name": "stdout",
          "output_type": "stream",
          "text": [
            "27\n"
          ]
        }
      ],
      "source": [
        "row=extract_feats(padded_arrays_signal[0][1])\n",
        "print (len(row))"
      ]
    },
    {
      "cell_type": "code",
      "execution_count": null,
      "metadata": {
        "colab": {
          "base_uri": "https://localhost:8080/"
        },
        "id": "0JASeG7PG4Bn",
        "outputId": "af521472-14b8-4b2c-894f-14927dc11a2e"
      },
      "outputs": [
        {
          "name": "stdout",
          "output_type": "stream",
          "text": [
            "           0          1         2        3         4         5         6   \\\n",
            "0 -658.205078  21.702257 -3.087338  4.50118 -1.915585 -1.169164 -2.938886   \n",
            "\n",
            "         7        8         9   ...        17        18        19        20  \\\n",
            "0 -4.224504 -2.60257  0.021381  ...  0.300482  0.316948  0.287513  0.293028   \n",
            "\n",
            "         21       22        23        24        25        26  \n",
            "0  0.272327  0.25593  0.306673  0.300313  0.147562  0.008534  \n",
            "\n",
            "[1 rows x 27 columns]\n"
          ]
        }
      ],
      "source": [
        "row=pd.DataFrame(row)\n",
        "row=row.T\n",
        "print (row)"
      ]
    },
    {
      "cell_type": "markdown",
      "source": [
        "Creating a dataframe of features"
      ],
      "metadata": {
        "id": "WtO6-9eh-Qkf"
      }
    },
    {
      "cell_type": "code",
      "execution_count": null,
      "metadata": {
        "id": "cM3jucKVeD2j"
      },
      "outputs": [],
      "source": [
        "for i in range(6):\n",
        "  for j in range(len(padded_arrays_signal[i])):\n",
        "    row=extract_feats(padded_arrays_signal[i][j])\n",
        "    label=np.array(i)\n",
        "    row=np.hstack((row,label))\n",
        "    row=pd.DataFrame(row)\n",
        "    row=row.T\n",
        "    df_feats=pd.concat([df_feats, row], ignore_index=True)"
      ]
    },
    {
      "cell_type": "code",
      "execution_count": null,
      "metadata": {
        "colab": {
          "base_uri": "https://localhost:8080/"
        },
        "id": "ikNYsssRkB79",
        "outputId": "52894030-7c3b-449b-9fe8-8bf602879992"
      },
      "outputs": [
        {
          "output_type": "stream",
          "name": "stdout",
          "text": [
            "             0          1          2          3          4         5    \\\n",
            "0    -610.977905  29.535093  -3.487275   7.875880  -0.400641 -2.791072   \n",
            "1    -624.412415  29.462458  -4.191294   6.110693  -2.600551 -1.587228   \n",
            "2    -350.057770   3.238326 -13.905853 -11.231019 -11.953794 -5.651985   \n",
            "3    -462.431946  13.316307  -9.534254  -4.090275  -6.084026 -4.990816   \n",
            "4    -395.520294   9.337909  -9.030060  -2.920964  -7.271259 -5.286710   \n",
            "...          ...        ...        ...        ...        ...       ...   \n",
            "1243 -579.633362  34.939667 -16.779362   5.299008  -4.145537 -1.054782   \n",
            "1244 -566.051208  28.706827 -18.932138   9.935251  -8.020773 -0.845724   \n",
            "1245 -600.434021  36.025871 -12.027223  11.988501  -3.573984  4.845198   \n",
            "1246 -624.799927  30.352732  -9.252348   8.804046  -3.795641  2.634455   \n",
            "1247 -472.086945  11.897173 -14.345934   7.702065 -10.254480  0.577748   \n",
            "\n",
            "            6         7         8         9    ...       173       174  \\\n",
            "0     -3.704089 -9.373019 -5.053172  0.066367  ...  0.000145  0.000171   \n",
            "1     -3.989759 -5.735083 -3.533185  0.029027  ...  0.000029  0.000032   \n",
            "2    -11.112181 -4.920784 -8.679276  1.671864  ...  0.016436  0.015687   \n",
            "3     -7.992013 -5.493173 -6.759738  2.295869  ...  0.003646  0.002978   \n",
            "4     -7.248517 -4.504573 -6.108351  1.216416  ...  0.004456  0.006485   \n",
            "...         ...       ...       ...       ...  ...       ...       ...   \n",
            "1243 -14.854815 -7.997181  1.262517 -5.327553  ...  0.000605  0.000555   \n",
            "1244 -12.549275 -7.167660 -2.774857 -6.416454  ...  0.000096  0.000068   \n",
            "1245  -6.454205 -5.211575  1.461191 -1.903208  ...  0.000066  0.000078   \n",
            "1246  -7.830342 -6.756388  0.661711 -5.745769  ...  0.000167  0.000184   \n",
            "1247  -7.272579 -5.313426 -0.497160 -1.580277  ...  0.000389  0.000307   \n",
            "\n",
            "           175       176       177       178           179       180  \\\n",
            "0     0.000188  0.000179  0.000139  0.000038  1.128358e-06  0.216897   \n",
            "1     0.000021  0.000015  0.000026  0.000011  4.708354e-07  0.199814   \n",
            "2     0.015673  0.011402  0.017213  0.005635  6.654831e-04  0.212345   \n",
            "3     0.002737  0.002516  0.002623  0.001090  7.719133e-05  0.189678   \n",
            "4     0.005900  0.008467  0.006238  0.004761  3.599518e-04  0.158937   \n",
            "...        ...       ...       ...       ...           ...       ...   \n",
            "1243  0.000628  0.000651  0.000462  0.000160  1.073089e-05  0.127438   \n",
            "1244  0.000044  0.000036  0.000043  0.000020  1.701767e-06  0.141119   \n",
            "1245  0.000094  0.000081  0.000079  0.000042  1.186564e-06  0.086170   \n",
            "1246  0.000291  0.000371  0.000328  0.000137  9.157246e-06  0.129287   \n",
            "1247  0.000336  0.000310  0.000317  0.000287  1.042897e-05  0.136021   \n",
            "\n",
            "           181  182  \n",
            "0     0.009754  0.0  \n",
            "1     0.009931  0.0  \n",
            "2     0.135102  0.0  \n",
            "3     0.055792  0.0  \n",
            "4     0.082391  0.0  \n",
            "...        ...  ...  \n",
            "1243  0.014381  5.0  \n",
            "1244  0.013156  5.0  \n",
            "1245  0.012018  5.0  \n",
            "1246  0.011164  5.0  \n",
            "1247  0.038821  5.0  \n",
            "\n",
            "[1248 rows x 183 columns]\n"
          ]
        }
      ],
      "source": [
        "print(df_feats)"
      ]
    },
    {
      "cell_type": "code",
      "execution_count": null,
      "metadata": {
        "id": "DGh3kdkFkib4"
      },
      "outputs": [],
      "source": [
        "\n",
        "df_feats = df_feats.sample(frac=1).reset_index(drop=True)\n"
      ]
    },
    {
      "cell_type": "code",
      "execution_count": null,
      "metadata": {
        "id": "nLhfAMhLSPmP"
      },
      "outputs": [],
      "source": [
        "df_feats.to_csv('df_feats_rav.csv')"
      ]
    },
    {
      "cell_type": "code",
      "execution_count": null,
      "metadata": {
        "id": "702w_ISnX9nf"
      },
      "outputs": [],
      "source": [
        "df_feats=df_feats.iloc[:2000000, :]"
      ]
    },
    {
      "cell_type": "markdown",
      "source": [
        "# SVM"
      ],
      "metadata": {
        "id": "IGBq3zes-WMI"
      }
    },
    {
      "cell_type": "code",
      "execution_count": null,
      "metadata": {
        "colab": {
          "base_uri": "https://localhost:8080/"
        },
        "id": "91RSsONcXj7X",
        "outputId": "251dbbd3-b719-4828-86b9-583606aa1619"
      },
      "outputs": [
        {
          "output_type": "stream",
          "name": "stdout",
          "text": [
            "Accuracy of the kernel SVM classifier: 0.50\n"
          ]
        }
      ],
      "source": [
        "import pandas as pd\n",
        "from sklearn.model_selection import train_test_split\n",
        "from sklearn.preprocessing import StandardScaler\n",
        "from sklearn.svm import SVC\n",
        "from sklearn.metrics import accuracy_score\n",
        "from sklearn.decomposition import PCA\n",
        "\n",
        "df_feats=pd.read_csv('/content/df_feats_rav.csv')\n",
        "X = df_feats.iloc[:, 1:-1]\n",
        "#X_hash=df_feats.iloc[:, 25:-1]\n",
        "#X=pd.concat([X, X_hash] , axis=1)\n",
        "y = df_feats.iloc[:, -1]\n",
        "\n",
        "\n",
        "X_train, X_test, y_train, y_test = train_test_split(X, y, test_size=0.2, random_state=42)\n",
        "\n",
        "scaler = StandardScaler()\n",
        "X_train = scaler.fit_transform(X_train)\n",
        "X_test = scaler.transform(X_test)\n",
        "\n",
        "#pca = PCA(n_components=25)\n",
        "\n",
        "#X_train = pca.fit_transform(X_train)\n",
        "#X_test = pca.transform(X_test)\n",
        "classifier = SVC(kernel='rbf', random_state=42)\n",
        "classifier.fit(X_train, y_train)\n",
        "\n",
        "y_pred = classifier.predict(X_test)\n",
        "accuracy = accuracy_score(y_test, y_pred)\n",
        "\n",
        "print(f\"Accuracy of the kernel SVM classifier: {accuracy:.2f}\")\n"
      ]
    },
    {
      "cell_type": "code",
      "execution_count": null,
      "metadata": {
        "id": "tjIu0G0IbEOW"
      },
      "outputs": [],
      "source": [
        "# aagey kya krna hai, feature extractor function for one data signal, define krenge, isme 13 coefficients mfcc ke, rms, zcr, chroma stft and mel spectrogram extract krenge, sabme frame length hoga signal ke barabar. fir ye dataframe ak ek row banega, sabko dataframe me daal denge alon with label"
      ]
    },
    {
      "cell_type": "markdown",
      "source": [
        "# vanilla cnn"
      ],
      "metadata": {
        "id": "tcb4m61K-d4d"
      }
    },
    {
      "cell_type": "code",
      "execution_count": null,
      "metadata": {
        "colab": {
          "base_uri": "https://localhost:8080/"
        },
        "id": "wh49xkdlSnwm",
        "outputId": "0bed2929-2e50-4f1d-f3b3-f6081ee3a22a"
      },
      "outputs": [
        {
          "output_type": "stream",
          "name": "stdout",
          "text": [
            "(1248, 184)\n",
            "(1248, 182, 1)\n",
            "(998, 182, 1)\n",
            "(250, 182, 1)\n",
            "Epoch 1/25\n",
            "32/32 [==============================] - 10s 257ms/step - loss: 1.6637 - accuracy: 0.3196 - val_loss: 1.5247 - val_accuracy: 0.3880\n",
            "Epoch 2/25\n",
            "32/32 [==============================] - 6s 200ms/step - loss: 1.4697 - accuracy: 0.4138 - val_loss: 1.3777 - val_accuracy: 0.4400\n",
            "Epoch 3/25\n",
            "32/32 [==============================] - 8s 237ms/step - loss: 1.3485 - accuracy: 0.4559 - val_loss: 1.3500 - val_accuracy: 0.4440\n",
            "Epoch 4/25\n",
            "32/32 [==============================] - 6s 193ms/step - loss: 1.2633 - accuracy: 0.5110 - val_loss: 1.2568 - val_accuracy: 0.4880\n",
            "Epoch 5/25\n",
            "32/32 [==============================] - 8s 252ms/step - loss: 1.2155 - accuracy: 0.5190 - val_loss: 1.3462 - val_accuracy: 0.4960\n",
            "Epoch 6/25\n",
            "32/32 [==============================] - 6s 191ms/step - loss: 1.0874 - accuracy: 0.5752 - val_loss: 1.3206 - val_accuracy: 0.5040\n",
            "Epoch 7/25\n",
            "32/32 [==============================] - 8s 248ms/step - loss: 1.0538 - accuracy: 0.5932 - val_loss: 1.2604 - val_accuracy: 0.5160\n",
            "Epoch 8/25\n",
            "32/32 [==============================] - 6s 196ms/step - loss: 0.9464 - accuracy: 0.6273 - val_loss: 1.2781 - val_accuracy: 0.5200\n",
            "Epoch 9/25\n",
            "32/32 [==============================] - 8s 246ms/step - loss: 0.9270 - accuracy: 0.6743 - val_loss: 1.2652 - val_accuracy: 0.5040\n",
            "Epoch 10/25\n",
            "32/32 [==============================] - 7s 210ms/step - loss: 0.7930 - accuracy: 0.7074 - val_loss: 1.2920 - val_accuracy: 0.5480\n",
            "Epoch 11/25\n",
            "32/32 [==============================] - 8s 249ms/step - loss: 0.6606 - accuracy: 0.7465 - val_loss: 1.3743 - val_accuracy: 0.5400\n",
            "Epoch 12/25\n",
            "32/32 [==============================] - 6s 198ms/step - loss: 0.6604 - accuracy: 0.7405 - val_loss: 1.2659 - val_accuracy: 0.5520\n",
            "Epoch 13/25\n",
            "32/32 [==============================] - 8s 244ms/step - loss: 0.6560 - accuracy: 0.7515 - val_loss: 1.2459 - val_accuracy: 0.5600\n",
            "Epoch 14/25\n",
            "32/32 [==============================] - 7s 207ms/step - loss: 0.5383 - accuracy: 0.8156 - val_loss: 1.4220 - val_accuracy: 0.5720\n",
            "Epoch 15/25\n",
            "32/32 [==============================] - 8s 254ms/step - loss: 0.5177 - accuracy: 0.8126 - val_loss: 1.5488 - val_accuracy: 0.5640\n",
            "Epoch 16/25\n",
            "32/32 [==============================] - 6s 193ms/step - loss: 0.4510 - accuracy: 0.8357 - val_loss: 1.4659 - val_accuracy: 0.5680\n",
            "Epoch 17/25\n",
            "32/32 [==============================] - 8s 262ms/step - loss: 0.3909 - accuracy: 0.8537 - val_loss: 1.4691 - val_accuracy: 0.5720\n",
            "Epoch 18/25\n",
            "32/32 [==============================] - 7s 208ms/step - loss: 0.3915 - accuracy: 0.8647 - val_loss: 1.6208 - val_accuracy: 0.5560\n",
            "Epoch 19/25\n",
            "32/32 [==============================] - 8s 235ms/step - loss: 0.3057 - accuracy: 0.8898 - val_loss: 1.6714 - val_accuracy: 0.5680\n",
            "Epoch 20/25\n",
            "32/32 [==============================] - 6s 203ms/step - loss: 0.4338 - accuracy: 0.8527 - val_loss: 1.6341 - val_accuracy: 0.5320\n",
            "Epoch 21/25\n",
            "32/32 [==============================] - 8s 235ms/step - loss: 0.3453 - accuracy: 0.8747 - val_loss: 1.5046 - val_accuracy: 0.5880\n",
            "Epoch 22/25\n",
            "32/32 [==============================] - 7s 211ms/step - loss: 0.3088 - accuracy: 0.8768 - val_loss: 1.7868 - val_accuracy: 0.5880\n",
            "Epoch 23/25\n",
            "32/32 [==============================] - 7s 220ms/step - loss: 0.2941 - accuracy: 0.8918 - val_loss: 1.9081 - val_accuracy: 0.5520\n",
            "Epoch 24/25\n",
            "32/32 [==============================] - 7s 223ms/step - loss: 0.2589 - accuracy: 0.9068 - val_loss: 1.7942 - val_accuracy: 0.5600\n",
            "Epoch 25/25\n",
            "32/32 [==============================] - 8s 241ms/step - loss: 0.2326 - accuracy: 0.9168 - val_loss: 2.1435 - val_accuracy: 0.5840\n",
            "8/8 [==============================] - 1s 78ms/step - loss: 2.1435 - accuracy: 0.5840\n",
            "Test loss: 2.1435\n",
            "Test accuracy: 0.5840\n"
          ]
        }
      ],
      "source": [
        "import pandas as pd\n",
        "import numpy as np\n",
        "from sklearn.model_selection import train_test_split\n",
        "from sklearn.preprocessing import StandardScaler\n",
        "from tensorflow.keras.models import Sequential\n",
        "from tensorflow.keras.layers import Conv2D, MaxPooling2D, Flatten, Dense, Conv1D, MaxPooling1D, Dropout\n",
        "from tensorflow.keras.utils import to_categorical\n",
        "\n",
        "\n",
        "df_feats=pd.read_csv('/content/df_feats_rav.csv')\n",
        "print(df_feats.shape)\n",
        "X = df_feats.iloc[:, 1:-1].values\n",
        "#X_hash=df_feats.iloc[:, 25:-1]\n",
        "#print(X.shape)\n",
        "#X=pd.concat([X, X_hash] , axis=1)\n",
        "y = df_feats.iloc[:, -1]\n",
        "#X=X.iloc[:,:].values\n",
        "\n",
        "X_train, X_test, y_train, y_test = train_test_split(X, y, test_size=0.2, random_state=0)\n",
        "scaler = StandardScaler()\n",
        "X_train = scaler.fit_transform(X_train)\n",
        "X_test = scaler.transform(X_test)\n",
        "\n",
        "X_train = X_train.reshape(X_train.shape[0], X_train.shape[1], 1)\n",
        "X_test = X_test.reshape(X_test.shape[0], X_test.shape[1], 1)\n",
        "X = X.reshape(X.shape[0], X.shape[1], 1)\n",
        "print (X.shape)\n",
        "print (X_train.shape)\n",
        "print (X_test.shape)\n",
        "# Build CNN model\n",
        "model = Sequential()\n",
        "\n",
        "# Add convolutional layers\n",
        "model.add(Conv2D(32, (3, 1), activation='relu', input_shape=(X.shape[1], 1, 1)))\n",
        "#model.add(MaxPooling2D((2, 1)))\n",
        "\n",
        "model.add(Conv2D(64, (3, 1), activation='relu'))\n",
        "#model.add(MaxPooling2D((2, 1)))\n",
        "\n",
        "model.add(Conv2D(64, (3, 1), activation='relu'))\n",
        "\n",
        "model.add(Conv2D(128, (3, 1), activation='relu'))\n",
        "model.add(Dropout(0.3))\n",
        "\n",
        "model.add(Conv2D(128, (3, 1), activation='relu'))\n",
        "model.add(Dropout(0.3))\n",
        "model.add(Conv2D(256, (3, 1), activation='relu'))\n",
        "\n",
        "model.add(Dropout(0.4))\n",
        "#model.add(Conv2D(256, (3, 1), activation='relu'))\n",
        "#model.add(Dropout(0.4))\n",
        "\n",
        "model.add(Flatten())\n",
        "\n",
        "\n",
        "model.add(Dense(64, activation='relu'))\n",
        "model.add(Dropout(0.3))\n",
        "\n",
        "model.add(Dense(6, activation='softmax'))\n",
        "\n",
        "\n",
        "model.compile(optimizer='adam', loss='sparse_categorical_crossentropy', metrics=['accuracy'])\n",
        "\n",
        "\n",
        "model.fit(X_train, y_train, epochs=25, batch_size=32, validation_data=(X_test, y_test))\n",
        "\n",
        "\n",
        "loss, accuracy = model.evaluate(X_test, y_test)\n",
        "print(f'Test loss: {loss:.4f}')\n",
        "print(f'Test accuracy: {accuracy:.4f}')\n",
        "\n",
        "\n"
      ]
    },
    {
      "cell_type": "markdown",
      "source": [
        "#ResNet"
      ],
      "metadata": {
        "id": "OstSHsqH-jLO"
      }
    },
    {
      "cell_type": "code",
      "execution_count": null,
      "metadata": {
        "colab": {
          "base_uri": "https://localhost:8080/"
        },
        "id": "PNSnvmDySNjI",
        "outputId": "0e383381-f099-4807-e320-d01f56ab0647"
      },
      "outputs": [
        {
          "output_type": "stream",
          "name": "stdout",
          "text": [
            "Epoch 1/25\n",
            "288/288 [==============================] - 10s 11ms/step - loss: 1.6587 - accuracy: 0.3029 - val_loss: 1.6458 - val_accuracy: 0.3341\n",
            "Epoch 2/25\n",
            "288/288 [==============================] - 3s 9ms/step - loss: 1.4011 - accuracy: 0.4106 - val_loss: 1.2689 - val_accuracy: 0.4878\n",
            "Epoch 3/25\n",
            "288/288 [==============================] - 3s 9ms/step - loss: 1.3292 - accuracy: 0.4464 - val_loss: 1.2480 - val_accuracy: 0.5026\n",
            "Epoch 4/25\n",
            "288/288 [==============================] - 3s 11ms/step - loss: 1.2775 - accuracy: 0.4686 - val_loss: 1.1835 - val_accuracy: 0.5200\n",
            "Epoch 5/25\n",
            "288/288 [==============================] - 3s 10ms/step - loss: 1.2367 - accuracy: 0.5007 - val_loss: 1.1716 - val_accuracy: 0.5187\n",
            "Epoch 6/25\n",
            "288/288 [==============================] - 3s 9ms/step - loss: 1.2076 - accuracy: 0.5001 - val_loss: 1.1967 - val_accuracy: 0.5308\n",
            "Epoch 7/25\n",
            "288/288 [==============================] - 3s 9ms/step - loss: 1.2118 - accuracy: 0.5102 - val_loss: 1.1549 - val_accuracy: 0.5256\n",
            "Epoch 8/25\n",
            "288/288 [==============================] - 3s 9ms/step - loss: 1.1787 - accuracy: 0.5260 - val_loss: 1.1209 - val_accuracy: 0.5504\n",
            "Epoch 9/25\n",
            "288/288 [==============================] - 3s 12ms/step - loss: 1.1403 - accuracy: 0.5373 - val_loss: 1.1787 - val_accuracy: 0.5161\n",
            "Epoch 10/25\n",
            "288/288 [==============================] - 3s 9ms/step - loss: 1.1537 - accuracy: 0.5367 - val_loss: 1.1352 - val_accuracy: 0.5304\n",
            "Epoch 11/25\n",
            "288/288 [==============================] - 3s 9ms/step - loss: 1.1253 - accuracy: 0.5417 - val_loss: 1.1415 - val_accuracy: 0.5343\n",
            "Epoch 12/25\n",
            "288/288 [==============================] - 3s 9ms/step - loss: 1.1031 - accuracy: 0.5601 - val_loss: 1.1558 - val_accuracy: 0.5408\n",
            "Epoch 13/25\n",
            "288/288 [==============================] - 3s 10ms/step - loss: 1.0861 - accuracy: 0.5628 - val_loss: 1.2063 - val_accuracy: 0.5152\n",
            "Epoch 14/25\n",
            "288/288 [==============================] - 3s 12ms/step - loss: 1.0612 - accuracy: 0.5695 - val_loss: 1.1213 - val_accuracy: 0.5556\n",
            "Epoch 15/25\n",
            "288/288 [==============================] - 3s 10ms/step - loss: 1.0514 - accuracy: 0.5753 - val_loss: 1.0970 - val_accuracy: 0.5643\n",
            "Epoch 16/25\n",
            "288/288 [==============================] - 3s 9ms/step - loss: 1.0260 - accuracy: 0.5891 - val_loss: 1.1373 - val_accuracy: 0.5521\n",
            "Epoch 17/25\n",
            "288/288 [==============================] - 3s 9ms/step - loss: 1.0203 - accuracy: 0.5935 - val_loss: 1.1161 - val_accuracy: 0.5521\n",
            "Epoch 18/25\n",
            "288/288 [==============================] - 4s 13ms/step - loss: 0.9810 - accuracy: 0.6102 - val_loss: 1.1633 - val_accuracy: 0.5374\n",
            "Epoch 19/25\n",
            "288/288 [==============================] - 3s 9ms/step - loss: 0.9678 - accuracy: 0.6121 - val_loss: 1.0939 - val_accuracy: 0.5626\n",
            "Epoch 20/25\n",
            "288/288 [==============================] - 3s 9ms/step - loss: 0.9497 - accuracy: 0.6201 - val_loss: 1.1335 - val_accuracy: 0.5660\n",
            "Epoch 21/25\n",
            "288/288 [==============================] - 3s 9ms/step - loss: 0.9255 - accuracy: 0.6296 - val_loss: 1.1518 - val_accuracy: 0.5534\n",
            "Epoch 22/25\n",
            "288/288 [==============================] - 3s 10ms/step - loss: 0.8996 - accuracy: 0.6412 - val_loss: 1.1429 - val_accuracy: 0.5565\n",
            "Epoch 23/25\n",
            "288/288 [==============================] - 3s 11ms/step - loss: 0.8849 - accuracy: 0.6508 - val_loss: 1.1738 - val_accuracy: 0.5500\n",
            "Epoch 24/25\n",
            "288/288 [==============================] - 3s 9ms/step - loss: 0.8650 - accuracy: 0.6588 - val_loss: 1.2353 - val_accuracy: 0.5595\n",
            "Epoch 25/25\n",
            "288/288 [==============================] - 3s 10ms/step - loss: 0.8489 - accuracy: 0.6659 - val_loss: 1.2240 - val_accuracy: 0.5513\n",
            "72/72 [==============================] - 0s 3ms/step - loss: 1.2240 - accuracy: 0.5513\n",
            "Test loss: 1.2240\n",
            "Test accuracy: 0.5513\n"
          ]
        }
      ],
      "source": [
        "import pandas as pd\n",
        "import numpy as np\n",
        "from sklearn.model_selection import train_test_split\n",
        "from sklearn.preprocessing import StandardScaler\n",
        "from tensorflow.keras.models import Sequential, Model\n",
        "from tensorflow.keras.layers import Conv2D, MaxPooling2D, Flatten, Dense, Dropout, Input, Add, Activation\n",
        "from tensorflow.keras.optimizers import Adam\n",
        "from tensorflow.keras.layers import BatchNormalization\n",
        "\n",
        "df_feats = pd.read_csv('/content/df_feats.csv')\n",
        "\n",
        "X = df_feats.iloc[:, 1:-1].values\n",
        "y = df_feats.iloc[:, -1].values\n",
        "\n",
        "X_train, X_test, y_train, y_test = train_test_split(X, y, test_size=0.2, random_state=0)\n",
        "\n",
        "scaler = StandardScaler()\n",
        "X_train = scaler.fit_transform(X_train)\n",
        "X_test = scaler.transform(X_test)\n",
        "\n",
        "X_train = X_train.reshape(X_train.shape[0], X_train.shape[1], 1)\n",
        "X_test = X_test.reshape(X_test.shape[0], X_test.shape[1], 1)\n",
        "X = X.reshape(X.shape[0], X.shape[1], 1)\n",
        "\n",
        "# Define a residual block\n",
        "def residual_block(x, filters, kernel_size=3):\n",
        "    shortcut = x\n",
        "    x = Conv2D(filters, kernel_size, padding='same')(x)\n",
        "    x = BatchNormalization()(x)\n",
        "    x = Activation('relu')(x)\n",
        "    x = Conv2D(filters, kernel_size, padding='same')(x)\n",
        "    x = BatchNormalization()(x)\n",
        "\n",
        "\n",
        "    x = Add()([x, shortcut])\n",
        "    x = Activation('relu')(x)\n",
        "    return x\n",
        "\n",
        "# Build ResNet model\n",
        "input_shape = (X.shape[1], X.shape[2], 1)\n",
        "inputs = Input(shape=input_shape)\n",
        "\n",
        "x = Conv2D(32, (3, 1), activation='relu')(inputs)\n",
        "x = MaxPooling2D((2, 1))(x)\n",
        "\n",
        "x = residual_block(x, 32)\n",
        "x = residual_block(x, 32)\n",
        "\n",
        "x = Conv2D(64, (3, 1), activation='relu')(x)\n",
        "x = MaxPooling2D((2, 1))(x)\n",
        "\n",
        "x = residual_block(x, 64)\n",
        "x = residual_block(x, 64)\n",
        "\n",
        "x = Flatten()(x)\n",
        "\n",
        "x = Dense(64, activation='relu')(x)\n",
        "x = Dropout(0.5)(x)\n",
        "outputs = Dense(6, activation='softmax')(x)\n",
        "\n",
        "model = Model(inputs=inputs, outputs=outputs)\n",
        "\n",
        "model.compile(optimizer=Adam(), loss='sparse_categorical_crossentropy', metrics=['accuracy'])\n",
        "\n",
        "model.fit(X_train, y_train, epochs=25, batch_size=32, validation_data=(X_test, y_test))\n",
        "\n",
        "loss, accuracy = model.evaluate(X_test, y_test)\n",
        "print(f'Test loss: {loss:.4f}')\n",
        "print(f'Test accuracy: {accuracy:.4f}')\n"
      ]
    },
    {
      "cell_type": "markdown",
      "source": [
        "Depper ResNet"
      ],
      "metadata": {
        "id": "vbJ93pfw-m_N"
      }
    },
    {
      "cell_type": "code",
      "execution_count": null,
      "metadata": {
        "colab": {
          "base_uri": "https://localhost:8080/"
        },
        "id": "H0cNNn9JOoJs",
        "outputId": "657ff4e5-dca0-4b6f-babe-7e081f79bdde"
      },
      "outputs": [
        {
          "output_type": "stream",
          "name": "stdout",
          "text": [
            "Epoch 1/25\n",
            "288/288 [==============================] - 13s 17ms/step - loss: 1.9027 - accuracy: 0.1704 - val_loss: 1.7907 - val_accuracy: 0.1685\n",
            "Epoch 2/25\n",
            "288/288 [==============================] - 5s 16ms/step - loss: 1.7447 - accuracy: 0.2308 - val_loss: 1.5819 - val_accuracy: 0.3692\n",
            "Epoch 3/25\n",
            "288/288 [==============================] - 4s 13ms/step - loss: 1.6183 - accuracy: 0.3092 - val_loss: 1.3767 - val_accuracy: 0.4118\n",
            "Epoch 4/25\n",
            "288/288 [==============================] - 4s 13ms/step - loss: 1.5286 - accuracy: 0.3383 - val_loss: 1.3573 - val_accuracy: 0.4492\n",
            "Epoch 5/25\n",
            "288/288 [==============================] - 5s 16ms/step - loss: 1.4843 - accuracy: 0.3770 - val_loss: 1.3109 - val_accuracy: 0.4696\n",
            "Epoch 6/25\n",
            "288/288 [==============================] - 4s 13ms/step - loss: 1.4476 - accuracy: 0.3894 - val_loss: 1.2794 - val_accuracy: 0.4831\n",
            "Epoch 7/25\n",
            "288/288 [==============================] - 4s 13ms/step - loss: 1.4134 - accuracy: 0.4082 - val_loss: 1.2763 - val_accuracy: 0.4835\n",
            "Epoch 8/25\n",
            "288/288 [==============================] - 4s 15ms/step - loss: 1.4021 - accuracy: 0.4131 - val_loss: 1.2543 - val_accuracy: 0.4939\n",
            "Epoch 9/25\n",
            "288/288 [==============================] - 4s 14ms/step - loss: 1.3887 - accuracy: 0.4218 - val_loss: 1.2343 - val_accuracy: 0.5113\n",
            "Epoch 10/25\n",
            "288/288 [==============================] - 4s 13ms/step - loss: 1.3777 - accuracy: 0.4283 - val_loss: 1.2240 - val_accuracy: 0.4996\n",
            "Epoch 11/25\n",
            "288/288 [==============================] - 4s 13ms/step - loss: 1.3449 - accuracy: 0.4456 - val_loss: 1.1775 - val_accuracy: 0.5200\n",
            "Epoch 12/25\n",
            "288/288 [==============================] - 4s 15ms/step - loss: 1.3359 - accuracy: 0.4478 - val_loss: 1.1800 - val_accuracy: 0.5243\n",
            "Epoch 13/25\n",
            "288/288 [==============================] - 4s 13ms/step - loss: 1.3156 - accuracy: 0.4579 - val_loss: 1.1740 - val_accuracy: 0.5348\n",
            "Epoch 14/25\n",
            "288/288 [==============================] - 4s 13ms/step - loss: 1.3121 - accuracy: 0.4633 - val_loss: 1.1592 - val_accuracy: 0.5304\n",
            "Epoch 15/25\n",
            "288/288 [==============================] - 5s 16ms/step - loss: 1.2978 - accuracy: 0.4711 - val_loss: 1.1604 - val_accuracy: 0.5317\n",
            "Epoch 16/25\n",
            "288/288 [==============================] - 4s 13ms/step - loss: 1.2967 - accuracy: 0.4757 - val_loss: 1.1611 - val_accuracy: 0.5300\n",
            "Epoch 17/25\n",
            "288/288 [==============================] - 4s 13ms/step - loss: 1.2805 - accuracy: 0.4744 - val_loss: 1.1639 - val_accuracy: 0.5361\n",
            "Epoch 18/25\n",
            "288/288 [==============================] - 5s 16ms/step - loss: 1.2817 - accuracy: 0.4739 - val_loss: 1.1396 - val_accuracy: 0.5374\n",
            "Epoch 19/25\n",
            "288/288 [==============================] - 4s 13ms/step - loss: 1.2704 - accuracy: 0.4799 - val_loss: 1.1601 - val_accuracy: 0.5300\n",
            "Epoch 20/25\n",
            "288/288 [==============================] - 4s 14ms/step - loss: 1.2572 - accuracy: 0.4908 - val_loss: 1.1377 - val_accuracy: 0.5387\n",
            "Epoch 21/25\n",
            "288/288 [==============================] - 5s 16ms/step - loss: 1.2483 - accuracy: 0.4899 - val_loss: 1.1387 - val_accuracy: 0.5369\n",
            "Epoch 22/25\n",
            "288/288 [==============================] - 4s 13ms/step - loss: 1.2554 - accuracy: 0.4864 - val_loss: 1.1738 - val_accuracy: 0.5222\n",
            "Epoch 23/25\n",
            "288/288 [==============================] - 4s 13ms/step - loss: 1.2488 - accuracy: 0.4937 - val_loss: 1.1383 - val_accuracy: 0.5421\n",
            "Epoch 24/25\n",
            "288/288 [==============================] - 4s 15ms/step - loss: 1.2318 - accuracy: 0.4990 - val_loss: 1.1434 - val_accuracy: 0.5304\n",
            "Epoch 25/25\n",
            "288/288 [==============================] - 4s 14ms/step - loss: 1.2406 - accuracy: 0.5010 - val_loss: 1.1330 - val_accuracy: 0.5365\n",
            "72/72 [==============================] - 0s 4ms/step - loss: 1.1330 - accuracy: 0.5365\n",
            "Test loss: 1.1330\n",
            "Test accuracy: 0.5365\n"
          ]
        }
      ],
      "source": [
        "import pandas as pd\n",
        "import numpy as np\n",
        "from sklearn.model_selection import train_test_split\n",
        "from sklearn.preprocessing import StandardScaler\n",
        "from tensorflow.keras.models import Model\n",
        "from tensorflow.keras.layers import Conv2D, MaxPooling2D, Flatten, Dense, Dropout, Input, Add, Activation, BatchNormalization\n",
        "from tensorflow.keras.optimizers import Adam\n",
        "\n",
        "df_feats = pd.read_csv('/content/df_feats.csv')\n",
        "\n",
        "X = df_feats.iloc[:, 1:-1].values\n",
        "y = df_feats.iloc[:, -1].values\n",
        "\n",
        "X_train, X_test, y_train, y_test = train_test_split(X, y, test_size=0.2, random_state=0)\n",
        "\n",
        "\n",
        "scaler = StandardScaler()\n",
        "X_train = scaler.fit_transform(X_train)\n",
        "X_test = scaler.transform(X_test)\n",
        "\n",
        "X_train = X_train.reshape(X_train.shape[0], X_train.shape[1], 1)\n",
        "X_test = X_test.reshape(X_test.shape[0], X_test.shape[1], 1)\n",
        "X = X.reshape(X.shape[0], X.shape[1], 1)\n",
        "\n",
        "# Define a residual block\n",
        "def residual_block(x, filters, kernel_size=3, dropout_rate=0.25):\n",
        "    shortcut = x\n",
        "    x = Conv2D(filters, kernel_size, padding='same')(x)\n",
        "    x = BatchNormalization()(x)\n",
        "    x = Activation('relu')(x)\n",
        "    x = Dropout(dropout_rate)(x)\n",
        "    x = Conv2D(filters, kernel_size, padding='same')(x)\n",
        "    x = BatchNormalization()(x)\n",
        "\n",
        "    x = Add()([x, shortcut])\n",
        "    x = Activation('relu')(x)\n",
        "    return x\n",
        "\n",
        "# Build ResNet model\n",
        "input_shape = (X.shape[1], X.shape[2], 1)\n",
        "inputs = Input(shape=input_shape)\n",
        "\n",
        "x = Conv2D(32, (3, 1), activation='relu')(inputs)\n",
        "x = MaxPooling2D((2, 1))(x)\n",
        "x = Dropout(0.25)(x)\n",
        "\n",
        "# Residual blocks\n",
        "x = residual_block(x, 32)\n",
        "x = residual_block(x, 32)\n",
        "x = residual_block(x, 32)\n",
        "\n",
        "x = Conv2D(64, (3, 1), activation='relu')(x)\n",
        "x = MaxPooling2D((2, 1))(x)\n",
        "x = Dropout(0.25)(x)\n",
        "\n",
        "# More residual blocks\n",
        "x = residual_block(x, 64)\n",
        "x = residual_block(x, 64)\n",
        "x = residual_block(x, 64)\n",
        "\n",
        "x = Flatten()(x)\n",
        "\n",
        "x = Dense(128, activation='relu')(x)\n",
        "x = Dropout(0.5)(x)\n",
        "outputs = Dense(6, activation='softmax')(x)\n",
        "\n",
        "\n",
        "model = Model(inputs=inputs, outputs=outputs)\n",
        "\n",
        "\n",
        "model.compile(optimizer=Adam(), loss='sparse_categorical_crossentropy', metrics=['accuracy'])\n",
        "\n",
        "\n",
        "model.fit(X_train, y_train, epochs=25, batch_size=32, validation_data=(X_test, y_test))\n",
        "\n",
        "loss, accuracy = model.evaluate(X_test, y_test)\n",
        "print(f'Test loss: {loss:.4f}')\n",
        "print(f'Test accuracy: {accuracy:.4f}')\n"
      ]
    },
    {
      "cell_type": "markdown",
      "source": [
        "# XgBoost"
      ],
      "metadata": {
        "id": "9xkIw3CM-rwY"
      }
    },
    {
      "cell_type": "code",
      "source": [
        "import xgboost as xgb\n",
        "\n",
        "default_params = xgb.XGBClassifier().get_params()\n",
        "print(default_params)\n"
      ],
      "metadata": {
        "colab": {
          "base_uri": "https://localhost:8080/"
        },
        "id": "QBkQxwD1lPdN",
        "outputId": "5c6df085-1c90-45fd-f621-1b528fe808ca"
      },
      "execution_count": null,
      "outputs": [
        {
          "output_type": "stream",
          "name": "stdout",
          "text": [
            "{'objective': 'binary:logistic', 'base_score': None, 'booster': None, 'callbacks': None, 'colsample_bylevel': None, 'colsample_bynode': None, 'colsample_bytree': None, 'device': None, 'early_stopping_rounds': None, 'enable_categorical': False, 'eval_metric': None, 'feature_types': None, 'gamma': None, 'grow_policy': None, 'importance_type': None, 'interaction_constraints': None, 'learning_rate': None, 'max_bin': None, 'max_cat_threshold': None, 'max_cat_to_onehot': None, 'max_delta_step': None, 'max_depth': None, 'max_leaves': None, 'min_child_weight': None, 'missing': nan, 'monotone_constraints': None, 'multi_strategy': None, 'n_estimators': None, 'n_jobs': None, 'num_parallel_tree': None, 'random_state': None, 'reg_alpha': None, 'reg_lambda': None, 'sampling_method': None, 'scale_pos_weight': None, 'subsample': None, 'tree_method': None, 'validate_parameters': None, 'verbosity': None}\n"
          ]
        }
      ]
    },
    {
      "cell_type": "code",
      "execution_count": null,
      "metadata": {
        "colab": {
          "base_uri": "https://localhost:8080/"
        },
        "id": "5mysgMx2M-8Y",
        "outputId": "04387fc4-571e-4168-8944-f6d9ff860de0"
      },
      "outputs": [
        {
          "output_type": "execute_result",
          "data": {
            "text/plain": [
              "0.684"
            ]
          },
          "metadata": {},
          "execution_count": 51
        }
      ],
      "source": [
        "import numpy as np\n",
        "import matplotlib.pyplot as plt\n",
        "import pandas as pd\n",
        "\n",
        "from sklearn.metrics import accuracy_score\n",
        "from sklearn.decomposition import PCA\n",
        "\n",
        "\n",
        "\n",
        "df_feats=pd.read_csv('/content/df_feats_rav.csv')\n",
        "X = df_feats.iloc[:, 1:-1]\n",
        "#X_hash=df_feats.iloc[:, 25:-1]\n",
        "#X=pd.concat([X, X_hash] , axis=1)\n",
        "y = df_feats.iloc[:, -1]\n",
        "\n",
        "\n",
        "\n",
        "X_train, X_test, y_train, y_test = train_test_split(X, y, test_size=0.2, random_state=42)\n",
        "\n",
        "from xgboost import XGBClassifier\n",
        "classifier = XGBClassifier()\n",
        "classifier.fit(X_train, y_train)\n",
        "\n",
        "y_pred = classifier.predict(X_test)\n",
        "\n",
        "accuracy_score(y_test, y_pred)"
      ]
    },
    {
      "cell_type": "code",
      "source": [
        "import pandas as pd\n",
        "import numpy as np\n",
        "from sklearn.model_selection import train_test_split, RandomizedSearchCV\n",
        "from sklearn.preprocessing import StandardScaler\n",
        "from xgboost import XGBClassifier\n",
        "from sklearn.metrics import accuracy_score\n",
        "\n",
        "# Load data (replace with your data loading code)\n",
        "df_feats = pd.read_csv('/content/df_feats (1).csv')\n",
        "X = df_feats.iloc[:, 1:41].values\n",
        "y = df_feats.iloc[:, -1].values\n",
        "\n",
        "# Split data\n",
        "X_train, X_test, y_train, y_test = train_test_split(X, y, test_size=0.2, random_state=0)\n",
        "\n",
        "# Standardize features\n",
        "scaler = StandardScaler()\n",
        "X_train = scaler.fit_transform(X_train)\n",
        "X_test = scaler.transform(X_test)\n",
        "\n",
        "# Define the parameter distribution\n",
        "param_dist = {\n",
        "    'learning_rate': [0.01, 0.1],\n",
        "    'max_depth': [3, 5, 7],\n",
        "    'min_child_weight': [1, 3, 5],\n",
        "    'subsample': [0.5, 0.7, 1.0],\n",
        "    'colsample_bytree': [0.5, 0.7, 1.0],\n",
        "    'gamma': [0, 0.1, 0.3],\n",
        "    'n_estimators': [100, 200, 300]\n",
        "}\n",
        "\n",
        "# Initialize the XGBoost model\n",
        "xgb_model = XGBClassifier(tree_method='gpu_hist', use_label_encoder=False)\n",
        "\n",
        "# Perform randomized search\n",
        "random_search = RandomizedSearchCV(estimator=xgb_model, param_distributions=param_dist, n_iter=10, scoring='accuracy', cv=3, verbose=1, random_state=0, n_jobs=-1)\n",
        "random_search.fit(X_train, y_train, eval_set=[(X_test, y_test)], eval_metric='mlogloss', early_stopping_rounds=10)\n",
        "\n",
        "# Best parameters\n",
        "print(\"Best parameters found: \", random_search.best_params_)\n",
        "\n",
        "# Train the model with best parameters\n",
        "best_model = random_search.best_estimator_\n",
        "best_model.fit(X_train, y_train)\n",
        "\n",
        "# Predict and evaluate\n",
        "y_pred = best_model.predict(X_test)\n",
        "accuracy = accuracy_score(y_test, y_pred)\n",
        "print(f'Test accuracy: {accuracy:.4f}')\n"
      ],
      "metadata": {
        "colab": {
          "base_uri": "https://localhost:8080/"
        },
        "id": "Zmq8jKorlvIJ",
        "outputId": "71ebbdac-288d-4da3-9d71-90f1e1efd181"
      },
      "execution_count": null,
      "outputs": [
        {
          "output_type": "stream",
          "name": "stdout",
          "text": [
            "Fitting 3 folds for each of 10 candidates, totalling 30 fits\n"
          ]
        },
        {
          "output_type": "stream",
          "name": "stderr",
          "text": [
            "/usr/local/lib/python3.10/dist-packages/xgboost/sklearn.py:889: UserWarning: `eval_metric` in `fit` method is deprecated for better compatibility with scikit-learn, use `eval_metric` in constructor or`set_params` instead.\n",
            "  warnings.warn(\n",
            "/usr/local/lib/python3.10/dist-packages/xgboost/sklearn.py:889: UserWarning: `early_stopping_rounds` in `fit` method is deprecated for better compatibility with scikit-learn, use `early_stopping_rounds` in constructor or`set_params` instead.\n",
            "  warnings.warn(\n",
            "/usr/local/lib/python3.10/dist-packages/xgboost/core.py:160: UserWarning: [10:37:50] WARNING: /workspace/src/common/error_msg.cc:27: The tree method `gpu_hist` is deprecated since 2.0.0. To use GPU training, set the `device` parameter to CUDA instead.\n",
            "\n",
            "    E.g. tree_method = \"hist\", device = \"cuda\"\n",
            "\n",
            "  warnings.warn(smsg, UserWarning)\n"
          ]
        },
        {
          "output_type": "stream",
          "name": "stdout",
          "text": [
            "[0]\tvalidation_0-mlogloss:1.73077\n",
            "[1]\tvalidation_0-mlogloss:1.67407\n",
            "[2]\tvalidation_0-mlogloss:1.62996\n",
            "[3]\tvalidation_0-mlogloss:1.58596\n",
            "[4]\tvalidation_0-mlogloss:1.54820\n",
            "[5]\tvalidation_0-mlogloss:1.51558\n",
            "[6]\tvalidation_0-mlogloss:1.48693\n",
            "[7]\tvalidation_0-mlogloss:1.46348\n",
            "[8]\tvalidation_0-mlogloss:1.43948\n",
            "[9]\tvalidation_0-mlogloss:1.41805\n",
            "[10]\tvalidation_0-mlogloss:1.39810\n",
            "[11]\tvalidation_0-mlogloss:1.37949\n",
            "[12]\tvalidation_0-mlogloss:1.36152\n",
            "[13]\tvalidation_0-mlogloss:1.34675\n",
            "[14]\tvalidation_0-mlogloss:1.33211\n",
            "[15]\tvalidation_0-mlogloss:1.31930\n",
            "[16]\tvalidation_0-mlogloss:1.30753\n",
            "[17]\tvalidation_0-mlogloss:1.29539\n",
            "[18]\tvalidation_0-mlogloss:1.28403\n",
            "[19]\tvalidation_0-mlogloss:1.27402\n",
            "[20]\tvalidation_0-mlogloss:1.26517\n",
            "[21]\tvalidation_0-mlogloss:1.25648\n",
            "[22]\tvalidation_0-mlogloss:1.24884\n",
            "[23]\tvalidation_0-mlogloss:1.24052\n",
            "[24]\tvalidation_0-mlogloss:1.23313\n",
            "[25]\tvalidation_0-mlogloss:1.22596\n",
            "[26]\tvalidation_0-mlogloss:1.21936\n",
            "[27]\tvalidation_0-mlogloss:1.21317\n",
            "[28]\tvalidation_0-mlogloss:1.20786\n",
            "[29]\tvalidation_0-mlogloss:1.20140\n",
            "[30]\tvalidation_0-mlogloss:1.19552\n",
            "[31]\tvalidation_0-mlogloss:1.19085\n",
            "[32]\tvalidation_0-mlogloss:1.18595\n",
            "[33]\tvalidation_0-mlogloss:1.18080\n",
            "[34]\tvalidation_0-mlogloss:1.17601\n",
            "[35]\tvalidation_0-mlogloss:1.17186\n",
            "[36]\tvalidation_0-mlogloss:1.16700\n",
            "[37]\tvalidation_0-mlogloss:1.16395\n",
            "[38]\tvalidation_0-mlogloss:1.15986\n",
            "[39]\tvalidation_0-mlogloss:1.15655\n",
            "[40]\tvalidation_0-mlogloss:1.15247\n",
            "[41]\tvalidation_0-mlogloss:1.14952\n",
            "[42]\tvalidation_0-mlogloss:1.14627\n",
            "[43]\tvalidation_0-mlogloss:1.14248\n",
            "[44]\tvalidation_0-mlogloss:1.13942\n",
            "[45]\tvalidation_0-mlogloss:1.13664\n",
            "[46]\tvalidation_0-mlogloss:1.13458\n",
            "[47]\tvalidation_0-mlogloss:1.13195\n",
            "[48]\tvalidation_0-mlogloss:1.12919\n",
            "[49]\tvalidation_0-mlogloss:1.12635\n",
            "[50]\tvalidation_0-mlogloss:1.12435\n",
            "[51]\tvalidation_0-mlogloss:1.12168\n",
            "[52]\tvalidation_0-mlogloss:1.11898\n",
            "[53]\tvalidation_0-mlogloss:1.11659\n",
            "[54]\tvalidation_0-mlogloss:1.11450\n",
            "[55]\tvalidation_0-mlogloss:1.11236\n",
            "[56]\tvalidation_0-mlogloss:1.11004\n",
            "[57]\tvalidation_0-mlogloss:1.10808\n",
            "[58]\tvalidation_0-mlogloss:1.10609\n",
            "[59]\tvalidation_0-mlogloss:1.10394\n",
            "[60]\tvalidation_0-mlogloss:1.10277\n",
            "[61]\tvalidation_0-mlogloss:1.10080\n",
            "[62]\tvalidation_0-mlogloss:1.09838\n",
            "[63]\tvalidation_0-mlogloss:1.09611\n",
            "[64]\tvalidation_0-mlogloss:1.09439\n",
            "[65]\tvalidation_0-mlogloss:1.09206\n",
            "[66]\tvalidation_0-mlogloss:1.09140\n",
            "[67]\tvalidation_0-mlogloss:1.08938\n",
            "[68]\tvalidation_0-mlogloss:1.08800\n",
            "[69]\tvalidation_0-mlogloss:1.08632\n",
            "[70]\tvalidation_0-mlogloss:1.08446\n",
            "[71]\tvalidation_0-mlogloss:1.08303\n",
            "[72]\tvalidation_0-mlogloss:1.08178\n",
            "[73]\tvalidation_0-mlogloss:1.08098\n",
            "[74]\tvalidation_0-mlogloss:1.07950\n",
            "[75]\tvalidation_0-mlogloss:1.07826\n",
            "[76]\tvalidation_0-mlogloss:1.07735\n",
            "[77]\tvalidation_0-mlogloss:1.07597\n",
            "[78]\tvalidation_0-mlogloss:1.07434\n",
            "[79]\tvalidation_0-mlogloss:1.07315\n",
            "[80]\tvalidation_0-mlogloss:1.07239\n",
            "[81]\tvalidation_0-mlogloss:1.07145\n",
            "[82]\tvalidation_0-mlogloss:1.07058\n",
            "[83]\tvalidation_0-mlogloss:1.06916\n",
            "[84]\tvalidation_0-mlogloss:1.06829\n",
            "[85]\tvalidation_0-mlogloss:1.06710\n",
            "[86]\tvalidation_0-mlogloss:1.06626\n",
            "[87]\tvalidation_0-mlogloss:1.06591\n",
            "[88]\tvalidation_0-mlogloss:1.06467\n",
            "[89]\tvalidation_0-mlogloss:1.06342\n",
            "[90]\tvalidation_0-mlogloss:1.06275\n",
            "[91]\tvalidation_0-mlogloss:1.06139\n",
            "[92]\tvalidation_0-mlogloss:1.06059\n",
            "[93]\tvalidation_0-mlogloss:1.05996\n",
            "[94]\tvalidation_0-mlogloss:1.05947\n",
            "[95]\tvalidation_0-mlogloss:1.05804\n",
            "[96]\tvalidation_0-mlogloss:1.05737\n",
            "[97]\tvalidation_0-mlogloss:1.05660\n",
            "[98]\tvalidation_0-mlogloss:1.05565\n",
            "[99]\tvalidation_0-mlogloss:1.05431\n",
            "[100]\tvalidation_0-mlogloss:1.05342\n",
            "[101]\tvalidation_0-mlogloss:1.05295\n",
            "[102]\tvalidation_0-mlogloss:1.05213\n",
            "[103]\tvalidation_0-mlogloss:1.05148\n",
            "[104]\tvalidation_0-mlogloss:1.05048\n",
            "[105]\tvalidation_0-mlogloss:1.04951\n",
            "[106]\tvalidation_0-mlogloss:1.04835\n",
            "[107]\tvalidation_0-mlogloss:1.04721\n",
            "[108]\tvalidation_0-mlogloss:1.04600\n",
            "[109]\tvalidation_0-mlogloss:1.04490\n",
            "[110]\tvalidation_0-mlogloss:1.04436\n",
            "[111]\tvalidation_0-mlogloss:1.04389\n",
            "[112]\tvalidation_0-mlogloss:1.04334\n",
            "[113]\tvalidation_0-mlogloss:1.04243\n",
            "[114]\tvalidation_0-mlogloss:1.04155\n",
            "[115]\tvalidation_0-mlogloss:1.04097\n",
            "[116]\tvalidation_0-mlogloss:1.04072\n",
            "[117]\tvalidation_0-mlogloss:1.04042\n",
            "[118]\tvalidation_0-mlogloss:1.03977\n",
            "[119]\tvalidation_0-mlogloss:1.03889\n",
            "[120]\tvalidation_0-mlogloss:1.03842\n",
            "[121]\tvalidation_0-mlogloss:1.03779\n",
            "[122]\tvalidation_0-mlogloss:1.03666\n",
            "[123]\tvalidation_0-mlogloss:1.03629\n",
            "[124]\tvalidation_0-mlogloss:1.03628\n",
            "[125]\tvalidation_0-mlogloss:1.03584\n",
            "[126]\tvalidation_0-mlogloss:1.03495\n",
            "[127]\tvalidation_0-mlogloss:1.03471\n",
            "[128]\tvalidation_0-mlogloss:1.03447\n",
            "[129]\tvalidation_0-mlogloss:1.03449\n",
            "[130]\tvalidation_0-mlogloss:1.03428\n",
            "[131]\tvalidation_0-mlogloss:1.03401\n",
            "[132]\tvalidation_0-mlogloss:1.03352\n",
            "[133]\tvalidation_0-mlogloss:1.03267\n",
            "[134]\tvalidation_0-mlogloss:1.03245\n",
            "[135]\tvalidation_0-mlogloss:1.03262\n",
            "[136]\tvalidation_0-mlogloss:1.03177\n",
            "[137]\tvalidation_0-mlogloss:1.03166\n",
            "[138]\tvalidation_0-mlogloss:1.03128\n",
            "[139]\tvalidation_0-mlogloss:1.03122\n",
            "[140]\tvalidation_0-mlogloss:1.03055\n",
            "[141]\tvalidation_0-mlogloss:1.02985\n",
            "[142]\tvalidation_0-mlogloss:1.02948\n",
            "[143]\tvalidation_0-mlogloss:1.02870\n",
            "[144]\tvalidation_0-mlogloss:1.02841\n",
            "[145]\tvalidation_0-mlogloss:1.02785\n",
            "[146]\tvalidation_0-mlogloss:1.02714\n",
            "[147]\tvalidation_0-mlogloss:1.02613\n",
            "[148]\tvalidation_0-mlogloss:1.02526\n",
            "[149]\tvalidation_0-mlogloss:1.02443\n",
            "[150]\tvalidation_0-mlogloss:1.02380\n",
            "[151]\tvalidation_0-mlogloss:1.02328\n",
            "[152]\tvalidation_0-mlogloss:1.02321\n",
            "[153]\tvalidation_0-mlogloss:1.02270\n",
            "[154]\tvalidation_0-mlogloss:1.02202\n",
            "[155]\tvalidation_0-mlogloss:1.02129\n",
            "[156]\tvalidation_0-mlogloss:1.02084\n",
            "[157]\tvalidation_0-mlogloss:1.02079\n",
            "[158]\tvalidation_0-mlogloss:1.02036\n",
            "[159]\tvalidation_0-mlogloss:1.01990\n",
            "[160]\tvalidation_0-mlogloss:1.01936\n",
            "[161]\tvalidation_0-mlogloss:1.01898\n",
            "[162]\tvalidation_0-mlogloss:1.01880\n",
            "[163]\tvalidation_0-mlogloss:1.01856\n",
            "[164]\tvalidation_0-mlogloss:1.01841\n",
            "[165]\tvalidation_0-mlogloss:1.01772\n",
            "[166]\tvalidation_0-mlogloss:1.01741\n",
            "[167]\tvalidation_0-mlogloss:1.01644\n",
            "[168]\tvalidation_0-mlogloss:1.01615\n",
            "[169]\tvalidation_0-mlogloss:1.01606\n",
            "[170]\tvalidation_0-mlogloss:1.01529\n",
            "[171]\tvalidation_0-mlogloss:1.01506\n",
            "[172]\tvalidation_0-mlogloss:1.01473\n",
            "[173]\tvalidation_0-mlogloss:1.01445\n",
            "[174]\tvalidation_0-mlogloss:1.01375\n",
            "[175]\tvalidation_0-mlogloss:1.01343\n",
            "[176]\tvalidation_0-mlogloss:1.01333\n",
            "[177]\tvalidation_0-mlogloss:1.01291\n",
            "[178]\tvalidation_0-mlogloss:1.01237\n",
            "[179]\tvalidation_0-mlogloss:1.01212\n",
            "[180]\tvalidation_0-mlogloss:1.01169\n",
            "[181]\tvalidation_0-mlogloss:1.01116\n",
            "[182]\tvalidation_0-mlogloss:1.01060\n",
            "[183]\tvalidation_0-mlogloss:1.01032\n",
            "[184]\tvalidation_0-mlogloss:1.01051\n",
            "[185]\tvalidation_0-mlogloss:1.00997\n",
            "[186]\tvalidation_0-mlogloss:1.00984\n",
            "[187]\tvalidation_0-mlogloss:1.00950\n",
            "[188]\tvalidation_0-mlogloss:1.00912\n",
            "[189]\tvalidation_0-mlogloss:1.00855\n",
            "[190]\tvalidation_0-mlogloss:1.00781\n",
            "[191]\tvalidation_0-mlogloss:1.00782\n",
            "[192]\tvalidation_0-mlogloss:1.00786\n",
            "[193]\tvalidation_0-mlogloss:1.00808\n",
            "[194]\tvalidation_0-mlogloss:1.00794\n",
            "[195]\tvalidation_0-mlogloss:1.00793\n",
            "[196]\tvalidation_0-mlogloss:1.00759\n",
            "[197]\tvalidation_0-mlogloss:1.00735\n",
            "[198]\tvalidation_0-mlogloss:1.00720\n",
            "[199]\tvalidation_0-mlogloss:1.00712\n",
            "Best parameters found:  {'subsample': 1.0, 'n_estimators': 200, 'min_child_weight': 1, 'max_depth': 5, 'learning_rate': 0.1, 'gamma': 0, 'colsample_bytree': 0.7}\n"
          ]
        },
        {
          "output_type": "stream",
          "name": "stderr",
          "text": [
            "/usr/local/lib/python3.10/dist-packages/xgboost/core.py:160: UserWarning: [10:37:54] WARNING: /workspace/src/common/error_msg.cc:27: The tree method `gpu_hist` is deprecated since 2.0.0. To use GPU training, set the `device` parameter to CUDA instead.\n",
            "\n",
            "    E.g. tree_method = \"hist\", device = \"cuda\"\n",
            "\n",
            "  warnings.warn(smsg, UserWarning)\n"
          ]
        },
        {
          "output_type": "stream",
          "name": "stdout",
          "text": [
            "Test accuracy: 0.5999\n"
          ]
        },
        {
          "output_type": "stream",
          "name": "stderr",
          "text": [
            "/usr/local/lib/python3.10/dist-packages/xgboost/core.py:160: UserWarning: [10:37:56] WARNING: /workspace/src/common/error_msg.cc:27: The tree method `gpu_hist` is deprecated since 2.0.0. To use GPU training, set the `device` parameter to CUDA instead.\n",
            "\n",
            "    E.g. tree_method = \"hist\", device = \"cuda\"\n",
            "\n",
            "  warnings.warn(smsg, UserWarning)\n",
            "/usr/local/lib/python3.10/dist-packages/xgboost/core.py:160: UserWarning: [10:37:56] WARNING: /workspace/src/common/error_msg.cc:58: Falling back to prediction using DMatrix due to mismatched devices. This might lead to higher memory usage and slower performance. XGBoost is running on: cuda:0, while the input data is on: cpu.\n",
            "Potential solutions:\n",
            "- Use a data structure that matches the device ordinal in the booster.\n",
            "- Set the device for booster before call to inplace_predict.\n",
            "\n",
            "This warning will only be shown once.\n",
            "\n",
            "  warnings.warn(smsg, UserWarning)\n"
          ]
        }
      ]
    },
    {
      "cell_type": "markdown",
      "source": [
        "#DenseNet"
      ],
      "metadata": {
        "id": "1uI_gnXB-x2T"
      }
    },
    {
      "cell_type": "code",
      "execution_count": null,
      "metadata": {
        "colab": {
          "base_uri": "https://localhost:8080/"
        },
        "id": "EMIc-r0fPBU_",
        "outputId": "8a9708c0-b150-49b4-b995-457141a3f859"
      },
      "outputs": [
        {
          "output_type": "stream",
          "name": "stdout",
          "text": [
            "Epoch 1/25\n",
            "288/288 [==============================] - 18s 21ms/step - loss: 1.7248 - accuracy: 0.2641 - val_loss: 1.4737 - val_accuracy: 0.3866\n",
            "Epoch 2/25\n",
            "288/288 [==============================] - 7s 25ms/step - loss: 1.4596 - accuracy: 0.3961 - val_loss: 1.2646 - val_accuracy: 0.4787\n",
            "Epoch 3/25\n",
            "288/288 [==============================] - 5s 16ms/step - loss: 1.3283 - accuracy: 0.4585 - val_loss: 1.2167 - val_accuracy: 0.5030\n",
            "Epoch 4/25\n",
            "288/288 [==============================] - 5s 16ms/step - loss: 1.2810 - accuracy: 0.4735 - val_loss: 1.1739 - val_accuracy: 0.5091\n",
            "Epoch 5/25\n",
            "288/288 [==============================] - 7s 26ms/step - loss: 1.2470 - accuracy: 0.4946 - val_loss: 1.2286 - val_accuracy: 0.5052\n",
            "Epoch 6/25\n",
            "288/288 [==============================] - 5s 16ms/step - loss: 1.2262 - accuracy: 0.5047 - val_loss: 1.2771 - val_accuracy: 0.4952\n",
            "Epoch 7/25\n",
            "288/288 [==============================] - 5s 16ms/step - loss: 1.2131 - accuracy: 0.5140 - val_loss: 1.1426 - val_accuracy: 0.5213\n",
            "Epoch 8/25\n",
            "288/288 [==============================] - 7s 26ms/step - loss: 1.1946 - accuracy: 0.5160 - val_loss: 1.1301 - val_accuracy: 0.5382\n",
            "Epoch 9/25\n",
            "288/288 [==============================] - 5s 17ms/step - loss: 1.1830 - accuracy: 0.5192 - val_loss: 1.1753 - val_accuracy: 0.5248\n",
            "Epoch 10/25\n",
            "288/288 [==============================] - 5s 16ms/step - loss: 1.1639 - accuracy: 0.5295 - val_loss: 1.1214 - val_accuracy: 0.5474\n",
            "Epoch 11/25\n",
            "288/288 [==============================] - 7s 25ms/step - loss: 1.1600 - accuracy: 0.5314 - val_loss: 1.1452 - val_accuracy: 0.5321\n",
            "Epoch 12/25\n",
            "288/288 [==============================] - 5s 17ms/step - loss: 1.1368 - accuracy: 0.5434 - val_loss: 1.1062 - val_accuracy: 0.5543\n",
            "Epoch 13/25\n",
            "288/288 [==============================] - 5s 17ms/step - loss: 1.1194 - accuracy: 0.5427 - val_loss: 1.1308 - val_accuracy: 0.5447\n",
            "Epoch 14/25\n",
            "288/288 [==============================] - 7s 25ms/step - loss: 1.1123 - accuracy: 0.5550 - val_loss: 1.1101 - val_accuracy: 0.5552\n",
            "Epoch 15/25\n",
            "288/288 [==============================] - 5s 17ms/step - loss: 1.1101 - accuracy: 0.5506 - val_loss: 1.0974 - val_accuracy: 0.5639\n",
            "Epoch 16/25\n",
            "288/288 [==============================] - 6s 21ms/step - loss: 1.0931 - accuracy: 0.5637 - val_loss: 1.1147 - val_accuracy: 0.5591\n",
            "Epoch 17/25\n",
            "288/288 [==============================] - 7s 23ms/step - loss: 1.0862 - accuracy: 0.5692 - val_loss: 1.1107 - val_accuracy: 0.5504\n",
            "Epoch 18/25\n",
            "288/288 [==============================] - 5s 17ms/step - loss: 1.0675 - accuracy: 0.5678 - val_loss: 1.1192 - val_accuracy: 0.5760\n",
            "Epoch 19/25\n",
            "288/288 [==============================] - 7s 25ms/step - loss: 1.0551 - accuracy: 0.5841 - val_loss: 1.0920 - val_accuracy: 0.5682\n",
            "Epoch 20/25\n",
            "288/288 [==============================] - 6s 19ms/step - loss: 1.0506 - accuracy: 0.5816 - val_loss: 1.1360 - val_accuracy: 0.5452\n",
            "Epoch 21/25\n",
            "288/288 [==============================] - 5s 17ms/step - loss: 1.0316 - accuracy: 0.5862 - val_loss: 1.0926 - val_accuracy: 0.5673\n",
            "Epoch 22/25\n",
            "288/288 [==============================] - 7s 26ms/step - loss: 1.0257 - accuracy: 0.5899 - val_loss: 1.0869 - val_accuracy: 0.5682\n",
            "Epoch 23/25\n",
            "288/288 [==============================] - 5s 16ms/step - loss: 1.0117 - accuracy: 0.5985 - val_loss: 1.0937 - val_accuracy: 0.5712\n",
            "Epoch 24/25\n",
            "288/288 [==============================] - 5s 16ms/step - loss: 0.9967 - accuracy: 0.6055 - val_loss: 1.1122 - val_accuracy: 0.5691\n",
            "Epoch 25/25\n",
            "288/288 [==============================] - 8s 26ms/step - loss: 0.9907 - accuracy: 0.6005 - val_loss: 1.0798 - val_accuracy: 0.5765\n",
            "72/72 [==============================] - 0s 6ms/step - loss: 1.0798 - accuracy: 0.5765\n",
            "Test loss: 1.0798\n",
            "Test accuracy: 0.5765\n"
          ]
        }
      ],
      "source": [
        "import pandas as pd\n",
        "import numpy as np\n",
        "from sklearn.model_selection import train_test_split\n",
        "from sklearn.preprocessing import StandardScaler\n",
        "from tensorflow.keras.models import Model\n",
        "from tensorflow.keras.layers import Conv2D, MaxPooling2D, Flatten, Dense, Dropout, Input, Concatenate, BatchNormalization, Activation, GlobalAveragePooling2D\n",
        "from tensorflow.keras.optimizers import Adam\n",
        "\n",
        "\n",
        "df_feats = pd.read_csv('/content/df_feats.csv')\n",
        "\n",
        "X = df_feats.iloc[:, 1:41].values\n",
        "y = df_feats.iloc[:, -1].values\n",
        "\n",
        "X_train, X_test, y_train, y_test = train_test_split(X, y, test_size=0.2, random_state=0)\n",
        "\n",
        "scaler = StandardScaler()\n",
        "X_train = scaler.fit_transform(X_train)\n",
        "X_test = scaler.transform(X_test)\n",
        "\n",
        "X_train = X_train.reshape(X_train.shape[0], X_train.shape[1], 1)\n",
        "X_test = X_test.reshape(X_test.shape[0], X_test.shape[1], 1)\n",
        "X = X.reshape(X.shape[0], X.shape[1], 1)\n",
        "\n",
        "# Define a dense block\n",
        "def dense_block(x, num_layers, growth_rate, dropout_rate=0.2):\n",
        "    for i in range(num_layers):\n",
        "        y = BatchNormalization()(x)\n",
        "        y = Activation('relu')(y)\n",
        "        y = Conv2D(growth_rate, (3, 1), padding='same')(y)\n",
        "        y = Dropout(dropout_rate)(y)\n",
        "        x = Concatenate()([x, y])\n",
        "    return x\n",
        "\n",
        "# Define a transition layer\n",
        "def transition_layer(x, compression_factor=0.5):\n",
        "    num_filters = int(x.shape[-1] * compression_factor)\n",
        "    x = BatchNormalization()(x)\n",
        "    x = Conv2D(num_filters, (1, 1), padding='same')(x)\n",
        "    x = MaxPooling2D((2, 1))(x)\n",
        "    return x\n",
        "\n",
        "# Build DenseNet model\n",
        "input_shape = (X.shape[1], X.shape[2], 1)\n",
        "inputs = Input(shape=input_shape)\n",
        "\n",
        "x = Conv2D(32, (3, 1), padding='same', activation='relu')(inputs)\n",
        "x = MaxPooling2D((2, 1))(x)\n",
        "\n",
        "x = dense_block(x, num_layers=4, growth_rate=16)\n",
        "x = transition_layer(x)\n",
        "\n",
        "x = dense_block(x, num_layers=4, growth_rate=32)\n",
        "x = transition_layer(x)\n",
        "\n",
        "x = dense_block(x, num_layers=4, growth_rate=64)\n",
        "\n",
        "x = GlobalAveragePooling2D()(x)\n",
        "x = Dense(128, activation='relu')(x)\n",
        "x = Dropout(0.5)(x)\n",
        "outputs = Dense(6, activation='softmax')(x)\n",
        "\n",
        "model = Model(inputs=inputs, outputs=outputs)\n",
        "\n",
        "model.compile(optimizer=Adam(), loss='sparse_categorical_crossentropy', metrics=['accuracy'])\n",
        "\n",
        "model.fit(X_train, y_train, epochs=25, batch_size=32, validation_data=(X_test, y_test))\n",
        "\n",
        "loss, accuracy = model.evaluate(X_test, y_test)\n",
        "print(f'Test loss: {loss:.4f}')\n",
        "print(f'Test accuracy: {accuracy:.4f}')\n"
      ]
    },
    {
      "cell_type": "markdown",
      "source": [
        "# LSTM"
      ],
      "metadata": {
        "id": "Pl27DiQw-1R_"
      }
    },
    {
      "cell_type": "code",
      "execution_count": null,
      "metadata": {
        "colab": {
          "base_uri": "https://localhost:8080/"
        },
        "id": "FYM7qXl4RGq-",
        "outputId": "b8b7c057-3b29-4dd7-eb9a-1c4b04db6c92"
      },
      "outputs": [
        {
          "output_type": "stream",
          "name": "stdout",
          "text": [
            "Epoch 1/25\n",
            "32/32 [==============================] - 65s 1s/step - loss: 1.6745 - accuracy: 0.2625 - val_loss: 1.6312 - val_accuracy: 0.3160\n",
            "Epoch 2/25\n",
            "32/32 [==============================] - 34s 1s/step - loss: 1.6266 - accuracy: 0.3186 - val_loss: 1.6396 - val_accuracy: 0.3160\n",
            "Epoch 3/25\n",
            "32/32 [==============================] - 33s 1s/step - loss: 1.6264 - accuracy: 0.3357 - val_loss: 1.6222 - val_accuracy: 0.3360\n",
            "Epoch 4/25\n",
            "32/32 [==============================] - 32s 991ms/step - loss: 1.6017 - accuracy: 0.3427 - val_loss: 1.6040 - val_accuracy: 0.3360\n",
            "Epoch 5/25\n",
            "32/32 [==============================] - 35s 1s/step - loss: 1.5679 - accuracy: 0.3477 - val_loss: 1.6646 - val_accuracy: 0.3440\n",
            "Epoch 6/25\n",
            "32/32 [==============================] - 32s 1s/step - loss: 1.5509 - accuracy: 0.3587 - val_loss: 1.6052 - val_accuracy: 0.3320\n",
            "Epoch 7/25\n",
            "32/32 [==============================] - 34s 1s/step - loss: 1.5629 - accuracy: 0.3587 - val_loss: 1.5863 - val_accuracy: 0.3640\n",
            "Epoch 8/25\n",
            "32/32 [==============================] - 33s 1s/step - loss: 1.5409 - accuracy: 0.3707 - val_loss: 1.5860 - val_accuracy: 0.3520\n",
            "Epoch 9/25\n",
            "32/32 [==============================] - 32s 1s/step - loss: 1.5356 - accuracy: 0.3577 - val_loss: 1.5505 - val_accuracy: 0.3880\n",
            "Epoch 10/25\n",
            "32/32 [==============================] - 35s 1s/step - loss: 1.5411 - accuracy: 0.3557 - val_loss: 1.5127 - val_accuracy: 0.3960\n",
            "Epoch 11/25\n",
            "32/32 [==============================] - 33s 1s/step - loss: 1.5156 - accuracy: 0.3798 - val_loss: 1.5897 - val_accuracy: 0.3400\n",
            "Epoch 12/25\n",
            "32/32 [==============================] - 32s 1s/step - loss: 1.5045 - accuracy: 0.3717 - val_loss: 1.5193 - val_accuracy: 0.4000\n",
            "Epoch 13/25\n",
            "32/32 [==============================] - 34s 1s/step - loss: 1.5047 - accuracy: 0.3758 - val_loss: 1.5161 - val_accuracy: 0.4000\n",
            "Epoch 14/25\n",
            "32/32 [==============================] - 39s 1s/step - loss: 1.5009 - accuracy: 0.3878 - val_loss: 1.5141 - val_accuracy: 0.4120\n",
            "Epoch 15/25\n",
            "32/32 [==============================] - 32s 999ms/step - loss: 1.4872 - accuracy: 0.4068 - val_loss: 1.5272 - val_accuracy: 0.3760\n",
            "Epoch 16/25\n",
            "32/32 [==============================] - 32s 1s/step - loss: 1.4834 - accuracy: 0.3958 - val_loss: 1.5520 - val_accuracy: 0.3480\n",
            "Epoch 17/25\n",
            "32/32 [==============================] - 36s 1s/step - loss: 1.4971 - accuracy: 0.3968 - val_loss: 1.5054 - val_accuracy: 0.3960\n",
            "Epoch 18/25\n",
            "32/32 [==============================] - 32s 1s/step - loss: 1.4855 - accuracy: 0.3908 - val_loss: 1.5110 - val_accuracy: 0.3720\n",
            "Epoch 19/25\n",
            "32/32 [==============================] - 35s 1s/step - loss: 1.4670 - accuracy: 0.3988 - val_loss: 1.5078 - val_accuracy: 0.3880\n",
            "Epoch 20/25\n",
            "32/32 [==============================] - 37s 1s/step - loss: 1.4493 - accuracy: 0.3948 - val_loss: 1.4876 - val_accuracy: 0.3920\n",
            "Epoch 21/25\n",
            "32/32 [==============================] - 36s 1s/step - loss: 1.4770 - accuracy: 0.3818 - val_loss: 1.4858 - val_accuracy: 0.4040\n",
            "Epoch 22/25\n",
            "32/32 [==============================] - 32s 1s/step - loss: 1.4555 - accuracy: 0.4128 - val_loss: 1.4771 - val_accuracy: 0.4120\n",
            "Epoch 23/25\n",
            "32/32 [==============================] - 33s 1s/step - loss: 1.4372 - accuracy: 0.4218 - val_loss: 1.5880 - val_accuracy: 0.3960\n",
            "Epoch 24/25\n",
            "32/32 [==============================] - 33s 1s/step - loss: 1.4540 - accuracy: 0.4158 - val_loss: 1.5353 - val_accuracy: 0.3600\n",
            "Epoch 25/25\n",
            "32/32 [==============================] - 32s 1s/step - loss: 1.4485 - accuracy: 0.4158 - val_loss: 1.5109 - val_accuracy: 0.3720\n",
            "8/8 [==============================] - 2s 252ms/step - loss: 1.5109 - accuracy: 0.3720\n",
            "Test loss: 1.5109\n",
            "Test accuracy: 0.3720\n"
          ]
        }
      ],
      "source": [
        "import pandas as pd\n",
        "import numpy as np\n",
        "from sklearn.model_selection import train_test_split\n",
        "from sklearn.preprocessing import StandardScaler\n",
        "from tensorflow.keras.models import Sequential\n",
        "from tensorflow.keras.layers import LSTM, Dense, Dropout, Attention, Input\n",
        "from tensorflow.keras.optimizers import Adam\n",
        "from tensorflow.keras.models import Model\n",
        "\n",
        "\n",
        "df_feats = pd.read_csv('/content/df_feats_rav.csv')\n",
        "\n",
        "X = df_feats.iloc[:, 1:-1].values\n",
        "y = df_feats.iloc[:, -1].values\n",
        "\n",
        "X_train, X_test, y_train, y_test = train_test_split(X, y, test_size=0.2, random_state=0)\n",
        "\n",
        "\n",
        "scaler = StandardScaler()\n",
        "X_train = scaler.fit_transform(X_train)\n",
        "X_test = scaler.transform(X_test)\n",
        "\n",
        "\n",
        "X_train = X_train.reshape(X_train.shape[0], X_train.shape[1], 1)\n",
        "X_test = X_test.reshape(X_test.shape[0], X_test.shape[1], 1)\n",
        "X = X.reshape(X.shape[0], X.shape[1], 1)\n",
        "\n",
        "'''\n",
        "model = Sequential()\n",
        "\n",
        "\n",
        "model.add(LSTM(32, return_sequences=True, input_shape=(X.shape[1], X.shape[2])))\n",
        "\n",
        "model.add(LSTM(64, return_sequences=True))\n",
        "model.add(Dropout(0.25))\n",
        "model.add(LSTM(64, return_sequences=True))\n",
        "model.add(Dropout(0.25))\n",
        "model.add(LSTM(128, return_sequences=True))\n",
        "model.add(Dropout(0.25))\n",
        "\n",
        "model.add(LSTM(256))\n",
        "model.add(Dropout(0.25))\n",
        "\n",
        "\n",
        "model.add(Dense(64, activation='relu'))\n",
        "model.add(Dropout(0.25))\n",
        "\n",
        "\n",
        "\n",
        "model.add(Dense(6, activation='softmax'))\n",
        "\n",
        "\n",
        "\n",
        "model.compile(optimizer=Adam(), loss='sparse_categorical_crossentropy', metrics=['accuracy'])'''\n",
        "# Define the model\n",
        "inputs = Input(shape=(X.shape[1], X.shape[2]))\n",
        "\n",
        "# Stack LSTM layers with return_sequences=True to retain the full sequence\n",
        "x = LSTM(32, return_sequences=True)(inputs)\n",
        "\n",
        "\n",
        "x = LSTM(128, return_sequences=True)(x)\n",
        "x = Dropout(0.25)(x)\n",
        "\n",
        "# Adding the Attention layer to weigh the importance of each time step\n",
        "attention = Attention()([x, x])\n",
        "\n",
        "# Pass the attention output to another LSTM layer\n",
        "x = LSTM(256)(attention)\n",
        "x = Dropout(0.25)(x)\n",
        "\n",
        "# Dense layers for the final classification\n",
        "x = Dense(32, activation='relu')(x)\n",
        "x = Dropout(0.25)(x)\n",
        "outputs = Dense(6, activation='softmax')(x)\n",
        "\n",
        "# Create and compile the model\n",
        "model = Model(inputs=inputs, outputs=outputs)\n",
        "model.compile(optimizer=Adam(), loss='sparse_categorical_crossentropy', metrics=['accuracy'])\n",
        "\n",
        "\n",
        "\n",
        "model.fit(X_train, y_train, epochs=25, batch_size=32, validation_data=(X_test, y_test))\n",
        "\n",
        "\n",
        "loss, accuracy = model.evaluate(X_test, y_test)\n",
        "print(f'Test loss: {loss:.4f}')\n",
        "print(f'Test accuracy: {accuracy:.4f}')\n"
      ]
    },
    {
      "cell_type": "markdown",
      "source": [
        "# This cnn-lstm taken from a place where they did audio classification based on emotion"
      ],
      "metadata": {
        "id": "wbMJZSk8-4Bo"
      }
    },
    {
      "cell_type": "code",
      "source": [
        "import pandas as pd\n",
        "import numpy as np\n",
        "from sklearn.model_selection import train_test_split\n",
        "from sklearn.preprocessing import StandardScaler\n",
        "from tensorflow.keras.models import Sequential\n",
        "from tensorflow.keras.layers import LSTM, Dense, Dropout\n",
        "from tensorflow.keras.optimizers import Adam\n",
        "\n",
        "\n",
        "df_feats = pd.read_csv('/content/df_feats_rav.csv')\n",
        "\n",
        "\n",
        "X = df_feats.iloc[:, 1:41].values\n",
        "y = df_feats.iloc[:, -1].values\n",
        "\n",
        "X_train, X_test, y_train, y_test = train_test_split(X, y, test_size=0.2, random_state=0)\n",
        "\n",
        "scaler = StandardScaler()\n",
        "X_train = scaler.fit_transform(X_train)\n",
        "X_test = scaler.transform(X_test)"
      ],
      "metadata": {
        "id": "Af94Xyxm6FJK"
      },
      "execution_count": null,
      "outputs": []
    },
    {
      "cell_type": "code",
      "source": [
        "x_traincnn =np.expand_dims(X_train, axis=2)\n",
        "x_testcnn= np.expand_dims(X_test, axis=2)\n",
        "x_traincnn.shape, y_train.shape, x_testcnn.shape, y_test.shape\n",
        "#x_testcnn[0]"
      ],
      "metadata": {
        "colab": {
          "base_uri": "https://localhost:8080/"
        },
        "id": "etwcRoej5vY-",
        "outputId": "26b484e4-fd62-40e2-e52d-3b11936949a6"
      },
      "execution_count": null,
      "outputs": [
        {
          "output_type": "execute_result",
          "data": {
            "text/plain": [
              "((998, 40, 1), (998,), (250, 40, 1), (250,))"
            ]
          },
          "metadata": {},
          "execution_count": 43
        }
      ]
    },
    {
      "cell_type": "code",
      "source": [
        "import tensorflow.keras.layers as L\n",
        "\n",
        "model = Sequential([\n",
        "    L.Conv1D(512,kernel_size=5, strides=1,padding='same', activation='relu',input_shape=(X_train.shape[1],1)),\n",
        "    L.BatchNormalization(),\n",
        "    L.MaxPool1D(pool_size=5,strides=2,padding='same'),\n",
        "\n",
        "    L.Conv1D(512,kernel_size=5,strides=1,padding='same',activation='relu'),\n",
        "    L.BatchNormalization(),\n",
        "    L.MaxPool1D(pool_size=5,strides=2,padding='same'),\n",
        "    Dropout(0.2),\n",
        "\n",
        "    L.Conv1D(256,kernel_size=5,strides=1,padding='same',activation='relu'),\n",
        "    L.BatchNormalization(),\n",
        "    L.MaxPool1D(pool_size=5,strides=2,padding='same'),\n",
        "\n",
        "    L.Conv1D(256,kernel_size=3,strides=1,padding='same',activation='relu'),\n",
        "    L.BatchNormalization(),\n",
        "    L.MaxPool1D(pool_size=5,strides=2,padding='same'),\n",
        "    Dropout(0.2),\n",
        "    L.Conv1D(128,kernel_size=3,strides=1,padding='same',activation='relu'),\n",
        "    L.BatchNormalization(),\n",
        "    L.MaxPool1D(pool_size=3,strides=2,padding='same'),\n",
        "    Dropout(0.2),\n",
        "    L.Conv1D(16,kernel_size=3,strides=1,padding='same',activation='relu'),\n",
        "    L.BatchNormalization(),\n",
        "    L.MaxPool1D(pool_size=3,strides=2,padding='same'),\n",
        "    Dropout(0.2),\n",
        "\n",
        "    L.Flatten(),\n",
        "    L.Dense(16,activation='relu'),\n",
        "    L.BatchNormalization(),\n",
        "    L.Dense(16,activation='relu'),\n",
        "    L.BatchNormalization(),\n",
        "    L.Dense(6,activation='softmax')\n",
        "])\n",
        "model.compile(optimizer='adam',loss='sparse_categorical_crossentropy',metrics='accuracy')\n",
        "model.summary()"
      ],
      "metadata": {
        "colab": {
          "base_uri": "https://localhost:8080/"
        },
        "id": "TG7LvJeo5Zcv",
        "outputId": "8a1b2e38-3a78-4e67-88fa-bd282468a86b"
      },
      "execution_count": null,
      "outputs": [
        {
          "output_type": "stream",
          "name": "stdout",
          "text": [
            "Model: \"sequential_1\"\n",
            "_________________________________________________________________\n",
            " Layer (type)                Output Shape              Param #   \n",
            "=================================================================\n",
            " conv1d (Conv1D)             (None, 40, 512)           3072      \n",
            "                                                                 \n",
            " batch_normalization (Batch  (None, 40, 512)           2048      \n",
            " Normalization)                                                  \n",
            "                                                                 \n",
            " max_pooling1d (MaxPooling1  (None, 20, 512)           0         \n",
            " D)                                                              \n",
            "                                                                 \n",
            " conv1d_1 (Conv1D)           (None, 20, 512)           1311232   \n",
            "                                                                 \n",
            " batch_normalization_1 (Bat  (None, 20, 512)           2048      \n",
            " chNormalization)                                                \n",
            "                                                                 \n",
            " max_pooling1d_1 (MaxPoolin  (None, 10, 512)           0         \n",
            " g1D)                                                            \n",
            "                                                                 \n",
            " dropout_4 (Dropout)         (None, 10, 512)           0         \n",
            "                                                                 \n",
            " conv1d_2 (Conv1D)           (None, 10, 256)           655616    \n",
            "                                                                 \n",
            " batch_normalization_2 (Bat  (None, 10, 256)           1024      \n",
            " chNormalization)                                                \n",
            "                                                                 \n",
            " max_pooling1d_2 (MaxPoolin  (None, 5, 256)            0         \n",
            " g1D)                                                            \n",
            "                                                                 \n",
            " conv1d_3 (Conv1D)           (None, 5, 256)            196864    \n",
            "                                                                 \n",
            " batch_normalization_3 (Bat  (None, 5, 256)            1024      \n",
            " chNormalization)                                                \n",
            "                                                                 \n",
            " max_pooling1d_3 (MaxPoolin  (None, 3, 256)            0         \n",
            " g1D)                                                            \n",
            "                                                                 \n",
            " dropout_5 (Dropout)         (None, 3, 256)            0         \n",
            "                                                                 \n",
            " conv1d_4 (Conv1D)           (None, 3, 128)            98432     \n",
            "                                                                 \n",
            " batch_normalization_4 (Bat  (None, 3, 128)            512       \n",
            " chNormalization)                                                \n",
            "                                                                 \n",
            " max_pooling1d_4 (MaxPoolin  (None, 2, 128)            0         \n",
            " g1D)                                                            \n",
            "                                                                 \n",
            " dropout_6 (Dropout)         (None, 2, 128)            0         \n",
            "                                                                 \n",
            " conv1d_5 (Conv1D)           (None, 2, 16)             6160      \n",
            "                                                                 \n",
            " batch_normalization_5 (Bat  (None, 2, 16)             64        \n",
            " chNormalization)                                                \n",
            "                                                                 \n",
            " max_pooling1d_5 (MaxPoolin  (None, 1, 16)             0         \n",
            " g1D)                                                            \n",
            "                                                                 \n",
            " dropout_7 (Dropout)         (None, 1, 16)             0         \n",
            "                                                                 \n",
            " flatten_1 (Flatten)         (None, 16)                0         \n",
            "                                                                 \n",
            " dense_2 (Dense)             (None, 16)                272       \n",
            "                                                                 \n",
            " batch_normalization_6 (Bat  (None, 16)                64        \n",
            " chNormalization)                                                \n",
            "                                                                 \n",
            " dense_3 (Dense)             (None, 16)                272       \n",
            "                                                                 \n",
            " batch_normalization_7 (Bat  (None, 16)                64        \n",
            " chNormalization)                                                \n",
            "                                                                 \n",
            " dense_4 (Dense)             (None, 6)                 102       \n",
            "                                                                 \n",
            "=================================================================\n",
            "Total params: 2278870 (8.69 MB)\n",
            "Trainable params: 2275446 (8.68 MB)\n",
            "Non-trainable params: 3424 (13.38 KB)\n",
            "_________________________________________________________________\n"
          ]
        }
      ]
    },
    {
      "cell_type": "code",
      "source": [
        "from keras.callbacks import ModelCheckpoint, EarlyStopping,ReduceLROnPlateau\n",
        "model_checkpoint = ModelCheckpoint('best_model1_weights.h5', monitor='val_accuracy', save_best_only=True)"
      ],
      "metadata": {
        "id": "lYq5lP2O5mNy"
      },
      "execution_count": null,
      "outputs": []
    },
    {
      "cell_type": "code",
      "source": [
        "early_stop=EarlyStopping(monitor='val_accuracy',mode='auto',patience=5,restore_best_weights=True)\n",
        "lr_reduction=ReduceLROnPlateau(monitor='val_accuracy',patience=3,verbose=1,factor=0.5,min_lr=0.00001)"
      ],
      "metadata": {
        "id": "NezUaNEI53AZ"
      },
      "execution_count": null,
      "outputs": []
    },
    {
      "cell_type": "code",
      "source": [
        "history=model.fit(x_traincnn, y_train, epochs=50, validation_data=(x_testcnn, y_test), batch_size=32,callbacks=[early_stop,lr_reduction,model_checkpoint])\n"
      ],
      "metadata": {
        "colab": {
          "base_uri": "https://localhost:8080/",
          "height": 723
        },
        "id": "pIx4oWw35kbX",
        "outputId": "5dc3d84a-2768-4cb6-ae1a-19c8c383931f"
      },
      "execution_count": null,
      "outputs": [
        {
          "output_type": "stream",
          "name": "stdout",
          "text": [
            "Epoch 1/50\n",
            "32/32 [==============================] - 14s 262ms/step - loss: 2.1044 - accuracy: 0.2244 - val_loss: 1.8081 - val_accuracy: 0.1560 - lr: 0.0010\n",
            "Epoch 2/50\n"
          ]
        },
        {
          "output_type": "stream",
          "name": "stderr",
          "text": [
            "/usr/local/lib/python3.10/dist-packages/keras/src/engine/training.py:3103: UserWarning: You are saving your model as an HDF5 file via `model.save()`. This file format is considered legacy. We recommend using instead the native Keras format, e.g. `model.save('my_model.keras')`.\n",
            "  saving_api.save_model(\n"
          ]
        },
        {
          "output_type": "stream",
          "name": "stdout",
          "text": [
            "32/32 [==============================] - 9s 298ms/step - loss: 1.9211 - accuracy: 0.2325 - val_loss: 1.8400 - val_accuracy: 0.1840 - lr: 0.0010\n",
            "Epoch 3/50\n",
            "32/32 [==============================] - 9s 272ms/step - loss: 1.7859 - accuracy: 0.2745 - val_loss: 1.8251 - val_accuracy: 0.2200 - lr: 0.0010\n",
            "Epoch 4/50\n",
            "32/32 [==============================] - 10s 306ms/step - loss: 1.6935 - accuracy: 0.3086 - val_loss: 2.1377 - val_accuracy: 0.1320 - lr: 0.0010\n",
            "Epoch 5/50\n",
            "32/32 [==============================] - 10s 304ms/step - loss: 1.6927 - accuracy: 0.3206 - val_loss: 1.8295 - val_accuracy: 0.2280 - lr: 0.0010\n",
            "Epoch 6/50\n",
            "32/32 [==============================] - 9s 269ms/step - loss: 1.6543 - accuracy: 0.3357 - val_loss: 2.0172 - val_accuracy: 0.1560 - lr: 0.0010\n",
            "Epoch 7/50\n",
            "32/32 [==============================] - 8s 252ms/step - loss: 1.6464 - accuracy: 0.3327 - val_loss: 1.8708 - val_accuracy: 0.2000 - lr: 0.0010\n",
            "Epoch 8/50\n",
            "32/32 [==============================] - 9s 294ms/step - loss: 1.6057 - accuracy: 0.3657 - val_loss: 1.8638 - val_accuracy: 0.2520 - lr: 0.0010\n",
            "Epoch 9/50\n",
            "32/32 [==============================] - 8s 265ms/step - loss: 1.5653 - accuracy: 0.3737 - val_loss: 1.8284 - val_accuracy: 0.1840 - lr: 0.0010\n",
            "Epoch 10/50\n",
            " 3/32 [=>............................] - ETA: 10s - loss: 1.5013 - accuracy: 0.4688"
          ]
        },
        {
          "output_type": "error",
          "ename": "KeyboardInterrupt",
          "evalue": "",
          "traceback": [
            "\u001b[0;31m---------------------------------------------------------------------------\u001b[0m",
            "\u001b[0;31mKeyboardInterrupt\u001b[0m                         Traceback (most recent call last)",
            "\u001b[0;32m<ipython-input-47-de180c23c6fd>\u001b[0m in \u001b[0;36m<cell line: 1>\u001b[0;34m()\u001b[0m\n\u001b[0;32m----> 1\u001b[0;31m \u001b[0mhistory\u001b[0m\u001b[0;34m=\u001b[0m\u001b[0mmodel\u001b[0m\u001b[0;34m.\u001b[0m\u001b[0mfit\u001b[0m\u001b[0;34m(\u001b[0m\u001b[0mx_traincnn\u001b[0m\u001b[0;34m,\u001b[0m \u001b[0my_train\u001b[0m\u001b[0;34m,\u001b[0m \u001b[0mepochs\u001b[0m\u001b[0;34m=\u001b[0m\u001b[0;36m50\u001b[0m\u001b[0;34m,\u001b[0m \u001b[0mvalidation_data\u001b[0m\u001b[0;34m=\u001b[0m\u001b[0;34m(\u001b[0m\u001b[0mx_testcnn\u001b[0m\u001b[0;34m,\u001b[0m \u001b[0my_test\u001b[0m\u001b[0;34m)\u001b[0m\u001b[0;34m,\u001b[0m \u001b[0mbatch_size\u001b[0m\u001b[0;34m=\u001b[0m\u001b[0;36m32\u001b[0m\u001b[0;34m,\u001b[0m\u001b[0mcallbacks\u001b[0m\u001b[0;34m=\u001b[0m\u001b[0;34m[\u001b[0m\u001b[0mearly_stop\u001b[0m\u001b[0;34m,\u001b[0m\u001b[0mlr_reduction\u001b[0m\u001b[0;34m,\u001b[0m\u001b[0mmodel_checkpoint\u001b[0m\u001b[0;34m]\u001b[0m\u001b[0;34m)\u001b[0m\u001b[0;34m\u001b[0m\u001b[0;34m\u001b[0m\u001b[0m\n\u001b[0m",
            "\u001b[0;32m/usr/local/lib/python3.10/dist-packages/keras/src/utils/traceback_utils.py\u001b[0m in \u001b[0;36merror_handler\u001b[0;34m(*args, **kwargs)\u001b[0m\n\u001b[1;32m     63\u001b[0m         \u001b[0mfiltered_tb\u001b[0m \u001b[0;34m=\u001b[0m \u001b[0;32mNone\u001b[0m\u001b[0;34m\u001b[0m\u001b[0;34m\u001b[0m\u001b[0m\n\u001b[1;32m     64\u001b[0m         \u001b[0;32mtry\u001b[0m\u001b[0;34m:\u001b[0m\u001b[0;34m\u001b[0m\u001b[0;34m\u001b[0m\u001b[0m\n\u001b[0;32m---> 65\u001b[0;31m             \u001b[0;32mreturn\u001b[0m \u001b[0mfn\u001b[0m\u001b[0;34m(\u001b[0m\u001b[0;34m*\u001b[0m\u001b[0margs\u001b[0m\u001b[0;34m,\u001b[0m \u001b[0;34m**\u001b[0m\u001b[0mkwargs\u001b[0m\u001b[0;34m)\u001b[0m\u001b[0;34m\u001b[0m\u001b[0;34m\u001b[0m\u001b[0m\n\u001b[0m\u001b[1;32m     66\u001b[0m         \u001b[0;32mexcept\u001b[0m \u001b[0mException\u001b[0m \u001b[0;32mas\u001b[0m \u001b[0me\u001b[0m\u001b[0;34m:\u001b[0m\u001b[0;34m\u001b[0m\u001b[0;34m\u001b[0m\u001b[0m\n\u001b[1;32m     67\u001b[0m             \u001b[0mfiltered_tb\u001b[0m \u001b[0;34m=\u001b[0m \u001b[0m_process_traceback_frames\u001b[0m\u001b[0;34m(\u001b[0m\u001b[0me\u001b[0m\u001b[0;34m.\u001b[0m\u001b[0m__traceback__\u001b[0m\u001b[0;34m)\u001b[0m\u001b[0;34m\u001b[0m\u001b[0;34m\u001b[0m\u001b[0m\n",
            "\u001b[0;32m/usr/local/lib/python3.10/dist-packages/keras/src/engine/training.py\u001b[0m in \u001b[0;36mfit\u001b[0;34m(self, x, y, batch_size, epochs, verbose, callbacks, validation_split, validation_data, shuffle, class_weight, sample_weight, initial_epoch, steps_per_epoch, validation_steps, validation_batch_size, validation_freq, max_queue_size, workers, use_multiprocessing)\u001b[0m\n\u001b[1;32m   1805\u001b[0m                         ):\n\u001b[1;32m   1806\u001b[0m                             \u001b[0mcallbacks\u001b[0m\u001b[0;34m.\u001b[0m\u001b[0mon_train_batch_begin\u001b[0m\u001b[0;34m(\u001b[0m\u001b[0mstep\u001b[0m\u001b[0;34m)\u001b[0m\u001b[0;34m\u001b[0m\u001b[0;34m\u001b[0m\u001b[0m\n\u001b[0;32m-> 1807\u001b[0;31m                             \u001b[0mtmp_logs\u001b[0m \u001b[0;34m=\u001b[0m \u001b[0mself\u001b[0m\u001b[0;34m.\u001b[0m\u001b[0mtrain_function\u001b[0m\u001b[0;34m(\u001b[0m\u001b[0miterator\u001b[0m\u001b[0;34m)\u001b[0m\u001b[0;34m\u001b[0m\u001b[0;34m\u001b[0m\u001b[0m\n\u001b[0m\u001b[1;32m   1808\u001b[0m                             \u001b[0;32mif\u001b[0m \u001b[0mdata_handler\u001b[0m\u001b[0;34m.\u001b[0m\u001b[0mshould_sync\u001b[0m\u001b[0;34m:\u001b[0m\u001b[0;34m\u001b[0m\u001b[0;34m\u001b[0m\u001b[0m\n\u001b[1;32m   1809\u001b[0m                                 \u001b[0mcontext\u001b[0m\u001b[0;34m.\u001b[0m\u001b[0masync_wait\u001b[0m\u001b[0;34m(\u001b[0m\u001b[0;34m)\u001b[0m\u001b[0;34m\u001b[0m\u001b[0;34m\u001b[0m\u001b[0m\n",
            "\u001b[0;32m/usr/local/lib/python3.10/dist-packages/tensorflow/python/util/traceback_utils.py\u001b[0m in \u001b[0;36merror_handler\u001b[0;34m(*args, **kwargs)\u001b[0m\n\u001b[1;32m    148\u001b[0m     \u001b[0mfiltered_tb\u001b[0m \u001b[0;34m=\u001b[0m \u001b[0;32mNone\u001b[0m\u001b[0;34m\u001b[0m\u001b[0;34m\u001b[0m\u001b[0m\n\u001b[1;32m    149\u001b[0m     \u001b[0;32mtry\u001b[0m\u001b[0;34m:\u001b[0m\u001b[0;34m\u001b[0m\u001b[0;34m\u001b[0m\u001b[0m\n\u001b[0;32m--> 150\u001b[0;31m       \u001b[0;32mreturn\u001b[0m \u001b[0mfn\u001b[0m\u001b[0;34m(\u001b[0m\u001b[0;34m*\u001b[0m\u001b[0margs\u001b[0m\u001b[0;34m,\u001b[0m \u001b[0;34m**\u001b[0m\u001b[0mkwargs\u001b[0m\u001b[0;34m)\u001b[0m\u001b[0;34m\u001b[0m\u001b[0;34m\u001b[0m\u001b[0m\n\u001b[0m\u001b[1;32m    151\u001b[0m     \u001b[0;32mexcept\u001b[0m \u001b[0mException\u001b[0m \u001b[0;32mas\u001b[0m \u001b[0me\u001b[0m\u001b[0;34m:\u001b[0m\u001b[0;34m\u001b[0m\u001b[0;34m\u001b[0m\u001b[0m\n\u001b[1;32m    152\u001b[0m       \u001b[0mfiltered_tb\u001b[0m \u001b[0;34m=\u001b[0m \u001b[0m_process_traceback_frames\u001b[0m\u001b[0;34m(\u001b[0m\u001b[0me\u001b[0m\u001b[0;34m.\u001b[0m\u001b[0m__traceback__\u001b[0m\u001b[0;34m)\u001b[0m\u001b[0;34m\u001b[0m\u001b[0;34m\u001b[0m\u001b[0m\n",
            "\u001b[0;32m/usr/local/lib/python3.10/dist-packages/tensorflow/python/eager/polymorphic_function/polymorphic_function.py\u001b[0m in \u001b[0;36m__call__\u001b[0;34m(self, *args, **kwds)\u001b[0m\n\u001b[1;32m    830\u001b[0m \u001b[0;34m\u001b[0m\u001b[0m\n\u001b[1;32m    831\u001b[0m       \u001b[0;32mwith\u001b[0m \u001b[0mOptionalXlaContext\u001b[0m\u001b[0;34m(\u001b[0m\u001b[0mself\u001b[0m\u001b[0;34m.\u001b[0m\u001b[0m_jit_compile\u001b[0m\u001b[0;34m)\u001b[0m\u001b[0;34m:\u001b[0m\u001b[0;34m\u001b[0m\u001b[0;34m\u001b[0m\u001b[0m\n\u001b[0;32m--> 832\u001b[0;31m         \u001b[0mresult\u001b[0m \u001b[0;34m=\u001b[0m \u001b[0mself\u001b[0m\u001b[0;34m.\u001b[0m\u001b[0m_call\u001b[0m\u001b[0;34m(\u001b[0m\u001b[0;34m*\u001b[0m\u001b[0margs\u001b[0m\u001b[0;34m,\u001b[0m \u001b[0;34m**\u001b[0m\u001b[0mkwds\u001b[0m\u001b[0;34m)\u001b[0m\u001b[0;34m\u001b[0m\u001b[0;34m\u001b[0m\u001b[0m\n\u001b[0m\u001b[1;32m    833\u001b[0m \u001b[0;34m\u001b[0m\u001b[0m\n\u001b[1;32m    834\u001b[0m       \u001b[0mnew_tracing_count\u001b[0m \u001b[0;34m=\u001b[0m \u001b[0mself\u001b[0m\u001b[0;34m.\u001b[0m\u001b[0mexperimental_get_tracing_count\u001b[0m\u001b[0;34m(\u001b[0m\u001b[0;34m)\u001b[0m\u001b[0;34m\u001b[0m\u001b[0;34m\u001b[0m\u001b[0m\n",
            "\u001b[0;32m/usr/local/lib/python3.10/dist-packages/tensorflow/python/eager/polymorphic_function/polymorphic_function.py\u001b[0m in \u001b[0;36m_call\u001b[0;34m(self, *args, **kwds)\u001b[0m\n\u001b[1;32m    866\u001b[0m       \u001b[0;31m# In this case we have created variables on the first call, so we run the\u001b[0m\u001b[0;34m\u001b[0m\u001b[0;34m\u001b[0m\u001b[0m\n\u001b[1;32m    867\u001b[0m       \u001b[0;31m# defunned version which is guaranteed to never create variables.\u001b[0m\u001b[0;34m\u001b[0m\u001b[0;34m\u001b[0m\u001b[0m\n\u001b[0;32m--> 868\u001b[0;31m       return tracing_compilation.call_function(\n\u001b[0m\u001b[1;32m    869\u001b[0m           \u001b[0margs\u001b[0m\u001b[0;34m,\u001b[0m \u001b[0mkwds\u001b[0m\u001b[0;34m,\u001b[0m \u001b[0mself\u001b[0m\u001b[0;34m.\u001b[0m\u001b[0m_no_variable_creation_config\u001b[0m\u001b[0;34m\u001b[0m\u001b[0;34m\u001b[0m\u001b[0m\n\u001b[1;32m    870\u001b[0m       )\n",
            "\u001b[0;32m/usr/local/lib/python3.10/dist-packages/tensorflow/python/eager/polymorphic_function/tracing_compilation.py\u001b[0m in \u001b[0;36mcall_function\u001b[0;34m(args, kwargs, tracing_options)\u001b[0m\n\u001b[1;32m    137\u001b[0m   \u001b[0mbound_args\u001b[0m \u001b[0;34m=\u001b[0m \u001b[0mfunction\u001b[0m\u001b[0;34m.\u001b[0m\u001b[0mfunction_type\u001b[0m\u001b[0;34m.\u001b[0m\u001b[0mbind\u001b[0m\u001b[0;34m(\u001b[0m\u001b[0;34m*\u001b[0m\u001b[0margs\u001b[0m\u001b[0;34m,\u001b[0m \u001b[0;34m**\u001b[0m\u001b[0mkwargs\u001b[0m\u001b[0;34m)\u001b[0m\u001b[0;34m\u001b[0m\u001b[0;34m\u001b[0m\u001b[0m\n\u001b[1;32m    138\u001b[0m   \u001b[0mflat_inputs\u001b[0m \u001b[0;34m=\u001b[0m \u001b[0mfunction\u001b[0m\u001b[0;34m.\u001b[0m\u001b[0mfunction_type\u001b[0m\u001b[0;34m.\u001b[0m\u001b[0munpack_inputs\u001b[0m\u001b[0;34m(\u001b[0m\u001b[0mbound_args\u001b[0m\u001b[0;34m)\u001b[0m\u001b[0;34m\u001b[0m\u001b[0;34m\u001b[0m\u001b[0m\n\u001b[0;32m--> 139\u001b[0;31m   return function._call_flat(  # pylint: disable=protected-access\n\u001b[0m\u001b[1;32m    140\u001b[0m       \u001b[0mflat_inputs\u001b[0m\u001b[0;34m,\u001b[0m \u001b[0mcaptured_inputs\u001b[0m\u001b[0;34m=\u001b[0m\u001b[0mfunction\u001b[0m\u001b[0;34m.\u001b[0m\u001b[0mcaptured_inputs\u001b[0m\u001b[0;34m\u001b[0m\u001b[0;34m\u001b[0m\u001b[0m\n\u001b[1;32m    141\u001b[0m   )\n",
            "\u001b[0;32m/usr/local/lib/python3.10/dist-packages/tensorflow/python/eager/polymorphic_function/concrete_function.py\u001b[0m in \u001b[0;36m_call_flat\u001b[0;34m(self, tensor_inputs, captured_inputs)\u001b[0m\n\u001b[1;32m   1321\u001b[0m         and executing_eagerly):\n\u001b[1;32m   1322\u001b[0m       \u001b[0;31m# No tape is watching; skip to running the function.\u001b[0m\u001b[0;34m\u001b[0m\u001b[0;34m\u001b[0m\u001b[0m\n\u001b[0;32m-> 1323\u001b[0;31m       \u001b[0;32mreturn\u001b[0m \u001b[0mself\u001b[0m\u001b[0;34m.\u001b[0m\u001b[0m_inference_function\u001b[0m\u001b[0;34m.\u001b[0m\u001b[0mcall_preflattened\u001b[0m\u001b[0;34m(\u001b[0m\u001b[0margs\u001b[0m\u001b[0;34m)\u001b[0m\u001b[0;34m\u001b[0m\u001b[0;34m\u001b[0m\u001b[0m\n\u001b[0m\u001b[1;32m   1324\u001b[0m     forward_backward = self._select_forward_and_backward_functions(\n\u001b[1;32m   1325\u001b[0m         \u001b[0margs\u001b[0m\u001b[0;34m,\u001b[0m\u001b[0;34m\u001b[0m\u001b[0;34m\u001b[0m\u001b[0m\n",
            "\u001b[0;32m/usr/local/lib/python3.10/dist-packages/tensorflow/python/eager/polymorphic_function/atomic_function.py\u001b[0m in \u001b[0;36mcall_preflattened\u001b[0;34m(self, args)\u001b[0m\n\u001b[1;32m    214\u001b[0m   \u001b[0;32mdef\u001b[0m \u001b[0mcall_preflattened\u001b[0m\u001b[0;34m(\u001b[0m\u001b[0mself\u001b[0m\u001b[0;34m,\u001b[0m \u001b[0margs\u001b[0m\u001b[0;34m:\u001b[0m \u001b[0mSequence\u001b[0m\u001b[0;34m[\u001b[0m\u001b[0mcore\u001b[0m\u001b[0;34m.\u001b[0m\u001b[0mTensor\u001b[0m\u001b[0;34m]\u001b[0m\u001b[0;34m)\u001b[0m \u001b[0;34m->\u001b[0m \u001b[0mAny\u001b[0m\u001b[0;34m:\u001b[0m\u001b[0;34m\u001b[0m\u001b[0;34m\u001b[0m\u001b[0m\n\u001b[1;32m    215\u001b[0m     \u001b[0;34m\"\"\"Calls with flattened tensor inputs and returns the structured output.\"\"\"\u001b[0m\u001b[0;34m\u001b[0m\u001b[0;34m\u001b[0m\u001b[0m\n\u001b[0;32m--> 216\u001b[0;31m     \u001b[0mflat_outputs\u001b[0m \u001b[0;34m=\u001b[0m \u001b[0mself\u001b[0m\u001b[0;34m.\u001b[0m\u001b[0mcall_flat\u001b[0m\u001b[0;34m(\u001b[0m\u001b[0;34m*\u001b[0m\u001b[0margs\u001b[0m\u001b[0;34m)\u001b[0m\u001b[0;34m\u001b[0m\u001b[0;34m\u001b[0m\u001b[0m\n\u001b[0m\u001b[1;32m    217\u001b[0m     \u001b[0;32mreturn\u001b[0m \u001b[0mself\u001b[0m\u001b[0;34m.\u001b[0m\u001b[0mfunction_type\u001b[0m\u001b[0;34m.\u001b[0m\u001b[0mpack_output\u001b[0m\u001b[0;34m(\u001b[0m\u001b[0mflat_outputs\u001b[0m\u001b[0;34m)\u001b[0m\u001b[0;34m\u001b[0m\u001b[0;34m\u001b[0m\u001b[0m\n\u001b[1;32m    218\u001b[0m \u001b[0;34m\u001b[0m\u001b[0m\n",
            "\u001b[0;32m/usr/local/lib/python3.10/dist-packages/tensorflow/python/eager/polymorphic_function/atomic_function.py\u001b[0m in \u001b[0;36mcall_flat\u001b[0;34m(self, *args)\u001b[0m\n\u001b[1;32m    249\u001b[0m         \u001b[0;32mwith\u001b[0m \u001b[0mrecord\u001b[0m\u001b[0;34m.\u001b[0m\u001b[0mstop_recording\u001b[0m\u001b[0;34m(\u001b[0m\u001b[0;34m)\u001b[0m\u001b[0;34m:\u001b[0m\u001b[0;34m\u001b[0m\u001b[0;34m\u001b[0m\u001b[0m\n\u001b[1;32m    250\u001b[0m           \u001b[0;32mif\u001b[0m \u001b[0mself\u001b[0m\u001b[0;34m.\u001b[0m\u001b[0m_bound_context\u001b[0m\u001b[0;34m.\u001b[0m\u001b[0mexecuting_eagerly\u001b[0m\u001b[0;34m(\u001b[0m\u001b[0;34m)\u001b[0m\u001b[0;34m:\u001b[0m\u001b[0;34m\u001b[0m\u001b[0;34m\u001b[0m\u001b[0m\n\u001b[0;32m--> 251\u001b[0;31m             outputs = self._bound_context.call_function(\n\u001b[0m\u001b[1;32m    252\u001b[0m                 \u001b[0mself\u001b[0m\u001b[0;34m.\u001b[0m\u001b[0mname\u001b[0m\u001b[0;34m,\u001b[0m\u001b[0;34m\u001b[0m\u001b[0;34m\u001b[0m\u001b[0m\n\u001b[1;32m    253\u001b[0m                 \u001b[0mlist\u001b[0m\u001b[0;34m(\u001b[0m\u001b[0margs\u001b[0m\u001b[0;34m)\u001b[0m\u001b[0;34m,\u001b[0m\u001b[0;34m\u001b[0m\u001b[0;34m\u001b[0m\u001b[0m\n",
            "\u001b[0;32m/usr/local/lib/python3.10/dist-packages/tensorflow/python/eager/context.py\u001b[0m in \u001b[0;36mcall_function\u001b[0;34m(self, name, tensor_inputs, num_outputs)\u001b[0m\n\u001b[1;32m   1484\u001b[0m     \u001b[0mcancellation_context\u001b[0m \u001b[0;34m=\u001b[0m \u001b[0mcancellation\u001b[0m\u001b[0;34m.\u001b[0m\u001b[0mcontext\u001b[0m\u001b[0;34m(\u001b[0m\u001b[0;34m)\u001b[0m\u001b[0;34m\u001b[0m\u001b[0;34m\u001b[0m\u001b[0m\n\u001b[1;32m   1485\u001b[0m     \u001b[0;32mif\u001b[0m \u001b[0mcancellation_context\u001b[0m \u001b[0;32mis\u001b[0m \u001b[0;32mNone\u001b[0m\u001b[0;34m:\u001b[0m\u001b[0;34m\u001b[0m\u001b[0;34m\u001b[0m\u001b[0m\n\u001b[0;32m-> 1486\u001b[0;31m       outputs = execute.execute(\n\u001b[0m\u001b[1;32m   1487\u001b[0m           \u001b[0mname\u001b[0m\u001b[0;34m.\u001b[0m\u001b[0mdecode\u001b[0m\u001b[0;34m(\u001b[0m\u001b[0;34m\"utf-8\"\u001b[0m\u001b[0;34m)\u001b[0m\u001b[0;34m,\u001b[0m\u001b[0;34m\u001b[0m\u001b[0;34m\u001b[0m\u001b[0m\n\u001b[1;32m   1488\u001b[0m           \u001b[0mnum_outputs\u001b[0m\u001b[0;34m=\u001b[0m\u001b[0mnum_outputs\u001b[0m\u001b[0;34m,\u001b[0m\u001b[0;34m\u001b[0m\u001b[0;34m\u001b[0m\u001b[0m\n",
            "\u001b[0;32m/usr/local/lib/python3.10/dist-packages/tensorflow/python/eager/execute.py\u001b[0m in \u001b[0;36mquick_execute\u001b[0;34m(op_name, num_outputs, inputs, attrs, ctx, name)\u001b[0m\n\u001b[1;32m     51\u001b[0m   \u001b[0;32mtry\u001b[0m\u001b[0;34m:\u001b[0m\u001b[0;34m\u001b[0m\u001b[0;34m\u001b[0m\u001b[0m\n\u001b[1;32m     52\u001b[0m     \u001b[0mctx\u001b[0m\u001b[0;34m.\u001b[0m\u001b[0mensure_initialized\u001b[0m\u001b[0;34m(\u001b[0m\u001b[0;34m)\u001b[0m\u001b[0;34m\u001b[0m\u001b[0;34m\u001b[0m\u001b[0m\n\u001b[0;32m---> 53\u001b[0;31m     tensors = pywrap_tfe.TFE_Py_Execute(ctx._handle, device_name, op_name,\n\u001b[0m\u001b[1;32m     54\u001b[0m                                         inputs, attrs, num_outputs)\n\u001b[1;32m     55\u001b[0m   \u001b[0;32mexcept\u001b[0m \u001b[0mcore\u001b[0m\u001b[0;34m.\u001b[0m\u001b[0m_NotOkStatusException\u001b[0m \u001b[0;32mas\u001b[0m \u001b[0me\u001b[0m\u001b[0;34m:\u001b[0m\u001b[0;34m\u001b[0m\u001b[0;34m\u001b[0m\u001b[0m\n",
            "\u001b[0;31mKeyboardInterrupt\u001b[0m: "
          ]
        }
      ]
    }
  ],
  "metadata": {
    "accelerator": "GPU",
    "colab": {
      "gpuType": "T4",
      "provenance": [],
      "include_colab_link": true
    },
    "kernelspec": {
      "display_name": "Python 3",
      "name": "python3"
    },
    "language_info": {
      "name": "python"
    }
  },
  "nbformat": 4,
  "nbformat_minor": 0
}