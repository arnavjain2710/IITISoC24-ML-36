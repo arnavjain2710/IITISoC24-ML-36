{
  "nbformat": 4,
  "nbformat_minor": 0,
  "metadata": {
    "colab": {
      "provenance": [],
      "gpuType": "T4",
      "authorship_tag": "ABX9TyNCbusafHFXWrKhtLtWMRMz",
      "include_colab_link": true
    },
    "kernelspec": {
      "name": "python3",
      "display_name": "Python 3"
    },
    "language_info": {
      "name": "python"
    },
    "accelerator": "GPU"
  },
  "cells": [
    {
      "cell_type": "markdown",
      "metadata": {
        "id": "view-in-github",
        "colab_type": "text"
      },
      "source": [
        "<a href=\"https://colab.research.google.com/github/arnavjain2710/IITISoC24-ML-36/blob/main/My_own_fine_tuned_model.ipynb\" target=\"_parent\"><img src=\"https://colab.research.google.com/assets/colab-badge.svg\" alt=\"Open In Colab\"/></a>"
      ]
    },
    {
      "cell_type": "code",
      "source": [
        "from transformers import AutoFeatureExtractor, AutoModelForAudioClassification\n",
        "import torch\n",
        "import torch.nn.functional as F\n",
        "from transformers import pipeline\n",
        "import soundfile as sf"
      ],
      "metadata": {
        "id": "Q8kfTDcLCGNv"
      },
      "execution_count": null,
      "outputs": []
    },
    {
      "cell_type": "code",
      "source": [
        "! pip install sounddevice"
      ],
      "metadata": {
        "colab": {
          "base_uri": "https://localhost:8080/"
        },
        "id": "gBAx-OwtCRFh",
        "outputId": "79ec2243-9c8d-4a66-b8ee-3e713938894f"
      },
      "execution_count": null,
      "outputs": [
        {
          "output_type": "stream",
          "name": "stdout",
          "text": [
            "Requirement already satisfied: sounddevice in /usr/local/lib/python3.10/dist-packages (0.4.7)\n",
            "Requirement already satisfied: CFFI>=1.0 in /usr/local/lib/python3.10/dist-packages (from sounddevice) (1.16.0)\n",
            "Requirement already satisfied: pycparser in /usr/local/lib/python3.10/dist-packages (from CFFI>=1.0->sounddevice) (2.22)\n",
            "\u001b[33mWARNING: Running pip as the 'root' user can result in broken permissions and conflicting behaviour with the system package manager. It is recommended to use a virtual environment instead: https://pip.pypa.io/warnings/venv\u001b[0m\u001b[33m\n",
            "\u001b[0m"
          ]
        }
      ]
    },
    {
      "cell_type": "code",
      "source": [
        "! pip install git+https://github.com/spatialaudio/python-sounddevice"
      ],
      "metadata": {
        "colab": {
          "base_uri": "https://localhost:8080/"
        },
        "id": "NNyb_XC4C_aJ",
        "outputId": "215a1979-71c0-4325-c232-9b11aa37f6cd"
      },
      "execution_count": null,
      "outputs": [
        {
          "output_type": "stream",
          "name": "stdout",
          "text": [
            "Collecting git+https://github.com/spatialaudio/python-sounddevice\n",
            "  Cloning https://github.com/spatialaudio/python-sounddevice to /tmp/pip-req-build-ris_nacf\n",
            "  Running command git clone --filter=blob:none --quiet https://github.com/spatialaudio/python-sounddevice /tmp/pip-req-build-ris_nacf\n",
            "  Resolved https://github.com/spatialaudio/python-sounddevice to commit d5b872637f8c3f9eb41609e38ebc07e0726bb331\n",
            "  Running command git submodule update --init --recursive -q\n",
            "  Installing build dependencies ... \u001b[?25l\u001b[?25hdone\n",
            "  Getting requirements to build wheel ... \u001b[?25l\u001b[?25hdone\n",
            "  Installing backend dependencies ... \u001b[?25l\u001b[?25hdone\n",
            "  Preparing metadata (pyproject.toml) ... \u001b[?25l\u001b[?25hdone\n",
            "Requirement already satisfied: CFFI>=1.0 in /usr/local/lib/python3.10/dist-packages (from sounddevice==0.4.7) (1.16.0)\n",
            "Requirement already satisfied: pycparser in /usr/local/lib/python3.10/dist-packages (from CFFI>=1.0->sounddevice==0.4.7) (2.22)\n",
            "\u001b[33mWARNING: Running pip as the 'root' user can result in broken permissions and conflicting behaviour with the system package manager. It is recommended to use a virtual environment instead: https://pip.pypa.io/warnings/venv\u001b[0m\u001b[33m\n",
            "\u001b[0m"
          ]
        }
      ]
    },
    {
      "cell_type": "code",
      "source": [
        "!apt-get install -y portaudio19-dev\n",
        "!pip install sounddevice\n"
      ],
      "metadata": {
        "colab": {
          "base_uri": "https://localhost:8080/"
        },
        "id": "p5YhSxilDBtQ",
        "outputId": "bb0cbf58-cbae-4039-fb28-684ea0bb7956"
      },
      "execution_count": null,
      "outputs": [
        {
          "output_type": "stream",
          "name": "stdout",
          "text": [
            "Reading package lists... Done\n",
            "Building dependency tree... Done\n",
            "Reading state information... Done\n",
            "The following additional packages will be installed:\n",
            "  libportaudio2 libportaudiocpp0\n",
            "Suggested packages:\n",
            "  portaudio19-doc\n",
            "The following NEW packages will be installed:\n",
            "  libportaudio2 libportaudiocpp0 portaudio19-dev\n",
            "0 upgraded, 3 newly installed, 0 to remove and 45 not upgraded.\n",
            "Need to get 188 kB of archives.\n",
            "After this operation, 927 kB of additional disk space will be used.\n",
            "Get:1 http://archive.ubuntu.com/ubuntu jammy/universe amd64 libportaudio2 amd64 19.6.0-1.1 [65.3 kB]\n",
            "Get:2 http://archive.ubuntu.com/ubuntu jammy/universe amd64 libportaudiocpp0 amd64 19.6.0-1.1 [16.1 kB]\n",
            "Get:3 http://archive.ubuntu.com/ubuntu jammy/universe amd64 portaudio19-dev amd64 19.6.0-1.1 [106 kB]\n",
            "Fetched 188 kB in 1s (167 kB/s)\n",
            "Selecting previously unselected package libportaudio2:amd64.\n",
            "(Reading database ... 121913 files and directories currently installed.)\n",
            "Preparing to unpack .../libportaudio2_19.6.0-1.1_amd64.deb ...\n",
            "Unpacking libportaudio2:amd64 (19.6.0-1.1) ...\n",
            "Selecting previously unselected package libportaudiocpp0:amd64.\n",
            "Preparing to unpack .../libportaudiocpp0_19.6.0-1.1_amd64.deb ...\n",
            "Unpacking libportaudiocpp0:amd64 (19.6.0-1.1) ...\n",
            "Selecting previously unselected package portaudio19-dev:amd64.\n",
            "Preparing to unpack .../portaudio19-dev_19.6.0-1.1_amd64.deb ...\n",
            "Unpacking portaudio19-dev:amd64 (19.6.0-1.1) ...\n",
            "Setting up libportaudio2:amd64 (19.6.0-1.1) ...\n",
            "Setting up libportaudiocpp0:amd64 (19.6.0-1.1) ...\n",
            "Setting up portaudio19-dev:amd64 (19.6.0-1.1) ...\n",
            "Processing triggers for libc-bin (2.35-0ubuntu3.4) ...\n",
            "/sbin/ldconfig.real: /usr/local/lib/libtbbmalloc.so.2 is not a symbolic link\n",
            "\n",
            "/sbin/ldconfig.real: /usr/local/lib/libtbbmalloc_proxy.so.2 is not a symbolic link\n",
            "\n",
            "/sbin/ldconfig.real: /usr/local/lib/libtbbbind_2_5.so.3 is not a symbolic link\n",
            "\n",
            "/sbin/ldconfig.real: /usr/local/lib/libtbbbind.so.3 is not a symbolic link\n",
            "\n",
            "/sbin/ldconfig.real: /usr/local/lib/libtbb.so.12 is not a symbolic link\n",
            "\n",
            "/sbin/ldconfig.real: /usr/local/lib/libtbbbind_2_0.so.3 is not a symbolic link\n",
            "\n",
            "Collecting sounddevice\n",
            "  Downloading sounddevice-0.4.7-py3-none-any.whl.metadata (1.4 kB)\n",
            "Requirement already satisfied: CFFI>=1.0 in /usr/local/lib/python3.10/dist-packages (from sounddevice) (1.16.0)\n",
            "Requirement already satisfied: pycparser in /usr/local/lib/python3.10/dist-packages (from CFFI>=1.0->sounddevice) (2.22)\n",
            "Downloading sounddevice-0.4.7-py3-none-any.whl (32 kB)\n",
            "Installing collected packages: sounddevice\n",
            "Successfully installed sounddevice-0.4.7\n",
            "\u001b[33mWARNING: Running pip as the 'root' user can result in broken permissions and conflicting behaviour with the system package manager. It is recommended to use a virtual environment instead: https://pip.pypa.io/warnings/venv\u001b[0m\u001b[33m\n",
            "\u001b[0m"
          ]
        }
      ]
    },
    {
      "cell_type": "code",
      "source": [
        "! pip install pyaudio"
      ],
      "metadata": {
        "colab": {
          "base_uri": "https://localhost:8080/"
        },
        "id": "tHUHHaXtDESJ",
        "outputId": "30bdaf47-38da-4347-e5c0-78c4d77982b5"
      },
      "execution_count": null,
      "outputs": [
        {
          "output_type": "stream",
          "name": "stdout",
          "text": [
            "Collecting pyaudio\n",
            "  Downloading PyAudio-0.2.14.tar.gz (47 kB)\n",
            "\u001b[?25l     \u001b[90m━━━━━━━━━━━━━━━━━━━━━━━━━━━━━━━━━━━━━━━━\u001b[0m \u001b[32m0.0/47.1 kB\u001b[0m \u001b[31m?\u001b[0m eta \u001b[36m-:--:--\u001b[0m\r\u001b[2K     \u001b[90m━━━━━━━━━━━━━━━━━━━━━━━━━━━━━━━━━━━━━━━━\u001b[0m \u001b[32m47.1/47.1 kB\u001b[0m \u001b[31m1.2 MB/s\u001b[0m eta \u001b[36m0:00:00\u001b[0m\n",
            "\u001b[?25h  Installing build dependencies ... \u001b[?25l\u001b[?25hdone\n",
            "  Getting requirements to build wheel ... \u001b[?25l\u001b[?25hdone\n",
            "  Preparing metadata (pyproject.toml) ... \u001b[?25l\u001b[?25hdone\n",
            "Building wheels for collected packages: pyaudio\n",
            "  \u001b[1;31merror\u001b[0m: \u001b[1msubprocess-exited-with-error\u001b[0m\n",
            "  \n",
            "  \u001b[31m×\u001b[0m \u001b[32mBuilding wheel for pyaudio \u001b[0m\u001b[1;32m(\u001b[0m\u001b[32mpyproject.toml\u001b[0m\u001b[1;32m)\u001b[0m did not run successfully.\n",
            "  \u001b[31m│\u001b[0m exit code: \u001b[1;36m1\u001b[0m\n",
            "  \u001b[31m╰─>\u001b[0m See above for output.\n",
            "  \n",
            "  \u001b[1;35mnote\u001b[0m: This error originates from a subprocess, and is likely not a problem with pip.\n",
            "  Building wheel for pyaudio (pyproject.toml) ... \u001b[?25l\u001b[?25herror\n",
            "\u001b[31m  ERROR: Failed building wheel for pyaudio\u001b[0m\u001b[31m\n",
            "\u001b[0mFailed to build pyaudio\n",
            "\u001b[31mERROR: Could not build wheels for pyaudio, which is required to install pyproject.toml-based projects\u001b[0m\u001b[31m\n",
            "\u001b[0m"
          ]
        }
      ]
    },
    {
      "cell_type": "code",
      "source": [
        "!pip install ffmpeg-python"
      ],
      "metadata": {
        "colab": {
          "base_uri": "https://localhost:8080/"
        },
        "id": "a0MNlfjIDHpR",
        "outputId": "8db8ca15-f062-40d0-9b15-1a51fbb4cead"
      },
      "execution_count": null,
      "outputs": [
        {
          "output_type": "stream",
          "name": "stdout",
          "text": [
            "Collecting ffmpeg-python\n",
            "  Downloading ffmpeg_python-0.2.0-py3-none-any.whl.metadata (1.7 kB)\n",
            "Requirement already satisfied: future in /usr/local/lib/python3.10/dist-packages (from ffmpeg-python) (0.18.3)\n",
            "Downloading ffmpeg_python-0.2.0-py3-none-any.whl (25 kB)\n",
            "Installing collected packages: ffmpeg-python\n",
            "Successfully installed ffmpeg-python-0.2.0\n",
            "\u001b[33mWARNING: Running pip as the 'root' user can result in broken permissions and conflicting behaviour with the system package manager. It is recommended to use a virtual environment instead: https://pip.pypa.io/warnings/venv\u001b[0m\u001b[33m\n",
            "\u001b[0m"
          ]
        }
      ]
    },
    {
      "cell_type": "code",
      "source": [
        "from IPython.display import HTML, display, Audio\n",
        "from google.colab.output import eval_js\n",
        "from base64 import b64decode\n",
        "import numpy as np\n",
        "from scipy.io.wavfile import write as wav_write\n",
        "from scipy.io.wavfile import read as wav_read\n",
        "import io\n",
        "import ffmpeg\n",
        "\n",
        "def get_audio():\n",
        "  display(HTML(AUDIO_HTML))\n",
        "  data = eval_js(\"data\")\n",
        "  binary = b64decode(data.split(',')[1])\n",
        "\n",
        "  process = (ffmpeg\n",
        "    .input('pipe:0')\n",
        "    .output('pipe:1', format='wav')\n",
        "    .run_async(pipe_stdin=True, pipe_stdout=True, pipe_stderr=True, quiet=True, overwrite_output=True)\n",
        "  )\n",
        "  output, err = process.communicate(input=binary)\n",
        "\n",
        "  riff_chunk_size = len(output) - 8\n",
        "  q = riff_chunk_size\n",
        "  b = []\n",
        "  for i in range(4):\n",
        "      q, r = divmod(q, 256)\n",
        "      b.append(r)\n",
        "\n",
        "  riff = output[:4] + bytes(b) + output[8:]\n",
        "  sr, audio = wav_read(io.BytesIO(riff))\n",
        "\n",
        "  # Save the audio to a file\n",
        "  wav_write('output.wav', sr, audio)\n",
        "\n",
        "  return audio, sr\n",
        "\n",
        "# Run the function to record and save audio\n",
        "audio, sr = get_audio()\n"
      ],
      "metadata": {
        "colab": {
          "base_uri": "https://localhost:8080/",
          "height": 96
        },
        "id": "H80kGDoLDKaN",
        "outputId": "a7b477a1-eb64-4748-c8eb-47b1ffa04a61"
      },
      "execution_count": null,
      "outputs": [
        {
          "output_type": "display_data",
          "data": {
            "text/plain": [
              "<IPython.core.display.HTML object>"
            ],
            "text/html": [
              "\n",
              "<script>\n",
              "var my_div = document.createElement(\"DIV\");\n",
              "var my_p = document.createElement(\"P\");\n",
              "var my_btn = document.createElement(\"BUTTON\");\n",
              "var t = document.createTextNode(\"Press to start recording\");\n",
              "\n",
              "my_btn.appendChild(t);\n",
              "my_div.appendChild(my_btn);\n",
              "document.body.appendChild(my_div);\n",
              "\n",
              "var base64data = 0;\n",
              "var reader;\n",
              "var recorder, gumStream;\n",
              "var recordButton = my_btn;\n",
              "\n",
              "var handleSuccess = function(stream) {\n",
              "  gumStream = stream;\n",
              "  var options = {\n",
              "    mimeType : 'audio/webm;codecs=opus'\n",
              "  };\n",
              "  recorder = new MediaRecorder(stream);\n",
              "  recorder.ondataavailable = function(e) {\n",
              "    var url = URL.createObjectURL(e.data);\n",
              "    var preview = document.createElement('audio');\n",
              "    preview.controls = true;\n",
              "    preview.src = url;\n",
              "    document.body.appendChild(preview);\n",
              "\n",
              "    reader = new FileReader();\n",
              "    reader.readAsDataURL(e.data);\n",
              "    reader.onloadend = function() {\n",
              "      base64data = reader.result;\n",
              "    }\n",
              "  };\n",
              "  recorder.start();\n",
              "};\n",
              "\n",
              "recordButton.innerText = \"Recording... press to stop\";\n",
              "\n",
              "navigator.mediaDevices.getUserMedia({audio: true}).then(handleSuccess);\n",
              "\n",
              "function toggleRecording() {\n",
              "  if (recorder && recorder.state == \"recording\") {\n",
              "      recorder.stop();\n",
              "      gumStream.getAudioTracks()[0].stop();\n",
              "      recordButton.innerText = \"Saving the recording... pls wait!\"\n",
              "  }\n",
              "}\n",
              "\n",
              "function sleep(ms) {\n",
              "  return new Promise(resolve => setTimeout(resolve, ms));\n",
              "}\n",
              "\n",
              "var data = new Promise(resolve=>{\n",
              "recordButton.onclick = ()=>{\n",
              "  toggleRecording()\n",
              "  sleep(2000).then(() => {\n",
              "    resolve(base64data.toString())\n",
              "  });\n",
              "}\n",
              "});\n",
              "</script>\n"
            ]
          },
          "metadata": {}
        }
      ]
    },
    {
      "cell_type": "code",
      "execution_count": null,
      "metadata": {
        "id": "ZdxeYa9L8qEA"
      },
      "outputs": [],
      "source": [
        "from transformers import AutoFeatureExtractor, AutoModelForAudioClassification\n",
        "import torch\n",
        "import torch.nn.functional as F\n",
        "from transformers import pipeline\n",
        "import soundfile as sf"
      ]
    },
    {
      "cell_type": "code",
      "source": [
        "model_name= \"VaidehiBhat007/fine_tuned_emo_classif\""
      ],
      "metadata": {
        "id": "8OxLRs-yC1Ls"
      },
      "execution_count": null,
      "outputs": []
    },
    {
      "cell_type": "code",
      "source": [
        "processor = AutoFeatureExtractor.from_pretrained(model_name)\n",
        "model = AutoModelForAudioClassification.from_pretrained(model_name)"
      ],
      "metadata": {
        "id": "-4USxtbk9WDy"
      },
      "execution_count": null,
      "outputs": []
    },
    {
      "cell_type": "code",
      "source": [
        "import scipy.io.wavfile as wav\n",
        "from scipy.signal import resample\n",
        "import numpy as np\n",
        "\n",
        "sampling_rate, data = wav.read(\"/content/output.wav\")\n",
        "\n",
        "new_sampling_rate = 16000\n",
        "\n",
        "num_samples = int(len(data) * new_sampling_rate / sampling_rate)\n",
        "\n",
        "resampled_data = resample(data, num_samples)\n",
        "\n",
        "wav.write(\"resampled_audio.wav\", new_sampling_rate, np.asarray(resampled_data, dtype=np.int16))\n"
      ],
      "metadata": {
        "id": "rHN9EdasGIVE"
      },
      "execution_count": null,
      "outputs": []
    },
    {
      "cell_type": "code",
      "source": [
        "audio_input, sampling_rate = sf.read(\"resampled_audio.wav\")\n",
        "\n",
        "inputs = processor(audio_input, sampling_rate=sampling_rate, return_tensors=\"pt\")"
      ],
      "metadata": {
        "id": "99Rv58LYAPxr"
      },
      "execution_count": null,
      "outputs": []
    },
    {
      "cell_type": "code",
      "source": [
        "with torch.no_grad():\n",
        "    outputs = model(**inputs)"
      ],
      "metadata": {
        "id": "JhHokne3AXXb"
      },
      "execution_count": null,
      "outputs": []
    },
    {
      "cell_type": "code",
      "source": [
        "predictions = torch.nn.functional.softmax(outputs.logits, dim=-1)\n",
        "predicted_labels = predictions.argmax(dim=-1)"
      ],
      "metadata": {
        "id": "cvkiiNIsAYHh"
      },
      "execution_count": null,
      "outputs": []
    },
    {
      "cell_type": "code",
      "source": [
        "print(predicted_labels)"
      ],
      "metadata": {
        "colab": {
          "base_uri": "https://localhost:8080/"
        },
        "id": "R3534twh9nLd",
        "outputId": "6d73d654-5591-449f-f53d-466ce571c71d"
      },
      "execution_count": null,
      "outputs": [
        {
          "output_type": "stream",
          "name": "stdout",
          "text": [
            "tensor([5])\n"
          ]
        }
      ]
    },
    {
      "cell_type": "code",
      "source": [
        "label=predicted_labels.item()\n",
        "if label==1:\n",
        "  predicted_emotion=\"happy\"\n",
        "elif label==2:\n",
        "  predicted_emotion=\"disgusted\"\n",
        "elif label==3:\n",
        "  predicted_emotion=\"fearful\"\n",
        "elif label==4:\n",
        "  predicted_emotion=\"sad\"\n",
        "elif label==5:\n",
        "  predicted_emotion=\"angry\"\n",
        "elif label==0:\n",
        "  predicted_emotion=\"neutral\"\n",
        "else:\n",
        "  print(\"no emotion\")"
      ],
      "metadata": {
        "id": "lhdEKstMAb7y"
      },
      "execution_count": null,
      "outputs": []
    },
    {
      "cell_type": "code",
      "source": [
        "print(f\"Predicted emotion: {predicted_emotion}\")\n"
      ],
      "metadata": {
        "colab": {
          "base_uri": "https://localhost:8080/"
        },
        "id": "1vCOCK_EAe2v",
        "outputId": "0ea1cbbe-ed18-4f73-cae6-ff820a8ae965"
      },
      "execution_count": null,
      "outputs": [
        {
          "output_type": "stream",
          "name": "stdout",
          "text": [
            "Predicted emotion: angry\n"
          ]
        }
      ]
    },
    {
      "cell_type": "code",
      "source": [
        "! pip install --upgrade pip\n",
        "! pip install --upgrade git+https://github.com/huggingface/transformers.git accelerate\n"
      ],
      "metadata": {
        "colab": {
          "base_uri": "https://localhost:8080/",
          "height": 1000
        },
        "id": "8KhxAqxkdUC2",
        "outputId": "e107c402-efb8-41a6-88c7-79b20ecc31d6"
      },
      "execution_count": null,
      "outputs": [
        {
          "output_type": "stream",
          "name": "stdout",
          "text": [
            "Requirement already satisfied: pip in /usr/local/lib/python3.10/dist-packages (23.1.2)\n",
            "Collecting pip\n",
            "  Downloading pip-24.0-py3-none-any.whl (2.1 MB)\n",
            "\u001b[2K     \u001b[90m━━━━━━━━━━━━━━━━━━━━━━━━━━━━━━━━━━━━━━━━\u001b[0m \u001b[32m2.1/2.1 MB\u001b[0m \u001b[31m10.6 MB/s\u001b[0m eta \u001b[36m0:00:00\u001b[0m\n",
            "\u001b[?25hInstalling collected packages: pip\n",
            "  Attempting uninstall: pip\n",
            "    Found existing installation: pip 23.1.2\n",
            "    Uninstalling pip-23.1.2:\n",
            "      Successfully uninstalled pip-23.1.2\n",
            "Successfully installed pip-24.0\n",
            "Collecting git+https://github.com/huggingface/transformers.git\n",
            "  Cloning https://github.com/huggingface/transformers.git to /tmp/pip-req-build-usfxfz92\n",
            "  Running command git clone --filter=blob:none --quiet https://github.com/huggingface/transformers.git /tmp/pip-req-build-usfxfz92\n",
            "  Resolved https://github.com/huggingface/transformers.git to commit 7e1c7dc8b6989d96e7c35781bccb09468b49fc5e\n",
            "  Installing build dependencies ... \u001b[?25l\u001b[?25hdone\n",
            "  Getting requirements to build wheel ... \u001b[?25l\u001b[?25hdone\n",
            "  Installing backend dependencies ... \u001b[?25l\u001b[?25hdone\n",
            "  Preparing metadata (pyproject.toml) ... \u001b[?25l\u001b[?25hdone\n",
            "Collecting accelerate\n",
            "  Downloading accelerate-0.31.0-py3-none-any.whl.metadata (19 kB)\n",
            "Requirement already satisfied: filelock in /usr/local/lib/python3.10/dist-packages (from transformers==4.42.0.dev0) (3.14.0)\n",
            "Requirement already satisfied: huggingface-hub<1.0,>=0.23.2 in /usr/local/lib/python3.10/dist-packages (from transformers==4.42.0.dev0) (0.23.3)\n",
            "Requirement already satisfied: numpy>=1.17 in /usr/local/lib/python3.10/dist-packages (from transformers==4.42.0.dev0) (1.25.2)\n",
            "Requirement already satisfied: packaging>=20.0 in /usr/local/lib/python3.10/dist-packages (from transformers==4.42.0.dev0) (24.1)\n",
            "Requirement already satisfied: pyyaml>=5.1 in /usr/local/lib/python3.10/dist-packages (from transformers==4.42.0.dev0) (6.0.1)\n",
            "Requirement already satisfied: regex!=2019.12.17 in /usr/local/lib/python3.10/dist-packages (from transformers==4.42.0.dev0) (2024.5.15)\n",
            "Requirement already satisfied: requests in /usr/local/lib/python3.10/dist-packages (from transformers==4.42.0.dev0) (2.31.0)\n",
            "Requirement already satisfied: tokenizers<0.20,>=0.19 in /usr/local/lib/python3.10/dist-packages (from transformers==4.42.0.dev0) (0.19.1)\n",
            "Requirement already satisfied: safetensors>=0.4.1 in /usr/local/lib/python3.10/dist-packages (from transformers==4.42.0.dev0) (0.4.3)\n",
            "Requirement already satisfied: tqdm>=4.27 in /usr/local/lib/python3.10/dist-packages (from transformers==4.42.0.dev0) (4.66.4)\n",
            "Requirement already satisfied: psutil in /usr/local/lib/python3.10/dist-packages (from accelerate) (5.9.5)\n",
            "Requirement already satisfied: torch>=1.10.0 in /usr/local/lib/python3.10/dist-packages (from accelerate) (2.3.0+cu121)\n",
            "Requirement already satisfied: fsspec>=2023.5.0 in /usr/local/lib/python3.10/dist-packages (from huggingface-hub<1.0,>=0.23.2->transformers==4.42.0.dev0) (2023.6.0)\n",
            "Requirement already satisfied: typing-extensions>=3.7.4.3 in /usr/local/lib/python3.10/dist-packages (from huggingface-hub<1.0,>=0.23.2->transformers==4.42.0.dev0) (4.12.2)\n",
            "Requirement already satisfied: sympy in /usr/local/lib/python3.10/dist-packages (from torch>=1.10.0->accelerate) (1.12.1)\n",
            "Requirement already satisfied: networkx in /usr/local/lib/python3.10/dist-packages (from torch>=1.10.0->accelerate) (3.3)\n",
            "Requirement already satisfied: jinja2 in /usr/local/lib/python3.10/dist-packages (from torch>=1.10.0->accelerate) (3.1.4)\n",
            "Collecting nvidia-cuda-nvrtc-cu12==12.1.105 (from torch>=1.10.0->accelerate)\n",
            "  Downloading nvidia_cuda_nvrtc_cu12-12.1.105-py3-none-manylinux1_x86_64.whl.metadata (1.5 kB)\n",
            "Collecting nvidia-cuda-runtime-cu12==12.1.105 (from torch>=1.10.0->accelerate)\n",
            "  Downloading nvidia_cuda_runtime_cu12-12.1.105-py3-none-manylinux1_x86_64.whl.metadata (1.5 kB)\n",
            "Collecting nvidia-cuda-cupti-cu12==12.1.105 (from torch>=1.10.0->accelerate)\n",
            "  Downloading nvidia_cuda_cupti_cu12-12.1.105-py3-none-manylinux1_x86_64.whl.metadata (1.6 kB)\n",
            "Collecting nvidia-cudnn-cu12==8.9.2.26 (from torch>=1.10.0->accelerate)\n",
            "  Downloading nvidia_cudnn_cu12-8.9.2.26-py3-none-manylinux1_x86_64.whl.metadata (1.6 kB)\n",
            "Collecting nvidia-cublas-cu12==12.1.3.1 (from torch>=1.10.0->accelerate)\n",
            "  Downloading nvidia_cublas_cu12-12.1.3.1-py3-none-manylinux1_x86_64.whl.metadata (1.5 kB)\n",
            "Collecting nvidia-cufft-cu12==11.0.2.54 (from torch>=1.10.0->accelerate)\n",
            "  Downloading nvidia_cufft_cu12-11.0.2.54-py3-none-manylinux1_x86_64.whl.metadata (1.5 kB)\n",
            "Collecting nvidia-curand-cu12==10.3.2.106 (from torch>=1.10.0->accelerate)\n",
            "  Downloading nvidia_curand_cu12-10.3.2.106-py3-none-manylinux1_x86_64.whl.metadata (1.5 kB)\n",
            "Collecting nvidia-cusolver-cu12==11.4.5.107 (from torch>=1.10.0->accelerate)\n",
            "  Downloading nvidia_cusolver_cu12-11.4.5.107-py3-none-manylinux1_x86_64.whl.metadata (1.6 kB)\n",
            "Collecting nvidia-cusparse-cu12==12.1.0.106 (from torch>=1.10.0->accelerate)\n",
            "  Downloading nvidia_cusparse_cu12-12.1.0.106-py3-none-manylinux1_x86_64.whl.metadata (1.6 kB)\n",
            "Collecting nvidia-nccl-cu12==2.20.5 (from torch>=1.10.0->accelerate)\n",
            "  Downloading nvidia_nccl_cu12-2.20.5-py3-none-manylinux2014_x86_64.whl.metadata (1.8 kB)\n",
            "Collecting nvidia-nvtx-cu12==12.1.105 (from torch>=1.10.0->accelerate)\n",
            "  Downloading nvidia_nvtx_cu12-12.1.105-py3-none-manylinux1_x86_64.whl.metadata (1.7 kB)\n",
            "Requirement already satisfied: triton==2.3.0 in /usr/local/lib/python3.10/dist-packages (from torch>=1.10.0->accelerate) (2.3.0)\n",
            "Collecting nvidia-nvjitlink-cu12 (from nvidia-cusolver-cu12==11.4.5.107->torch>=1.10.0->accelerate)\n",
            "  Downloading nvidia_nvjitlink_cu12-12.5.40-py3-none-manylinux2014_x86_64.whl.metadata (1.5 kB)\n",
            "Requirement already satisfied: charset-normalizer<4,>=2 in /usr/local/lib/python3.10/dist-packages (from requests->transformers==4.42.0.dev0) (3.3.2)\n",
            "Requirement already satisfied: idna<4,>=2.5 in /usr/local/lib/python3.10/dist-packages (from requests->transformers==4.42.0.dev0) (3.7)\n",
            "Requirement already satisfied: urllib3<3,>=1.21.1 in /usr/local/lib/python3.10/dist-packages (from requests->transformers==4.42.0.dev0) (2.0.7)\n",
            "Requirement already satisfied: certifi>=2017.4.17 in /usr/local/lib/python3.10/dist-packages (from requests->transformers==4.42.0.dev0) (2024.6.2)\n",
            "Requirement already satisfied: MarkupSafe>=2.0 in /usr/local/lib/python3.10/dist-packages (from jinja2->torch>=1.10.0->accelerate) (2.1.5)\n",
            "Requirement already satisfied: mpmath<1.4.0,>=1.1.0 in /usr/local/lib/python3.10/dist-packages (from sympy->torch>=1.10.0->accelerate) (1.3.0)\n",
            "Downloading accelerate-0.31.0-py3-none-any.whl (309 kB)\n",
            "\u001b[2K   \u001b[90m━━━━━━━━━━━━━━━━━━━━━━━━━━━━━━━━━━━━━━━━\u001b[0m \u001b[32m309.4/309.4 kB\u001b[0m \u001b[31m12.0 MB/s\u001b[0m eta \u001b[36m0:00:00\u001b[0m\n",
            "\u001b[?25hDownloading nvidia_cublas_cu12-12.1.3.1-py3-none-manylinux1_x86_64.whl (410.6 MB)\n",
            "\u001b[2K   \u001b[90m━━━━━━━━━━━━━━━━━━━━━━━━━━━━━━━━━━━━━━━━\u001b[0m \u001b[32m410.6/410.6 MB\u001b[0m \u001b[31m3.6 MB/s\u001b[0m eta \u001b[36m0:00:00\u001b[0m\n",
            "\u001b[?25hDownloading nvidia_cuda_cupti_cu12-12.1.105-py3-none-manylinux1_x86_64.whl (14.1 MB)\n",
            "\u001b[2K   \u001b[90m━━━━━━━━━━━━━━━━━━━━━━━━━━━━━━━━━━━━━━━━\u001b[0m \u001b[32m14.1/14.1 MB\u001b[0m \u001b[31m71.1 MB/s\u001b[0m eta \u001b[36m0:00:00\u001b[0m\n",
            "\u001b[?25hDownloading nvidia_cuda_nvrtc_cu12-12.1.105-py3-none-manylinux1_x86_64.whl (23.7 MB)\n",
            "\u001b[2K   \u001b[90m━━━━━━━━━━━━━━━━━━━━━━━━━━━━━━━━━━━━━━━━\u001b[0m \u001b[32m23.7/23.7 MB\u001b[0m \u001b[31m58.1 MB/s\u001b[0m eta \u001b[36m0:00:00\u001b[0m\n",
            "\u001b[?25hDownloading nvidia_cuda_runtime_cu12-12.1.105-py3-none-manylinux1_x86_64.whl (823 kB)\n",
            "\u001b[2K   \u001b[90m━━━━━━━━━━━━━━━━━━━━━━━━━━━━━━━━━━━━━━━━\u001b[0m \u001b[32m823.6/823.6 kB\u001b[0m \u001b[31m37.4 MB/s\u001b[0m eta \u001b[36m0:00:00\u001b[0m\n",
            "\u001b[?25hDownloading nvidia_cudnn_cu12-8.9.2.26-py3-none-manylinux1_x86_64.whl (731.7 MB)\n",
            "\u001b[2K   \u001b[90m━━━━━━━━━━━━━━━━━━━━━━━━━━━━━━━━━━━━━━━━\u001b[0m \u001b[32m731.7/731.7 MB\u001b[0m \u001b[31m1.1 MB/s\u001b[0m eta \u001b[36m0:00:00\u001b[0m\n",
            "\u001b[?25hDownloading nvidia_cufft_cu12-11.0.2.54-py3-none-manylinux1_x86_64.whl (121.6 MB)\n",
            "\u001b[2K   \u001b[90m━━━━━━━━━━━━━━━━━━━━━━━━━━━━━━━━━━━━━━━━\u001b[0m \u001b[32m121.6/121.6 MB\u001b[0m \u001b[31m7.7 MB/s\u001b[0m eta \u001b[36m0:00:00\u001b[0m\n",
            "\u001b[?25hDownloading nvidia_curand_cu12-10.3.2.106-py3-none-manylinux1_x86_64.whl (56.5 MB)\n",
            "\u001b[2K   \u001b[90m━━━━━━━━━━━━━━━━━━━━━━━━━━━━━━━━━━━━━━━━\u001b[0m \u001b[32m56.5/56.5 MB\u001b[0m \u001b[31m11.0 MB/s\u001b[0m eta \u001b[36m0:00:00\u001b[0m\n",
            "\u001b[?25hDownloading nvidia_cusolver_cu12-11.4.5.107-py3-none-manylinux1_x86_64.whl (124.2 MB)\n",
            "\u001b[2K   \u001b[90m━━━━━━━━━━━━━━━━━━━━━━━━━━━━━━━━━━━━━━━━\u001b[0m \u001b[32m124.2/124.2 MB\u001b[0m \u001b[31m8.4 MB/s\u001b[0m eta \u001b[36m0:00:00\u001b[0m\n",
            "\u001b[?25hDownloading nvidia_cusparse_cu12-12.1.0.106-py3-none-manylinux1_x86_64.whl (196.0 MB)\n",
            "\u001b[2K   \u001b[90m━━━━━━━━━━━━━━━━━━━━━━━━━━━━━━━━━━━━━━━━\u001b[0m \u001b[32m196.0/196.0 MB\u001b[0m \u001b[31m6.4 MB/s\u001b[0m eta \u001b[36m0:00:00\u001b[0m\n",
            "\u001b[?25hDownloading nvidia_nccl_cu12-2.20.5-py3-none-manylinux2014_x86_64.whl (176.2 MB)\n",
            "\u001b[2K   \u001b[90m━━━━━━━━━━━━━━━━━━━━━━━━━━━━━━━━━━━━━━━━\u001b[0m \u001b[32m176.2/176.2 MB\u001b[0m \u001b[31m6.0 MB/s\u001b[0m eta \u001b[36m0:00:00\u001b[0m\n",
            "\u001b[?25hDownloading nvidia_nvtx_cu12-12.1.105-py3-none-manylinux1_x86_64.whl (99 kB)\n",
            "\u001b[2K   \u001b[90m━━━━━━━━━━━━━━━━━━━━━━━━━━━━━━━━━━━━━━━━\u001b[0m \u001b[32m99.1/99.1 kB\u001b[0m \u001b[31m7.9 MB/s\u001b[0m eta \u001b[36m0:00:00\u001b[0m\n",
            "\u001b[?25hDownloading nvidia_nvjitlink_cu12-12.5.40-py3-none-manylinux2014_x86_64.whl (21.3 MB)\n",
            "\u001b[2K   \u001b[90m━━━━━━━━━━━━━━━━━━━━━━━━━━━━━━━━━━━━━━━━\u001b[0m \u001b[32m21.3/21.3 MB\u001b[0m \u001b[31m40.0 MB/s\u001b[0m eta \u001b[36m0:00:00\u001b[0m\n",
            "\u001b[?25hBuilding wheels for collected packages: transformers\n",
            "  Building wheel for transformers (pyproject.toml) ... \u001b[?25l\u001b[?25hdone\n",
            "  Created wheel for transformers: filename=transformers-4.42.0.dev0-py3-none-any.whl size=9161304 sha256=923f02e2782c1526b95c65a03ec5af9002b28f0bf0a55939f871fcc020c57734\n",
            "  Stored in directory: /tmp/pip-ephem-wheel-cache-bj2utjq7/wheels/e7/9c/5b/e1a9c8007c343041e61cc484433d512ea9274272e3fcbe7c16\n",
            "Successfully built transformers\n",
            "Installing collected packages: nvidia-nvtx-cu12, nvidia-nvjitlink-cu12, nvidia-nccl-cu12, nvidia-curand-cu12, nvidia-cufft-cu12, nvidia-cuda-runtime-cu12, nvidia-cuda-nvrtc-cu12, nvidia-cuda-cupti-cu12, nvidia-cublas-cu12, nvidia-cusparse-cu12, nvidia-cudnn-cu12, nvidia-cusolver-cu12, transformers, accelerate\n",
            "  Attempting uninstall: transformers\n",
            "    Found existing installation: transformers 4.41.2\n",
            "    Uninstalling transformers-4.41.2:\n",
            "      Successfully uninstalled transformers-4.41.2\n",
            "Successfully installed accelerate-0.31.0 nvidia-cublas-cu12-12.1.3.1 nvidia-cuda-cupti-cu12-12.1.105 nvidia-cuda-nvrtc-cu12-12.1.105 nvidia-cuda-runtime-cu12-12.1.105 nvidia-cudnn-cu12-8.9.2.26 nvidia-cufft-cu12-11.0.2.54 nvidia-curand-cu12-10.3.2.106 nvidia-cusolver-cu12-11.4.5.107 nvidia-cusparse-cu12-12.1.0.106 nvidia-nccl-cu12-2.20.5 nvidia-nvjitlink-cu12-12.5.40 nvidia-nvtx-cu12-12.1.105 transformers-4.42.0.dev0\n",
            "\u001b[33mWARNING: Running pip as the 'root' user can result in broken permissions and conflicting behaviour with the system package manager. It is recommended to use a virtual environment instead: https://pip.pypa.io/warnings/venv\u001b[0m\u001b[33m\n",
            "\u001b[0m"
          ]
        },
        {
          "output_type": "display_data",
          "data": {
            "application/vnd.colab-display-data+json": {
              "pip_warning": {
                "packages": [
                  "transformers"
                ]
              },
              "id": "dfd204c0b4964b9ba75ca21b19697796"
            }
          },
          "metadata": {}
        }
      ]
    },
    {
      "cell_type": "code",
      "source": [
        "import torch\n",
        "from transformers import AutoModelForSpeechSeq2Seq, AutoProcessor, pipeline\n",
        "#from datasets import load_dataset\n",
        "\n",
        "\n",
        "device = \"cuda:0\" if torch.cuda.is_available() else \"cpu\"\n",
        "torch_dtype = torch.float16 if torch.cuda.is_available() else torch.float32\n",
        "\n",
        "model_id = \"openai/whisper-large-v3\"\n",
        "\n",
        "model = AutoModelForSpeechSeq2Seq.from_pretrained(\n",
        "    model_id, torch_dtype=torch_dtype, low_cpu_mem_usage=True, use_safetensors=True\n",
        ")\n",
        "model.to(device)\n",
        "\n",
        "processor = AutoProcessor.from_pretrained(model_id)\n",
        "\n",
        "pipe = pipeline(\n",
        "    \"automatic-speech-recognition\",\n",
        "    model=model,\n",
        "    tokenizer=processor.tokenizer,\n",
        "    feature_extractor=processor.feature_extractor,\n",
        "    max_new_tokens=128,\n",
        "    chunk_length_s=30,\n",
        "    batch_size=16,\n",
        "    return_timestamps=True,\n",
        "    torch_dtype=torch_dtype,\n",
        "    device=device,\n",
        ")\n",
        "\n",
        "'''dataset = load_dataset(\"distil-whisper/librispeech_long\", \"clean\", split=\"validation\")\n",
        "sample = dataset[0][\"audio\"]\n",
        "\n",
        "result = pipe(sample)\n",
        "print(result[\"text\"])'''\n"
      ],
      "metadata": {
        "colab": {
          "base_uri": "https://localhost:8080/",
          "height": 90
        },
        "id": "KxrezF0_fgVX",
        "outputId": "c1805215-f483-4b27-b29d-9aaf0e8c96ba"
      },
      "execution_count": null,
      "outputs": [
        {
          "output_type": "stream",
          "name": "stderr",
          "text": [
            "Special tokens have been added in the vocabulary, make sure the associated word embeddings are fine-tuned or trained.\n"
          ]
        },
        {
          "output_type": "execute_result",
          "data": {
            "text/plain": [
              "'dataset = load_dataset(\"distil-whisper/librispeech_long\", \"clean\", split=\"validation\")\\nsample = dataset[0][\"audio\"]\\n\\nresult = pipe(sample)\\nprint(result[\"text\"])'"
            ],
            "application/vnd.google.colaboratory.intrinsic+json": {
              "type": "string"
            }
          },
          "metadata": {},
          "execution_count": 80
        }
      ]
    },
    {
      "cell_type": "code",
      "source": [
        "sample1=\"/content/output.wav\"\n",
        "\n",
        "result1 = pipe(sample1)\n",
        "print(result1)\n",
        "print(result1[\"text\"])"
      ],
      "metadata": {
        "colab": {
          "base_uri": "https://localhost:8080/"
        },
        "id": "pZYzfa7ef7Tb",
        "outputId": "964117c8-689c-49aa-836a-095663f570d2"
      },
      "execution_count": null,
      "outputs": [
        {
          "output_type": "stream",
          "name": "stderr",
          "text": [
            "/usr/local/lib/python3.10/dist-packages/transformers/models/whisper/generation_whisper.py:480: FutureWarning: The input name `inputs` is deprecated. Please make sure to use `input_features` instead.\n",
            "  warnings.warn(\n"
          ]
        },
        {
          "output_type": "stream",
          "name": "stdout",
          "text": [
            "{'text': ' I got job', 'chunks': [{'timestamp': (0.0, 3.18), 'text': ' I got job'}]}\n",
            " I got job\n"
          ]
        }
      ]
    },
    {
      "cell_type": "code",
      "source": [
        "# Use a pipeline as a high-level helper\n",
        "from transformers import pipeline\n",
        "\n",
        "pipe1 = pipeline(\"text2text-generation\", model=\"facebook/blenderbot-400M-distill\")"
      ],
      "metadata": {
        "id": "pGNXRkyWgQyC"
      },
      "execution_count": null,
      "outputs": []
    },
    {
      "cell_type": "code",
      "source": [
        "result2=pipe1(\"you are a conversational assistant, you need to keep the conversation going, given a text and an emotion associated with it your task is to reply to the text, your tone suitable as a reply for the user's emotion, also clearly mention the emotion given. text: \"+ result1[\"text\"]+ \"emotion: \" + predicted_emotion )"
      ],
      "metadata": {
        "id": "CIHtlRg1idXP"
      },
      "execution_count": null,
      "outputs": []
    },
    {
      "cell_type": "code",
      "source": [
        "print(result2)"
      ],
      "metadata": {
        "colab": {
          "base_uri": "https://localhost:8080/"
        },
        "id": "k_bW0AAIirFe",
        "outputId": "95673a29-2b81-4c3f-d655-52a1cc9be045"
      },
      "execution_count": null,
      "outputs": [
        {
          "output_type": "stream",
          "name": "stdout",
          "text": [
            "[{'generated_text': ' I am sorry to hear that, I hope you can find a way to work through it.'}]\n"
          ]
        }
      ]
    },
    {
      "cell_type": "code",
      "source": [
        "print(result2[0]['generated_text'])"
      ],
      "metadata": {
        "colab": {
          "base_uri": "https://localhost:8080/"
        },
        "id": "XOzhmswNDvcP",
        "outputId": "6f1265f6-9401-4094-9d1a-3eaa556ef156"
      },
      "execution_count": null,
      "outputs": [
        {
          "output_type": "stream",
          "name": "stdout",
          "text": [
            " That's great! I'm glad to hear that you are happy with your appointment!\n"
          ]
        }
      ]
    },
    {
      "cell_type": "code",
      "source": [
        "to_audio=result2[0]['generated_text']"
      ],
      "metadata": {
        "id": "Gvccc_TLD8GB"
      },
      "execution_count": null,
      "outputs": []
    },
    {
      "cell_type": "code",
      "source": [
        "\n",
        "! pip install sentencepiece\n"
      ],
      "metadata": {
        "colab": {
          "base_uri": "https://localhost:8080/"
        },
        "id": "HPW7tUNlDeQq",
        "outputId": "9122d72b-0e99-4599-db04-f06ee026b16b"
      },
      "execution_count": null,
      "outputs": [
        {
          "output_type": "stream",
          "name": "stdout",
          "text": [
            "Requirement already satisfied: sentencepiece in /usr/local/lib/python3.10/dist-packages (0.1.99)\n",
            "\u001b[33mWARNING: Running pip as the 'root' user can result in broken permissions and conflicting behaviour with the system package manager. It is recommended to use a virtual environment instead: https://pip.pypa.io/warnings/venv\u001b[0m\u001b[33m\n",
            "\u001b[0m"
          ]
        }
      ]
    },
    {
      "cell_type": "code",
      "source": [
        "from transformers import pipeline\n",
        "#from datasets import load_dataset\n",
        "import soundfile as sf\n",
        "\n",
        "synthesiser = pipeline(\"text-to-speech\", \"microsoft/speecht5_tts\")\n",
        "\n",
        "speaker_embedding = torch.randn(1, 512)\n",
        "# You can replace this embedding with your own as well.\n",
        "\n",
        "speech = synthesiser(to_audio, forward_params={\"speaker_embeddings\": speaker_embedding})\n",
        "\n",
        "sf.write(\"speech.wav\", speech[\"audio\"], samplerate=speech[\"sampling_rate\"])\n"
      ],
      "metadata": {
        "id": "f-vo58qIDj_g"
      },
      "execution_count": null,
      "outputs": []
    },
    {
      "cell_type": "code",
      "source": [
        "import librosa\n",
        "import IPython.display as ipd\n",
        "file_path = '/content/speech.wav'\n",
        "speech, sr = librosa.load(file_path, sr=None)\n",
        "\n",
        "# Display the audio player\n",
        "ipd.Audio(speech, rate=sr)"
      ],
      "metadata": {
        "colab": {
          "base_uri": "https://localhost:8080/",
          "height": 75
        },
        "id": "FoF47TxkEofj",
        "outputId": "03ef1b5e-29e1-454c-bac0-d63b8dbeba31"
      },
      "execution_count": null,
      "outputs": [
        {
          "output_type": "execute_result",
          "data": {
            "text/plain": [
              "<IPython.lib.display.Audio object>"
            ],
            "text/html": [
              "\n",
              "                <audio  controls=\"controls\" >\n",
              "                    <source src=\"data:audio/wav;base64,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\" type=\"audio/wav\" />\n",
              "                    Your browser does not support the audio element.\n",
              "                </audio>\n",
              "              "
            ]
          },
          "metadata": {},
          "execution_count": 90
        }
      ]
    }
  ]
}